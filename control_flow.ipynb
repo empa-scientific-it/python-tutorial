{
 "cells": [
  {
   "cell_type": "markdown",
   "id": "7b94b1cb-e169-46b4-a002-ca28fcc86401",
   "metadata": {},
   "source": [
    "# Control flow"
   ]
  },
  {
   "cell_type": "markdown",
   "id": "5e5bb08a-2045-411b-8792-8cb255e9f066",
   "metadata": {},
   "source": [
    "## References"
   ]
  },
  {
   "cell_type": "markdown",
   "id": "d79e417f-e04a-4f44-a2da-0759a5f845cf",
   "metadata": {},
   "source": [
    "- [Conditionals](https://www.py4e.com/html3/03-conditional)\n",
    "- [Loops and iterations](https://www.py4e.com/html3/05-iterations)"
   ]
  },
  {
   "cell_type": "markdown",
   "id": "74f5fff2-1321-49c3-aaa5-0151bb87fced",
   "metadata": {},
   "source": [
    "## Conditionals: `if`, `elif`, `else`"
   ]
  },
  {
   "cell_type": "markdown",
   "id": "086bd853-ed18-4d16-8a34-44675faa860c",
   "metadata": {},
   "source": [
    "## The `while` loop"
   ]
  },
  {
   "cell_type": "markdown",
   "id": "e65e1c2d-5835-4e30-bfc5-3a3dbe489350",
   "metadata": {},
   "source": [
    "## Altering loops with `break` and `continue`"
   ]
  },
  {
   "cell_type": "markdown",
   "id": "542fdbf1-d9e5-4f71-baac-e66899c99292",
   "metadata": {},
   "source": [
    "## The `try...except` block"
   ]
  },
  {
   "cell_type": "markdown",
   "id": "96aaf8c7-3c4b-4547-8f62-cf49f840159b",
   "metadata": {},
   "source": [
    "## The `for` loop"
   ]
  },
  {
   "cell_type": "markdown",
   "id": "2b2eac3c-c83d-482b-975b-7b7787206310",
   "metadata": {},
   "source": [
    "In Python, an **iterable** is an **object** capable of returning its members one at a time. It's not stricly a \"container\" or a \"collection\", like lists or tuples. It's an object with this particular property. We can also create custom objects that can become iterable.\n",
    "\n",
    "Many objects in Python are iterable: lists, strings, `range()` objects, file objects and many more.\n",
    "\n",
    "The main purpose of the `for` keyword is to access all the elements of an iterable."
   ]
  },
  {
   "cell_type": "markdown",
   "id": "fd11a026-1d83-437c-8a41-263ed76ed764",
   "metadata": {},
   "source": [
    "In other languages (C++, Java or JavaScript), a `for` loop is more similar to `while` in Python. For example, the C++ loop\n",
    "\n",
    "```cpp\n",
    "for (unsigned int i = 0; i < 10; ++i) {\n",
    "    std::cout << i << std::endl;\n",
    "}\n",
    "```\n",
    "\n",
    "could be translated to Python with\n",
    "\n",
    "```python\n",
    "i = 0\n",
    "while i < 10:\n",
    "    print(i)\n",
    "    i += 1 # remember: Python does not have the prefix/postfix increment (++) operator\n",
    "```\n",
    "\n",
    "The only substantial difference with the C++ code is that the looping variable `i` is automatically discarded when the loop is over. In Python, `i` will retain the **last value** that was assigned inside the `while` body. We could do something like `i = None`, but it turns out that's not necessary.\n"
   ]
  },
  {
   "cell_type": "markdown",
   "id": "3175d392-66b2-4bca-80f9-cf3f45c3a84a",
   "metadata": {},
   "source": [
    "## Exercises"
   ]
  },
  {
   "cell_type": "markdown",
   "id": "ef9ce337-7a8b-4766-9593-28edf579fe25",
   "metadata": {
    "tags": []
   },
   "source": [
    "### Toboggan Trajectory"
   ]
  },
  {
   "cell_type": "markdown",
   "id": "ef18383f-235f-420f-9f48-f7de45c94d28",
   "metadata": {},
   "source": [
    "During a winter holidays break, your friends propose to hold a [toboggan](https://en.wikipedia.org/wiki/Toboggan) race. While inspecting the map of the place where you decided to hold the race, you realize that it could be rather dangerous as there are many trees along the slope.\n",
    "\n",
    "The following is an example of a map:\n",
    "\n",
    "```\n",
    "..##.......\n",
    "#...#...#..\n",
    ".#....#..#.\n",
    "..#.#...#.#\n",
    ".#...##..#.\n",
    "..#.##.....\n",
    ".#.#.#....#\n",
    ".#........#\n",
    "#.##...#...\n",
    "#...##....#\n",
    ".#..#...#.#\n",
    "```\n",
    "\n",
    "A `#` character indicates the position of a tree. These aren't the only trees though, because the map extends **on the right** many times. Your toboggan is an old model which can only follow certain paths with fixed steps **down** and **right**.\n",
    "\n",
    "You start at the top-left and check the position that is **right 3 and down 1**. Then, check the position that is right 3 and down 1 from there, and so on until you go past the bottom of the map."
   ]
  },
  {
   "cell_type": "markdown",
   "id": "3a4a6a1e-79d0-4ac1-9821-a134dea56b19",
   "metadata": {},
   "source": [
    "#### Part 1 🌶️\n",
    "\n",
    "Your map is in the `trees.txt` file, already read in the variable below:"
   ]
  },
  {
   "cell_type": "code",
   "execution_count": null,
   "id": "8ecef284-08a1-4b04-a6e3-0cb2a4ca6026",
   "metadata": {},
   "outputs": [],
   "source": [
    "trees_map_str = open(\"exercises/control_flow/trees.txt\", \"r\").read()"
   ]
  },
  {
   "cell_type": "markdown",
   "id": "a1b89202-88f3-4758-bffe-c9026ff993d5",
   "metadata": {},
   "source": [
    "<div class=\"alert alert-block alert-warning\">\n",
    "<b>Question:</b> How many trees would you encounter during your slope?\n",
    "</div>"
   ]
  },
  {
   "cell_type": "markdown",
   "id": "5d5699be-3d72-4e31-9281-456dd5025297",
   "metadata": {},
   "source": [
    "<div class=\"alert alert-block alert-info\">\n",
    "    <b>Hint:</b> Read the trees map as a <b>nested list</b> where each <code>#</code> translates to 1 and each empty site is 0\n",
    "</div>"
   ]
  },
  {
   "cell_type": "code",
   "execution_count": null,
   "id": "c34f5fec-65ba-4149-b01e-21ce88f0b372",
   "metadata": {},
   "outputs": [],
   "source": [
    "trees_map = []\n",
    "for line in trees_map_str.splitlines():\n",
    "    # write your code here"
   ]
  },
  {
   "cell_type": "markdown",
   "id": "6c528a49-5f30-48ae-9fa5-29bd3e6ff4d7",
   "metadata": {},
   "source": [
    "<div class=\"alert alert-block alert-info\">\n",
    "    <b>Hint:</b> Define 4 variables: the position (starting at <code>[0, 0]</code>), the number of trees encountered, the X and Y dimensions of the map\n",
    "</div>"
   ]
  },
  {
   "cell_type": "code",
   "execution_count": null,
   "id": "a01ced11-d8df-4dcb-af5a-c31cc507f5b7",
   "metadata": {},
   "outputs": [],
   "source": [
    "# %%celltest\n",
    "\n",
    "pos, trees, xdim, ydim = [0, 0], # ...\n",
    "\n",
    "def solution_p1(right=3, down=1):\n",
    "    # write a loop over `trees_map`\n",
    "    # if the current location is a tree, add 1\n",
    "    # update `pos` by moving 3 right and 1 down\n",
    "    \n",
    "    return trees"
   ]
  },
  {
   "cell_type": "markdown",
   "id": "8ae69510-8756-4c24-b3ec-013fc1c9a621",
   "metadata": {},
   "source": [
    "#### Part 2 🌶️🌶️"
   ]
  },
  {
   "cell_type": "markdown",
   "id": "d632bbac-f22f-4ede-84db-f8885c27ce30",
   "metadata": {},
   "source": [
    "You check other possible slopes to see if you chose the safest one. These are all the possible slopes according to your map:\n",
    "\n",
    "- Right 1, down 1\n",
    "- Right 3, down 1 (**just checked**)\n",
    "- Right 5, down 1\n",
    "- Right 7, down 1\n",
    "- Right 1, down 2\n",
    "\n",
    "<div class=\"alert alert-block alert-warning\">\n",
    "<b>Question:</b> What do you get if you multiply together the number of trees encountered on each of the above slopes?\n",
    "</div>"
   ]
  },
  {
   "cell_type": "markdown",
   "id": "c80bdc85-4198-43fc-bf77-bc29406022e8",
   "metadata": {},
   "source": [
    "<div class=\"alert alert-block alert-info\">\n",
    "    <b>Hint:</b> Define a variable <code>slopes</code> as a list (or tuple) containing lists (or tuples) of the slopes' steps above\n",
    "</div>"
   ]
  },
  {
   "cell_type": "code",
   "execution_count": null,
   "id": "f39f7b6f-d768-4e8f-ace7-708eee7337a2",
   "metadata": {},
   "outputs": [],
   "source": [
    "# %%celltest\n",
    "\n",
    "total = 1\n",
    "\n",
    "def solution_p2(slopes):\n",
    "    for right, down in slopes:\n",
    "        solution_p1(right, down)\n",
    "        # accumulate the product in `total`\n",
    "    \n",
    "    return total"
   ]
  },
  {
   "cell_type": "markdown",
   "id": "a525630b-3cae-4d3b-810e-4439616edb3e",
   "metadata": {
    "tags": []
   },
   "source": [
    "### Handy Haversacks"
   ]
  },
  {
   "cell_type": "markdown",
   "id": "0ccd45d9-c2dc-4a81-b1ea-27d4cbe2c426",
   "metadata": {},
   "source": [
    "You are just arrived at Eldoria City Airport, excited to be soon boarding your holiday flight. Unfortunately, you discover that all flights have been delayed due to issue in **luggage processing**.\n",
    "\n",
    "Each bag and their contents must follow the new aviation regulations. Bags must be color-coded and must contain specific quantities of other color-coded bags. Since nobody resposible for these rules considered how long they would take, they ask for your help.\n",
    "\n",
    "The rules are like the following example:\n",
    "\n",
    "```\n",
    "neon pink bags contain 1 dark purple bag, 2 light lavender bags.\n",
    "hot pink bags contain 3 dark purple bags, 4 light lavender bags.\n",
    "dark purple bags contain 1 shiny gold bag.\n",
    "light lavender bags contain 2 shiny gold bags, 9 emerald green bags.\n",
    "shiny gold bags contain 1 forest green bag, 2 royal purple bags.\n",
    "forest green bags contain 3 emerald green bags, 4 midnight blue bags.\n",
    "royal purple bags contain 5 emerald green bags, 6 midnight blue bags.\n",
    "emerald green bags contain no other bags.\n",
    "midnight blue bags contain no other bags.\n",
    "```\n",
    "\n",
    "Here there are **9 bag types** and they required content. For example, every `forest green` bag contains 7 bags: 3 `emerald green` bags and 4 `midnight blue` bags.\n",
    "\n",
    "If you have a shiny gold bag and you want to place it inside at least one other bag, how many different bag colors can be used for the outermost bag?\n",
    "\n",
    "In the above examples, you would have the following options:\n",
    "\n",
    "- A `dark purple` or a `light lavender` bag can hold your `shiny gold` bag directly (and possibly other bags too)\n",
    "- A `hot pink` bag can hold `dark purple` and `light lavender` bags, either of which could hold your `shiny gold` bag\n",
    "- A `neon pink` bag can similarly hold `dark purple` and `light lavender`\n",
    "\n",
    "Eventually, you have at least **4 bag colors** that can containt at least one `shiny gold`."
   ]
  },
  {
   "cell_type": "markdown",
   "id": "04a5d259-c5b5-45ce-9103-ecd3ad2f649e",
   "metadata": {},
   "source": [
    "Your input is the content of the file named `bags.txt` stored as a **multi-line string** in the following variable"
   ]
  },
  {
   "cell_type": "code",
   "execution_count": 1,
   "id": "d6d83249-4176-481f-97d1-da4b2f0a243e",
   "metadata": {
    "tags": []
   },
   "outputs": [],
   "source": [
    "bags_rules = open(\"exercises/control_flow/bags.txt\", \"r\").read()"
   ]
  },
  {
   "cell_type": "markdown",
   "id": "1c60626c-e22a-4bf5-924d-7b1c1a2ef3d7",
   "metadata": {},
   "source": [
    "<div class=\"alert alert-block alert-warning\">\n",
    "    <b>Question:</b> How many bag colors can eventually contain <strong>at least</strong> one <code>shiny gold</code> bag?\n",
    "</div>"
   ]
  },
  {
   "cell_type": "markdown",
   "id": "5b9dec50-013a-486f-bd54-d6d99cf54262",
   "metadata": {},
   "source": [
    "<div class=\"alert alert-block alert-info\">\n",
    "    <b>Hints:</b>\n",
    "    <ul>\n",
    "        <li>Complete the <code>parse_bags()</code> below (We'll see how to write functions in details.)</li>\n",
    "        <li>Complete the <code>parse()</code></li>\n",
    "    </ul>\n",
    "</div>"
   ]
  },
  {
   "cell_type": "markdown",
   "id": "91a06f22-6b0f-43a4-9d57-7f2a1bab97f3",
   "metadata": {},
   "source": [
    "First, implement the missing parts of the code below. This is a function that reads **a single rule** and returns a certain bag and its content"
   ]
  },
  {
   "cell_type": "code",
   "execution_count": null,
   "id": "f24725a7-c4ed-4e59-a1ad-452d4781515d",
   "metadata": {},
   "outputs": [],
   "source": [
    "def parse_bags(line):\n",
    "    \"\"\"Parse a single line\"\"\"\n",
    "    bag_color, contents_str = # split the line at 'bags contain'\n",
    "    contents = # split `content_str` at ', '\n",
    "    \n",
    "    contents_dict = {}\n",
    "    # write a loop over `contents`\n",
    "    # if a bag is empty, skip the iteration\n",
    "    # count, adj, color = content.split(\" \")\n",
    "        bag_name = adj + \" \" + color\n",
    "        contents_dict[bag_name] = # add the number of bags of this type\n",
    "    \n",
    "    return bag_color, contents_dict"
   ]
  },
  {
   "cell_type": "markdown",
   "id": "895ff537-467b-4027-a009-a6f95a0b6e3a",
   "metadata": {},
   "source": [
    "Next, complete the code to process **all the rules** in your input"
   ]
  },
  {
   "cell_type": "code",
   "execution_count": null,
   "id": "8a640b0e-1858-408a-9e5b-a762780f59ca",
   "metadata": {},
   "outputs": [],
   "source": [
    "def parse_rules(bag_rules):\n",
    "    \"\"\"Parse all the rules\"\"\"\n",
    "    lines = # split `bag_rules` as a list of strings\n",
    "    bags = []\n",
    "    # write a loop over `lines`\n",
    "        bags.append(parse_bags(line))\n",
    "    \n",
    "    return dict(bags)"
   ]
  },
  {
   "cell_type": "code",
   "execution_count": null,
   "id": "33071c34-e161-42e4-b8a5-ed05b72ada41",
   "metadata": {},
   "outputs": [],
   "source": [
    "bags = parse_rules(bags_rules)"
   ]
  },
  {
   "cell_type": "markdown",
   "id": "bd780a24-d6f5-4456-8516-b4f424c30e0f",
   "metadata": {},
   "source": [
    "Last, fill in the code below. This is the most important part"
   ]
  },
  {
   "cell_type": "code",
   "execution_count": null,
   "id": "c658af3f-4715-49c9-a59c-12ff2b080646",
   "metadata": {},
   "outputs": [],
   "source": [
    "def bag_contains(outer_bag, inner_bag):\n",
    "    \"\"\"Return `True` if `outer_bag` contains `inner_bag`\"\"\"\n",
    "    # write here your code"
   ]
  },
  {
   "cell_type": "code",
   "execution_count": null,
   "id": "012f4e0f-351b-458d-9254-a996307a5c71",
   "metadata": {},
   "outputs": [],
   "source": [
    "%%celltest solution test_cf.HandyHaversacks\n",
    "\n",
    "def solution(bags):\n",
    "    shiny_gold = 0\n",
    "    \n",
    "    # write a loop over `bags`\n",
    "    # if a bag contains a \"shiny gold\" bag, then increment the variable\n",
    "            \n",
    "    return shiny_gold"
   ]
  }
 ],
 "metadata": {
  "kernelspec": {
   "display_name": "Python 3 (ipykernel)",
   "language": "python",
   "name": "python3"
  },
  "language_info": {
   "codemirror_mode": {
    "name": "ipython",
    "version": 3
   },
   "file_extension": ".py",
   "mimetype": "text/x-python",
   "name": "python",
   "nbconvert_exporter": "python",
   "pygments_lexer": "ipython3",
   "version": "3.11.0"
  }
 },
 "nbformat": 4,
 "nbformat_minor": 5
}
