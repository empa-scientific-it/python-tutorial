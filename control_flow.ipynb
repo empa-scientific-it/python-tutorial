{
 "cells": [
  {
   "cell_type": "markdown",
   "id": "7b94b1cb-e169-46b4-a002-ca28fcc86401",
   "metadata": {},
   "source": [
    "# Control flow"
   ]
  },
  {
   "cell_type": "markdown",
   "id": "5e5bb08a-2045-411b-8792-8cb255e9f066",
   "metadata": {},
   "source": [
    "## References"
   ]
  },
  {
   "cell_type": "markdown",
   "id": "d79e417f-e04a-4f44-a2da-0759a5f845cf",
   "metadata": {},
   "source": [
    "From \"Python 4 Everybody\" online tutorial:\n",
    "\n",
    "- [Conditionals](https://www.py4e.com/html3/03-conditional)\n",
    "- [Loops and iterations](https://www.py4e.com/html3/05-iterations)"
   ]
  },
  {
   "cell_type": "markdown",
   "id": "74f5fff2-1321-49c3-aaa5-0151bb87fced",
   "metadata": {
    "tags": []
   },
   "source": [
    "## Conditionals: `if`, `elif`, `else`"
   ]
  },
  {
   "cell_type": "markdown",
   "id": "086bd853-ed18-4d16-8a34-44675faa860c",
   "metadata": {},
   "source": [
    "## The `while` loop"
   ]
  },
  {
   "cell_type": "markdown",
   "id": "e65e1c2d-5835-4e30-bfc5-3a3dbe489350",
   "metadata": {},
   "source": [
    "## Altering loops with `break` and `continue`"
   ]
  },
  {
   "cell_type": "markdown",
   "id": "542fdbf1-d9e5-4f71-baac-e66899c99292",
   "metadata": {},
   "source": [
    "## The `try...except` block"
   ]
  },
  {
   "cell_type": "markdown",
   "id": "96aaf8c7-3c4b-4547-8f62-cf49f840159b",
   "metadata": {},
   "source": [
    "## The `for` loop"
   ]
  },
  {
   "cell_type": "markdown",
   "id": "2b2eac3c-c83d-482b-975b-7b7787206310",
   "metadata": {},
   "source": [
    "In Python, an **iterable** is an **object** capable of returning its members one at a time. It's not stricly a \"container\" or a \"collection\", like lists or tuples. It's an object with this particular property. We can also create custom objects that can become iterable.\n",
    "\n",
    "Many objects in Python are iterable: lists, strings, `range()` objects, file objects and many more.\n",
    "\n",
    "The main purpose of the `for` keyword is to access all the elements of an iterable."
   ]
  },
  {
   "cell_type": "markdown",
   "id": "fd11a026-1d83-437c-8a41-263ed76ed764",
   "metadata": {},
   "source": [
    "In other languages (C++, Java or JavaScript), a `for` loop is more similar to `while` in Python. For example, the C++ loop\n",
    "\n",
    "```cpp\n",
    "for (unsigned int i = 0; i < 10; ++i) {\n",
    "    std::cout << i << std::endl;\n",
    "}\n",
    "```\n",
    "\n",
    "could be translated to Python with\n",
    "\n",
    "```python\n",
    "i = 0\n",
    "while i < 10:\n",
    "    print(i)\n",
    "    i += 1 # remember: Python does not have the prefix/postfix increment (++) operator\n",
    "```\n",
    "\n",
    "The only substantial difference with the C++ code is that the looping variable `i` is automatically discarded when the loop is over. In Python, `i` will retain the **last value** that was assigned inside the `while` body. We could do something like `i = None`, but it turns out that's not necessary.\n"
   ]
  },
  {
   "cell_type": "markdown",
   "id": "3175d392-66b2-4bca-80f9-cf3f45c3a84a",
   "metadata": {},
   "source": [
    "# Exercises"
   ]
  },
  {
   "cell_type": "code",
   "execution_count": null,
   "id": "b834570f-965c-4440-9c6e-d713f680c82b",
   "metadata": {
    "tags": []
   },
   "outputs": [],
   "source": [
    "%reload_ext tutorial.tests.testsuite\n",
    "\n",
    "import pathlib"
   ]
  },
  {
   "cell_type": "markdown",
   "id": "ef9ce337-7a8b-4766-9593-28edf579fe25",
   "metadata": {
    "tags": []
   },
   "source": [
    "## Toboggan Trajectory"
   ]
  },
  {
   "cell_type": "markdown",
   "id": "ef18383f-235f-420f-9f48-f7de45c94d28",
   "metadata": {},
   "source": [
    "During a winter holidays break, your friends propose to hold a [toboggan](https://en.wikipedia.org/wiki/Toboggan) race. While inspecting the map of the place where you decided to hold the race, you realize that it could be rather dangerous as there are many trees along the slope.\n",
    "\n",
    "The following is an example of a map:\n",
    "\n",
    "```\n",
    "..##.......\n",
    "#...#...#..\n",
    ".#....#..#.\n",
    "..#.#...#.#\n",
    ".#...##..#.\n",
    "..#.##.....\n",
    ".#.#.#....#\n",
    ".#........#\n",
    "#.##...#...\n",
    "#...##....#\n",
    ".#..#...#.#\n",
    "```\n",
    "\n",
    "A `#` character indicates the position of a tree. These aren't the only trees though, because the map extends **on the right** many times. Your toboggan is an old model which can only follow certain paths with fixed steps **down** and **right**.\n",
    "\n",
    "You start at the top-left and check the position that is **right 3 and down 1**. Then, check the position that is right 3 and down 1 from there, and so on until you go past the bottom of the map."
   ]
  },
  {
   "cell_type": "markdown",
   "id": "3a4a6a1e-79d0-4ac1-9821-a134dea56b19",
   "metadata": {},
   "source": [
    "#### Part 1 🌶️"
   ]
  },
  {
   "cell_type": "markdown",
   "id": "a1b89202-88f3-4758-bffe-c9026ff993d5",
   "metadata": {},
   "source": [
    "<b>Question:</b> How many trees would you encounter during your slope?"
   ]
  },
  {
   "cell_type": "markdown",
   "id": "5d5699be-3d72-4e31-9281-456dd5025297",
   "metadata": {},
   "source": [
    "<em>Hint 1:</em> Read the trees map as a <b>nested list</b> where each <code>#</code> translates to 1 and each empty site is 0"
   ]
  },
  {
   "cell_type": "markdown",
   "id": "6c528a49-5f30-48ae-9fa5-29bd3e6ff4d7",
   "metadata": {},
   "source": [
    "*Hint 2:* Define **4 variables**: the position (starting at <code>[0, 0]</code>), the number of trees encountered, the X and Y dimensions of the map"
   ]
  },
  {
   "cell_type": "code",
   "execution_count": null,
   "id": "a01ced11-d8df-4dcb-af5a-c31cc507f5b7",
   "metadata": {},
   "outputs": [],
   "source": [
    "%%ipytest\n",
    "\n",
    "trees_map_str = pathlib.Path(\"tutorial/tests/data/trees_1.txt\").read_text()\n",
    "\n",
    "trees_map = []\n",
    "\n",
    "for line in trees_map_str.splitlines():\n",
    "    row = []\n",
    "    for position in line:\n",
    "        # TODO\n",
    "        # For each position, add 1 to `row` if you meet a '#', 0 otherwise\n",
    "    # TODO\n",
    "    # add `row` to the `trees_map` list\n",
    "\n",
    "\n",
    "def solution_toboggan_p1(trees_map, right=3, down=1):\n",
    "    \"\"\"\n",
    "    Complete your solution with the given hints\n",
    "    \"\"\"     \n",
    "    pos = [0, 0]\n",
    "    trees = # TODO\n",
    "    x_dim = len(trees_map)\n",
    "    y_dim = len(trees_map[0])\n",
    "\n",
    "    # Hints:\n",
    "    #   - write a loop until you reach the bottom of the map\n",
    "    #   - if the current location is a tree, add 1 to `trees`\n",
    "    #   - update `pos` by moving 3 right and 1 down\n",
    "    \n",
    "    return trees"
   ]
  },
  {
   "cell_type": "markdown",
   "id": "8ae69510-8756-4c24-b3ec-013fc1c9a621",
   "metadata": {
    "tags": []
   },
   "source": [
    "#### Part 2 🌶️🌶️"
   ]
  },
  {
   "cell_type": "markdown",
   "id": "d632bbac-f22f-4ede-84db-f8885c27ce30",
   "metadata": {},
   "source": [
    "You check other possible slopes to see if you chose the safest one. These are all the possible slopes according to your map:\n",
    "\n",
    "- Right 1, down 1\n",
    "- Right 3, down 1 (**just checked**)\n",
    "- Right 5, down 1\n",
    "- Right 7, down 1\n",
    "- Right 1, down 2\n",
    "\n",
    "<b>Question:</b> What do you get if you multiply together the number of trees encountered on each of the above slopes?"
   ]
  },
  {
   "cell_type": "markdown",
   "id": "c80bdc85-4198-43fc-bf77-bc29406022e8",
   "metadata": {},
   "source": [
    "<em>Hint:</em> Define a variable <code>slopes</code> as a list (or tuple) containing lists (or tuples) of the slopes' steps above"
   ]
  },
  {
   "cell_type": "code",
   "execution_count": null,
   "id": "f39f7b6f-d768-4e8f-ace7-708eee7337a2",
   "metadata": {},
   "outputs": [],
   "source": [
    "%%ipytest\n",
    "\n",
    "slopes = ((3, 1), ) # TODO\n",
    "\n",
    "def solution_toboggan_p2(trees_map, slopes):\n",
    "    total = 1\n",
    "    for right, down in slopes:\n",
    "        # TODO\n",
    "        # use your solution of Part 1 to calculate the trees for a given slope\n",
    "        # accumulate the product in `total`\n",
    "    \n",
    "    return total"
   ]
  }
 ],
 "metadata": {
  "kernelspec": {
   "display_name": "Python 3 (ipykernel)",
   "language": "python",
   "name": "python3"
  },
  "language_info": {
   "codemirror_mode": {
    "name": "ipython",
    "version": 3
   },
   "file_extension": ".py",
   "mimetype": "text/x-python",
   "name": "python",
   "nbconvert_exporter": "python",
   "pygments_lexer": "ipython3",
   "version": "3.11.0"
  }
 },
 "nbformat": 4,
 "nbformat_minor": 5
}
