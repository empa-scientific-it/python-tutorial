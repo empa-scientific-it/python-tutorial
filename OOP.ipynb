{
 "cells": [
  {
   "cell_type": "markdown",
   "id": "6805e1bf-0da6-4ee5-9a1a-a2c2cd56fa9f",
   "metadata": {},
   "source": [
    "# Object-oriented Programming"
   ]
  },
  {
   "cell_type": "markdown",
   "id": "c7bce9ed-50a7-45e2-a741-799ec2a8d8c0",
   "metadata": {},
   "source": [
    "## References"
   ]
  },
  {
   "cell_type": "code",
   "execution_count": null,
   "id": "06ee13d8-6875-426f-ab5a-1833aeab9fe7",
   "metadata": {},
   "outputs": [],
   "source": []
  }
 ],
 "metadata": {
  "jupytext": {
   "formats": "ipynb,md"
  },
  "kernelspec": {
   "display_name": "Python 3 (ipykernel)",
   "language": "python",
   "name": "python3"
  },
  "language_info": {
   "codemirror_mode": {
    "name": "ipython",
    "version": 3
   },
   "file_extension": ".py",
   "mimetype": "text/x-python",
   "name": "python",
   "nbconvert_exporter": "python",
   "pygments_lexer": "ipython3",
   "version": "3.11.0"
  }
 },
 "nbformat": 4,
 "nbformat_minor": 5
}
