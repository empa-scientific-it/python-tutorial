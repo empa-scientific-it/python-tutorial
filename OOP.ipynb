{
 "cells": [
  {
   "cell_type": "markdown",
   "id": "6805e1bf-0da6-4ee5-9a1a-a2c2cd56fa9f",
   "metadata": {},
   "source": [
    "# Object-oriented Programming"
   ]
  },
  {
   "cell_type": "markdown",
   "id": "c7bce9ed-50a7-45e2-a741-799ec2a8d8c0",
   "metadata": {},
   "source": [
    "## References"
   ]
  },
  {
   "cell_type": "code",
   "execution_count": null,
   "id": "06ee13d8-6875-426f-ab5a-1833aeab9fe7",
   "metadata": {},
   "outputs": [],
   "source": []
  },
  {
   "cell_type": "markdown",
   "id": "e1c92732-f58c-4afa-9212-ae8231784725",
   "metadata": {},
   "source": [
    "## Exercises"
   ]
  },
  {
   "cell_type": "markdown",
   "id": "eb68bac1-4538-4c3b-83d4-9663b99b2e46",
   "metadata": {
    "tags": []
   },
   "source": [
    "### Undefined exercise 🌶️"
   ]
  },
  {
   "cell_type": "markdown",
   "id": "cae6c7ea-ecf3-46e9-81f7-9f83705507d3",
   "metadata": {},
   "source": [
    "Should the easiest of the three..."
   ]
  },
  {
   "cell_type": "markdown",
   "id": "419b5378-ff17-4ed3-8203-97c132918cb7",
   "metadata": {
    "tags": []
   },
   "source": [
    "### Intcode computer 🌶️🌶️"
   ]
  },
  {
   "cell_type": "markdown",
   "id": "ce95cc4a-9dc4-4da5-b906-9ab3a85fda5e",
   "metadata": {},
   "source": [
    "An **Intcode program** is a list of integers separated by commas (e.g. `1, 0, 0, 3, 99`). The first number is called \"position `0`\". Each number represents either an **opcode** or a **position**.\n",
    "\n",
    "An opcode indicates what to do and it's either `1`, `2`, or `99`. The meaning of each opcode is the following:\n",
    "\n",
    "1. `99` means that the program should immediately terminate. No instruction will be executed after encountering this opcode;\n",
    "\n",
    "2. `1` **adds** together numbers read from **two positions** and stores the result in a **third position**. The three integers **immediately after** the opcode indicates these three positions. For example, the Intcode program `1,10,20,30` should be executed as: read the values at positions `10` and `20`, add those values, and the overwrite the value at position `30`.\n",
    "\n",
    "3. `2` works exactly like opcode `1`, but it **multiplies** the two inputs instead of adding them. Again, the three integers following the opcode indicates **where** the inputs and outputs are, not their **values**\n",
    "\n",
    "Finally, when the program is done with an opcode, it moves to the next one by stepping **forward 4 positions**.\n",
    "\n",
    "For example, consider the following program\n",
    "\n",
    "```\n",
    "1,9,10,3,2,3,11,0,99,30,40,50\n",
    "```\n",
    "\n",
    "which can be splitted into multiple lines to indicate the 4 instructions (opcodes):\n",
    "\n",
    "```\n",
    "1,9,10,3,\n",
    "2,3,11,0,\n",
    "99,\n",
    "30,40,50\n",
    "```\n",
    "\n",
    "The first line represents the **sum** (opcode `1`) of the values stored at positions `9` (that is `30`) and `10` (that is `40`). The result (`70`) is then stored at position `3`. Afterward, the program becomes:\n",
    "\n",
    "```\n",
    "1,9,10,70,\n",
    "2,3,11,0,\n",
    "99,\n",
    "30,40,50\n",
    "```\n",
    "\n",
    "Stepping forward by 4 positions, we end up on the second line, which represents a **multiplication** operation (opcode `2`). Take the values at positions `3` and `11`, multiply them, and save the result at position `0`. You obtain:\n",
    "\n",
    "```\n",
    "3500,9,10,70,\n",
    "2,3,11,0,\n",
    "99,\n",
    "30,40,50\n",
    "```\n",
    "\n",
    "Your input program is the following string"
   ]
  },
  {
   "cell_type": "code",
   "execution_count": null,
   "id": "792b0bdf-7c0f-4c23-94db-f720cf226bb8",
   "metadata": {},
   "outputs": [],
   "source": [
    "intcode_program = \"1,12,2,3,1,1,2,3,1,3,4,3,1,5,0,3,2,13,1,19,1,9,19,23,2,23,13,27,1,27,9,31,2,31,6,35,1,5,35,39,1,10,39,43,2,43,6,47,1,10,47,51,2,6,51,55,1,5,55,59,1,59,9,63,1,13,63,67,2,6,67,71,1,5,71,75,2,6,75,79,2,79,6,83,1,13,83,87,1,9,87,91,1,9,91,95,1,5,95,99,1,5,99,103,2,13,103,107,1,6,107,111,1,9,111,115,2,6,115,119,1,13,119,123,1,123,6,127,1,127,5,131,2,10,131,135,2,135,10,139,1,13,139,143,1,10,143,147,1,2,147,151,1,6,151,0,99,2,14,0,0\""
   ]
  },
  {
   "cell_type": "markdown",
   "id": "b2f287fe-0d6b-4a42-89e5-d331f502d91c",
   "metadata": {},
   "source": [
    "<div class=\"alert alert-block alert-warning\">\n",
    "<b>Question:</b> What value is left at position <code>0</code> after the program stops?\n",
    "</div>"
   ]
  },
  {
   "cell_type": "markdown",
   "id": "9ac11838-bcd1-4c7a-82e4-e89bc719f2c2",
   "metadata": {},
   "source": [
    "Here are the initial and final states of a few small programs:\n",
    "\n",
    "- `1,0,0,0,99` becomes `2,0,0,0,99`, so the value at `0` is `2`\n",
    "- `2,3,0,3,99` becomes `2,3,0,6,99` (value at `0` is `2`)\n",
    "- `1,1,1,4,99,5,6,0,99` becomes `30,1,1,4,2,5,6,0,99` (value at `0` is `30`)"
   ]
  },
  {
   "cell_type": "markdown",
   "id": "1793c96c-0690-4c1f-8dda-72ed924497ca",
   "metadata": {},
   "source": [
    "<div class=\"alert alert-block alert-info\">\n",
    "<b>Hint:</b> Write a Python class called <code>Computer</code> with a method called <code>run()</code>. <br>The class <code>__init__()</code> method should process your input string and assign the attribute <code>program</code>, which should be a <b>list</b> of integers. \n",
    "</div>"
   ]
  },
  {
   "cell_type": "markdown",
   "id": "a75e854c-235c-4534-9d0b-cf15436b9bce",
   "metadata": {},
   "source": [
    "<div class=\"alert alert-block alert-info\">\n",
    "    <b>Hint:</b> Make sure that your Intcode computer <b>correctly</b> returns the above test programs.\n",
    "</div>"
   ]
  },
  {
   "cell_type": "markdown",
   "id": "09ef6028-b6a6-4f79-a418-bce3e3e3f60f",
   "metadata": {
    "tags": []
   },
   "source": [
    "### The N-body problem 🌶️🌶️🌶️🌶️"
   ]
  }
 ],
 "metadata": {
  "jupytext": {
   "formats": "ipynb,md"
  },
  "kernelspec": {
   "display_name": "Python 3 (ipykernel)",
   "language": "python",
   "name": "python3"
  },
  "language_info": {
   "codemirror_mode": {
    "name": "ipython",
    "version": 3
   },
   "file_extension": ".py",
   "mimetype": "text/x-python",
   "name": "python",
   "nbconvert_exporter": "python",
   "pygments_lexer": "ipython3",
   "version": "3.11.0"
  }
 },
 "nbformat": 4,
 "nbformat_minor": 5
}
