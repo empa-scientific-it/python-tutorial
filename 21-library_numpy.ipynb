{
 "cells": [
  {
   "cell_type": "markdown",
   "id": "a0a945ae-7c8d-4b48-892a-46d0ecd4faf3",
   "metadata": {},
   "source": [
    "# NumPy"
   ]
  },
  {
   "cell_type": "markdown",
   "id": "e7e3d3be",
   "metadata": {},
   "source": [
    "# Table of Contents\n",
    "  - [NumPy](#NumPy)\n",
    "  - [Table of Contents](#Table-of-Contents)\n",
    "  - [References](#References)\n",
    "  - [Introduction](#Introduction)\n",
    "    - [Why NumPy?](#Why-NumPy?)\n",
    "    - [What is the catch?](#What-is-the-catch?)\n",
    "    - [What is NumPy?](#What-is-NumPy?)\n",
    "  - [NumPy vocabulary](#NumPy-vocabulary)\n",
    "  - [`ndarray` - the core of NumPy](#ndarray---the-core-of-NumPy)\n",
    "    - [Creating an `ndarray`](#Creating-an-ndarray)\n",
    "    - [Exercises on creating an `ndarray`](#Exercises-on-creating-an-ndarray)\n",
    "    - [Specify the data type](#Specify-the-data-type)\n",
    "    - [Exercises on specifying the data type.](#Exercises-on-specifying-the-data-type.)\n",
    "    - [Indexing, slicing, and iterating](#Indexing,-slicing,-and-iterating)\n",
    "    - [Exercises on indexing, slicing, and iterating](#Exercises-on-indexing,-slicing,-and-iterating)\n",
    "    - [Other useful attributes of `ndarray`](#Other-useful-attributes-of-ndarray)\n",
    "    - [Useful methods of `ndarray`](#Useful-methods-of-ndarray)\n",
    "      - [The `axis` argument.](#The-axis-argument.)\n",
    "  - [Vectorized operations](#Vectorized-operations)\n",
    "    - [Arithmetic operations](#Arithmetic-operations)\n",
    "    - [Comparison operators](#Comparison-operators)\n",
    "      - [Use comparison operators in `if` statements.](#Use-comparison-operators-in-if-statements.)\n",
    "    - [Vectorized operations with scalars](#Vectorized-operations-with-scalars)\n",
    "    - [Mathematical functions](#Mathematical-functions)\n",
    "    - [Exercises on vectorized operations](#Exercises-on-vectorized-operations)\n",
    "  - [NumPy routines](#NumPy-routines)\n",
    "    - [Numerical integrals and derivatives](#Numerical-integrals-and-derivatives)\n",
    "    - [2D functions](#2D-functions)\n",
    "    - [meshgrid](#meshgrid)\n",
    "    - [Compute gradients of a 2D function](#Compute-gradients-of-a-2D-function)\n",
    "    - [Linear algebra](#Linear-algebra)\n",
    "      - [Matrix multiplication](#Matrix-multiplication)\n",
    "      - [System of linear equations](#System-of-linear-equations)\n",
    "      - [Finding eigenvalues and eigenvectors](#Finding-eigenvalues-and-eigenvectors)\n",
    "    - [Exercises on NumPy routines](#Exercises-on-NumPy-routines)\n",
    "  - [Advanced indexing](#Advanced-indexing)\n",
    "    - [Indexing with an array of integers](#Indexing-with-an-array-of-integers)\n",
    "    - [Indexing and assigning values](#Indexing-and-assigning-values)\n",
    "    - [Indexing with boolean arrays](#Indexing-with-boolean-arrays)\n",
    "  - [Broadcasting](#Broadcasting)\n",
    "    - [Simple example](#Simple-example)\n",
    "    - [Second example: adding dimensions](#Second-example:-adding-dimensions)\n",
    "  - [Exercises](#Exercises)\n",
    "    - [Sum numbers from 0 to 10000 🌶️](#Sum-numbers-from-0-to-10000-🌶️)\n",
    "    - [Investigate a mathematical function 🌶️🌶️:](#Investigate-a-mathematical-function-🌶️🌶️:)\n",
    "    - [Exercise flower petal 🌶️🌶️🌶️:](#Exercise-flower-petal-🌶️🌶️🌶️:)"
   ]
  },
  {
   "cell_type": "markdown",
   "id": "4cc4d35b",
   "metadata": {},
   "source": [
    "# References\n",
    "\n",
    "* Various sources from the [official website](https://numpy.org/learn/)."
   ]
  },
  {
   "cell_type": "markdown",
   "id": "1b5051a4",
   "metadata": {},
   "source": [
    "# Introduction"
   ]
  },
  {
   "cell_type": "markdown",
   "id": "5afe42d5",
   "metadata": {},
   "source": [
    "## Why NumPy?\n",
    "\n",
    "The primary reason why we need NumPy because we are unhappy with the performance of Python lists.\n",
    "Python lists are very flexible, but they are very slow to process.\n",
    "In fact, they are so slow that we cannot use them for large datasets, so we can say that without an extension, Python is not a good choice for scientific computing.\n",
    "\n",
    "NumPy provides such an extension to Python that is both fast and efficient.\n",
    "\n",
    "One might ask, how is NumPy so fast if it is written in Python?\n",
    "The answer is - NumPy is not (entirely) written in Python.\n",
    "The core of numpy is written in C, which is a very fast language - you can check it out [on GitHub](https://github.com/numpy/numpy) by scrolling down to the \"Languages\" section.\n",
    "The C code is then wrapped in Python, which makes it easy to use.\n",
    "\n",
    "The second reason why we need NumPy is that it provides a lot of functions that are useful for scientific computing which are not available directly in Python.\n",
    "For example, it provides functions for linear algebra, Fourier transform, and random number generation."
   ]
  },
  {
   "cell_type": "markdown",
   "id": "09dab3c6",
   "metadata": {},
   "source": [
    "## What is the catch?\n",
    "\n",
    "NumPy is fast and efficient, but it is not as flexible as Python lists.\n",
    "For example, we can store any type of data in a Python list, but we cannot do that in NumPy arrays.\n",
    "NumPy arrays can only store homogeneous data, i.e., data of the same type.\n",
    "Also, the size of a NumPy array is fixed, an attempt to change the size of an array will create a new array and delete the original one."
   ]
  },
  {
   "cell_type": "markdown",
   "id": "b3c59e7c",
   "metadata": {},
   "source": [
    "## What is NumPy?\n",
    "\n",
    "The main object in NumPy is the [`ndarray`](https://numpy.org/devdocs/reference/arrays.ndarray.html).\n",
    "It is a multidimensional container of items of the same type and size.\n",
    "Often we create NumPy arrays using the [`array()`](https://numpy.org/devdocs/reference/generated/numpy.array.html) function:\n",
    "\n",
    "```python\n",
    "import numpy as np\n",
    "\n",
    "a = np.array([1, 2, 3])\n",
    "print(a)\n",
    "```\n",
    "\n",
    "Also, numpy overloads the Python operators so that we can use them on NumPy arrays to do element-wise operations.\n",
    "For example, we can use the `+` operator to add two NumPy arrays:"
   ]
  },
  {
   "cell_type": "code",
   "execution_count": null,
   "id": "c42ef463",
   "metadata": {},
   "outputs": [],
   "source": [
    "import numpy as np\n",
    "\n",
    "# Create a 1D array\n",
    "a = np.array([1, 2, 3, 4, 5])\n",
    "b = np.array([6, 7, 8, 9, 10])\n",
    "\n",
    "# Sum of two arrays\n",
    "c = a + b\n",
    "print(c)"
   ]
  },
  {
   "cell_type": "markdown",
   "id": "70b2db88",
   "metadata": {},
   "source": [
    "Beaweare that unlike Python lists, the sum of two NumPy arrays is the sum of their corresponding elements, not their concatenation:"
   ]
  },
  {
   "cell_type": "code",
   "execution_count": null,
   "id": "20eb40af",
   "metadata": {},
   "outputs": [],
   "source": [
    "a = [1, 2, 3, 4, 5]\n",
    "b = [6, 7, 8, 9, 10]\n",
    "\n",
    "# Sum of two lists\n",
    "c = a + b\n",
    "print(c)"
   ]
  },
  {
   "cell_type": "markdown",
   "id": "9788f627",
   "metadata": {},
   "source": [
    "Also, you can use mathematical functions on NumPy arrays, and they will be applied to each element of the array.\n",
    "Such an operations are called vectorized operations, and they are much faster than using Python loops."
   ]
  },
  {
   "cell_type": "code",
   "execution_count": null,
   "id": "f408f8ad",
   "metadata": {},
   "outputs": [],
   "source": [
    "x = np.array([1, 2, 3, 4, 5])\n",
    "\n",
    "y = np.exp(x)\n",
    "\n",
    "print(y)"
   ]
  },
  {
   "cell_type": "markdown",
   "id": "5b09d588",
   "metadata": {},
   "source": [
    "Finally, NumPy provides a lot of functions that are useful for scientific computing.\n",
    "For example, it provides functions for linear algebra, Fourier transform, and random number generation."
   ]
  },
  {
   "cell_type": "code",
   "execution_count": null,
   "id": "32cc3c90",
   "metadata": {},
   "outputs": [],
   "source": [
    "# Compute the dot product of two arrays\n",
    "a = np.array([1, 2, 3, 4, 5])\n",
    "b = np.array([6, 7, 8, 9, 10])\n",
    "\n",
    "c = np.dot(a, b)\n",
    "print(f\"Dot product of a and b: {c}\")\n",
    "\n",
    "# Compute the Euclidean norm of the array\n",
    "a = np.array([3, 4])\n",
    "b = np.linalg.norm(a)\n",
    "print(f\"Length of a: {b}\")"
   ]
  },
  {
   "cell_type": "markdown",
   "id": "3c0936c2",
   "metadata": {},
   "source": [
    "Now, as got a basic idea of what NumPy is, let's dive deeper into it."
   ]
  },
  {
   "cell_type": "markdown",
   "id": "faf589d8",
   "metadata": {},
   "source": [
    "# NumPy vocabulary\n",
    "\n",
    "Instead of writing here a long list of NumPy terms, we refer you to the [official glossary](https://numpy.org/devdocs/glossary.html).\n",
    "That was a quick section, wasn't it?"
   ]
  },
  {
   "cell_type": "markdown",
   "id": "146668e2",
   "metadata": {},
   "source": [
    "# `ndarray` - the core of NumPy\n",
    "\n",
    "As we have already mentioned, the main object in NumPy is the [`ndarray`](https://numpy.org/devdocs/reference/arrays.ndarray.html).\n",
    "It is a multidimensional container of items of the same type and size.\n",
    "Let's see how we can create an `ndarray`.\n",
    "\n"
   ]
  },
  {
   "cell_type": "markdown",
   "id": "a8246904",
   "metadata": {},
   "source": [
    "## Creating an `ndarray`\n",
    "\n",
    "The most common way to create an `ndarray` is to use the [`array()`](https://numpy.org/devdocs/reference/generated/numpy.array.html) function.\n",
    "It takes a Python list as an argument and returns an `ndarray`:"
   ]
  },
  {
   "cell_type": "code",
   "execution_count": null,
   "id": "32c9a1c0",
   "metadata": {},
   "outputs": [],
   "source": [
    "python_list = [1, 2, 3, 4, 5]\n",
    "numpy_array = np.array(python_list)\n",
    "print(f\"NumPy array: {numpy_array}\")"
   ]
  },
  {
   "cell_type": "markdown",
   "id": "dde7e7e6",
   "metadata": {},
   "source": [
    "A common mistake is to pass to the `array()` function a bunch of numbers separated by commas, like this:\n"
   ]
  },
  {
   "cell_type": "code",
   "execution_count": null,
   "id": "be82d988",
   "metadata": {},
   "outputs": [],
   "source": [
    "# This will throw an error\n",
    "wrong_array = np.array(1, 2, 3, 4, 5)"
   ]
  },
  {
   "cell_type": "markdown",
   "id": "d330d8ea",
   "metadata": {},
   "source": [
    "The `array()` function can also take a list of lists as an argument."
   ]
  },
  {
   "cell_type": "code",
   "execution_count": null,
   "id": "34e851f6",
   "metadata": {},
   "outputs": [],
   "source": [
    "two_dimensional_list = [[1, 2, 3], [4, 5, 6]]\n",
    "two_dimensional_array = np.array(two_dimensional_list)\n",
    "print(f\"2D NumPy array:\\n {two_dimensional_array}\")"
   ]
  },
  {
   "cell_type": "markdown",
   "id": "e297a32e",
   "metadata": {},
   "source": [
    "It is also OK to pass a tuple instead of a list to the `array()` function:"
   ]
  },
  {
   "cell_type": "code",
   "execution_count": null,
   "id": "e35edc88",
   "metadata": {},
   "outputs": [],
   "source": [
    "python_tuple = (1, 2, 3, 4, 5)\n",
    "numpy_array = np.array(python_tuple)\n",
    "\n",
    "print(f\"NumPy array: {numpy_array}\")\n",
    "\n",
    "two_dimensional_tuple = ((1, 2, 3), (4, 5, 6))\n",
    "two_dimensional_array = np.array(two_dimensional_tuple)\n",
    "\n",
    "print(f\"2D NumPy array:\\n {two_dimensional_array}\")"
   ]
  },
  {
   "cell_type": "markdown",
   "id": "0c061eb8",
   "metadata": {},
   "source": [
    "There are several other functions that can be used to create an `ndarray`.\n",
    "Those include:\n",
    "\n",
    "* [`arange()`](https://numpy.org/devdocs/reference/generated/numpy.arange.html) - returns an array with evenly spaced elements.\n",
    "* [`linspace()`](https://numpy.org/devdocs/reference/generated/numpy.linspace.html) - returns an array with evenly spaced elements, but unlike `arange()`, it allows us to specify the number of elements instead of the step size.\n",
    "* [`zeros()`](https://numpy.org/devdocs/reference/generated/numpy.zeros.html) - returns an array of zeros.\n",
    "* [`ones()`](https://numpy.org/devdocs/reference/generated/numpy.ones.html) - returns an array of ones.\n",
    "* [`empty()`](https://numpy.org/devdocs/reference/generated/numpy.empty.html) - returns an array of uninitialized elements.\n",
    "* [`full()`](https://numpy.org/devdocs/reference/generated/numpy.full.html) - returns an array of the specified size filled with the specified value.\n",
    "* [`random()`](https://numpy.org/devdocs/reference/random/index.html) - returns an array of random values.\n",
    "\n",
    "Let's see how we can use them:"
   ]
  },
  {
   "cell_type": "code",
   "execution_count": null,
   "id": "227a7bf9",
   "metadata": {},
   "outputs": [],
   "source": [
    "# Generate an array with evenly spaced elements\n",
    "\n",
    "a = np.arange(10)\n",
    "print(f\"Array with evenly spaced elements: {a}\")\n",
    "\n",
    "\n",
    "# If we provide two arguments, the first is the start value and the second is the end value.\n",
    "\n",
    "a = np.arange(2, 10)\n",
    "print(f\"Array with evenly spaced elements starting from 2: {a}\")\n",
    "\n",
    "# If we provide three arguments, the first is the start value, the second is the end value, and the third is the step size.\n",
    "\n",
    "a = np.arange(2, 10, 2)\n",
    "print(f\"Array with evenly spaced elements starting from 2 with step size 2: {a}\")\n"
   ]
  },
  {
   "cell_type": "code",
   "execution_count": null,
   "id": "ba23e12f",
   "metadata": {},
   "outputs": [],
   "source": [
    "# Generate an array with evenly spaced numbers over a specified interval\n",
    "\n",
    "a = np.linspace(2.0, 3.0, num=5)\n",
    "print(f\"Array with evenly spaced elements over a specified interval: {a}\")"
   ]
  },
  {
   "cell_type": "code",
   "execution_count": null,
   "id": "60eccb16",
   "metadata": {},
   "outputs": [],
   "source": [
    "# Create an array of zeros.\n",
    "\n",
    "a = np.zeros(3)\n",
    "print(f\"Array of zeros with size 3: {a}\")\n",
    "\n",
    "a = np.zeros((2, 4))\n",
    "\n",
    "print(f\"2D array of zeros with size 2x4:\\n{a}\")\n"
   ]
  },
  {
   "cell_type": "markdown",
   "id": "ccfa0b88",
   "metadata": {},
   "source": [
    "## Exercises on creating an `ndarray`\n",
    "\n",
    "1. Create an array of 10 zeros.\n",
    "2. Create an array of ones with dimensions 2x3.\n",
    "3. Create an array of fives with dimensions 2x3x4."
   ]
  },
  {
   "cell_type": "code",
   "execution_count": null,
   "id": "59ac3ddb",
   "metadata": {},
   "outputs": [],
   "source": [
    "import numpy as np\n",
    "%reload_ext tutorial.tests.testsuite"
   ]
  },
  {
   "cell_type": "code",
   "execution_count": null,
   "id": "7f6299e9",
   "metadata": {},
   "outputs": [],
   "source": [
    "%%ipytest\n",
    "\n",
    "def solution_ten_zeros():\n",
    "    # Your code starts here\n",
    "    return\n",
    "    # Your code ends here"
   ]
  },
  {
   "cell_type": "code",
   "execution_count": null,
   "id": "d4a7f46f",
   "metadata": {},
   "outputs": [],
   "source": [
    "%%ipytest\n",
    "\n",
    "def solution_ones_size_two_by_three():\n",
    "    # Your code starts here\n",
    "    return\n",
    "    # Your code ends here"
   ]
  },
  {
   "cell_type": "code",
   "execution_count": null,
   "id": "7d21899b",
   "metadata": {},
   "outputs": [],
   "source": [
    "%%ipytest\n",
    "\n",
    "def solution_fives_size_two_by_three_by_four():\n",
    "    # Your code starts here\n",
    "    return\n",
    "    # Your code ends here"
   ]
  },
  {
   "cell_type": "markdown",
   "id": "2a476b08",
   "metadata": {},
   "source": [
    "## Specify the data type\n",
    "\n",
    "By default, the `array()` function will try to guess the data type of the elements in the array.\n",
    "However, we can specify the data type explicitly using the `dtype` argument.\n",
    "For example, we can create an array of integers:"
   ]
  },
  {
   "cell_type": "code",
   "execution_count": null,
   "id": "64e77b30",
   "metadata": {},
   "outputs": [],
   "source": [
    "# Here numpy will guess the data type based on the values we provide.\n",
    "array_of_integers = np.array([1, 2, 3, 4, 5])\n",
    "print(f\"The array of type({array_of_integers.dtype}) with the following values: {array_of_integers}\")\n",
    "\n",
    "# Here we explicitly specify the data type to be integers.\n",
    "array_of_integers = np.array([3.0, 4, 5.0], dtype=int)\n",
    "print(f\"The array of type({array_of_integers.dtype}) with the following values: {array_of_integers}\")"
   ]
  },
  {
   "cell_type": "markdown",
   "id": "7c03dd30",
   "metadata": {},
   "source": [
    "Here we just passed the `dtype` argument to the `array()` function and specified the data type as `int`.\n",
    "Other functions that create arrays also have the `dtype` argument, you will be able to try it out in the exercises.\n",
    "\n",
    "The `dtype` argument accepts standard Python types such as `int`, `float`, `complex`, `bool`, `object`, etc.\n",
    "It also accepts NumPy types such as `int8`, `int16`, `int32`, `int64`, `float16`, `float32`, `float64`, `complex64`, `complex128`, etc.\n",
    "More on NumPy data types can be found [here](https://numpy.org/devdocs/user/basics.types.html).\n",
    "More on data type objects can be found [here](https://numpy.org/devdocs/reference/arrays.dtypes.html)."
   ]
  },
  {
   "cell_type": "markdown",
   "id": "11fbbc70",
   "metadata": {},
   "source": [
    "## Exercises on specifying the data type.\n",
    "\n",
    "1. Create an array of 100 booleans all set to `True`.\n",
    "The array should have dimensions 2x3.\n",
    "2. Create an array of size 55 containing empty strings only."
   ]
  },
  {
   "cell_type": "code",
   "execution_count": null,
   "id": "21739566",
   "metadata": {},
   "outputs": [],
   "source": [
    "import numpy as np\n",
    "%reload_ext tutorial.tests.testsuite"
   ]
  },
  {
   "cell_type": "code",
   "execution_count": null,
   "id": "6dc8d05c",
   "metadata": {},
   "outputs": [],
   "source": [
    "%%ipytest\n",
    "\n",
    "def solution_array_of_true():\n",
    "    # Your code starts here\n",
    "    return\n",
    "    # Your code ends here"
   ]
  },
  {
   "cell_type": "code",
   "execution_count": null,
   "id": "4c9fa969",
   "metadata": {},
   "outputs": [],
   "source": [
    "%%ipytest\n",
    "\n",
    "def solution_empty_strings():\n",
    "    # Your code starts here\n",
    "    return\n",
    "    # Your code ends here"
   ]
  },
  {
   "cell_type": "markdown",
   "id": "19079568",
   "metadata": {},
   "source": [
    "## Indexing, slicing, and iterating\n",
    "\n",
    "Indexing, slicing, and iterating are very similar to Python lists.\n",
    "Let's see how we can use them on NumPy arrays.\n",
    "\n",
    "To access an element of a NumPy array, we use square brackets and pass the index of the element we want to access.\n",
    "For example, to access the first element of an array, we use the index `0`:"
   ]
  },
  {
   "cell_type": "code",
   "execution_count": null,
   "id": "85d425a5",
   "metadata": {},
   "outputs": [],
   "source": [
    "a = np.array([1, 2, 3, 4, 5])\n",
    "print(f\"The first element of the array: {a[0]}\")"
   ]
  },
  {
   "cell_type": "markdown",
   "id": "e4a99f2d",
   "metadata": {},
   "source": [
    "Unlinke Python lists, multidimensional NumPy arrays can be accessed using a tuple of indices.\n",
    "For example, to access the element in the first row and the second column of a 2D array, we use the indices `(0, 1)`:\n"
   ]
  },
  {
   "cell_type": "code",
   "execution_count": null,
   "id": "32449d62",
   "metadata": {},
   "outputs": [],
   "source": [
    "a = np.array([[1, 2, 3], [4, 5, 6]])\n",
    "print(f\"The element in first row and second column: {a[0, 1]}\")"
   ]
  },
  {
   "cell_type": "markdown",
   "id": "b04db8ff",
   "metadata": {},
   "source": [
    "The slicing syntax is similar to that of Python lists.\n",
    "For example, to get the first three elements of an array, we use the slice `0:3`, to get the last three elements, we use the slice `-3:`, to get every other element, we use the slice `::2`, etc."
   ]
  },
  {
   "cell_type": "code",
   "execution_count": null,
   "id": "46fed732",
   "metadata": {},
   "outputs": [],
   "source": [
    "# Create a 1D array\n",
    "a = np.array([0, 1, 2, 3, 4, 5])\n",
    "\n",
    "print(f\"Elements from index 1 to 3: {a[1:4]}\")\n",
    "print(f\"Elements from index 2 to the end: {a[2:]}\")\n",
    "print(f\"Elements from the start to index 3: {a[:4]}\")\n",
    "print(f\"Elements from the start to the end: {a[:]}\")\n",
    "print(f\"Last two elements: {a[-2:]}\")\n",
    "print(\"Every other element, starting at index 0: \", a[::2])\n",
    "print(\"Every other element, starting at index 1: \", a[1::2])"
   ]
  },
  {
   "cell_type": "markdown",
   "id": "30b25fca",
   "metadata": {},
   "source": [
    "The multidimensional slicing syntax is the same except that we use a tuple of slices instead of a single slice.\n",
    "The result is an overlapping subarray.\n",
    "Let's give it a try:"
   ]
  },
  {
   "cell_type": "code",
   "execution_count": null,
   "id": "6463b814",
   "metadata": {},
   "outputs": [],
   "source": [
    "# Original 2D array\n",
    "two_dimensional_array = np.array([\n",
    "    [1, 2, 3, 4, 5],\n",
    "    [6, 7, 8, 9 ,10],\n",
    "    [11, 12, 13, 14, 15],\n",
    "])\n",
    "\n",
    "print(f\"Slicing the first two rows and columns: \\n{two_dimensional_array[:2, :2]}\")\n",
    "\n",
    "three_dimensional_array = np.array([\n",
    "    [\n",
    "        [1, 2, 3, 4, 5],\n",
    "        [6, 7, 8, 9 ,10],\n",
    "        [11, 12, 13, 14, 15],\n",
    "    ],\n",
    "    [\n",
    "        [16, 17, 18, 19, 20],\n",
    "        [21, 22, 23, 24 ,25],\n",
    "        [26, 27, 28, 29, 30],\n",
    "    ],\n",
    "    [\n",
    "        [31, 32, 33, 34, 35],\n",
    "        [36, 37, 38, 39 ,40],\n",
    "        [41, 42, 43, 44, 45],\n",
    "    ],\n",
    "])\n",
    "\n",
    "print(f\"Slicing the first two rows and columns of the first matrix: \\n{three_dimensional_array[0, :2, :2]}\")"
   ]
  },
  {
   "cell_type": "markdown",
   "id": "0f397fdb",
   "metadata": {},
   "source": [
    "It is OK to perform slicing only on some of the dimensions.\n",
    "To keep the other dimensions intact, we use the `:` operator."
   ]
  },
  {
   "cell_type": "code",
   "execution_count": null,
   "id": "7573a885",
   "metadata": {},
   "outputs": [],
   "source": [
    "# Original 2D array\n",
    "two_dimensional_array = np.array([\n",
    "    [1, 2, 3, 4, 5],\n",
    "    [6, 7, 8, 9 ,10],\n",
    "    [11, 12, 13, 14, 15],\n",
    "])\n",
    "\n",
    "print(f\"Elements of the first row: {two_dimensional_array[0, :]}\")\n",
    "print(f\"Elements of the first column: {two_dimensional_array[:, 0]}\")"
   ]
  },
  {
   "cell_type": "markdown",
   "id": "bf892ff4",
   "metadata": {},
   "source": [
    "Keep in mind that the slice of an array is a view into the same data, so modifying it will modify the original array.\n",
    "This is different from Python lists, where slicing creates a copy of the original list.\n",
    "\n",
    "Such a behavior is beneficial for performance and efficiency, as it allows us to work with large datasets without copying them."
   ]
  },
  {
   "cell_type": "code",
   "execution_count": null,
   "id": "806f0923",
   "metadata": {},
   "outputs": [],
   "source": [
    "# Original 2D array\n",
    "two_dimensional_array = np.array([\n",
    "    [1, 2, 3, 4, 5],\n",
    "    [6, 7, 8, 9 ,10],\n",
    "    [11, 12, 13, 14, 15],\n",
    "])\n",
    "\n",
    "first_row = two_dimensional_array[0, :]\n",
    "\n",
    "print(f\"Elements of the first row: {first_row}\")\n",
    "\n",
    "# Update the elements of the first row\n",
    "first_row += 100\n",
    "\n",
    "print(f\"Elements of the first row after updating: {first_row}\")\n",
    "print(f\"Original array after updating: \\n{two_dimensional_array}\")\n",
    "\n"
   ]
  },
  {
   "cell_type": "markdown",
   "id": "387eaf7e",
   "metadata": {},
   "source": [
    "Iterating over a NumPy array is similar to iterating over a Python list.\n",
    "For example, we can use a `for` loop to iterate over the elements of a 1D array:"
   ]
  },
  {
   "cell_type": "code",
   "execution_count": null,
   "id": "55235f6e",
   "metadata": {},
   "outputs": [],
   "source": [
    "array = np.array([1, 2, 3, 4, 5])\n",
    "for element in array:\n",
    "    print(element)\n"
   ]
  },
  {
   "cell_type": "markdown",
   "id": "e89cd055",
   "metadata": {},
   "source": [
    "When the array is multidimensional, a for loop can be used to iterate over the first dimension of the array."
   ]
  },
  {
   "cell_type": "code",
   "execution_count": null,
   "id": "df68ecb3",
   "metadata": {},
   "outputs": [],
   "source": [
    "array = np.array([[1, 2, 3], [4, 5, 6]])\n",
    "for row in array:\n",
    "    print(row)"
   ]
  },
  {
   "cell_type": "markdown",
   "id": "451dd067",
   "metadata": {},
   "source": [
    "To iterate over each element of a multidimensional array, we can use the [`flat`](https://numpy.org/devdocs/reference/generated/numpy.ndarray.flat.html) attribute of the array."
   ]
  },
  {
   "cell_type": "code",
   "execution_count": null,
   "id": "40327d75",
   "metadata": {},
   "outputs": [],
   "source": [
    "array = np.array([[1, 2, 3], [4, 5, 6]])\n",
    "for element in array.flat:\n",
    "    print(element)"
   ]
  },
  {
   "cell_type": "markdown",
   "id": "14467a88",
   "metadata": {},
   "source": [
    "## Exercises on indexing, slicing, and iterating\n",
    "\n",
    "1. Creat a function that takes a 2D array as an argument and a number of a row. The function should return the sum of the elements in the specified row.\n",
    "2. Create a function that takes a 2D array as an argument and a number of a column. The function should return the sum of the elements in the specified column.\n",
    "3. Create a function that takes a 2D array and two numbers `k` and `j` as arguments. The function should return the numpy array of size `k`x`j` containing the elements of the original array from the first `k` rows and the first `j` columns.\n",
    "4. Create a function that takes a 2D array as an argument and returns an 2D array of the same size where each element in a row multiplied by the sum of the elements in that row."
   ]
  },
  {
   "cell_type": "code",
   "execution_count": null,
   "id": "8f12aca3",
   "metadata": {},
   "outputs": [],
   "source": [
    "%reload_ext tutorial.tests.testsuite"
   ]
  },
  {
   "cell_type": "code",
   "execution_count": null,
   "id": "3edc0b7f",
   "metadata": {},
   "outputs": [],
   "source": [
    "%%ipytest\n",
    "\n",
    "def solution_sum_of_a_row(array, n_row):\n",
    "    # Your code starts here\n",
    "    return\n",
    "    # Your code ends here"
   ]
  },
  {
   "cell_type": "code",
   "execution_count": null,
   "id": "d7c8ea28",
   "metadata": {},
   "outputs": [],
   "source": [
    "%%ipytest\n",
    "\n",
    "def solution_sum_of_a_column(array, n_column):\n",
    "    # Your code starts here\n",
    "    return\n",
    "    # Your code ends here"
   ]
  },
  {
   "cell_type": "code",
   "execution_count": null,
   "id": "1c956033",
   "metadata": {},
   "outputs": [],
   "source": [
    "%%ipytest\n",
    "\n",
    "def solution_sub_matrix(array, n_row, n_column):\n",
    "    # Your code starts here\n",
    "    return\n",
    "    # Your code ends here\n",
    "    "
   ]
  },
  {
   "cell_type": "code",
   "execution_count": null,
   "id": "cf20a779",
   "metadata": {},
   "outputs": [],
   "source": [
    "%%ipytest\n",
    "\n",
    "def solution_multiply_each_row_by_its_sum(array):\n",
    "    # Your code starts here\n",
    "    return\n",
    "    # Your code ends here"
   ]
  },
  {
   "cell_type": "markdown",
   "id": "e4f1b6ff",
   "metadata": {},
   "source": [
    "## Other useful attributes of `ndarray`\n",
    "\n",
    "The `ndarray` object has several other useful attributes.\n",
    "\n",
    "* `shape` attribute returns a tuple of integers that specify the size of each dimension of the array.\n",
    "* `ndim` attribute returns the number of dimensions of the array.\n",
    "* `size` attribute returns the total number of elements in the array.\n",
    "* `dtype` attribute returns the data type of the elements in the array.\n",
    "* `T` attribute returns a transposed view of the array.\n",
    "\n",
    "\n",
    "Let's see how we can use them:"
   ]
  },
  {
   "cell_type": "code",
   "execution_count": null,
   "id": "aca0e339",
   "metadata": {},
   "outputs": [],
   "source": [
    "array = np.array([[1, 2, 3], [4, 5, 6]])\n",
    "\n",
    "print(f\"The shape of the array: {array.shape}\")\n",
    "print(f\"The number of dimensions of the array: {array.ndim}\")\n",
    "print(f\"The total number of elements in the array: {array.size}\")\n",
    "print(f\"The data type of the elements in the array: {array.dtype}\")\n",
    "print(f\"The transpose of the array: \\n{array.T}\")"
   ]
  },
  {
   "cell_type": "markdown",
   "id": "d69b3efd",
   "metadata": {},
   "source": [
    "For more attributes of the `ndarray` object, check out the [official documentation](https://numpy.org/devdocs/reference/arrays.ndarray.html#array-attributes)."
   ]
  },
  {
   "cell_type": "markdown",
   "id": "6420b723",
   "metadata": {},
   "source": [
    "## Useful methods of `ndarray`\n",
    "\n",
    "The `ndarray` object has several useful methods.\n",
    "\n",
    "* [`all()`](https://numpy.org/devdocs/reference/generated/numpy.ndarray.all.html) method returns `True` if all elements evaluate to `True`.\n",
    "* [`any()`](https://numpy.org/devdocs/reference/generated/numpy.ndarray.any.html) method returns `True` if any element evaluates to `True`.\n",
    "* [`argmin()`](https://numpy.org/devdocs/reference/generated/numpy.ndarray.argmin.html) method returns the index of the minimum element of the array.\n",
    "* [`argmax()`](https://numpy.org/devdocs/reference/generated/numpy.ndarray.argmax.html) method returns the index of the maximum element of the array.\n",
    "* [`astype()`](https://numpy.org/devdocs/reference/generated/numpy.ndarray.astype.html) method returns a copy of the array with a different data type.\n",
    "* [`copy()`](https://numpy.org/devdocs/reference/generated/numpy.ndarray.copy.html) method returns a copy of the array.\n",
    "* [`max()`](https://numpy.org/devdocs/reference/generated/numpy.ndarray.max.html) method returns the maximum element of the array.\n",
    "* [`min()`](https://numpy.org/devdocs/reference/generated/numpy.ndarray.min.html) method returns the minimum element of the array.\n",
    "* [`mean()`](https://numpy.org/devdocs/reference/generated/numpy.ndarray.mean.html) method returns the mean of the elements of the array.\n",
    "* [`nonzero()`](https://numpy.org/devdocs/reference/generated/numpy.ndarray.nonzero.html) method returns the indices of the elements that are non-zero.\n",
    "* [`reshape()`](https://numpy.org/devdocs/reference/generated/numpy.ndarray.reshape.html) method returns a view of the array with a different shape.\n",
    "* [`ravel()`](https://numpy.org/devdocs/reference/generated/numpy.ndarray.ravel.html) or [`flatten()`](https://numpy.org/devdocs/reference/generated/numpy.ndarray.flatten.html) methods return a flattened view of the array.\n",
    "* [`sort()`](https://numpy.org/devdocs/reference/generated/numpy.ndarray.sort.html) method sorts the array.\n",
    "* [`sum()`](https://numpy.org/devdocs/reference/generated/numpy.ndarray.sum.html) method returns the sum of the elements of the array.\n",
    "* [`tolist()`](https://numpy.org/devdocs/reference/generated/numpy.ndarray.tolist.html) method returns the array as a Python list.\n",
    "\n",
    "\n",
    "and many others. For more methods of the `ndarray` object, check out the [official documentation](https://numpy.org/devdocs/reference/arrays.ndarray.html#array-methods).\n",
    "\n",
    "Let's see how we can use them:"
   ]
  },
  {
   "cell_type": "code",
   "execution_count": null,
   "id": "d30d81e0",
   "metadata": {},
   "outputs": [],
   "source": [
    "# Create several arrays\n",
    "\n",
    "all_true_array = np.ones((2, 3), dtype=bool)\n",
    "some_true_array = np.array([[True, False, True], [False, False, True]])\n",
    "all_false_array = np.zeros((2, 3), dtype=bool)\n",
    "array_of_random_integers = np.random.randint(1, 10, size=5)\n",
    "\n",
    "# Check the behavior of all() and any() methods.\n",
    "print(f\"Use all() to check if all elements of the all_true_array are True: {all_true_array.all()}\")\n",
    "print(f\"Use all() to check if all elements of the some_true_array are True: {some_true_array.all()}\")\n",
    "print(f\"Use all() to check if all elements of the all_false_array are True: {all_false_array.all()}\")\n",
    "\n",
    "print(f\"Use any() to check if any element of the all_true_array is True: {all_true_array.any()}\")\n",
    "print(f\"Use any() to check if any element of the some_true_array is True: {some_true_array.any()}\")\n",
    "print(f\"Use any() to check if any element of the all_false_array is True: {all_false_array.any()}\")\n",
    "\n",
    "# Check the behavior of argmax() and argmin() methods.\n",
    "max_index = array_of_random_integers.argmax()\n",
    "min_index = array_of_random_integers.argmin()\n",
    "print(f\"The index of the maximum element of the array_of_random_integers: {max_index} with value: {array_of_random_integers[max_index]}\")\n",
    "print(f\"The index of the minimum element of the array_of_random_integers: {min_index} with value: {array_of_random_integers[min_index]}\")\n",
    "\n",
    "# Check the behavior of the astype() method.\n",
    "as_booleans = array_of_random_integers.astype(bool)\n",
    "print(f\"The array_of_random_integers converted to boolean: {as_booleans}\")"
   ]
  },
  {
   "cell_type": "code",
   "execution_count": null,
   "id": "ce062c05",
   "metadata": {},
   "outputs": [],
   "source": [
    "## Check the behavior of the copy() method.\n",
    "array = np.array([1, 2, 3, 4, 5, 6])\n",
    "array_copy = array.copy()\n",
    "some_true_array = np.array([[True, False, True], [False, False, True]])\n",
    "array_of_random_integers = np.random.randint(1, 10, size=5)\n",
    "\n",
    "print(f\"The original array and its copy are the same: {array is array_copy}\")\n",
    "\n",
    "# Check the behavior of min() and max() methods.\n",
    "print(f\"The minimum element of the array_of_random_integers: {array_of_random_integers.min()}\")\n",
    "print(f\"The maximum element of the array_of_random_integers: {array_of_random_integers.max()}\")\n",
    "\n",
    "# Check the behavior of the mean() method.\n",
    "print(f\"The mean of the array_of_random_integers: {array_of_random_integers.mean()}\")\n",
    "\n",
    "# Check the behavior of the nonzero() method.\n",
    "print(f\"The indices of the nonzero elements of the some_true_array: {some_true_array.nonzero()}\")\n",
    "\n",
    "# Check the behavior of the reshape() method.\n",
    "reshaped_array = array.reshape(2, 3)\n",
    "print(f\"The original array: {array}\")\n",
    "print(f\"The reshaped array: {reshaped_array}\")\n",
    "\n",
    "# Check the behavior of the rave() and flatten() methods.\n",
    "raveled_array = some_true_array.ravel()\n",
    "flattened_array = some_true_array.flatten()\n",
    "print(f\"The original array: {some_true_array}\")\n",
    "print(f\"The raveled array: {raveled_array}\")\n",
    "print(f\"The flattened array: {flattened_array}\")\n",
    "\n",
    "\n",
    "# Check the behavior of the sort() method.\n",
    "print(f\"The original array before sorting: {array_of_random_integers}\")\n",
    "array_of_random_integers.sort()\n",
    "print(f\"The sorted array: {array_of_random_integers}\")\n",
    "\n",
    "# Check the behavior of the sum() method.\n",
    "print(f\"The sum of the array_of_random_integers: {array_of_random_integers.sum()}\")\n",
    "\n",
    "# Convert to a Python list\n",
    "python_list = array_of_random_integers.tolist()\n",
    "print(f\"The array_of_random_integers converted to a Python list: {python_list} ({type(python_list)})\")"
   ]
  },
  {
   "cell_type": "markdown",
   "id": "c02d89fb",
   "metadata": {},
   "source": [
    "### The `axis` argument.\n",
    "\n",
    "Many methods of the `ndarray` object have the `axis` argument.\n",
    "It specifies the axis along which the operation should be performed.\n",
    "For example, if we have a 2D array, the `axis` argument can be used to specify along which axis the operation should be performed.\n",
    "If the `axis` argument is an integer, the operation will be performed over that axis.\n",
    "By default, the `axis` argument is `None`, which means that the operation will be performed on the entire array, while the array will be considered as a 1D array.\n",
    "Let's see how it works:"
   ]
  },
  {
   "cell_type": "code",
   "execution_count": null,
   "id": "836b142d",
   "metadata": {},
   "outputs": [],
   "source": [
    "array = np.arange(0, 16).reshape(4, 4)\n",
    "\n",
    "print(f\"The original array: \\n{array}\")\n",
    "\n",
    "# Now, we will perform the sum of elements along the 0th axis.\n",
    "# That means all the columns will be summed up.\n",
    "sum_of_columns = array.sum(axis=0)\n",
    "print(f\"The sum of elements along the 0th axis: {sum_of_columns}\")\n",
    "\n",
    "# Instead, if we perform the sum of elements along the 1st axis,\n",
    "# all the rows will be summed up.\n",
    "sum_of_rows = array.sum(axis=1)\n",
    "print(f\"The sum of elements along the 1st axis: {sum_of_rows}\")"
   ]
  },
  {
   "cell_type": "markdown",
   "id": "18d1c523",
   "metadata": {},
   "source": [
    "In other words, the value of the `axis` argument tells us which axis will be collapsed.\n",
    "Keep this picture in mind as it will help you to understand how the `axis` argument works in cases with more than two dimensions.\n",
    "\n",
    "Let's play with 3 dimensional arrays, for instance."
   ]
  },
  {
   "cell_type": "code",
   "execution_count": null,
   "id": "aa81dee2",
   "metadata": {},
   "outputs": [],
   "source": [
    "array = np.arange(0, 60).reshape(3, 4, 5)\n",
    "\n",
    "print(f\"The original array: \\n{array}\")\n",
    "print(f\"The dimensions of the original array: {array.shape}\")\n",
    "\n",
    "# Now, let's find the smallest element along the 0th axis.\n",
    "# That means the result will be a collapsed array of shape (4, 5).\n",
    "\n",
    "smallest_along_0th_axis = array.min(axis=0)\n",
    "print(f\"The smallest element along the 0th axis: \\n{smallest_along_0th_axis}\")\n",
    "print(f\"The dimensions of the collapsed array: {smallest_along_0th_axis.shape}\")\n",
    "\n",
    "# Now, let's find the smallest element along the 1st axis.\n",
    "\n",
    "smallest_along_1st_axis = array.min(axis=1)\n",
    "print(f\"The smallest element along the 1st axis: \\n{smallest_along_1st_axis}\")\n",
    "print(f\"The dimensions of the collapsed array: {smallest_along_1st_axis.shape}\")"
   ]
  },
  {
   "cell_type": "markdown",
   "id": "a5d7d33e",
   "metadata": {},
   "source": [
    "# Vectorized operations\n",
    "\n",
    "In NumPy, a vectorized operation refers to performing an operation on the entire array instead of doing it element-wise.\n",
    "This eliminates the need for loops, which makes the code more concise and efficient.\n",
    "Under the hood, vectorized operations are performed with loops, but those loops are written in C, which makes things much faster.\n",
    "\n",
    "In this section we will explore different types of vectorized operations including arithmetic operations, comparison operators, and NumPy functions."
   ]
  },
  {
   "cell_type": "markdown",
   "id": "fd41b061",
   "metadata": {},
   "source": [
    "## Arithmetic operations\n",
    "\n",
    "We have already seen a use of sum operator `+` on NumPy arrays in the introduction.\n",
    "Let's see how we can use other arithmetic operators on NumPy arrays."
   ]
  },
  {
   "cell_type": "code",
   "execution_count": null,
   "id": "97f3556b",
   "metadata": {},
   "outputs": [],
   "source": [
    "# Create 2 arrays of the same size with random integers between 0 and 10.\n",
    "\n",
    "array_1 = np.random.randint(0, 10, size=(3, 4))\n",
    "array_2 = np.random.randint(0, 10, size=(3, 4))\n",
    "\n",
    "print(f\"The first array: \\n{array_1}\")\n",
    "print(f\"The second array: \\n{array_2}\")\n",
    "\n",
    "# Now, let's perform element-wise addition.\n",
    "# The result will be a new array of the same size.\n",
    "\n",
    "array_sum = array_1 + array_2\n",
    "print(f\"The sum of the two arrays: \\n{array_sum}\")\n",
    "\n",
    "# Now, let's perform element-wise multiplication.\n",
    "\n",
    "array_product = array_1 * array_2\n",
    "\n",
    "print(f\"The product of the two arrays: \\n{array_product}\")"
   ]
  },
  {
   "cell_type": "markdown",
   "id": "a4de8f6b",
   "metadata": {},
   "source": [
    "All arithmetic operators that are available for Python numbers are also available for NumPy arrays.\n",
    "That includes `+`, `-`, `*`, `/`, `//`, `%`, `**`, etc.\n",
    "\n",
    "NumPy also implements the in-place operators `+=`, `-=`, `*=`, `/=`, `//=`, `%=`, `**=`, etc.\n",
    "Instead of creating a new array and assigning it to the variable, in-place operators modify the original array.\n",
    "This is more memory efficient."
   ]
  },
  {
   "cell_type": "code",
   "execution_count": null,
   "id": "7d1a9ddc",
   "metadata": {},
   "outputs": [],
   "source": [
    "print(f\"The original array: \\n{array_1}\")\n",
    "array_1 += array_2\n",
    "print(f\"The original array after adding the second array: \\n{array_1}\")"
   ]
  },
  {
   "cell_type": "markdown",
   "id": "27ef8dda",
   "metadata": {},
   "source": [
    "## Comparison operators\n",
    "\n",
    "Comparison operators are also vectorized in NumPy.\n",
    "They return a **boolean** array of the same size as the original array.\n",
    "Each element of the resulting array is the result of the comparison of the corresponding elements of the original arrays.\n",
    "For example, if we compare two arrays using the `==` operator, the resulting array will contain `True` if the corresponding elements of the original arrays are equal, and `False` otherwise."
   ]
  },
  {
   "cell_type": "code",
   "execution_count": null,
   "id": "339d2589",
   "metadata": {},
   "outputs": [],
   "source": [
    "# Create 2 arrays of the same size with random integers between 0 and 10.\n",
    "\n",
    "array_1 = np.random.randint(0, 10, size=(3, 4))\n",
    "array_2 = np.random.randint(0, 10, size=(3, 4))\n",
    "\n",
    "print(f\"The first array: \\n{array_1}\")\n",
    "print(f\"The second array: \\n{array_2}\")\n",
    "\n",
    "# Now, let's find equal elements.\n",
    "# The result will be a new array of the same size, but with boolean values.\n",
    "array_equal = array_1 == array_2\n",
    "print(f\"The equal elements of the two arrays: \\n{array_equal}\")\n",
    "\n",
    "# Let's check the greater or equal operator.\n",
    "array_greater_or_equal = array_1 >= array_2\n",
    "print(f\"The greater or equal elements of the two arrays: \\n{array_greater_or_equal}\")"
   ]
  },
  {
   "cell_type": "markdown",
   "id": "1551676c",
   "metadata": {},
   "source": [
    "Again, all comparison operators that are available for Python numbers are also available for NumPy arrays."
   ]
  },
  {
   "cell_type": "markdown",
   "id": "fafff00c",
   "metadata": {},
   "source": [
    "### Use comparison operators in `if` statements.\n",
    "\n",
    "But here is a slightly unintuitive thing about comparison operators on NumPy arrays.\n",
    "Especially, when compared to Python lists.\n",
    "Since the result of a comparison operator is not a boolean value, but a boolean array, we cannot use it in `if` statements.\n",
    "For example, if we try the following code, it will not work:"
   ]
  },
  {
   "cell_type": "code",
   "execution_count": null,
   "id": "ae006c33",
   "metadata": {},
   "outputs": [],
   "source": [
    "if array_greater_or_equal:\n",
    "    print(\"This won't be printed\")"
   ]
  },
  {
   "cell_type": "markdown",
   "id": "5844630b",
   "metadata": {},
   "source": [
    "NumPy complains that the truth value of an array with more than one element is ambiguous.\n",
    "This is because NumPy does not know which element of the array to use as a truth value.\n",
    "To fix this, we need to use the [`any()`](https://numpy.org/devdocs/reference/generated/numpy.ndarray.any.html) or [`all()`](https://numpy.org/devdocs/reference/generated/numpy.ndarray.all.html) methods.\n",
    "The `any()` method returns `True` if any element of the array evaluates to `True`, while the `all()` method returns `True` if all elements of the array evaluate to `True`."
   ]
  },
  {
   "cell_type": "code",
   "execution_count": null,
   "id": "d3e4d5eb",
   "metadata": {},
   "outputs": [],
   "source": [
    "if array_greater_or_equal.all():\n",
    "    print(\"Most probably, this will not be printed.\")\n",
    "\n",
    "if array_greater_or_equal.any():\n",
    "    print(\"This will be printed with quite a high probability.\")"
   ]
  },
  {
   "cell_type": "markdown",
   "id": "cf91ca1c",
   "metadata": {},
   "source": [
    "## Vectorized operations with scalars\n",
    "\n",
    "When we perform an arithmetic operation on a NumPy array and a scalar, the operation is applied to each element of the array.\n",
    "The same is true for comparison operators.\n",
    "The resulting array has the same size as the original array, but each element of the resulting array is the result of the operation applied to the corresponding element of the original array.\n",
    "Let's see how it works:"
   ]
  },
  {
   "cell_type": "code",
   "execution_count": null,
   "id": "8919240a",
   "metadata": {},
   "outputs": [],
   "source": [
    "array = np.arange(1, 17).reshape(4, 4)\n",
    "\n",
    "print(f\"The original array: \\n{array}\")\n",
    "\n",
    "# Now, let's find the elements that are greater than 5.\n",
    "\n",
    "array_greater_than_5 = array > 5\n",
    "\n",
    "print(f\"The elements that are greater than 5: \\n{array_greater_than_5}\")\n",
    "\n",
    "# Now, let's find the elements that are greater than 5 and less than 10.\n",
    "\n",
    "array_greater_than_5_and_less_than_10 = (array > 5) & (array < 10)\n",
    "\n",
    "print(f\"The elements that are greater than 5 and less than 10: \\n{array_greater_than_5_and_less_than_10}\")\n",
    "\n",
    "# Now let's multiply all the elements of the array by 2.\n",
    "\n",
    "array_multiplied_by_2 = array * 2\n",
    "\n",
    "print(f\"The array multiplied by 2: \\n{array_multiplied_by_2}\")\n",
    "\n",
    "# Let's divide a scalar by the array.\n",
    "\n",
    "scalar_divided_by_array = 2 / array\n",
    "\n",
    "print(f\"The scalar divided by the array: \\n{scalar_divided_by_array}\")"
   ]
  },
  {
   "cell_type": "markdown",
   "id": "4b9de291",
   "metadata": {},
   "source": [
    "## Mathematical functions\n",
    "\n",
    "NumPy provides a lot of mathematical functions that are useful for scientific computing.\n",
    "Those include trigonometric functions, exponential functions, logarithms, etc.\n",
    "All of those functions are vectorized, which means that they can be applied to each element of a NumPy array.\n",
    "\n",
    "Below, we will give you a few examples, but for the full list of mathematical functions, check out the [official documentation](https://numpy.org/devdocs/reference/routines.math.html)."
   ]
  },
  {
   "cell_type": "code",
   "execution_count": null,
   "id": "7ba505e1",
   "metadata": {},
   "outputs": [],
   "source": [
    "# Generate a random array of floats\n",
    "\n",
    "array = np.random.random((3, 4)) * 10.0\n",
    "\n",
    "print(f\"The original array: \\n{array}\")\n",
    "\n",
    "# Compute an exponential function for each element of the array.\n",
    "\n",
    "array_exp = np.exp(array)\n",
    "\n",
    "print(f\"The exponential of the array: \\n{array_exp}\")\n",
    "\n",
    "# Compute the natural logarithm for each element of the array.\n",
    "\n",
    "array_log = np.log(array)\n",
    "\n",
    "print(f\"The natural logarithm of the array: \\n{array_log}\")\n",
    "\n",
    "\n",
    "# Compute the square root for each element of the array.\n",
    "\n",
    "array_sqrt = np.sqrt(array)\n",
    "\n",
    "print(f\"The square root of the array: \\n{array_sqrt}\")"
   ]
  },
  {
   "cell_type": "markdown",
   "id": "ad15e9ce",
   "metadata": {},
   "source": [
    "## Exercises on vectorized operations\n",
    "\n",
    "1. Create a function that takes a 1D array of x-coordinates and retuns the values of the function $f(x) = x^2 + 2x * e^x + 1$ at those points.\n",
    "2. Create a function that takes a ND array and returns `True` only if all elements of the array are strictly positive."
   ]
  },
  {
   "cell_type": "code",
   "execution_count": null,
   "id": "f084de66",
   "metadata": {},
   "outputs": [],
   "source": [
    "%reload_ext tutorial.tests.testsuite"
   ]
  },
  {
   "cell_type": "code",
   "execution_count": null,
   "id": "8f35eac4",
   "metadata": {},
   "outputs": [],
   "source": [
    "%%ipytest\n",
    "\n",
    "import numpy as np\n",
    "\n",
    "def solution_function_values(x):\n",
    "    # Your code starts here\n",
    "    return \n",
    "    # Your code ends here\n"
   ]
  },
  {
   "cell_type": "code",
   "execution_count": null,
   "id": "e5a7d8c6",
   "metadata": {},
   "outputs": [],
   "source": [
    "%%ipytest\n",
    "\n",
    "def solution_all_values_strictly_positive(array):\n",
    "    # Your code starts here\n",
    "    return\n",
    "    # Your code ends here"
   ]
  },
  {
   "cell_type": "markdown",
   "id": "929c4229",
   "metadata": {},
   "source": [
    "# NumPy routines\n",
    "\n",
    "NumPy provides a lot of routines that are useful for scientific computing.\n",
    "To date, there are about [30 categories](https://numpy.org/devdocs/reference/routines.html) of routines available.\n",
    "\n",
    "We have already used some of those functions in the previous sections.\n",
    "Instead of listing all of them here, we will give you a few practical examples and refer you to the [official documentation](https://numpy.org/devdocs/reference/routines.html) for the full list.\n"
   ]
  },
  {
   "cell_type": "markdown",
   "id": "2ca2a911",
   "metadata": {},
   "source": [
    "## Numerical integrals and derivatives\n",
    "\n",
    "Let's compute a numerical derivative of a function.\n",
    "For that, we need to difine the function first."
   ]
  },
  {
   "cell_type": "code",
   "execution_count": null,
   "id": "7ceae825",
   "metadata": {},
   "outputs": [],
   "source": [
    "import numpy as np\n",
    "import matplotlib.pyplot as plt\n",
    "\n",
    "# Defining a set of values for x\n",
    "x = np.linspace(1,10,100)\n",
    "\n",
    "# Compute the y values\n",
    "y = 1/x**2 * np.sin(x)\n",
    "\n",
    "# Now we plot the function\n",
    "x = np.linspace(1,10,100)\n",
    "y = 1/x**2 * np.sin(x)\n",
    "plt.plot(x,y)\n",
    "plt.show()"
   ]
  },
  {
   "cell_type": "markdown",
   "id": "2c0519a8",
   "metadata": {},
   "source": [
    "To compute the numerical derivative, we will use the [`gradient()`](https://numpy.org/devdocs/reference/generated/numpy.gradient.html) function.\n",
    "It takes an array of `y` and an array of `x` as arguments and returns an array of the same size as `y` containing the numerical derivative of `y` with respect to `x`."
   ]
  },
  {
   "cell_type": "code",
   "execution_count": null,
   "id": "5e1336f7",
   "metadata": {},
   "outputs": [],
   "source": [
    "dydx = np.gradient(y,x) # for the (numerical) derivative\n",
    "\n",
    "plt.plot(x,dydx)\n",
    "plt.show()"
   ]
  },
  {
   "cell_type": "markdown",
   "id": "0b3fbe89",
   "metadata": {},
   "source": [
    "We can do that because the integral of a function is the cumulative sum of the function with infinitesimal step size.\n",
    "Consider the following formula:\n",
    "\n",
    "$$\n",
    "\\int_a^b f(x) dx = \\lim_{n \\to \\infty} \\sum_{i=1}^n f(x_i) \\Delta x\n",
    "$$\n",
    "\n",
    "where $\\Delta x = \\frac{b - a}{n}$ and $x_i = a + i \\Delta x$.\n",
    "\n",
    "Since we cannot take an infinite number of steps, we have to deal with large enough $n$.\n",
    "\n",
    "$$\n",
    "\\int_a^b f(x) dx \\approx \\sum_{i=1}^n f(x_i) \\Delta x\n",
    "$$\n",
    "\n",
    "In our case the values of the $f(x)$ function are stored in the `dydx` array, let's integrate it using the [`cumsum()`](https://numpy.org/devdocs/reference/generated/numpy.cumsum.html) function."
   ]
  },
  {
   "cell_type": "code",
   "execution_count": null,
   "id": "f3d4fa62",
   "metadata": {},
   "outputs": [],
   "source": [
    "delta_x = x[1]-x[0]  # All steps are equal in this case\n",
    "y_int = np.cumsum(dydx) * delta_x\n",
    "plt.plot(x,y_int, label=\"Integral\")\n",
    "plt.show()"
   ]
  },
  {
   "cell_type": "markdown",
   "id": "61926fe9",
   "metadata": {},
   "source": [
    "## 2D functions\n"
   ]
  },
  {
   "cell_type": "markdown",
   "id": "246969c3",
   "metadata": {},
   "source": [
    "## meshgrid\n",
    "When dealing with 2D functions, we must rely on the [`meshgrid()`](https://numpy.org/devdocs/reference/generated/numpy.meshgrid.html) function.\n",
    "Its use is slightly unintuitive, so let's see how it works.\n",
    "\n",
    "Let's consider the following 2D function:\n",
    "$$\n",
    "f(x, y) = x^2 + y^2\n",
    "$$\n",
    "\n",
    "It might cross your mind that the right way to compute it with NumPy is to do:\n",
    "```python\n",
    "z = x**2 + y**2\n",
    "```\n",
    "However, that will not work because `x` and `y` are 1D arrays, so the `**` operator will perform an element-wise operation, which is not what we want."
   ]
  },
  {
   "cell_type": "code",
   "execution_count": null,
   "id": "4710b87a",
   "metadata": {},
   "outputs": [],
   "source": [
    "x = np.linspace(0, 4, 5)\n",
    "y = np.linspace(0, 5, 6)\n",
    "f = x**2 + y**2\n"
   ]
  },
  {
   "cell_type": "markdown",
   "id": "11f57e18",
   "metadata": {},
   "source": [
    "We deliberaly used different sizes for `x` and `y` to let NumPy explicitly tell us that something is wrong.\n",
    "Of course, you can \"fix\" the problem by reshaping `x` and `y` to the same size, but that will just be hiding the mathematical error.\n",
    "\n",
    "To fix that issue properly, let's dive deeper into the details.\n",
    "The 2D array of `(x, y)` coordinates is called a **grid**, here is how it looks like in our case:\n",
    "\n",
    "$$\n",
    "\\begin{bmatrix}\n",
    "    (0, 0) & (1, 0) & \\dots & (4, 0) \\\\\n",
    "    (0, 1) & (1, 1) & \\dots & (4, 1) \\\\\n",
    "    \\vdots & \\vdots & \\ddots & \\vdots \\\\\n",
    "    (0, 5) & (1, 5) & \\dots & (4, 5)\n",
    "\\end{bmatrix}\n",
    "$$\n",
    "\n",
    "To understand how we deal with it in NumPy, let's split our original matrix with $(X, Y)$ values into two parts $(X, 0)$ and $(0, Y)$:\n",
    "\n",
    "$$\n",
    "\\begin{bmatrix}\n",
    "    (0, 0) & (1, 0) & \\dots & (4, 0) \\\\\n",
    "    (0, 1) & (1, 1) & \\dots & (4, 1) \\\\\n",
    "    \\vdots & \\vdots & \\ddots & \\vdots \\\\\n",
    "    (0, 5) & (1, 5) & \\dots & (4, 5)\n",
    "\\end{bmatrix}\n",
    "=\n",
    "\\begin{bmatrix}\n",
    "    (0, 0) & (1, 0) & \\dots & (4, 0) \\\\\n",
    "    (0, 0) & (1, 0) & \\dots & (4, 0) \\\\\n",
    "    \\vdots & \\vdots & \\ddots & \\vdots \\\\\n",
    "    (0, 0) & (1, 0) & \\dots & (4, 0)\n",
    "\\end{bmatrix}\n",
    "+\n",
    "\\begin{bmatrix}\n",
    "    (0, 0) & (0, 0) & \\dots & (0, 0) \\\\\n",
    "    (0, 1) & (0, 1) & \\dots & (0, 1) \\\\\n",
    "    \\vdots & \\vdots & \\ddots & \\vdots \\\\\n",
    "    (0, 5) & (0, 5) & \\dots & (0, 5)\n",
    "\\end{bmatrix}\n",
    "$$\n",
    "\n",
    "We can simplify the (X, 0) and (0, Y) matrices by replacing them with just `X` and `Y` respectively.\n",
    "The resulting matrices will look like this:\n",
    "\n",
    "$$\n",
    "X = \\begin{bmatrix}\n",
    "    0 & 1 & \\dots & 4 \\\\\n",
    "    0 & 1 & \\dots & 4 \\\\\n",
    "    \\vdots & \\vdots & \\ddots & \\vdots \\\\\n",
    "    0 & 1 & \\dots & 4\n",
    "\\end{bmatrix}\n",
    "$$\n",
    "\n",
    "$$\n",
    "Y = \\begin{bmatrix}\n",
    "    0 & 0 & \\dots & 0 \\\\\n",
    "    1 & 1 & \\dots & 1 \\\\\n",
    "    \\vdots & \\vdots & \\ddots & \\vdots \\\\\n",
    "    5 & 5 & \\dots & 5\n",
    "\\end{bmatrix}\n",
    "$$\n",
    "\n",
    "Creating those matrices is exactly what the [`meshgrid()`](https://numpy.org/devdocs/reference/generated/numpy.meshgrid.html) function does.\n",
    "It takes the 1D arrays of `x` and `y` coordinates as arguments and returns two 2D arrays of `X` and `Y` coordinates.\n",
    "Let's see how it works:"
   ]
  },
  {
   "cell_type": "code",
   "execution_count": null,
   "id": "a6925978",
   "metadata": {},
   "outputs": [],
   "source": [
    "import numpy as np\n",
    "x = np.linspace(0, 4, 5)\n",
    "print(f\"x: {x}\")\n",
    "y = np.linspace(0, 5, 6)\n",
    "print(f\"y: {y}\")\n",
    "\n",
    "# Create a meshgrid\n",
    "xx, yy = np.meshgrid(x, y, indexing='xy')\n",
    "print(f\"X: \\n{xx}\")\n",
    "print(f\"Y: \\n{yy}\")"
   ]
  },
  {
   "cell_type": "markdown",
   "id": "0bdcff53",
   "metadata": {},
   "source": [
    "Now, we can use the `xx` and `yy` arrays to compute the values of the `f(x, y)` function:"
   ]
  },
  {
   "cell_type": "code",
   "execution_count": null,
   "id": "4b23075f",
   "metadata": {},
   "outputs": [],
   "source": [
    "f = xx**2 + yy**2\n",
    "print(f\"f: \\n{f}\")\n",
    "\n",
    "plt.contourf(xx, yy, f)"
   ]
  },
  {
   "cell_type": "markdown",
   "id": "f77f3568",
   "metadata": {},
   "source": [
    "## Compute gradients of a 2D function\n",
    "\n",
    "Let's compute the gradient of the `f(x, y)` function.\n",
    "For that, we will use the [`gradient()`](https://numpy.org/devdocs/reference/generated/numpy.gradient.html) function again.\n",
    "\n",
    "This time, however, we will pass the `f` function as an argument to the `gradient()` function as well as the step size.\n",
    "\n",
    "Assuming that the stepsize is the same for both `x` and `y` axes, we can compute the gradient of the `f(x, y)` function as follows:\n"
   ]
  },
  {
   "cell_type": "code",
   "execution_count": null,
   "id": "b563c02b",
   "metadata": {},
   "outputs": [],
   "source": [
    "# Compute the gradient of the function f defined on 2D grid\n",
    "gradx, grady = np.gradient(f, 1.0)  # 1 is the spacing between the points on the grid\n",
    "\n",
    "# Plot the gradient\n",
    "plt.quiver(xx, yy, gradx, grady)"
   ]
  },
  {
   "cell_type": "markdown",
   "id": "4c04fe46",
   "metadata": {},
   "source": [
    "The gradient function returns a list of arrays, one for each dimension of the grid.\n",
    "The first array contains the derivative along the first dimension of the grid, and the second array contains the derivative along the second dimension of the grid."
   ]
  },
  {
   "cell_type": "markdown",
   "id": "28cf1124",
   "metadata": {},
   "source": [
    "## Linear algebra\n",
    "\n",
    "NumPy provides a lot of functions for matrix operations.\n",
    "Those include matrix multiplication, matrix inversion, matrix decomposition, etc.\n",
    "All of those functions are vectorized, which means that they can be applied to each element of a NumPy array.\n",
    "\n",
    "Below, we will give you a few examples, but for the full list of matrix functions, check out the [official documentation](https://numpy.org/devdocs/reference/routines.linalg.html)."
   ]
  },
  {
   "cell_type": "markdown",
   "id": "18bb9285",
   "metadata": {},
   "source": [
    "### Matrix multiplication\n",
    "\n",
    "Let's compute the matrix product of two matrices.\n",
    "For that we will use the special [`@`](https://numpy.org/devdocs/reference/generated/numpy.matmul.html) operator that was introduced in NymPy 1.10."
   ]
  },
  {
   "cell_type": "code",
   "execution_count": null,
   "id": "3cd08a3b",
   "metadata": {},
   "outputs": [],
   "source": [
    "matrix1 = np.array([[1, 2], [3, 4]])\n",
    "matrix2 = np.array([[5, 6], [7, 8]])\n",
    "vector1 = np.array([9, 10])\n",
    "\n",
    "print(f\"Matrix 1: \\n{matrix1}\")\n",
    "print(f\"Matrix 2: \\n{matrix2}\")\n",
    "print(f\"Matrix 1 * Matrix 2: \\n{matrix1 @ matrix2}\")\n",
    "\n",
    "print(f\"Matrix 1 * Vector 1: \\n{matrix1 @ vector1}\")"
   ]
  },
  {
   "cell_type": "markdown",
   "id": "39cec3ec",
   "metadata": {},
   "source": [
    "### System of linear equations\n",
    "\n",
    "Let's solve the following system of linear equations:\n",
    "\n",
    "$$\n",
    "\\begin{cases}\n",
    "    2x + 3y = 5 \\\\\n",
    "    4x + 5y = 6\n",
    "\\end{cases}\n",
    "$$\n",
    "\n",
    "for that we will use the [`linalg.solve()`](https://numpy.org/devdocs/reference/generated/numpy.linalg.solve.html) function."
   ]
  },
  {
   "cell_type": "code",
   "execution_count": null,
   "id": "77c2f4d8",
   "metadata": {},
   "outputs": [],
   "source": [
    "# Solve the following system of linear equations:\n",
    "\n",
    "matrix = np.array([[2, 3], [4, 5]])\n",
    "c = np.array([5, 6])\n",
    "solution = np.linalg.solve(matrix, c)\n",
    "print(f\"The solution of the system of linear equations: {solution}\")\n",
    "\n",
    "# Now let's check that the solution is correct.\n",
    "print(f\"Matrix * Solution: {matrix @ solution}\")"
   ]
  },
  {
   "cell_type": "markdown",
   "id": "6c484888",
   "metadata": {},
   "source": [
    "### Finding eigenvalues and eigenvectors\n",
    "\n",
    "Let's find the eigenvalues and eigenvectors of the following matrix:\n",
    "\n",
    "$$\n",
    "A = \\begin{bmatrix}\n",
    "    2 & 3 & 1 \\\\\n",
    "    0 & 5 & 2 \\\\\n",
    "    1 & 4 & 2\n",
    "\\end{bmatrix}\n",
    "$$\n",
    "\n",
    "For that, we will use the [`linalg.eig()`](https://numpy.org/devdocs/reference/generated/numpy.linalg.eig.html) function.\n",
    "The function recieves a square matrix as an argument and returns a tuple of two arrays.\n",
    "The first array contains the eigenvalues of the matrix, and the second array contains the eigenvectors of the matrix."
   ]
  },
  {
   "cell_type": "code",
   "execution_count": null,
   "id": "3cafaeb4",
   "metadata": {},
   "outputs": [],
   "source": [
    "matrix = np.array([[2, 3, 1], [0, 5, 2], [1, 4, 2]])\n",
    "print(f\"Matrix: \\n{matrix}\")\n",
    "print(f\"Matrix determinant: {np.linalg.det(matrix)}\")\n",
    "\n",
    "w, v = np.linalg.eig(matrix)\n",
    "print(f\"Eigenvalues: {w}\")\n",
    "print(f\"Eigenvectors: \\n{v}\")\n",
    "\n",
    "# Check that the eigenvectors are correct.\n",
    "v1 = v[:, 0]\n",
    "\n",
    "print(f\"Matrix * Eigenvector 1        : {matrix @ v1}\")\n",
    "print(f\"Eigenvalue 1 * Eigenvector 1  : {w[0] * v1}\")"
   ]
  },
  {
   "cell_type": "markdown",
   "id": "c72e1b3b",
   "metadata": {},
   "source": [
    "## Exercises on NumPy routines\n",
    "\n",
    "1. Write a function that computes a numerical integral of a function on the interval $[a, b]$ using `0.001` as a step size.\n",
    "2. Write a function that computes eigenvalues and eigenvectors of of the matrix\n",
    "\n",
    "$$\n",
    "\\left[\n",
    "\\begin{array}{ccc}\n",
    "9 & 3 & 3 \\\\\n",
    "3 & 2 & 4 \\\\\n",
    "3 & 4 & 2 \n",
    "\\end{array}\n",
    "\\right]\n",
    "$$"
   ]
  },
  {
   "cell_type": "code",
   "execution_count": null,
   "id": "6557dc25",
   "metadata": {},
   "outputs": [],
   "source": [
    "%reload_ext tutorial.tests.testsuite"
   ]
  },
  {
   "cell_type": "code",
   "execution_count": null,
   "id": "e4c1c43b",
   "metadata": {},
   "outputs": [],
   "source": [
    "%%ipytest\n",
    "\n",
    "import numpy as np\n",
    "def solution_compute_integral(f, a, b):\n",
    "    # Write your code here\n",
    "    integral = 0.0\n",
    "    return integral"
   ]
  },
  {
   "cell_type": "code",
   "execution_count": null,
   "id": "bf910df2",
   "metadata": {},
   "outputs": [],
   "source": [
    "%%ipytest\n",
    "import numpy as np\n",
    "\n",
    "def solution_eigenvalue(): # don't change the function signature\n",
    "    # Write your code here\n",
    "    return eigenvalues, eigenvectors"
   ]
  },
  {
   "cell_type": "markdown",
   "id": "9ee5f460",
   "metadata": {},
   "source": [
    "# Advanced indexing\n",
    "\n",
    "In the previous sections, we have seen how to access elements of a NumPy array using the square brackets.\n",
    "We also learned about slicing and iterating over NumPy arrays.\n",
    "But those are not the only ways to access elements of a NumPy array.\n",
    "NumPy arrays can also be indexed using lists and other NumPy arrays of integers and booleans.\n",
    "\n",
    "Let's see a few examples first, and then we will dive deeper into the details."
   ]
  },
  {
   "cell_type": "code",
   "execution_count": null,
   "id": "842e829c",
   "metadata": {},
   "outputs": [],
   "source": [
    "array = np.array([1, 2, 3, 4, 5])\n",
    "l = [1, 2, 3]\n",
    "index_array = np.array([0, 1, 2])\n",
    "list_of_boolean = [True, False, True, False, True]\n",
    "\n",
    "print(f\"Array: {array}\")\n",
    "print(f\"Indexing array with a list: {array[l]}\")\n",
    "print(f\"Indexing array with another NumPy array: {array[index_array]}\")\n",
    "print(f\"Indexing array with a list of boolean values: {array[list_of_boolean]}\")"
   ]
  },
  {
   "cell_type": "markdown",
   "id": "b4938098",
   "metadata": {},
   "source": [
    "Do not forget that tuples are used to access elements of multidimensional arrays, they cannot be used to index 1D arrays."
   ]
  },
  {
   "cell_type": "code",
   "execution_count": null,
   "id": "2a603154",
   "metadata": {},
   "outputs": [],
   "source": [
    "# This will throw an error\n",
    "array = np.array([1, 2, 3, 4, 5])\n",
    "t = (1, 2, 3)\n",
    "\n",
    "print(\"Indexing array with a tuple: \", array[t])\n",
    "\n",
    "# In the line above we are trying to access an element of 3D array with indices (1, 2, 3)."
   ]
  },
  {
   "cell_type": "markdown",
   "id": "f33f6b6c",
   "metadata": {},
   "source": [
    "## Indexing with an array of integers\n",
    "\n",
    "When dealing with 1D arrays, each value of the index array specifies the index of the element that should be accessed.\n",
    "For example, if we have an array `a` of size 5, and an index array `idx` of size 3, the resulting array will have size 3, and each element of the resulting array will be the element of the original array with the index specified in the index array."
   ]
  },
  {
   "cell_type": "code",
   "execution_count": null,
   "id": "33c8b116",
   "metadata": {},
   "outputs": [],
   "source": [
    "array = np.arange(0, 10)\n",
    "index_array = np.array([9, 7, 5, 3, 1])\n",
    "\n",
    "print(f\"Array: {array}\")\n",
    "print(f\"Indexing array with a list: {array[index_array]}\")"
   ]
  },
  {
   "cell_type": "markdown",
   "id": "f469cb3c",
   "metadata": {},
   "source": [
    "When dealing the multidimensional arrays, a single array of integers refers to the first dimension of the array.\n",
    "Let's consider an array of particles coordinates in 3D space.\n",
    "The array has the shape `(100, 3)`, where `100` is the number of particles, and `3` is the number of dimensions.\n",
    "To access the coordinates of the particles 5, 10, and 15, we can use the following code:"
   ]
  },
  {
   "cell_type": "code",
   "execution_count": null,
   "id": "2eeccb5c",
   "metadata": {},
   "outputs": [],
   "source": [
    "# Generate a random array of floats with shape (100, 3)\n",
    "array = np.random.random((100, 3))\n",
    "\n",
    "\n",
    "# Extract coordinates of particles 5, 10, and 15\n",
    "indices = np.array([5, 10, 15])\n",
    "coordinates = array[indices]\n",
    "\n",
    "print(f\"Coodinates of particles 5, 10, and 15: \\n{coordinates}\")"
   ]
  },
  {
   "cell_type": "markdown",
   "id": "a05f4b5a",
   "metadata": {},
   "source": [
    "We can also give indexes for each dimension of the array.\n",
    "For this, we need to pass a tuple of arrays of integers."
   ]
  },
  {
   "cell_type": "code",
   "execution_count": null,
   "id": "57b9d1e2",
   "metadata": {},
   "outputs": [],
   "source": [
    "array = np.arange(0, 16).reshape(4, 4)\n",
    "print(f\"Array: \\n{array}\")\n",
    "\n",
    "# Extract the diagonal elements\n",
    "indices = np.array([0, 1, 2, 3])\n",
    "diagonal = array[indices, indices]\n",
    "print(f\"Diagonal elements: {diagonal}\")\n",
    "\n",
    "# Extract top right square of size 2x2\n",
    "i = np.array([[0, 0], [1, 1]])\n",
    "j = np.array([[2, 3], [2, 3]])\n",
    "top_right_square = array[i, j]\n",
    "print(f\"Top right square: \\n{top_right_square}\")\n"
   ]
  },
  {
   "cell_type": "markdown",
   "id": "291328d1",
   "metadata": {},
   "source": [
    "## Indexing and assigning values\n",
    "\n",
    "Remeber that when we perform indexing, we get a view of the original array, not a copy.\n",
    "That means any changes we make to the view will be reflected in the original array.\n",
    "\n",
    "The same is true when we perform indexing with an array of integers.\n",
    "Let's take an example above and assign the top-right corner of the array to zero."
   ]
  },
  {
   "cell_type": "code",
   "execution_count": null,
   "id": "e023346d",
   "metadata": {},
   "outputs": [],
   "source": [
    "array = np.arange(0, 16).reshape(4, 4)\n",
    "print(f\"Array: \\n{array}\")\n",
    "\n",
    "# Extract top right square of size 2x2 and assign it to 0\n",
    "i = np.array([[0, 0], [1, 1]])\n",
    "j = np.array([[2, 3], [2, 3]])\n",
    "array[i, j] = 0\n",
    "print(f\"Array after assignment: \\n{array}\")"
   ]
  },
  {
   "cell_type": "markdown",
   "id": "d6fc8424",
   "metadata": {},
   "source": [
    "Instead, if we assign the result of the indexing to a new variable, we will get a copy of the original array, and the original array will remain intact."
   ]
  },
  {
   "cell_type": "code",
   "execution_count": null,
   "id": "ebf1e2d7",
   "metadata": {},
   "outputs": [],
   "source": [
    "array = np.arange(0, 16).reshape(4, 4)\n",
    "print(f\"Array: \\n{array}\")\n",
    "\n",
    "# Extract top right square of size 2x2 and assign it to 0\n",
    "i = np.array([[0, 0], [1, 1]])\n",
    "j = np.array([[2, 3], [2, 3]])\n",
    "sub_array = array[i, j]\n",
    "\n",
    "print(f\"Sub-array: \\n{sub_array}\")\n",
    "sub_array = 0\n",
    "\n",
    "print(f\"Array after assignmen remains the same: \\n{array}\")"
   ]
  },
  {
   "cell_type": "markdown",
   "id": "44ef7e12",
   "metadata": {},
   "source": [
    "## Indexing with boolean arrays\n",
    "\n",
    "Indexing with boolean arrays requires the index array to have the same size as the original array.\n",
    "Each element of the boolean array specifies whether the corresponding element of the original array should be included in the resulting array or not.\n",
    "Let's see how it works:"
   ]
  },
  {
   "cell_type": "code",
   "execution_count": null,
   "id": "82731481",
   "metadata": {},
   "outputs": [],
   "source": [
    "array = np.arange(0, 10)\n",
    "print(f\"Array: {array}\")\n",
    "\n",
    "# Extract elements using boolean indexing\n",
    "boolean_array = np.array([True, False, True, False, True, False, True, False, True, False])\n",
    "extracted_elements = array[boolean_array]"
   ]
  },
  {
   "cell_type": "markdown",
   "id": "c6e8808b",
   "metadata": {},
   "source": [
    "Explicitly specifying a boolean array is not very useful.\n",
    "However, we can use comparison operators to create boolean arrays.\n",
    "For example, let's create a boolean array that specifies whether the elements of the original array are greater than 5."
   ]
  },
  {
   "cell_type": "code",
   "execution_count": null,
   "id": "fdb30f33",
   "metadata": {},
   "outputs": [],
   "source": [
    "array = np.arange(0, 10)\n",
    "print(f\"Array: {array}\")\n",
    "\n",
    "# Create a boolean array\n",
    "boolean_array = array > 5\n",
    "print(f\"Boolean array: {boolean_array}\")\n",
    "\n",
    "# Extract elements using boolean indexing\n",
    "extracted_elements = array[boolean_array]\n",
    "print(f\"Extracted elements: {extracted_elements}\")\n",
    "\n",
    "# Set extracted elements to 0\n",
    "array[boolean_array] = 0\n",
    "print(f\"Array after assignment: {array}\")"
   ]
  },
  {
   "cell_type": "markdown",
   "id": "d591fecd",
   "metadata": {},
   "source": [
    "# Broadcasting\n",
    "Numpy arrays support **broadcasting**; this means that **in certain cases** arrays with different dimensions can be combined using arithmetic operations without giving a `ValueError: operands could not be broadcast together`.\n",
    "For details, please see the section on [broadcasting](https://numpy.org/devdocs/user/basics.broadcasting.html) of the Numpy documentation.\n",
    "\n",
    "The basic rules of broadcasting are:\n",
    "- The array shapes are compared element-wise\n",
    "- Two dimensions are **compatible** if:\n",
    "  - They are equal.\n",
    "  - One dimension is one.\n",
    "- If one array has more dimension than the other, the tuple of dimensions is padded with `1`.\n",
    "\n",
    "## Simple example\n",
    "\n",
    "For example if we want to multiply an $m\\times n\\times 3$ array `a` by a 3-element 1D-array `b`, we have the following:\n",
    "\n",
    "- The shape of `a` is `(m, n, 3)`\n",
    "- The shape of `b` is `(3)`\n",
    "\n",
    "To compare the dimensions, numpy actually pads the shape of `b` so that we have:\n",
    "\n",
    "- `(m, n, 3)`\n",
    "- `(1, 1, 3)`\n",
    "\n",
    "If we compute `c = a * b`, the dimension of `c` will be `(m, n, 3)`.\n",
    "\n",
    "In the cell below we can try this for different values of `m` and `n`"
   ]
  },
  {
   "cell_type": "code",
   "execution_count": null,
   "id": "9c9c65d1",
   "metadata": {},
   "outputs": [],
   "source": [
    "import numpy as np\n",
    "\n",
    "def broadcast_example(m: int, n: int) -> None:\n",
    "    print(\"m and n are: \", m, n)\n",
    "    A = np.random.rand(m, n, 3)\n",
    "    b = np.random.rand(3)\n",
    "    c = A * b\n",
    "    print(\"The shape of A is: \", A.shape)\n",
    "    print(\"The shape of b is: \", b.shape)\n",
    "    print(\"The shape of c is: \", c.shape)\n",
    "\n",
    "broadcast_example(10, 4)\n",
    "broadcast_example(22, 4)\n"
   ]
  },
  {
   "cell_type": "markdown",
   "id": "043faf3d",
   "metadata": {},
   "source": [
    "## Second example: adding dimensions\n",
    "\n",
    "In certain cases, we want to combine two arrays but their shapes don't  conform to the rules of broadcasting.\n",
    "For example, we want to add an `(7, 2, 4, 5)` array to an `(7, 4)` array. \n",
    "By the rules of broadcasting, this is not possible. \n",
    "However, using the `np.newaxis` we can add an \"empty\" dimension at the right spot to make the  two arrays compatible:\n"
   ]
  },
  {
   "cell_type": "code",
   "execution_count": null,
   "id": "8eedc915",
   "metadata": {},
   "outputs": [],
   "source": [
    "a = np.random.rand(7, 2, 4, 5)\n",
    "b = np.random.rand(7, 4, 5)\n",
    "res = a + b[:, np.newaxis, :, :]\n",
    "print(a.shape)\n",
    "print(b.shape)\n",
    "print(res.shape)"
   ]
  },
  {
   "cell_type": "markdown",
   "id": "e50057ec",
   "metadata": {},
   "source": [
    "# Exercises"
   ]
  },
  {
   "cell_type": "markdown",
   "id": "f2c05018",
   "metadata": {},
   "source": [
    "## Sum numbers from 0 to 10000 🌶️\n",
    "\n",
    "Sum together every number from 0 to 10000 except for those that can be divided by 4 or 7."
   ]
  },
  {
   "cell_type": "code",
   "execution_count": null,
   "id": "865bcd56",
   "metadata": {},
   "outputs": [],
   "source": [
    "%reload_ext tutorial.tests.testsuite"
   ]
  },
  {
   "cell_type": "code",
   "execution_count": null,
   "id": "3a46ab02",
   "metadata": {},
   "outputs": [],
   "source": [
    "%%ipytest\n",
    "import numpy as np\n",
    "\n",
    "def solution_sum_numbers_0_to_10000():\n",
    "    # Your code starts here\n",
    "    return\n",
    "    # Your code ends here"
   ]
  },
  {
   "cell_type": "markdown",
   "id": "39bf8d5c",
   "metadata": {},
   "source": [
    "## Investigate a mathematical function 🌶️🌶️:\n",
    "\n",
    "Let $y=e^{-x/10}\\sin(x)$. Consider 10000 equally spaced intervals in the range [0,10].\n",
    "\n",
    "1. Plot the function $y$ vs. $x$ in the range [0,10].\n",
    "2. Compute the mean and standard deviation of $y$ for $x$ values in [4,7].\n",
    "3. For $x$ in the range [4,7], find the particular value $y_m$ such that 80% of $y$ values are less than $y_m$."
   ]
  },
  {
   "cell_type": "code",
   "execution_count": null,
   "id": "5854a50b",
   "metadata": {},
   "outputs": [],
   "source": [
    "%reload_ext tutorial.tests.testsuite"
   ]
  },
  {
   "cell_type": "code",
   "execution_count": null,
   "id": "47fe640b",
   "metadata": {},
   "outputs": [],
   "source": [
    "#1 (not checked)"
   ]
  },
  {
   "cell_type": "code",
   "execution_count": null,
   "id": "689f23d7",
   "metadata": {},
   "outputs": [],
   "source": [
    "%%ipytest\n",
    "#2\n",
    "import numpy as np\n",
    "def solution_mean_and_std():\n",
    "    # Your code starts here\n",
    "    mean = 0 \n",
    "    std = 0\n",
    "    return mean, std\n",
    "    # Your code ends here"
   ]
  },
  {
   "cell_type": "code",
   "execution_count": null,
   "id": "f5fbc53e",
   "metadata": {},
   "outputs": [],
   "source": [
    "%%ipytest\n",
    "#3\n",
    "import numpy as np\n",
    "def solution_80_percentile():\n",
    "    # Your code starts here\n",
    "    percentile = 0\n",
    "    return percentile\n",
    "    # Your code ends here"
   ]
  },
  {
   "cell_type": "markdown",
   "id": "3d1bde44",
   "metadata": {},
   "source": [
    "## Exercise flower petal 🌶️🌶️🌶️:\n",
    "\n",
    "Consider the flower petal $r(\\theta)=1+\\frac{3}{4}\\sin(3\\theta)$ for $0\\lt \\theta \\lt 2\\pi$.\n",
    "1. Compute the area using the calculus formula $A=\\int_0^{2\\pi}\\frac{1}{2}r^2 d\\theta$.\n",
    "1. Compute the arc length using the calculus formula $L=\\int_0^{2\\pi}\\sqrt{r^2+\\left( \\frac{dr}{d\\theta}\\right)^2}d\\theta$"
   ]
  },
  {
   "cell_type": "code",
   "execution_count": null,
   "id": "1a882dd9",
   "metadata": {},
   "outputs": [],
   "source": [
    "# For your convinience, let's visualize the function\n",
    "import numpy as np\n",
    "import matplotlib.pyplot as plt\n",
    "\n",
    "theta = np.linspace(0,2*np.pi, 1000)\n",
    "r = 1 + 3/4 * np.sin(3*theta)\n",
    "x = r * np.cos(theta)\n",
    "y = r * np.sin(theta)\n",
    "plt.plot(x, y)"
   ]
  },
  {
   "cell_type": "code",
   "execution_count": null,
   "id": "b13b696d",
   "metadata": {},
   "outputs": [],
   "source": [
    "%reload_ext tutorial.tests.testsuite"
   ]
  },
  {
   "cell_type": "code",
   "execution_count": null,
   "id": "5704ba27",
   "metadata": {},
   "outputs": [],
   "source": [
    "%%ipytest\n",
    "#1 \n",
    "import numpy as np\n",
    "def solution_compute_area():\n",
    "    # Your code starts here\n",
    "    area = 0\n",
    "    return area\n",
    "    # Your code ends here"
   ]
  },
  {
   "cell_type": "code",
   "execution_count": null,
   "id": "debcfe5e",
   "metadata": {},
   "outputs": [],
   "source": [
    "%%ipytest\n",
    "#2\n",
    "import numpy as np\n",
    "def solution_compute_arc_length():\n",
    "    # Your code starts here\n",
    "    arc_length = 0\n",
    "    return arc_length\n",
    "    # Your code ends here"
   ]
  }
 ],
 "metadata": {
  "kernelspec": {
   "display_name": "Python 3 (ipykernel)",
   "language": "python",
   "name": "python3"
  },
  "language_info": {
   "codemirror_mode": {
    "name": "ipython",
    "version": 3
   },
   "file_extension": ".py",
   "mimetype": "text/x-python",
   "name": "python",
   "nbconvert_exporter": "python",
   "pygments_lexer": "ipython3",
   "version": "3.11.1"
  }
 },
 "nbformat": 4,
 "nbformat_minor": 5
}
