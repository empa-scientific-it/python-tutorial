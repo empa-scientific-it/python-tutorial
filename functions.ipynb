{
 "cells": [
  {
   "cell_type": "markdown",
   "id": "f9f97036-9759-4894-a44b-456cfd71e8f0",
   "metadata": {
    "tags": []
   },
   "source": [
    "# Functions"
   ]
  },
  {
   "cell_type": "markdown",
   "id": "3edb3999-85e2-4cd5-bcfa-67693891bf6f",
   "metadata": {
    "tags": []
   },
   "source": [
    "## References"
   ]
  },
  {
   "cell_type": "markdown",
   "id": "ad4e36dc-2e37-41ca-bc4e-48ea24975fe2",
   "metadata": {},
   "source": [
    "Additional materials where you can find more details about writing functions in Python. For each link, it's indicated if it's a video, a text, or a practical resource.\n",
    "\n",
    "- [Python For Everybody: Functions](https://www.py4e.com/lessons/functions) (video)\n",
    "- [Python For Everybody: Functions examples](https://www.py4e.com/html3/04-functions) (text)"
   ]
  },
  {
   "cell_type": "markdown",
   "id": "00ac8e40-9a6e-4fda-bcd6-ca0b7bb0bfd4",
   "metadata": {},
   "source": [
    "---"
   ]
  },
  {
   "cell_type": "markdown",
   "id": "6787e774-0b23-428a-abe2-b966c1a59047",
   "metadata": {},
   "source": [
    "Every programmer knows that splitting the work to be done in smaller pieces isn't only a good problem-solving technique, but it also makes your code more readable, easier to understand, and more efficient (or at least it will be easier to make it so). **Functions** are the fundamental building block to achieve this."
   ]
  },
  {
   "cell_type": "markdown",
   "id": "d1e43724-68a1-4fdb-a846-dc1c926d3d4a",
   "metadata": {},
   "source": [
    "1. Functions in Python are blocks of reusable code that perform a specific task.\n",
    "2. They allow you to break down complex programs into smaller and manageable parts.\n",
    "3. Functions make your code easier to read and maintain because you can encapsulate logic into self-contained blocks and reuse them throughout your program. When you have to perform the same task multiple times, instead of repeating the code, you can simply call the function.\n",
    "4. Best practices for writing functions (we will see more in detail later on):\n",
    "    1. Giving descriptive names\n",
    "    2. Keeping them small and focused on a single task\n",
    "    3. Using clear and concise documentation (also known as docstrings)\n",
    "    4. Explaining the required (and optional) inputs and outputs"
   ]
  },
  {
   "cell_type": "markdown",
   "id": "d97931a5-31fd-494a-8a4a-f62102a6062e",
   "metadata": {
    "tags": []
   },
   "source": [
    "## Anatomy of a function"
   ]
  },
  {
   "cell_type": "markdown",
   "id": "2dde8114-7527-49bc-9b2c-de56dd94de9b",
   "metadata": {},
   "source": [
    "A function in Python has three main parts: signature, body, and docstrings.\n",
    "\n",
    "**Signature**: The signature of a function includes the function name, the input parameters (if any), and the return statement (if any). The Python keyword to indicate that a name is a function's name is `def`, and it's a **reserved keyword** (you cannot call a variable or any other object with that name). The signature is what allows you to call the function and pass it arguments. For example:\n",
    "\n",
    "```python\n",
    "def multiply(x, y):\n",
    "```\n",
    "\n",
    "You have the keyword `def`, the function's name, and its parameters in parentheses. The semi-colon tells Python that what comes next is the function's body."
   ]
  },
  {
   "cell_type": "markdown",
   "id": "e7ef2776-3643-4a44-94fe-6aaa466e5938",
   "metadata": {},
   "source": [
    "**Body**: The body of a function contains the statements that the function executes when it is called. These statements perform the task that the function was created to perform. For example:"
   ]
  },
  {
   "cell_type": "markdown",
   "id": "28265ca7-c247-4040-ad4e-3b1b004542d1",
   "metadata": {},
   "source": [
    "```python\n",
    "def multiply(x, y):\n",
    "    product = x * y\n",
    "    return product\n",
    "```"
   ]
  },
  {
   "cell_type": "markdown",
   "id": "b40e2fe7-e340-4757-b43c-ee616d7693c8",
   "metadata": {},
   "source": [
    "The function's outputs are indicated by the (reserved) keyword `return`. All functions in Python return a value, even if that value is `None`. If you omit the `return` keyword, Python assumes that the function returns `None`."
   ]
  },
  {
   "cell_type": "markdown",
   "id": "43812395-0e4e-4cd0-abf8-24d91bcd92a3",
   "metadata": {},
   "source": [
    "**Docstrings**: Docstrings are string literals that appear as the first statement in a function. They provide documentation for the function, explaining what it does and how it works. Docstrings are surrounded by triple quotes (\"\"\"). For example:"
   ]
  },
  {
   "cell_type": "markdown",
   "id": "f018f330-d918-49fa-b11a-0f8e6aa435d2",
   "metadata": {},
   "source": [
    "```python\n",
    "def multiply(x, y):\n",
    "    \"\"\"This function calculates the product of two numbers\"\"\"\n",
    "    product = x * y\n",
    "    return product\n",
    "```"
   ]
  },
  {
   "cell_type": "markdown",
   "id": "91939086-1d33-43fe-8982-ffbba3d77f07",
   "metadata": {},
   "source": [
    "A few more examples of simple functions:"
   ]
  },
  {
   "cell_type": "markdown",
   "id": "de0b1445-7a23-4445-95cb-12b4333a2fa5",
   "metadata": {},
   "source": [
    "```python\n",
    "def greet(name):\n",
    "    \"\"\"This function greets the person passed in as a parameter\"\"\"\n",
    "    return \"Hello, \" + name\n",
    "\n",
    "def add(a, b):\n",
    "    \"\"\"This function returns the sum of two numbers\"\"\"\n",
    "    return a + b\n",
    "\n",
    "def is_even(number):\n",
    "    \"\"\"This function returns True if the number is even, False otherwise\"\"\"\n",
    "    return number % 2 == 0\n",
    "\n",
    "```"
   ]
  },
  {
   "cell_type": "markdown",
   "id": "d5358dfc-df7d-4a6f-9f3a-4e06820e271c",
   "metadata": {
    "tags": []
   },
   "source": [
    "## Parameters and arguments"
   ]
  },
  {
   "cell_type": "markdown",
   "id": "4939ebe9-1e3a-4ef8-b4a6-7604c7c243ef",
   "metadata": {},
   "source": [
    "The terms \"parameters\" and \"arguments\" are often used interchangeably, but they refer to different things in the context of function calls.\n",
    "\n",
    "1. **Parameters** are the names that are used in the function definition to accept values passed to the function. For example:"
   ]
  },
  {
   "cell_type": "markdown",
   "id": "7f845593-f20f-4941-869e-3a7dcd624e9e",
   "metadata": {},
   "source": [
    "```python\n",
    "def greet(name):\n",
    "    \"\"\"This function greets the person passed in as a parameter\"\"\"\n",
    "    return \"Hello, \" + name\n",
    "```\n",
    "\n",
    "Here `name` is a parameter.\n",
    "\n",
    "2. **Arguments**: are the actual values that are passed to the function when it is called.\n",
    "\n",
    "```python\n",
    "greet(\"John\")\n",
    "# \"Hello, John\"\n",
    "```\n",
    "\n",
    "Here the literal string `\"John\"` is the argument."
   ]
  },
  {
   "cell_type": "markdown",
   "id": "5b5cb5f3-504d-4edb-8c84-98ace0127cde",
   "metadata": {},
   "source": [
    "In Python, there are two ways to pass arguments to a function: positional arguments and keyword arguments.\n",
    "\n",
    "1. **Positional arguments** are arguments that are passed to the function in the same order as the parameters. For example:\n",
    "\n",
    "```python\n",
    "def add(a, b):\n",
    "    \"\"\"This function returns the sum of two numbers\"\"\"\n",
    "    return a + b\n",
    "\n",
    "add(1, 2)\n",
    "```\n",
    "\n",
    "Here, `1` and `2` are positional arguments that are passed to the `add` function.\n",
    "\n",
    "2. **Keyword arguments** are arguments that are passed to the function using the name of the parameter followed by an equal sign and the value. For example:\n",
    "\n",
    "```python\n",
    "def greet(name):\n",
    "    \"\"\"This function greets the person passed in as a parameter\"\"\"\n",
    "    return \"Hello, \" + name\n",
    "\n",
    "greet(name=\"John\")\n",
    "```\n",
    "\n",
    "Here, `name=\"John\"` is a keyword argument that is passed to the greet function. Keyword arguments make the function call more readable and can be useful when the order of the parameters is not important.\n",
    "\n",
    "Another important use of the keyword syntax (the `=` sign) is to define **parameters with default values**. For example:\n",
    "\n",
    "```python\n",
    "def greet(name=\"my friend\"):\n",
    "    \"\"\"This function greets the person passed in as a parameter\"\"\"\n",
    "    return \"Hello, \" + name\n",
    "```\n",
    "\n",
    "Calling `greet` without any arguments, tells Python to use the default value. Therefore, `greet()` will return `\"Hello, my friend\"`. Let's run this code for real!"
   ]
  },
  {
   "cell_type": "code",
   "execution_count": 2,
   "id": "0807177a-e2f3-412c-a10d-691a1109f591",
   "metadata": {
    "tags": []
   },
   "outputs": [
    {
     "name": "stdout",
     "output_type": "stream",
     "text": [
      "Hello, my friend\n",
      "Hello, John\n"
     ]
    }
   ],
   "source": [
    "def greet(name=\"my friend\"):\n",
    "    \"\"\"This function greets the person passed in as a parameter\"\"\"\n",
    "    return \"Hello, \" + name\n",
    "\n",
    "print(greet())\n",
    "\n",
    "print(greet(\"John\"))"
   ]
  },
  {
   "cell_type": "markdown",
   "id": "dd593351-58d2-4cab-886e-d7f093445bee",
   "metadata": {
    "tags": []
   },
   "source": [
    "## How Python executes a function"
   ]
  },
  {
   "cell_type": "markdown",
   "id": "d1e150ea-588c-4f4a-88b4-3d2fad1c1ce6",
   "metadata": {},
   "source": [
    "This sentence may seem another trivial one: to execute a function, you must **call it**. In Python, it means using the `function_name()` with **parentheses**, enclosing any argument if need be.\n",
    "\n",
    "When you call a function in Python, three things happen: calling, executing, and returning.\n",
    "\n",
    "1. **Calling**: When you call a function, Python creates a new function call frame on the call stack. A function call frame contains information about the function call, such as the function name, arguments, local variables, and the return address (i.e., where to return control when the function returns). The function call frame is pushed onto the top of the call stack.\n",
    "\n",
    "2. **Executing**: After the function call frame is created, control is transferred to the function body. The function body is executed from top to bottom, line by line. The function can access its parameters, declare local variables, and perform any other operations specified in the body. The function can call other functions, which will create their own function call frames and push them onto the call stack.\n",
    "\n",
    "3. **Returning**: When the function reaches the end of the body or encounters a return statement, the function returns control to the calling code. The function call frame is popped from the call stack, and any local variables and parameters are discarded. The function returns a value if specified in the return statement, otherwise it returns `None` (remember: every function in Python returns **at least** `None`)\n",
    "\n",
    "This process repeats every time a function is called, and the call stack grows and shrinks as functions are called and return. This allows Python to keep track of the execution context and return control to the correct location when a function returns.\n"
   ]
  },
  {
   "cell_type": "markdown",
   "id": "04747296-7d42-4f8e-b0e4-705593baad3d",
   "metadata": {},
   "source": [
    "## The scope of a function"
   ]
  },
  {
   "cell_type": "markdown",
   "id": "7819c88f-5881-41ad-b896-66ce9af404fb",
   "metadata": {},
   "source": [
    "The following might seem like a trivial question: could we assign the same variable name two different values?\n",
    "\n",
    "The obvious (and right) answer is **no**. If `x` is `3` and `2` at the same time, how should Python evaluate `x + 2`? There is, however, a workaround to this and it involves the concept of **scope**. While you don't *use* the scope to have a variable with two values at the same time (it doesn't make sense!), it's important to understand it to avoid bugs or serious debug nightmares.\n",
    "\n",
    "Look at the following lines of valid Python code:\n",
    "\n",
    "```python\n",
    "x = \"Hello World\"\n",
    "\n",
    "def func():\n",
    "    x = 2\n",
    "    return f\"Inside 'func', x has the value {x}\")\n",
    "\n",
    "print(func())\n",
    "print(f\"Outside 'func', x has the value {x}\")\n",
    "```\n",
    "\n",
    "What output do you expect?\n",
    "\n",
    "Does `x` really have two simultaneous values? **Not really:** the exact reason is that `x` **within the function's body** and `x` **in the outside code** live in two separates **scopes**. The function body has a **local scope**, while all the code outside (contained in `main.py`) is the **global scope**."
   ]
  },
  {
   "cell_type": "markdown",
   "id": "420b226f-2f48-4585-ae4a-40c723497d85",
   "metadata": {},
   "source": [
    "We can define the \"scope\" as **the region of a program where a name has a meaning**. In other words, scoping determines the accessibility of variables in different parts of a program. There are three levels of scope in Python:\n",
    "\n",
    "1. **Global scope**: Variables declared at the top level of a program or module are in the global scope. They are accessible from anywhere in the program or module.\n",
    "\n",
    "2. **Local scope**: Variables declared inside a function are in the local scope. They are only accessible from within the function and are discarded when the function returns.\n",
    "\n",
    "3. **Non-local scope**: Variables declared inside a nested function are in the non-local scope. They are accessible from the outer function and from within the nested function."
   ]
  },
  {
   "cell_type": "markdown",
   "id": "301a17f8-e8df-4a02-815a-ecf7846f3bac",
   "metadata": {},
   "source": [
    "Here's an example to illustrate the different scopes:"
   ]
  },
  {
   "cell_type": "code",
   "execution_count": 3,
   "id": "830a338a-e354-4adb-85e5-3a5c55dca2bd",
   "metadata": {
    "tags": []
   },
   "outputs": [
    {
     "name": "stdout",
     "output_type": "stream",
     "text": [
      "Inner function: 10 30 40\n",
      "Outer function: 10 30\n",
      "Global scope: 10\n"
     ]
    }
   ],
   "source": [
    "# Global scope\n",
    "x = 10\n",
    "\n",
    "def outer_function():\n",
    "    # Local scope\n",
    "    y = 20\n",
    "\n",
    "    def inner_function():\n",
    "        # Non-local scope\n",
    "        nonlocal y\n",
    "        y = 30\n",
    "        z = 40\n",
    "        print(\"Inner function:\", x, y, z)\n",
    "\n",
    "    inner_function()\n",
    "    print(\"Outer function:\", x, y)\n",
    "\n",
    "outer_function()\n",
    "print(\"Global scope:\", x)"
   ]
  },
  {
   "cell_type": "markdown",
   "id": "c65049c7-232a-4265-9537-b7799ee12f0b",
   "metadata": {},
   "source": [
    "In this example, `x` is a global variable and is accessible from anywhere in the program. `y` is a local variable to the `outer_function`, and is accessible from within the `outer_function` and from the `inner_function`. `z` is a local variable to the `inner_function` and is **only** accessible from within the `inner_function`.\n",
    "\n",
    "The `nonlocal` keyword is used to access a variable in the **nearest enclosing scope that is not global**. In the example above, the `inner_function` uses `nonlocal y` to access the `y` variable in the `outer_function` and modify its value. If `nonlocal` was not used, a new local `y` variable would be created in the `inner_function`.\n",
    "\n",
    "The `global` keyword is used to access a global variable and modify its value from within a function. For example:"
   ]
  },
  {
   "cell_type": "code",
   "execution_count": null,
   "id": "fa5a2ab0-3594-41da-8c90-5f378efd34ce",
   "metadata": {},
   "outputs": [],
   "source": [
    "# Global scope\n",
    "x = 10\n",
    "\n",
    "def modify_x():\n",
    "    global x\n",
    "    x = 20\n",
    "\n",
    "modify_x()\n",
    "print(\"Global scope:\", x)"
   ]
  },
  {
   "cell_type": "markdown",
   "id": "e2048b56-9338-4284-96ef-5af250a55eb4",
   "metadata": {},
   "source": [
    "Even though you can access and modify variables from different scope, it's not considered a good practice. When a function makes use of `global` or `nonlocal`, or when modifying a mutable type in-place, it's like when a function modifies its own arguments. It's a **side-effect** that should be generally avoided. It's is considered a much better programming practice to make use of a function's return values instead of resorting to the scoping keywords."
   ]
  },
  {
   "cell_type": "markdown",
   "id": "95ddee70-8a4e-4ab3-b1ed-b65b589640f9",
   "metadata": {},
   "source": [
    "---"
   ]
  },
  {
   "cell_type": "markdown",
   "id": "af454573-8da4-4b1c-9b93-24c2a6d511eb",
   "metadata": {},
   "source": [
    "## Exercises"
   ]
  },
  {
   "cell_type": "markdown",
   "id": "e5615c16-7130-4c05-9081-0a495d7090b2",
   "metadata": {
    "tags": []
   },
   "source": [
    "### Longest consecutive sequence 🌶️🌶️"
   ]
  },
  {
   "cell_type": "markdown",
   "id": "a680c83c-065a-4ae0-bf6f-fb5084d5c560",
   "metadata": {},
   "source": [
    "Given an **unsorted** set of $N$ random integers, write a function that returns the length of the longest consecutive sequence of integers.\n",
    "\n",
    "- Example 1: given the list `nums = [100, 4, 200, 1, 3, 2]`, the longest sequence is `[1, 2, 3, 4]` of length *4*.\n",
    "\n",
    "- Example 2: given the list `nums = [0, 3, 7, 2, 5, 8, 4, 6, 0, 1]`, the longest sequence contains all the numbers from 0 to 8, so its length is **9**."
   ]
  },
  {
   "cell_type": "markdown",
   "id": "1c93c572-7890-4bd7-a0f6-d4015679df39",
   "metadata": {
    "tags": []
   },
   "source": [
    "### Password validator"
   ]
  },
  {
   "cell_type": "markdown",
   "id": "6a40b25b-fa38-44c8-8a80-d1e86c38ecab",
   "metadata": {
    "tags": []
   },
   "source": [
    "#### Part 1 🌶️"
   ]
  },
  {
   "cell_type": "markdown",
   "id": "61fdaa6e-9f5c-4039-a09e-e79146175703",
   "metadata": {},
   "source": [
    "You have a range of numbers `136760-595730` and need to count how many valid password are there. A valid password must meet **all** the following criteria:\n",
    "\n",
    "- It is a six-digit number\n",
    "- Two adjacent digits are the same (like `22` in `122345`)\n",
    "- Going from left to right, the digits **never decrease**; they only ever increase or stay the same (like 111123 or 135679)\n",
    "\n",
    "For example, the following are true:\n",
    "\n",
    "- `111111` meets these criteria (double `11`, never decreases)\n",
    "- `223450` does **not** meet these criteria (`50` is a decreasing pair of digits)\n",
    "- `123789` does **not** meet these criteria (no double digit)\n",
    "\n",
    "Write a function named `count_valid_p1()` that determines if a password is valid according to the criteria above.\n",
    "\n",
    "<div class=\"alert alert-block alert-warning\">\n",
    "<b>Question:</b> How many valid password are there in your range?\n",
    "</div>"
   ]
  },
  {
   "cell_type": "markdown",
   "id": "edac5c6a-23fa-4f09-a462-5682201a449f",
   "metadata": {
    "tags": []
   },
   "source": [
    "#### Part 2 🌶️🌶️"
   ]
  },
  {
   "cell_type": "markdown",
   "id": "af330663-15c2-48f7-b407-e09cecc62d4d",
   "metadata": {},
   "source": [
    "You have a new rule: the two adjacent matching digits **must not be part of a larger group of matching digits**. For example:\n",
    "\n",
    "- `112233` meets these criteria because the digits never decrease and all repeated digits are exactly two digits long\n",
    "- `123444` **doesn't** meet the criteria (the repeated `44` is part of a larger group of `444`)\n",
    "- `111122` meets the criteria (even though `1` is repeated more than twice, it still contains a double `22`)\n",
    "\n",
    "Write a new function `count_valid_p2()` function to account for the new rule. You can copy and extend the code from your `count_valid_p1()` function, but **do create** a new function for this part.\n",
    "\n",
    "<div class=\"alert alert-block alert-warning\">\n",
    "<b>Question:</b> How many valid password does your range contain now?\n",
    "</div>"
   ]
  },
  {
   "cell_type": "markdown",
   "id": "503a18e5-8ee4-4a02-89f9-09cbca3a8e50",
   "metadata": {
    "tags": []
   },
   "source": [
    "### Buckets reorganization"
   ]
  },
  {
   "cell_type": "markdown",
   "id": "957eb5a0-5331-48e3-86b6-7b99299d710f",
   "metadata": {},
   "source": [
    "#### Part 1 🌶️"
   ]
  },
  {
   "cell_type": "markdown",
   "id": "59093ed8-b422-4f97-8ffc-801f6149458a",
   "metadata": {},
   "source": [
    "You have a list of buckets, each containing some items labelel from `a` to `z`, or from `A` to `Z`. Each bucket has two large compartments, and each compartment always has the same number of items.\n",
    "\n",
    "For example, in the following list of buckets\n",
    "\n",
    "```\n",
    "vJrwpWtwJgWrhcsFMMfFFhFp\n",
    "jqHRNqRjqzjGDLGLrsFMfFZSrLrFZsSL\n",
    "PmmdzqPrVvPwwTWBwg\n",
    "wMqvLMZHhHMvwLHjbvcjnnSBnvTQFn\n",
    "ttgJtRGJQctTZtZT\n",
    "CrZsJsPPZsGzwwsLwLmpwMDw\n",
    "```\n",
    "\n",
    "- The first bucket contains `vJrwpWtwJgWrhcsFMMfFFhFp`, which means its first compartment contains the items `vJrwpWtwJgWr`, while the second compartment contains the items `hcsFMMfFFhFp`. The only item type that appears in both compartments is `p`.\n",
    "- The third bucket's compartments contain `PmmdzqPrV` and `vPwwTWBwg`; the only common item type is `P`.\n",
    "- The sixth bucket's compartments only share item type `s`.\n",
    "\n",
    "Each item has also a priority:\n",
    "\n",
    "- Items types `a` through `z` have priorities 1 through 26\n",
    "- Items types `A` through `Z` have priorities 27 through 52\n",
    "\n",
    "Write a function that returns the priority of the item type that appears in **both compartments**.\n",
    "\n",
    "<div class=\"alert alert-block alert-warning\">\n",
    "<b>Question:</b> What is the sum of the priorities of those item types?\n",
    "</div>\n",
    "\n",
    "In the above example, the priority of the item that appears in both compartments of each bucket is 16 (`p`), 38 (`L`), 42 (`P`), 22 (`v`), 20 (`t`), and 19 (`s`); the sum of these is **157**."
   ]
  },
  {
   "cell_type": "markdown",
   "id": "1085e791-f1df-4fce-89ae-9c169dbf8aa2",
   "metadata": {},
   "source": [
    "#### Part 2 🌶️🌶️"
   ]
  },
  {
   "cell_type": "markdown",
   "id": "0b68ba01-1a08-43c5-84b2-e73315ab0f53",
   "metadata": {},
   "source": [
    "You are told that you should not care about the priority of **every item**, but only of a \"special item\" that is common to groups of **three buckets**. Every set of three lines correspond to a single group, and each group can have a different special item – that is, an item with a different letter.\n",
    "\n",
    "Considering once again the above example, in the first three lines:\n",
    "\n",
    "```\n",
    "vJrwpWtwJgWrhcsFMMfFFhFp\n",
    "jqHRNqRjqzjGDLGLrsFMfFZSrLrFZsSL\n",
    "PmmdzqPrVvPwwTWBwg\n",
    "```\n",
    "The only item that appears in **all** three buckets is `r` (priority 18). This must be the \"special item\". If you consider the second group of three, the special item is of type `Z` (priority 52). The sum is `18 + 52 = 70`.\n",
    "\n",
    "<div class=\"alert alert-block alert-warning\">\n",
    "<b>Question:</b> What is the sum of the priorities of all the special items?\n",
    "</div>"
   ]
  },
  {
   "cell_type": "code",
   "execution_count": null,
   "id": "5acf6617-1275-42a0-b656-bfa59d33493b",
   "metadata": {},
   "outputs": [],
   "source": []
  }
 ],
 "metadata": {
  "jupytext": {
   "formats": "ipynb,md"
  },
  "kernelspec": {
   "display_name": "Python 3 (ipykernel)",
   "language": "python",
   "name": "python3"
  },
  "language_info": {
   "codemirror_mode": {
    "name": "ipython",
    "version": 3
   },
   "file_extension": ".py",
   "mimetype": "text/x-python",
   "name": "python",
   "nbconvert_exporter": "python",
   "pygments_lexer": "ipython3",
   "version": "3.11.0"
  }
 },
 "nbformat": 4,
 "nbformat_minor": 5
}
