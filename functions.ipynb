{
 "cells": [
  {
   "cell_type": "markdown",
   "id": "f9f97036-9759-4894-a44b-456cfd71e8f0",
   "metadata": {
    "tags": []
   },
   "source": [
    "# Functions"
   ]
  },
  {
   "cell_type": "markdown",
   "id": "52b30aa8-d1af-4641-98e3-2491da5443c0",
   "metadata": {
    "tags": []
   },
   "source": [
    "## Basics"
   ]
  },
  {
   "cell_type": "markdown",
   "id": "6787e774-0b23-428a-abe2-b966c1a59047",
   "metadata": {},
   "source": [
    "Every programmer knows that splitting the work to be done in smaller pieces isn't only a good problem-solving technique, but it also makes your code more readable, easier to understand, and more efficient (or at least it will be easier to make it so). **Functions** are the fundamental building block to achieve this."
   ]
  },
  {
   "cell_type": "markdown",
   "id": "d1e43724-68a1-4fdb-a846-dc1c926d3d4a",
   "metadata": {},
   "source": [
    "1. Functions in Python are blocks of reusable code that perform a specific task.\n",
    "2. They allow you to break down complex programs into smaller and manageable parts.\n",
    "3. Functions make your code easier to read and maintain because you can encapsulate logic into self-contained blocks and reuse them throughout your program. When you have to perform the same task multiple times, instead of repeating the code, you can simply call the function.\n",
    "4. Best practices for writing functions (we will see more in detail later on):\n",
    "    1. Giving descriptive names\n",
    "    2. Keeping them small and focused on a single task\n",
    "    3. Using clear and concise documentation (also known as docstrings)\n",
    "    4. Explaining the required (and optional) inputs and outputs"
   ]
  },
  {
   "cell_type": "markdown",
   "id": "d97931a5-31fd-494a-8a4a-f62102a6062e",
   "metadata": {
    "tags": []
   },
   "source": [
    "### Anatomy of a function"
   ]
  },
  {
   "cell_type": "markdown",
   "id": "2dde8114-7527-49bc-9b2c-de56dd94de9b",
   "metadata": {},
   "source": [
    "A function in Python has three main parts: signature, body, and docstrings.\n",
    "\n",
    "**Signature**: The signature of a function includes the function name, the input parameters (if any), and the return statement (if any). The Python keyword to indicate that a name is a function's name is `def`, and it's a **reserved keyword** (you cannot call a variable or any other object with that name). The signature is what allows you to call the function and pass it arguments. For example:\n",
    "\n",
    "```python\n",
    "def multiply(x, y):\n",
    "```\n",
    "\n",
    "You have the keyword `def`, the function's name, and its parameters in parentheses. The semi-colon tells Python that what comes next is the function's body."
   ]
  },
  {
   "cell_type": "markdown",
   "id": "e7ef2776-3643-4a44-94fe-6aaa466e5938",
   "metadata": {},
   "source": [
    "**Body**: The body of a function contains the statements that the function executes when it is called. These statements perform the task that the function was created to perform. For example:"
   ]
  },
  {
   "cell_type": "markdown",
   "id": "28265ca7-c247-4040-ad4e-3b1b004542d1",
   "metadata": {},
   "source": [
    "```python\n",
    "def multiply(x, y):\n",
    "    product = x * y\n",
    "    return product\n",
    "```"
   ]
  },
  {
   "cell_type": "markdown",
   "id": "b40e2fe7-e340-4757-b43c-ee616d7693c8",
   "metadata": {},
   "source": [
    "The function's outputs are indicated by the (reserved) keyword `return`. All functions in Python return a value, even if that value is `None`. If you omit the `return` keyword, Python assumes that the function returns `None`."
   ]
  },
  {
   "cell_type": "markdown",
   "id": "43812395-0e4e-4cd0-abf8-24d91bcd92a3",
   "metadata": {},
   "source": [
    "**Docstrings**: Docstrings are string literals that appear as the first statement in a function. They provide documentation for the function, explaining what it does and how it works. Docstrings are surrounded by triple quotes (\"\"\"). For example:"
   ]
  },
  {
   "cell_type": "markdown",
   "id": "f018f330-d918-49fa-b11a-0f8e6aa435d2",
   "metadata": {},
   "source": [
    "```python\n",
    "def multiply(x, y):\n",
    "    \"\"\"This function calculates the product of two numbers\"\"\"\n",
    "    product = x * y\n",
    "    return product\n",
    "```"
   ]
  },
  {
   "cell_type": "markdown",
   "id": "91939086-1d33-43fe-8982-ffbba3d77f07",
   "metadata": {},
   "source": [
    "A few more examples of simple functions:"
   ]
  },
  {
   "cell_type": "markdown",
   "id": "de0b1445-7a23-4445-95cb-12b4333a2fa5",
   "metadata": {},
   "source": [
    "```python\n",
    "def greet(name):\n",
    "    \"\"\"This function greets the person passed in as a parameter\"\"\"\n",
    "    return \"Hello, \" + name\n",
    "\n",
    "def add(a, b):\n",
    "    \"\"\"This function returns the sum of two numbers\"\"\"\n",
    "    return a + b\n",
    "\n",
    "def is_even(number):\n",
    "    \"\"\"This function returns True if the number is even, False otherwise\"\"\"\n",
    "    return number % 2 == 0\n",
    "\n",
    "```"
   ]
  },
  {
   "cell_type": "markdown",
   "id": "d5358dfc-df7d-4a6f-9f3a-4e06820e271c",
   "metadata": {
    "tags": []
   },
   "source": [
    "### Parameters and arguments"
   ]
  },
  {
   "cell_type": "markdown",
   "id": "4939ebe9-1e3a-4ef8-b4a6-7604c7c243ef",
   "metadata": {},
   "source": [
    "The terms \"parameters\" and \"arguments\" are often used interchangeably, but they refer to different things in the context of function calls.\n",
    "\n",
    "1. **Parameters** are the names that are used in the function definition to accept values passed to the function. For example:"
   ]
  },
  {
   "cell_type": "markdown",
   "id": "7f845593-f20f-4941-869e-3a7dcd624e9e",
   "metadata": {},
   "source": [
    "```python\n",
    "def greet(name):\n",
    "    \"\"\"This function greets the person passed in as a parameter\"\"\"\n",
    "    return \"Hello, \" + name\n",
    "```\n",
    "\n",
    "Here `name` is a parameter.\n",
    "\n",
    "2. **Arguments**: are the actual values that are passed to the function when it is called.\n",
    "\n",
    "```python\n",
    "greet(\"John\")\n",
    "# \"Hello, John\"\n",
    "```\n",
    "\n",
    "Here the literal string `\"John\"` is the argument."
   ]
  },
  {
   "cell_type": "markdown",
   "id": "5b5cb5f3-504d-4edb-8c84-98ace0127cde",
   "metadata": {},
   "source": [
    "In Python, there are two ways to pass arguments to a function: positional arguments and keyword arguments.\n",
    "\n",
    "1. **Positional arguments** are arguments that are passed to the function in the same order as the parameters. For example:\n",
    "\n",
    "```python\n",
    "def add(a, b):\n",
    "    \"\"\"This function returns the sum of two numbers\"\"\"\n",
    "    return a + b\n",
    "\n",
    "add(1, 2)\n",
    "```\n",
    "\n",
    "Here, `1` and `2` are positional arguments that are passed to the `add` function.\n",
    "\n",
    "2. **Keyword arguments** are arguments that are passed to the function using the name of the parameter followed by an equal sign and the value. For example:\n",
    "\n",
    "```python\n",
    "def greet(name):\n",
    "    \"\"\"This function greets the person passed in as a parameter\"\"\"\n",
    "    return \"Hello, \" + name\n",
    "\n",
    "greet(name=\"John\")\n",
    "```\n",
    "\n",
    "Here, `name=\"John\"` is a keyword argument that is passed to the greet function. Keyword arguments make the function call more readable and can be useful when the order of the parameters is not important.\n",
    "\n",
    "Another important use of the keyword syntax (the `=` sign) is to define **parameters with default values**. For example:\n",
    "\n",
    "```python\n",
    "def greet(name=\"my friend\"):\n",
    "    \"\"\"This function greets the person passed in as a parameter\"\"\"\n",
    "    return \"Hello, \" + name\n",
    "```\n",
    "\n",
    "Calling `greet` without any arguments, tells Python to use the default value. Therefore, `greet()` will return `\"Hello, my friend\"`. Let's run this code for real!"
   ]
  },
  {
   "cell_type": "code",
   "execution_count": 2,
   "id": "0807177a-e2f3-412c-a10d-691a1109f591",
   "metadata": {
    "tags": []
   },
   "outputs": [
    {
     "name": "stdout",
     "output_type": "stream",
     "text": [
      "Hello, my friend\n",
      "Hello, John\n"
     ]
    }
   ],
   "source": [
    "def greet(name=\"my friend\"):\n",
    "    \"\"\"This function greets the person passed in as a parameter\"\"\"\n",
    "    return \"Hello, \" + name\n",
    "\n",
    "print(greet())\n",
    "\n",
    "print(greet(\"John\"))"
   ]
  },
  {
   "cell_type": "markdown",
   "id": "dd593351-58d2-4cab-886e-d7f093445bee",
   "metadata": {
    "tags": []
   },
   "source": [
    "### How Python executes a function"
   ]
  },
  {
   "cell_type": "markdown",
   "id": "d1e150ea-588c-4f4a-88b4-3d2fad1c1ce6",
   "metadata": {},
   "source": [
    "This sentence may seem another trivial one: to execute a function, you must **call it**. In Python, it means using the `function_name()` with **parentheses**, enclosing any argument if need be.\n",
    "\n",
    "When you call a function in Python, three things happen: calling, executing, and returning.\n",
    "\n",
    "1. **Calling**: When you call a function, Python creates a new function call frame on the call stack. A function call frame contains information about the function call, such as the function name, arguments, local variables, and the return address (i.e., where to return control when the function returns). The function call frame is pushed onto the top of the call stack.\n",
    "\n",
    "2. **Executing**: After the function call frame is created, control is transferred to the function body. The function body is executed from top to bottom, line by line. The function can access its parameters, declare local variables, and perform any other operations specified in the body. The function can call other functions, which will create their own function call frames and push them onto the call stack.\n",
    "\n",
    "3. **Returning**: When the function reaches the end of the body or encounters a return statement, the function returns control to the calling code. The function call frame is popped from the call stack, and any local variables and parameters are discarded. The function returns a value if specified in the return statement, otherwise it returns `None` (remember: every function in Python returns **at least** `None`)\n",
    "\n",
    "This process repeats every time a function is called, and the call stack grows and shrinks as functions are called and return. This allows Python to keep track of the execution context and return control to the correct location when a function returns.\n"
   ]
  },
  {
   "cell_type": "markdown",
   "id": "04747296-7d42-4f8e-b0e4-705593baad3d",
   "metadata": {},
   "source": [
    "### The scope of a function"
   ]
  },
  {
   "cell_type": "markdown",
   "id": "7819c88f-5881-41ad-b896-66ce9af404fb",
   "metadata": {},
   "source": [
    "The following might seem like a trivial question: could we assign the same variable name two different values?\n",
    "\n",
    "The obvious (and right) answer is **no**. If `x` is `3` and `2` at the same time, how should Python evaluate `x + 2`? There is, however, a workaround to this and it involves the concept of **scope**. While you don't *use* the scope to have a variable with two values at the same time (it doesn't make sense!), it's important to understand it to avoid bugs or serious debug nightmares.\n",
    "\n",
    "Look at the following lines of valid Python code:\n",
    "\n",
    "```python\n",
    "x = \"Hello World\"\n",
    "\n",
    "def func():\n",
    "    x = 2\n",
    "    return f\"Inside 'func', x has the value {x}\")\n",
    "\n",
    "print(func())\n",
    "print(f\"Outside 'func', x has the value {x}\")\n",
    "```\n",
    "\n",
    "What output do you expect?\n",
    "\n",
    "Does `x` really have two simultaneous values? **Not really:** the exact reason is that `x` **within the function's body** and `x` **in the outside code** live in two separates **scopes**. The function body has a **local scope**, while all the code outside (contained in `main.py`) is the **global scope**."
   ]
  },
  {
   "cell_type": "markdown",
   "id": "420b226f-2f48-4585-ae4a-40c723497d85",
   "metadata": {},
   "source": [
    "We can define the \"scope\" as **the region of a program where a name has a meaning**. In other words, scoping determines the accessibility of variables in different parts of a program. There are three levels of scope in Python:\n",
    "\n",
    "1. **Global scope**: Variables declared at the top level of a program or module are in the global scope. They are accessible from anywhere in the program or module.\n",
    "\n",
    "2. **Local scope**: Variables declared inside a function are in the local scope. They are only accessible from within the function and are discarded when the function returns.\n",
    "\n",
    "3. **Non-local scope**: Variables declared inside a nested function are in the non-local scope. They are accessible from the outer function and from within the nested function."
   ]
  },
  {
   "cell_type": "markdown",
   "id": "301a17f8-e8df-4a02-815a-ecf7846f3bac",
   "metadata": {},
   "source": [
    "Here's an example to illustrate the different scopes:"
   ]
  },
  {
   "cell_type": "code",
   "execution_count": 3,
   "id": "830a338a-e354-4adb-85e5-3a5c55dca2bd",
   "metadata": {
    "tags": []
   },
   "outputs": [
    {
     "name": "stdout",
     "output_type": "stream",
     "text": [
      "Inner function: 10 30 40\n",
      "Outer function: 10 30\n",
      "Global scope: 10\n"
     ]
    }
   ],
   "source": [
    "# Global scope\n",
    "x = 10\n",
    "\n",
    "def outer_function():\n",
    "    # Local scope\n",
    "    y = 20\n",
    "\n",
    "    def inner_function():\n",
    "        # Non-local scope\n",
    "        nonlocal y\n",
    "        y = 30\n",
    "        z = 40\n",
    "        print(\"Inner function:\", x, y, z)\n",
    "\n",
    "    inner_function()\n",
    "    print(\"Outer function:\", x, y)\n",
    "\n",
    "outer_function()\n",
    "print(\"Global scope:\", x)"
   ]
  },
  {
   "cell_type": "markdown",
   "id": "c65049c7-232a-4265-9537-b7799ee12f0b",
   "metadata": {},
   "source": [
    "In this example, `x` is a global variable and is accessible from anywhere in the program. `y` is a local variable to the `outer_function`, and is accessible from within the `outer_function` and from the `inner_function`. `z` is a local variable to the `inner_function` and is **only** accessible from within the `inner_function`.\n",
    "\n",
    "The `nonlocal` keyword is used to access a variable in the **nearest enclosing scope that is not global**. In the example above, the `inner_function` uses `nonlocal y` to access the `y` variable in the `outer_function` and modify its value. If `nonlocal` was not used, a new local `y` variable would be created in the `inner_function`.\n",
    "\n",
    "The `global` keyword is used to access a global variable and modify its value from within a function. For example:"
   ]
  },
  {
   "cell_type": "code",
   "execution_count": null,
   "id": "fa5a2ab0-3594-41da-8c90-5f378efd34ce",
   "metadata": {},
   "outputs": [],
   "source": [
    "# Global scope\n",
    "x = 10\n",
    "\n",
    "def modify_x():\n",
    "    global x\n",
    "    x = 20\n",
    "\n",
    "modify_x()\n",
    "print(\"Global scope:\", x)"
   ]
  },
  {
   "cell_type": "markdown",
   "id": "e2048b56-9338-4284-96ef-5af250a55eb4",
   "metadata": {},
   "source": [
    "Even though you can access and modify variables from different scope, it's not considered a good practice. When a function makes use of `global` or `nonlocal`, or when modifying a mutable type in-place, it's like when a function modifies its own arguments. It's a **side-effect** that should be generally avoided. It's is considered a much better programming practice to make use of a function's return values instead of resorting to the scoping keywords."
   ]
  },
  {
   "cell_type": "markdown",
   "id": "95ddee70-8a4e-4ab3-b1ed-b65b589640f9",
   "metadata": {},
   "source": [
    "---"
   ]
  },
  {
   "cell_type": "markdown",
   "id": "af454573-8da4-4b1c-9b93-24c2a6d511eb",
   "metadata": {},
   "source": [
    "### Practicals"
   ]
  },
  {
   "cell_type": "markdown",
   "id": "45f5f746-854a-4527-a6a3-8d4d38ef7baa",
   "metadata": {
    "jp-MarkdownHeadingCollapsed": true,
    "tags": []
   },
   "source": [
    "#### Convert beween Celsius and Fahrenheit 🌶️"
   ]
  },
  {
   "cell_type": "markdown",
   "id": "3613f6a2-4740-40d7-abf4-20e637aaa6fb",
   "metadata": {},
   "source": [
    "Write a `temperature.py` script that converts between Celsius and Fahrenheit\n",
    "\n",
    "The program should:\n",
    "1. First, prompt the user to enter a temperature in degrees Fahrenheit and then display the temperature converted to Celsius.\n",
    "2. Then prompt the user to enter a temperature in degrees Celsius and display the temperature converted to Fahrenheit.\n",
    "3. Display all converted temperatures rounded to 2 decimal places.\n",
    "    \n",
    "As a reminder, the conversion between a temperature in Celsius ($C$) and Fahrenheit ($F$) is $F = C \\cdot \\frac{9}{5} + 32$."
   ]
  },
  {
   "cell_type": "markdown",
   "id": "e5615c16-7130-4c05-9081-0a495d7090b2",
   "metadata": {
    "jp-MarkdownHeadingCollapsed": true,
    "tags": []
   },
   "source": [
    "#### Longest consecutive sequence 🌶️🌶️"
   ]
  },
  {
   "cell_type": "markdown",
   "id": "a680c83c-065a-4ae0-bf6f-fb5084d5c560",
   "metadata": {},
   "source": [
    "Given an **unsorted** set of $N$ random integers, write a function that returns the length of the longest consecutive sequence of integers.\n",
    "\n",
    "- Example 1: given the list `nums = [100, 4, 200, 1, 3, 2]`, the longest sequence is `[1, 2, 3, 4]` of length *4*.\n",
    "\n",
    "- Example 2: given the list `nums = [0, 3, 7, 2, 5, 8, 4, 6, 0, 1]`, the longest sequence contains all the numbers from 0 to 8, so its length is **9**."
   ]
  },
  {
   "cell_type": "markdown",
   "id": "1c93c572-7890-4bd7-a0f6-d4015679df39",
   "metadata": {
    "jp-MarkdownHeadingCollapsed": true,
    "tags": []
   },
   "source": [
    "#### Password validator 🌶️🌶️🌶️"
   ]
  },
  {
   "cell_type": "markdown",
   "id": "6a40b25b-fa38-44c8-8a80-d1e86c38ecab",
   "metadata": {
    "jp-MarkdownHeadingCollapsed": true,
    "tags": []
   },
   "source": [
    "##### Part 1"
   ]
  },
  {
   "cell_type": "markdown",
   "id": "61fdaa6e-9f5c-4039-a09e-e79146175703",
   "metadata": {},
   "source": [
    "You have a range of numbers `136760-595730` and need to count how many valid password are there. A valid password must meet **all** the following criteria:\n",
    "\n",
    "- It is a six-digit number\n",
    "- Two adjacent digits are the same (like `22` in `122345`)\n",
    "- Going from left to right, the digits **never decrease**; they only ever increase or stay the same (like 111123 or 135679)\n",
    "\n",
    "For example, the following are true:\n",
    "\n",
    "- `111111` meets these criteria (double `11`, never decreases)\n",
    "- `223450` does **not** meet these criteria (`50` is a decreasing pair of digits)\n",
    "- `123789` does **not** meet these criteria (no double digit)\n",
    "\n",
    "Write a function named `count_valid()` that returns the number of valid password in your range."
   ]
  },
  {
   "cell_type": "markdown",
   "id": "edac5c6a-23fa-4f09-a462-5682201a449f",
   "metadata": {
    "jp-MarkdownHeadingCollapsed": true,
    "tags": []
   },
   "source": [
    "##### Part 2"
   ]
  },
  {
   "cell_type": "markdown",
   "id": "af330663-15c2-48f7-b407-e09cecc62d4d",
   "metadata": {},
   "source": [
    "You have a new rule: the two adjacent matching digits **must not be part of a larger group of matching digits**. For example:\n",
    "\n",
    "- `112233` meets these criteria because the digits never decrease and all repeated digits are exactly two digits long\n",
    "- `123444` **doesn't** meet the criteria (the repeated `44` is part of a larger group of `444`)\n",
    "- `111122` meets the criteria (even though `1` is repeated more than twice, it still contains a double `22`)\n",
    "\n",
    "How could you modify/extend your `count_valid()` function to return the correct number of valid passwords including this last rule?"
   ]
  },
  {
   "cell_type": "markdown",
   "id": "7ee4cb4c-cf60-467c-a760-24e787f587ca",
   "metadata": {
    "jp-MarkdownHeadingCollapsed": true,
    "tags": []
   },
   "source": [
    "#### *An the Oscar goes to...* 🌶️🌶️🌶️🌶️"
   ]
  },
  {
   "cell_type": "markdown",
   "id": "462c4a4d-0b09-432f-ad50-099df5bdeccf",
   "metadata": {},
   "source": [
    "Simulate the process of the selection of Best Picture winner at the Oscars.\n",
    "\n",
    "You have a set of $N$ movie candidates and a group of voters. We provided you the function `generate_ballot` that returns a list of preferences, one for each voter. *(Don't worry about understanding every detail of the function. Think of it as a starting point of the problem. Of course, if you have specific questions, just ask!)*\n",
    "\n",
    "The selection scheme is called *plurality with elimination*: each voter must order the $N$ candidates into a preference list. The selection of the winner then proceeds as follows:\n",
    "\n",
    "1. Count how many first preferences are there\n",
    "2. If a movie has the majority of preferences (50% + 1 of the voters chose that movie as their first choice), the movie wins\n",
    "3. Otherwise, eliminate the candidate with the fewest preferences\n",
    "4. Repeat the selection mechanism until we have a winner\n",
    "\n",
    "Assume that the numbers of voters is `10 000`."
   ]
  },
  {
   "cell_type": "code",
   "execution_count": null,
   "id": "8ff18c87-9381-4860-b0e9-490dae29364e",
   "metadata": {},
   "outputs": [],
   "source": [
    "def generate_ballot(candidates: list, voters: int, seed: int = None) -> list:\n",
    "    \"\"\"Generate a pseudo-ballot of preferences\"\"\"\n",
    "    if seed is None:\n",
    "        seed = 10031990\n",
    "        \n",
    "    assert isinstance(seed, int), \"Seed must be an integer\"\n",
    "    \n",
    "    # Make reproducible sampling\n",
    "    random.seed(seed)\n",
    "    \n",
    "    ballot = []\n",
    "    for i in range(voters):\n",
    "        ballot.append(random.sample(candidates, k=len(candidates)))\n",
    "    \n",
    "    return ballot"
   ]
  },
  {
   "cell_type": "markdown",
   "id": "82e8e4ba-453e-429b-b8ee-053f4b57ea2e",
   "metadata": {},
   "source": [
    "The following is the movies list (i.e., the candidates):"
   ]
  },
  {
   "cell_type": "code",
   "execution_count": null,
   "id": "74420dc4-91ac-4923-856e-2d822b99904e",
   "metadata": {},
   "outputs": [],
   "source": [
    "movies = [\n",
    "    'Women Talking',\n",
    "    'Tár',\n",
    "    'Triangle of Sadness',\n",
    "    'Top Gun: Maverick',\n",
    "    'The Fabelmans',\n",
    "    'The Banshees of Inisherin',\n",
    "    'Everything Everywhere All at Once',\n",
    "    'Elvis',\n",
    "    'Avatar: The Way of Water',\n",
    "    'All Quiet on the Western Front'\n",
    "]"
   ]
  },
  {
   "cell_type": "markdown",
   "id": "f6230f06-1be2-43e8-bb2a-eee3c0d56104",
   "metadata": {},
   "source": [
    "---"
   ]
  },
  {
   "cell_type": "markdown",
   "id": "7cc263a5-a85e-4482-8962-db84590fec97",
   "metadata": {
    "tags": []
   },
   "source": [
    "### References"
   ]
  },
  {
   "cell_type": "markdown",
   "id": "b6f00969-2bca-4538-8d4c-18dfee16f295",
   "metadata": {},
   "source": [
    "Additional materials where you can find more details about writing functions in Python. For each link, it's indicated if it's a video, a text, or a practical resource.\n",
    "\n",
    "- [Python For Everybody: Functions](https://www.py4e.com/lessons/functions) (video)\n",
    "- [Python For Everybody: Functions examples](https://www.py4e.com/html3/04-functions) (text)"
   ]
  },
  {
   "cell_type": "markdown",
   "id": "f66a1654-45e1-4848-9c7b-7835577ae2dd",
   "metadata": {
    "tags": []
   },
   "source": [
    "## Advanced"
   ]
  },
  {
   "cell_type": "code",
   "execution_count": null,
   "id": "de4dac6f-0cb1-402a-8458-8aa579638b25",
   "metadata": {},
   "outputs": [],
   "source": [
    "# TODO"
   ]
  },
  {
   "cell_type": "markdown",
   "id": "95d26b38-fb9b-4db1-b5ed-06ba21458f48",
   "metadata": {},
   "source": [
    "### References"
   ]
  },
  {
   "cell_type": "markdown",
   "id": "7f03a1bc-e562-4cef-8c8d-f5288ef5f150",
   "metadata": {},
   "source": [
    "Additional materials where you can find more details about writing functions in Python. For each link, it's indicated if it's a video, a text, or a practical resource"
   ]
  },
  {
   "cell_type": "code",
   "execution_count": null,
   "id": "9d16f594-64dd-4438-88bb-410fd39da483",
   "metadata": {},
   "outputs": [],
   "source": [
    "# TODO"
   ]
  }
 ],
 "metadata": {
  "kernelspec": {
   "display_name": "Python 3 (ipykernel)",
   "language": "python",
   "name": "python3"
  },
  "language_info": {
   "codemirror_mode": {
    "name": "ipython",
    "version": 3
   },
   "file_extension": ".py",
   "mimetype": "text/x-python",
   "name": "python",
   "nbconvert_exporter": "python",
   "pygments_lexer": "ipython3",
   "version": "3.11.0"
  }
 },
 "nbformat": 4,
 "nbformat_minor": 5
}
