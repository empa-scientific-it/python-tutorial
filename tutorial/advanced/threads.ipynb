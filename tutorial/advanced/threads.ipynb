{
 "cells": [
  {
   "cell_type": "markdown",
   "metadata": {},
   "source": [
    "# Parallelism and concurrency in Python\n",
    "\n",
    "## Introduction\n",
    "There are many cases where we could execute multiple tasks in parallel or switch between tasks while we wait for some time consuming task to be completed.\n",
    "You can just think of examples from daily life to see why: \n",
    "\n",
    "- While your soup cooks on the stove, you start washing your dishes\n",
    "- You check the news while drinking your morning coffee\n",
    "- You work on your python course exercises while attending a video call\n",
    "\n",
    "Indeed, the language of computing is so engrained in many of us that today we refer to these sort of behaviors as *multitasking*, an expression borrowed from computer science.\n",
    "\n",
    "Because in computer science we like to be precise, let us define these terms better.\n",
    "\n",
    "## Parallelism Vs. concurrency\n",
    "\n",
    "### Parallelism\n",
    "When we have two or more tasks *running and progressing simultaneously*, we can talk about **parallelism**. Think for example of the situation of paying at the supermarket where there are multiple lines: more than one customer can pay their purchases at the same time\n",
    "\n",
    "### Concurrency\n",
    "When two or more tasks run in overlapping time periods (but **not necessarily simultaneously**) instead of sequentially, we say that their execution is **concurrent**.\n",
    "This is the typical human multitasking, where we work on multiple tasks in a time period, but we must switch between them to be able to perform them correctly.\n",
    "For example, we sit in a meeting, listen passively while working on our python program and stop working on our code to answer a question directed to us.\n",
    "\n",
    "<figure>\n",
    "  <img\n",
    "  src=\"../../images/concurrency_vs_parallelism.jpg\"\n",
    "  alt=\"The beautiful MDN logo.\">\n",
    "  <figcaption>A simple time diagram illustrating the difference between parallelism and concurrency (source: https://openclassrooms.com/en/courses/5684021-scale-up-your-code-with-java-concurrency/5684028-identify-the-advantages-of-concurrency-and-parallelism)</figcaption>\n",
    "</figure>\n",
    "\n",
    "### Quiz: parallel or not\n",
    "For each of these real-life examples, determine if the tasks are executed in parallel or not\n",
    "\n",
    "- One cashier serves two lines of people in a store\n",
    "- A swimming pool offers multiple shower stalls \n",
    "- Multiple people take turns drinking from a cup\n",
    "\n",
    "\n",
    "## Parallelism in python\n",
    "By default, in python tasks do not run in parallel. Consider this example:\n",
    "\n"
   ]
  },
  {
   "cell_type": "code",
   "execution_count": 7,
   "metadata": {},
   "outputs": [
    {
     "name": "stdout",
     "output_type": "stream",
     "text": [
      "task1 finished at 2023-10-30 13:24:09.184903\n",
      "task2 finished at 2023-10-30 13:24:10.186294\n"
     ]
    }
   ],
   "source": [
    "from datetime import datetime as dt\n",
    "from time import sleep\n",
    "def task1():\n",
    "    sleep(1)\n",
    "    print(f\"task1 finished at {dt.now()}\")\n",
    "\n",
    "def task2():\n",
    "    sleep(1)\n",
    "    print(f\"task2 finished at {dt.now()}\")\n",
    "\n",
    "def two_tasks():\n",
    "    task1()\n",
    "    task2()\n",
    "\n",
    "\n",
    "two_tasks()\n"
   ]
  }
 ],
 "metadata": {
  "kernelspec": {
   "display_name": ".env",
   "language": "python",
   "name": "python3"
  },
  "language_info": {
   "codemirror_mode": {
    "name": "ipython",
    "version": 3
   },
   "file_extension": ".py",
   "mimetype": "text/x-python",
   "name": "python",
   "nbconvert_exporter": "python",
   "pygments_lexer": "ipython3",
   "version": "3.10.12"
  },
  "orig_nbformat": 4
 },
 "nbformat": 4,
 "nbformat_minor": 2
}
