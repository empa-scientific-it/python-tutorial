{
 "cells": [
  {
   "cell_type": "markdown",
   "metadata": {},
   "source": [
    "# Parallelism and concurrency in Python\n",
    "\n",
    "## Introduction\n",
    "There are many cases where we could execute multiple tasks in parallel or switch between tasks while we wait for some time consuming task to be completed.\n",
    "You can just think of examples from daily life to see why: \n",
    "\n",
    "- While your soup cooks on the stove, you start washing your dishes\n",
    "- You check the news while drinking your morning coffee\n",
    "- You work on your python course exercises while attending a video call\n",
    "\n",
    "Indeed, the language of computing is so engrained in many of us that today we refer to these sort of behaviors as *multitasking*, an expression borrowed from computer science.\n",
    "\n",
    "Because in computer science we like to be precise, let us define these terms better.\n",
    "\n",
    "## Parallelism Vs. concurrency\n",
    "\n",
    "### Parallelism\n",
    "When we have two or more tasks *running and progressing simultaneously*, we can talk about **parallelism**. Think for example of the situation of paying at the supermarket where there are multiple lines: more than one customer can pay their purchases at the same time\n",
    "\n",
    "### Concurrency\n",
    "When two or more tasks run in overlapping time periods (but **not necessarily simultaneously**) instead of sequentially, we say that their execution is **concurrent**.\n",
    "This is the typical human multitasking, where we work on multiple tasks in a time period, but we must switch between them to be able to perform them correctly.\n",
    "For example, we sit in a meeting, listen passively while working on our python program and stop working on our code to answer a question directed to us.\n",
    "\n",
    "\n",
    "\n",
    "The image below can help you understanding the difference between concurrent and parallel work.\n",
    "<figure>\n",
    "  <img\n",
    "  src=\"../../images/concurrency_vs_parallelism.jpg\"\n",
    "  height=\"400px\"\n",
    "  alt=\"The beautiful MDN logo.\">\n",
    "  <figcaption>A simple time diagram illustrating the difference between parallelism and concurrency (source: https://openclassrooms.com/en/courses/5684021-scale-up-your-code-with-java-concurrency/5684028-identify-the-advantages-of-concurrency-and-parallelism)</figcaption>\n",
    "</figure>\n",
    "\n",
    "\n",
    "### Quiz: parallel or not\n",
    "For each of these real-life examples, determine if the tasks are executed in parallel or not\n",
    "\n",
    "- One cashier serves two lines of people in a store\n",
    "- A swimming pool offers multiple shower stalls \n",
    "- Multiple people take turns drinking from a cup\n",
    "\n",
    "\n",
    "## Parallelism in python\n",
    "By default, in python tasks do not run in parallel. Consider this example:\n",
    "\n"
   ]
  },
  {
   "cell_type": "code",
   "execution_count": 2,
   "metadata": {},
   "outputs": [
    {
     "name": "stdout",
     "output_type": "stream",
     "text": [
      "First task started at 2023-10-31 09:09:00.511459\n",
      "First task finished at 2023-10-31 09:09:01.511561\n",
      "Second task started at 2023-10-31 09:09:01.511673\n",
      "Second task finished at 2023-10-31 09:09:02.511766\n"
     ]
    }
   ],
   "source": [
    "from datetime import datetime as dt\n",
    "from time import sleep\n",
    "\n",
    "def task(name: str):\n",
    "    \"\"\"\n",
    "    This function defines a fictional task that takes one second\n",
    "    to complete and prints when it started and finished.\n",
    "    \"\"\"\n",
    "    print(f\"{name} started at {dt.now()}\")\n",
    "    sleep(1)\n",
    "    print(f\"{name} finished at {dt.now()}\")\n",
    "\n",
    "\n",
    "\n",
    "def two_tasks():\n",
    "    task(\"First task\")\n",
    "    task(\"Second task\")\n",
    "\n",
    "\n",
    "two_tasks()\n"
   ]
  },
  {
   "cell_type": "markdown",
   "metadata": {},
   "source": [
    "We see that the first task to be started (`First task`) finished before the second one could start. This is the normal sequential  computational model we are used to when we first learn programming. However, in python we can introduce **parallelism** by using the [multiprocessing](https://docs.python.org/3/library/multiprocessing.html) module. Using this module, we can execute code in different operating system processes. Because modern computers have multicore CPU who can execute multiple processes in parallel, this means that your code will run in parallel.\n",
    "\n",
    "### High-level interface: Process pools\n",
    "\n",
    "Let's rewrite our example from before using [`multiprocessing.Pool`](https://docs.python.org/3/library/multiprocessing.html#multiprocessing.pool.Pool) which executes jobs on a pool of shared processes.  \n"
   ]
  },
  {
   "cell_type": "code",
   "execution_count": 5,
   "metadata": {},
   "outputs": [
    {
     "name": "stdout",
     "output_type": "stream",
     "text": [
      "Second task started at 2023-10-31 09:17:18.444387First task started at 2023-10-31 09:17:18.444386\n",
      "\n",
      "First task finished at 2023-10-31 09:17:19.446255Second task finished at 2023-10-31 09:17:19.446431\n",
      "\n",
      "First task started at 2023-10-31 09:17:19.469125Second task started at 2023-10-31 09:17:19.469224\n",
      "\n",
      "Second task finished at 2023-10-31 09:17:20.473578First task finished at 2023-10-31 09:17:20.473757\n",
      "\n",
      "First task started at 2023-10-31 09:17:20.499679Second task started at 2023-10-31 09:17:20.499744\n",
      "\n",
      "First task finished at 2023-10-31 09:17:21.504205Second task finished at 2023-10-31 09:17:21.504349\n",
      "\n",
      "Second task started at 2023-10-31 09:17:21.531218First task started at 2023-10-31 09:17:21.531187\n",
      "\n",
      "Second task finished at 2023-10-31 09:17:22.535944First task finished at 2023-10-31 09:17:22.536560\n",
      "\n",
      "Second task started at 2023-10-31 09:17:22.559639First task started at 2023-10-31 09:17:22.559555\n",
      "\n",
      "Second task finished at 2023-10-31 09:17:23.564162First task finished at 2023-10-31 09:17:23.565073\n",
      "\n",
      "First task started at 2023-10-31 09:17:23.587593Second task started at 2023-10-31 09:17:23.587658\n",
      "\n",
      "First task finished at 2023-10-31 09:17:24.590145Second task finished at 2023-10-31 09:17:24.590408\n",
      "\n",
      "First task started at 2023-10-31 09:17:24.614049Second task started at 2023-10-31 09:17:24.614116\n",
      "\n",
      "First task finished at 2023-10-31 09:17:25.617927Second task finished at 2023-10-31 09:17:25.618036\n",
      "\n",
      "First task started at 2023-10-31 09:17:25.642228Second task started at 2023-10-31 09:17:25.642283\n",
      "\n",
      "First task finished at 2023-10-31 09:17:26.645751Second task finished at 2023-10-31 09:17:26.645907\n",
      "\n",
      "First task started at 2023-10-31 09:17:26.670852Second task started at 2023-10-31 09:17:26.670924\n",
      "\n",
      "First task finished at 2023-10-31 09:17:27.673938Second task finished at 2023-10-31 09:17:27.673974\n",
      "\n",
      "First task started at 2023-10-31 09:17:27.696017Second task started at 2023-10-31 09:17:27.696115\n",
      "\n",
      "Second task finished at 2023-10-31 09:17:28.700992First task finished at 2023-10-31 09:17:28.701942\n",
      "\n"
     ]
    }
   ],
   "source": [
    "from datetime import datetime as dt\n",
    "from time import sleep\n",
    "from multiprocessing import Pool\n",
    "\n",
    "def task(name: str):\n",
    "    \"\"\"\n",
    "    This function defines a fictional task that takes one second\n",
    "    to complete and prints when it started and finished.\n",
    "    \"\"\"\n",
    "    print(f\"{name} started at {dt.now()}\")\n",
    "    sleep(1)\n",
    "    print(f\"{name} finished at {dt.now()}\")\n",
    "\n",
    "\n",
    "\n",
    "def two_tasks():\n",
    "    with Pool(3) as p:\n",
    "        p.map(task, [\"First task\", \"Second task\"])\n",
    "\n",
    "\n",
    "for i in range(10):\n",
    "    two_tasks()"
   ]
  },
  {
   "cell_type": "markdown",
   "metadata": {},
   "source": [
    "We use `Pool` as a [context manager](https://book.pythontips.com/en/latest/context_managers.html) and use the `map` method of the pool object to call the function `task` with a list of arguments. Internally, this will create and run a separate process for each value in the list.\n",
    "\n",
    "As you can see from the console output, the two task not only run simultaneously (**concurrently**) but also in parallel. This output highlights quite well one problem with concurrent computations: the order of completion is **non-deterministic**. We cannot know a priori which process will be started first and which process will complete first. If the order of the results is important, you need to make sure to send and return some sort of identifier with each job, so that you can reconstruct the right order.\n",
    "\n",
    "However, if we use `map`, it takes care of managing the order of tasks automatically:"
   ]
  },
  {
   "cell_type": "code",
   "execution_count": 13,
   "metadata": {},
   "outputs": [
    {
     "name": "stdout",
     "output_type": "stream",
     "text": [
      "Process 2 started at 2023-10-31 09:38:22.802498Process 1 started at 2023-10-31 09:38:22.802352Process 0 started at 2023-10-31 09:38:22.802282\n",
      "\n",
      "\n",
      "Process 1 finished at 2023-10-31 09:38:22.804046Process 0 finished at 2023-10-31 09:38:22.804153Process 2 finished at 2023-10-31 09:38:22.804051\n",
      "\n",
      "\n",
      "Process 3 started at 2023-10-31 09:38:22.804730Process 4 started at 2023-10-31 09:38:22.804826Process 5 started at 2023-10-31 09:38:22.805063\n",
      "\n",
      "\n",
      "Process 4 finished at 2023-10-31 09:38:22.805455Process 5 finished at 2023-10-31 09:38:22.805627\n",
      "Process 3 finished at 2023-10-31 09:38:22.805599Process 6 started at 2023-10-31 09:38:22.805979\n",
      "\n",
      "\n",
      "Process 6 finished at 2023-10-31 09:38:22.806393Process 8 started at 2023-10-31 09:38:22.806500Process 7 started at 2023-10-31 09:38:22.806376\n",
      "Process 8 finished at 2023-10-31 09:38:22.806961\n",
      "\n",
      "\n",
      "Process 9 started at 2023-10-31 09:38:22.807409Process 7 finished at 2023-10-31 09:38:22.807244\n",
      "\n",
      "Process 9 finished at 2023-10-31 09:38:22.807992\n",
      "[1, 2, 3, 4, 5, 6, 7, 8, 9, 10]\n"
     ]
    }
   ],
   "source": [
    "from datetime import datetime as dt\n",
    "from time import sleep\n",
    "from multiprocessing import Pool\n",
    "\n",
    "def increment(number: int) -> int:\n",
    "    \"\"\"\n",
    "    This function increments the number by 1.\n",
    "    \"\"\"\n",
    "    name = \"Process \" + str(number)\n",
    "    print(f\"{name} started at {dt.now()}\")\n",
    "    result = number + 1\n",
    "    print(f\"{name} finished at {dt.now()}\")\n",
    "    return result\n",
    "\n",
    "\n",
    "\n",
    "def two_tasks():\n",
    "    with Pool(3) as p:\n",
    "        res = p.map(increment, range(10))\n",
    "    print(res)\n",
    "\n",
    "\n",
    "\n",
    "two_tasks()"
   ]
  },
  {
   "cell_type": "markdown",
   "metadata": {},
   "source": [
    "### Low-level interface: Process, run, join and deadlocks\n",
    "\n",
    "If you instead want more control over the execution of processes, you can directly create processes using the [`Process`](https://docs.python.org/3/library/multiprocessing.html#multiprocessing.Process) object. This offers several methods, primarily:\n",
    "- `run()`: by default, it runs the callable object with the argument passed at the process creation time. \n",
    "    <div class=\"alert alert-block alert-warning\">\n",
    "        <h4><b>Warning</b></h4> The <code>run</code> method is <b>blocking</b> and will just execute the function in the current python process, blocking it until the execution finishes.\n",
    "    </div>\n",
    "- `start()`: it will start the calculation defined by `run()` in a separate process.\n",
    "- `join()`: this methods blocks the python interpreter process until the task defined by the owning `Process` finishes. A process cannot join itself because this would cause a **deadlock**. This is a situation where there is a cycling dependency between some waiting resources. In real life, imagine the situation of two friends waiting for each other to call before going out. \n",
    "\n",
    "\n"
   ]
  },
  {
   "cell_type": "markdown",
   "metadata": {},
   "source": [
    "### Higher level interface\n",
    "In reality, instead of "
   ]
  }
 ],
 "metadata": {
  "kernelspec": {
   "display_name": ".env",
   "language": "python",
   "name": "python3"
  },
  "language_info": {
   "codemirror_mode": {
    "name": "ipython",
    "version": 3
   },
   "file_extension": ".py",
   "mimetype": "text/x-python",
   "name": "python",
   "nbconvert_exporter": "python",
   "pygments_lexer": "ipython3",
   "version": "3.11.3"
  },
  "orig_nbformat": 4
 },
 "nbformat": 4,
 "nbformat_minor": 2
}
