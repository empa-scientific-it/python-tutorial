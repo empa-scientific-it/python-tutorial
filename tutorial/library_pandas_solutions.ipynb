{
 "cells": [
  {
   "cell_type": "markdown",
   "id": "0fc7fa8d-1088-4932-80bf-75066e9a15e8",
   "metadata": {},
   "source": [
    "# Solutions to Pandas exercises"
   ]
  },
  {
   "cell_type": "markdown",
   "id": "c122d454-6d0b-4187-92f5-63fdddcdc4a0",
   "metadata": {},
   "source": [
    "This notebook contains the solutions to some exercises about Pandas that didn't (or couldn't) have a test.\n",
    "Exercises are grouped by the same main sections of the [Pandas notebook](../library_pandas.ipynb)."
   ]
  },
  {
   "cell_type": "code",
   "execution_count": null,
   "id": "61a49949-88a6-455a-a6f4-08dc9cb35b33",
   "metadata": {},
   "outputs": [],
   "source": [
    "import pandas as pd"
   ]
  },
  {
   "cell_type": "markdown",
   "id": "a31d2921-451d-496e-8f06-fa711452c054",
   "metadata": {},
   "source": [
    "## Working with Pandas `DataFrame`"
   ]
  },
  {
   "cell_type": "markdown",
   "id": "b0e608f7-9a6d-4888-b0e0-b989b7ee81ad",
   "metadata": {},
   "source": [
    "A test is provided for each exercise in this section.\n",
    "You can check your solution directly in the main notebook."
   ]
  },
  {
   "cell_type": "markdown",
   "id": "b1dbbbe4-9eab-4e4e-b2b3-97dbaa3ee28f",
   "metadata": {},
   "source": [
    "## Data wrangling"
   ]
  },
  {
   "cell_type": "markdown",
   "id": "6f2dc6b3-d7ec-4a15-af7b-f5e64381fb12",
   "metadata": {},
   "source": [
    "### Exercise 1"
   ]
  },
  {
   "cell_type": "code",
   "execution_count": null,
   "id": "ef099fce-febd-4e48-ab2e-484d2f756e89",
   "metadata": {},
   "outputs": [],
   "source": [
    "faang = pd.DataFrame()\n",
    "\n",
    "for ticker in ['fb', 'aapl', 'amzn', 'nflx', 'goog']:\n",
    "    df = pd.read_csv(f'../data/02/exercises/{ticker}.csv')\n",
    "    \n",
    "    # make the ticker the first column\n",
    "    df.insert(0, 'ticker', ticker.upper())\n",
    "    \n",
    "    # append the new data\n",
    "    faang = pd.concat([faang, df])\n",
    "\n",
    "# just have a look at the resulting dataset\n",
    "faang.head(-5)\n",
    "    \n",
    "# faang.to_csv('faang.csv', index=False)"
   ]
  },
  {
   "cell_type": "markdown",
   "id": "f8fe414c-93d9-4e97-83ed-a70d060d67af",
   "metadata": {},
   "source": [
    "### Exercise 2"
   ]
  },
  {
   "cell_type": "code",
   "execution_count": null,
   "id": "1cae5b90-a5ea-432c-b11f-65bcfd38bc80",
   "metadata": {},
   "outputs": [],
   "source": [
    "faang = faang.assign(\n",
    "    date=lambda x: pd.to_datetime(x.date),\n",
    "    volume=lambda x: x.volume.astype(int)\n",
    ").sort_values(\n",
    "    ['date', 'ticker']\n",
    ")\n",
    "\n",
    "faang.head()"
   ]
  },
  {
   "cell_type": "markdown",
   "id": "aa21633f-a156-4781-ad13-7db319e7ae59",
   "metadata": {},
   "source": [
    "### Exercise 3"
   ]
  },
  {
   "cell_type": "code",
   "execution_count": null,
   "id": "ed0759ac-baaf-4135-9fab-4713c1d48dab",
   "metadata": {},
   "outputs": [],
   "source": [
    "faang.nsmallest(7, 'volume')"
   ]
  },
  {
   "cell_type": "markdown",
   "id": "c42b7b49-bebd-413b-a878-a2c57c8d352b",
   "metadata": {},
   "source": [
    "## Data aggregation"
   ]
  },
  {
   "cell_type": "code",
   "execution_count": null,
   "id": "17813420-7d21-4a15-b15e-712d5db25ad1",
   "metadata": {},
   "outputs": [],
   "source": [
    "import pandas as pd\n",
    "import numpy as np\n",
    "\n",
    "quakes = pd.read_csv('../data/03/exercises/earthquakes.csv')\n",
    "faang = pd.read_csv('../data/03/exercises/faang.csv', index_col='date', parse_dates=True)"
   ]
  },
  {
   "cell_type": "markdown",
   "id": "4430c9c8-ca6b-46af-b7a9-10fb6c6cbc35",
   "metadata": {},
   "source": [
    "### Exercise 1"
   ]
  },
  {
   "cell_type": "code",
   "execution_count": null,
   "id": "56e4f185-ab03-4b72-8541-e227405c1dc2",
   "metadata": {},
   "outputs": [],
   "source": [
    "quakes.query(\n",
    "    \"parsed_place == 'Japan' and magType == 'mb' and mag >= 4.9\"\n",
    ")[['mag', 'magType', 'place']]"
   ]
  },
  {
   "cell_type": "markdown",
   "id": "ca06b857-4116-4428-9efb-b11298695316",
   "metadata": {},
   "source": [
    "### Exercise 2"
   ]
  },
  {
   "cell_type": "code",
   "execution_count": null,
   "id": "218b724c-7482-4f31-9c58-6fd0f5ab5b5d",
   "metadata": {},
   "outputs": [],
   "source": [
    "quakes.query(\"magType == 'ml'\").assign(\n",
    "    mag_bin=lambda x: pd.cut(x.mag, np.arange(0, 10))\n",
    ").mag_bin.value_counts()"
   ]
  },
  {
   "cell_type": "markdown",
   "id": "8243a990-da2f-4dbc-b096-2c29bc68f861",
   "metadata": {},
   "source": [
    "### Exercise 3"
   ]
  },
  {
   "cell_type": "markdown",
   "id": "d65fd016-9710-401c-b457-27338a1276ec",
   "metadata": {},
   "source": [
    "***Note:** we replaced the aggregation operators (or callbacks) `np.mean`, `np.max`, etc. with their string equivalents. This is because explicit callbacks are deprecated in Pandas.*"
   ]
  },
  {
   "cell_type": "code",
   "execution_count": null,
   "id": "2b42a50c-c12f-4699-85d5-0774ca943026",
   "metadata": {},
   "outputs": [],
   "source": [
    "faang.groupby('ticker').resample('1M').agg(\n",
    "    {\n",
    "        'open': 'mean',\n",
    "        'high': 'max',\n",
    "        'low': 'min',\n",
    "        'close': 'mean',\n",
    "        'volume': 'sum'\n",
    "    }\n",
    ")"
   ]
  }
 ],
 "metadata": {
  "kernelspec": {
   "display_name": "Python 3 (ipykernel)",
   "language": "python",
   "name": "python3"
  },
  "language_info": {
   "codemirror_mode": {
    "name": "ipython",
    "version": 3
   },
   "file_extension": ".py",
   "mimetype": "text/x-python",
   "name": "python",
   "nbconvert_exporter": "python",
   "pygments_lexer": "ipython3",
   "version": "3.12.0"
  }
 },
 "nbformat": 4,
 "nbformat_minor": 5
}
