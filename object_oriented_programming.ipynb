{
 "cells": [
  {
   "cell_type": "markdown",
   "id": "6805e1bf-0da6-4ee5-9a1a-a2c2cd56fa9f",
   "metadata": {},
   "source": [
    "# Object-oriented Programming"
   ]
  },
  {
   "attachments": {},
   "cell_type": "markdown",
   "id": "4a46253e-a085-4d96-8392-4534adbafab0",
   "metadata": {},
   "source": [
    "## Table of contents\n",
    "\n",
    "- [Classes as blueprints](#A-class-as-a-blueprint-of-objects)"
   ]
  },
  {
   "cell_type": "markdown",
   "id": "c7bce9ed-50a7-45e2-a741-799ec2a8d8c0",
   "metadata": {},
   "source": [
    "## References"
   ]
  },
  {
   "cell_type": "markdown",
   "id": "81c741e8-ab31-4c0b-8651-66853f24af93",
   "metadata": {},
   "source": [
    "* [Python Data Model](https://docs.python.org/3/reference/datamodel.html)"
   ]
  },
  {
   "cell_type": "markdown",
   "id": "58a632a3-dd6a-4f04-8cb6-d2a4293e79aa",
   "metadata": {},
   "source": [
    "## A `class` as a blueprint of objects"
   ]
  },
  {
   "cell_type": "markdown",
   "id": "0c64e447-436f-40fb-aa20-450cecf073cc",
   "metadata": {},
   "source": [
    "## Methods and attributes"
   ]
  },
  {
   "cell_type": "markdown",
   "id": "b4e939be-bc33-4d89-a7ec-1149ec05d9c0",
   "metadata": {},
   "source": [
    "## Python's *special methods*"
   ]
  },
  {
   "cell_type": "markdown",
   "id": "0f394fcf-6dca-4867-b098-51e97adcd268",
   "metadata": {},
   "source": [
    "Special methods are methods that belong to Python's data model.\n",
    "\n",
    "> All data in a Python program is represented by objects or by relations between objects.\n",
    "\n",
    "These are also called **dunder methods**, that is, \"double-underscore methods\". There are special **attributes** as well."
   ]
  },
  {
   "cell_type": "markdown",
   "id": "e1c92732-f58c-4afa-9212-ae8231784725",
   "metadata": {},
   "source": [
    "## Exercises"
   ]
  },
  {
   "cell_type": "markdown",
   "id": "419b5378-ff17-4ed3-8203-97c132918cb7",
   "metadata": {
    "tags": []
   },
   "source": [
    "### Intcode computer 🌶️🌶️"
   ]
  },
  {
   "cell_type": "markdown",
   "id": "ce95cc4a-9dc4-4da5-b906-9ab3a85fda5e",
   "metadata": {},
   "source": [
    "An **Intcode program** is a list of integers separated by commas (e.g. `1, 0, 0, 3, 99`). The first number is called \"position `0`\". Each number represents either an **opcode** or a **position**.\n",
    "\n",
    "An opcode indicates what to do and it's either `1`, `2`, or `99`. The meaning of each opcode is the following:\n",
    "\n",
    "1. `99` means that the program should immediately terminate. No instruction will be executed after encountering this opcode.\n",
    "\n",
    "2. `1` **adds** together numbers read from **two positions** and stores the result in a **third position**. The three integers **immediately after** the opcode indicates these three positions. For example, the Intcode program `1,10,20,30` should be executed as: read the values at positions `10` and `20`, add those values, and the overwrite the value at position `30`.\n",
    "\n",
    "3. `2` works exactly like opcode `1`, but it **multiplies** the two inputs instead of adding them. Again, the three integers following the opcode indicates **where** the inputs and outputs are, not their **values**.\n",
    "\n",
    "Finally, when the computer is done with an opcode, it moves to the next one by stepping **forward 4 positions**.\n",
    "\n",
    "For example, consider the following program\n",
    "\n",
    "```\n",
    "1,9,10,3,2,3,11,0,99,30,40,50\n",
    "```\n",
    "\n",
    "which can be splitted into multiple lines to indicate the 4 instructions (opcodes):\n",
    "\n",
    "```\n",
    "1,9,10,3,\n",
    "2,3,11,0,\n",
    "99,\n",
    "30,40,50\n",
    "```\n",
    "\n",
    "The first line represents the **sum** (opcode `1`) of the values stored at positions `9` (that is `30`) and `10` (that is `40`). The result (`70`) is then stored at position `3`. Afterward, the program becomes:\n",
    "\n",
    "```\n",
    "1,9,10,70,\n",
    "2,3,11,0,\n",
    "99,\n",
    "30,40,50\n",
    "```\n",
    "\n",
    "Stepping forward by 4 positions, we end up on the second line, which represents a **multiplication** operation (opcode `2`). Take the values at positions `3` and `11`, multiply them, and save the result at position `0`. You obtain:\n",
    "\n",
    "```\n",
    "3500,9,10,70,\n",
    "2,3,11,0,\n",
    "99,\n",
    "30,40,50\n",
    "```"
   ]
  },
  {
   "cell_type": "markdown",
   "id": "8fca33f7-e6ab-4eac-b4bc-287e676ae126",
   "metadata": {},
   "source": [
    "For this exercise, your input program is the following string:"
   ]
  },
  {
   "cell_type": "code",
   "execution_count": null,
   "id": "792b0bdf-7c0f-4c23-94db-f720cf226bb8",
   "metadata": {},
   "outputs": [],
   "source": [
    "intcode_program = \"1,12,2,3,1,1,2,3,1,3,4,3,1,5,0,3,2,13,1,19,1,9,19,23,2,23,13,27,1,27,9,31,2,31,6,35,1,5,35,39,1,10,39,43,2,43,6,47,1,10,47,51,2,6,51,55,1,5,55,59,1,59,9,63,1,13,63,67,2,6,67,71,1,5,71,75,2,6,75,79,2,79,6,83,1,13,83,87,1,9,87,91,1,9,91,95,1,5,95,99,1,5,99,103,2,13,103,107,1,6,107,111,1,9,111,115,2,6,115,119,1,13,119,123,1,123,6,127,1,127,5,131,2,10,131,135,2,135,10,139,1,13,139,143,1,10,143,147,1,2,147,151,1,6,151,0,99,2,14,0,0\""
   ]
  },
  {
   "cell_type": "markdown",
   "id": "b2f287fe-0d6b-4a42-89e5-d331f502d91c",
   "metadata": {},
   "source": [
    "<div class=\"alert alert-block alert-warning\">\n",
    "<b>Question:</b> What value is left at position <code>0</code> after the program stops?\n",
    "</div>"
   ]
  },
  {
   "cell_type": "markdown",
   "id": "9ac11838-bcd1-4c7a-82e4-e89bc719f2c2",
   "metadata": {},
   "source": [
    "Here are the initial and final states of a few small programs:\n",
    "\n",
    "- `1,0,0,0,99` becomes `2,0,0,0,99`, so the value at `0` is `2`\n",
    "- `2,3,0,3,99` becomes `2,3,0,6,99` (value at `0` is `2`)\n",
    "- `1,1,1,4,99,5,6,0,99` becomes `30,1,1,4,2,5,6,0,99` (value at `0` is `30`)"
   ]
  },
  {
   "cell_type": "markdown",
   "id": "1793c96c-0690-4c1f-8dda-72ed924497ca",
   "metadata": {},
   "source": [
    "<div class=\"alert alert-block alert-info\">\n",
    "<b>Hint:</b> Write a Python class called <code>Computer</code> with a method called <code>run()</code>. <br>The class <code>__init__()</code> method should process your input string and assign the attribute <code>program</code>, which should be a <b>list</b> of integers. \n",
    "</div>"
   ]
  },
  {
   "cell_type": "markdown",
   "id": "a75e854c-235c-4534-9d0b-cf15436b9bce",
   "metadata": {},
   "source": [
    "<div class=\"alert alert-block alert-info\">\n",
    "    <b>Hint:</b> Make sure that your Intcode computer <b>correctly</b> runs the above test programs and returns the final states provided.\n",
    "</div>"
   ]
  },
  {
   "cell_type": "markdown",
   "id": "09ef6028-b6a6-4f79-a418-bce3e3e3f60f",
   "metadata": {
    "tags": []
   },
   "source": [
    "### The N-body problem 🌶️🌶️🌶️"
   ]
  },
  {
   "attachments": {},
   "cell_type": "markdown",
   "id": "d35cd1ca-4b05-4b5e-bf13-9b80ce02a0d2",
   "metadata": {},
   "source": [
    "On a boring and rainy Sunday afternoon, you decide that you want to attempt writing a Python program that simulates the orbits of Jupiter's moons. To start with, you decide to focus your efforts on tracking just **four** of the largest moons: Io, Europa, Ganymede, and Callisto.\n",
    "\n",
    "After a brief scan and some careful calculations, you successfully record the **position of each moon in a 3-dimensional space**. You set each moon's velocity to `0` in each direction, and the starting point for their orbits. Your next task is to simulate their motion over time, so you can avoid any potential collisions.\n",
    "\n",
    "You can simulate the motion of the moons in **time steps**. At each time step, first update the **velocity** of evey moon by computing the **gravity interaction** with the other moons. Then, once all the velocities are up to date, you can update the **position** of every moon by applying their velocities. Afterwards, your simulation can advance by one time step.\n",
    "\n",
    "To perform a simulation, proceed as follows:\n",
    "\n",
    "1. Consider every **pair** of moons. On each axis, the velocity changes by **exactly `+1` or `-1`**\n",
    "\n",
    "2. To determine the sign of the velocity change, consider the moons' positions. For example, if $G$ stands for Ganymede and $C$ for Callisto:\n",
    "    * If $G_x = 3$ – that is, the `x` position of Ganymede – and $C_x = 5$, then Ganymede's `x` velocity changes by `+1` (because `5 > 3`), and Callisto's `x` velocity must change by `-1` (because `3 < 5`).\n",
    "    * If the positions on a given axis **are the same**, then the velocity on that axis doesn't change at all.\n",
    "    \n",
    "3. Once the gravity has been calculated, update the velocity: simply **add the velocity** of each moon to its current position. For example, if Europa's position is `x=1, y=2, z=3` and its velocity `x=-2, y=0, z=3`, then the new position would be `x=-1, y=2, z=6`.\n",
    "\n",
    "Now, the starting positions of the four moons are given by the following input string:"
   ]
  },
  {
   "cell_type": "code",
   "execution_count": null,
   "id": "28613929-9d17-48de-ac8d-ac1071f6c6b8",
   "metadata": {},
   "outputs": [],
   "source": [
    "moons = \"\"\"\n",
    "Ganymede: x=-4, y=3, z=15\n",
    "Io: x=-11, y=-10, z=13\n",
    "Europa: x=2, y=2, z=18\n",
    "Callisto: x=7, y=-1, z=0\n",
    "\"\"\""
   ]
  },
  {
   "cell_type": "markdown",
   "id": "2ed3e4b8-172e-453c-b911-fc230570e86a",
   "metadata": {},
   "source": [
    "<div class=\"alert alert-block alert-info\">\n",
    "    <b>Hint:</b> Write a Python class called <code>Moon</code> that stores all the properties of a single moon. You should have <b>two lists</b> of integers, one for the positions and one for the velocities.\n",
    "</div>"
   ]
  },
  {
   "cell_type": "markdown",
   "id": "f49e4dd6-5d3b-4851-b5b3-8d7ba7cd59e5",
   "metadata": {},
   "source": [
    "<div class=\"alert alert-block alert-info\">\n",
    "    <b>Hint:</b> You should know enough Python to parse the input above. Use <b>comprehension expressions</b> and strings splitting methods.\n",
    "</div>"
   ]
  },
  {
   "attachments": {},
   "cell_type": "markdown",
   "id": "2f6d0b93-ce34-4985-aa15-0d90517ce336",
   "metadata": {},
   "source": [
    "To have a complete account of the moons' orbits, you need to compute the **total energy of the system**. The total energy for a single moon is its **potential energy** multiplied by its **kinetic energy**.\n",
    "\n",
    "To compute the energies:\n",
    "\n",
    "1. Kinetic energy: it's the sum of the **absolute values** of its velocity components.\n",
    "2. Potential energy: it's the sum of the **absolute values** of its positional coordinates.\n",
    "\n",
    "Considering the following example as a starting point:\n",
    "\n",
    "```\n",
    "Ganymede: x=-1, y=0, z=2\n",
    "Io: x=2, y=-10, z=-7\n",
    "Europa: x=4, y=-8, z=8\n",
    "Callisto: x=3, y=5, z=-1\n",
    "```\n",
    "\n",
    "After simulating **10 time steps**, the system's configurations is\n",
    "\n",
    "```\n",
    "Ganymede: x= 2, y= 1, z=-3, vx=-3, vy=-2, vz=1\n",
    "Io: x= 1, y=-8, z= 0, vx=-1, vy= 1, vz=3\n",
    "Europa: x= 3, y=-6, z= 1, vx= 3, vy= 2, vz=-3\n",
    "Callisto: x= 2, y= 0, z= 4, vx= 1, vy=-1, vz=-1\n",
    "```\n",
    "\n",
    "And therefore the energy:\n",
    "\n",
    "```\n",
    "pot: 2 + 1 + 3 =  6;   kin: 3 + 2 + 1 = 6;   total:  6 * 6 = 36\n",
    "pot: 1 + 8 + 0 =  9;   kin: 1 + 1 + 3 = 5;   total:  9 * 5 = 45\n",
    "pot: 3 + 6 + 1 = 10;   kin: 3 + 2 + 3 = 8;   total: 10 * 8 = 80\n",
    "pot: 2 + 0 + 4 =  6;   kin: 1 + 1 + 1 = 3;   total:  6 * 3 = 18\n",
    "\n",
    "Sum of total energy: 36 + 45 + 80 + 18 = 179\n",
    "```"
   ]
  },
  {
   "cell_type": "markdown",
   "id": "024c6e45-4204-4930-9e1c-47a7a472236c",
   "metadata": {},
   "source": [
    "<div class=\"alert alert-block alert-warning\">\n",
    "<b>Question:</b> What is the <b>total energy of the system</b> after simulating the moons for <b>1000 time steps</b>?\n",
    "</div>"
   ]
  },
  {
   "cell_type": "markdown",
   "id": "ccb911c1-625a-45e9-b21d-7057bcc2672e",
   "metadata": {},
   "source": [
    "<div class=\"alert alert-block alert-info\">\n",
    "    <b>Hint:</b> You should create another class called <code>Universe</code> which contains all the moons in your system, and a method <code>evolve()</code> that performs the evolution of a single time step. You should also add a method that computes the total energy.\n",
    "</div>"
   ]
  }
 ],
 "metadata": {
  "jupytext": {
   "formats": "ipynb,md"
  },
  "kernelspec": {
   "display_name": "Python 3 (ipykernel)",
   "language": "python",
   "name": "python3"
  },
  "language_info": {
   "codemirror_mode": {
    "name": "ipython",
    "version": 3
   },
   "file_extension": ".py",
   "mimetype": "text/x-python",
   "name": "python",
   "nbconvert_exporter": "python",
   "pygments_lexer": "ipython3",
   "version": "3.11.0"
  }
 },
 "nbformat": 4,
 "nbformat_minor": 5
}
