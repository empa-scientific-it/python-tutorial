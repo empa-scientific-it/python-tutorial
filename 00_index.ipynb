{
 "cells": [
  {
   "cell_type": "markdown",
   "metadata": {},
   "source": [
    "# Introduction\n",
    "\n",
    "- [Introduction to the tutorial](./00_intro.ipynb)\n",
    "\n",
    "# Basic Tutorial\n",
    "\n",
    "- [Basic datatypes](./01_basic_datatypes.ipynb)\n",
    "- [Control Flow](./02_control_flow.ipynb)\n",
    "- [Functions](./03_functions.ipynb)\n",
    "- [Input-Output](./04_input_output.ipynb)\n",
    "- [Object-oriented programming](./05_object_oriented_programming.ipynb)\n",
    "- [Modules and packages](./06_modules_and_packages.ipynb)\n",
    "\n",
    "# Advanced tutorial\n",
    "\n",
    "- [Manage Python project](./10_manage_python_project.ipynb)\n",
    "- [Functional programming](./11_functional_programming.ipynb)\n",
    "- [Advanced functions](./12_functions_advanced.ipynb)\n",
    "- [Advanced Object-oriented programming](./13_object_oriented_programming_advanced.ipynb)\n",
    "\n",
    "# Libraries\n",
    "\n",
    "- [Matplotlib](./20_library_matplotlib.ipynb)\n",
    "- [NumPy](./21_library_numpy.ipynb)\n",
    "- [scikit-learn](./22_library_sklearn.ipynb)\n",
    "- [SciPy](./23_library_scipy.ipynb)\n",
    "- [Pandas](./24_library_pandas.ipynb)\n",
    "\n",
    "# Hands-On Projects\n",
    "\n",
    "- [Introduction to data exploration](./30_introduction_data_exploration.ipynb)\n",
    "- [Image Classification](./31_image_classification.ipynb)\n",
    "\n",
    "# Additional Topics\n",
    "\n",
    "- [Parallelism and concurrency in Python](./14_threads.ipynb)\n"
   ]
  },
  {
   "cell_type": "code",
   "execution_count": null,
   "metadata": {},
   "outputs": [],
   "source": []
  }
 ],
 "metadata": {
  "kernelspec": {
   "display_name": "Python 3 (ipykernel)",
   "language": "python",
   "name": "python3"
  },
  "language_info": {
   "codemirror_mode": {
    "name": "ipython",
    "version": 3
   },
   "file_extension": ".py",
   "mimetype": "text/x-python",
   "name": "python",
   "nbconvert_exporter": "python",
   "pygments_lexer": "ipython3",
   "version": "3.12.10"
  }
 },
 "nbformat": 4,
 "nbformat_minor": 4
}
