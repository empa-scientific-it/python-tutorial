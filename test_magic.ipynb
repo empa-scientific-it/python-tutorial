{
 "cells": [
  {
   "cell_type": "code",
   "execution_count": 299,
   "metadata": {},
   "outputs": [],
   "source": [
    "%reload_ext tests.testsuite"
   ]
  },
  {
   "cell_type": "code",
   "execution_count": 302,
   "metadata": {},
   "outputs": [
    {
     "name": "stdout",
     "output_type": "stream",
     "text": [
      "sdfg\n",
      "\n"
     ]
    },
    {
     "data": {
      "text/html": [
       "Function definition output: <div style=\"white-space:pre\">A\n",
       "</div> Test execution output:<div style=\"white-space:pre\">sdfg\n",
       "</div> Test result:<div><font color=red>The solution is not correct! &#x1F631 The following tests failed:<div style=\"white-space:pre\"><ul><li>AssertionError: 14 != 1 : Expected result is 1</li></ul></div></font></div>"
      ],
      "text/plain": [
       "<IPython.core.display.HTML object>"
      ]
     },
     "metadata": {},
     "output_type": "display_data"
    }
   ],
   "source": [
    "%%celltest exercise_1 test_example.Exercise1Test\n",
    "\n",
    "print(\"defining\")\n",
    "def exercise_1(x: int) -> int:\n",
    "    print(\"running\")\n",
    "    return 14\n"
   ]
  }
 ],
 "metadata": {
  "kernelspec": {
   "display_name": "Python 3 (ipykernel)",
   "language": "python",
   "name": "python3"
  },
  "language_info": {
   "codemirror_mode": {
    "name": "ipython",
    "version": 3
   },
   "file_extension": ".py",
   "mimetype": "text/x-python",
   "name": "python",
   "nbconvert_exporter": "python",
   "pygments_lexer": "ipython3",
   "version": "3.10.10"
  },
  "vscode": {
   "interpreter": {
    "hash": "5b23e288cb339fd27cbf7c6c27fd1bef901438edaa6bc287ee3005bd465f32cf"
   }
  }
 },
 "nbformat": 4,
 "nbformat_minor": 4
}
