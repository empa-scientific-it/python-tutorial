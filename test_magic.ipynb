{
 "cells": [
  {
   "cell_type": "code",
   "execution_count": 1,
   "metadata": {
    "tags": []
   },
   "outputs": [],
   "source": [
    "%reload_ext tutorial.tests.testsuite"
   ]
  },
  {
   "cell_type": "code",
   "execution_count": 2,
   "metadata": {
    "tags": []
   },
   "outputs": [
    {
     "name": "stdout",
     "output_type": "stream",
     "text": [
      "\u001b[31mF\u001b[0m\u001b[32m.\u001b[0m\u001b[31mF\u001b[0m\u001b[31mF\u001b[0m\u001b[31mF\u001b[0m\u001b[31m                                                                    [100%]\u001b[0m\n",
      "=================================== FAILURES ===================================\n",
      "\u001b[31m\u001b[1m___________________________ test_power2[power2-1-1] ____________________________\u001b[0m\n",
      "\u001b[1m\u001b[31mtutorial/tests/test_example.py\u001b[0m:20: in test_power2\n",
      "    \u001b[94massert\u001b[39;49;00m function_to_test(input_arg) == expected_output\u001b[90m\u001b[39;49;00m\n",
      "\u001b[1m\u001b[31mE   assert 2 == 1\u001b[0m\n",
      "\u001b[1m\u001b[31mE    +  where 2 = <function power2 at 0x103726d40>(1)\u001b[0m\n",
      "----------------------------- Captured stdout call -----------------------------\n",
      "running\n",
      "\u001b[31m\u001b[1m___________________________ test_power2[power2-3-9] ____________________________\u001b[0m\n",
      "\u001b[1m\u001b[31mtutorial/tests/test_example.py\u001b[0m:20: in test_power2\n",
      "    \u001b[94massert\u001b[39;49;00m function_to_test(input_arg) == expected_output\u001b[90m\u001b[39;49;00m\n",
      "\u001b[1m\u001b[31mE   assert 6 == 9\u001b[0m\n",
      "\u001b[1m\u001b[31mE    +  where 6 = <function power2 at 0x103726d40>(3)\u001b[0m\n",
      "----------------------------- Captured stdout call -----------------------------\n",
      "running\n",
      "\u001b[31m\u001b[1m___________________________ test_power2[power2-4-16] ___________________________\u001b[0m\n",
      "\u001b[1m\u001b[31mtutorial/tests/test_example.py\u001b[0m:20: in test_power2\n",
      "    \u001b[94massert\u001b[39;49;00m function_to_test(input_arg) == expected_output\u001b[90m\u001b[39;49;00m\n",
      "\u001b[1m\u001b[31mE   assert 8 == 16\u001b[0m\n",
      "\u001b[1m\u001b[31mE    +  where 8 = <function power2 at 0x103726d40>(4)\u001b[0m\n",
      "----------------------------- Captured stdout call -----------------------------\n",
      "running\n",
      "\u001b[31m\u001b[1m_________________________ test_power2[power2-32-1024] __________________________\u001b[0m\n",
      "\u001b[1m\u001b[31mtutorial/tests/test_example.py\u001b[0m:20: in test_power2\n",
      "    \u001b[94massert\u001b[39;49;00m function_to_test(input_arg) == expected_output\u001b[90m\u001b[39;49;00m\n",
      "\u001b[1m\u001b[31mE   assert 64 == 1024\u001b[0m\n",
      "\u001b[1m\u001b[31mE    +  where 64 = <function power2 at 0x103726d40>(32)\u001b[0m\n",
      "----------------------------- Captured stdout call -----------------------------\n",
      "running\n",
      "\u001b[36m\u001b[1m=========================== short test summary info ============================\u001b[0m\n",
      "\u001b[31mFAILED\u001b[0m tutorial/tests/test_example.py::\u001b[1mtest_power2[power2-1-1]\u001b[0m - assert 2 == 1\n",
      "\u001b[31mFAILED\u001b[0m tutorial/tests/test_example.py::\u001b[1mtest_power2[power2-3-9]\u001b[0m - assert 6 == 9\n",
      "\u001b[31mFAILED\u001b[0m tutorial/tests/test_example.py::\u001b[1mtest_power2[power2-4-16]\u001b[0m - assert 8 == 16\n",
      "\u001b[31mFAILED\u001b[0m tutorial/tests/test_example.py::\u001b[1mtest_power2[power2-32-1024]\u001b[0m - assert 64 == 1024\n",
      "\u001b[31m\u001b[31m\u001b[1m4 failed\u001b[0m, \u001b[32m1 passed\u001b[0m\u001b[31m in 0.08s\u001b[0m\u001b[0m\n",
      "\n"
     ]
    },
    {
     "data": {
      "text/html": [
       "<div class=\"alert alert-box alert-danger\"><h4>Tests <strong>FAILED</strong> for function <code>power2</code></h4>&#x1F631 Your solution was not correct!</div>"
      ],
      "text/plain": [
       "<IPython.core.display.HTML object>"
      ]
     },
     "metadata": {},
     "output_type": "display_data"
    },
    {
     "data": {
      "text/html": [
       "<div class=\"alert alert-box alert-success\"><h4>Tests <strong>PASSED</strong> for function <code>power3</code></h4>&#x1F64C Congratulations, your solution was correct!</div>"
      ],
      "text/plain": [
       "<IPython.core.display.HTML object>"
      ]
     },
     "metadata": {},
     "output_type": "display_data"
    }
   ],
   "source": [
    "%%test_functions_from_cell\n",
    "\n",
    "def power2(x: int) -> int:\n",
    "    print(\"running\")\n",
    "    return x * 2\n",
    "\n",
    "def power3(x: int) -> int:\n",
    "    print(\"running\")\n",
    "    return x ** 3"
   ]
  },
  {
   "cell_type": "code",
   "execution_count": null,
   "metadata": {},
   "outputs": [],
   "source": []
  }
 ],
 "metadata": {
  "kernelspec": {
   "display_name": "Python 3 (ipykernel)",
   "language": "python",
   "name": "python3"
  },
  "language_info": {
   "codemirror_mode": {
    "name": "ipython",
    "version": 3
   },
   "file_extension": ".py",
   "mimetype": "text/x-python",
   "name": "python",
   "nbconvert_exporter": "python",
   "pygments_lexer": "ipython3",
   "version": "3.11.1"
  },
  "vscode": {
   "interpreter": {
    "hash": "5b23e288cb339fd27cbf7c6c27fd1bef901438edaa6bc287ee3005bd465f32cf"
   }
  }
 },
 "nbformat": 4,
 "nbformat_minor": 4
}
