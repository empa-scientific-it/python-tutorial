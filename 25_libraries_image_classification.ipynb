{
 "cells": [
  {
   "cell_type": "markdown",
   "id": "10140aff",
   "metadata": {},
   "source": [
    "# Image Classification Notebook"
   ]
  },
  {
   "cell_type": "markdown",
   "id": "0f1a238d",
   "metadata": {},
   "source": [
    "## Table of Contents\n",
    "  - [Image Classification Notebook](#Image-Classification-Notebook)\n",
    "    - [References](#References)\n",
    "    - [Libraries](#Libraries)\n",
    "    - [Introduction](#Introduction)\n",
    "    - [Classes](#Classes)\n",
    "    - [Functions](#Functions)\n",
    "    - [Dataset](#Dataset)\n",
    "      - [Load data](#Load-data)\n",
    "    - [Explore image processing](#Explore-image-processing)\n",
    "      - [Geometric transformation](#Geometric-transformation)\n",
    "        - [Scaling](#Scaling)\n",
    "        - [Cropping](#Cropping)\n",
    "        - [Vertical flip](#Vertical-flip)\n",
    "        - [Horizontal flip](#Horizontal-flip)\n",
    "        - [Rotation](#Rotation)\n",
    "      - [Image filtering](#Image-filtering)\n",
    "        - [Average filter](#Average-filter)\n",
    "        - [Median filter](#Median-filter)\n",
    "        - [Gaussian filter](#Gaussian-filter)\n",
    "      - [Photometric transformation](#Photometric-transformation)\n",
    "        - [Adjust brightness](#Adjust-brightness)\n",
    "        - [Adjust contrast](#Adjust-contrast)\n",
    "        - [Adjust saturation](#Adjust-saturation)\n",
    "    - [CNN model development](#CNN-model-development)\n",
    "      - [Data preprocessing](#Data-preprocessing)\n",
    "        - [Data Augmentation](#Data-augmentation)\n",
    "        - [Train, validation, and test sets](#Train-validation-and-test-sets)\n",
    "        - [PyTorch datasets](#Pytorch-datasets)\n",
    "        - [PyTorch dataloaders](#Pytorch-dataloaders)\n",
    "      - [Model training](#Model-training)\n",
    "        - [Training hyperparameters](#Training-hyperparameters)\n",
    "        - [Initialise model architecture](#Initialise-model-architecture)\n",
    "        - [Optimiser](#Optimiser)\n",
    "        - [Train model](#Train-model)\n",
    "        - [Loss function](#Loss-function)\n",
    "      - [Learning curves](#Learning-curves)\n",
    "      - [Model testing](#Model-testing)\n",
    "      - [Explore results](#Explore-results)\n",
    "        - [Compute average accuracy](#Compute-average-accuracy)\n",
    "        - [Compute confusion matrix](#Compute-confusion-matrix)\n",
    "      - [Explain image prediction](#Explain-image-prediction)\n",
    "        - [Load data batch](#Load-data-batch)\n",
    "        - [Compute GradCAM heatmap](#Compute-GradCAM-heatmap)\n",
    "        - [Visualise GradCAM heatmap with the image](#Visualise-GradCAM-heatmap-with-the-image)\n"
   ]
  },
  {
   "cell_type": "markdown",
   "id": "eea0d77c",
   "metadata": {},
   "source": [
    "## Libraries"
   ]
  },
  {
   "cell_type": "markdown",
   "id": "a1581546",
   "metadata": {},
   "source": [
    "- NumPy\n",
    "- Matplotlib\n",
    "- Scikit-learn\n",
    "- OpenCV-Python\n",
    "- PyTorch\n",
    "- Albumentations\n",
    "- PyTorch GradCAM"
   ]
  },
  {
   "cell_type": "code",
   "execution_count": 47,
   "id": "f1f07e51",
   "metadata": {},
   "outputs": [],
   "source": [
    "# Important modules\n",
    "import pytest\n",
    "import os\n",
    "import pickle\n",
    "import numpy as np\n",
    "import pandas as pd\n",
    "from matplotlib import pyplot as plt\n",
    "\n",
    "from sklearn.model_selection import train_test_split\n",
    "from sklearn.metrics import confusion_matrix\n",
    "\n",
    "import cv2\n",
    "\n",
    "import torch\n",
    "import torch.nn as nn\n",
    "import torch.optim as optim\n",
    "from torch.utils.data import Dataset, DataLoader\n",
    "import albumentations as A\n",
    "\n",
    "from pytorch_grad_cam import GradCAM\n",
    "from pytorch_grad_cam.utils.model_targets import ClassifierOutputTarget\n",
    "from pytorch_grad_cam.utils.image import show_cam_on_image"
   ]
  },
  {
   "cell_type": "markdown",
   "id": "d11781b5",
   "metadata": {},
   "source": [
    "## References\n",
    "\n",
    "Here are some additional references to guide you while self-learning:\n",
    "- Official documentation for [openCV](https://docs.opencv.org/4.x/d6/d00/tutorial_py_root.html)\n",
    "- Official documentation for [PIL library](https://pillow.readthedocs.io/en/stable/)\n",
    "- Official documentation for [PyTorch](https://pytorch.org/)\n",
    "- Official documentation for [Albumentations](https://albumentations.ai/)\n",
    "- Official documentation for [PyTorch GradCAM](https://jacobgil.github.io/pytorch-gradcam-book/introduction.html)\n",
    "- [A tutorial from Microsoft to compute image classification using PyTorch](https://learn.microsoft.com/en-us/windows/ai/windows-ml/tutorials/pytorch-train-model)"
   ]
  },
  {
   "cell_type": "markdown",
   "id": "d55143be",
   "metadata": {},
   "source": [
    "## Introduction\n",
    "\n",
    "Image Classification is a foundational task in the field of computer vision and machine learning. This notebook aims to provide practical experience in image processing and in building and evaluating image classification models. It begins by demonstrating how to load and preprocess image data using Matplotlib and OpenCV-Python. Then, it shows how to build a basic image classification pipeline based on Convolutional Neural Networks (CNNs) using PyTorch, Albumentations, and Scikit-learn. Next, it covers how to evaluate model performance using Scikit-learn and NumPy, and finally, it introduces model explainability using Grad-CAM.\n",
    "\n",
    "The goal of this notebook is not to teach the underlying algorithms and procedures used in this field, but rather to give the user an idea of what can be done with these Python libraries."
   ]
  },
  {
   "cell_type": "markdown",
   "id": "9a037a61",
   "metadata": {},
   "source": [
    "## Classes\n",
    "\n",
    "The following three classes are essential for improving modularity and readability.\n",
    "\n",
    "- **ImageDataset** is used to load images along with their labels and to perform image augmentation.\n",
    "- **ImageClassifier** is responsible for building the image classification model, which in this case is based on Convolutional Neural Networks (CNNs).\n",
    "- **Trainer** handles the training and evaluation processes using batches of data.\n",
    "\n",
    "By organizing the code in this way, we simplify debugging and future extensions.\n"
   ]
  },
  {
   "cell_type": "code",
   "execution_count": 2,
   "id": "0644e0df",
   "metadata": {},
   "outputs": [],
   "source": [
    "class ImageDataset(Dataset):\n",
    "    def __init__(self, images, labels, transform=None):\n",
    "        self.images = images\n",
    "        self.labels = labels\n",
    "        self.transform = transform\n",
    " \n",
    "    def __len__(self):\n",
    "        return len(self.images)\n",
    " \n",
    "    def __getitem__(self, idx):\n",
    "        image = self.images[idx]\n",
    "        label = self.labels[idx]\n",
    " \n",
    "        # Ensure the image is in the shape (H, W, C) for Albumentations\n",
    "        image = np.transpose(image, (1, 2, 0))\n",
    "        \n",
    "        # Apply Albumentations transforms\n",
    "        if self.transform:\n",
    "            augmented = self.transform(image=image)\n",
    "            image = augmented['image']\n",
    "\n",
    "        return image, label\n",
    "    \n",
    "class ImageClassifier(nn.Module):\n",
    "    def __init__(self, in_channels=1, out_classes = 1):\n",
    "        super(ImageClassifier, self).__init__()\n",
    "        \n",
    "        # Best model weights\n",
    "        self.best_model_weights = None\n",
    "        \n",
    "        # Convolutional block layers\n",
    "        self.feature_maps = 64\n",
    "        \n",
    "        # First convolutional block\n",
    "        self.conv1 = nn.Conv2d(in_channels, self.feature_maps, kernel_size = 3)\n",
    "        self.pool1 = nn.MaxPool2d(kernel_size = 2)\n",
    "        self.bn1 = nn.BatchNorm2d(self.feature_maps)\n",
    "        \n",
    "        # Second convolutional block\n",
    "        self.conv2 = nn.Conv2d(self.feature_maps, self.feature_maps * 2, kernel_size = 3)\n",
    "        self.pool2 = nn.MaxPool2d(kernel_size = 2)\n",
    "        self.bn2 = nn.BatchNorm2d(self.feature_maps * 2)\n",
    "        \n",
    "        # Third convolutional block\n",
    "        self.conv3 = nn.Conv2d(self.feature_maps * 2, self.feature_maps * 4, kernel_size = 3)\n",
    "        self.pool3 = nn.MaxPool2d(kernel_size = 2)\n",
    "        self.bn3 = nn.BatchNorm2d(self.feature_maps * 4)\n",
    "        \n",
    "        # Rectified linear unit (activation function)\n",
    "        self.relu = nn.ReLU()\n",
    "        \n",
    "        # Flatten layer that produces the features vector\n",
    "        self.flatten = nn.Flatten(start_dim=1)\n",
    "        \n",
    "        # Dropout layer is responsible for introducing regularisation into training process\n",
    "        self.dropout = nn.Dropout(p = 0.3)\n",
    "        \n",
    "        # Number of output classes\n",
    "        self.out_classes = out_classes\n",
    "        \n",
    "        # Classification layer \n",
    "        self.fc = nn.Linear(1024, self.out_classes)\n",
    "    \n",
    "    def forward(self, x):\n",
    "        # Convolutional block 1\n",
    "        x = self.conv1(x)\n",
    "        x = self.pool1(x)\n",
    "        x = self.relu(x)\n",
    "        x = self.bn1(x)\n",
    "        \n",
    "        # Convolutional block 2\n",
    "        x = self.conv2(x)\n",
    "        x = self.pool2(x)\n",
    "        x = self.relu(x)\n",
    "        x = self.bn2(x)\n",
    "        \n",
    "        # Convolutional block 3\n",
    "        x = self.conv3(x)\n",
    "        x = self.pool3(x)\n",
    "        x = self.relu(x)\n",
    "        x = self.bn3(x)\n",
    "        \n",
    "        # Classifier\n",
    "        x = self.flatten(x)\n",
    "        x = self.dropout(x)\n",
    "        x = self.fc(x)\n",
    "        return x\n",
    "\n",
    "class Trainer():\n",
    "    def __init__(self, model):\n",
    "        self.model = model\n",
    "        self.train_losses = []\n",
    "        self.val_losses = []\n",
    "        \n",
    "    def fit(self, epochs, train_dataloader, val_dataloader, optimizer, criterion, device, early_stopping_limit = 0):\n",
    "        early_stopping_count = 0\n",
    "        best_val_loss = 9999\n",
    "        best_epoch = 0\n",
    "        \n",
    "        # Training log file\n",
    "        log_filename = \"training_log.txt\"\n",
    "        with open(log_filename, \"w\") as log_file:\n",
    "            log_file.write(\"Epoch,Train Loss,Val Loss,Best Val Loss,Best Epoch\\n\")\n",
    "\n",
    "        \n",
    "        for epoch in range(epochs):\n",
    "            # Train mode\n",
    "            self.model.train()\n",
    "            \n",
    "            train_loss = 0.0\n",
    "            train_samples_count = 0.0\n",
    "            for i, data in enumerate(train_dataloader):\n",
    "                inputs, labels = data\n",
    "                inputs = inputs.to(device)\n",
    "                labels = labels.long().to(device)\n",
    "                \n",
    "                # zero the parameter gradients\n",
    "                optimizer.zero_grad()\n",
    "\n",
    "                # Forward step\n",
    "                outputs = self.model(inputs)\n",
    "                \n",
    "                # Backward step\n",
    "                loss = criterion(outputs, labels)\n",
    "                loss.backward()\n",
    "                \n",
    "                # Weight optimisation\n",
    "                optimizer.step()\n",
    "\n",
    "                train_loss += loss.item()\n",
    "                train_samples_count += 1\n",
    "                \n",
    "            # Validation mode\n",
    "            self.model.eval()\n",
    "            \n",
    "            val_loss = 0.0\n",
    "            val_samples_count = 0.0\n",
    "            for i, data in enumerate(val_dataloader):\n",
    "                inputs, labels = data\n",
    "                inputs = inputs.to(device)\n",
    "                labels = labels.long().to(device)\n",
    "                \n",
    "                outputs = self.model(inputs)\n",
    "                loss = criterion(outputs, labels)\n",
    "                \n",
    "                val_loss += loss.item()\n",
    "                val_samples_count += 1\n",
    "            \n",
    "            train_loss /= train_samples_count\n",
    "            val_loss /= val_samples_count\n",
    "            \n",
    "            self.train_losses.append(train_loss)\n",
    "            self.val_losses.append(val_loss)\n",
    "            \n",
    "            early_stopping_count += 1\n",
    "            \n",
    "            if val_loss < best_val_loss:\n",
    "                best_epoch = epoch\n",
    "                best_val_loss = val_loss\n",
    "                early_stopping_count = 0\n",
    "                self.model.best_model_weights = self.model.state_dict()\n",
    "            \n",
    "                \n",
    "            print(f'Epoch: {epoch}, Loss: {train_loss}, Val Loss: {val_loss}. The best val loss is {best_val_loss} in epoch {best_epoch}.')\n",
    "            \n",
    "            with open(log_filename, \"a\") as log_file:\n",
    "                log_file.write(f\"{epoch},{train_loss},{val_loss},{best_val_loss},{best_epoch}\\n\")\n",
    "            \n",
    "            if early_stopping_count == early_stopping_limit and early_stopping_limit > 0:\n",
    "                break\n",
    "    \n",
    "    def predict(self, test_dataloader, device):\n",
    "        # Load best weights\n",
    "        if self.model.best_model_weights:\n",
    "            self.model.load_state_dict(self.model.best_model_weights)\n",
    "\n",
    "        # Test mode\n",
    "        self.model.eval()\n",
    "        \n",
    "        original_images = []\n",
    "        true_labels = []\n",
    "        predicted_labels = []\n",
    "\n",
    "        for data in test_dataloader:\n",
    "            images, labels = data\n",
    "            images = images.to(device)\n",
    "            outputs = self.model(images)\n",
    "            _, predicted = torch.max(outputs, 1)\n",
    "            \n",
    "            images = images.cpu().detach().numpy()\n",
    "            labels = labels.numpy()\n",
    "            predicted = predicted.cpu().detach().numpy()\n",
    "            \n",
    "            original_images.append(images)\n",
    "            true_labels.append(labels)\n",
    "            predicted_labels.append(predicted)\n",
    "        \n",
    "        original_images = np.concatenate(original_images)\n",
    "        true_labels = np.concatenate(true_labels)\n",
    "        predicted_labels = np.concatenate(predicted_labels)\n",
    "        \n",
    "        return original_images, true_labels, predicted_labels\n"
   ]
  },
  {
   "cell_type": "markdown",
   "id": "4f522994",
   "metadata": {},
   "source": [
    "## Functions\n",
    "\n",
    "The following three functions are going to be used throughout the notebook. They comprise the loading of binary files using Pickle (**load_pickle_file**), single image plotting (**plot_image**), and multiple image plotting (**plot_multiple_images**)."
   ]
  },
  {
   "cell_type": "code",
   "execution_count": 3,
   "id": "44ba288a",
   "metadata": {},
   "outputs": [],
   "source": [
    "def load_pickle_file(filepath):\n",
    "    with open(filepath, \"rb\") as f:\n",
    "        return pickle.load(f)\n",
    "\n",
    "def plot_image(img, figsize = (2,3)):\n",
    "    plt.figure(figsize = figsize)\n",
    "    plt.imshow(img)\n",
    "    plt.axis(\"off\")\n",
    "    \n",
    "def plot_multiple_images(*images_titles, figsize = (2, 3)):\n",
    "    num_images = len(images_titles)\n",
    "    fig, axs = plt.subplots(1, num_images, figsize = figsize)\n",
    "    for i in range(num_images):\n",
    "        axs[i].imshow(images_titles[i][0])\n",
    "        axs[i].set_title(images_titles[i][1])\n",
    "        axs[i].axis(\"off\")"
   ]
  },
  {
   "cell_type": "markdown",
   "id": "650cf38c",
   "metadata": {},
   "source": [
    "## Dataset\n",
    "\n",
    "In this section, we load the CIFAR-10 dataset, which consists of 60,000 32x32 color images across 10 different classes, with 6,000 images per class. The dataset is divided into 50,000 training images and 10,000 test images. It was already processed and it is ready to use after loading the binary files *train_set.pkl* and *test_set.pkl*."
   ]
  },
  {
   "cell_type": "markdown",
   "id": "c610a4ed",
   "metadata": {},
   "source": [
    "### Load data\n",
    "\n",
    "Training and test sets are loaded using Pickle library."
   ]
  },
  {
   "cell_type": "code",
   "execution_count": 4,
   "id": "44f45fed",
   "metadata": {},
   "outputs": [],
   "source": [
    "# Sets filepaths\n",
    "dataset_folder = os.path.join(\"CIFAR10\")\n",
    "train_set_file = os.path.join(dataset_folder, \"train_set.pkl\")\n",
    "test_set_file = os.path.join(dataset_folder, \"test_set.pkl\")\n",
    "\n",
    "# Load sets\n",
    "train_set = load_pickle_file(train_set_file)\n",
    "test_set = load_pickle_file(test_set_file)\n",
    "\n",
    "# CIFAR10 classes\n",
    "CIFAR_10_CLASSES = [\n",
    "    \"Airplane\", \"Automobile\", \"Bird\", \"Cat\", \"Deer\",\n",
    "    \"Dog\", \"Frog\", \"Horse\",\"Ship\",\"Truck\"\n",
    "]"
   ]
  },
  {
   "cell_type": "markdown",
   "id": "ff15666e",
   "metadata": {},
   "source": [
    "## Explore image processing\n",
    "\n",
    "Image processing is fundamental to computer vision, forming the basis for interpreting and analyzing visual information. By applying techniques such as resizing, filtering, color adjustments, and data augmentation, image processing enhances input quality, minimizes noise, and corrects distortions. These methods can also simulate real-world variability, helping models generalize better. In this notebook, we explore three categories of image transformations: geometric transformations, image filtering, and photometric transformations."
   ]
  },
  {
   "cell_type": "markdown",
   "id": "f4ad942e",
   "metadata": {},
   "source": [
    "### Example image"
   ]
  },
  {
   "cell_type": "code",
   "execution_count": 5,
   "id": "2b6795a0",
   "metadata": {},
   "outputs": [
    {
     "data": {
      "image/png": "[encoded data removed]",
      "text/plain": [
       "<Figure size 200x300 with 1 Axes>"
      ]
     },
     "metadata": {},
     "output_type": "display_data"
    }
   ],
   "source": [
    "# Select image\n",
    "image = train_set[0][9]\n",
    "\n",
    "# Convert image from (C, H, W) to (H, W, C)\n",
    "image = np.transpose(image, (1,2,0))\n",
    "\n",
    "# Plot image\n",
    "plot_image(image)"
   ]
  },
  {
   "cell_type": "markdown",
   "id": "0fcff42b",
   "metadata": {},
   "source": [
    "### Geometric transformation\n",
    "\n",
    "Geometric transformations alter the spatial structure of the image while preserving its semantic content. They help the model become invariant to different orientations and scales:\n",
    "- **Scaling**: Resizes the image to a specific size, often required to match input dimensions for image classifiers. It uses interpolation to obtain the new pixel-values.\n",
    "- **Cropping**: Extracts a subregion of the image; useful for focusing on important parts or adding variability.\n",
    "- **Horizontal and vertical flip**: Flips the image along the x-axis or y-axis; helps the model learn symmetry.\n",
    "- **Rotation**: Rotates the image by a small angle to simulate different orientations of the objects."
   ]
  },
  {
   "cell_type": "markdown",
   "id": "25325640",
   "metadata": {},
   "source": [
    "#### Scaling"
   ]
  },
  {
   "cell_type": "code",
   "execution_count": 6,
   "id": "9f272277",
   "metadata": {},
   "outputs": [
    {
     "data": {
      "text/html": [
       "<div style='background-color: #ffebee; border-radius: 5px; padding: 10px;'>🚫 <strong style='color: red;'>OpenAI API key is not provided.</strong><br>API key is missing.</div>"
      ],
      "text/plain": [
       "<IPython.core.display.HTML object>"
      ]
     },
     "metadata": {},
     "output_type": "display_data"
    },
    {
     "data": {
      "text/html": [
       "<div style='background-color: #fffde7; border-radius: 5px; padding: 10px;'>🔄 <strong>IPytest extension (re)loaded.</strong></div>"
      ],
      "text/plain": [
       "<IPython.core.display.HTML object>"
      ]
     },
     "metadata": {},
     "output_type": "display_data"
    }
   ],
   "source": [
    "%reload_ext tutorial.tests.testsuite"
   ]
  },
  {
   "cell_type": "code",
   "execution_count": 7,
   "id": "02f2480c",
   "metadata": {},
   "outputs": [
    {
     "data": {
      "application/vnd.jupyter.widget-view+json": {
       "model_id": "c2fd61632d3e45ea9b2d33d713e16199",
       "version_major": 2,
       "version_minor": 0
      },
      "text/plain": [
       "VBox(children=(Output(outputs=({'output_type': 'display_data', 'data': {'text/plain': 'HTML(value=\\'<div style…"
      ]
     },
     "metadata": {},
     "output_type": "display_data"
    }
   ],
   "source": [
    "%%ipytest\n",
    "\n",
    "def solution_scale_image(img, scale_factor: float):\n",
    "    # Get the current dimensions\n",
    "    height, width = img.shape[:2]\n",
    "\n",
    "    # Calculate the new dimensions\n",
    "    new_width = int(width * scale_factor)\n",
    "    new_height = int(height * scale_factor)\n",
    "    new_size = (new_width, new_height)\n",
    "\n",
    "    # Resize the image\n",
    "    return cv2.resize(img, new_size)"
   ]
  },
  {
   "cell_type": "code",
   "execution_count": 8,
   "id": "afcdd743-84d1-44e3-9d16-1cf64f45195a",
   "metadata": {},
   "outputs": [
    {
     "data": {
      "image/png": "[encoded data removed]",
      "text/plain": [
       "<Figure size 400x500 with 2 Axes>"
      ]
     },
     "metadata": {},
     "output_type": "display_data"
    }
   ],
   "source": [
    "# Scale image by half\n",
    "scaled_image = solution_scale_image(image, 0.5)\n",
    "\n",
    "if scaled_image is not None:\n",
    "    # Use this function to plot images side by side\n",
    "    plot_multiple_images((image, \"Original\"), (scaled_image, \"Scaled\"), figsize = (4, 5))"
   ]
  },
  {
   "cell_type": "markdown",
   "id": "24bdd539",
   "metadata": {},
   "source": [
    "#### Cropping"
   ]
  },
  {
   "cell_type": "code",
   "execution_count": 9,
   "id": "cc7e4291",
   "metadata": {},
   "outputs": [
    {
     "data": {
      "application/vnd.jupyter.widget-view+json": {
       "model_id": "60feb9e32dda4b03abcf6d6eb1f4f0ae",
       "version_major": 2,
       "version_minor": 0
      },
      "text/plain": [
       "VBox(children=(Output(outputs=({'output_type': 'display_data', 'data': {'text/plain': 'HTML(value=\\'<div style…"
      ]
     },
     "metadata": {},
     "output_type": "display_data"
    }
   ],
   "source": [
    "%%ipytest\n",
    "def solution_crop_image(img, x: int, y: int, width: int, height: int):\n",
    "    x1, x2, y1, y2 = x, x+width, y, y+height\n",
    "    return img[y:y + height, x:x + width]"
   ]
  },
  {
   "cell_type": "code",
   "execution_count": 10,
   "id": "cdeb49e6-8bdb-425d-8480-b4acc5391211",
   "metadata": {},
   "outputs": [
    {
     "data": {
      "image/png": "[encoded data removed]",
      "text/plain": [
       "<Figure size 400x500 with 2 Axes>"
      ]
     },
     "metadata": {},
     "output_type": "display_data"
    }
   ],
   "source": [
    "# Crop image to get a 15-by-15 image starting on (x,y): (2,2)\n",
    "cropped_image = solution_crop_image(image, 2, 2, 15, 15)\n",
    "\n",
    "if cropped_image is not None:\n",
    "    # Use this function to plot images side by side\n",
    "    plot_multiple_images((image, \"Original\"), (cropped_image, \"Cropped\"), figsize = (4, 5))"
   ]
  },
  {
   "cell_type": "markdown",
   "id": "4a447b09",
   "metadata": {},
   "source": [
    "#### Horizontal Flip"
   ]
  },
  {
   "cell_type": "code",
   "execution_count": 11,
   "id": "6dc1507a",
   "metadata": {},
   "outputs": [
    {
     "data": {
      "application/vnd.jupyter.widget-view+json": {
       "model_id": "20e0f6f8ddb443b8ad30199289244442",
       "version_major": 2,
       "version_minor": 0
      },
      "text/plain": [
       "VBox(children=(Output(outputs=({'output_type': 'display_data', 'data': {'text/plain': 'HTML(value=\\'<div style…"
      ]
     },
     "metadata": {},
     "output_type": "display_data"
    }
   ],
   "source": [
    "%%ipytest\n",
    "def solution_horizontal_flip_image(img):\n",
    "    return cv2.flip(img, 1)"
   ]
  },
  {
   "cell_type": "code",
   "execution_count": 12,
   "id": "1b58e9ea-be06-4efd-ac9f-75770f35b88f",
   "metadata": {},
   "outputs": [
    {
     "data": {
      "image/png": "[encoded data removed]",
      "text/plain": [
       "<Figure size 400x500 with 2 Axes>"
      ]
     },
     "metadata": {},
     "output_type": "display_data"
    }
   ],
   "source": [
    "# Flip image horizontally\n",
    "flip_image_horizontal = solution_horizontal_flip_image(image)\n",
    "\n",
    "if flip_image_horizontal is not None:\n",
    "    # Use this function to plot images side by side\n",
    "    plot_multiple_images((image, \"Original\"), (flip_image_horizontal, \"Horizontal Flip\"), figsize = (4, 5))"
   ]
  },
  {
   "cell_type": "markdown",
   "id": "0b473067",
   "metadata": {},
   "source": [
    "#### Vertical Flip"
   ]
  },
  {
   "cell_type": "code",
   "execution_count": 13,
   "id": "1d9325d9",
   "metadata": {},
   "outputs": [
    {
     "data": {
      "application/vnd.jupyter.widget-view+json": {
       "model_id": "9d99e8b0985d40d484a4b43a7177b431",
       "version_major": 2,
       "version_minor": 0
      },
      "text/plain": [
       "VBox(children=(Output(outputs=({'output_type': 'display_data', 'data': {'text/plain': 'HTML(value=\\'<div style…"
      ]
     },
     "metadata": {},
     "output_type": "display_data"
    }
   ],
   "source": [
    "%%ipytest\n",
    "def solution_vertical_flip_image(img):\n",
    "    return cv2.flip(img, 0)"
   ]
  },
  {
   "cell_type": "code",
   "execution_count": 14,
   "id": "dc2e004b-e090-4637-9a38-fa3c75812647",
   "metadata": {},
   "outputs": [
    {
     "data": {
      "image/png": "[encoded data removed]",
      "text/plain": [
       "<Figure size 400x500 with 2 Axes>"
      ]
     },
     "metadata": {},
     "output_type": "display_data"
    }
   ],
   "source": [
    "# Flip image vertically\n",
    "flip_image_vertical = solution_vertical_flip_image(image)\n",
    "\n",
    "if flip_image_vertical is not None:\n",
    "    # Use this function to plot images side by side\n",
    "    plot_multiple_images((image, \"Original\"), (flip_image_vertical, \"Vertical Flip\"), figsize = (4, 5))"
   ]
  },
  {
   "cell_type": "markdown",
   "id": "be8a0c63",
   "metadata": {},
   "source": [
    "#### Rotation"
   ]
  },
  {
   "cell_type": "code",
   "execution_count": 15,
   "id": "c1469ab1",
   "metadata": {},
   "outputs": [
    {
     "data": {
      "application/vnd.jupyter.widget-view+json": {
       "model_id": "f0439770c28b41ca8b82262623da1391",
       "version_major": 2,
       "version_minor": 0
      },
      "text/plain": [
       "VBox(children=(Output(outputs=({'output_type': 'display_data', 'data': {'text/plain': 'HTML(value=\\'<div style…"
      ]
     },
     "metadata": {},
     "output_type": "display_data"
    }
   ],
   "source": [
    "%%ipytest\n",
    "def solution_rotate_image(img, angle: float):\n",
    "    (h, w) = img.shape[:2]\n",
    "    center = (w // 2, h // 2)\n",
    "    M = cv2.getRotationMatrix2D(center, angle, scale=1.0)\n",
    "    \n",
    "    # Compute new bounding dimensions\n",
    "    cos = np.abs(M[0, 0])\n",
    "    sin = np.abs(M[0, 1])\n",
    "    new_w = int((h * sin) + (w * cos))\n",
    "    new_h = int((h * cos) + (w * sin))\n",
    "\n",
    "    # Adjust rotation matrix for translation\n",
    "    M[0, 2] += (new_w / 2) - center[0]\n",
    "    M[1, 2] += (new_h / 2) - center[1]\n",
    "\n",
    "    # Perform rotation with expanded canvas\n",
    "    return cv2.warpAffine(img, M, (new_w, new_h))"
   ]
  },
  {
   "cell_type": "code",
   "execution_count": 16,
   "id": "408fa850-72bf-444b-b836-f3dbc6a12714",
   "metadata": {},
   "outputs": [
    {
     "data": {
      "image/png": "[encoded data removed]",
      "text/plain": [
       "<Figure size 400x500 with 2 Axes>"
      ]
     },
     "metadata": {},
     "output_type": "display_data"
    }
   ],
   "source": [
    "# Rotate image by 20 degrees\n",
    "rotated_image = solution_rotate_image(image, 20)\n",
    "\n",
    "if rotated_image is not None:\n",
    "    # Use this function to plot images side by side\n",
    "    plot_multiple_images((image, \"Original\"), (rotated_image, \"Rotated\"), figsize = (4, 5))"
   ]
  },
  {
   "cell_type": "markdown",
   "id": "c38eb125",
   "metadata": {},
   "source": [
    "### Image filtering\n",
    "\n",
    "Filtering helps reduce noise and enhance specific image features. These are often used as a form of preprocessing before feeding images into a model:\n",
    "- **Average filter**: Applies a smoothing effect by replacing each pixel with the average of its neighborhood.\n",
    "- **Median filter**: Reduces salt-and-pepper noise by replacing each pixel with the median of neighboring pixels.\n",
    "- **Gaussian filter**: Applies a Gaussian blur to smooth the image, often used to reduce high-frequency noise."
   ]
  },
  {
   "cell_type": "markdown",
   "id": "d850c8c1",
   "metadata": {},
   "source": [
    "#### Average filter "
   ]
  },
  {
   "cell_type": "code",
   "execution_count": 17,
   "id": "cd187048",
   "metadata": {},
   "outputs": [
    {
     "data": {
      "application/vnd.jupyter.widget-view+json": {
       "model_id": "20a47b710a72400ea2634ba607c59b8e",
       "version_major": 2,
       "version_minor": 0
      },
      "text/plain": [
       "VBox(children=(Output(outputs=({'output_type': 'display_data', 'data': {'text/plain': 'HTML(value=\\'<div style…"
      ]
     },
     "metadata": {},
     "output_type": "display_data"
    }
   ],
   "source": [
    "%%ipytest\n",
    "def solution_average_filter(img, kernel_size = (5, 5)):\n",
    "    return cv2.blur(img, kernel_size)"
   ]
  },
  {
   "cell_type": "code",
   "execution_count": 18,
   "id": "aa481e5a-f158-4c6e-8a6a-5417f0159158",
   "metadata": {},
   "outputs": [
    {
     "data": {
      "image/png": "[encoded data removed]",
      "text/plain": [
       "<Figure size 400x500 with 2 Axes>"
      ]
     },
     "metadata": {},
     "output_type": "display_data"
    }
   ],
   "source": [
    "# Filter image using average filter\n",
    "average_filter_image = solution_average_filter(image, (3, 3))\n",
    "\n",
    "if average_filter_image is not None:\n",
    "    # Use this function to plot images side by side\n",
    "    plot_multiple_images((image, \"Original\"), (average_filter_image, \"Average filter\"), figsize = (4, 5))"
   ]
  },
  {
   "cell_type": "markdown",
   "id": "8abdf202",
   "metadata": {},
   "source": [
    "#### Median filter"
   ]
  },
  {
   "cell_type": "code",
   "execution_count": 19,
   "id": "c20b2bfb",
   "metadata": {},
   "outputs": [
    {
     "data": {
      "application/vnd.jupyter.widget-view+json": {
       "model_id": "a2e262f6bce44cafa6b074a008d8185b",
       "version_major": 2,
       "version_minor": 0
      },
      "text/plain": [
       "VBox(children=(Output(outputs=({'output_type': 'display_data', 'data': {'text/plain': 'HTML(value=\\'<div style…"
      ]
     },
     "metadata": {},
     "output_type": "display_data"
    }
   ],
   "source": [
    "%%ipytest\n",
    "def solution_median_filter(img, ksize):\n",
    "    return cv2.medianBlur(img, ksize)"
   ]
  },
  {
   "cell_type": "code",
   "execution_count": 20,
   "id": "aabdbcd3-745a-42b4-91e1-61e5de50315c",
   "metadata": {},
   "outputs": [
    {
     "data": {
      "image/png": "[encoded data removed]",
      "text/plain": [
       "<Figure size 400x500 with 2 Axes>"
      ]
     },
     "metadata": {},
     "output_type": "display_data"
    }
   ],
   "source": [
    "# Filter image using median filter\n",
    "median_filter_image = solution_median_filter(image, 3)\n",
    "\n",
    "if median_filter_image is not None:\n",
    "    # Use this function to plot images side by side\n",
    "    plot_multiple_images((image, \"Original\"), (median_filter_image, \"Median filter\"), figsize = (4, 5))"
   ]
  },
  {
   "cell_type": "markdown",
   "id": "cc4f9ed1",
   "metadata": {},
   "source": [
    "#### Gaussian filter"
   ]
  },
  {
   "cell_type": "code",
   "execution_count": 21,
   "id": "4f123cf6",
   "metadata": {},
   "outputs": [
    {
     "data": {
      "application/vnd.jupyter.widget-view+json": {
       "model_id": "0fdd6fe9103a400d876ac423afea8f85",
       "version_major": 2,
       "version_minor": 0
      },
      "text/plain": [
       "VBox(children=(Output(outputs=({'output_type': 'display_data', 'data': {'text/plain': 'HTML(value=\\'<div style…"
      ]
     },
     "metadata": {},
     "output_type": "display_data"
    }
   ],
   "source": [
    "%%ipytest\n",
    "def solution_gaussian_filter(img, kernel_size = (5, 5), sigma = 0):\n",
    "    return cv2.GaussianBlur(img, kernel_size, sigma)"
   ]
  },
  {
   "cell_type": "code",
   "execution_count": 22,
   "id": "89fefb47-2c71-4297-a983-f244973d8683",
   "metadata": {},
   "outputs": [
    {
     "data": {
      "image/png": "[encoded data removed]",
      "text/plain": [
       "<Figure size 400x500 with 2 Axes>"
      ]
     },
     "metadata": {},
     "output_type": "display_data"
    }
   ],
   "source": [
    "# Filter image using Gaussian filter\n",
    "gaussian_filter_image = solution_gaussian_filter(image, (7, 7), 0)\n",
    "\n",
    "if gaussian_filter_image is not None:\n",
    "    # Use this function to plot images side by side\n",
    "    plot_multiple_images((image, \"Original\"), (gaussian_filter_image, \"Gaussian filter\"), figsize = (4, 5))"
   ]
  },
  {
   "cell_type": "markdown",
   "id": "e736d5c9",
   "metadata": {},
   "source": [
    "### Photometric transformation\n",
    "\n",
    "Photometric transformations modify the color properties of an image to simulate different lighting conditions and improve model robustness to brightness and contrast changes:\n",
    "- **Brightness**: Randomly increases or decreases the brightness of the image.\n",
    "- **Contrast**: Alters the difference between light and dark regions in the image.\n",
    "- **Saturation**: Modifies the intensity of the colors in the image."
   ]
  },
  {
   "cell_type": "markdown",
   "id": "1d8fa3ce",
   "metadata": {},
   "source": [
    "#### Adjust brightness"
   ]
  },
  {
   "cell_type": "code",
   "execution_count": 23,
   "id": "04be16c2",
   "metadata": {},
   "outputs": [
    {
     "data": {
      "application/vnd.jupyter.widget-view+json": {
       "model_id": "ebd850c398c4419b9f53ca0b7b98e810",
       "version_major": 2,
       "version_minor": 0
      },
      "text/plain": [
       "VBox(children=(Output(outputs=({'output_type': 'display_data', 'data': {'text/plain': 'HTML(value=\\'<div style…"
      ]
     },
     "metadata": {},
     "output_type": "display_data"
    }
   ],
   "source": [
    "%%ipytest\n",
    "def solution_adjust_brightness(img, brightness_value):\n",
    "    return cv2.convertScaleAbs(img, beta=brightness_value)"
   ]
  },
  {
   "cell_type": "code",
   "execution_count": 24,
   "id": "84813c89-3763-4697-a42b-99f7c4e222e9",
   "metadata": {},
   "outputs": [
    {
     "data": {
      "image/png": "[encoded data removed]",
      "text/plain": [
       "<Figure size 700x800 with 3 Axes>"
      ]
     },
     "metadata": {},
     "output_type": "display_data"
    }
   ],
   "source": [
    "# Brighter image (positive brightness value)\n",
    "brighter_image = solution_adjust_brightness(image, 100)\n",
    "\n",
    "# Darker image (negative brightness value)\n",
    "darker_image = solution_adjust_brightness(image, -100)\n",
    "\n",
    "if brighter_image is not None and darker_image is not None:\n",
    "    # Use this function to plot images side by side\n",
    "    plot_multiple_images((image, \"Original\"), (brighter_image, \"Brighter image\"), (darker_image, \"Darker image\"), figsize = (7, 8))"
   ]
  },
  {
   "cell_type": "markdown",
   "id": "bb558cf5",
   "metadata": {},
   "source": [
    "#### Adjust contrast"
   ]
  },
  {
   "cell_type": "code",
   "execution_count": 25,
   "id": "00b40d8d",
   "metadata": {},
   "outputs": [
    {
     "data": {
      "application/vnd.jupyter.widget-view+json": {
       "model_id": "046897f270d041869151a9e100385004",
       "version_major": 2,
       "version_minor": 0
      },
      "text/plain": [
       "VBox(children=(Output(outputs=({'output_type': 'display_data', 'data': {'text/plain': 'HTML(value=\\'<div style…"
      ]
     },
     "metadata": {},
     "output_type": "display_data"
    }
   ],
   "source": [
    "%%ipytest\n",
    "def solution_adjust_contrast(img, contrast_value):\n",
    "    return cv2.convertScaleAbs(img, alpha = contrast_value)"
   ]
  },
  {
   "cell_type": "code",
   "execution_count": 26,
   "id": "904301a6-8ae6-4ff4-af4d-c062b1279cd9",
   "metadata": {},
   "outputs": [
    {
     "data": {
      "image/png": "[encoded data removed]",
      "text/plain": [
       "<Figure size 700x800 with 3 Axes>"
      ]
     },
     "metadata": {},
     "output_type": "display_data"
    }
   ],
   "source": [
    "# Increase contrast (Value > 1.0)\n",
    "high_contrast_image = solution_adjust_contrast(image, 2.0)\n",
    "\n",
    "# Reduce contrast (Value < 1.0)\n",
    "low_contrast_image = solution_adjust_contrast(image, 0.5)\n",
    "\n",
    "if high_contrast_image is not None and low_contrast_image is not None:\n",
    "    # Use this function to plot images side by side\n",
    "    plot_multiple_images((image, \"Original\"), (high_contrast_image, \"High contrast image\"), (low_contrast_image, \"Low contrast image\"), figsize = (7, 8))"
   ]
  },
  {
   "cell_type": "markdown",
   "id": "7d83b5da",
   "metadata": {},
   "source": [
    "#### Adjust saturation"
   ]
  },
  {
   "cell_type": "code",
   "execution_count": 27,
   "id": "6a42dd8e",
   "metadata": {},
   "outputs": [
    {
     "data": {
      "application/vnd.jupyter.widget-view+json": {
       "model_id": "cc5750f6d3774b86b413108e6f898cbc",
       "version_major": 2,
       "version_minor": 0
      },
      "text/plain": [
       "VBox(children=(Output(outputs=({'output_type': 'display_data', 'data': {'text/plain': 'HTML(value=\\'<div style…"
      ]
     },
     "metadata": {},
     "output_type": "display_data"
    }
   ],
   "source": [
    "%%ipytest\n",
    "def solution_adjust_saturation(img, saturation_factor):\n",
    "    # Convert the image from BGR to HSV\n",
    "    image_hsv = cv2.cvtColor(img, cv2.COLOR_RGB2HSV)\n",
    "\n",
    "    # Split the HSV image into Hue, Saturation, and Value channels\n",
    "    hue, saturation, value = cv2.split(image_hsv)\n",
    "\n",
    "    # Adjust the saturation channel (Ensure it stays within valid range)\n",
    "    saturation = np.clip(saturation * saturation_factor, 0, 255)\n",
    "\n",
    "    # Merge the channels back\n",
    "    image_hsv_adjusted = cv2.merge([hue, saturation.astype(np.uint8), value])\n",
    "\n",
    "    # Convert the adjusted image back to BGR\n",
    "    return cv2.cvtColor(image_hsv_adjusted, cv2.COLOR_HSV2RGB)"
   ]
  },
  {
   "cell_type": "code",
   "execution_count": 28,
   "id": "44179686-7e31-49da-9a87-5799034b71c3",
   "metadata": {},
   "outputs": [
    {
     "data": {
      "image/png": "[encoded data removed]",
      "text/plain": [
       "<Figure size 700x800 with 3 Axes>"
      ]
     },
     "metadata": {},
     "output_type": "display_data"
    }
   ],
   "source": [
    "# Decrease saturation\n",
    "low_saturation_image = solution_adjust_saturation(image, 0.2)\n",
    "\n",
    "# Increase saturation\n",
    "high_saturation_image = solution_adjust_saturation(image, 2.5)\n",
    "\n",
    "if low_saturation_image is not None and high_saturation_image is not None:\n",
    "    # Use this function to plot images side by side\n",
    "    plot_multiple_images((image, \"Original\"), (low_saturation_image, \"Low saturation image\"), (high_saturation_image, \"High saturation image\"), figsize = (7, 8))"
   ]
  },
  {
   "cell_type": "markdown",
   "id": "8d90478e",
   "metadata": {},
   "source": [
    "## Image classifier development using CNNs\n",
    "\n",
    "Image classification is the task of assigning a label or category to an input image from a predefined set of classes. It is a fundamental problem in computer vision with widespread applications, including facial recognition, medical imaging, quality control, and autonomous driving. This section outlines the key steps involved in developing an image classification model using PyTorch. It begins with data preprocessing, which includes splitting the dataset into training, validation, and test sets. Afterwards, it defines data augmentation strategies using the Albumentations library, loads the data as PyTorch datasets, and initialises PyTorch dataloaders to efficiently feed data during training. The next step is model training, where a CNN-based model is initialized and optimised using the training and validation data. After training, the model is evaluated on the test set to assess its performance. The evaluation includes metrics such as accuracy and the confusion matrix, which help interpret the model's predictive behavior. Finally, the PyTorch Grad-CAM library is used to visualize the regions of input images that contribute most to the model’s decisions, providing insights into model explainability using representative examples."
   ]
  },
  {
   "cell_type": "markdown",
   "id": "d78dee96",
   "metadata": {},
   "source": [
    "### Dataset preprocessing"
   ]
  },
  {
   "cell_type": "markdown",
   "id": "8ec8f785",
   "metadata": {},
   "source": [
    "#### Train, validation, and test sets\n",
    "\n",
    "```train_test_split``` from Scikit-learn can be used to split the original training set into training and validation sets. The test set is already defined by the dataset' authors."
   ]
  },
  {
   "cell_type": "code",
   "execution_count": 29,
   "id": "8aba72de",
   "metadata": {},
   "outputs": [],
   "source": [
    "# Train and validation sets\n",
    "X_train, y_train = train_set[0], train_set[1]\n",
    "X_train, X_val, y_train, y_val = train_test_split(X_train, y_train, test_size = 0.3, random_state = 42)\n",
    "\n",
    "# Test set\n",
    "X_test, y_test = test_set[0], test_set[1]"
   ]
  },
  {
   "cell_type": "markdown",
   "id": "e84c416a",
   "metadata": {},
   "source": [
    "#### Data Augmentation\n",
    "\n",
    "Data augmentation is a crucial technique in image classification that helps improve the performance and robustness of machine learning models. It involves generating new training samples by applying random transformations — such as rotation, flipping, cropping, scaling, or color jittering — to the original images. Albumentations is one of the most widely used libraries for performing data augmentation in image classification tasks. It includes augmentation techniques that replicate operations commonly used in image processing, such as:\n",
    "- ```A.Affine``` for scaling;\n",
    "- ```A.Rotate``` for rotation;\n",
    "- ```A.HorizontalFlip``` for horizontal flipping;\n",
    "- ```A.VerticalFlip``` for vertical flipping;\n",
    "- ```A.ColorJitter``` for color jittering.\n",
    "\n",
    "Albumentations can also be used for image normalization (```A.Normalize```), resizing (```A.Resize```), and converting images to PyTorch tensors with the (Channel, Height, Width) format using ```A.ToTensorV2```, which is required for model training."
   ]
  },
  {
   "cell_type": "code",
   "execution_count": 30,
   "id": "3c0cc98c",
   "metadata": {},
   "outputs": [],
   "source": [
    "TARGET_SIZE = 32\n",
    "\n",
    "# Transformations performed on train set\n",
    "train_transform = A.Compose([\n",
    "    A.Affine(scale = (0.2, 1.5), p = 0.1),\n",
    "    A.Rotate(limit = 45, p = 0.1),\n",
    "    A.HorizontalFlip(p = 0.1),\n",
    "    A.VerticalFlip(p = 0.1),\n",
    "    A.ColorJitter(brightness = (0.5, 1.5), contrast = (0.5, 1.5), saturation = (0.5, 1.5), hue = (0,0), p = 0.1), # Applied only to 'image'\n",
    "    A.Normalize(mean=(0.4914, 0.4822, 0.4465), std=(0.2470, 0.2435, 0.2616)), # Applied only to 'image'\n",
    "    A.Resize(height = TARGET_SIZE, width = TARGET_SIZE),\n",
    "    A.ToTensorV2()\n",
    "])\n",
    "\n",
    "# Transformations performed on validation and test sets\n",
    "val_transform = A.Compose([\n",
    "    A.Normalize(mean=(0.4914, 0.4822, 0.4465), std=(0.2470, 0.2435, 0.2616)), # Applied only to 'image'\n",
    "    A.Resize(height = TARGET_SIZE, width = TARGET_SIZE),\n",
    "    A.ToTensorV2()\n",
    "])"
   ]
  },
  {
   "cell_type": "markdown",
   "id": "46993f36",
   "metadata": {},
   "source": [
    "#### PyTorch Datasets\n",
    "\n",
    "```ImageDataset``` class is based on PyTorch ```Dataset``` class and is used for loading the images and their corresponding labels, for applying transformations (such as data augmentation), and returns them in a format suitable for model training, validating, and testing."
   ]
  },
  {
   "cell_type": "code",
   "execution_count": 31,
   "id": "ef2d8891",
   "metadata": {},
   "outputs": [],
   "source": [
    "# Dataset classes necessary for the data loaders\n",
    "train_dataset = ImageDataset(X_train, y_train, transform = train_transform)\n",
    "val_dataset = ImageDataset(X_val, y_val, transform = val_transform)\n",
    "test_dataset = ImageDataset(X_test, y_test, transform = val_transform)"
   ]
  },
  {
   "cell_type": "markdown",
   "id": "fad563a4",
   "metadata": {},
   "source": [
    "#### PyTorch Dataloaders\n",
    "\n",
    "```DataLoader``` is essential for training efficiency and performance. It abstracts the complexity of batching, shuffling, and parallel data access, allowing you to focus on building and training your models."
   ]
  },
  {
   "cell_type": "code",
   "execution_count": 32,
   "id": "dec6c703",
   "metadata": {},
   "outputs": [],
   "source": [
    "# Data loaders needed for the model training\n",
    "train_dataloader = DataLoader(train_dataset, batch_size = 128, shuffle=True)\n",
    "val_dataloader = DataLoader(val_dataset, batch_size = 128, shuffle=True)\n",
    "test_dataloader = DataLoader(test_dataset, batch_size = 128, shuffle=True)"
   ]
  },
  {
   "cell_type": "markdown",
   "id": "0a4bcc59",
   "metadata": {},
   "source": [
    "### Model training\n",
    "\n",
    "Model training comprises a series of steps. First, we must check which devices are available for training the model. In case a GPU with Cuda cores is available is should be used as it really improves the speed. Otherwise, lets use CPU. Then, model and training hyperparameters should be defined, such as numer of output classes, number of training epochs, number of consecutive not improving epochs needed for stopping the training in case we use early stopping regularisation, and learning rate. Other hyperparameters can be defined, it depends on what the user wants to do during the training. In this notebook we are going to define the number of epochs, which are the number of times the model is going to see the training set. Early stopping is a way of trying to avoid overfitting where the model evaluates the model every new epoch using a validation set. In case the loss obtained for the validation set does not decrease for a long period of time (pre-defined epochs), the model optimisation stops and retrieves the checkpoint where the validation loss got the last decrease (see [Early Stopping](https://paperswithcode.com/method/early-stopping)). Learning rate defined how quick the models weights should change during training. If it is too high the weights are going to change really quick and might miss minima because they are always jumping from one side to another side. If it is too small the model weights might get stuck a local minimum. So although this is not done in this notebook, this parameter should be studied in order to choose the best (see [What is learning rate in machine learning?](https://www.ibm.com/think/topics/learning-rate)). After defining the hyperparameters, we should define the loss function that is going to be used to evaluate the model and it should be sent to the hardware used for training. Afterwards, the model is defined using ```ImageClassifier``` class and is sent to the device used for training. Next, we should define the optimiser function and also send it to the device used for training. Afterwards, we train the model in case some optimised weights are not available and we explore the learning curves."
   ]
  },
  {
   "cell_type": "markdown",
   "id": "12b90a68",
   "metadata": {},
   "source": [
    "#### Check which device is used for training"
   ]
  },
  {
   "cell_type": "code",
   "execution_count": 33,
   "id": "76810a36",
   "metadata": {},
   "outputs": [],
   "source": [
    "DEVICE = torch.device(\"cuda:0\" if torch.cuda.is_available() else \"cpu\")"
   ]
  },
  {
   "cell_type": "markdown",
   "id": "3df5da88",
   "metadata": {},
   "source": [
    "#### Define training hyperparameters"
   ]
  },
  {
   "cell_type": "code",
   "execution_count": 34,
   "id": "a3f6513c",
   "metadata": {},
   "outputs": [],
   "source": [
    "# Get number of output classes\n",
    "NUMBER_CLASSES = len(CIFAR_10_CLASSES)\n",
    "\n",
    "# Number of training epochs\n",
    "EPOCHS = 500\n",
    "\n",
    "# Number of consecutive not improving epochs needed for stopping the training\n",
    "EARLY_STOPPING_LIMIT = EPOCHS // 10\n",
    "\n",
    "# Learning rate\n",
    "LR = 0.001"
   ]
  },
  {
   "cell_type": "markdown",
   "id": "7f0d3c3d",
   "metadata": {},
   "source": [
    "#### Loss function\n",
    "\n",
    "The cross entropy loss function is defined by:\n",
    "\n",
    "$$\n",
    "\\mathcal{L} = -\\sum_{i=1}^{C} y_i \\log(\\hat{y}_i)\n",
    "$$\n",
    "\n",
    "Where:\n",
    "\n",
    "$\\mathcal{L}$: Cross-entropy loss\n",
    "\n",
    "$C$: Total number of classes\n",
    "\n",
    "$y_i$: Ground truth indicator for class $i$, where $y_i = 1$ if class $i$ is the correct class, otherwise $y_i = 0$\n",
    "\n",
    "$\\hat{y}_i$: Predicted probability for class $i$, typically from the softmax output, where $0 \\leq \\hat{y}_i \\leq 1$ and $\\sum_{i=1}^{C} \\hat{y}_i = 1$"
   ]
  },
  {
   "cell_type": "code",
   "execution_count": 35,
   "id": "596d2d55",
   "metadata": {},
   "outputs": [],
   "source": [
    "# Cross Entropy Loss\n",
    "criterion = nn.CrossEntropyLoss()\n",
    "criterion = criterion.to(DEVICE)"
   ]
  },
  {
   "cell_type": "markdown",
   "id": "bbd59740",
   "metadata": {},
   "source": [
    "#### Initialise model architecture"
   ]
  },
  {
   "cell_type": "code",
   "execution_count": 36,
   "id": "37aaa6e0",
   "metadata": {},
   "outputs": [],
   "source": [
    "# Initialise image classifier\n",
    "model = ImageClassifier(in_channels = 3, out_classes = NUMBER_CLASSES)\n",
    "model = model.to(DEVICE)"
   ]
  },
  {
   "cell_type": "markdown",
   "id": "6e6283d1",
   "metadata": {},
   "source": [
    "#### Optimiser function\n",
    "\n",
    "In this notebook, we are using Adam optimiser which is one of the most used optimisers in deep neural network optimisation (see [Gentle Introduction to the Adam Optimisation Algorithm for Deep Learning](https://machinelearningmastery.com/adam-optimization-algorithm-for-deep-learning/)).\n",
    "\n",
    "The parameter update at each step is given by:\n",
    "\n",
    "$$\n",
    "\\begin{aligned}\n",
    "m_t &= \\beta_1 m_{t-1} + (1 - \\beta_1) g_t \\\\\n",
    "v_t &= \\beta_2 v_{t-1} + (1 - \\beta_2) g_t^2 \\\\\n",
    "\\hat{m}_t &= \\frac{m_t}{1 - \\beta_1^t} \\\\\n",
    "\\hat{v}_t &= \\frac{v_t}{1 - \\beta_2^t} \\\\\n",
    "\\theta_t &= \\theta_{t-1} - \\alpha \\frac{\\hat{m}_t}{\\sqrt{\\hat{v}_t} + \\epsilon}\n",
    "\\end{aligned}\n",
    "$$\n",
    "\n",
    "Where:\n",
    "\n",
    "$\\theta_t$: Parameters at time step $t$\n",
    "\n",
    "$g_t$: Gradient of the loss with respect to parameters at step $t$\n",
    "\n",
    "$m_t$: Exponentially decaying average of past gradients (1st moment)\n",
    "\n",
    "$v_t$: Exponentially decaying average of past squared gradients (2nd moment)\n",
    "\n",
    "$\\hat{m}_t$, $\\hat{v}_t$: Bias-corrected estimates of $m_t$ and $v_t$\n",
    "\n",
    "$\\alpha$: Learning rate\n",
    "\n",
    "$\\beta_1$: Decay rate for the first moment estimate (typically 0.9)\n",
    "\n",
    "$\\beta_2$: Decay rate for the second moment estimate (typically 0.999)\n",
    "\n",
    "$\\epsilon$: Small constant to prevent division by zero (e.g., 1e-8)"
   ]
  },
  {
   "cell_type": "code",
   "execution_count": 37,
   "id": "ad47d6b7",
   "metadata": {},
   "outputs": [],
   "source": [
    "# Adam Optimiser\n",
    "optimizer = optim.Adam(model.parameters(), lr = LR)"
   ]
  },
  {
   "cell_type": "markdown",
   "id": "c046cb9c",
   "metadata": {},
   "source": [
    "#### Train model\n",
    "\n",
    "Here, we train the model. First, we initialise the class ```Trainer``` which we are going to use for training and evaluating the model using the PyTorch ```Dataset```s defined before. In case, some model weights are already available, we can skip the training and using them."
   ]
  },
  {
   "cell_type": "code",
   "execution_count": 38,
   "id": "ee081ef8",
   "metadata": {},
   "outputs": [
    {
     "name": "stdout",
     "output_type": "stream",
     "text": [
      "Training model weights...\n",
      "Epoch: 0, Loss: 1.520462845363756, Val Loss: 1.1197907672090046. The best val loss is 1.1197907672090046 in epoch 0.\n",
      "Epoch: 1, Loss: 1.2096626140775473, Val Loss: 0.9215332592948008. The best val loss is 0.9215332592948008 in epoch 1.\n",
      "Epoch: 2, Loss: 1.0686169616932417, Val Loss: 0.8447397245188891. The best val loss is 0.8447397245188891 in epoch 2.\n",
      "Epoch: 3, Loss: 0.9770413578426751, Val Loss: 0.7714212577221757. The best val loss is 0.7714212577221757 in epoch 3.\n",
      "Epoch: 4, Loss: 0.9027988477780001, Val Loss: 0.7413592813378673. The best val loss is 0.7413592813378673 in epoch 4.\n",
      "Epoch: 5, Loss: 0.853520769925013, Val Loss: 0.7288939409841926. The best val loss is 0.7288939409841926 in epoch 5.\n",
      "Epoch: 6, Loss: 0.8115674629263634, Val Loss: 0.7225121598122484. The best val loss is 0.7225121598122484 in epoch 6.\n",
      "Epoch: 7, Loss: 0.7751083819970598, Val Loss: 0.6755026561223855. The best val loss is 0.6755026561223855 in epoch 7.\n",
      "Epoch: 8, Loss: 0.7429245090397605, Val Loss: 0.680803889945402. The best val loss is 0.6755026561223855 in epoch 7.\n",
      "Epoch: 9, Loss: 0.7036612864828458, Val Loss: 0.6538166893740832. The best val loss is 0.6538166893740832 in epoch 9.\n",
      "Epoch: 10, Loss: 0.6798463224494544, Val Loss: 0.6429420563123994. The best val loss is 0.6429420563123994 in epoch 10.\n",
      "Epoch: 11, Loss: 0.6614546892199203, Val Loss: 0.6293074839701087. The best val loss is 0.6293074839701087 in epoch 11.\n",
      "Epoch: 12, Loss: 0.6360901489745091, Val Loss: 0.6260964428469286. The best val loss is 0.6260964428469286 in epoch 12.\n",
      "Epoch: 13, Loss: 0.6167764896458953, Val Loss: 0.6097777591923536. The best val loss is 0.6097777591923536 in epoch 13.\n",
      "Epoch: 14, Loss: 0.6087375462707811, Val Loss: 0.619213687666392. The best val loss is 0.6097777591923536 in epoch 13.\n",
      "Epoch: 15, Loss: 0.5897037236794939, Val Loss: 0.6073367350687415. The best val loss is 0.6073367350687415 in epoch 15.\n",
      "Epoch: 16, Loss: 0.5765072896967839, Val Loss: 0.6440611239206993. The best val loss is 0.6073367350687415 in epoch 15.\n",
      "Epoch: 17, Loss: 0.563063828723274, Val Loss: 0.6116426238569163. The best val loss is 0.6073367350687415 in epoch 15.\n",
      "Epoch: 18, Loss: 0.5490653581210296, Val Loss: 0.6325035504365372. The best val loss is 0.6073367350687415 in epoch 15.\n",
      "Epoch: 19, Loss: 0.5475345523688044, Val Loss: 0.6214407298524501. The best val loss is 0.6073367350687415 in epoch 15.\n",
      "Epoch: 20, Loss: 0.5203386396169662, Val Loss: 0.644289857755273. The best val loss is 0.6073367350687415 in epoch 15.\n",
      "Epoch: 21, Loss: 0.5306917810744612, Val Loss: 0.620820519530167. The best val loss is 0.6073367350687415 in epoch 15.\n",
      "Epoch: 22, Loss: 0.5145865923514331, Val Loss: 0.5965031617778843. The best val loss is 0.5965031617778843 in epoch 22.\n",
      "Epoch: 23, Loss: 0.5126297283564171, Val Loss: 0.6246055566658408. The best val loss is 0.5965031617778843 in epoch 22.\n",
      "Epoch: 24, Loss: 0.5013029677589445, Val Loss: 0.6039554145881685. The best val loss is 0.5965031617778843 in epoch 22.\n",
      "Epoch: 25, Loss: 0.4936089391690971, Val Loss: 0.6187645522719722. The best val loss is 0.5965031617778843 in epoch 22.\n",
      "Epoch: 26, Loss: 0.49248143774967124, Val Loss: 0.6178014038477914. The best val loss is 0.5965031617778843 in epoch 22.\n",
      "Epoch: 27, Loss: 0.4751875848665725, Val Loss: 0.6290953432099294. The best val loss is 0.5965031617778843 in epoch 22.\n",
      "Epoch: 28, Loss: 0.47110289161222696, Val Loss: 0.6119560217958385. The best val loss is 0.5965031617778843 in epoch 22.\n",
      "Epoch: 29, Loss: 0.47182121448708275, Val Loss: 0.6084022969007492. The best val loss is 0.5965031617778843 in epoch 22.\n",
      "Epoch: 30, Loss: 0.46568958635312796, Val Loss: 0.6035911913140345. The best val loss is 0.5965031617778843 in epoch 22.\n",
      "Epoch: 31, Loss: 0.46517014171737825, Val Loss: 0.6001845184019057. The best val loss is 0.5965031617778843 in epoch 22.\n",
      "Epoch: 32, Loss: 0.45642245550007715, Val Loss: 0.6151119955515457. The best val loss is 0.5965031617778843 in epoch 22.\n",
      "Epoch: 33, Loss: 0.44822045453708537, Val Loss: 0.6187824904918671. The best val loss is 0.5965031617778843 in epoch 22.\n",
      "Epoch: 34, Loss: 0.4419831280616948, Val Loss: 0.592142356654345. The best val loss is 0.592142356654345 in epoch 34.\n",
      "Epoch: 35, Loss: 0.44394656189166715, Val Loss: 0.5911562273562965. The best val loss is 0.5911562273562965 in epoch 35.\n",
      "Epoch: 36, Loss: 0.44761017992766233, Val Loss: 0.6003621490830082. The best val loss is 0.5911562273562965 in epoch 35.\n",
      "Epoch: 37, Loss: 0.44031569524838104, Val Loss: 0.6164587758860346. The best val loss is 0.5911562273562965 in epoch 35.\n",
      "Epoch: 38, Loss: 0.44285188463047476, Val Loss: 0.5972995141805229. The best val loss is 0.5911562273562965 in epoch 35.\n",
      "Epoch: 39, Loss: 0.43360351151140936, Val Loss: 0.6004025703769619. The best val loss is 0.5911562273562965 in epoch 35.\n",
      "Epoch: 40, Loss: 0.41746894465963336, Val Loss: 0.5901112660007962. The best val loss is 0.5901112660007962 in epoch 40.\n",
      "Epoch: 41, Loss: 0.42153748733936436, Val Loss: 0.599281668915587. The best val loss is 0.5901112660007962 in epoch 40.\n",
      "Epoch: 42, Loss: 0.4245654776366088, Val Loss: 0.6247793034476748. The best val loss is 0.5901112660007962 in epoch 40.\n",
      "Epoch: 43, Loss: 0.4211408660685929, Val Loss: 0.6417396566120245. The best val loss is 0.5901112660007962 in epoch 40.\n",
      "Epoch: 44, Loss: 0.41268631853979, Val Loss: 0.6215485965801497. The best val loss is 0.5901112660007962 in epoch 40.\n",
      "Epoch: 45, Loss: 0.4059799904153295, Val Loss: 0.6040090186110998. The best val loss is 0.5901112660007962 in epoch 40.\n",
      "Epoch: 46, Loss: 0.4065084534622457, Val Loss: 0.6168524281958402. The best val loss is 0.5901112660007962 in epoch 40.\n",
      "Epoch: 47, Loss: 0.40375757086886105, Val Loss: 0.6170856871847379. The best val loss is 0.5901112660007962 in epoch 40.\n",
      "Epoch: 48, Loss: 0.4098697109487805, Val Loss: 0.5972580624333883. The best val loss is 0.5901112660007962 in epoch 40.\n",
      "Epoch: 49, Loss: 0.4095643772913592, Val Loss: 0.6005579427642337. The best val loss is 0.5901112660007962 in epoch 40.\n",
      "Epoch: 50, Loss: 0.4083644581319642, Val Loss: 0.6048085048037061. The best val loss is 0.5901112660007962 in epoch 40.\n",
      "Epoch: 51, Loss: 0.403082884249896, Val Loss: 0.6078571540824438. The best val loss is 0.5901112660007962 in epoch 40.\n",
      "Epoch: 52, Loss: 0.3945612990073044, Val Loss: 0.5963720141325967. The best val loss is 0.5901112660007962 in epoch 40.\n",
      "Epoch: 53, Loss: 0.38647738012084126, Val Loss: 0.5921772230984801. The best val loss is 0.5901112660007962 in epoch 40.\n",
      "Epoch: 54, Loss: 0.39561996859138027, Val Loss: 0.5898459821434344. The best val loss is 0.5898459821434344 in epoch 54.\n",
      "Epoch: 55, Loss: 0.3939645201185324, Val Loss: 0.5995454742746839. The best val loss is 0.5898459821434344 in epoch 54.\n",
      "Epoch: 56, Loss: 0.38574477915998795, Val Loss: 0.5923815730769756. The best val loss is 0.5898459821434344 in epoch 54.\n",
      "Epoch: 57, Loss: 0.3892661157968271, Val Loss: 0.6093509543245121. The best val loss is 0.5898459821434344 in epoch 54.\n",
      "Epoch: 58, Loss: 0.3850240001495737, Val Loss: 0.5916378082612813. The best val loss is 0.5898459821434344 in epoch 54.\n",
      "Epoch: 59, Loss: 0.378469897556479, Val Loss: 0.5968938746442229. The best val loss is 0.5898459821434344 in epoch 54.\n",
      "Epoch: 60, Loss: 0.3794175671943783, Val Loss: 0.5946346276392371. The best val loss is 0.5898459821434344 in epoch 54.\n",
      "Epoch: 61, Loss: 0.383537115134897, Val Loss: 0.6071822138155921. The best val loss is 0.5898459821434344 in epoch 54.\n",
      "Epoch: 62, Loss: 0.3816265944037994, Val Loss: 0.6084112055220846. The best val loss is 0.5898459821434344 in epoch 54.\n",
      "Epoch: 63, Loss: 0.38150809210364833, Val Loss: 0.5979497970665916. The best val loss is 0.5898459821434344 in epoch 54.\n",
      "Epoch: 64, Loss: 0.37301460979846274, Val Loss: 0.6065514082625761. The best val loss is 0.5898459821434344 in epoch 54.\n",
      "Epoch: 65, Loss: 0.36878351867198944, Val Loss: 0.5835936852430893. The best val loss is 0.5835936852430893 in epoch 65.\n",
      "Epoch: 66, Loss: 0.3737880415181174, Val Loss: 0.5992799398757643. The best val loss is 0.5835936852430893 in epoch 65.\n",
      "Epoch: 67, Loss: 0.3712460848428037, Val Loss: 0.5899697612907927. The best val loss is 0.5835936852430893 in epoch 65.\n",
      "Epoch: 68, Loss: 0.37315521574150906, Val Loss: 0.5957560945870513. The best val loss is 0.5835936852430893 in epoch 65.\n",
      "Epoch: 69, Loss: 0.362878164725147, Val Loss: 0.5935364683805886. The best val loss is 0.5835936852430893 in epoch 65.\n",
      "Epoch: 70, Loss: 0.3722979333931512, Val Loss: 0.6141205157263804. The best val loss is 0.5835936852430893 in epoch 65.\n",
      "Epoch: 71, Loss: 0.36279642804913276, Val Loss: 0.5836885872028642. The best val loss is 0.5835936852430893 in epoch 65.\n",
      "Epoch: 72, Loss: 0.35015128895531605, Val Loss: 0.6027285529900406. The best val loss is 0.5835936852430893 in epoch 65.\n",
      "Epoch: 73, Loss: 0.3609611526893003, Val Loss: 0.5830024175219617. The best val loss is 0.5830024175219617 in epoch 73.\n",
      "Epoch: 74, Loss: 0.35839762582178536, Val Loss: 0.5948921146534257. The best val loss is 0.5830024175219617 in epoch 73.\n",
      "Epoch: 75, Loss: 0.3572802374506519, Val Loss: 0.5998453563552791. The best val loss is 0.5830024175219617 in epoch 73.\n",
      "Epoch: 76, Loss: 0.3575136511430253, Val Loss: 0.5765268831687459. The best val loss is 0.5765268831687459 in epoch 76.\n",
      "Epoch: 77, Loss: 0.3491816062779322, Val Loss: 0.6038693424503682. The best val loss is 0.5765268831687459 in epoch 76.\n",
      "Epoch: 78, Loss: 0.3558763565264479, Val Loss: 0.5848387520192033. The best val loss is 0.5765268831687459 in epoch 76.\n",
      "Epoch: 79, Loss: 0.3427315055236329, Val Loss: 0.5766063006752629. The best val loss is 0.5765268831687459 in epoch 76.\n",
      "Epoch: 80, Loss: 0.3547864577522243, Val Loss: 0.5917557159722862. The best val loss is 0.5765268831687459 in epoch 76.\n",
      "Epoch: 81, Loss: 0.34569333091269444, Val Loss: 0.588234972903284. The best val loss is 0.5765268831687459 in epoch 76.\n",
      "Epoch: 82, Loss: 0.34583661112472086, Val Loss: 0.5996746274374299. The best val loss is 0.5765268831687459 in epoch 76.\n",
      "Epoch: 83, Loss: 0.3544433234925688, Val Loss: 0.5710372688659167. The best val loss is 0.5710372688659167 in epoch 83.\n",
      "Epoch: 84, Loss: 0.34202558868122795, Val Loss: 0.58054094142833. The best val loss is 0.5710372688659167 in epoch 83.\n",
      "Epoch: 85, Loss: 0.3480827844273435, Val Loss: 0.6032005470182936. The best val loss is 0.5710372688659167 in epoch 83.\n",
      "Epoch: 86, Loss: 0.34498164269828446, Val Loss: 0.5817765525336993. The best val loss is 0.5710372688659167 in epoch 83.\n",
      "Epoch: 87, Loss: 0.34134020775991636, Val Loss: 0.5917026044453605. The best val loss is 0.5710372688659167 in epoch 83.\n",
      "Epoch: 88, Loss: 0.3539756306440291, Val Loss: 0.5930931666644953. The best val loss is 0.5710372688659167 in epoch 83.\n",
      "Epoch: 89, Loss: 0.3384290711179267, Val Loss: 0.598258935799033. The best val loss is 0.5710372688659167 in epoch 83.\n",
      "Epoch: 90, Loss: 0.32630713126302635, Val Loss: 0.5862780529058585. The best val loss is 0.5710372688659167 in epoch 83.\n",
      "Epoch: 91, Loss: 0.33687664508602044, Val Loss: 0.5769727050752963. The best val loss is 0.5710372688659167 in epoch 83.\n",
      "Epoch: 92, Loss: 0.3473127528372472, Val Loss: 0.5762458418385458. The best val loss is 0.5710372688659167 in epoch 83.\n",
      "Epoch: 93, Loss: 0.33563532669396295, Val Loss: 0.5968525631953094. The best val loss is 0.5710372688659167 in epoch 83.\n",
      "Epoch: 94, Loss: 0.3314749488647837, Val Loss: 0.595398830660319. The best val loss is 0.5710372688659167 in epoch 83.\n",
      "Epoch: 95, Loss: 0.3329750731804945, Val Loss: 0.590960522576914. The best val loss is 0.5710372688659167 in epoch 83.\n",
      "Epoch: 96, Loss: 0.3353428637241795, Val Loss: 0.5752199105287003. The best val loss is 0.5710372688659167 in epoch 83.\n",
      "Epoch: 97, Loss: 0.34178659967044844, Val Loss: 0.5732296922449338. The best val loss is 0.5710372688659167 in epoch 83.\n",
      "Epoch: 98, Loss: 0.32314487758779176, Val Loss: 0.5811086026793819. The best val loss is 0.5710372688659167 in epoch 83.\n",
      "Epoch: 99, Loss: 0.32910647651139835, Val Loss: 0.5770133462245182. The best val loss is 0.5710372688659167 in epoch 83.\n",
      "Epoch: 100, Loss: 0.3238052527291061, Val Loss: 0.5814551895452758. The best val loss is 0.5710372688659167 in epoch 83.\n",
      "Epoch: 101, Loss: 0.32984716396262176, Val Loss: 0.5813906811556574. The best val loss is 0.5710372688659167 in epoch 83.\n",
      "Epoch: 102, Loss: 0.326775474759349, Val Loss: 0.5779723345728244. The best val loss is 0.5710372688659167 in epoch 83.\n",
      "Epoch: 103, Loss: 0.32983843188216216, Val Loss: 0.5768956274299298. The best val loss is 0.5710372688659167 in epoch 83.\n",
      "Epoch: 104, Loss: 0.33291823569222956, Val Loss: 0.5779225970223799. The best val loss is 0.5710372688659167 in epoch 83.\n",
      "Epoch: 105, Loss: 0.3280012247009869, Val Loss: 0.5753000757451785. The best val loss is 0.5710372688659167 in epoch 83.\n",
      "Epoch: 106, Loss: 0.3194662572367348, Val Loss: 0.5870925825783762. The best val loss is 0.5710372688659167 in epoch 83.\n",
      "Epoch: 107, Loss: 0.3207915492192672, Val Loss: 0.5964459269228628. The best val loss is 0.5710372688659167 in epoch 83.\n",
      "Epoch: 108, Loss: 0.32585835576492506, Val Loss: 0.6154704705133276. The best val loss is 0.5710372688659167 in epoch 83.\n",
      "Epoch: 109, Loss: 0.3208541542182874, Val Loss: 0.5844341463456719. The best val loss is 0.5710372688659167 in epoch 83.\n",
      "Epoch: 110, Loss: 0.31640350160590053, Val Loss: 0.5904933976925025. The best val loss is 0.5710372688659167 in epoch 83.\n",
      "Epoch: 111, Loss: 0.3147911937349904, Val Loss: 0.5792616754770279. The best val loss is 0.5710372688659167 in epoch 83.\n",
      "Epoch: 112, Loss: 0.32040639015009803, Val Loss: 0.5819793530439926. The best val loss is 0.5710372688659167 in epoch 83.\n",
      "Epoch: 113, Loss: 0.31413557266231873, Val Loss: 0.6056355551137762. The best val loss is 0.5710372688659167 in epoch 83.\n",
      "Epoch: 114, Loss: 0.30808168859051094, Val Loss: 0.5927262697684563. The best val loss is 0.5710372688659167 in epoch 83.\n",
      "Epoch: 115, Loss: 0.3089282238570443, Val Loss: 0.5796368061485937. The best val loss is 0.5710372688659167 in epoch 83.\n",
      "Epoch: 116, Loss: 0.32587182331476766, Val Loss: 0.5752878412604332. The best val loss is 0.5710372688659167 in epoch 83.\n",
      "Epoch: 117, Loss: 0.32540303055387343, Val Loss: 0.583455377211005. The best val loss is 0.5710372688659167 in epoch 83.\n",
      "Epoch: 118, Loss: 0.3131185951132844, Val Loss: 0.5797113500914332. The best val loss is 0.5710372688659167 in epoch 83.\n",
      "Epoch: 119, Loss: 0.30391744426349654, Val Loss: 0.6049800280292156. The best val loss is 0.5710372688659167 in epoch 83.\n",
      "Epoch: 120, Loss: 0.31208072145924953, Val Loss: 0.5922758643657474. The best val loss is 0.5710372688659167 in epoch 83.\n",
      "Epoch: 121, Loss: 0.3176320235985909, Val Loss: 0.6109542104147249. The best val loss is 0.5710372688659167 in epoch 83.\n",
      "Epoch: 122, Loss: 0.3147456742224902, Val Loss: 0.5852055001561924. The best val loss is 0.5710372688659167 in epoch 83.\n",
      "Epoch: 123, Loss: 0.30696533712809976, Val Loss: 0.5706274071234768. The best val loss is 0.5706274071234768 in epoch 123.\n",
      "Epoch: 124, Loss: 0.32265936966686354, Val Loss: 0.5859721261313406. The best val loss is 0.5706274071234768 in epoch 123.\n",
      "Epoch: 125, Loss: 0.3112110183948148, Val Loss: 0.5667502364869845. The best val loss is 0.5667502364869845 in epoch 125.\n",
      "Epoch: 126, Loss: 0.3104869855472641, Val Loss: 0.5941177205008975. The best val loss is 0.5667502364869845 in epoch 125.\n",
      "Epoch: 127, Loss: 0.31350058882775966, Val Loss: 0.5784695949089729. The best val loss is 0.5667502364869845 in epoch 125.\n",
      "Epoch: 128, Loss: 0.31120698572727884, Val Loss: 0.5807840824127197. The best val loss is 0.5667502364869845 in epoch 125.\n",
      "Epoch: 129, Loss: 0.30841147328597784, Val Loss: 0.5897202885757058. The best val loss is 0.5667502364869845 in epoch 125.\n",
      "Epoch: 130, Loss: 0.30785051270993086, Val Loss: 0.5675957033694801. The best val loss is 0.5667502364869845 in epoch 125.\n",
      "Epoch: 131, Loss: 0.3112386478668582, Val Loss: 0.5779468749286765. The best val loss is 0.5667502364869845 in epoch 125.\n",
      "Epoch: 132, Loss: 0.3125714513942273, Val Loss: 0.5686445665561547. The best val loss is 0.5667502364869845 in epoch 125.\n",
      "Epoch: 133, Loss: 0.30767959122457644, Val Loss: 0.5657109239343869. The best val loss is 0.5657109239343869 in epoch 133.\n",
      "Epoch: 134, Loss: 0.3017018769398658, Val Loss: 0.5809539278685036. The best val loss is 0.5657109239343869 in epoch 133.\n",
      "Epoch: 135, Loss: 0.3097518128852775, Val Loss: 0.5628624608961202. The best val loss is 0.5628624608961202 in epoch 135.\n",
      "Epoch: 136, Loss: 0.30671128467486725, Val Loss: 0.5763838447756686. The best val loss is 0.5628624608961202 in epoch 135.\n",
      "Epoch: 137, Loss: 0.30341582777943926, Val Loss: 0.5731805956969827. The best val loss is 0.5628624608961202 in epoch 135.\n",
      "Epoch: 138, Loss: 0.29784292695078535, Val Loss: 0.5638393105591758. The best val loss is 0.5628624608961202 in epoch 135.\n",
      "Epoch: 139, Loss: 0.30926666142296616, Val Loss: 0.5739989044555163. The best val loss is 0.5628624608961202 in epoch 135.\n",
      "Epoch: 140, Loss: 0.2959961067803585, Val Loss: 0.5746817353923442. The best val loss is 0.5628624608961202 in epoch 135.\n",
      "Epoch: 141, Loss: 0.30737390869507825, Val Loss: 0.5700446905220969. The best val loss is 0.5628624608961202 in epoch 135.\n",
      "Epoch: 142, Loss: 0.3121158451820812, Val Loss: 0.5812855759414576. The best val loss is 0.5628624608961202 in epoch 135.\n",
      "Epoch: 143, Loss: 0.30305711022258675, Val Loss: 0.5643048703165378. The best val loss is 0.5628624608961202 in epoch 135.\n",
      "Epoch: 144, Loss: 0.30016324647369175, Val Loss: 0.5782985472578114. The best val loss is 0.5628624608961202 in epoch 135.\n",
      "Epoch: 145, Loss: 0.3040212186148567, Val Loss: 0.5691732195979458. The best val loss is 0.5628624608961202 in epoch 135.\n",
      "Epoch: 146, Loss: 0.3016812792659676, Val Loss: 0.5617153816303965. The best val loss is 0.5617153816303965 in epoch 146.\n",
      "Epoch: 147, Loss: 0.29671870411312495, Val Loss: 0.579236001281415. The best val loss is 0.5617153816303965 in epoch 146.\n",
      "Epoch: 148, Loss: 0.29685061381463584, Val Loss: 0.5651809762595064. The best val loss is 0.5617153816303965 in epoch 146.\n",
      "Epoch: 149, Loss: 0.29743194694284103, Val Loss: 0.5766752395084349. The best val loss is 0.5617153816303965 in epoch 146.\n",
      "Epoch: 150, Loss: 0.292420252804121, Val Loss: 0.5900611251087512. The best val loss is 0.5617153816303965 in epoch 146.\n",
      "Epoch: 151, Loss: 0.2913234588438577, Val Loss: 0.5807744913687141. The best val loss is 0.5617153816303965 in epoch 146.\n",
      "Epoch: 152, Loss: 0.292916942197476, Val Loss: 0.5939694009089874. The best val loss is 0.5617153816303965 in epoch 146.\n",
      "Epoch: 153, Loss: 0.30532007675318823, Val Loss: 0.5810983082500555. The best val loss is 0.5617153816303965 in epoch 146.\n",
      "Epoch: 154, Loss: 0.2950349525161033, Val Loss: 0.5784054488196211. The best val loss is 0.5617153816303965 in epoch 146.\n",
      "Epoch: 155, Loss: 0.29075001142103307, Val Loss: 0.5682049542665482. The best val loss is 0.5617153816303965 in epoch 146.\n",
      "Epoch: 156, Loss: 0.2975866798664967, Val Loss: 0.5920458019284879. The best val loss is 0.5617153816303965 in epoch 146.\n",
      "Epoch: 157, Loss: 0.2897822512653622, Val Loss: 0.5714672541214247. The best val loss is 0.5617153816303965 in epoch 146.\n",
      "Epoch: 158, Loss: 0.29135854074554723, Val Loss: 0.575728770534871. The best val loss is 0.5617153816303965 in epoch 146.\n",
      "Epoch: 159, Loss: 0.28913253031834196, Val Loss: 0.6004293250330424. The best val loss is 0.5617153816303965 in epoch 146.\n",
      "Epoch: 160, Loss: 0.2927849720211795, Val Loss: 0.5684288557050592. The best val loss is 0.5617153816303965 in epoch 146.\n",
      "Epoch: 161, Loss: 0.2959106251271102, Val Loss: 0.5842390287730653. The best val loss is 0.5617153816303965 in epoch 146.\n",
      "Epoch: 162, Loss: 0.29101231552823614, Val Loss: 0.5712400572532315. The best val loss is 0.5617153816303965 in epoch 146.\n",
      "Epoch: 163, Loss: 0.2881297772056865, Val Loss: 0.559442984224376. The best val loss is 0.559442984224376 in epoch 163.\n",
      "Epoch: 164, Loss: 0.2852074009006041, Val Loss: 0.5753907935094025. The best val loss is 0.559442984224376 in epoch 163.\n",
      "Epoch: 165, Loss: 0.285701166430529, Val Loss: 0.5759714293782994. The best val loss is 0.559442984224376 in epoch 163.\n",
      "Epoch: 166, Loss: 0.28792087516210374, Val Loss: 0.5690475027945082. The best val loss is 0.559442984224376 in epoch 163.\n",
      "Epoch: 167, Loss: 0.2832980568717866, Val Loss: 0.5747623486539065. The best val loss is 0.559442984224376 in epoch 163.\n",
      "Epoch: 168, Loss: 0.28516104360566524, Val Loss: 0.5714504392975468. The best val loss is 0.559442984224376 in epoch 163.\n",
      "Epoch: 169, Loss: 0.28167932151551667, Val Loss: 0.57846040872194. The best val loss is 0.559442984224376 in epoch 163.\n",
      "Epoch: 170, Loss: 0.2865719164103052, Val Loss: 0.5612821884579577. The best val loss is 0.559442984224376 in epoch 163.\n",
      "Epoch: 171, Loss: 0.28216071981583196, Val Loss: 0.5650454471677037. The best val loss is 0.559442984224376 in epoch 163.\n",
      "Epoch: 172, Loss: 0.2902397823921085, Val Loss: 0.5877135702866619. The best val loss is 0.559442984224376 in epoch 163.\n",
      "Epoch: 173, Loss: 0.2852446578279899, Val Loss: 0.5798372459613671. The best val loss is 0.559442984224376 in epoch 163.\n",
      "Epoch: 174, Loss: 0.28750243619845733, Val Loss: 0.5724708799083355. The best val loss is 0.559442984224376 in epoch 163.\n",
      "Epoch: 175, Loss: 0.2822929304229082, Val Loss: 0.5700611611038952. The best val loss is 0.559442984224376 in epoch 163.\n",
      "Epoch: 176, Loss: 0.2920268885791302, Val Loss: 0.579023973921598. The best val loss is 0.559442984224376 in epoch 163.\n",
      "Epoch: 177, Loss: 0.28251984051979373, Val Loss: 0.5748149303056426. The best val loss is 0.559442984224376 in epoch 163.\n",
      "Epoch: 178, Loss: 0.28110622288319315, Val Loss: 0.5797006480269513. The best val loss is 0.559442984224376 in epoch 163.\n",
      "Epoch: 179, Loss: 0.2818679098230209, Val Loss: 0.5799835576849469. The best val loss is 0.559442984224376 in epoch 163.\n",
      "Epoch: 180, Loss: 0.28157650233402737, Val Loss: 0.570118812938868. The best val loss is 0.559442984224376 in epoch 163.\n",
      "Epoch: 181, Loss: 0.2799555491248186, Val Loss: 0.5903648266852912. The best val loss is 0.559442984224376 in epoch 163.\n",
      "Epoch: 182, Loss: 0.2763484850743391, Val Loss: 0.5635228816230419. The best val loss is 0.559442984224376 in epoch 163.\n",
      "Epoch: 183, Loss: 0.280780463567833, Val Loss: 0.5791870104306835. The best val loss is 0.559442984224376 in epoch 163.\n",
      "Epoch: 184, Loss: 0.28329240117412413, Val Loss: 0.5799015035568658. The best val loss is 0.559442984224376 in epoch 163.\n",
      "Epoch: 185, Loss: 0.28868773334870373, Val Loss: 0.565531560551312. The best val loss is 0.559442984224376 in epoch 163.\n",
      "Epoch: 186, Loss: 0.27346769788295683, Val Loss: 0.5797525214946876. The best val loss is 0.559442984224376 in epoch 163.\n",
      "Epoch: 187, Loss: 0.27500163742008, Val Loss: 0.5668845628782854. The best val loss is 0.559442984224376 in epoch 163.\n",
      "Epoch: 188, Loss: 0.28088780275008973, Val Loss: 0.568546903840566. The best val loss is 0.559442984224376 in epoch 163.\n",
      "Epoch: 189, Loss: 0.27970000421696334, Val Loss: 0.5697976484642191. The best val loss is 0.559442984224376 in epoch 163.\n",
      "Epoch: 190, Loss: 0.2756377290254527, Val Loss: 0.5751031566474397. The best val loss is 0.559442984224376 in epoch 163.\n",
      "Epoch: 191, Loss: 0.27344675987523837, Val Loss: 0.5829155700186551. The best val loss is 0.559442984224376 in epoch 163.\n",
      "Epoch: 192, Loss: 0.28079140621380216, Val Loss: 0.5932203809083518. The best val loss is 0.559442984224376 in epoch 163.\n",
      "Epoch: 193, Loss: 0.27451732036841175, Val Loss: 0.576087320255021. The best val loss is 0.559442984224376 in epoch 163.\n",
      "Epoch: 194, Loss: 0.28170232104994086, Val Loss: 0.5776064959117921. The best val loss is 0.559442984224376 in epoch 163.\n",
      "Epoch: 195, Loss: 0.27986278074936277, Val Loss: 0.5733445214770608. The best val loss is 0.559442984224376 in epoch 163.\n",
      "Epoch: 196, Loss: 0.2789561886095653, Val Loss: 0.5823673263697301. The best val loss is 0.559442984224376 in epoch 163.\n",
      "Epoch: 197, Loss: 0.2791278816650819, Val Loss: 0.5784084450895504. The best val loss is 0.559442984224376 in epoch 163.\n",
      "Epoch: 198, Loss: 0.2773500455230692, Val Loss: 0.5823896259574567. The best val loss is 0.559442984224376 in epoch 163.\n",
      "Epoch: 199, Loss: 0.2784909770218995, Val Loss: 0.5699085335610277. The best val loss is 0.559442984224376 in epoch 163.\n",
      "Epoch: 200, Loss: 0.27406128188663154, Val Loss: 0.5931905136775162. The best val loss is 0.559442984224376 in epoch 163.\n",
      "Epoch: 201, Loss: 0.27406109086353414, Val Loss: 0.5760189481710983. The best val loss is 0.559442984224376 in epoch 163.\n",
      "Epoch: 202, Loss: 0.28128726361659323, Val Loss: 0.5785159903057551. The best val loss is 0.559442984224376 in epoch 163.\n",
      "Epoch: 203, Loss: 0.276198021741244, Val Loss: 0.5724056608090966. The best val loss is 0.559442984224376 in epoch 163.\n",
      "Epoch: 204, Loss: 0.2763995799596292, Val Loss: 0.5720801659054675. The best val loss is 0.559442984224376 in epoch 163.\n",
      "Epoch: 205, Loss: 0.26505959575084875, Val Loss: 0.5688852122274496. The best val loss is 0.559442984224376 in epoch 163.\n",
      "Epoch: 206, Loss: 0.2807133837337912, Val Loss: 0.561060284911576. The best val loss is 0.559442984224376 in epoch 163.\n",
      "Epoch: 207, Loss: 0.2783729234968659, Val Loss: 0.5606417134404182. The best val loss is 0.559442984224376 in epoch 163.\n",
      "Epoch: 208, Loss: 0.2643663240392713, Val Loss: 0.5761121589753587. The best val loss is 0.559442984224376 in epoch 163.\n",
      "Epoch: 209, Loss: 0.2734516680131864, Val Loss: 0.5506142446045148. The best val loss is 0.5506142446045148 in epoch 209.\n",
      "Epoch: 210, Loss: 0.27256592770997623, Val Loss: 0.5627262877710795. The best val loss is 0.5506142446045148 in epoch 209.\n",
      "Epoch: 211, Loss: 0.2707751576319663, Val Loss: 0.5873762753050206. The best val loss is 0.5506142446045148 in epoch 209.\n",
      "Epoch: 212, Loss: 0.2774685037179585, Val Loss: 0.569239574721304. The best val loss is 0.5506142446045148 in epoch 209.\n",
      "Epoch: 213, Loss: 0.27612383769702736, Val Loss: 0.5658961516820779. The best val loss is 0.5506142446045148 in epoch 209.\n",
      "Epoch: 214, Loss: 0.27853093443125704, Val Loss: 0.5582708893185955. The best val loss is 0.5506142446045148 in epoch 209.\n",
      "Epoch: 215, Loss: 0.2721802492755173, Val Loss: 0.5597216320239892. The best val loss is 0.5506142446045148 in epoch 209.\n",
      "Epoch: 216, Loss: 0.27059901581846013, Val Loss: 0.5538761527356455. The best val loss is 0.5506142446045148 in epoch 209.\n",
      "Epoch: 217, Loss: 0.2727644860635709, Val Loss: 0.582524243805368. The best val loss is 0.5506142446045148 in epoch 209.\n",
      "Epoch: 218, Loss: 0.26874367626261536, Val Loss: 0.560043477153374. The best val loss is 0.5506142446045148 in epoch 209.\n",
      "Epoch: 219, Loss: 0.2608478213694409, Val Loss: 0.5644208152415389. The best val loss is 0.5506142446045148 in epoch 209.\n",
      "Epoch: 220, Loss: 0.27496112102683445, Val Loss: 0.5581450025408955. The best val loss is 0.5506142446045148 in epoch 209.\n",
      "Epoch: 221, Loss: 0.2667116536113032, Val Loss: 0.5762663476042829. The best val loss is 0.5506142446045148 in epoch 209.\n",
      "Epoch: 222, Loss: 0.26607079991567745, Val Loss: 0.5656787182314921. The best val loss is 0.5506142446045148 in epoch 209.\n",
      "Epoch: 223, Loss: 0.2701546778209018, Val Loss: 0.5599509242732646. The best val loss is 0.5506142446045148 in epoch 209.\n",
      "Epoch: 224, Loss: 0.26507608965039253, Val Loss: 0.576087441989931. The best val loss is 0.5506142446045148 in epoch 209.\n",
      "Epoch: 225, Loss: 0.2638658442582092, Val Loss: 0.5629089731028525. The best val loss is 0.5506142446045148 in epoch 209.\n",
      "Epoch: 226, Loss: 0.27089454646963274, Val Loss: 0.562779827643249. The best val loss is 0.5506142446045148 in epoch 209.\n",
      "Epoch: 227, Loss: 0.27437972312752346, Val Loss: 0.5632650872408334. The best val loss is 0.5506142446045148 in epoch 209.\n",
      "Epoch: 228, Loss: 0.265983763103285, Val Loss: 0.5618503467511322. The best val loss is 0.5506142446045148 in epoch 209.\n",
      "Epoch: 229, Loss: 0.2690598440703249, Val Loss: 0.5708437885268259. The best val loss is 0.5506142446045148 in epoch 209.\n",
      "Epoch: 230, Loss: 0.26835012680640186, Val Loss: 0.5602795345298315. The best val loss is 0.5506142446045148 in epoch 209.\n",
      "Epoch: 231, Loss: 0.26432300467778297, Val Loss: 0.5540358454494153. The best val loss is 0.5506142446045148 in epoch 209.\n",
      "Epoch: 232, Loss: 0.26599613016974316, Val Loss: 0.5551857680587445. The best val loss is 0.5506142446045148 in epoch 209.\n",
      "Epoch: 233, Loss: 0.26347067438229155, Val Loss: 0.5685149085218624. The best val loss is 0.5506142446045148 in epoch 209.\n",
      "Epoch: 234, Loss: 0.26751254161779026, Val Loss: 0.5660574610455561. The best val loss is 0.5506142446045148 in epoch 209.\n",
      "Epoch: 235, Loss: 0.26541295283249694, Val Loss: 0.5670869153434948. The best val loss is 0.5506142446045148 in epoch 209.\n",
      "Epoch: 236, Loss: 0.2653599366491293, Val Loss: 0.5614773609628112. The best val loss is 0.5506142446045148 in epoch 209.\n",
      "Epoch: 237, Loss: 0.2662328870790283, Val Loss: 0.5676712120993662. The best val loss is 0.5506142446045148 in epoch 209.\n",
      "Epoch: 238, Loss: 0.26688076857559, Val Loss: 0.5781088633052374. The best val loss is 0.5506142446045148 in epoch 209.\n",
      "Epoch: 239, Loss: 0.27209434459788084, Val Loss: 0.5685614577289355. The best val loss is 0.5506142446045148 in epoch 209.\n",
      "Epoch: 240, Loss: 0.25565624068470766, Val Loss: 0.5630070125147447. The best val loss is 0.5506142446045148 in epoch 209.\n",
      "Epoch: 241, Loss: 0.26337509224340866, Val Loss: 0.5663782963055676. The best val loss is 0.5506142446045148 in epoch 209.\n",
      "Epoch: 242, Loss: 0.25791891253668897, Val Loss: 0.570207545502206. The best val loss is 0.5506142446045148 in epoch 209.\n",
      "Epoch: 243, Loss: 0.27337414504837815, Val Loss: 0.5673647981326458. The best val loss is 0.5506142446045148 in epoch 209.\n",
      "Epoch: 244, Loss: 0.2638578884249186, Val Loss: 0.5680219308804657. The best val loss is 0.5506142446045148 in epoch 209.\n",
      "Epoch: 245, Loss: 0.2566627488084083, Val Loss: 0.5638837970919528. The best val loss is 0.5506142446045148 in epoch 209.\n",
      "Epoch: 246, Loss: 0.2633417400456693, Val Loss: 0.5605825064545971. The best val loss is 0.5506142446045148 in epoch 209.\n",
      "Epoch: 247, Loss: 0.2639889079180077, Val Loss: 0.551850961173995. The best val loss is 0.5506142446045148 in epoch 209.\n",
      "Epoch: 248, Loss: 0.25892963700920996, Val Loss: 0.5655168537366189. The best val loss is 0.5506142446045148 in epoch 209.\n",
      "Epoch: 249, Loss: 0.2659519577711603, Val Loss: 0.5685224588644706. The best val loss is 0.5506142446045148 in epoch 209.\n",
      "Epoch: 250, Loss: 0.2558550471100059, Val Loss: 0.5574127387697414. The best val loss is 0.5506142446045148 in epoch 209.\n",
      "Epoch: 251, Loss: 0.2676079269145092, Val Loss: 0.5606442260540138. The best val loss is 0.5506142446045148 in epoch 209.\n",
      "Epoch: 252, Loss: 0.26820769324137345, Val Loss: 0.569399874594252. The best val loss is 0.5506142446045148 in epoch 209.\n",
      "Epoch: 253, Loss: 0.26273784000616873, Val Loss: 0.5565078392372294. The best val loss is 0.5506142446045148 in epoch 209.\n",
      "Epoch: 254, Loss: 0.2554377465352525, Val Loss: 0.5548669375100378. The best val loss is 0.5506142446045148 in epoch 209.\n",
      "Epoch: 255, Loss: 0.2655937552560855, Val Loss: 0.5637813233217951. The best val loss is 0.5506142446045148 in epoch 209.\n",
      "Epoch: 256, Loss: 0.255323704957527, Val Loss: 0.5692406907930212. The best val loss is 0.5506142446045148 in epoch 209.\n",
      "Epoch: 257, Loss: 0.25345539956958624, Val Loss: 0.5626253899881395. The best val loss is 0.5506142446045148 in epoch 209.\n",
      "Epoch: 258, Loss: 0.25726864467898425, Val Loss: 0.5553672404612525. The best val loss is 0.5506142446045148 in epoch 209.\n",
      "Epoch: 259, Loss: 0.2604094168891872, Val Loss: 0.5730891451239586. The best val loss is 0.5506142446045148 in epoch 209.\n"
     ]
    }
   ],
   "source": [
    "# Train the image classifier\n",
    "trainer = Trainer(model)\n",
    "model_path = \"cnn_weights.pt\"\n",
    "\n",
    "if os.path.exists(model_path):\n",
    "    print(\"Loading model weights...\")\n",
    "    model.load_state_dict(torch.load(model_path, weights_only=True))\n",
    "    model.eval()\n",
    "else:\n",
    "    print(\"Training model weights...\")\n",
    "    # Fit model\n",
    "    trainer.fit(EPOCHS, train_dataloader, val_dataloader, optimizer, criterion, DEVICE, EARLY_STOPPING_LIMIT)\n",
    "    # Save model weights\n",
    "    torch.save(trainer.model.best_model_weights, \"cnn_weights.pt\")"
   ]
  },
  {
   "cell_type": "markdown",
   "id": "1accead2",
   "metadata": {},
   "source": [
    "#### Learning curves\n",
    "\n",
    "After training the model, we can analyse the learning curves to assess the training process. These curves, which typically display the loss over epochs for both the training and validation sets, are crucial for improving model performance. They can help identify issues like overfitting or underfitting. Overfitting occurs when the model performs well on the training data but poorly on the validation data, usually indicated by a widening gap between the two curves. Underfitting, on the other hand, is suggested when both the training and validation curves show poor performance and fail to improve. By monitoring these curves, we can adjust hyperparameters or modify the model architecture to address such issues."
   ]
  },
  {
   "cell_type": "code",
   "execution_count": 39,
   "id": "5ca13d69",
   "metadata": {},
   "outputs": [
    {
     "data": {
      "text/plain": [
       "Text(0.5, 1.0, 'Learning curve of image classification model')"
      ]
     },
     "execution_count": 39,
     "metadata": {},
     "output_type": "execute_result"
    },
    {
     "data": {
      "image/png": "[encoded data removed]",
      "text/plain": [
       "<Figure size 640x480 with 1 Axes>"
      ]
     },
     "metadata": {},
     "output_type": "display_data"
    }
   ],
   "source": [
    "training_log = pd.read_csv(\"training_log.txt\")\n",
    "\n",
    "plt.figure()\n",
    "plt.plot(training_log[\"Train Loss\"])\n",
    "plt.plot(training_log[\"Val Loss\"])\n",
    "plt.legend([\"Train loss\", \"Val loss\"])\n",
    "plt.xlabel(\"Epochs\")\n",
    "plt.ylabel(\"Loss\")\n",
    "plt.title(\"Learning curve of image classification model\")"
   ]
  },
  {
   "cell_type": "markdown",
   "id": "528a4711",
   "metadata": {},
   "source": [
    "### Model testing\n",
    "\n",
    "After having the model already optimised, we can evaluate the model using the ```Trainer``` class by calling the ```predict``` function."
   ]
  },
  {
   "cell_type": "code",
   "execution_count": 40,
   "id": "93ea20aa",
   "metadata": {},
   "outputs": [],
   "source": [
    "original_images, true_labels, predicted_labels = trainer.predict(test_dataloader, DEVICE)"
   ]
  },
  {
   "cell_type": "markdown",
   "id": "c8081975",
   "metadata": {},
   "source": [
    "### Explore results\n",
    "\n",
    "To evaluate the results, we display the model's accuracy along with the confusion matrix. The confusion matrix is a powerful evaluation tool that helps us understand the model’s performance across multiple classes. It maps the relationship between true and predicted labels, showing the number of instances for each possible prediction-outcome pair."
   ]
  },
  {
   "cell_type": "markdown",
   "id": "94597545",
   "metadata": {},
   "source": [
    "#### Compute average accuracy"
   ]
  },
  {
   "cell_type": "code",
   "execution_count": 41,
   "id": "4df4d88f",
   "metadata": {},
   "outputs": [
    {
     "name": "stdout",
     "output_type": "stream",
     "text": [
      "Accuracy: 0.8303\n"
     ]
    }
   ],
   "source": [
    "# Compute average accuracy\n",
    "num_test_samples = len(original_images)\n",
    "correct = (true_labels == predicted_labels).sum()\n",
    "print(\"Accuracy:\", correct/num_test_samples)"
   ]
  },
  {
   "cell_type": "markdown",
   "id": "dce3ac13",
   "metadata": {},
   "source": [
    "#### Compute confusion matrix"
   ]
  },
  {
   "cell_type": "code",
   "execution_count": 42,
   "id": "9be2ac3d",
   "metadata": {},
   "outputs": [
    {
     "data": {
      "image/png": "[encoded data removed]",
      "text/plain": [
       "<Figure size 1000x800 with 1 Axes>"
      ]
     },
     "metadata": {},
     "output_type": "display_data"
    }
   ],
   "source": [
    "# Compute confusion matrix\n",
    "cm = confusion_matrix(true_labels, predicted_labels)\n",
    "\n",
    "# Plot confusion matrix\n",
    "fig, ax = plt.subplots(figsize=(10, 8))\n",
    "cax = ax.matshow(cm, cmap='Greens')\n",
    "\n",
    "# Add labels, title, and ticks\n",
    "ax.set_xticks(np.arange(NUMBER_CLASSES))\n",
    "ax.set_yticks(np.arange(NUMBER_CLASSES))\n",
    "ax.set_xticklabels(CIFAR_10_CLASSES)\n",
    "ax.set_yticklabels(CIFAR_10_CLASSES)\n",
    "plt.xlabel('Predicted Labels')\n",
    "plt.ylabel('True Labels')\n",
    "plt.title('Confusion Matrix for test set of CIFAR10')\n",
    "\n",
    "# Annotate each cell with the numeric value\n",
    "for (i, j), val in np.ndenumerate(cm):\n",
    "    ax.text(j, i, f'{val}', ha='center', va='center', color='black')\n",
    "\n",
    "# Rotate class names on x-axis\n",
    "plt.xticks(rotation=45)\n",
    "plt.show()"
   ]
  },
  {
   "cell_type": "markdown",
   "id": "b449b164",
   "metadata": {},
   "source": [
    "### Explain image classifier predictions\n",
    "\n",
    "Deep neural networks are often described as \"black boxes\" because their decision-making processes are difficult to understand and interpret. To address this, researchers have developed various methods to make these models more explainable. One such method is Grad-CAM (Gradient-weighted Class Activation Mapping). Grad-CAM computes the gradients of a target class with respect to the final convolutional layers and generates a heatmap that highlights the regions of the input image most influential in the model’s prediction for that class."
   ]
  },
  {
   "cell_type": "markdown",
   "id": "bac9c664",
   "metadata": {},
   "source": [
    "#### Prepare image for GradCAM\n",
    "\n",
    "We begin by preparing the image for Grad-CAM visualisation. The image must be converted to the (Height, Width, Channels) format and normalized to values between 0 and 1, as the visualizer from the PyTorch-GradCAM library expects this format. Afterwards, a batch dimension should be added to make it compatible with the model's input requirements. We also retrieve the predicted and true labels, as both are needed for Grad-CAM computation and visualisation."
   ]
  },
  {
   "cell_type": "code",
   "execution_count": 50,
   "id": "972d39aa",
   "metadata": {},
   "outputs": [],
   "source": [
    "# Get a batch of images\n",
    "idx = 1\n",
    "img = original_images[idx]\n",
    "img_np = np.transpose(img, (1,2,0)) # shape: (H, W, C)\n",
    "img_np = (img_np - img_np.min()) / (img_np.max() - img_np.min()) # Should be normalised between 0 and 1\n",
    "img = np.expand_dims(img, axis = 0)\n",
    "img = torch.from_numpy(img)\n",
    "img = img.to(DEVICE)  # shape: [1, C, H, W]\n",
    "pred_label = predicted_labels[idx]\n",
    "true_label = true_labels[idx]"
   ]
  },
  {
   "cell_type": "markdown",
   "id": "c2dd4920",
   "metadata": {},
   "source": [
    "#### Compute GradCAM heatmap\n",
    "\n",
    "Using the predicted class, we compute the Grad-CAM values based on the activations and gradients from the last convolutional layer of the image classifier. This layer is typically chosen because it retains spatial information that helps localise the regions of the input image most relevant to the model's decision."
   ]
  },
  {
   "cell_type": "code",
   "execution_count": 53,
   "id": "223532a5",
   "metadata": {},
   "outputs": [],
   "source": [
    "# Make sure input requires grad\n",
    "img.requires_grad = True\n",
    "\n",
    "# Define the layer(s) to inspect\n",
    "target_layers = [model.conv3]\n",
    "\n",
    "# Define the target class you want to explain\n",
    "targets = [ClassifierOutputTarget(pred_label)]\n",
    "\n",
    "# Make sure that the model is on eval and not on train mode\n",
    "model.eval()\n",
    "\n",
    "# Create CAM object\n",
    "with GradCAM(model=model, target_layers=target_layers) as cam:\n",
    "    grad_cam_matrix = cam(input_tensor=img, targets=targets)\n",
    "    grad_cam_matrix = grad_cam_matrix[0, :]"
   ]
  },
  {
   "cell_type": "markdown",
   "id": "7ce807d1",
   "metadata": {},
   "source": [
    "#### Visualise GradCAM heatmap with the image\n",
    "\n",
    "After obtaining the Grad-CAM heatmap, we overlay it on the input image to visualise the regions that contributed most to the model’s prediction. This helps identify which pixels the model focused on when predicting the class."
   ]
  },
  {
   "cell_type": "code",
   "execution_count": 54,
   "id": "b73bf41a",
   "metadata": {},
   "outputs": [
    {
     "data": {
      "image/png": "[encoded data removed]",
      "text/plain": [
       "<Figure size 500x600 with 2 Axes>"
      ]
     },
     "metadata": {},
     "output_type": "display_data"
    }
   ],
   "source": [
    "# Combine CAM with image\n",
    "visualization = show_cam_on_image(img_np, grad_cam_matrix, use_rgb=True)\n",
    "\n",
    "# Plot image with GradCAM output\n",
    "true_class = CIFAR_10_CLASSES[true_label]\n",
    "pred_class = CIFAR_10_CLASSES[pred_label]\n",
    "plot_multiple_images((img_np, f\"Original - {true_class}\"), (visualization, f\"Grad-CAM - {pred_class}\"), figsize = (5,6))"
   ]
  }
 ],
 "metadata": {
  "kernelspec": {
   "display_name": "Python 3 (ipykernel)",
   "language": "python",
   "name": "python3"
  },
  "language_info": {
   "codemirror_mode": {
    "name": "ipython",
    "version": 3
   },
   "file_extension": ".py",
   "mimetype": "text/x-python",
   "name": "python",
   "nbconvert_exporter": "python",
   "pygments_lexer": "ipython3",
   "version": "3.10.17"
  }
 },
 "nbformat": 4,
 "nbformat_minor": 5
}
