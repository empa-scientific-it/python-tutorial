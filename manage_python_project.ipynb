{
 "cells": [
  {
   "cell_type": "markdown",
   "id": "7f245f1b-c82d-4438-afd4-0a1ce799cc2c",
   "metadata": {},
   "source": [
    "# Manage Python project.\n",
    "# Table of Contents"
   ]
  },
  {
   "cell_type": "markdown",
   "id": "0ce96799-6362-468c-9a17-63e6681d867e",
   "metadata": {},
   "source": [
    "# Introduction\n",
    "\n",
    "In the basic tutorial we have discussed the package structure.\n",
    "\n",
    "We came up with the following setup:\n",
    "\n",
    "```bash\n",
    "mypackage/\n",
    "├── mypackage\n",
    "│   ├── __init__.py\n",
    "│   ├── geometry\n",
    "│   │   ├── __init__.py\n",
    "│   │   └── geometry.py\n",
    "│   └── utils.py\n",
    "└── pyproject.toml\n",
    "```\n",
    "\n",
    "Where the content of the `pyprojects.toml` file is:\n",
    "\n",
    "```toml\n",
    "[build-system]\n",
    "requires = [\"flit_core >=3.2,<4\"]\n",
    "build-backend = \"flit_core.buildapi\"\n",
    "\n",
    "[project]\n",
    "name = \"mypackage\"\n",
    "version = \"0.1.0\"\n",
    "description = \"My first package\"\n",
    "```\n",
    "\n",
    "This is a minimal setup to create a package that can be installed with `pip`.\n",
    "However, we can do better, way better.\n",
    "We can expand the `pyproject.toml` file, as well as automate code formatting, testing, and releasing."
   ]
  },
  {
   "cell_type": "markdown",
   "id": "515f9eaa",
   "metadata": {},
   "source": [
    "# The `pyproject.toml` file\n",
    "\n",
    "The `pyproject.toml` file is a configuration file that is used by the build system.\n",
    "To read more about the `pyproject.toml` file, see [PEP 518](https://www.python.org/dev/peps/pep-0518/).\n",
    "\n",
    "Let' start by adding some metadata to the `pyproject.toml` file:\n",
    "\n",
    "```toml\n",
    "[build-system]\n",
    "requires = [\"flit_core >=3.2,<4\"]\n",
    "build-backend = \"flit_core.buildapi\"\n",
    "\n",
    "[project]\n",
    "name = \"mypackage\"\n",
    "version = \"0.1.0\"\n",
    "description = \"My first package\"\n",
    "authors = [{name = \"John Doe\", email = \"john.doe@mail.com\"}]"
   ]
  }
 ],
 "metadata": {
  "kernelspec": {
   "display_name": "Python 3 (ipykernel)",
   "language": "python",
   "name": "python3"
  },
  "language_info": {
   "codemirror_mode": {
    "name": "ipython",
    "version": 3
   },
   "file_extension": ".py",
   "mimetype": "text/x-python",
   "name": "python",
   "nbconvert_exporter": "python",
   "pygments_lexer": "ipython3",
   "version": "3.11.1"
  }
 },
 "nbformat": 4,
 "nbformat_minor": 5
}
