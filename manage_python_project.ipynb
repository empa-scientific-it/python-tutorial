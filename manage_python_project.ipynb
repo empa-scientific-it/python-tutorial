{
 "cells": [
  {
   "cell_type": "markdown",
   "id": "7f245f1b-c82d-4438-afd4-0a1ce799cc2c",
   "metadata": {},
   "source": [
    "# Manage Python project."
   ]
  },
  {
   "cell_type": "markdown",
   "id": "285d7182",
   "metadata": {},
   "source": [
    "## Table of Contents\n",
    "  - [Manage Python project.](#Manage-Python-project.)\n",
    "  - [Table of Contents](#Table-of-Contents)\n",
    "  - [Introduction](#Introduction)\n",
    "  - [The `pyproject.toml` file](#The-pyproject.toml-file)\n",
    "  - [Dependencies](#Dependencies)\n",
    "  - [Pre-commit hooks](#Pre-commit-hooks)\n",
    "  - [Testing](#Testing)\n",
    "    - [Smoke tests](#Smoke-tests)"
   ]
  },
  {
   "cell_type": "markdown",
   "id": "0444bffa",
   "metadata": {},
   "source": [
    "# References\n",
    "\n",
    "- [Python Packaging User Guide](https://packaging.python.org/)\n",
    "- [PEP 518](https://www.python.org/dev/peps/pep-0518/) – Specifying Minimum Build System Requirements for Python Projects\n"
   ]
  },
  {
   "cell_type": "markdown",
   "id": "0ce96799-6362-468c-9a17-63e6681d867e",
   "metadata": {},
   "source": [
    "# Introduction\n",
    "\n",
    "In the basic tutorial we have discussed the package structure.\n",
    "\n",
    "We came up with the following setup:\n",
    "\n",
    "```bash\n",
    "mypackage/\n",
    "├── mypackage\n",
    "│   ├── __init__.py\n",
    "│   ├── geometry\n",
    "│   │   ├── __init__.py\n",
    "│   │   └── geometry.py\n",
    "│   └── utils.py\n",
    "└── pyproject.toml\n",
    "```\n",
    "\n",
    "Where the content of the `pyprojects.toml` file is:\n",
    "\n",
    "```toml\n",
    "[build-system]\n",
    "requires = [\"flit_core >=3.2,<4\"]\n",
    "build-backend = \"flit_core.buildapi\"\n",
    "\n",
    "[project]\n",
    "name = \"mypackage\"\n",
    "version = \"0.1.0\"\n",
    "description = \"My first package\"\n",
    "```\n",
    "\n",
    "This is a minimal setup to create a package that can be installed with `pip`.\n",
    "However, we can do better, way better.\n",
    "We can expand the `pyproject.toml` file, as well as automate code formatting, testing, and releasing."
   ]
  },
  {
   "cell_type": "markdown",
   "id": "515f9eaa",
   "metadata": {},
   "source": [
    "# The `pyproject.toml` file\n",
    "\n",
    "The `pyproject.toml` file is a configuration file that is used by the build system.\n",
    "To read more about the `pyproject.toml` file, see [PEP 518](https://www.python.org/dev/peps/pep-0518/).\n",
    "\n",
    "Let' start by adding more information to the `pyproject.toml` file."
   ]
  },
  {
   "cell_type": "markdown",
   "id": "a2ee531b",
   "metadata": {},
   "source": [
    "## The `project` section\n",
    "\n",
    "The `project` section contains information about the Python package.\n",
    "The `name` and `version` are required fields, the other fields are optional.\n",
    "However, it is recommended to provide as much information as possible about your package.\n",
    "Let's take a look at the [`pyproject.toml` file](https://github.com/numpy/numpy/blob/main/pyproject.toml) of the `numpy` package:\n",
    "\n",
    "```toml\n",
    "[project]\n",
    "name = \"numpy\"\n",
    "version = \"2.0.0.dev0\"\n",
    "license = {file = \"LICENSE.txt\"}\n",
    "\n",
    "description = \"Fundamental package for array computing in Python\"\n",
    "authors = [{name = \"Travis E. Oliphant et al.\"}]\n",
    "maintainers = [\n",
    "    {name = \"NumPy Developers\", email=\"numpy-discussion@python.org\"},\n",
    "]\n",
    "requires-python = \">=3.9\"\n",
    "readme = \"README.md\"\n",
    "classifiers = [\n",
    "    'Development Status :: 5 - Production/Stable',\n",
    "    'Intended Audience :: Science/Research',\n",
    "    'Intended Audience :: Developers',\n",
    "    'License :: OSI Approved :: BSD License',\n",
    "    'Programming Language :: C',\n",
    "    'Programming Language :: Python',\n",
    "    'Programming Language :: Python :: 3',\n",
    "    'Programming Language :: Python :: 3.9',\n",
    "    'Programming Language :: Python :: 3.10',\n",
    "    'Programming Language :: Python :: 3.11',\n",
    "    'Programming Language :: Python :: 3.12',\n",
    "    'Programming Language :: Python :: 3 :: Only',\n",
    "    'Programming Language :: Python :: Implementation :: CPython',\n",
    "    'Topic :: Software Development',\n",
    "    'Topic :: Scientific/Engineering',\n",
    "    'Typing :: Typed',\n",
    "    'Operating System :: Microsoft :: Windows',\n",
    "    'Operating System :: POSIX',\n",
    "    'Operating System :: Unix',\n",
    "    'Operating System :: MacOS',\n",
    "]\n",
    "\n",
    "[project.urls]\n",
    "homepage = \"https://numpy.org\"\n",
    "documentation = \"https://numpy.org/doc/\"\n",
    "source = \"https://github.com/numpy/numpy\"\n",
    "download = \"https://pypi.org/project/numpy/#files\"\n",
    "tracker = \"https://github.com/numpy/numpy/issues\"\n",
    "\"release notes\" = \"https://numpy.org/doc/stable/release\"\n",
    "\n",
    "```\n",
    "\n",
    "### Project description\n",
    "\n",
    "\n",
    "| Key          | Type      | Description |\n",
    "|--------------|-----------|------------|\n",
    "| `name`       | string    | The name of the package. |\n",
    "| `version`    | string    | The version of the package. |\n",
    "| `description`| string    | A short description of the package. |\n",
    "| `license`    | table     | Path to the license file relative to the `pyproject.toml` file. One can also provide the content of the license in the `text` field: `license = {text = \"BSD 3-Clause License\"}`. Keep in mind that the `file` and `text` fields are mutually exclusive.|\n",
    "| `authors` [1]    | array of tables     | A list of authors. Each author is a table with `name` and `email` keys. The `name` key is a string that contains the name of the author or maintainer. The `email` key is a string that contains the email address of the author or maintainer.  One can provide either both keys of only one of them.|\n",
    "| `maintainers` [1]    | array of tables     | Same as for `authors`.|\n",
    "| `requires-python` | string | The Python version required to run the package. |\n",
    "| `readme` | string or table | The path to the readme file relative to the `pyproject.toml` file. One can also provide the content of the readme file in the `text` field. Finally, one can provide a table with `file` and `content-type` keys.|\n",
    "| `classifiers` | array of strings | A list of [trove classifiers](https://pypi.org/classifiers/). These classifiers are used to categorize the package. Make sure to provide as complete list of classifiers as possible.|\n",
    "| `urls` | table | A table of URLs. The key is the URL label and the value is the URL itself.|\n",
    "\n",
    "\n",
    "[1] Accordnig to the [official documentation](https://packaging.python.org/en/latest/specifications/declaring-project-metadata/#authors-maintainers) the meaning of these fileds is open to interpretation.\n",
    "\n",
    "\n",
    "### Dependency specification.\n",
    "\n",
    "The `pyproject.toml` file can also be used to specify the dependencies of the package.\n",
    "All the dependencies are listed under the `dependencies` key in the `project` section as an array of strings.\n",
    "Each string must be formatted as a valid [PEP 508](https://www.python.org/dev/peps/pep-0508/) dependency specifier.\n",
    "\n",
    "For example, the following `pyproject.toml` file specifies that the package requires `httpx` and `gidgethub` with a version greater than `4.0.0`:\n",
    "\n",
    "```toml\n",
    "[project]\n",
    "dependencies = [\n",
    "  \"httpx\",\n",
    "  \"gidgethub>4.0.0\",\n",
    "]\n",
    "```\n",
    "\n",
    "### Optional dependencies\n",
    "\n",
    "Optional dependencies can be specified in the `optional-dependencies` key in the `project` section.\n",
    "The value of this key is a table where the key is the name of the optional dependency and the value is an array of strings that specify the dependencies of the optional dependency.\n",
    "Usually, one needs to define separate set of dependencies for development and documentation.\n",
    "\n",
    "```toml\n",
    "[project.optional-dependencies]\n",
    "dev = [\n",
    "  \"bumpver==2021.1129\",\n",
    "  \"pre-commit==3.5.0\",\n",
    "  \"pytest==7.4.3\",\n",
    "  \"pytest-cov==2.6.1\",\n",
    "]\n",
    "docs = [\n",
    "  \"sphinx==4.2.0\",\n",
    "  \"sphinx-rtd-theme==1.0.0\",\n",
    "]\n",
    "```"
   ]
  },
  {
   "cell_type": "markdown",
   "id": "12f74c64",
   "metadata": {},
   "source": [
    "## Exercise on the `pyproject.toml` file.\n",
    "\n",
    "For the exercise, we will use the `mypackage` package that we have created in the basic tutorial.\n",
    "\n",
    "1. Add an MIT license to your package and refer to it in the `pyproject.toml` file.\n",
    "2. Specify the dependencies of your package in the `pyproject.toml` file.\n",
    "3. Specify optional development dependencies in the `pyproject.toml` file."
   ]
  },
  {
   "cell_type": "markdown",
   "id": "f70046bb",
   "metadata": {},
   "source": [
    "# Pre-commit\n",
    "\n",
    "[Pre-commit](https://pre-commit.com/) is a framework for managing and maintaining multi-language pre-commit hooks.\n",
    "\n",
    "Pre-commit hooks are small scripts that are executed before a commit is created.\n",
    "These scripts can be used to check the code for formatting errors, syntax errors, and other issues.\n",
    "If a pre-commit hook fails, the commit is aborted.\n",
    "\n",
    "\n",
    "## Installation\n",
    "\n",
    "To install pre-commit, run the following command:\n",
    "\n",
    "```bash\n",
    "pip install pre-commit\n",
    "```\n",
    "\n",
    "However, it is common to install pre-commit as part of the development dependencies, see [above](#Optional-dependencies)."
   ]
  },
  {
   "cell_type": "markdown",
   "id": "ade500df",
   "metadata": {},
   "source": [
    "# Testing"
   ]
  },
  {
   "cell_type": "markdown",
   "id": "b1565c35",
   "metadata": {},
   "source": [
    "# Documentation\n",
    "\n",
    "Usually, the documentation of a package is written in [reStructuredText](https://www.sphinx-doc.org/en/master/usage/restructuredtext/index.html) or [Markdown](https://www.sphinx-doc.org/en/master/usage/markdown.html).\n",
    "However, it is also possible to write the documentation in [Jupyter notebooks](https://jupyter.org/) (as we do in this tutorial)."
   ]
  },
  {
   "cell_type": "markdown",
   "id": "3880146a",
   "metadata": {},
   "source": [
    "# Releasing package"
   ]
  },
  {
   "cell_type": "markdown",
   "id": "fa50d36e",
   "metadata": {},
   "source": [
    "# Python Package Index (PyPI)"
   ]
  },
  {
   "cell_type": "markdown",
   "id": "0b1ee4cb",
   "metadata": {},
   "source": []
  }
 ],
 "metadata": {
  "kernelspec": {
   "display_name": "Python 3 (ipykernel)",
   "language": "python",
   "name": "python3"
  },
  "language_info": {
   "codemirror_mode": {
    "name": "ipython",
    "version": 3
   },
   "file_extension": ".py",
   "mimetype": "text/x-python",
   "name": "python",
   "nbconvert_exporter": "python",
   "pygments_lexer": "ipython3",
   "version": "3.9.12"
  }
 },
 "nbformat": 4,
 "nbformat_minor": 5
}
