{
 "cells": [
  {
   "cell_type": "markdown",
   "id": "658fd9eb-ee74-4c01-843a-69985c393c11",
   "metadata": {},
   "source": [
    "# Functions (advanced)"
   ]
  },
  {
   "cell_type": "markdown",
   "id": "f9ad2013-b8f7-4c9c-8ee7-6316a503795b",
   "metadata": {},
   "source": [
    "[TOC]"
   ]
  },
  {
   "cell_type": "markdown",
   "id": "1e7a4298-0533-43e8-b7d3-2e330edac443",
   "metadata": {},
   "source": [
    "We are going to cover the following topics:\n",
    "\n",
    "- Decorators\n",
    "- Lambdas\n",
    "- Arguments and object's mutability\n",
    "- Generators"
   ]
  },
  {
   "cell_type": "markdown",
   "id": "380773ce-09de-42c1-8146-2ed3502ddeca",
   "metadata": {},
   "source": [
    "As a refresher, we are going to revise one the most important concepts about functions in Python: **functions are objects**.\n",
    "\n",
    "As an example, suppose that we want to create a \"password checker\", that is, a function that can verify if an input password complies with some rules (e.g., minumum length, a given number of special characters). We could create a function with the following signature:\n",
    "\n",
    "```python\n",
    "def check_password(password: str, min_length: int, min_uppercase: int, min_punctuation: int, min_digits: int) -> bool:\n",
    "    \"\"\"Check a given password again\"\"\"\n",
    "```\n",
    "\n",
    "The obvious problem is that different passwords might adhere to different rules. We would need to specify those rules for every password that should comply to those, and that's tedious! There must be a better way..."
   ]
  },
  {
   "cell_type": "markdown",
   "id": "f5214c67-0f92-4a7f-a768-eee90dd14bbb",
   "metadata": {},
   "source": [
    "## Exercises"
   ]
  },
  {
   "cell_type": "markdown",
   "id": "777251e1-d655-4e36-a41c-ddefe020d1b7",
   "metadata": {},
   "source": [
    "### Password checker `{functions as objects}`\n",
    "\n",
    "Create a \"password checker factory\""
   ]
  },
  {
   "cell_type": "markdown",
   "id": "a941b875-c1a1-4153-9e3b-57f2ca4118b7",
   "metadata": {},
   "source": [
    "### Once per minute `{decorators}`\n",
    "\n",
    "Create a decorator that checks how many times a function is run within a minute and restrict it to a maximum of once per minute"
   ]
  },
  {
   "cell_type": "markdown",
   "id": "1fe377f9-0f6c-44d5-8d15-c74a8502bc52",
   "metadata": {},
   "source": [
    "### String range `{generators}`\n",
    "\n",
    "Create a generator function that emulates the the built-in `range`, but for characters"
   ]
  },
  {
   "cell_type": "markdown",
   "id": "09965c4e-db8a-46a6-9b57-a4b5350ae398",
   "metadata": {},
   "source": [
    "### Read `n` lines `{generators}`\n",
    "\n",
    "Create a generator function that reads in the content of a file by `n` lines at a time"
   ]
  },
  {
   "cell_type": "code",
   "execution_count": null,
   "id": "5d58c7d1-e361-4d41-a7d2-162ca06746b0",
   "metadata": {},
   "outputs": [],
   "source": []
  },
  {
   "cell_type": "code",
   "execution_count": null,
   "id": "7e5775cc-2ab2-4206-a17b-e1df74dd4f7c",
   "metadata": {},
   "outputs": [],
   "source": []
  }
 ],
 "metadata": {
  "kernelspec": {
   "display_name": "Python 3 (ipykernel)",
   "language": "python",
   "name": "python3"
  },
  "language_info": {
   "codemirror_mode": {
    "name": "ipython",
    "version": 3
   },
   "file_extension": ".py",
   "mimetype": "text/x-python",
   "name": "python",
   "nbconvert_exporter": "python",
   "pygments_lexer": "ipython3",
   "version": "3.10.12"
  }
 },
 "nbformat": 4,
 "nbformat_minor": 5
}
