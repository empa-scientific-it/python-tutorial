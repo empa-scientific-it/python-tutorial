{
 "cells": [
  {
   "cell_type": "markdown",
   "id": "658fd9eb-ee74-4c01-843a-69985c393c11",
   "metadata": {},
   "source": [
    "# Functions (advanced)"
   ]
  },
  {
   "cell_type": "markdown",
   "id": "f9ad2013-b8f7-4c9c-8ee7-6316a503795b",
   "metadata": {},
   "source": [
    "[TOC]"
   ]
  },
  {
   "cell_type": "markdown",
   "id": "1e7a4298-0533-43e8-b7d3-2e330edac443",
   "metadata": {},
   "source": [
    "We are going to cover the following topics:\n",
    "\n",
    "- Decorators\n",
    "- Lambdas\n",
    "- Arguments and object's mutability\n",
    "- Generators"
   ]
  },
  {
   "cell_type": "markdown",
   "id": "2b7dac95-e83a-46c6-8ad5-6b55a369bf17",
   "metadata": {},
   "source": [
    "## Recap"
   ]
  },
  {
   "cell_type": "markdown",
   "id": "218acd08-b0f9-4c4f-83d3-613497d17b2e",
   "metadata": {},
   "source": [
    "Before starting our deep dive on functions, we must revise quickly two important concepts. Have a look at the [Functions](./functions.ipynb#The-scope-of-a-function) notebook for more detail.\n",
    "\n",
    "1. Scopes and namespaces\n",
    "2. Functions are objects"
   ]
  },
  {
   "cell_type": "markdown",
   "id": "b618d311-0e0d-4748-a434-39b5a0a0e585",
   "metadata": {
    "jp-MarkdownHeadingCollapsed": true
   },
   "source": [
    "### Functions are objects"
   ]
  },
  {
   "cell_type": "markdown",
   "id": "380773ce-09de-42c1-8146-2ed3502ddeca",
   "metadata": {},
   "source": [
    "As an example, suppose that we want to create a \"password checker\", that is, a function that can verify if an input password complies with some rules (e.g., minumum length, a given number of special characters). We could create a function with the following signature:\n",
    "\n",
    "```python\n",
    "def check_password(\n",
    "    password: str,\n",
    "    min_length: int,\n",
    "    min_uppercase: int,\n",
    "    min_punctuation:\n",
    "    int, min_digits: int\n",
    "    ) -> bool:\n",
    "    \"\"\"Check a given password again\"\"\"\n",
    "```\n",
    "\n",
    "The obvious problem is that different passwords might adhere to different rules. We would need to specify those rules for every password that should comply to those, and that's tedious!"
   ]
  },
  {
   "cell_type": "markdown",
   "id": "438649ea-35d6-4404-8250-fa76bc4fda9d",
   "metadata": {},
   "source": [
    "We can instead define a so-called **higher-order function** (see [Functional programming](./functional_programming.ipynb)): a function that returns another function.\n",
    "It does **not** call that function, just returns it."
   ]
  },
  {
   "cell_type": "markdown",
   "id": "fc062b73-370e-4fc2-8f51-7237e9022791",
   "metadata": {},
   "source": [
    "```python\n",
    "from typing import Callable\n",
    "\n",
    "def check_password_factory(\n",
    "    password: str,\n",
    "    min_length: int,\n",
    "    min_uppercase: int,\n",
    "    min_punctuation:\n",
    "    int, min_digits: int\n",
    "    ) -> Callable:\n",
    "    \"\"\"Our password checker factor\"\"\"\n",
    "\n",
    "    def check_password(password: str) -> bool:\n",
    "        \"\"\"Password checker function\"\"\"\n",
    "        # our password checking logic\n",
    "        # ...\n",
    "        return # True or False\n",
    "\n",
    "    return check_password\n",
    "```"
   ]
  },
  {
   "cell_type": "markdown",
   "id": "5d443e29-214b-4b1e-ae50-c1948080ee91",
   "metadata": {
    "jp-MarkdownHeadingCollapsed": true
   },
   "source": [
    "### Scopes and namespaces"
   ]
  },
  {
   "cell_type": "markdown",
   "id": "c76d3dde-eb94-4552-9df7-d0e95d946967",
   "metadata": {},
   "source": [
    "Python's variables are just names (i.e., labels) that we can **bind** to objects. Each variable is simply telling Python where to look in our computer's memory to retrieve some data. These bindings are **not universal**: some of them exist only in specific parts of our code.\n",
    "\n",
    "> The portion of code where a name binding is defined is called **lexical scope** (or just \"scope\"). The bindings are stored in a scope's **namespace**"
   ]
  },
  {
   "cell_type": "markdown",
   "id": "ee364526-00d2-40ec-bb33-3478ec3390a0",
   "metadata": {},
   "source": [
    "We always have the following scopes:\n",
    "\n",
    "1. `built-in` scope\n",
    "2. `global` (or module) scope\n",
    "\n",
    "We also have the `local` scope that's created we are **calling** a function.\n",
    "The local scope associated to any called function is **destroyed** after the function has done its job. Also the namespace associated with it will be gone."
   ]
  },
  {
   "cell_type": "markdown",
   "id": "f2654077-9a14-434a-acd6-81ca8b996228",
   "metadata": {},
   "source": [
    "When Python needs to retrieve which object is referenced by a given name, it always starts from the current scope (the `local` one if we are inside a function's body). If a name binding is not found there, it searches in the scope immediately up in the hierarchy.\n",
    "\n",
    "> **LEGB rule**: **L**ocal → **E**nclosing → **G**lobal → **B**uilt-in"
   ]
  },
  {
   "cell_type": "markdown",
   "id": "c3b21272-45b0-4e21-ae46-8d4deba09164",
   "metadata": {},
   "source": [
    "When Python encounters a function **definition** (i.e., at compile-time), it does two things:\n",
    "\n",
    "1. Scans for any variables that have values **assigned** anywhere in the function. By default, names that are assigned are **local** unless we are explicitly saying that they should not with the `global` keyword.\n",
    "2. Variables that are **referenced** but **not assigned** a value anywhere in the function will **not be local**. When we are calling the function (i.e., run-time), Python will look for them in the **enclosing scope**."
   ]
  },
  {
   "cell_type": "markdown",
   "id": "a43ecf5e-d689-4bd7-8eee-2f1805e191d1",
   "metadata": {},
   "source": [
    "Examples:\n",
    "\n",
    "```python\n",
    "var = 10   # global (or module) scope\n",
    "\n",
    "def func_1():\n",
    "    print(var)   # var is referenced but not assigned. At compile-time is \"non-local\"\n",
    "\n",
    "def func_2()\n",
    "    var = 100    # var is assigned. At compile-time will be placed in the \"local\" scope\n",
    "\n",
    "def func_3():\n",
    "    global var\n",
    "    var = 1000   # var is assigned, so it should be local. But it's also declared to be \"global\" with the keyword above\n",
    "\n",
    "def func_4():\n",
    "    print(var)\n",
    "    var = 100    # what happens here?\n",
    "```"
   ]
  },
  {
   "cell_type": "markdown",
   "id": "a3de049f-475f-4984-932e-a938dff21106",
   "metadata": {},
   "source": [
    "A function gets its local scope upon calling. Since we can have function definitions inside of other functions, there can be **nested scopes**. This is where the `nonlocal` keyword becomes useful or even needed.\n",
    "\n",
    "> The `nonlocal` keyword is used to declare that a variable is not local to the current function but is defined in the **nearest enclosing scope** that is **not global**. It allows you to access and modify variables in the outer (non-global) scope from within an inner function.\n",
    "\n",
    "An example:"
   ]
  },
  {
   "cell_type": "code",
   "execution_count": null,
   "id": "394f52d5-3141-4273-9852-dc099d0adcdb",
   "metadata": {},
   "outputs": [],
   "source": [
    "def outer_function():\n",
    "    x = \"outer\"\n",
    "\n",
    "    # prints \"outer\"\n",
    "    print(\"Inside outer_function:\", x)\n",
    "\n",
    "    def inner_function():\n",
    "        nonlocal x\n",
    "        x = \"inner\"\n",
    "        # prints \"inner\"\n",
    "        print(\"Inside inner_function:\", x)\n",
    "\n",
    "    inner_function()\n",
    "    # prints \"inner\" again, because we modified `x` from a nested scope\n",
    "    print(\"Inside outer_function:\", x)\n",
    "\n",
    "outer_function()"
   ]
  },
  {
   "cell_type": "markdown",
   "id": "50184808-ee68-4a1e-84a0-ff421074aabe",
   "metadata": {},
   "source": [
    "Two important notes about the `nonlocal` keyword:\n",
    "\n",
    "1. Python will search for a `nonlocal` name in the **enclosing local scopes** until it first encounters the specified variable.\n",
    "2. **Only** local scopes are searched, never the global one."
   ]
  },
  {
   "cell_type": "markdown",
   "id": "f3613b0b-eb09-4152-954f-bddd92fdb7f4",
   "metadata": {},
   "source": [
    "## Closures"
   ]
  },
  {
   "cell_type": "markdown",
   "id": "1e72d59a-2a74-4502-acbe-6fc9ac3ff3aa",
   "metadata": {},
   "source": [
    "Let's consider the following code:"
   ]
  },
  {
   "cell_type": "code",
   "execution_count": null,
   "id": "2aefd3ca-cb6d-463a-88be-05c89c7dc112",
   "metadata": {},
   "outputs": [],
   "source": [
    "def outer():\n",
    "    lang = \"Python\"\n",
    "\n",
    "    def inner():\n",
    "        print(f\"{lang} rocks!\")\n",
    "\n",
    "    inner()\n",
    "\n",
    "outer()"
   ]
  },
  {
   "cell_type": "markdown",
   "id": "9afd7b80-4b96-4879-ba7b-7bc36f727a0d",
   "metadata": {},
   "source": [
    "Here the `lang` variable is **non-local** to `inner()` because it's only referenced. `lang` is also called **free variable**.\n",
    "\n",
    "> A **free variable** is a variable referenced locally but defined in the enclosing scope.\n",
    "\n",
    "Also, `lang` and `inner()` both belongs to the local scope of `outer()`. Since this bound is particularly special, it has a special name: it's called a **closure**.\n",
    "The name \"closure\" come from the function `inner()` _enclosing_ its free variable `lang`."
   ]
  },
  {
   "cell_type": "markdown",
   "id": "a4b00d4c-dc4d-4550-bbcd-07a15f9aa7d2",
   "metadata": {},
   "source": [
    "Let's make a small adjustment that will change a lot of things:"
   ]
  },
  {
   "cell_type": "code",
   "execution_count": null,
   "id": "a9efa784-f542-41aa-9879-18452b77a1e2",
   "metadata": {},
   "outputs": [],
   "source": [
    "def outer():\n",
    "    lang = \"Python\"\n",
    "\n",
    "    def inner():\n",
    "        print(f\"{lang} rocks!\")\n",
    "\n",
    "    return inner\n",
    "\n",
    "outer()"
   ]
  },
  {
   "cell_type": "markdown",
   "id": "717f601a-eefc-4303-be9b-2b66613eed39",
   "metadata": {},
   "source": [
    "We turned `outer()` into an higher-order function that does not return a simple function, but a closure (`inner()` + the free variable).\n",
    "\n",
    "Since functions are objects, we can assign that to a name:"
   ]
  },
  {
   "cell_type": "code",
   "execution_count": null,
   "id": "550b55d7-8055-446b-ab9c-1245818c3aa7",
   "metadata": {},
   "outputs": [],
   "source": [
    "fn = outer()"
   ]
  },
  {
   "cell_type": "markdown",
   "id": "e19c9332-80a4-4771-ae05-4b744d718543",
   "metadata": {},
   "source": [
    "And then call that function as any other function:"
   ]
  },
  {
   "cell_type": "code",
   "execution_count": null,
   "id": "7a58ef5c-3dc9-4a28-b01e-0128ef4232a1",
   "metadata": {},
   "outputs": [],
   "source": [
    "fn()"
   ]
  },
  {
   "cell_type": "markdown",
   "id": "7d753841-49d6-4656-b4b9-d16e2a3cb107",
   "metadata": {},
   "source": [
    "But wait a second! How's that possible? 🤔\n",
    "\n",
    "`fn()` is called **after** `outer()` has run: it runs when we are assigning the name `fn` to the result of calling `outer()`.\n",
    "If the local scope of a function is destroyed after the function has run, how can `fn` know that `lang = \"Python\"`?\n",
    "\n",
    "That's because Pyhon realized that we created a closure, and it's doing something unusual."
   ]
  },
  {
   "cell_type": "markdown",
   "id": "402bd5c1-af47-4716-baa0-ac60da76efce",
   "metadata": {},
   "source": [
    "If we look once again to the example above, we see that the name `lang` is **shared** between the local scope of `outer()` and the `print` statement inside `inner()`.\n",
    "When Python sees this, it does something different: it creates an **intermediary** object – called a _cell object_ – that only contains a memory address.\n",
    "A memory address of what? Of whatever object (i.e. data) is assigned to `lang`, the free variable."
   ]
  },
  {
   "cell_type": "markdown",
   "id": "0b1977a3-2854-4015-a5d9-6fd066b89e85",
   "metadata": {},
   "source": [
    "![](./images/cell_object.png)"
   ]
  },
  {
   "cell_type": "markdown",
   "id": "8f1015aa-ad47-4be6-8612-f9de5ee22e6b",
   "metadata": {},
   "source": [
    "We can see all that by inspecting some _hidden_ attributes of `fn`:"
   ]
  },
  {
   "cell_type": "code",
   "execution_count": null,
   "id": "22189979-698f-4813-8bff-c70fd83d5a8d",
   "metadata": {},
   "outputs": [],
   "source": [
    "fn.__code__.co_freevars"
   ]
  },
  {
   "cell_type": "code",
   "execution_count": null,
   "id": "2a304bcc-100a-464e-81e1-74355d65d8bf",
   "metadata": {},
   "outputs": [],
   "source": [
    "fn.__closure__"
   ]
  },
  {
   "cell_type": "markdown",
   "id": "0d18060e-78d7-42e3-8e0c-984e3e5f6dcc",
   "metadata": {},
   "source": [
    "We can see now the reason why we can call `fn()` and see the string \"Python rocks!\" printed although the variable `lang` is now out of scope (it's been destroyed).\n",
    "There is another reference to the cell object, that from the closure created by `inner()` plus the free variable.\n",
    "When running `outer()`, `inner()` is **not called**, and Python still knows how to retrieve the value of the string object."
   ]
  },
  {
   "cell_type": "markdown",
   "id": "6d84832a-a780-4439-bacf-4c45615563f5",
   "metadata": {},
   "source": [
    "### Modifying the free variable"
   ]
  },
  {
   "cell_type": "markdown",
   "id": "06ee4be4-170b-490b-b17a-0e60b0d9d252",
   "metadata": {},
   "source": [
    "We know that the `nonlocal` keyword allows us to modify variable in the **enclosing scope**. Therefore, the following closure will work as expected:"
   ]
  },
  {
   "cell_type": "code",
   "execution_count": null,
   "id": "12eb4f64-93bd-4a99-804c-386f8e10b048",
   "metadata": {},
   "outputs": [],
   "source": [
    "def counter():\n",
    "    count = 0 # local variable\n",
    "\n",
    "    def inc():\n",
    "        nonlocal count\n",
    "        count += 1\n",
    "        return count\n",
    "    return inc\n",
    "\n",
    "c = counter()\n",
    "\n",
    "c()"
   ]
  },
  {
   "cell_type": "markdown",
   "id": "7cdf2e9e-1551-4ebe-88c9-796dfd8fc937",
   "metadata": {},
   "source": [
    "The `inc()` function and the `count` variable are the closure, but the `count` variable is not only accessed, but also modified."
   ]
  },
  {
   "cell_type": "markdown",
   "id": "d209f602-2ff7-497c-9c4f-a3c419f38da7",
   "metadata": {},
   "source": [
    "We can also have multiple closures that reference (and modify) the same free variable:"
   ]
  },
  {
   "cell_type": "code",
   "execution_count": null,
   "id": "377e42f8-c05e-4982-aa9c-fd6bef43e91d",
   "metadata": {},
   "outputs": [],
   "source": [
    "def adders():\n",
    "    count = 0\n",
    "\n",
    "    def add_1():\n",
    "        nonlocal count\n",
    "        count += 1\n",
    "        return count\n",
    "\n",
    "    def add_2():\n",
    "        nonlocal count\n",
    "        count += 2\n",
    "        return count\n",
    "\n",
    "    return add_1, add_2\n",
    "\n",
    "fn1, fn2 = adders()"
   ]
  },
  {
   "cell_type": "code",
   "execution_count": null,
   "id": "94937713-746a-4d50-8e06-1772c94a89ff",
   "metadata": {},
   "outputs": [],
   "source": [
    "fn1()"
   ]
  },
  {
   "cell_type": "code",
   "execution_count": null,
   "id": "565ea9d9-6e9d-40b4-9450-c765bc747985",
   "metadata": {},
   "outputs": [],
   "source": [
    "fn2()"
   ]
  },
  {
   "cell_type": "markdown",
   "id": "8ed30e46-85b7-4b80-bf20-a2339d5d9509",
   "metadata": {},
   "source": [
    "### Multiple instances of closures"
   ]
  },
  {
   "cell_type": "markdown",
   "id": "b9055daa-be56-41b0-97c4-44d33deda357",
   "metadata": {},
   "source": [
    "As we saw before when talking about scopes, every time a function is **called** a new **local scope** is created.\n",
    "A closure can then be created multiple times, and each time we are calling it a new **extended scope** is created.\n",
    "\n",
    "Consider the following example:"
   ]
  },
  {
   "cell_type": "code",
   "execution_count": null,
   "id": "c55535ac-d32a-491f-9509-423a5b4557b2",
   "metadata": {},
   "outputs": [],
   "source": [
    "def power(n):\n",
    "    # `n` is a local variable\n",
    "    def op(x):\n",
    "        return x ** n\n",
    "    return op"
   ]
  },
  {
   "cell_type": "markdown",
   "id": "6bdc2d9a-0cc5-4dba-88b4-a942408ffa6c",
   "metadata": {},
   "source": [
    "`n` is our free variable, and we have a closure that contains the function `op()` and the free variable."
   ]
  },
  {
   "cell_type": "code",
   "execution_count": null,
   "id": "e4bfdffb-b059-4d50-ac96-53638b238314",
   "metadata": {},
   "outputs": [],
   "source": [
    "square = power(2)\n",
    "cube = power(3)"
   ]
  },
  {
   "cell_type": "code",
   "execution_count": null,
   "id": "c573a1e0-ab96-4292-a02d-6cdfbeb886db",
   "metadata": {},
   "outputs": [],
   "source": [
    "print(square(10))\n",
    "print(cube(10))"
   ]
  },
  {
   "cell_type": "markdown",
   "id": "806c43d9-c78c-4fd0-9f9a-ec6cbbfa34ba",
   "metadata": {},
   "source": [
    "We can verify that the two closures are completely different even though they were created from the same `power()`:"
   ]
  },
  {
   "cell_type": "code",
   "execution_count": null,
   "id": "6667349a-6efc-4d22-8709-865c0caf2320",
   "metadata": {},
   "outputs": [],
   "source": [
    "square.__closure__"
   ]
  },
  {
   "cell_type": "code",
   "execution_count": null,
   "id": "c708373c-9439-4a7b-8953-7f87e6309271",
   "metadata": {},
   "outputs": [],
   "source": [
    "cube.__closure__"
   ]
  },
  {
   "cell_type": "markdown",
   "id": "7490f47f-e0a6-42c3-a56f-59503703e200",
   "metadata": {},
   "source": [
    "As we expected, the free variable `n` is referenced by both and it's the same object."
   ]
  },
  {
   "cell_type": "markdown",
   "id": "5fe10082-37a7-4d69-a5d1-839dd63050f5",
   "metadata": {},
   "source": [
    "### Closures can be tricky"
   ]
  },
  {
   "cell_type": "code",
   "execution_count": null,
   "id": "1ae8b0dc-7ead-47ee-bf6d-bf560c9d0375",
   "metadata": {},
   "outputs": [],
   "source": [
    "from tutorial.functions_advanced import tricky_closures as answer"
   ]
  },
  {
   "cell_type": "markdown",
   "id": "2e7d1a9a-04f8-4e4e-a667-391b4e722708",
   "metadata": {},
   "source": [
    "One important aspect of closures can be the source of nasty bugs if we don't understand it well.\n",
    "\n",
    "> A free variable is **referenced** when the closure is created, but its value is **looked up** upon calling."
   ]
  },
  {
   "cell_type": "markdown",
   "id": "9186f397-d07c-4a2c-9de4-9a6df15fb0e9",
   "metadata": {},
   "source": [
    "Let's say we want to create a function to sum different factors to an arbitrary number.\n",
    "We could do:"
   ]
  },
  {
   "cell_type": "code",
   "execution_count": null,
   "id": "c0988d39-7321-49d5-a619-0f960c5e352b",
   "metadata": {},
   "outputs": [],
   "source": [
    "def adder(n):\n",
    "    def op(x):\n",
    "        return n + x\n",
    "    return op"
   ]
  },
  {
   "cell_type": "code",
   "execution_count": null,
   "id": "466b3e15-6fd4-4643-bf1b-b161bba237b2",
   "metadata": {},
   "outputs": [],
   "source": [
    "add_1 = adder(1)\n",
    "add_2 = adder(2)\n",
    "add_3 = adder(3)"
   ]
  },
  {
   "cell_type": "markdown",
   "id": "e446d1fc-a129-4fd9-81b1-1142fa99d865",
   "metadata": {},
   "source": [
    "This works as expected:"
   ]
  },
  {
   "cell_type": "code",
   "execution_count": null,
   "id": "cb6d0536-14f4-4399-91ac-d31e23412ad2",
   "metadata": {},
   "outputs": [],
   "source": [
    "add_1(10), add_2(10), add_3(10)"
   ]
  },
  {
   "cell_type": "markdown",
   "id": "73753cb3-edb3-4dac-be9c-9cb850b9f945",
   "metadata": {},
   "source": [
    "Now we have the following idea to improve our code:"
   ]
  },
  {
   "cell_type": "code",
   "execution_count": null,
   "id": "1af7eb21-c379-4a86-be7b-4278ca5a4b81",
   "metadata": {},
   "outputs": [],
   "source": [
    "def fancy_adders():\n",
    "    adders = []\n",
    "    for n in range(1, 5):\n",
    "        def op(x):\n",
    "            return x + n\n",
    "        adders.append(op)\n",
    "    return adders"
   ]
  },
  {
   "cell_type": "code",
   "execution_count": null,
   "id": "984491cc-a6f6-4bef-a8cf-83cc151fc2bf",
   "metadata": {},
   "outputs": [],
   "source": [
    "adders = fancy_adders()"
   ]
  },
  {
   "cell_type": "markdown",
   "id": "6fecef03-780c-49a0-85be-f44378f3936c",
   "metadata": {},
   "source": [
    "We have now 4 functions in the `adders` list:"
   ]
  },
  {
   "cell_type": "code",
   "execution_count": null,
   "id": "c27ceb4c-53dd-4c0e-8384-a879d28ed0b6",
   "metadata": {},
   "outputs": [],
   "source": [
    "adders"
   ]
  },
  {
   "cell_type": "markdown",
   "id": "980694ef-8baf-4d6a-8908-4bb839717706",
   "metadata": {},
   "source": [
    "Let's see what happens when we call them:"
   ]
  },
  {
   "cell_type": "code",
   "execution_count": null,
   "id": "a1277798-7a02-4c67-8f77-ee86eb460134",
   "metadata": {},
   "outputs": [],
   "source": [
    "adders[0](10), adders[1](10), adders[2](10), adders[3](10)"
   ]
  },
  {
   "cell_type": "markdown",
   "id": "4dedb6df-c484-4a98-afb8-f95b5ff2d980",
   "metadata": {},
   "source": [
    "Wait, why?! It seems that we picked up the **same value** of the free variable.\n",
    "The free variable is always `n`:"
   ]
  },
  {
   "cell_type": "code",
   "execution_count": null,
   "id": "b05043cf-3a6e-4243-a0a5-ea98d4fa0358",
   "metadata": {},
   "outputs": [],
   "source": [
    "adders[0].__code__.co_freevars"
   ]
  },
  {
   "cell_type": "markdown",
   "id": "2e6cd006-ebd2-4191-902d-f88cbd0c51fb",
   "metadata": {},
   "source": [
    "And we can indeed verify that its value referenced by each closure is exactly the same:"
   ]
  },
  {
   "cell_type": "code",
   "execution_count": null,
   "id": "f056d992-d712-46d8-933d-c6cb8fc276da",
   "metadata": {},
   "outputs": [],
   "source": [
    "[x.__closure__ for x in adders]"
   ]
  },
  {
   "cell_type": "markdown",
   "id": "5f7124e3-856e-4e7f-a71d-e7e3a4198804",
   "metadata": {},
   "source": [
    "Which value? The last iteration of our loop, `n=4`.\n",
    "In fact:"
   ]
  },
  {
   "cell_type": "code",
   "execution_count": null,
   "id": "0f90363f-b29a-4829-801d-9eaf681801e2",
   "metadata": {},
   "outputs": [],
   "source": [
    "hex(id(4))"
   ]
  },
  {
   "cell_type": "markdown",
   "id": "18300b91-bcfc-43db-a2a0-61ffe9c61816",
   "metadata": {},
   "source": [
    "The key to understand this behavior is remembering that **closures captures _variables_ and not _values_**.\n",
    "This means that every `op()` function created in the loop is closing over the same variable `n`.\n",
    "\n",
    "By the time the call to `fancy_adders()` is over, the value of `n` is incremented to its final value, that is, 4.\n",
    "This is the value that will be looked up when calling our closures! And this is why we can see that `hex(id(4))` – the memory address of the integer `4` – is indeed the same for all closures."
   ]
  },
  {
   "cell_type": "markdown",
   "id": "c3bc9c11-2691-4de9-84ed-49bdc9bfff17",
   "metadata": {},
   "source": [
    "If we wanted to fix the example as we intended, we need to capture the **current** value of `n` when defining the closure:"
   ]
  },
  {
   "cell_type": "code",
   "execution_count": null,
   "id": "635e47e3-2043-44b2-b452-295a933b43dc",
   "metadata": {},
   "outputs": [],
   "source": [
    "def truly_fancy_adders():\n",
    "    adders = []\n",
    "    for n in range(1, 5):\n",
    "        def op(x, _n=n):  # Capture the current value of n as a default argument\n",
    "            return x + _n\n",
    "        adders.append(op)\n",
    "    return adders"
   ]
  },
  {
   "cell_type": "code",
   "execution_count": null,
   "id": "bfc73083-d4d7-4a41-94d3-b1a46f37acec",
   "metadata": {},
   "outputs": [],
   "source": [
    "correct_adders = truly_fancy_adders()"
   ]
  },
  {
   "cell_type": "code",
   "execution_count": null,
   "id": "8fc351e4-847d-470f-9a5d-0c74f6e5eeb2",
   "metadata": {},
   "outputs": [],
   "source": [
    "[x.__closure__ for x in correct_adders]"
   ]
  },
  {
   "cell_type": "markdown",
   "id": "ac143f81-4aae-49ad-950d-9ca092361bda",
   "metadata": {},
   "source": [
    "Hey, why `None`? Let's check our free variable:"
   ]
  },
  {
   "cell_type": "code",
   "execution_count": null,
   "id": "9f0719f3-bc41-4d42-b633-fa49bf501cc5",
   "metadata": {},
   "outputs": [],
   "source": [
    "correct_adders[0].__code__.co_freevars"
   ]
  },
  {
   "cell_type": "markdown",
   "id": "0cfd31d5-b83a-439b-9690-4fbd1fe20b3d",
   "metadata": {},
   "source": [
    "Nothing yet? Can you think why you don't get any output?"
   ]
  },
  {
   "cell_type": "code",
   "execution_count": null,
   "id": "20cadf44-2207-4c16-95c4-f3eed8ef19db",
   "metadata": {},
   "outputs": [],
   "source": [
    "answer"
   ]
  },
  {
   "cell_type": "markdown",
   "id": "ac01ce82-7dbf-42fb-8d78-69c1a8f34740",
   "metadata": {},
   "source": [
    "### Nested closures"
   ]
  },
  {
   "cell_type": "markdown",
   "id": "a7751b1d-0b4e-418c-abab-efac075436f3",
   "metadata": {},
   "source": [
    "We can also nest closures, as much as we can nest functions:"
   ]
  },
  {
   "cell_type": "code",
   "execution_count": null,
   "id": "eebd35bd-8e14-41a1-9df0-a4c716bc31ff",
   "metadata": {},
   "outputs": [],
   "source": [
    "def incrementer(n):\n",
    "    def inner(start):\n",
    "        current = start\n",
    "        def inc():\n",
    "            a = 10  # local variable, NOT a free variable\n",
    "            nonlocal current\n",
    "            current += n\n",
    "            return current\n",
    "        return inc\n",
    "    return inner"
   ]
  },
  {
   "cell_type": "code",
   "execution_count": null,
   "id": "9a08d1c9-d201-4dc0-ad8a-7e6cb1805f77",
   "metadata": {},
   "outputs": [],
   "source": [
    "f = incrementer(2)\n",
    "f.__code__.co_freevars"
   ]
  },
  {
   "cell_type": "markdown",
   "id": "be996408-4438-493e-8549-13c212e442db",
   "metadata": {},
   "source": [
    "We create an incrementer function with the default increment, `n=2`, starting from `100`:"
   ]
  },
  {
   "cell_type": "code",
   "execution_count": null,
   "id": "3754bf22-54f8-4960-b591-b7ed1a6df33d",
   "metadata": {},
   "outputs": [],
   "source": [
    "inc_2 = f(100)\n",
    "inc_2()"
   ]
  },
  {
   "cell_type": "markdown",
   "id": "b00c8f22-a319-4e7f-b0e9-1c9a41fe2bbd",
   "metadata": {},
   "source": [
    "We can also create another _custom_ incrementer with a different increment value:"
   ]
  },
  {
   "cell_type": "code",
   "execution_count": null,
   "id": "9d4443b1-c814-4c69-912a-9dadba8955a9",
   "metadata": {},
   "outputs": [],
   "source": [
    "inc_10 = incrementer(10)(100)\n",
    "inc_10()"
   ]
  },
  {
   "cell_type": "markdown",
   "id": "03c3e2d6-c94e-43f4-9b10-c4aff030bedf",
   "metadata": {},
   "source": [
    "## Decorators"
   ]
  },
  {
   "cell_type": "markdown",
   "id": "6cdafe9c-2448-4ba2-b351-98de62508d4f",
   "metadata": {},
   "source": [
    "## Lambdas"
   ]
  },
  {
   "cell_type": "markdown",
   "id": "4543c0c9-d6b7-4c48-803d-1d629845fe0b",
   "metadata": {},
   "source": [
    "## Objects mutability"
   ]
  },
  {
   "cell_type": "markdown",
   "id": "4d73ede6-b0ef-435f-9eb5-ef10a4f099e0",
   "metadata": {},
   "source": [
    "## Generators"
   ]
  },
  {
   "cell_type": "markdown",
   "id": "f5214c67-0f92-4a7f-a768-eee90dd14bbb",
   "metadata": {},
   "source": [
    "## Exercises"
   ]
  },
  {
   "cell_type": "code",
   "execution_count": null,
   "id": "69a49f30-1d16-4c84-89bc-30d6bd7421f2",
   "metadata": {},
   "outputs": [],
   "source": [
    "%reload_ext tutorial.tests.testsuite"
   ]
  },
  {
   "cell_type": "markdown",
   "id": "a941b875-c1a1-4153-9e3b-57f2ca4118b7",
   "metadata": {},
   "source": [
    "### Once per minute"
   ]
  },
  {
   "cell_type": "markdown",
   "id": "1867171a-da42-419e-8a13-b5727fa4f805",
   "metadata": {},
   "source": [
    "Create a decorator called `once` that restricts a function to run at most **once every 15 seconds**.\n",
    "If you try to invoke the function too soon, the decorator should raise an exception called `TooSoonError` which tells you how long you need to wait before running your function again."
   ]
  },
  {
   "cell_type": "markdown",
   "id": "ee62b302-a6a8-4207-933f-88e2a63a634e",
   "metadata": {},
   "source": [
    "For example, the following code:\n",
    "\n",
    "```python\n",
    "import time\n",
    "\n",
    "@once\n",
    "def hello(name):\n",
    "    return f\"Hello, {name}!\"\n",
    "\n",
    "for i in range(30):\n",
    "    print(i)\n",
    "    try:\n",
    "        time.sleep(3)\n",
    "        print(hello(f\"attempt #{i}\"))\n",
    "    except TooSoonError as err:\n",
    "        print(f\"Too soon: {err}\")\n",
    "```"
   ]
  },
  {
   "cell_type": "markdown",
   "id": "037e2acc-a4bd-4682-84af-861f7874ce92",
   "metadata": {},
   "source": [
    "Should print something like:\n",
    "\n",
    "```\n",
    "0\n",
    "Hello, attempt #0\n",
    "1\n",
    "Too soon: Wait another 12.00 seconds\n",
    "2\n",
    "Too soon: Wait another 8.99 seconds\n",
    "3\n",
    "Too soon: Wait another 5.98 seconds\n",
    "4\n",
    "Too soon: Wait another 2.98 seconds\n",
    "5\n",
    "Hello, attempt #5\n",
    "6\n",
    "Too soon: Wait another 12.00 seconds\n",
    "```"
   ]
  },
  {
   "cell_type": "markdown",
   "id": "269e6e73-6a3b-41d7-a50e-25d20d3cf0ba",
   "metadata": {},
   "source": [
    "<div class=\"alert alert-block alert-warning\">\n",
    "    <h4><b>Note</b></h4> The decorator should handle <strong>any kind</strong> of function, i.e., it should not care about the kind or number of parameters the function accepts.\n",
    "</div>"
   ]
  },
  {
   "cell_type": "code",
   "execution_count": null,
   "id": "23bd64fd-470c-4685-8cd2-e489a535b68c",
   "metadata": {},
   "outputs": [],
   "source": [
    "%%ipytest\n",
    "\n",
    "def solution_once(func):\n",
    "    \"\"\"Restrict running a function at most once every 15 seconds\"\"\"\n",
    "    def wrapper(*args, **kwargs):\n",
    "        \"\"\"Your wrapper\"\"\"\n",
    "        return func(*args, **kwargs)\n",
    "\n",
    "    return wrapper"
   ]
  },
  {
   "cell_type": "markdown",
   "id": "777251e1-d655-4e36-a41c-ddefe020d1b7",
   "metadata": {
    "jp-MarkdownHeadingCollapsed": true
   },
   "source": [
    "### Password checker `{functions as objects}`"
   ]
  },
  {
   "cell_type": "markdown",
   "id": "bbec8f73-9b4f-49bc-bd59-c3db2ed6132d",
   "metadata": {
    "jp-MarkdownHeadingCollapsed": true
   },
   "source": [
    "Create a \"password checker factory\""
   ]
  },
  {
   "cell_type": "markdown",
   "id": "1fe377f9-0f6c-44d5-8d15-c74a8502bc52",
   "metadata": {
    "jp-MarkdownHeadingCollapsed": true
   },
   "source": [
    "### String range `{generators}`"
   ]
  },
  {
   "cell_type": "markdown",
   "id": "740cf590-13c5-4df3-b476-7c0ca7d80e29",
   "metadata": {},
   "source": [
    "Create a generator function that emulates the the built-in `range`, but for characters"
   ]
  },
  {
   "cell_type": "markdown",
   "id": "09965c4e-db8a-46a6-9b57-a4b5350ae398",
   "metadata": {
    "jp-MarkdownHeadingCollapsed": true
   },
   "source": [
    "### Read `n` lines `{generators}`"
   ]
  },
  {
   "cell_type": "markdown",
   "id": "ba075f54-be74-41c9-9c56-a25aefb6569f",
   "metadata": {},
   "source": [
    "Create a generator function that reads in the content of a file by `n` lines at a time"
   ]
  },
  {
   "cell_type": "code",
   "execution_count": null,
   "id": "5d58c7d1-e361-4d41-a7d2-162ca06746b0",
   "metadata": {},
   "outputs": [],
   "source": []
  },
  {
   "cell_type": "code",
   "execution_count": null,
   "id": "7e5775cc-2ab2-4206-a17b-e1df74dd4f7c",
   "metadata": {},
   "outputs": [],
   "source": []
  }
 ],
 "metadata": {
  "kernelspec": {
   "display_name": "Python 3 (ipykernel)",
   "language": "python",
   "name": "python3"
  },
  "language_info": {
   "codemirror_mode": {
    "name": "ipython",
    "version": 3
   },
   "file_extension": ".py",
   "mimetype": "text/x-python",
   "name": "python",
   "nbconvert_exporter": "python",
   "pygments_lexer": "ipython3",
   "version": "3.10.10"
  }
 },
 "nbformat": 4,
 "nbformat_minor": 5
}
