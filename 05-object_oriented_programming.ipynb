{
 "cells": [
  {
   "cell_type": "markdown",
   "id": "6805e1bf-0da6-4ee5-9a1a-a2c2cd56fa9f",
   "metadata": {},
   "source": [
    "# Object-oriented Programming"
   ]
  },
  {
   "cell_type": "markdown",
   "id": "d8056761-eb32-476c-91e3-63f3a8ed738f",
   "metadata": {},
   "source": [
    "# Table of contents\n",
    "\n",
    "- [References](#References)\n",
    "- [A `class` as a blueprint of objects](#A-class-as-a-blueprint-of-objects)\n",
    "- [Properties and methods](#Properties-and-methods)\n",
    "- [Python's *special methods*](#Python's-*special-methods*)\n",
    "- [`__str__` and `__repr__`](#__str__-and-__repr__)\n",
    "- [Comparison methods](#Comparison-methods)\n",
    "- [The `@property` keyword](#The-@property-keyword)\n",
    "- [Quick glossary](#Quick-glossary)\n",
    "- [Exercises](#Exercises)\n",
    "  - [Ice cream scoop 🌶️](#Ice-cream-scoop-🌶️)\n",
    "  - [Ice cream bowl 🌶️🌶️](#Ice-cream-bowl-🌶️🌶️)\n",
    "  - [Intcode computer 🌶️🌶️🌶️](#Intcode-computer-🌶️🌶️🌶️)\n",
    "  - [The N-body problem 🌶️🌶️🌶️🌶️](#The-N-body-problem-🌶️🌶️🌶️🌶️)\n"
   ]
  },
  {
   "cell_type": "markdown",
   "id": "c7bce9ed-50a7-45e2-a741-799ec2a8d8c0",
   "metadata": {},
   "source": [
    "## References"
   ]
  },
  {
   "cell_type": "markdown",
   "id": "81c741e8-ab31-4c0b-8651-66853f24af93",
   "metadata": {},
   "source": [
    "- [Python classes (read)](https://www.py4e.com/html3/14-objects)\n",
    "- [Python classes (video lecture)](https://www.py4e.com/lessons/Objects#)\n",
    "- [Python Data Model](https://docs.python.org/3/reference/datamodel.html)"
   ]
  },
  {
   "cell_type": "markdown",
   "id": "58a632a3-dd6a-4f04-8cb6-d2a4293e79aa",
   "metadata": {
    "tags": []
   },
   "source": [
    "## A `class` as a blueprint of objects"
   ]
  },
  {
   "cell_type": "markdown",
   "id": "5e7f1f46-913b-4c2e-a990-27466680e448",
   "metadata": {},
   "source": [
    "Object-oriented programming (OOP) is probably the most well-know approach to programming. Almost every programming language in some way or another supports this paradigm.\n",
    "\n",
    "The idea behind OOP is simple: instead of defining our functions in one part of the code, and the data on which those functions operate in a separate part of the code, we define them together.\n",
    "\n",
    "The concept of **object** is the heart of OOP, and the fundamental building block is the **class**. We have already seen many types of objects, each belonging to different classes:"
   ]
  },
  {
   "cell_type": "code",
   "execution_count": null,
   "id": "7e4b4ddb-8db5-420d-a8fa-b2244b3a8580",
   "metadata": {
    "tags": []
   },
   "outputs": [],
   "source": [
    "data = \"Python\", 2023, True, 3.14159, (1, 2.0, \"3.0\"), {\"a\": 10, \"b\": 11}\n",
    "\n",
    "for d in data:\n",
    "    print(type(d))"
   ]
  },
  {
   "cell_type": "markdown",
   "id": "fdc5f37f-b482-418b-ae7d-7ea3be574909",
   "metadata": {},
   "source": [
    "In Python, to create a custom class we use the `class` keyword, and we can initialize class attributes in the special method `__init__`.\n",
    "\n",
    "For example, let's create a class that represents a rectangle as a geometrical entity:"
   ]
  },
  {
   "cell_type": "code",
   "execution_count": null,
   "id": "ac37eae7-2e2f-4f8d-9790-e14670deb0e2",
   "metadata": {
    "tags": []
   },
   "outputs": [],
   "source": [
    "class Rectangle:\n",
    "    def __init__(self, width, height):\n",
    "        self.width = width\n",
    "        self.height = height"
   ]
  },
  {
   "cell_type": "markdown",
   "id": "36d6d922-7ec8-40bc-ae8b-fa912839331c",
   "metadata": {},
   "source": [
    "The first argument (`self`) is automatically filled in by Python and contains **the object being created**. It's the way a class can modify itself, in some sense.\n",
    "\n",
    "<div class=\"alert alert-block alert-info\">\n",
    "    <h4><b>Note</b></h4>\n",
    "    Using the name <code>self</code> is just a convention (although a good one, and you should use it to make your code more understandable by others), you could really call it whatever (valid) name you want\n",
    "</div>\n",
    "\n",
    "We create **instances** of the `Rectangle` class by calling it with arguments that are passed to the `__init__` method as the second and third arguments.\n",
    "\n",
    "You **don't** have to pass `self` when creating a new instance of a class."
   ]
  },
  {
   "cell_type": "code",
   "execution_count": null,
   "id": "48cc5e1a-1912-4dab-8e4c-f325f8bc910e",
   "metadata": {
    "tags": []
   },
   "outputs": [],
   "source": [
    "r1 = Rectangle(10, 20)\n",
    "r2 = Rectangle(3, 5)"
   ]
  },
  {
   "cell_type": "code",
   "execution_count": null,
   "id": "443bd72f-5a36-4a6a-8889-bca4810d01f3",
   "metadata": {
    "tags": []
   },
   "outputs": [],
   "source": [
    "r1.width  # this will return the `self.width` value"
   ]
  },
  {
   "cell_type": "code",
   "execution_count": null,
   "id": "2dcbc98a-2fa0-40c7-96aa-5cbad91127bb",
   "metadata": {
    "tags": []
   },
   "outputs": [],
   "source": [
    "r2.height  # this will return the `self.height` value"
   ]
  },
  {
   "cell_type": "markdown",
   "id": "0c64e447-436f-40fb-aa20-450cecf073cc",
   "metadata": {
    "tags": []
   },
   "source": [
    "## Properties and methods"
   ]
  },
  {
   "cell_type": "markdown",
   "id": "ed65342c-17eb-4109-a453-f97e72ca6f5d",
   "metadata": {},
   "source": [
    "`width` and `height` are attributes of the `Rectangle` class. But since they are just values (they are **not** functions), we call them **properties**.\n",
    "\n",
    "Attributes that are callables (that is, functions) are called **methods**.\n",
    "\n",
    "Properties and methods together are called **attributes** of a class."
   ]
  },
  {
   "cell_type": "markdown",
   "id": "60dc8f14-1602-4d55-8673-b4233bdc74bf",
   "metadata": {},
   "source": [
    "You'll note that we were able to retrieve the `width` and `height` attributes (properties) using a dot notation, where we specify the object we are interested in, then a dot, then the attribute we are interested in."
   ]
  },
  {
   "cell_type": "markdown",
   "id": "c5808f6a-5a02-43f7-80b3-778071c05388",
   "metadata": {},
   "source": [
    "We can add callable attributes to our class (methods), that will also be referenced using the dot notation.\n",
    "\n",
    "Again, the methods will require the first argument to be the object being used when the method is called, that is, `self`."
   ]
  },
  {
   "cell_type": "code",
   "execution_count": null,
   "id": "697f4809-cfde-456c-9f32-6667efa75799",
   "metadata": {
    "tags": []
   },
   "outputs": [],
   "source": [
    "class Rectangle:\n",
    "    def __init__(self, width, height):\n",
    "        self.width = width\n",
    "        self.height = height\n",
    "        \n",
    "    def area(self):\n",
    "        return self.width * self.height\n",
    "    \n",
    "    def perimeter(self):\n",
    "        return 2 * (self.width + self.height)"
   ]
  },
  {
   "cell_type": "code",
   "execution_count": null,
   "id": "74e709b0-8f77-46b3-a5e5-8194f70b2bc0",
   "metadata": {
    "tags": []
   },
   "outputs": [],
   "source": [
    "r1 = Rectangle(10, 20)"
   ]
  },
  {
   "cell_type": "code",
   "execution_count": null,
   "id": "dcea9ef3-d76b-4137-a529-2cf8bf919f13",
   "metadata": {
    "tags": []
   },
   "outputs": [],
   "source": [
    "r1.area()"
   ]
  },
  {
   "cell_type": "markdown",
   "id": "55c067a6-7988-4b5f-96c9-1053077f0192",
   "metadata": {},
   "source": [
    "When we ran the above line of code, our object was `r1`, so when `area` was called, Python called the method `area` in the `Rectangle` class automatically, passing `r1` as the argument to the `self` parameter."
   ]
  },
  {
   "cell_type": "markdown",
   "id": "b4e939be-bc33-4d89-a7ec-1149ec05d9c0",
   "metadata": {
    "tags": []
   },
   "source": [
    "## Python's *special methods*"
   ]
  },
  {
   "cell_type": "markdown",
   "id": "0f394fcf-6dca-4867-b098-51e97adcd268",
   "metadata": {},
   "source": [
    "Special methods are methods that Python define automatically. If you define a custom class, then you are responsible of definining the **expected behavior** of these methods. Otherwise, Python will fallback to the default, built-in definition, or it will raise an error if it doesn't know what to do.\n",
    "\n",
    "These are also called **dunder methods**, that is, \"double-underscore methods\", because their names look like `__method__`. There are special **attributes** as well."
   ]
  },
  {
   "cell_type": "markdown",
   "id": "9b348542-49ab-4d66-b92e-247b3824bbaf",
   "metadata": {
    "tags": []
   },
   "source": [
    "### `__str__` and `__repr__`\n",
    "\n",
    "For example, we can obtain a string representation of an integer using the built-in `str` function:"
   ]
  },
  {
   "cell_type": "code",
   "execution_count": null,
   "id": "f7f1512b-a783-4304-b829-b17cef6c4a90",
   "metadata": {},
   "outputs": [],
   "source": [
    "str(10)"
   ]
  },
  {
   "cell_type": "markdown",
   "id": "7a2575df-fa79-4dfc-8800-759e6f55d333",
   "metadata": {},
   "source": [
    "What happens if we try this with our `Rectangle` object?"
   ]
  },
  {
   "cell_type": "code",
   "execution_count": null,
   "id": "0760e76b-04de-4d87-90d8-b942680b8698",
   "metadata": {
    "tags": []
   },
   "outputs": [],
   "source": [
    "str(r1)"
   ]
  },
  {
   "cell_type": "markdown",
   "id": "da20832f-2313-4d9f-a57a-56bc7d0aa24e",
   "metadata": {},
   "source": [
    "Not exactly what we might have expected. On the other hand, how is Python supposed to know how to display our rectangle as a string?\n",
    "\n",
    "We could write a method in the class such as:"
   ]
  },
  {
   "cell_type": "code",
   "execution_count": null,
   "id": "23a32f1c-4161-48fa-b368-43c2b98f9a80",
   "metadata": {
    "tags": []
   },
   "outputs": [],
   "source": [
    "class Rectangle:\n",
    "    def __init__(self, width, height):\n",
    "        self.width = width\n",
    "        self.height = height\n",
    "        \n",
    "    def area(self):\n",
    "        return self.width * self.height\n",
    "    \n",
    "    def perimeter(self):\n",
    "        return 2 * (self.width + self.height)\n",
    "    \n",
    "    def to_str(self):\n",
    "        return 'Rectangle (width={0}, height={1})'.format(self.width, self.height)"
   ]
  },
  {
   "cell_type": "markdown",
   "id": "fe6534c4-1508-4e10-976b-e835c0070d19",
   "metadata": {},
   "source": [
    "So now we could get a string from our object as follows:"
   ]
  },
  {
   "cell_type": "code",
   "execution_count": null,
   "id": "8a2e73a3-2cf7-49f0-b0a4-5485e0ee3cac",
   "metadata": {
    "tags": []
   },
   "outputs": [],
   "source": [
    "r1 = Rectangle(10, 20)\n",
    "r1.to_str()"
   ]
  },
  {
   "cell_type": "markdown",
   "id": "f366dbbc-850d-447f-b63f-f7d282893275",
   "metadata": {},
   "source": [
    "However, using the built-in `str` function still does not work 🤔"
   ]
  },
  {
   "cell_type": "code",
   "execution_count": null,
   "id": "da4219dd-ccff-4aae-af51-5dfd15a01723",
   "metadata": {
    "tags": []
   },
   "outputs": [],
   "source": [
    "str(r1)"
   ]
  },
  {
   "cell_type": "markdown",
   "id": "851e869e-66d0-4cd5-a8cb-b4d51b274ac1",
   "metadata": {},
   "source": [
    "This is where these special methods come in. When we call `str(r1)`, Python will first look to see if our class (`Rectangle`) has a special method called `__str__`.\n",
    "\n",
    "If the `__str__` method is present, then Python will call it and return that value.\n",
    "\n",
    "There's actually another one called `__repr__` which is related, but we'll just focus on `__str__` for now."
   ]
  },
  {
   "cell_type": "code",
   "execution_count": null,
   "id": "98c51761-ac50-4d53-a780-9332e6da3528",
   "metadata": {
    "tags": []
   },
   "outputs": [],
   "source": [
    "class Rectangle:\n",
    "    def __init__(self, width, height):\n",
    "        self.width = width\n",
    "        self.height = height\n",
    "        \n",
    "    def area(self):\n",
    "        return self.width * self.height\n",
    "    \n",
    "    def perimeter(self):\n",
    "        return 2 * (self.width + self.height)\n",
    "    \n",
    "    def __str__(self):\n",
    "        \"\"\"A string representation of a Rectangle\"\"\"\n",
    "        return f'Rectangle (width={self.width}, height={self.height})'"
   ]
  },
  {
   "cell_type": "code",
   "execution_count": null,
   "id": "9720291b-68dc-40ec-b692-e9b4da387904",
   "metadata": {
    "tags": []
   },
   "outputs": [],
   "source": [
    "r1 = Rectangle(10, 20)"
   ]
  },
  {
   "cell_type": "code",
   "execution_count": null,
   "id": "b5100468-087f-4256-b82d-2f6b8778f856",
   "metadata": {
    "tags": []
   },
   "outputs": [],
   "source": [
    "str(r1)"
   ]
  },
  {
   "cell_type": "markdown",
   "id": "422b2608-71be-4e86-b886-e08be66d42e9",
   "metadata": {},
   "source": [
    "However, in Jupyter, look what happens here:"
   ]
  },
  {
   "cell_type": "code",
   "execution_count": null,
   "id": "566a823a-48f4-4a5f-a88e-c93cbf05b268",
   "metadata": {
    "tags": []
   },
   "outputs": [],
   "source": [
    "r1"
   ]
  },
  {
   "cell_type": "markdown",
   "id": "0d793886-49fd-4300-87e5-664fc7a3eb3c",
   "metadata": {},
   "source": [
    "As you can see we still get that default. That's because here Python is **not** converting `r1` to a string, but instead looking for a string *representation* of the object. It is looking for the [`__repr__` method](https://docs.python.org/3/reference/datamodel.html#object.__repr__), which is defined as\n",
    "\n",
    "> the “official” string representation of an object\n",
    "\n",
    "Ideally, the `__repr__` method should return a **valid Python expression** that can be used to recreate an instance of the object. If it's not possible, it should return a simple string. For this tutorial, we can define a `__repr__` method that behaves **identically** to the `__str__` method."
   ]
  },
  {
   "cell_type": "code",
   "execution_count": null,
   "id": "2baf9528-84c6-4241-93f4-c224c647493e",
   "metadata": {
    "tags": []
   },
   "outputs": [],
   "source": [
    "class Rectangle:\n",
    "    def __init__(self, width, height):\n",
    "        self.width = width\n",
    "        self.height = height\n",
    "        \n",
    "    def area(self):\n",
    "        return self.width * self.height\n",
    "    \n",
    "    def perimeter(self):\n",
    "        return 2 * (self.width + self.height)\n",
    "    \n",
    "    def __str__(self):\n",
    "        return f'Rectangle (width={self.width}, height={self.height})'\n",
    "    \n",
    "    def __repr__(self):\n",
    "        return self.__str__()"
   ]
  },
  {
   "cell_type": "markdown",
   "id": "9f5daf4d-2909-4778-b450-ca567acf773a",
   "metadata": {
    "tags": []
   },
   "source": [
    "### Comparison methods"
   ]
  },
  {
   "cell_type": "markdown",
   "id": "f61058a3-bb5e-4dc7-9051-f0681147cf81",
   "metadata": {},
   "source": [
    "How about the comparison operator, such as `==`? How can we tell Python how it should compare two different rectangles?"
   ]
  },
  {
   "cell_type": "code",
   "execution_count": null,
   "id": "c896e204-080d-4dc1-bcec-970ad6982672",
   "metadata": {
    "tags": []
   },
   "outputs": [],
   "source": [
    "r1 = Rectangle(10, 20)\n",
    "r2 = Rectangle(10, 20)"
   ]
  },
  {
   "cell_type": "code",
   "execution_count": null,
   "id": "13d465a7-86d7-49b1-9643-4c90252a0b95",
   "metadata": {},
   "outputs": [],
   "source": [
    "r1 == r2"
   ]
  },
  {
   "cell_type": "markdown",
   "id": "150f6e2c-a2a3-40a8-a804-0411957691ea",
   "metadata": {},
   "source": [
    "As you can see, Python does not consider `r1` and `r2` as equal (using the `==` operator). Again, how is Python supposed to know that two rectangle objects with the same height and width should be considered equal?"
   ]
  },
  {
   "cell_type": "markdown",
   "id": "dcf00b20-6770-410c-82f5-dea06f312984",
   "metadata": {},
   "source": [
    "We just need to tell Python how to do it, using the special method `__eq__`. Let's see how:"
   ]
  },
  {
   "cell_type": "code",
   "execution_count": null,
   "id": "b430191f-3c01-494c-8b94-9fe1871a8c9f",
   "metadata": {
    "tags": []
   },
   "outputs": [],
   "source": [
    "class Rectangle:\n",
    "    def __init__(self, width, height):\n",
    "        self.width = width\n",
    "        self.height = height\n",
    "        \n",
    "    def area(self):\n",
    "        return self.width * self.height\n",
    "    \n",
    "    def perimeter(self):\n",
    "        return 2 * (self.width + self.height)\n",
    "    \n",
    "    def __str__(self):\n",
    "        return f'Rectangle (width={self.width}, height={self.height})'\n",
    "    \n",
    "    def __repr__(self):\n",
    "        return self.__str__()\n",
    "    \n",
    "    def __eq__(self, other):\n",
    "        \n",
    "        # This statement is for debugging purposes. We will remove it later\n",
    "        print(f'self={self}, other={other}')\n",
    "        \n",
    "        # Make sure we are comparing a Rectangle with another Rectangle\n",
    "        if isinstance(other, Rectangle):\n",
    "            return (self.width, self.height) == (other.width, other.height)\n",
    "        else:\n",
    "            return False"
   ]
  },
  {
   "cell_type": "code",
   "execution_count": null,
   "id": "a02072db-f86d-44bc-a786-4c93c21a2bbf",
   "metadata": {
    "tags": []
   },
   "outputs": [],
   "source": [
    "r1 = Rectangle(10, 20)\n",
    "r2 = Rectangle(10, 20)"
   ]
  },
  {
   "cell_type": "markdown",
   "id": "1b1baaf9-830f-4366-924e-ee35fd6387bf",
   "metadata": {},
   "source": [
    "We now have two **different** objects, two instances of our `Rectangle` class. In fact, we can check that the two objects are different with the `is` operator"
   ]
  },
  {
   "cell_type": "code",
   "execution_count": null,
   "id": "d2f0184d-09c1-44b7-b168-a59373180d1b",
   "metadata": {
    "tags": []
   },
   "outputs": [],
   "source": [
    "print(f\"Is r1 the same as r2? {r1 is r2}. No! Because their IDs are {id(r1)} (r1) and {id(r2)} (r2)\")"
   ]
  },
  {
   "cell_type": "markdown",
   "id": "38419127-8417-4ae6-8ba4-7b5669aa9d68",
   "metadata": {},
   "source": [
    "However, they are **equal** according to our `__eq__` function: rectangles are considered equal if their widths and heights are equal"
   ]
  },
  {
   "cell_type": "code",
   "execution_count": null,
   "id": "2cb43f75-fd03-46d6-83d8-98c1d56e538b",
   "metadata": {
    "tags": []
   },
   "outputs": [],
   "source": [
    "r1 == r2"
   ]
  },
  {
   "cell_type": "code",
   "execution_count": null,
   "id": "a91def65-ce17-49cd-aa1a-e1f8c4dec190",
   "metadata": {
    "tags": []
   },
   "outputs": [],
   "source": [
    "r3 = Rectangle(2, 3)"
   ]
  },
  {
   "cell_type": "code",
   "execution_count": null,
   "id": "b8108843-2b7b-41f8-8e82-e0dfa8e6163a",
   "metadata": {
    "tags": []
   },
   "outputs": [],
   "source": [
    "r1 == r3"
   ]
  },
  {
   "cell_type": "markdown",
   "id": "59566912-de9e-4768-a683-1f7f279f7d1b",
   "metadata": {},
   "source": [
    "And if we try to compare our Rectangle to a different type:"
   ]
  },
  {
   "cell_type": "code",
   "execution_count": null,
   "id": "e147e541-3ff7-43ce-a530-4f088fb8ef9c",
   "metadata": {
    "tags": []
   },
   "outputs": [],
   "source": [
    "r1 == 100, type(r1), type(100)"
   ]
  },
  {
   "cell_type": "markdown",
   "id": "72254316-200d-4a6d-bf93-d669f041c08b",
   "metadata": {},
   "source": [
    "That's because our `Rectangle` class automatically return `False` if we try to compare for equality an instance of `Rectangle` and any other Python object"
   ]
  },
  {
   "cell_type": "markdown",
   "id": "38c920c6-d21c-41f9-b45c-65352822c3e5",
   "metadata": {},
   "source": [
    "Here's our final class, without any `print` statement – remember, we should try to avoid side-effects when they are **not** necessary:"
   ]
  },
  {
   "cell_type": "code",
   "execution_count": null,
   "id": "b4982727-ac70-4b25-9a92-6171228637a8",
   "metadata": {},
   "outputs": [],
   "source": [
    "class Rectangle:\n",
    "    def __init__(self, width, height):\n",
    "        self.width = width\n",
    "        self.height = height\n",
    "        \n",
    "    def area(self):\n",
    "        return self.width * self.height\n",
    "    \n",
    "    def perimeter(self):\n",
    "        return 2 * (self.width + self.height)\n",
    "    \n",
    "    def __str__(self):\n",
    "        return f'Rectangle (width={self.width}, height={self.height})'\n",
    "    \n",
    "    def __repr__(self):\n",
    "        return self.__str__()\n",
    "    \n",
    "    def __eq__(self, other):\n",
    "        if isinstance(other, Rectangle):\n",
    "            return (self.width, self.height) == (other.width, other.height)\n",
    "        else:\n",
    "            return False"
   ]
  },
  {
   "cell_type": "markdown",
   "id": "ea2c70e3-e22b-4064-9159-61275d65b143",
   "metadata": {},
   "source": [
    "What about `<`, `>`, `<=`, etc.?\n",
    "\n",
    "Again, Python has special methods we can use to provide that functionality.\n",
    "\n",
    "These are `__lt__`, `__gt__`, `__le__` methods. There are [many more](https://docs.python.org/3/reference/datamodel.html)!"
   ]
  },
  {
   "cell_type": "markdown",
   "id": "d7d1ffe1-92f4-438a-8e26-02c0c8382552",
   "metadata": {},
   "source": [
    "<div class=\"alert alert-block alert-info\">\n",
    "    <h4><b>Note</b></h4>\n",
    "    While we can define custom methods for the comparison operators, it doesn't mean it makes sense. In this example with the <code>Rectangle</code> class, the meaning of the greater/less than operations is not formally defined. We chose to compare the rectangles areas but that's completely arbitrary.\n",
    "</div>"
   ]
  },
  {
   "cell_type": "code",
   "execution_count": null,
   "id": "64d77b6d-7051-4f4c-a2eb-cece6c6eb58b",
   "metadata": {
    "tags": []
   },
   "outputs": [],
   "source": [
    "class Rectangle:\n",
    "    def __init__(self, width, height):\n",
    "        self.width = width\n",
    "        self.height = height\n",
    "        \n",
    "    def area(self):\n",
    "        return self.width * self.height\n",
    "    \n",
    "    def perimeter(self):\n",
    "        return 2 * (self.width + self.height)\n",
    "    \n",
    "    def __str__(self):\n",
    "        return f'Rectangle (width={self.width}, height={self.height})'\n",
    "    \n",
    "    def __repr__(self):\n",
    "        return self.__str__()\n",
    "    \n",
    "    def __eq__(self, other):\n",
    "        if isinstance(other, Rectangle):\n",
    "            return (self.width, self.height) == (other.width, other.height)\n",
    "        else:\n",
    "            return False\n",
    "    \n",
    "    def __lt__(self, other):\n",
    "        if isinstance(other, Rectangle):\n",
    "            return self.area() < other.area()\n",
    "        else:\n",
    "            return NotImplemented"
   ]
  },
  {
   "cell_type": "code",
   "execution_count": null,
   "id": "f1427ccd-44e2-4356-aff8-d15aa4c2cff2",
   "metadata": {
    "tags": []
   },
   "outputs": [],
   "source": [
    "r1 = Rectangle(100, 200)\n",
    "r2 = Rectangle(10, 20)"
   ]
  },
  {
   "cell_type": "code",
   "execution_count": null,
   "id": "856d1822-36f8-48ca-b49f-76cdd10f9634",
   "metadata": {},
   "outputs": [],
   "source": [
    "r1 < r2"
   ]
  },
  {
   "cell_type": "code",
   "execution_count": null,
   "id": "0b9e5562-9c54-4ff4-bde1-82fb65e2c65e",
   "metadata": {},
   "outputs": [],
   "source": [
    "r2 < r1"
   ]
  },
  {
   "cell_type": "markdown",
   "id": "14f23dc5-1764-47c0-8dfc-0ec3b7ab50fe",
   "metadata": {},
   "source": [
    "What about `>`?"
   ]
  },
  {
   "cell_type": "code",
   "execution_count": null,
   "id": "8208c603-a24f-4f73-8429-cd9e83143024",
   "metadata": {},
   "outputs": [],
   "source": [
    "r1 > r2"
   ]
  },
  {
   "cell_type": "markdown",
   "id": "519f1390-5087-4415-a1af-89708fc4ccfd",
   "metadata": {},
   "source": [
    "How did that work? We did not define a `__gt__` method.\n",
    "\n",
    "Well, Python decided that, since `r1 > r2` was not implemented, it would give `r2 < r1` a try. And since, `__lt__` **is** defined, it worked! It just a matter of swapping the terms in the comparison. Clever, eh? 😎"
   ]
  },
  {
   "cell_type": "markdown",
   "id": "020909fe-2266-4e03-9d53-477596dc03d4",
   "metadata": {},
   "source": [
    "Of course, `<=` is not going to magically work!"
   ]
  },
  {
   "cell_type": "code",
   "execution_count": null,
   "id": "be964fd3-0615-4424-8d4f-885918216bad",
   "metadata": {},
   "outputs": [],
   "source": [
    "r1 <= r2"
   ]
  },
  {
   "cell_type": "markdown",
   "id": "e99e8fd7-48c0-415a-8ef4-ef4526343087",
   "metadata": {
    "tags": []
   },
   "source": [
    "## The `@property` keyword"
   ]
  },
  {
   "cell_type": "markdown",
   "id": "60cfa6f1-c3db-4cb7-a932-66ba094cf82b",
   "metadata": {},
   "source": [
    "A question you might have about our `Rectangle` class is the following: why should we **call** a function to return its area? Isn't area a **property** of a rectangle?\n",
    "\n",
    "Unfortunately, Python doesn't think the same way. If we try to do"
   ]
  },
  {
   "cell_type": "code",
   "execution_count": null,
   "id": "12a9a008-45a7-43d1-9fcd-54e25075a743",
   "metadata": {
    "tags": []
   },
   "outputs": [],
   "source": [
    "r1.area"
   ]
  },
  {
   "cell_type": "markdown",
   "id": "248e46a2-3a3c-49e6-acf0-ab74439a5b8e",
   "metadata": {},
   "source": [
    "It would tell us that `r1.area` is in fact an object. It's actually a **function**"
   ]
  },
  {
   "cell_type": "code",
   "execution_count": null,
   "id": "1fa4af40-e7a4-4695-a200-08dc84d15b1c",
   "metadata": {
    "tags": []
   },
   "outputs": [],
   "source": [
    "print(f\"r1.area is a {type(r1.area)}. Is is a function? {callable(r1.area)}\")"
   ]
  },
  {
   "cell_type": "markdown",
   "id": "bcc38adc-698d-4f40-ad0a-e5f3d11dfaa0",
   "metadata": {},
   "source": [
    "Python provides you the special keyword `@property`. We are not going into the details of what this keyword does, but here's how you can use it in your classes to make them more \"user-friendly\":"
   ]
  },
  {
   "cell_type": "code",
   "execution_count": null,
   "id": "466f0f14-8eb7-4cde-b02b-bf563784d7d2",
   "metadata": {
    "tags": []
   },
   "outputs": [],
   "source": [
    "class Rectangle:\n",
    "    def __init__(self, width, height):\n",
    "        self.width = width\n",
    "        self.height = height\n",
    "    \n",
    "    @property\n",
    "    def area(self):\n",
    "        return self.width * self.height\n",
    "    \n",
    "    @property\n",
    "    def perimeter(self):\n",
    "        return 2 * (self.width + self.height)\n",
    "    \n",
    "    def __str__(self):\n",
    "        return f'Rectangle (width={self.width}, height={self.height})'\n",
    "    \n",
    "    def __repr__(self):\n",
    "        return self.__str__()"
   ]
  },
  {
   "cell_type": "markdown",
   "id": "78420f30-90ea-429c-aa6d-6b29c81d7cad",
   "metadata": {},
   "source": [
    "You can simply add `@property` **just above** the line that defines your property. For example, the `def area()` or `def perimeter()` functions above."
   ]
  },
  {
   "cell_type": "code",
   "execution_count": null,
   "id": "cb506495-b079-4016-b087-7e49b3a6b95e",
   "metadata": {
    "tags": []
   },
   "outputs": [],
   "source": [
    "r1 = Rectangle(1, 10)\n",
    "r2 = Rectangle(10, 20)\n",
    "\n",
    "print(f\"Perimeters: r1={r1.perimeter}, r2={r2.perimeter}\")\n",
    "print(f\"Areas: r1={r1.area}, r2={r2.area}\")"
   ]
  },
  {
   "cell_type": "markdown",
   "id": "852b0c5b-3c41-4d7c-9d72-c1f86d52d5ff",
   "metadata": {},
   "source": [
    "If you want to learn more about the `@property` keyword, you can check out [this link](https://docs.python.org/3/library/functions.html#property). **Beware**, it's rather advanced stuff! If it's your first time with Python, just skip it for the time being."
   ]
  },
  {
   "cell_type": "markdown",
   "id": "d91ad47d-5508-4e5c-9e29-c794332deafc",
   "metadata": {
    "tags": []
   },
   "source": [
    "## Quick glossary\n"
   ]
  },
  {
   "cell_type": "markdown",
   "id": "6092881f-1af2-4655-9e1a-543774edc157",
   "metadata": {},
   "source": [
    "\n",
    "| Term | Definition |\n",
    "| --- | --- |\n",
    "| Class | A blueprint for creating objects that define their attributes and methods. |\n",
    "| Instance | An individual occurrence of a class, created from the blueprint of the class. |\n",
    "| Method | A function defined within a class that performs some action on an instance of that class or the class itself. |\n",
    "| Attribute | A variable that is bound to a class or instance and holds some value or reference. |\n",
    "| `__init__` | A special method that is automatically called when an instance of a class is created, used for initializing the instance's attributes. |\n",
    "| `__str__/__repr__` | Special methods used for defining a string representation of a class or instance, used for debugging or displaying information about the object. `__str__` is used for human-readable output, while `__repr__` is used for machine-readable output. |\n",
    "| `@property` | A special keyword used to define a method that can be accessed like an attribute, allowing for dynamic attribute behavior. |"
   ]
  },
  {
   "cell_type": "markdown",
   "id": "e1c92732-f58c-4afa-9212-ae8231784725",
   "metadata": {
    "tags": []
   },
   "source": [
    "# Exercises"
   ]
  },
  {
   "cell_type": "code",
   "execution_count": null,
   "id": "7eb3f100-3c03-4c1e-a4be-ecb0ad95f416",
   "metadata": {
    "tags": []
   },
   "outputs": [],
   "source": [
    "%reload_ext tutorial.tests.testsuite"
   ]
  },
  {
   "cell_type": "markdown",
   "id": "a2cc7735-1d30-47b3-a172-96201e26f98d",
   "metadata": {
    "jp-MarkdownHeadingCollapsed": true,
    "tags": []
   },
   "source": [
    "## Ice cream scoop 🌶️"
   ]
  },
  {
   "cell_type": "markdown",
   "id": "94f8c9c0-0f4e-4452-88eb-62ff87d218e9",
   "metadata": {},
   "source": [
    "Define a class `Scoop` that represents a single scoop of ice cream. Each scoop should have a **single** attribute, `flavor`, a string that you can initialize when you create the instance of `Scoop`.\n",
    "\n",
    "Define also a `__str__` method to return a string reprensentation of a scoop. The output should be `Ice cream scoop with flavor '<flavor>'`, where `<flavor` is the actual scoop's flavor. **Pay attention to the single quotes!**\n",
    "\n",
    "<div class=\"alert alert-block alert-warning\">\n",
    "    <h4><b>Question</b></h4>\n",
    "    Complete the solution function such that it creates <strong>three</strong> instances of the <code>Scoop</code> class with the following flavors: chocolate, vanilla, persimmon. This function should return a list that collects the <strong>string representations</strong> of the ice cream scoops.\n",
    "</div>"
   ]
  },
  {
   "cell_type": "code",
   "execution_count": null,
   "id": "cb1bef70-3de4-480e-83cd-a7e52c8d02a0",
   "metadata": {
    "tags": []
   },
   "outputs": [],
   "source": [
    "%%ipytest\n",
    "class Scoop:\n",
    "    \"\"\"A class representing a single scoop of ice cream\"\"\"\n",
    "    # Write your class implementation here\n",
    "\n",
    "\n",
    "flavors = # TODO: create a tuple containing the flavors\n",
    "\n",
    "def solution_ice_cream_scoop(flavors: tuple[str]) -> list[str]:\n",
    "    # Write your solution here\n",
    "    pass"
   ]
  },
  {
   "cell_type": "markdown",
   "id": "824ca183-251f-47bc-9e47-a780872c5ecf",
   "metadata": {
    "jp-MarkdownHeadingCollapsed": true,
    "tags": []
   },
   "source": [
    "## Ice cream bowl 🌶️🌶️"
   ]
  },
  {
   "cell_type": "markdown",
   "id": "4244ff19-7bbf-43cc-9d1e-eba13f7f5e4e",
   "metadata": {},
   "source": [
    "Create a class `Bowl` that can hold many ice cream scoops, as many as you like. You *should use* the custom class you created in the previous exercise.\n",
    "\n",
    "The `Bowl` class should have a method called `add_scoops()` that accept **variable number** of scoops.\n",
    "\n",
    "<div class=\"alert alert-block alert-info\">\n",
    "    <h4><b>Hint</b></h4>\n",
    "    In the <code>__init__</code> method of the <code>Bowl</code> class, you should define an attribute that acts as a container to hold the scoops you might want to add\n",
    "</div>\n",
    "\n",
    "<div class=\"alert alert-block alert-warning\">\n",
    "    <h4><b>Question</b></h4> \n",
    "    Complete the solution function that creates a bowl of three scoops with flavors chocolate, vanilla, and stracciatella. The output of this function should be a <strong>string</strong> that reports the content of the bowl just created.\n",
    "</div>\n",
    "\n",
    "For example:\n",
    "\n",
    "```\n",
    "Ice cream bowl with chocolate, vanilla, stracciatella scoops\n",
    "```"
   ]
  },
  {
   "cell_type": "code",
   "execution_count": null,
   "id": "0a634345-9799-4d1d-967b-9634c5672e5f",
   "metadata": {
    "tags": []
   },
   "outputs": [],
   "source": [
    "%%ipytest\n",
    "class Bowl:\n",
    "    \"\"\"A class representing a bowl of ice cream scoops\"\"\"\n",
    "     # Write your class implementation here\n",
    "\n",
    "\n",
    "flavors = # TODO: create a tuple containing the flavors\n",
    "        \n",
    "def solution_ice_cream_bowl(flavors: tuple[str]) -> str:\n",
    "    # Write your solution here\n",
    "    pass"
   ]
  },
  {
   "cell_type": "markdown",
   "id": "419b5378-ff17-4ed3-8203-97c132918cb7",
   "metadata": {
    "jp-MarkdownHeadingCollapsed": true,
    "tags": []
   },
   "source": [
    "## Intcode computer 🌶️🌶️🌶️"
   ]
  },
  {
   "cell_type": "markdown",
   "id": "ce95cc4a-9dc4-4da5-b906-9ab3a85fda5e",
   "metadata": {},
   "source": [
    "An **Intcode program** is a list of integers separated by commas (e.g. `1,0,0,3,99`). The first number is called \"position `0`\". Each number represents either an **opcode** or a **position**.\n",
    "\n",
    "An opcode indicates what to do and it's either `1`, `2`, or `99`. The meaning of each opcode is the following:\n",
    "\n",
    "1. `99` means that the program should immediately terminate. No instruction will be executed after encountering this opcode.\n",
    "\n",
    "2. `1` **adds** together numbers read from **two positions** and stores the result in a **third position**. The three integers **immediately after** the opcode indicates these three positions. For example, the Intcode program `1,10,20,30` should be executed as: read the values at positions `10` and `20`, add those values, and then overwrite the value at position `30`.\n",
    "\n",
    "3. `2` works exactly like opcode `1`, but it **multiplies** the two inputs instead of adding them. Again, the three integers following the opcode indicates **where** the inputs and outputs are, not their **values**.\n",
    "\n",
    "Finally, when the computer is done with an opcode, it moves to the next one by stepping **forward 4 positions**.\n",
    "\n",
    "For example, consider the following program\n",
    "\n",
    "```\n",
    "1,9,10,3,2,3,11,0,99,30,40,50\n",
    "```\n",
    "\n",
    "which can be splitted into multiple lines to indicate the 4 instructions (opcodes):\n",
    "\n",
    "```\n",
    "1,9,10,3,\n",
    "2,3,11,0,\n",
    "99,\n",
    "30,40,50\n",
    "```\n",
    "\n",
    "The first line represents the **sum** (opcode `1`) of the values stored at positions `9` (that is `30`) and `10` (that is `40`). The result (`70`) is then stored at position `3`. Afterward, the program becomes:\n",
    "\n",
    "```\n",
    "1,9,10,70,\n",
    "2,3,11,0,\n",
    "99,\n",
    "30,40,50\n",
    "```\n",
    "\n",
    "Stepping forward by 4 positions, we end up on the second line, which represents a **multiplication** operation (opcode `2`). Take the values at positions `3` and `11`, multiply them, and save the result at position `0`. You obtain:\n",
    "\n",
    "```\n",
    "3500,9,10,70,\n",
    "2,3,11,0,\n",
    "99,\n",
    "30,40,50\n",
    "```"
   ]
  },
  {
   "cell_type": "markdown",
   "id": "b2f287fe-0d6b-4a42-89e5-d331f502d91c",
   "metadata": {},
   "source": [
    "<div class=\"alert alert-block alert-warning\">\n",
    "    <h4><b>Question</b></h4>\n",
    "    What value is left at position <code>0</code> after the program stops?\n",
    "</div>"
   ]
  },
  {
   "cell_type": "markdown",
   "id": "9ac11838-bcd1-4c7a-82e4-e89bc719f2c2",
   "metadata": {},
   "source": [
    "Here are the initial and final states of a few small programs:\n",
    "\n",
    "- `1,0,0,0,99` becomes `2,0,0,0,99`, so the value at `0` is `2`\n",
    "- `2,3,0,3,99` becomes `2,3,0,6,99` (value at `0` is `2`)\n",
    "- `1,1,1,4,99,5,6,0,99` becomes `30,1,1,4,2,5,6,0,99` (value at `0` is `30`)"
   ]
  },
  {
   "cell_type": "markdown",
   "id": "1793c96c-0690-4c1f-8dda-72ed924497ca",
   "metadata": {},
   "source": [
    "<div class=\"alert alert-block alert-info\">\n",
    "    <h4><b>Hint</b></h4>\n",
    "    <ul>\n",
    "        <li>Write a Python class called <code>Computer</code> with a method called <code>run()</code></li>\n",
    "        <li>The class <code>__init__()</code> method should process your input string and assign the attribute <code>program</code>, which should be a <b>list</b> of integers</li>\n",
    "        <li>The solution function takes a <strong>single parameter</strong>: the string representing your intcode program. It should return a <strong>single value</strong>, an integer number</li>\n",
    "    </ul>\n",
    "</div>"
   ]
  },
  {
   "cell_type": "code",
   "execution_count": null,
   "id": "e5fa75aa-336f-4694-b258-ca4f70115d05",
   "metadata": {
    "tags": []
   },
   "outputs": [],
   "source": [
    "%%ipytest\n",
    "class Computer:\n",
    "    \"\"\"An Intcode computer class\"\"\"\n",
    "    # Write your class implementation here\n",
    "\n",
    "    \n",
    "def solution_intcode_computer(intcode: str) -> int:\n",
    "    # Write your solution function here\n",
    "    pass"
   ]
  },
  {
   "cell_type": "markdown",
   "id": "09ef6028-b6a6-4f79-a418-bce3e3e3f60f",
   "metadata": {
    "tags": []
   },
   "source": [
    "## The N-body problem 🌶️🌶️🌶️🌶️"
   ]
  },
  {
   "cell_type": "markdown",
   "id": "d35cd1ca-4b05-4b5e-bf13-9b80ce02a0d2",
   "metadata": {},
   "source": [
    "On a boring and rainy Sunday afternoon, you decide that you want to attempt writing a Python program that simulates the orbits of Jupiter's moons. To start with, you decide to focus your efforts on tracking just **four** of the largest moons: Io, Europa, Ganymede, and Callisto.\n",
    "\n",
    "After a brief scan and some careful calculations, you successfully record the **position of each moon in a 3-dimensional space**. You set each moon's velocity to `0` in each direction, and the starting point for their orbits. Your next task is to simulate their motion over time, so you can avoid any potential collisions.\n",
    "\n",
    "You can simulate the motion of the moons in **time steps**. At each time step, first update the **velocity** of evey moon by computing the **gravity interaction** with the other moons. Then, once all the velocities are up to date, you can update the **position** of every moon by applying their velocities. Afterwards, your simulation can advance by one time step.\n",
    "\n",
    "For example, one possible starting configuration of the moons is\n",
    "\n",
    "```\n",
    "Ganymede: x=-1, y=0, z=2\n",
    "Io: x=2, y=-10, z=-7\n",
    "Europa: x=4, y=-8, z=8\n",
    "Callisto: x=3, y=5, z=-1\n",
    "```"
   ]
  },
  {
   "cell_type": "markdown",
   "id": "2ed3e4b8-172e-453c-b911-fc230570e86a",
   "metadata": {},
   "source": [
    "<div class=\"alert alert-block alert-info\">\n",
    "    <h4><b>Hint</b></h4>\n",
    "    Write a Python class called <code>Moon</code> that stores all the properties of a single moon. You should have <b>two lists</b> of integers, one for the positions and one for the velocities.\n",
    "</div>\n"
   ]
  },
  {
   "cell_type": "code",
   "execution_count": null,
   "id": "716d17d3-5b5e-45e6-9fe7-7fda2beb9ca4",
   "metadata": {
    "tags": []
   },
   "outputs": [],
   "source": [
    "class Moon:\n",
    "    \"\"\"A class for a moon\"\"\"\n",
    "    # Write here your implementation here of the Moon class"
   ]
  },
  {
   "cell_type": "markdown",
   "id": "ee0cab09-839e-4a94-a963-f756c458eb37",
   "metadata": {},
   "source": [
    "<div class=\"alert alert-block alert-warning\">\n",
    "    <h4><b>Question</b></h4>\n",
    "    Write a function that returns a list of string, each containing the starting position and velocity of every moon in the system\n",
    "</div>"
   ]
  },
  {
   "cell_type": "markdown",
   "id": "9d85f751-e050-4d23-b294-3d1d20d2d2b6",
   "metadata": {},
   "source": [
    "Each of the strings output by your solution function below should be something like\n",
    "```\n",
    "{moon_name}: x={pos_x} , y={pos_x} , z={pos_x} , vx={v_x} , vy={v_x} , vz={v_x}\n",
    "```\n",
    "\n",
    "where the `{}` contents should be replace with the actual values for **each moon**."
   ]
  },
  {
   "cell_type": "code",
   "execution_count": null,
   "id": "d1ca015c-c681-42fc-a015-9aa7270aa45d",
   "metadata": {
    "tags": []
   },
   "outputs": [],
   "source": [
    "%%ipytest\n",
    "def solution_moons(moons: str) -> list[str]:\n",
    "    # Write your solution here\n",
    "    pass"
   ]
  },
  {
   "cell_type": "markdown",
   "id": "5a39cb3c-eff0-4778-ac24-1bddc34cfeae",
   "metadata": {},
   "source": [
    "---\n",
    "\n",
    "<div class=\"alert alert-block alert-danger\">\n",
    "    <h4><b>Heads-up</b></h4>\n",
    "    Please, proceed with the next part <strong>only</strong> if you completed successfully the first part above.\n",
    "</div>\n",
    "\n",
    "To perform a simulation, proceed as follows:\n",
    "\n",
    "1. Consider every **pair** of moons. On each axis, the velocity changes by **exactly `+1` or `-1`**\n",
    "\n",
    "2. To determine the sign of the velocity change, consider the moons' positions. For example, if `G` stands for Ganymede and `C` for Callisto:\n",
    "\n",
    "    * If `Gx = 3` (the `x` position of Ganymede) and `Cx = 5`, then Ganymede's `x` velocity changes by `+1` (because `5 > 3`), and Callisto's `x` velocity must change by `-1` (because `3 < 5`).\n",
    "    * If the positions on a given axis **are the same**, then the velocity on that axis doesn't change at all.\n",
    "    \n",
    "3. Once the gravity has been calculated and the velocity updated, we should also update the position: simply **add the velocity** of each moon to its current position. For example, if Europa's position is `x=1, y=2, z=3` and its velocity `x=-2, y=0, z=3`, then the new position would be `x=-1, y=2, z=6`."
   ]
  },
  {
   "cell_type": "markdown",
   "id": "2f6d0b93-ce34-4985-aa15-0d90517ce336",
   "metadata": {},
   "source": [
    "To have a complete account of the moons' orbits, you need to compute the **total energy of the system**. The total energy for a single moon is its **potential energy** multiplied by its **kinetic energy**.\n",
    "\n",
    "The energies are defined as follows:\n",
    "\n",
    "- **Kinetic energy**: it's the sum of the **absolute values** of its velocity components.\n",
    "- **Potential energy**: it's the sum of the **absolute values** of its positional coordinates.\n",
    "\n",
    "Considering again the above example as a starting point:\n",
    "\n",
    "```\n",
    "Ganymede: x=-1, y=0, z=2\n",
    "Io: x=2, y=-10, z=-7\n",
    "Europa: x=4, y=-8, z=8\n",
    "Callisto: x=3, y=5, z=-1\n",
    "```\n",
    "\n",
    "After simulating **10 time steps**, the system's configurations is\n",
    "\n",
    "```\n",
    "Ganymede: x= 2, y= 1, z=-3, vx=-3, vy=-2, vz= 1\n",
    "Io: x= 1, y=-8, z= 0, vx=-1, vy= 1, vz= 3\n",
    "Europa: x= 3, y=-6, z= 1, vx= 3, vy= 2, vz=-3\n",
    "Callisto: x= 2, y= 0, z= 4, vx= 1, vy=-1, vz=-1\n",
    "```\n",
    "\n",
    "And therefore the energy:\n",
    "\n",
    "| moon      | potential energy | kinetic     | total     |\n",
    "|-----------|-----------------|-------------|-----------|\n",
    "| Ganymede  | 2 + 1 + 3 = 6    | 3 + 2 + 1 = 6 | 6 * 6 = 36|\n",
    "| Io        | 1 + 8 + 0 = 9    | 1 + 1 + 3 = 5 | 9 * 5 = 45|\n",
    "| Europa    | 3 + 6 + 1 = 10   | 3 + 2 + 3 = 8 | 10 * 8 = 80|\n",
    "| Callisto  | 2 + 0 + 4 = 6    | 1 + 1 + 1 = 3 | 6 * 3 = 18|\n",
    "\n",
    "Sum of total energy: `36 + 45 + 80 + 18 = 179`"
   ]
  },
  {
   "cell_type": "markdown",
   "id": "ccb911c1-625a-45e9-b21d-7057bcc2672e",
   "metadata": {},
   "source": [
    "<div class=\"alert alert-block alert-info\">\n",
    "    <h4><b>Hint</b></h4>\n",
    "    You should create another class called <code>Universe</code> which contains all the moons in your system, and a method <code>evolve()</code> that performs the evolution of a single time step. You should also add a method that computes the total energy.\n",
    "</div>"
   ]
  },
  {
   "cell_type": "code",
   "execution_count": null,
   "id": "3b4c9566-3afd-4f9d-af37-883c6c59435d",
   "metadata": {
    "tags": []
   },
   "outputs": [],
   "source": [
    "class Universe:\n",
    "    \"\"\"A class for a universe\"\"\"\n",
    "    # Write here your implementation here of the Universe class "
   ]
  },
  {
   "cell_type": "markdown",
   "id": "aa08f9f0-cdc9-4a06-83b7-be5ef26d751e",
   "metadata": {},
   "source": [
    "<div class=\"alert alert-block alert-info\">\n",
    "    <h4><b>Hint</b></h4>\n",
    "    Your solution function reads an input string that represent the starting point of the Universe. It's a string like the following:\n",
    "    <pre><code>Ganymede: <span class=\"hljs-attr\">x=-1,</span> <span class=\"hljs-attr\">y=0,</span> <span class=\"hljs-attr\">z=2</span>\n",
    "Io: <span class=\"hljs-attr\">x=2,</span> <span class=\"hljs-attr\">y=-10,</span> <span class=\"hljs-attr\">z=-7</span>\n",
    "Europa: <span class=\"hljs-attr\">x=4,</span> <span class=\"hljs-attr\">y=-8,</span> <span class=\"hljs-attr\">z=8</span>\n",
    "Callisto: <span class=\"hljs-attr\">x=3,</span> <span class=\"hljs-attr\">y=5,</span> <span class=\"hljs-attr\">z=-1</span>\n",
    "</code></pre>\n",
    "</div>"
   ]
  },
  {
   "cell_type": "markdown",
   "id": "17a227ba-6c7a-4df1-b635-1c6f95ef8bc6",
   "metadata": {},
   "source": [
    "<div class=\"alert alert-block alert-warning\">\n",
    "<h4><b>Question</b></h4>\n",
    "    What is the <b>average</b> of the total energy of the system after simulating the universe for <b>1000 time steps</b>?\n",
    "</div>"
   ]
  },
  {
   "cell_type": "code",
   "execution_count": null,
   "id": "1684f844-3382-45ea-ae3e-9429bf03058a",
   "metadata": {
    "tags": []
   },
   "outputs": [],
   "source": [
    "%%ipytest\n",
    "\n",
    "def solution_n_body(universe_start: str) -> int:\n",
    "    # Write your solution here\n",
    "    pass"
   ]
  },
  {
   "cell_type": "code",
   "execution_count": null,
   "id": "21e23134-7fc3-42ce-8024-9f9583abfc9f",
   "metadata": {},
   "outputs": [],
   "source": []
  }
 ],
 "metadata": {
  "kernelspec": {
   "display_name": "Python 3 (ipykernel)",
   "language": "python",
   "name": "python3"
  },
  "language_info": {
   "codemirror_mode": {
    "name": "ipython",
    "version": 3
   },
   "file_extension": ".py",
   "mimetype": "text/x-python",
   "name": "python",
   "nbconvert_exporter": "python",
   "pygments_lexer": "ipython3",
   "version": "3.11.0"
  }
 },
 "nbformat": 4,
 "nbformat_minor": 5
}
