{
 "cells": [
  {
   "cell_type": "markdown",
   "id": "d92307e3-d734-4d08-a8dc-ee8a201c3b6e",
   "metadata": {},
   "source": [
    "# Scipy"
   ]
  },
  {
   "cell_type": "markdown",
   "id": "c9a51b45-de42-4887-9244-f6cc1d74aa0e",
   "metadata": {},
   "source": [
    "## Table of contents\n",
    "\n",
    "- [References](#References)\n",
    "- [Functions are building blocks](#Functions-are-building-blocks)\n",
    "- [Best practices](#Best-practices)\n",
    "- [Anatomy of a function](#Anatomy-of-a-function)\n",
    "    - [Signature](#Signature)\n",
    "        - [Type hints](#Type-hints)\n",
    "    - [Body](#Body)\n",
    "    - [Docstrings](#Docstrings)\n",
    "- [Parameters and arguments](#Parameters-and-arguments)\n",
    "    - [Parameters](#Parameters)\n",
    "    - [Arguments](#Arguments)\n",
    "    - [Positional arguments](#Positional-arguments)\n",
    "    - [Keyword arguments](#Keyword-arguments)\n",
    "    - [Default values](#Default-values)\n",
    "- [How Python executes a function](#How-Python-executes-a-function)\n",
    "- [The scope of a function](#The-scope-of-a-function)\n",
    "- [`*args` and `**kwargs`](#*args-and-**kwargs)\n",
    "- [Exercises](#Exercises)\n",
    "    - [Quiz on functions](#Quiz-on-functions)\n",
    "    - [Longest consecutive sequence 🌶️🌶️](#Longest-consecutive-sequence-🌶️🌶️)\n",
    "      - [Part 2 🌶️🌶️🌶️](#Part-2-🌶️🌶️🌶️)\n",
    "    - [Password validator](#Password-validator)\n",
    "      - [Part 1 🌶️](#Part-1-🌶️)\n",
    "      - [Part 2 🌶️🌶️](#Part-2-🌶️🌶️)\n",
    "    - [Buckets reorganization](#Buckets-reorganization)\n",
    "      - [Part 1 🌶️](#Part-1-🌶️)\n",
    "      - [Part 2 🌶️🌶️](#Part-2-🌶️🌶️)\n"
   ]
  },
  {
   "cell_type": "markdown",
   "id": "3edb3999-85e2-4cd5-bcfa-67693891bf6f",
   "metadata": {
    "tags": []
   },
   "source": [
    "## References"
   ]
  },
  {
   "cell_type": "markdown",
   "id": "ad4e36dc-2e37-41ca-bc4e-48ea24975fe2",
   "metadata": {},
   "source": [
    "Additional material for learning scipy, from the documentation, articles, videos or examples:\n",
    "- The scipy [user guide](https://docs.scipy.org/doc/scipy/tutorial/index.html#user-guide)\n",
    "- A good wikipedia article on [optimization](https://en.wikipedia.org/wiki/Mathematical_optimization)\n"
   ]
  },
  {
   "cell_type": "markdown",
   "id": "00ac8e40-9a6e-4fda-bcd6-ca0b7bb0bfd4",
   "metadata": {},
   "source": [
    "---"
   ]
  },
  {
   "cell_type": "markdown",
   "id": "6787e774-0b23-428a-abe2-b966c1a59047",
   "metadata": {
    "tags": []
   },
   "source": [
    "## Introduction: scipy is a mixed bag\n",
    "\n",
    "Scipy is a python module that provides implementation of many algorithms commonly used in scientific computing. These covers many topics, including:\n",
    "\n",
    "- Optimization\n",
    "- Numerical integration\n",
    "- Linear algebra\n",
    "- Fourier transforms\n",
    "- Spatial data processing\n",
    "- Sparse matrices\n",
    "\n",
    "And many more. \n",
    "Because of the wide variety of algorithms, we will structure this chapter as a series of use cases where the use of scipy would make it easier to solve the problem at hand.\n",
    "If you want to discover more algorithms offered by scipy, please check the [documentation](https://docs.scipy.org/doc/scipy/tutorial/index.html#user-guide).\n",
    "\n",
    "\n",
    "## Pre-requisites\n",
    "\n",
    "Most of the algorithms in scipy operate on (multidimensional) arrays of numerical values. \n",
    "For technical reasons, these arrays aren't implemented with the built-in python list datatype but using [**numpy arrays**](https://numpy.org/doc/stable/user/absolute_beginners.html). \n",
    "\n",
    "These objects offer better memory and computation performance when operating on large arrays as compared to python lists. \n",
    "If you want to understand this chapter in-depth and be able to solve the exercises, we advice you first read the chapter on numpy here.\n",
    "\n"
   ]
  },
  {
   "cell_type": "markdown",
   "id": "d1e43724-68a1-4fdb-a846-dc1c926d3d4a",
   "metadata": {},
   "source": [
    "## 1. Use case: optimization\n",
    "\n",
    "A common problem in the analysis of scientific data is **optimization**.  \n",
    "In this context, we mean a restricted definition, where given a function and a set of data we want to determine the value of one or more parameters in order to minimize the distance between the function and the data.\n",
    "\n",
    "### Minimizing the value of a function\n",
    "Let's see an example to understand what we mean: given a quadratic function `f(x)`, we want to determine the value of `x` that minimizes its value.\n",
    "We start by defining our function `f`:"
   ]
  },
  {
   "cell_type": "code",
   "execution_count": 3,
   "metadata": {},
   "outputs": [],
   "source": [
    "def f(x):\n",
    "    \"\"\"\n",
    "    This is the function we want to minimise\n",
    "    \"\"\"\n",
    "    return x**2 + 4*x + 4 \n"
   ]
  },
  {
   "cell_type": "markdown",
   "metadata": {},
   "source": [
    "Now we plot the function using `matplotlib`, a module for plotting described in another module of our course."
   ]
  },
  {
   "cell_type": "code",
   "execution_count": 4,
   "metadata": {},
   "outputs": [
    {
     "data": {
      "text/plain": [
       "Text(0.5, 1.0, 'Quadratic Function')"
      ]
     },
     "execution_count": 4,
     "metadata": {},
     "output_type": "execute_result"
    },
    {
     "data": {
      "image/png": "[encoded data removed]",
      "text/plain": [
       "<Figure size 640x480 with 1 Axes>"
      ]
     },
     "metadata": {},
     "output_type": "display_data"
    }
   ],
   "source": [
    "import matplotlib.pyplot as plt\n",
    "import numpy as np\n",
    "# Generate x values for plotting\n",
    "x_values = np.linspace(-10, 2, 100)\n",
    "\n",
    "# Plot the quadratic function\n",
    "plt.plot(x_values, f(x_values), label='Quadratic Function')\n",
    "plt.title('Quadratic Function')"
   ]
  },
  {
   "cell_type": "markdown",
   "metadata": {},
   "source": [
    "Visually (and algebraically) we can determine the minimum of this function to be at -2. \n",
    "\n",
    "We now want to determine the minimum of this function **numerically** using the algorithms offered by scipy. \n",
    "Naturally, we would not do this for a quadratic functions, where we can determine the derivatives in a closed form and hence find the exact value of the minimum.\n",
    "However, the quadratic function is just an example, in reality we would often encounter functions that are too complex to handle algebraically or where the derivate does not exist in a closed form. \n",
    "In those cases, we can only determine minima (or solve other optimization problems) using numerical approximation with algorithms like the one scipy offers.\n",
    "\n",
    "Fortunately, scipy offers the `minimize` [function](https://docs.scipy.org/doc/scipy/reference/generated/scipy.optimize.minimize.html), which can directly estimate the minimum of a function of one argument.\n",
    "The function takes the function to minimize as a first argument and an initial guess of the minimum as a second argument.\n",
    "\n",
    "The choice of the initial guess is very important for the success of the minimization: if the function is not **convex**, a wrong choice of initial value will not lead to the true minimum but will result in the algorithm being stuck in a local minimum. \n",
    "It is not the purpose of this course to discuss these topics in-detail, if you need more information please consult a book on numerical methods or on optimization.\n",
    "\n"
   ]
  },
  {
   "cell_type": "code",
   "execution_count": 8,
   "metadata": {},
   "outputs": [
    {
     "name": "stdout",
     "output_type": "stream",
     "text": [
      "  message: Optimization terminated successfully.\n",
      "  success: True\n",
      "   status: 0\n",
      "      fun: 0.0\n",
      "        x: [-2.000e+00]\n",
      "      nit: 2\n",
      "      jac: [ 0.000e+00]\n",
      " hess_inv: [[ 5.000e-01]]\n",
      "     nfev: 6\n",
      "     njev: 3\n"
     ]
    }
   ],
   "source": [
    "from scipy.optimize import minimize\n",
    "initial_guess = 0  # Initial guess for the minimum\n",
    "result = minimize(f, initial_guess)\n",
    "print(result)"
   ]
  },
  {
   "cell_type": "markdown",
   "metadata": {},
   "source": [
    "As you can see from the output, running `minimze` results in an object with several attributes. \n",
    "Of interest for us are primarily the following:\n",
    "\n",
    "- `success` is a boolean flag which is `True` if the algorithm could find a (local) minimum\n",
    "- `fun` is the value of the function at the location of the estimated minimum\n",
    "- `x` is the estimated value of `x` that minimizes the function.\n",
    "\n",
    "In this case, the algorithm correctly found the minimum of `f` at -2."
   ]
  },
  {
   "cell_type": "markdown",
   "metadata": {},
   "source": [
    "### Curve fitting\n",
    "A closely related problem is **curve fitting**; here given a vector of locations $\\mathbf{x} =  \\begin{bmatrix} f(x_1) & f(x_2) & \\ldots & f(x_n) \\end{bmatrix}$, a vector of  observations $\\mathbf{y}$ and a function $f(x, \\mathbf{k})$ of a location and a set of parameters $\\mathbf{k}$  we look for the values of $\\mathbf{k}$ that minimize (usually the Euclidian) distance between the points of the function $f$ evaluated at the locations $\\mathbf{x}$: $f(\\mathbf{x}, \\mathbf{k}) = \\mathbf{\\hat{y}}  = \\begin{bmatrix} f(x_1) & f(x_2) & \\ldots & f(x_n) \\end{bmatrix}$ and the vector of observations $\\mathbf{y}$:\n",
    "\n",
    "$\\underset{\\mathbf{k}}{\\text{min}} \\, \\| f(\\mathbf{x}, \\mathbf{k}) - \\mathbf{y} \\|_2^2$\n",
    "\n",
    "This means that we look for a set of parameters $\\mathbf{k}$ so that the squared differences between the observed values and the values *simulated* by the function are minimized. \n",
    "Curve fitting is useful for example when you have a set of experimental data and you want to use them to determine parameters of a physical model you designed your experiment for.\n",
    "\n",
    "\n",
    "#### 1. Example: determining the gravity acceleration\n",
    "Suppose for example we want to determine the gravitational acceleration $g$ with an experiment.\n",
    "To do so, we time the fall of an object from an height $h$ until it touches the ground.  This results in a measurement $t_f$ (the total fall time). In order to obtain enough data, we repeat the experiment for a set of heights $h$:\n",
    "\n"
   ]
  },
  {
   "cell_type": "markdown",
   "metadata": {},
   "source": [
    "## 2. Use case: spatial data"
   ]
  },
  {
   "cell_type": "markdown",
   "metadata": {},
   "source": [
    "## 3. Use case: linear algebra "
   ]
  },
  {
   "cell_type": "markdown",
   "metadata": {},
   "source": [
    "## 4. Use case: interpolation"
   ]
  },
  {
   "cell_type": "markdown",
   "metadata": {},
   "source": [
    "## 5. Use case: sparse matrices"
   ]
  },
  {
   "cell_type": "markdown",
   "id": "e3c00e1d-44e1-45a6-bf1c-68503cd83b01",
   "metadata": {},
   "source": [
    "<div class=\"alert alert-block alert-info\">\n",
    "    <h4><b>Hint</b></h4> Your solution function takes **only one argument**: a file containing your buckets list. The buckets list is a multi-line string as in the example above. Each line is a single bucket, so you need to split the string on every new line (`\\n`)\n",
    "</div>"
   ]
  },
  {
   "cell_type": "code",
   "execution_count": null,
   "id": "3eea5fd5-fef2-41ef-93fd-541a332cf679",
   "metadata": {
    "tags": []
   },
   "outputs": [],
   "source": [
    "%%ipytest\n",
    "\n",
    "def solution_buckets1(buckets_file: pathlib.Path) -> int:\n",
    "    buckets = buckets_file.read_text()  # do NOT remove this line\n",
    "    # Write your solution here or below this line\n",
    "    pass"
   ]
  },
  {
   "cell_type": "markdown",
   "id": "1085e791-f1df-4fce-89ae-9c169dbf8aa2",
   "metadata": {},
   "source": [
    "### Part 2 🌶️🌶️"
   ]
  },
  {
   "cell_type": "markdown",
   "id": "0b68ba01-1a08-43c5-84b2-e73315ab0f53",
   "metadata": {},
   "source": [
    "You are told that you should not care about the priority of **every item**, but only of a \"special item\" that is common to groups of **three buckets**.\n",
    "\n",
    "Every set of three lines correspond to a single group, and each group can have a different special item – that is, an item with a different letter.\n",
    "\n",
    "Considering once again the above example, in the first three lines:\n",
    "\n",
    "```\n",
    "vJrwpWtwJgWrhcsFMMfFFhFp\n",
    "jqHRNqRjqzjGDLGLrsFMfFZSrLrFZsSL\n",
    "PmmdzqPrVvPwwTWBwg\n",
    "```\n",
    "The only item that appears in **all** three buckets is `r` (priority 18). This must be the \"special item\".\n",
    "\n",
    "If you consider the second group of three, the special item is of type `Z` (priority 52). The sum is `18 + 52 = 70`.\n",
    "\n",
    "<div class=\"alert alert-block alert-warning\">\n",
    "    <h4><b>Question</b></h4> What is the sum of the priorities of <b>all</b> the special items?\n",
    "</div>\n"
   ]
  },
  {
   "cell_type": "code",
   "execution_count": null,
   "id": "5acf6617-1275-42a0-b656-bfa59d33493b",
   "metadata": {},
   "outputs": [],
   "source": [
    "%%ipytest\n",
    "\n",
    "def solution_buckets2(buckets_file: pathlib.Path) -> int:\n",
    "    buckets = buckets_file.read_text()  # do NOT remove this line\n",
    "    # Write your solution below this comment\n",
    "    pass"
   ]
  }
 ],
 "metadata": {
  "kernelspec": {
   "display_name": "Python 3 (ipykernel)",
   "language": "python",
   "name": "python3"
  },
  "language_info": {
   "codemirror_mode": {
    "name": "ipython",
    "version": 3
   },
   "file_extension": ".py",
   "mimetype": "text/x-python",
   "name": "python",
   "nbconvert_exporter": "python",
   "pygments_lexer": "ipython3",
   "version": "3.10.12"
  }
 },
 "nbformat": 4,
 "nbformat_minor": 5
}
