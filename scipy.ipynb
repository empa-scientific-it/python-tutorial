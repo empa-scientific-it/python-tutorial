{
 "cells": [
  {
   "cell_type": "markdown",
   "id": "d92307e3-d734-4d08-a8dc-ee8a201c3b6e",
   "metadata": {},
   "source": [
    "# Scipy"
   ]
  },
  {
   "cell_type": "markdown",
   "id": "c9a51b45-de42-4887-9244-f6cc1d74aa0e",
   "metadata": {},
   "source": [
    "## Table of contents\n",
    "\n",
    "- [References](#References)\n",
    "- [Functions are building blocks](#Functions-are-building-blocks)\n",
    "- [Best practices](#Best-practices)\n",
    "- [Anatomy of a function](#Anatomy-of-a-function)\n",
    "    - [Signature](#Signature)\n",
    "        - [Type hints](#Type-hints)\n",
    "    - [Body](#Body)\n",
    "    - [Docstrings](#Docstrings)\n",
    "- [Parameters and arguments](#Parameters-and-arguments)\n",
    "    - [Parameters](#Parameters)\n",
    "    - [Arguments](#Arguments)\n",
    "    - [Positional arguments](#Positional-arguments)\n",
    "    - [Keyword arguments](#Keyword-arguments)\n",
    "    - [Default values](#Default-values)\n",
    "- [How Python executes a function](#How-Python-executes-a-function)\n",
    "- [The scope of a function](#The-scope-of-a-function)\n",
    "- [`*args` and `**kwargs`](#*args-and-**kwargs)\n",
    "- [Exercises](#Exercises)\n",
    "    - [Quiz on functions](#Quiz-on-functions)\n",
    "    - [Longest consecutive sequence 🌶️🌶️](#Longest-consecutive-sequence-🌶️🌶️)\n",
    "      - [Part 2 🌶️🌶️🌶️](#Part-2-🌶️🌶️🌶️)\n",
    "    - [Password validator](#Password-validator)\n",
    "      - [Part 1 🌶️](#Part-1-🌶️)\n",
    "      - [Part 2 🌶️🌶️](#Part-2-🌶️🌶️)\n",
    "    - [Buckets reorganization](#Buckets-reorganization)\n",
    "      - [Part 1 🌶️](#Part-1-🌶️)\n",
    "      - [Part 2 🌶️🌶️](#Part-2-🌶️🌶️)\n"
   ]
  },
  {
   "cell_type": "markdown",
   "id": "3edb3999-85e2-4cd5-bcfa-67693891bf6f",
   "metadata": {
    "tags": []
   },
   "source": [
    "## References"
   ]
  },
  {
   "cell_type": "markdown",
   "id": "ad4e36dc-2e37-41ca-bc4e-48ea24975fe2",
   "metadata": {},
   "source": [
    "Additional material for learning scipy, from the documentation, articles, videos or examples:\n",
    "- The scipy [user guide](https://docs.scipy.org/doc/scipy/tutorial/index.html#user-guide).\n",
    "- A good wikipedia article on [optimization](https://en.wikipedia.org/wiki/Mathematical_optimization).\n",
    "- The scipy [cookbook](https://scipy-cookbook.readthedocs.io/index.html) with several user-contributed examples of uses for scipy.\n",
    "- A good [video explanation](https://www.youtube.com/watch?v=Glp7THUpGow) of k-d trees\n"
   ]
  },
  {
   "cell_type": "markdown",
   "id": "00ac8e40-9a6e-4fda-bcd6-ca0b7bb0bfd4",
   "metadata": {},
   "source": [
    "---"
   ]
  },
  {
   "cell_type": "markdown",
   "id": "6787e774-0b23-428a-abe2-b966c1a59047",
   "metadata": {
    "tags": []
   },
   "source": [
    "## Introduction: scipy is a mixed bag\n",
    "\n",
    "Scipy is a python module that provides implementation of many algorithms commonly used in scientific computing. These covers many topics, including:\n",
    "\n",
    "- Optimization\n",
    "- Numerical integration\n",
    "- Linear algebra\n",
    "- Fourier transforms\n",
    "- Spatial data processing\n",
    "- Sparse matrices\n",
    "\n",
    "And many more. \n",
    "Because of the wide variety of algorithms, we will structure this chapter as a series of use cases where the use of scipy would make it easier to solve the problem at hand.\n",
    "If you want to discover more algorithms offered by scipy, please check the [documentation](https://docs.scipy.org/doc/scipy/tutorial/index.html#user-guide).\n",
    "\n",
    "\n",
    "## Pre-requisites\n",
    "\n",
    "Most of the algorithms in scipy operate on (multidimensional) arrays of numerical values. \n",
    "For technical reasons, these arrays aren't implemented with the built-in python list datatype but using [**numpy arrays**](https://numpy.org/doc/stable/user/absolute_beginners.html). \n",
    "\n",
    "These objects offer better memory and computation performance when operating on large arrays as compared to python lists. \n",
    "If you want to understand this chapter in-depth and be able to solve the exercises, we advice you first read the chapter on numpy here.\n",
    "\n"
   ]
  },
  {
   "cell_type": "markdown",
   "id": "d1e43724-68a1-4fdb-a846-dc1c926d3d4a",
   "metadata": {},
   "source": [
    "## 1. Use case: optimization\n",
    "\n",
    "A common problem in the analysis of scientific data is **optimization**.  \n",
    "In this context, we mean a restricted definition, where given a function and a set of data we want to determine the value of one or more parameters in order to minimize the distance between the function and the data.\n",
    "\n",
    "### Minimizing the value of a function\n",
    "Let's see an example to understand what we mean: given a quadratic function `f(x)`, we want to determine the value of `x` that minimizes its value.\n",
    "We start by defining our function `f`:"
   ]
  },
  {
   "cell_type": "code",
   "execution_count": null,
   "id": "6d465eed",
   "metadata": {},
   "outputs": [],
   "source": [
    "def f(x):\n",
    "    \"\"\"\n",
    "    This is the function we want to minimise\n",
    "    \"\"\"\n",
    "    return x**2 + 4*x + 4 \n"
   ]
  },
  {
   "cell_type": "markdown",
   "id": "13c30cb0",
   "metadata": {},
   "source": [
    "Now we plot the function using `matplotlib`, a module for plotting described in another module of our course."
   ]
  },
  {
   "cell_type": "code",
   "execution_count": null,
   "id": "773c033e",
   "metadata": {},
   "outputs": [],
   "source": [
    "import matplotlib.pyplot as plt\n",
    "import numpy as np\n",
    "# Generate x values for plotting\n",
    "x_values = np.linspace(-10, 2, 100)\n",
    "\n",
    "# Plot the quadratic function\n",
    "plt.plot(x_values, f(x_values), label='Quadratic Function')\n",
    "plt.title('Quadratic Function')"
   ]
  },
  {
   "cell_type": "markdown",
   "id": "a068cb1d",
   "metadata": {},
   "source": [
    "Visually (and algebraically) we can determine the minimum of this function to be at -2. \n",
    "\n",
    "We now want to determine the minimum of this function **numerically** using the algorithms offered by scipy. \n",
    "Naturally, we would not do this for a quadratic functions, where we can determine the derivatives in a closed form and hence find the exact value of the minimum.\n",
    "However, the quadratic function is just an example, in reality we would often encounter functions that are too complex to handle algebraically or where the derivate does not exist in a closed form. \n",
    "In those cases, we can only determine minima (or solve other optimization problems) using numerical approximation with algorithms like the one scipy offers.\n",
    "\n",
    "Fortunately, scipy offers the `minimize` [function](https://docs.scipy.org/doc/scipy/reference/generated/scipy.optimize.minimize.html), which can directly estimate the minimum of a function of one argument.\n",
    "The function takes the function to minimize as a first argument and an initial guess of the minimum as a second argument.\n",
    "\n",
    "The choice of the initial guess is very important for the success of the minimization: if the function is not **convex**, a wrong choice of initial value will not lead to the true minimum but will result in the algorithm being stuck in a local minimum. \n",
    "It is not the purpose of this course to discuss these topics in-detail, if you need more information please consult a book on numerical methods or on optimization.\n",
    "\n"
   ]
  },
  {
   "cell_type": "code",
   "execution_count": null,
   "id": "1da05563",
   "metadata": {},
   "outputs": [],
   "source": [
    "from scipy.optimize import minimize\n",
    "initial_guess = 0  # Initial guess for the minimum\n",
    "result = minimize(f, initial_guess)\n",
    "print(result)"
   ]
  },
  {
   "cell_type": "markdown",
   "id": "6e6f2efb",
   "metadata": {},
   "source": [
    "As you can see from the output, running `minimze` results in an object with several attributes. \n",
    "Of interest for us are primarily the following:\n",
    "\n",
    "- `success` is a boolean flag which is `True` if the algorithm could find a (local) minimum\n",
    "- `fun` is the value of the function at the location of the estimated minimum\n",
    "- `x` is the estimated value of `x` that minimizes the function.\n",
    "\n",
    "In this case, the algorithm correctly found the minimum of `f` at -2."
   ]
  },
  {
   "cell_type": "markdown",
   "id": "14da283c",
   "metadata": {},
   "source": [
    "### Curve fitting\n",
    "A closely related problem is **curve fitting**; here given a vector of locations $\\mathbf{x} =  \\begin{bmatrix} f(x_1) & f(x_2) & \\ldots & f(x_n) \\end{bmatrix}$, a vector of  observations $\\mathbf{y}$ and a function $f(x, \\mathbf{k})$ of a location and a set of parameters $\\mathbf{k}$  we look for the values of $\\mathbf{k}$ that minimize (usually the Euclidian) distance between the points of the function $f$ evaluated at the locations $\\mathbf{x}$: $f(\\mathbf{x}, \\mathbf{k}) = \\mathbf{\\hat{y}}  = \\begin{bmatrix} f(x_1) & f(x_2) & \\ldots & f(x_n) \\end{bmatrix}$ and the vector of observations $\\mathbf{y}$:\n",
    "\n",
    "$\\underset{\\mathbf{k}}{\\text{min}} \\, \\| f(\\mathbf{x}, \\mathbf{k}) - \\mathbf{y} \\|_2^2$\n",
    "\n",
    "This means that we look for a set of parameters $\\mathbf{k}$ so that the squared differences between the observed values and the values *simulated* by the function are minimized. \n",
    "Curve fitting is useful for example when you have a set of experimental data and you want to use them to determine parameters of a physical model you designed your experiment for.\n",
    "\n",
    "\n",
    "#### 1. Example: determining the gravity acceleration\n",
    "Suppose for example we want to determine the gravitational acceleration $g$ with an experiment.\n",
    "To do so, we time the fall of an object from an height $h$ until it touches the ground.  This results in a measurement $t_f$ (the total fall time). In order to obtain enough data, we repeat the experiment for a set of heights $h$.\n",
    "\n",
    "This defines the following relationship:\n",
    "\n",
    "$h(t, g) = 1/2 * g t^2$\n",
    "\n",
    "Because we measure $t$ and vary $h$, we express the problem as:\n",
    "\n",
    "$t(h, g) = \\sqrt{2 h / g}$\n",
    "\n",
    "Since we can't perform the experiment ourselves, let's first define a function `simulate_fall` to generate the fall time as a function of $h$:\n"
   ]
  },
  {
   "cell_type": "code",
   "execution_count": null,
   "id": "7e353b31",
   "metadata": {},
   "outputs": [],
   "source": [
    "from numpy.typing import ArrayLike\n",
    "from numpy.random import randn\n",
    "def simulate_fall(h: ArrayLike) -> ArrayLike:\n",
    "    \"\"\"\n",
    "    Simulate the fall of an object from a height h\n",
    "    \"\"\"\n",
    "    g = 9.81  # Acceleration due to gravity\n",
    "    return np.sqrt(2 * h / g) + 1e-3 * randn(len(h))\n",
    "\n",
    "\n"
   ]
  },
  {
   "cell_type": "markdown",
   "id": "5296c58b",
   "metadata": {},
   "source": [
    "Notice that we add a random number sampled from a Gaussian distribution with zero mean and standard deviation of 1e-4 seconds to the simulated values. \n",
    "We do this to make the measurement more realistic by simulating the effect of measurement noise and imprecisions.\n",
    "Now we generate 20 fall experiments with heights equally spaced between 0 and 1 m and plot the graph of times against the starting height. \n",
    "To make our experiment more statistically representative, we repeat it three times\n"
   ]
  },
  {
   "cell_type": "code",
   "execution_count": null,
   "id": "3496fa41",
   "metadata": {},
   "outputs": [],
   "source": [
    "n_rep = 4\n",
    "height_steps = np.linspace(0, 1, 20)\n",
    "heights = height_steps.repeat(n_rep)\n",
    "fall_times = simulate_fall(heights)\n",
    "\n",
    "\n",
    "# Plot the fall times against the heights\n",
    "fig, ax = plt.subplots()\n",
    "ax.scatter(heights, fall_times, label='Simulated fall times', s=2)\n",
    "ax.set_xlabel('Height (m)')\n",
    "ax.set_ylabel('Fall time (s)')\n",
    "ax.set_title('Simulated fall times against height')\n",
    "ax.legend()"
   ]
  },
  {
   "cell_type": "markdown",
   "id": "f73c6797",
   "metadata": {},
   "source": [
    "At this point we have all the data we need for estimating $g$ from our measurements. \n",
    "In this case, the array `fall_times` plays the role of $\\mathbf{y}$ and the array `heights` corresponds to $\\mathbf{x}$.\n",
    "We can use the function [`scipy.optimize.curve_fit`](https://docs.scipy.org/doc/scipy/reference/generated/scipy.optimize.curve_fit.html#scipy.optimize.curve_fit) to solve these types of problems.\n",
    "The function  takes the following arguments:\n",
    "\n",
    "- `f`, the function to fit. Its first argument must be `x`, the other arguments correspond to the curve parameters in order of listing\n",
    "- `xdata` corresponds to the vector $x$\n",
    "- `ydata` corresponds to the vector $y$\n",
    "\n",
    "\n",
    "Following this, let's define our function to fit, `f`"
   ]
  },
  {
   "cell_type": "code",
   "execution_count": null,
   "id": "9989e4f8",
   "metadata": {},
   "outputs": [],
   "source": [
    "def f(h: ArrayLike, g: float) -> ArrayLike:\n",
    "    return np.sqrt(2 * h / g)\n",
    "\n"
   ]
  },
  {
   "cell_type": "markdown",
   "id": "35a674d5",
   "metadata": {},
   "source": [
    "Now we can call the function:\n"
   ]
  },
  {
   "cell_type": "code",
   "execution_count": null,
   "id": "1b0739ce",
   "metadata": {},
   "outputs": [],
   "source": [
    "from scipy.optimize import curve_fit\n",
    "\n",
    "# Fit the function to the data\n",
    "g_est, pcov = curve_fit(f, heights, fall_times)\n",
    "print(g_est)\n"
   ]
  },
  {
   "cell_type": "markdown",
   "id": "ebf435ad",
   "metadata": {},
   "source": [
    "Success! As you can see, the estimated value of $g$ is quite close to the real value. The discrepancy is in the order of magnitude of the standard deviation of the noise we add to the simulated measurements.\n",
    "\n",
    "We can now plot the fitted curve and superimpose it to the \"measurements\":"
   ]
  },
  {
   "cell_type": "code",
   "execution_count": null,
   "id": "cea0f0a7",
   "metadata": {},
   "outputs": [],
   "source": [
    "# Plot the fall times against the heights\n",
    "estimated_fall_times = f(heights, g_est[0])\n",
    "fig, ax = plt.subplots()\n",
    "ax.scatter(heights, fall_times, s=2, label='Simulated fall times')\n",
    "ax.plot(heights, estimated_fall_times, label='Estimated fall times', color='orange')\n",
    "ax.set_xlabel('Height (m)')\n",
    "ax.set_ylabel('Fall time (s)')\n",
    "ax.legend()\n"
   ]
  },
  {
   "cell_type": "markdown",
   "id": "2407da7c",
   "metadata": {},
   "source": [
    "You can see that the curve with the estimated fall times given the estimated $g$ tracks the \"measurements\" very well.\n",
    "With this example, we conclude the first use case."
   ]
  },
  {
   "cell_type": "markdown",
   "id": "29bc762e",
   "metadata": {},
   "source": [
    "## 2. Use case: spatial data\n",
    "Another place where scipy shines is the processing of **spatial data**. \n",
    "This rather generic terms is used to describe data on a plane that represent the locations and shapes of objects, for example maps.\n",
    "Scipy offers some useful functions to perform basic processing on this data, although for more complex cases there are specific libraries to manipulate and process geospatial data such as [GDAL](https://gdal.org/) that support advanced features like conversion between different geographical coordinate systems, conversion of file format and much more.\n",
    "\n",
    "### 1. Example: nearest neighbor search\n",
    "This use case is inspired by a real question a researcher at Empa asked us. \n",
    "They approached us for help in analyzing microscopy imaging: they wanted to determine the distribution of the relative orientation angle of bacteria as a function of their distance. This means performing the following steps:\n",
    "\n",
    "1. Segment an image and extract the outline of each bacteria. \n",
    "2. From the outline, we can estimate the direction of the bacteria with respect to the image axis as well as the center point of the bacteria\n",
    "3. For each bacteria, iterate over all other bacteria forming pairs (bacteria1, bacteria2)\n",
    "4. For each pair (bacteria1, bacteria2) compute the relative orientation and the distance and store it\n",
    "\n",
    "\n",
    "The user quickly realized that for a large number of cells in an image this algorithm becomes prohibitively slow to compute. \n",
    "Because we perform a pairwise comparison of points, the time (the number of steps) needed to compute the the relative distances and orientations grows with the square of the number of cells. \n",
    "However, the user knew that they didn't want to compute **all** distances and orientations but just those **smaller than a certain threshold**.\n",
    "Thanks to this knowledge and the use of scipy, we could find a method to make their computation much faster.\n",
    "\n",
    "To do this, we used a special data structure called a [**k-d Tree**](https://en.wikipedia.org/wiki/K-d_tree); this data structure represents a set of k-dimensional points as a tree where each node of the tree splits the space in exactly two halves along one of the coordinates. Thanks to this property, we can very quickly find the nearest points to a given point because at every step in the tree we directly eliminate half of the space to search in. For a better visualization of this idea, please check this [video](https://www.youtube.com/watch?v=Glp7THUpGow).\n",
    "\n",
    "\n",
    "Let's see how to use this structure with a simplified example. \n",
    "To begin with, we create a set of points in the plane, to each of the point we attach a number between 0 and $2\\pi$ that represent the orientation of the bacteria with respect to the coordinate system.\n",
    "\n",
    "\n"
   ]
  },
  {
   "cell_type": "code",
   "execution_count": null,
   "id": "c3ff5b92",
   "metadata": {},
   "outputs": [],
   "source": [
    "from numpy.typing import ArrayLike\n",
    "import matplotlib.pyplot as plt\n",
    "import gstools as gs\n",
    "\n",
    "def generate_random_field(n: int) -> ArrayLike:\n",
    "    # structured field with a size 100x100 and a grid-size of 1x1\n",
    "    x = y = range(100)\n",
    "    model = gs.Gaussian(dim=2, var=1, len_scale=10)\n",
    "    srf = gs.SRF(model)\n",
    "    srf((x, y), mesh_type='structured')\n",
    "    \n",
    "   \n",
    "generate_random_field(1)"
   ]
  },
  {
   "cell_type": "markdown",
   "id": "1d180f1a",
   "metadata": {},
   "source": [
    "\n",
    "\n",
    "### 2. Example: triangulation\n",
    "Another example of the use of scipy for spatial data comes from the experience of one of us (S. Baffelli). In my past experience as a postdoctoral researcher, I was trying to design an atmospheric sensor network for $CO_2$ observation. The sensors were supposed to be installed at cell sites provided by Swisscom, one of the major Swiss telecom providers. While Swisscom had more than 60 sites in Zürich, only around 20 sensors were available. The goal was then to select cell sites in order to obtain a spatially uniform coverage of the city with sensors.\n",
    "In other words, the task was as follows:\n",
    "\n",
    "- Given a list of $n$ coordinates $(x, y)$, select $k$ points out of $n$ so that the area covered by each sensor is balanced: we don't want large gaps in coverage and we don't want some sensors to cover too big of an area.\n",
    "- \n",
    "\n",
    "To do so, we want to satisfy the **max-min coverage conditions**:\n",
    "*maximize the minimum coverage of the sensors over the area of interest*\n",
    "\n",
    "More precisely:\n",
    "\n",
    "- let the variable $x_i$ be a binary variable with $x_i = 1$ if we select the i-th site and $x_i=0$ if the site is not selected. \n",
    "\n",
    "Our goal is to find an assignment vector $\\hat{\\mathbf{x}}$ that satisfies the following conditions\n",
    "\n",
    "\n",
    "- **Maximize the coverage**: $\\text{max}~\\underset{\\mathbf{i}}{\\text{min}} \\, C_i$, where $C_i$ is the coverage of the $i$-th assignment\n",
    "- **Satisfy**: $\\sum\\limits_{i=0}^{k-1}x_i = k$: we can only assign $k$ sites out of $n$\n",
    "\n"
   ]
  },
  {
   "cell_type": "code",
   "execution_count": null,
   "id": "8fe89922",
   "metadata": {},
   "outputs": [],
   "source": [
    "import numpy as np\n",
    "import matplotlib.pyplot as plt\n",
    "from scipy.spatial import Voronoi, voronoi_plot_2d\n",
    "from numpy.typing import ArrayLike\n",
    "\n",
    "def generate_points(n, seed=None) -> ArrayLike:\n",
    "    \"\"\"Generate n random points within a unit square.\"\"\"\n",
    "    np.random.seed(seed)\n",
    "    points = np.random.rand(n, 2)\n",
    "    return points\n",
    "\n",
    "def compute_coverage_areas(points, selected_indices):\n",
    "    \"\"\"Compute the coverage areas for selected sensors.\"\"\"\n",
    "    selected_points = points[selected_indices, :]\n",
    "    vor = Voronoi(selected_points)\n",
    "    areas = []\n",
    "\n",
    "    for region_index in vor.regions:\n",
    "        if -1 not in region_index and len(region_index) > 0:\n",
    "            polygon = vor.vertices[region_index]\n",
    "            area = 0.5 * np.abs(np.dot(polygon[:, 0], np.roll(polygon[:, 1], 1)) - np.dot(polygon[:, 1], np.roll(polygon[:, 0], 1)))\n",
    "            areas.append(area)\n",
    "\n",
    "    return np.array(areas)\n",
    "\n",
    "def constraint_satisfaction(selected_indices, k):\n",
    "    \"\"\"Estimate the satisfaction of the constraint (k sensors selected).\"\"\"\n",
    "    return len(selected_indices) == k\n",
    "\n",
    "def cost_function(points: ArrayLike, selected_indices: ArrayLike) -> float:\n",
    "    print(selected_indices)\n",
    "    int_indices = [int(i) for i in selected_indices]\n",
    "    \"\"\"Estimate the cost function based on the sum of squared coverage areas.\"\"\"\n",
    "    areas = compute_coverage_areas(points, int_indices)\n",
    "    #Penalise the cost function if the constraint is not satisfied\n",
    "    return np.sum(np.square(areas)) + constraint_satisfaction(int_indices, k=5) * 1e6\n",
    "\n",
    "\n",
    "\n",
    "def display_points(points, selected_points=None):\n",
    "    \"\"\"Display the points and optionally highlight selected points.\"\"\"\n",
    "    plt.figure(figsize=(8, 8))\n",
    "    \n",
    "    # Plot all points\n",
    "    plt.scatter(points[:, 0], points[:, 1], c='blue', label='All Points')\n",
    "    \n",
    "    # Highlight selected points if provided\n",
    "    if selected_points is not None:\n",
    "        selected_points = np.array(selected_points)\n",
    "        plt.scatter(selected_points[:, 0], selected_points[:, 1], c='red', label='Selected Points')\n",
    "    \n",
    "    plt.title('Sensor Network Design')\n",
    "    plt.xlabel('X-axis')\n",
    "    plt.ylabel('Y-axis')\n",
    "    plt.legend()\n",
    "    plt.grid(True)\n",
    "    plt.show()\n",
    "\n",
    "\n",
    "def get_areas(points: ArrayLike) -> ArrayLike:\n",
    "    \"\"\"Get a list of areas for each point.\"\"\"\n",
    "    vor = Voronoi(points)\n",
    "    areas = []\n",
    "\n",
    "    for region_index in vor.regions:\n",
    "        if -1 not in region_index and len(region_index) > 0:\n",
    "            polygon = vor.vertices[region_index]\n",
    "            area = 0.5 * np.abs(np.dot(polygon[:, 0], np.roll(polygon[:, 1], 1)) - np.dot(polygon[:, 1], np.roll(polygon[:, 0], 1)))\n",
    "            areas.append(area)\n",
    "\n",
    "    return np.array(areas)\n",
    "\n",
    "def estimate_solution(points: ArrayLike, k: int) -> list[int]:\n",
    "    \"\"\"Estimate the solution to the sensor network design problem.\"\"\"\n",
    "    # Select some initial points\n",
    "    initial_guess = np.random.choice(len(points), k, replace=False)\n",
    "    areas = get_areas(points[initial_guess, :])\n",
    "    cost = cost_function(points, initial_guess)\n",
    "    print(f\"The initial guess is {initial_guess} with cost {cost}\")\n",
    "n_points = 20\n",
    "points = generate_points(n_points, seed=42)\n",
    "estimate_solution(points, k=5)  \n"
   ]
  },
  {
   "cell_type": "markdown",
   "id": "b29b1a31",
   "metadata": {},
   "source": [
    "## 3. Use case: linear algebra \n",
    "Another typical use case for scipy is **linear algebra**. \n",
    "Here we don't cover all the basics of linear algebra and we don't try to be exhaustive in our coverage;  instead we will show an example that is commonly encountered in a similar form by many scientists: solving a system of linear equations.\n",
    "\n",
    "### Example: solving a simple linear system\n",
    "Consider the system of two linear equations:\n",
    "\n",
    "$$\n",
    "\\begin{align*}\n",
    "2x + y &= 5 \\\\\n",
    "-4x + 6y &= 2\n",
    "\\end{align*}\n",
    "$$\n",
    "\n",
    "As we learn in linear algebra, we can express these system as a matrix-vector product:\n",
    "\n",
    "$\\mathbf{A}\\mathbf{x} = \\mathbf{b}$\n",
    "\n",
    "Where:\n",
    "$$\n",
    "\\mathbf{A} = \\begin{bmatrix} 2 & 1 \\\\ -4 & 6 \\end{bmatrix}, \\quad\n",
    "\\mathbf{x} = \\begin{bmatrix} x \\\\ y \\end{bmatrix}, \\quad\n",
    "\\mathbf{b} = \\begin{bmatrix} 5 \\\\ 2 \\end{bmatrix}\n",
    "$$\n",
    "\n",
    "we know that we can solve this system by Gaussian elimination. \n",
    "This would be fine for such a small system, however as the number of equations grow, the time it takes to manipulate the matrix $\\mathbf{A}$ makes it impossible for a person to find a solution manually.\n",
    "Fortunately, Gaussian elimination is a well-known algorithm and efficient implementations are available for most programming languages. \n",
    "One such implementation can be accessed by using [`scipy.lingalg.solve`](https://docs.scipy.org/doc/scipy/reference/generated/scipy.linalg.solve.html).\n",
    "We now try to solve the system using this function; as a first step we need to express the various matrices and vectors as numpy arrays.\n"
   ]
  },
  {
   "cell_type": "code",
   "execution_count": null,
   "id": "75882633",
   "metadata": {},
   "outputs": [],
   "source": [
    "import numpy as np\n",
    "import scipy.linalg\n",
    "A = np.array([[2, 1], [4, 6]])\n",
    "b = np.array([5 ,2])\n",
    "x_hat = scipy.linalg.solve(A, b)\n",
    "print(f\"The solution is {x}\")"
   ]
  },
  {
   "cell_type": "markdown",
   "id": "b251d168",
   "metadata": {},
   "source": [
    "We now can verify if the solution is correct by computing $\\mathbf{A}\\hat{\\mathbf{x}}$, where $\\hat{\\mathbf{x}}$ is the solution obtained using `solve`. \n",
    "When we use numpy arrays, we use the `@` operator to express the matrix-vector product:"
   ]
  },
  {
   "cell_type": "code",
   "execution_count": null,
   "id": "b9c6cd43",
   "metadata": {},
   "outputs": [],
   "source": [
    "A @ x_hat"
   ]
  },
  {
   "cell_type": "markdown",
   "id": "d569a7bc",
   "metadata": {},
   "source": [
    "Indeed, we obtain the vector that (visually) looks like $\\mathbf{b}$.\n",
    "To verify if indeed the solutions are close, we can look at the distance between $\\mathbf{A}\\hat{\\mathbf{x}}$ und $\\mathbf{b}$ using the `scipy.linalg.norm` function:"
   ]
  },
  {
   "cell_type": "code",
   "execution_count": null,
   "id": "ea5bc387",
   "metadata": {},
   "outputs": [],
   "source": [
    "scipy.linalg.norm(A @ x_hat - b)"
   ]
  },
  {
   "cell_type": "markdown",
   "id": "caf9f5bd",
   "metadata": {},
   "source": [
    "## 4. Use case: interpolation"
   ]
  },
  {
   "cell_type": "markdown",
   "id": "2d9521b3",
   "metadata": {},
   "source": [
    "## 5. Use case: sparse matrices"
   ]
  },
  {
   "cell_type": "markdown",
   "id": "e3c00e1d-44e1-45a6-bf1c-68503cd83b01",
   "metadata": {},
   "source": [
    "<div class=\"alert alert-block alert-info\">\n",
    "    <h4><b>Hint</b></h4> Your solution function takes **only one argument**: a file containing your buckets list. The buckets list is a multi-line string as in the example above. Each line is a single bucket, so you need to split the string on every new line (`\\n`)\n",
    "</div>"
   ]
  },
  {
   "cell_type": "code",
   "execution_count": null,
   "id": "3eea5fd5-fef2-41ef-93fd-541a332cf679",
   "metadata": {
    "tags": []
   },
   "outputs": [],
   "source": [
    "%%ipytest\n",
    "\n",
    "def solution_buckets1(buckets_file: pathlib.Path) -> int:\n",
    "    buckets = buckets_file.read_text()  # do NOT remove this line\n",
    "    # Write your solution here or below this line\n",
    "    pass"
   ]
  }
 ],
 "metadata": {
  "kernelspec": {
   "display_name": "Python 3 (ipykernel)",
   "language": "python",
   "name": "python3"
  },
  "language_info": {
   "codemirror_mode": {
    "name": "ipython",
    "version": 3
   },
   "file_extension": ".py",
   "mimetype": "text/x-python",
   "name": "python",
   "nbconvert_exporter": "python",
   "pygments_lexer": "ipython3",
   "version": "3.10.13"
  }
 },
 "nbformat": 4,
 "nbformat_minor": 5
}
