{
 "cells": [
  {
   "attachments": {},
   "cell_type": "markdown",
   "metadata": {},
   "source": [
    "# Index\n",
    "\n",
    "- [Intro](./intro.ipynb)\n",
    "- [Basic datatypes](./basic_datatypes.ipynb)\n",
    "- [Control Flow](./control_flow.ipynb)\n",
    "- [Functions](./functions.ipynb)\n",
    "- [Input-Output](./input_output.ipynb)\n",
    "- [Functional programming](./functional_programming.ipynb)\n",
    "- [Object-oriented programming](./object_oriented_programming.ipynb)\n",
    "- [Modules and packages](./modules_and_packages.ipynb)"
   ]
  }
 ],
 "metadata": {
  "kernelspec": {
   "display_name": "Python 3 (ipykernel)",
   "language": "python",
   "name": "python3"
  },
  "language_info": {
   "codemirror_mode": {
    "name": "ipython",
    "version": 3
   },
   "file_extension": ".py",
   "mimetype": "text/x-python",
   "name": "python",
   "nbconvert_exporter": "python",
   "pygments_lexer": "ipython3",
   "version": "3.11.1"
  }
 },
 "nbformat": 4,
 "nbformat_minor": 4
}
