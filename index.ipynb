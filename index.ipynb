{
 "cells": [
  {
   "cell_type": "markdown",
   "metadata": {},
   "source": [
    "# Basic Tutorial\n",
    "\n",
    "- [Introduction to the tutorial](./intro.ipynb)\n",
    "- [Basic datatypes](./basic_datatypes.ipynb)\n",
    "- [Control Flow](./control_flow.ipynb)\n",
    "- [Functions](./functions.ipynb)\n",
    "- [Input-Output](./input_output.ipynb)\n",
    "- [Functional programming](./functional_programming.ipynb)\n",
    "- [Object-oriented programming](./object_oriented_programming.ipynb)\n",
    "- [Modules and packages](./modules_and_packages.ipynb)\n",
    "\n",
    "# Advanced tutorial\n",
    "\n",
    "- [Manage Python project](./manage_python_project.ipynb)\n",
    "- [Advanced functions](./functions_advanced.ipynb)\n",
    "- [Advanced Object-oriented programming](./object_oriented_programming_advanced.ipynb)\n",
    "- [Parallelism and concurrency in Python](./threads.ipynb)\n",
    "\n",
    "# Libraries\n",
    "\n",
    "- [Matplotlib](./library_matplotlib.ipynb)\n",
    "- [NumPy](./library_numpy.ipynb)\n",
    "- [scikit-learn](./library_sklearn.ipynb)\n",
    "- [SciPy](./library_scipy.ipynb)"
   ]
  }
 ],
 "metadata": {
  "kernelspec": {
   "display_name": "Python 3 (ipykernel)",
   "language": "python",
   "name": "python3"
  },
  "language_info": {
   "codemirror_mode": {
    "name": "ipython",
    "version": 3
   },
   "file_extension": ".py",
   "mimetype": "text/x-python",
   "name": "python",
   "nbconvert_exporter": "python",
   "pygments_lexer": "ipython3",
   "version": "3.11.1"
  }
 },
 "nbformat": 4,
 "nbformat_minor": 4
}
