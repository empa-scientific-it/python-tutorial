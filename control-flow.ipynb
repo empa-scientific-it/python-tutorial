{
 "cells": [
  {
   "cell_type": "markdown",
   "id": "7b94b1cb-e169-46b4-a002-ca28fcc86401",
   "metadata": {},
   "source": [
    "# Control flow"
   ]
  },
  {
   "cell_type": "markdown",
   "id": "5e5bb08a-2045-411b-8792-8cb255e9f066",
   "metadata": {},
   "source": [
    "## References"
   ]
  },
  {
   "cell_type": "markdown",
   "id": "d79e417f-e04a-4f44-a2da-0759a5f845cf",
   "metadata": {},
   "source": [
    "Links"
   ]
  },
  {
   "cell_type": "markdown",
   "id": "74f5fff2-1321-49c3-aaa5-0151bb87fced",
   "metadata": {},
   "source": [
    "## Conditionals: `if`, `elif`, `else`"
   ]
  },
  {
   "cell_type": "markdown",
   "id": "086bd853-ed18-4d16-8a34-44675faa860c",
   "metadata": {},
   "source": [
    "## The `while` loop"
   ]
  },
  {
   "cell_type": "markdown",
   "id": "e65e1c2d-5835-4e30-bfc5-3a3dbe489350",
   "metadata": {},
   "source": [
    "## Altering loops with `break` and `continue`"
   ]
  },
  {
   "cell_type": "markdown",
   "id": "542fdbf1-d9e5-4f71-baac-e66899c99292",
   "metadata": {},
   "source": [
    "## The `try...except` block"
   ]
  },
  {
   "cell_type": "markdown",
   "id": "96aaf8c7-3c4b-4547-8f62-cf49f840159b",
   "metadata": {},
   "source": [
    "## The `for` loop"
   ]
  },
  {
   "cell_type": "markdown",
   "id": "2b2eac3c-c83d-482b-975b-7b7787206310",
   "metadata": {},
   "source": [
    "In Python, an **iterable** is an **object** capable of returning its members one at a time. It's not stricly a \"container\" or a \"collection\", like lists or tuples. It's an object with this particular property. We can also create custom objects that can become iterable.\n",
    "\n",
    "Many objects in Python are iterable: lists, strings, `range()` objects, file objects and many more.\n",
    "\n",
    "The main purpose of the `for` keyword is to access all the elements of an iterable."
   ]
  },
  {
   "cell_type": "markdown",
   "id": "fd11a026-1d83-437c-8a41-263ed76ed764",
   "metadata": {},
   "source": [
    "In other languages (C++, Java or JavaScript), a `for` loop is more similar to `while` in Python. For example, the C++ loop\n",
    "\n",
    "```cpp\n",
    "for (unsigned int i = 0; i < 10; ++i) {\n",
    "    std::cout << i << std::endl;\n",
    "}\n",
    "```\n",
    "\n",
    "could be translated to Python with\n",
    "\n",
    "```python\n",
    "i = 0\n",
    "while i < 10:\n",
    "    print(i)\n",
    "    i += 1 # remember: Python does not have the prefix/postfix increment (++) operator\n",
    "```\n",
    "\n",
    "The only substantial difference with the C++ code is that the looping variable `i` is automatically discarded when the loop is over. In Python, `i` will retain the **last value** that was assigned inside the `while` body. We could do something like `i = None`, but it turns out that's not necessary.\n"
   ]
  },
  {
   "cell_type": "code",
   "execution_count": null,
   "id": "4d67b887-c108-4857-965e-567f93c930a3",
   "metadata": {},
   "outputs": [],
   "source": []
  }
 ],
 "metadata": {
  "jupytext": {
   "formats": "ipynb,md"
  },
  "kernelspec": {
   "display_name": "Python 3 (ipykernel)",
   "language": "python",
   "name": "python3"
  },
  "language_info": {
   "codemirror_mode": {
    "name": "ipython",
    "version": 3
   },
   "file_extension": ".py",
   "mimetype": "text/x-python",
   "name": "python",
   "nbconvert_exporter": "python",
   "pygments_lexer": "ipython3",
   "version": "3.11.0"
  }
 },
 "nbformat": 4,
 "nbformat_minor": 5
}
