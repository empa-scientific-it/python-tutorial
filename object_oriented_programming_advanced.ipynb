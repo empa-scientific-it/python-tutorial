{
 "cells": [
  {
   "cell_type": "markdown",
   "id": "6805e1bf-0da6-4ee5-9a1a-a2c2cd56fa9f",
   "metadata": {},
   "source": [
    "# Advanced Object-oriented Programming"
   ]
  },
  {
   "cell_type": "markdown",
   "id": "d8056761-eb32-476c-91e3-63f3a8ed738f",
   "metadata": {},
   "source": [
    "## Table of contents"
   ]
  },
  {
   "cell_type": "markdown",
   "id": "0225c10a",
   "metadata": {},
   "source": []
  },
  {
   "cell_type": "markdown",
   "id": "c7bce9ed-50a7-45e2-a741-799ec2a8d8c0",
   "metadata": {},
   "source": [
    "## References"
   ]
  },
  {
   "cell_type": "markdown",
   "id": "8b4a8b3a",
   "metadata": {},
   "source": [
    "- [super()](https://docs.python.org/3/library/functions.html#super)\n",
    "- [dataclasses](https://docs.python.org/3/library/dataclasses.html)\n",
    "- [attrs](https://www.attrs.org/en/stable/index.htmlhttps://www.attrs.org/en/stable/index.html)"
   ]
  },
  {
   "cell_type": "markdown",
   "id": "3de88ef0",
   "metadata": {},
   "source": [
    "## Inheritance\n",
    "\n",
    "Inheritance is a fundamental concept in object-oriented programming (OOP).\n",
    "It allows you to create a hierarchy of classes with shared behaviors and attributes."
   ]
  },
  {
   "cell_type": "markdown",
   "id": "c25313f3",
   "metadata": {},
   "source": [
    "### Single Inheritance\n",
    "Inheritance is a mechanism in OOP that allows you to create a new class by inheriting the properties and methods of an existing class.\n",
    "\n",
    "The existing class is called the **base class** or **parent class**, and the new class is referred to as the **derived class** or **child class**. \n",
    "\n",
    "The derived class inherits all the attributes and methods of the base class.\n",
    "It can also override or extend those inherited methods."
   ]
  },
  {
   "cell_type": "markdown",
   "id": "5ba23da2",
   "metadata": {},
   "source": [
    "Let's create a simple example in Python.\n",
    "We first define the base class `Animal`:"
   ]
  },
  {
   "cell_type": "code",
   "execution_count": null,
   "id": "629b2cab",
   "metadata": {},
   "outputs": [],
   "source": [
    "class Animal:\n",
    "    def __init__(self, name):\n",
    "        self.name = name\n",
    "\n",
    "    def speak(self):\n",
    "        print(f\"{self.name} makes a sound\")"
   ]
  },
  {
   "cell_type": "markdown",
   "id": "37e41742",
   "metadata": {},
   "source": [
    "From your base class, you can define as many derived classes as you'd like.\n",
    "Simply pass the parent class name as a **parameter** in the child class definition.\n",
    "\n",
    "Here, we create two classes that inherit from `Animal`, namely `Dog` and `Cat`.\n",
    "\n",
    "Both derived classes **override** the generic `speak` method with a specific sound for each animal.\n",
    "\n",
    "They also **extend** the `Animal` class individually, with the `fetch` and `chase` functions, which are animal specific."
   ]
  },
  {
   "cell_type": "code",
   "execution_count": null,
   "id": "91d86d83",
   "metadata": {},
   "outputs": [],
   "source": [
    "class Dog(Animal):\n",
    "    def speak(self):\n",
    "        print(f\"{self.name} says Woof!\")\n",
    "\n",
    "    def fetch(self, item):\n",
    "        print(f\"{self.name} fetches the {item}!\")\n",
    "\n",
    "\n",
    "class Cat(Animal):\n",
    "    def speak(self):\n",
    "        print(f\"{self.name} says Meow!\")\n",
    "\n",
    "    def chase(self, target):\n",
    "        print(f\"{self.name} chases the {target}!\")"
   ]
  },
  {
   "cell_type": "markdown",
   "id": "b5a44c1f",
   "metadata": {},
   "source": [
    "Now we can create instances of `Dog` and `Cat`: "
   ]
  },
  {
   "cell_type": "code",
   "execution_count": null,
   "id": "1e5814dd",
   "metadata": {},
   "outputs": [],
   "source": [
    "dog = Dog(\"Rex\")\n",
    "cat = Cat(\"Luna\")"
   ]
  },
  {
   "cell_type": "markdown",
   "id": "b60cf7e6",
   "metadata": {},
   "source": [
    "Let's see what happens when you call each instance's methods:"
   ]
  },
  {
   "cell_type": "code",
   "execution_count": null,
   "id": "e44f6aa5",
   "metadata": {},
   "outputs": [],
   "source": [
    "dog.speak()\n",
    "dog.fetch(\"ball\")"
   ]
  },
  {
   "cell_type": "code",
   "execution_count": null,
   "id": "d671e086",
   "metadata": {},
   "outputs": [],
   "source": [
    "cat.speak()\n",
    "cat.chase(\"mouse\")"
   ]
  },
  {
   "cell_type": "markdown",
   "id": "03874772",
   "metadata": {},
   "source": [
    "Of course, you can always use the base class `Animal` **as is**.\n",
    "However, in this example it doesn't do much."
   ]
  },
  {
   "cell_type": "code",
   "execution_count": null,
   "id": "f19e1bd1",
   "metadata": {},
   "outputs": [],
   "source": [
    "bird = Animal(\"Bird\")\n",
    "bird.speak()"
   ]
  },
  {
   "cell_type": "markdown",
   "id": "c3fe1147",
   "metadata": {},
   "source": [
    "### Multiple Inheritance\n",
    "\n",
    "It is also possible for a class to be derived from **more than one base classes** in Python.\n",
    "This is called multiple inheritance.\n",
    "\n",
    "Let's see the example of a very famous dog who also happens to be a detective:"
   ]
  },
  {
   "cell_type": "markdown",
   "id": "3ac3b8d1",
   "metadata": {},
   "source": [
    "To do that, we first define a new class."
   ]
  },
  {
   "cell_type": "code",
   "execution_count": null,
   "id": "06f2d826",
   "metadata": {},
   "outputs": [],
   "source": [
    "class Detective:\n",
    "    def __init__(self, topic):\n",
    "        self.topic = topic\n",
    "\n",
    "    def detective_intro(self):\n",
    "        print(f\"This detective solves mysteries about {self.topic}.\")"
   ]
  },
  {
   "cell_type": "markdown",
   "id": "0d325984",
   "metadata": {},
   "source": [
    "Then, we create a derived class that inherits from two base classes. Notice that:\n",
    "- We can explicitly call the constructor of each base class, in order to pass the arguments.\n",
    "- We can directly access the inherited attributes from both base classes, just by using `self`."
   ]
  },
  {
   "cell_type": "code",
   "execution_count": null,
   "id": "64486254",
   "metadata": {},
   "outputs": [],
   "source": [
    "class DetectiveDog(Dog, Detective):\n",
    "    def __init__(self, name, topic):\n",
    "        Dog.__init__(self, name)\n",
    "        Detective.__init__(self, topic)\n",
    "    \n",
    "    def detective_dog_intro(self):\n",
    "        print(f\"This detective is a dog called {self.name}. He solves mysteries about {self.topic}.\")"
   ]
  },
  {
   "cell_type": "markdown",
   "id": "128a9e86",
   "metadata": {},
   "source": [
    "We can also call all methods inherited from each parent."
   ]
  },
  {
   "cell_type": "code",
   "execution_count": null,
   "id": "49a3341f",
   "metadata": {},
   "outputs": [],
   "source": [
    "scooby = DetectiveDog('Scooby Doo', 'ghosts')\n",
    "\n",
    "scooby.speak()\n",
    "scooby.detective_intro()\n",
    "scooby.detective_dog_intro()"
   ]
  },
  {
   "cell_type": "markdown",
   "id": "dbfca489",
   "metadata": {},
   "source": [
    "While multiple inheritance can be powerful, it can also lead to complexities and potential conflicts, so it should only be used when really needed.\n",
    "\n",
    "In some cases, composition may be preferred over multiple inheritance to achieve better code organization and maintainability."
   ]
  },
  {
   "cell_type": "markdown",
   "id": "bc2b9384",
   "metadata": {},
   "source": [
    "### Composition\n",
    "\n",
    "Composition is a concept in OOP where a class is composed of one or more objects of other classes, instead of inheriting from them.\n",
    "\n",
    "It is a way to build complex objects by combining simpler ones. Composition allows for greater **flexibility and modularity** in code compared to inheritance.\n",
    "\n",
    "In Python, composition is achieved by including instances of other classes as attributes within a class. \n",
    "These instances become part of the containing class and are used to provide specific functionalities."
   ]
  },
  {
   "cell_type": "markdown",
   "id": "45b2d6ef",
   "metadata": {},
   "source": [
    "Let's first create the classes for the `Engine` and the `Wheels` of a vehicle:"
   ]
  },
  {
   "cell_type": "code",
   "execution_count": null,
   "id": "d8cd5291",
   "metadata": {},
   "outputs": [],
   "source": [
    "class Engine:\n",
    "    def start(self):\n",
    "        return \"Engine started\"\n",
    "\n",
    "    def stop(self):\n",
    "        return \"Engine stopped\"\n",
    "\n",
    "\n",
    "class Wheel:\n",
    "    def __init__(self, number):\n",
    "        self.number = number\n",
    "\n",
    "    def spin(self):\n",
    "        return f\"Wheel #{self.number} spinning\"\n",
    "\n",
    "    def stop(self):\n",
    "        return f\"Wheel #{self.number} stopped\""
   ]
  },
  {
   "cell_type": "markdown",
   "id": "7c1d7152",
   "metadata": {},
   "source": [
    "Then we can create a car, which has one engine and four wheels.\n",
    "\n",
    "Notice that `Car` **does not inherit** from classes `Engine` and `Wheel`.\n",
    "Instead, we instantiate them inside its constructor."
   ]
  },
  {
   "cell_type": "code",
   "execution_count": null,
   "id": "b25389af",
   "metadata": {},
   "outputs": [],
   "source": [
    "class Car:\n",
    "    def __init__(self):\n",
    "        self.engine = Engine()\n",
    "        self.wheels = [Wheel(i+1) for i in range(4)]\n",
    "\n",
    "    def start(self):\n",
    "        print(f\"Car starting: {self.engine.start()}\")\n",
    "        for wheel in self.wheels:\n",
    "            print(wheel.spin())\n",
    "\n",
    "    def stop(self):\n",
    "        print(f\"Car stopping: {self.engine.stop()}\")\n",
    "        for wheel in self.wheels:\n",
    "            print(wheel.stop()) "
   ]
  },
  {
   "cell_type": "code",
   "execution_count": null,
   "id": "df993de3",
   "metadata": {},
   "outputs": [],
   "source": [
    "car = Car()\n",
    "\n",
    "car.start()\n",
    "car.stop()"
   ]
  },
  {
   "cell_type": "markdown",
   "id": "3afc1e3b",
   "metadata": {},
   "source": [
    "### super()\n",
    "\n",
    "Python's super() function allows us to refer the superclass implicitly, so we don’t need to write the name of superclass explicitly.\n",
    "\n",
    "It returns a proxy object that delegates method calls to a parent or sibling class.\n",
    "This is useful for accessing inherited methods that have been overridden in a class."
   ]
  },
  {
   "cell_type": "markdown",
   "id": "74253542",
   "metadata": {},
   "source": [
    "Let's re-write class `Dog`, which is a subclass of `Animal`.\n",
    "This time it not only overwrites the method `speak()`, but it also demonstrates how to call the parent's method, with the use of `super()`."
   ]
  },
  {
   "cell_type": "code",
   "execution_count": null,
   "id": "73bbc993",
   "metadata": {},
   "outputs": [],
   "source": [
    "class Dog(Animal):\n",
    "    def speak(self):\n",
    "        print(f\"{self.name} says Woof!\")\n",
    "\n",
    "    def parent_speak(self):\n",
    "        super().speak()\n",
    "\n",
    "dog = Dog('Max')\n",
    "dog.speak()\n",
    "dog.parent_speak()"
   ]
  },
  {
   "cell_type": "markdown",
   "id": "260971c2",
   "metadata": {},
   "source": [
    "## Abstract Classes\n",
    "\n",
    "Abstract classes are classes that cannot be instantiated directly.\n",
    "They are meant to be used as a blueprint for other classes.\n",
    "\n",
    "Abstract classes define methods that **must** be implemented by any concrete (non-abstract) subclass.\n",
    "In Python, you can create abstract classes using the `abc (Abstract Base Classes) module`.\n",
    "\n",
    "The ABC class from the abc module is used as the base class for your abstract class.\n",
    "You cannot create an instance of an abstract class, but you can create instances of concrete subclasses that inherit from the abstract class."
   ]
  },
  {
   "cell_type": "markdown",
   "id": "9aa9f972",
   "metadata": {},
   "source": [
    "We first create an abstract class which inherits from `ABC`:"
   ]
  },
  {
   "cell_type": "code",
   "execution_count": null,
   "id": "76974704",
   "metadata": {},
   "outputs": [],
   "source": [
    "from abc import ABC, abstractmethod\n",
    "\n",
    "class Shape(ABC):\n",
    "    @abstractmethod\n",
    "    def area(self):\n",
    "        pass\n",
    "\n",
    "    @abstractmethod\n",
    "    def perimeter(self):\n",
    "        pass"
   ]
  },
  {
   "cell_type": "markdown",
   "id": "0acbe96c",
   "metadata": {},
   "source": [
    "Careful, you **cannot** create an instance of an abstract class!\n",
    "The following line raises an error:"
   ]
  },
  {
   "cell_type": "code",
   "execution_count": null,
   "id": "628c6c27",
   "metadata": {},
   "outputs": [],
   "source": [
    "shape = Shape()"
   ]
  },
  {
   "cell_type": "markdown",
   "id": "b1e4e773",
   "metadata": {},
   "source": [
    "Let's create two concrete subclasses of `Shape`:"
   ]
  },
  {
   "cell_type": "code",
   "execution_count": null,
   "id": "8464b677",
   "metadata": {},
   "outputs": [],
   "source": [
    "class Circle(Shape):\n",
    "    def __init__(self, radius):\n",
    "        self.radius = radius\n",
    "\n",
    "    def area(self):\n",
    "        return 3.14 * self.radius ** 2\n",
    "\n",
    "    def perimeter(self):\n",
    "        return 2 * 3.14 * self.radius\n",
    "\n",
    "\n",
    "class Rectangle(Shape):\n",
    "    def __init__(self, width, height):\n",
    "        self.width = width\n",
    "        self.height = height\n",
    "\n",
    "    def area(self):\n",
    "        return self.width * self.height\n",
    "\n",
    "    def perimeter(self):\n",
    "        return 2 * (self.width + self.height)"
   ]
  },
  {
   "cell_type": "markdown",
   "id": "8461ea5a",
   "metadata": {},
   "source": [
    "Now we are allowed to create instances of the subclasses and also call their methods:"
   ]
  },
  {
   "cell_type": "code",
   "execution_count": null,
   "id": "fb964888",
   "metadata": {},
   "outputs": [],
   "source": [
    "circle = Circle(5)\n",
    "rectangle = Rectangle(4, 6)\n",
    "\n",
    "print(\"Circle Area:\", circle.area())\n",
    "print(\"Circle Perimeter:\", circle.perimeter())\n",
    "print(\"Rectangle Area:\", rectangle.area())\n",
    "print(\"Rectangle Perimeter:\", rectangle.perimeter())"
   ]
  },
  {
   "cell_type": "markdown",
   "id": "e303935f",
   "metadata": {},
   "source": [
    "## Decorators\n",
    "\n",
    "Decorators in Python are a powerful and flexible way to modify or extend the behavior of methods and attributes without changing their source code.\n",
    "The most common ones are:"
   ]
  },
  {
   "cell_type": "markdown",
   "id": "bf862978",
   "metadata": {},
   "source": [
    "### @classmethod\n",
    "Defines a class method, which is a method bound to the class rather than its instances.\n",
    "However, class methods can be called by both class and object.\n",
    "\n",
    "It takes the class itself (named cls) as its first parameter, allowing you to access and modify class-level attributes and methods.\n",
    "These changes would apply across all the instances of the class."
   ]
  },
  {
   "cell_type": "code",
   "execution_count": null,
   "id": "5124db39",
   "metadata": {},
   "outputs": [],
   "source": [
    "class Person:\n",
    "    number_of_males = 0\n",
    "    number_of_females = 0\n",
    "    number_of_total = 0\n",
    "\n",
    "    def __init__(self, gender):\n",
    "        self.gender = gender\n",
    "\n",
    "    @classmethod\n",
    "    def count(cls, gender):\n",
    "        if gender == 'M':\n",
    "            cls.number_of_males += 1\n",
    "        elif gender == 'F':\n",
    "            cls.number_of_females += 1\n",
    "        cls.number_of_total += 1\n",
    "\n",
    "    @classmethod\n",
    "    def statistics(cls):\n",
    "        male_percentage = cls.number_of_males / cls.number_of_total * 100\n",
    "        female_percentage = cls.number_of_females / cls.number_of_total * 100\n",
    "        print(f\"There are {cls.number_of_total} persons: {cls.number_of_males} are Male & {cls.number_of_females} are Female.\")\n",
    "        print(f\"So {male_percentage}% are Male & {female_percentage}% are Female.\")\n",
    "\n",
    "persons = []\n",
    "for gender in ['M', 'F', 'F', 'M', 'F']:\n",
    "    persons.append(Person(gender))\n",
    "\n",
    "for person in persons:\n",
    "    Person.count(person.gender)\n",
    "\n",
    "Person.statistics()"
   ]
  },
  {
   "cell_type": "markdown",
   "id": "a3b56a04",
   "metadata": {},
   "source": [
    "### @staticmethod\n",
    "Defines a static method, which is also a method bound to the class, but does not have access to the class or instance.\n",
    "Hence, it cannot modify the class state.\n",
    "\n",
    "Static methods are typically used for utility functions that are related to the class but don't need access to instance-specific data.\n",
    "A static method does not receive an implicit first argument."
   ]
  },
  {
   "cell_type": "markdown",
   "id": "35296378",
   "metadata": {},
   "source": [
    "As seen in the example below, static methods have limited use, because they don't have access neither to the class attributes nor to any instance of the class.\n",
    "They **cannot access** `cls` or `self`.\n",
    "\n",
    "However, they can be useful to group utilities together with a class.\n",
    "They improve code readability and allow for method overriding."
   ]
  },
  {
   "cell_type": "code",
   "execution_count": null,
   "id": "42d50e7e",
   "metadata": {},
   "outputs": [],
   "source": [
    "class MathOperations:\n",
    "\n",
    "    @staticmethod\n",
    "    def add(x, y):\n",
    "        return x + y\n",
    "\n",
    "    @staticmethod\n",
    "    def subtract(x, y):\n",
    "        return x - y\n",
    "\n",
    "print(MathOperations.add(2, 3))\n",
    "print(MathOperations.subtract(2, 3))"
   ]
  },
  {
   "cell_type": "markdown",
   "id": "def0459d",
   "metadata": {},
   "source": [
    "### @property\n",
    "\n",
    "Defines properties in a class.\n",
    "It creates attributes that act like methods but can be accessed and assigned as regular attributes.\n",
    "\n",
    "Properties are also useful for implementing attributes that require additional logic or validation when getting or setting their values.\n",
    "They promote a cleaner way of working with attributes, while controlling their behavior behind the scenes."
   ]
  },
  {
   "cell_type": "markdown",
   "id": "5f1db5cd",
   "metadata": {},
   "source": [
    "In this simple example, we create a class `Circle`, which has a radius and an area.\n",
    "We can create an instance of it, just like any other class."
   ]
  },
  {
   "cell_type": "code",
   "execution_count": null,
   "id": "d2cdef66",
   "metadata": {},
   "outputs": [],
   "source": [
    "class Circle:\n",
    "    def __init__(self, radius):\n",
    "        self._radius = radius\n",
    "\n",
    "    @property\n",
    "    def radius(self):\n",
    "        return self._radius\n",
    "\n",
    "    @property\n",
    "    def area(self):\n",
    "        return 3.14 * self._radius ** 2\n",
    "\n",
    "circle = Circle(5)\n",
    "print(\"Radius:\", circle.radius)"
   ]
  },
  {
   "cell_type": "markdown",
   "id": "94e64596",
   "metadata": {},
   "source": [
    "We can access the `area` property, just like any other class attribute.\n",
    "The calculations for its value are done behind the scenes."
   ]
  },
  {
   "cell_type": "code",
   "execution_count": null,
   "id": "b00f4c57",
   "metadata": {},
   "outputs": [],
   "source": [
    "print(\"Area:\", circle.area)"
   ]
  },
  {
   "cell_type": "markdown",
   "id": "f1f9c5d7",
   "metadata": {},
   "source": [
    "### Setters & Getters\n",
    "\n",
    "Properties are a way to provide getter, setter, and deleter methods for class attributes, while maintaining a clean and consistent code.\n",
    "\n",
    "Setters and getters are methods used to manage the access and modification of class attributes, allowing control over how these attributes are set and retrieved.\n",
    "They are often used to enforce data validation or provide a way to handle attributes with additional logic.\n",
    "\n",
    "Python doesn't have explicit syntax for setters and getters like some other programming languages (e.g., Java), but it achieves similar functionality using the `@property` decorator for getters and `@<attribute_name>.setter` or `@<attribute_name>.deleter` decorator for setters and deleters.\n",
    "\n",
    "Let's expand the previous example:"
   ]
  },
  {
   "cell_type": "code",
   "execution_count": null,
   "id": "b291ac72",
   "metadata": {},
   "outputs": [],
   "source": [
    "class Circle:\n",
    "    def __init__(self, radius):\n",
    "        self._radius = radius\n",
    "\n",
    "    @property\n",
    "    def radius(self):\n",
    "        return self._radius\n",
    "\n",
    "    @radius.setter\n",
    "    def radius(self, value):\n",
    "        if value <= 0:\n",
    "            raise ValueError(\"Radius must be a positive number\")\n",
    "        self._radius = value\n",
    "\n",
    "    @radius.deleter\n",
    "    def radius(self):\n",
    "        print(\"Deleting the radius attribute\")\n",
    "        del self._radius"
   ]
  },
  {
   "cell_type": "markdown",
   "id": "408a247d",
   "metadata": {},
   "source": [
    "Create an instance and use the getter:"
   ]
  },
  {
   "cell_type": "code",
   "execution_count": null,
   "id": "5cc19eca",
   "metadata": {},
   "outputs": [],
   "source": [
    "circle = Circle(5)\n",
    "print(\"Radius:\", circle.radius)"
   ]
  },
  {
   "cell_type": "markdown",
   "id": "7ac2c761",
   "metadata": {},
   "source": [
    "Update the radius using the setter:"
   ]
  },
  {
   "cell_type": "code",
   "execution_count": null,
   "id": "7879ac76",
   "metadata": {},
   "outputs": [],
   "source": [
    "# Using the setter methods\n",
    "circle.radius = 7\n",
    "print(\"Updated Radius:\", circle.radius)"
   ]
  },
  {
   "cell_type": "markdown",
   "id": "fdbba2d9",
   "metadata": {},
   "source": [
    "What happens when we enter an invalid value?"
   ]
  },
  {
   "cell_type": "code",
   "execution_count": null,
   "id": "ddbebbc8",
   "metadata": {},
   "outputs": [],
   "source": [
    "circle.radius = -5"
   ]
  },
  {
   "cell_type": "markdown",
   "id": "7d8480a0",
   "metadata": {},
   "source": [
    "Finally let's use the deleter:"
   ]
  },
  {
   "cell_type": "code",
   "execution_count": null,
   "id": "4f2baefa",
   "metadata": {},
   "outputs": [],
   "source": [
    "del circle.radius "
   ]
  },
  {
   "cell_type": "markdown",
   "id": "beb6b0a8",
   "metadata": {},
   "source": [
    "We are no longer able to access the deleted attribute:"
   ]
  },
  {
   "cell_type": "code",
   "execution_count": null,
   "id": "a9c5335b",
   "metadata": {},
   "outputs": [],
   "source": [
    "print(circle.radius)"
   ]
  },
  {
   "cell_type": "markdown",
   "id": "cb71df8e",
   "metadata": {},
   "source": [
    "## Encapsulation\n",
    "\n",
    "Encapsulation is one of the fundamental principles of OOP and is a concept that plays a crucial role in Python and other OOP languages.\n",
    "\n",
    "Encapsulation refers to the bundling of data (attributes) and methods (functions) that operate on that data into a single unit. \n",
    "\n",
    "It also involves controlling the access to the data and methods, restricting direct access from outside the class.\n",
    "\n",
    "The purpose of encapsulation is to hide the internal implementation details of a class and provide a simpler and cleaner way of interacting with it.\n",
    "\n",
    "By using encapsulation you can:\n",
    "- Protect the data by controlling how it is accessed and modified.\n",
    "- Enforce constraints and validation on data changes.\n",
    "- Make it easier to change the internal implementation of a class without affecting external code that uses the class.\n",
    "\n",
    "In Python, encapsulation is implemented using access modifiers and naming conventions.\n",
    "There are three commonly used access modifiers:\n",
    "\n",
    "### Public\n",
    "In Python, all attributes and methods are public by default, which means they can be accessed from anywhere.\n",
    "\n",
    "### Private\n",
    "Attributes and methods with names starting with a double underscore (e.g., __variable, __method()) are considered private. \n",
    "They are not intended to be accessed directly from outside the class.\n",
    "\n",
    "However, Python does not enforce strict access control, so you can still access them using name mangling (e.g., _classname__variable)."
   ]
  },
  {
   "cell_type": "code",
   "execution_count": null,
   "id": "9f5de760",
   "metadata": {},
   "outputs": [],
   "source": [
    "class MyClass:\n",
    "    def __init__(self):\n",
    "        self.__private_var = 1\n",
    "\n",
    "    def public_method(self):\n",
    "        return self.__private_var\n",
    "\n",
    "obj = MyClass()\n",
    "\n",
    "print(obj.public_method())"
   ]
  },
  {
   "cell_type": "markdown",
   "id": "de6dc87b",
   "metadata": {},
   "source": [
    "### Protected\n",
    "Attributes and methods with names starting with a single underscore (e.g., _variable, _method()) are considered protected. \n",
    "This is a convention to indicate that they should not be accessed directly from outside the class, but there's no strict enforcement.\n",
    "\n",
    "As seen in the example below, you can access a protected attribute both ways:"
   ]
  },
  {
   "cell_type": "code",
   "execution_count": null,
   "id": "0c39a254",
   "metadata": {},
   "outputs": [],
   "source": [
    "class MyClass:\n",
    "    def __init__(self):\n",
    "        self._protected_var = 1\n",
    "\n",
    "    def public_method(self):\n",
    "        return self._protected_var\n",
    "\n",
    "obj = MyClass()\n",
    "print(obj.public_method())\n",
    "print(obj._protected_var) "
   ]
  },
  {
   "cell_type": "markdown",
   "id": "8689cbe1",
   "metadata": {},
   "source": [
    "## How to write better classes"
   ]
  },
  {
   "cell_type": "markdown",
   "id": "86330c78",
   "metadata": {},
   "source": [
    "Lastly, we would like to offer some tips & tricks that will help you write your code in a cleaner and easier to maintain way."
   ]
  },
  {
   "cell_type": "markdown",
   "id": "7f04e44b",
   "metadata": {},
   "source": [
    "### Using dataclasses\n",
    "\n",
    "Assume we are implementing a simple class to represent a `Person`, it would look something like this:"
   ]
  },
  {
   "cell_type": "code",
   "execution_count": null,
   "id": "eb2c31cd",
   "metadata": {},
   "outputs": [],
   "source": [
    "class Person:\n",
    "    def __init__(self, name, age, height):\n",
    "        self.name = name\n",
    "        self.age = age\n",
    "        self.height = height"
   ]
  },
  {
   "cell_type": "markdown",
   "id": "242e2a3a",
   "metadata": {},
   "source": [
    "A simpler way, however, would be to import `dataclass` from the `dataclasses` module.\n",
    "\n",
    "This module provides a decorator and functions for automatically adding generated special methods such as `__init__()` and `__repr__()` to user-defined classes.\n",
    "\n",
    "This means that we no longer need to use `__init__()`, but only to specify the attributes of the class and their types:"
   ]
  },
  {
   "cell_type": "code",
   "execution_count": null,
   "id": "d51672e8",
   "metadata": {},
   "outputs": [],
   "source": [
    "from dataclasses import dataclass\n",
    "\n",
    "@dataclass\n",
    "class Person:\n",
    "    name: str\n",
    "    age: int\n",
    "    height: float"
   ]
  },
  {
   "cell_type": "markdown",
   "id": "98c63219",
   "metadata": {},
   "source": [
    "Now, with the use of these auto generated methods, we can create an instance of the class and print a representation of the object, without any additional code.\n",
    "It also simplifies object comparison."
   ]
  },
  {
   "cell_type": "code",
   "execution_count": null,
   "id": "b6b9c9f4",
   "metadata": {},
   "outputs": [],
   "source": [
    "john = Person('John', 25, 1.75)\n",
    "jane = Person('Jane', 25, 1.75)\n",
    "\n",
    "print(john)\n",
    "print(jane)\n",
    "print(john == jane)"
   ]
  },
  {
   "cell_type": "markdown",
   "id": "7de0eaee",
   "metadata": {},
   "source": [
    "### Using attrs\n",
    "\n",
    "This Python package is for creating well-defined classes with a type, attributes and methods. When defining a class, it will add static methods to that class based on the attributes you declare.\n",
    "\n",
    "`attrs` will operate only on the dunder methods of your class.\n",
    "Hence, all of its tools will live in functions that operate on top of instances."
   ]
  },
  {
   "cell_type": "markdown",
   "id": "6653a90f",
   "metadata": {},
   "source": [
    "Let's rewrite the previous example, this time using `attrs`.\n",
    "You will notice that it offers the same functionalities, i.e. `__init__()`, `__repr__()`, and object comparison."
   ]
  },
  {
   "cell_type": "code",
   "execution_count": null,
   "id": "3542eecd",
   "metadata": {},
   "outputs": [],
   "source": [
    "from attrs import define\n",
    "\n",
    "@define\n",
    "class Person:\n",
    "    name: str\n",
    "    age: int\n",
    "    height: float\n",
    "\n",
    "john = Person('John', 25, 1.75)\n",
    "jane = Person('Jane', 25, 1.75)\n",
    "\n",
    "print(john)\n",
    "print(jane)\n",
    "print(john == jane)"
   ]
  },
  {
   "cell_type": "markdown",
   "id": "e43f026b",
   "metadata": {},
   "source": [
    "However, `attrs` also provides **validators**.\n",
    "To use this functionality:\n",
    "- The attribute that you wish to validate needs to have a `field()` assigned\n",
    "- Use the validator decorator to define the check for that specific attribute"
   ]
  },
  {
   "cell_type": "code",
   "execution_count": null,
   "id": "4126beb3",
   "metadata": {},
   "outputs": [],
   "source": [
    "from attrs import define, field\n",
    "\n",
    "@define\n",
    "class Person:\n",
    "    name: str\n",
    "    age: int = field()\n",
    "    height: float\n",
    "\n",
    "    @age.validator\n",
    "    def check(self, attribute, value):\n",
    "        if value < 1:\n",
    "            raise ValueError(\"Age must be greater than 0\")\n",
    "\n",
    "john = Person('John', 0, 1.75)"
   ]
  },
  {
   "cell_type": "markdown",
   "id": "48b8fb9d",
   "metadata": {},
   "source": [
    "## Exercises"
   ]
  },
  {
   "cell_type": "code",
   "execution_count": null,
   "id": "78bd3344",
   "metadata": {},
   "outputs": [],
   "source": [
    "%reload_ext tutorial.tests.testsuite"
   ]
  },
  {
   "cell_type": "markdown",
   "id": "21f988cd",
   "metadata": {},
   "source": [
    "### Online Store Inventory System\n",
    "\n",
    "Assuming there is an online store selling electronics and clothing, we aim to implement its inventory management system.\n",
    "\n",
    "This system can be implemented based on the following entities for electronic and clothing products:\n",
    "- **Product** with attributes name, price, and quantity.\n",
    "- **Electronic** with an additional attribute for warranty.\n",
    "- **Clothing** with additional attributes size and color.\n",
    "\n",
    "<div class=\"alert alert-block alert-warning\">\n",
    "    <h4><b>Question</b></h4>\n",
    "    Complete the solution function such that it creates a class <strong>Product</strong> and subclasses <strong>Electronic</strong> and <strong>Clothing</strong>. Implement the methods for displaying product information, updating product quantities, adding warranty information for electronics, adding size and color information for clothing items.\n",
    "</div>"
   ]
  },
  {
   "cell_type": "markdown",
   "id": "7ad07c54",
   "metadata": {},
   "source": [
    "### Child Eye Colour\n",
    "\n",
    "In this exercise, we will implement the following simplified theory on how to predict a child's eye colour, based on the eye colour of its parents.\n",
    "\n",
    "We assume that the only existing eye colours are <span style=\"color:blue\">blue</span> and <span style=\"color:brown\">brown</span>. We also assume the following rules:\n",
    "- If both parents have <span style=\"color:brown\">brown</span> eyes, their child will also have <span style=\"color:brown\">brown</span> eyes.\n",
    "- If both parents have <span style=\"color:blue\">blue</span> eyes, their child will also have <span style=\"color:blue\">blue</span> eyes.\n",
    "- If one parent has <span style=\"color:brown\">brown</span> eyes and the other one has <span style=\"color:blue\">blue</span> eyes, the dominant colour will be <span style=\"color:brown\">brown</span>.\n",
    "\n",
    "<div class=\"alert alert-block alert-warning\">\n",
    "    <h4><b>Question</b></h4>\n",
    "    Complete the solution function such that it creates a class <strong>Human</strong> with attribute <strong>eye_colour</strong>. Create 2 parents with a randomly assigned eye colour, by picking one of two available. Create 1 child, that upon creation calculates its eye colour based on the eye colour of its parents, according to the rules above.\n",
    "</div>"
   ]
  },
  {
   "cell_type": "markdown",
   "id": "b7d13ea2",
   "metadata": {},
   "source": [
    "### Music Streaming Service\n",
    "\n",
    "The basis of all music streaming service systems is a common simple structure: Artists release albums, albums contain songs and users can create their own playlists with their favourite songs.\n",
    "\n",
    "To represent this structure, one can create the following entities:\n",
    "- **Album** with attributes: title, artist, gerne.\n",
    "- **Song** with attributes: title, album_title.\n",
    "- **User** with attributes: username and playlists.\n",
    "- **Playlist** which contains a collection of songs.\n",
    "\n",
    "<div class=\"alert alert-block alert-warning\">\n",
    "    <h4><b>Question</b></h4>\n",
    "    Using <strong>inheritance</strong> and <strong>composition</strong> in Python, create a music streaming service system that includes the entities mentioned above. Implement methods for: Creating a playlist, adding a song to a playlist, displaying the songs in a playlist.\n",
    "</div>"
   ]
  },
  {
   "cell_type": "markdown",
   "id": "eaf27dd7",
   "metadata": {},
   "source": [
    "### Banking System\n",
    "\n",
    "In this exercise, we will implement a very simple banking system where there are two different types of accounts: Checking accounts and Savings accounts.\n",
    "\n",
    "We assume the following entities:\n",
    "\n",
    "- **Account**: An abstract base class representing a generic bank account with methods deposit, withdraw, and get_balance.\n",
    "- **SavingsAccount**: Representing a savings account that calculates interest on the balance.\n",
    "- **CheckingAccount**: Representing a checking account with additional methods for writing and clearing checks.\n",
    "\n",
    "<div class=\"alert alert-block alert-warning\">\n",
    "    <h4><b>Question</b></h4>\n",
    "    Using <strong>abstraction</strong> in Python, create a banking system using abstract base class Account and concrete subclasses SavingsAccount and CheckingAccount, based on the entities mentioned above. The Account class defines abstract methods deposit and withdraw, which are implemented in the subclasses. The subclasses inherit the structure of an account but have specific functionalities for deposit, withdrawal, interest calculation (for SavingsAccount), and check writing/clearing (for CheckingAccount). \n",
    "</div>"
   ]
  }
 ],
 "metadata": {
  "kernelspec": {
   "display_name": "Python 3 (ipykernel)",
   "language": "python",
   "name": "python3"
  },
  "language_info": {
   "codemirror_mode": {
    "name": "ipython",
    "version": 3
   },
   "file_extension": ".py",
   "mimetype": "text/x-python",
   "name": "python",
   "nbconvert_exporter": "python",
   "pygments_lexer": "ipython3",
   "version": "3.11.4"
  }
 },
 "nbformat": 4,
 "nbformat_minor": 5
}
