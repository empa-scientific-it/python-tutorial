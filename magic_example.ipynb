{
 "cells": [
  {
   "cell_type": "code",
   "execution_count": 8,
   "metadata": {
    "tags": []
   },
   "outputs": [],
   "source": [
    "%reload_ext tutorial.tests.testsuite"
   ]
  },
  {
   "cell_type": "code",
   "execution_count": 9,
   "metadata": {
    "tags": []
   },
   "outputs": [
    {
     "data": {
      "application/vnd.jupyter.widget-view+json": {
       "model_id": "48e1581d54d140a69fddd3f8d7f8e1e9",
       "version_major": 2,
       "version_minor": 0
      },
      "text/plain": [
       "TestResultOutput(children=(Output(), Box(children=(Output(), Accordion(children=(Output(),), titles=('Click he…"
      ]
     },
     "metadata": {},
     "output_type": "display_data"
    },
    {
     "data": {
      "application/javascript": "\n                        var output_divs = document.querySelectorAll(\".jp-OutputArea-executeResult\");\n                        for (let div of output_divs) {\n                            div.setAttribute(\"style\", \"display: none;\");\n                        }\n                    ",
      "text/plain": [
       "<IPython.core.display.Javascript object>"
      ]
     },
     "metadata": {},
     "output_type": "display_data"
    }
   ],
   "source": [
    "%%ipytest\n",
    "# or %%ipytest test_module_name\n",
    "def solution_power2(x: int) -> int:\n",
    "    return x * 2"
   ]
  },
  {
   "cell_type": "code",
   "execution_count": 11,
   "metadata": {
    "tags": []
   },
   "outputs": [
    {
     "data": {
      "application/vnd.jupyter.widget-view+json": {
       "model_id": "9f7320d65538496ea40ca1c6725ec4f3",
       "version_major": 2,
       "version_minor": 0
      },
      "text/plain": [
       "TestResultOutput(children=(Output(), Box(children=(Output(), Accordion(children=(Output(),), titles=('Click he…"
      ]
     },
     "metadata": {},
     "output_type": "display_data"
    },
    {
     "data": {
      "application/vnd.jupyter.widget-view+json": {
       "model_id": "cacb1e9140734a88a2627a8aefce56a3",
       "version_major": 2,
       "version_minor": 0
      },
      "text/plain": [
       "TestResultOutput(children=(Output(), Box(children=(Output(), Accordion(children=(Output(),), titles=('Click he…"
      ]
     },
     "metadata": {},
     "output_type": "display_data"
    },
    {
     "data": {
      "application/javascript": "\n                        var output_divs = document.querySelectorAll(\".jp-OutputArea-executeResult\");\n                        for (let div of output_divs) {\n                            div.setAttribute(\"style\", \"display: none;\");\n                        }\n                    ",
      "text/plain": [
       "<IPython.core.display.Javascript object>"
      ]
     },
     "metadata": {},
     "output_type": "display_data"
    }
   ],
   "source": [
    "%%ipytest magic_example\n",
    "\n",
    "def solution_power3  (x: int) -> int:\n",
    "    print(\"running\")\n",
    "    return x ** 3\n",
    "\n",
    "def solution_power4(x: int) -> int:\n",
    "    print(\"running\")\n",
    "    return x * 4"
   ]
  },
  {
   "cell_type": "code",
   "execution_count": 10,
   "metadata": {},
   "outputs": [
    {
     "data": {
      "application/vnd.jupyter.widget-view+json": {
       "model_id": "309d639af8b243a0ab61f86c87f47649",
       "version_major": 2,
       "version_minor": 0
      },
      "text/plain": [
       "TestResultOutput(children=(Output(), Box(children=(Output(), Accordion(children=(Output(),), titles=('Click he…"
      ]
     },
     "metadata": {},
     "output_type": "display_data"
    },
    {
     "data": {
      "application/javascript": "\n                        var output_divs = document.querySelectorAll(\".jp-OutputArea-executeResult\");\n                        for (let div of output_divs) {\n                            div.setAttribute(\"style\", \"display: none;\");\n                        }\n                    ",
      "text/plain": [
       "<IPython.core.display.Javascript object>"
      ]
     },
     "metadata": {},
     "output_type": "display_data"
    }
   ],
   "source": [
    "%%ipytest magic_example\n",
    "import asyncio\n",
    "async def solution_async(x: int) -> int:\n",
    "    asyncio.sleep(1)\n",
    "    return x * 2\n",
    "\n"
   ]
  }
 ],
 "metadata": {
  "kernelspec": {
   "display_name": "Python 3 (ipykernel)",
   "language": "python",
   "name": "python3"
  },
  "language_info": {
   "codemirror_mode": {
    "name": "ipython",
    "version": 3
   },
   "file_extension": ".py",
   "mimetype": "text/x-python",
   "name": "python",
   "nbconvert_exporter": "python",
   "pygments_lexer": "ipython3",
   "version": "3.10.12"
  },
  "vscode": {
   "interpreter": {
    "hash": "5b23e288cb339fd27cbf7c6c27fd1bef901438edaa6bc287ee3005bd465f32cf"
   }
  }
 },
 "nbformat": 4,
 "nbformat_minor": 4
}
