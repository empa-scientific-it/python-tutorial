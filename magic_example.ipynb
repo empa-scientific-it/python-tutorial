{
 "cells": [
  {
   "cell_type": "code",
   "execution_count": null,
   "metadata": {
    "tags": []
   },
   "outputs": [],
   "source": [
    "%reload_ext tutorial.tests.testsuite"
   ]
  },
  {
   "cell_type": "code",
   "execution_count": null,
   "metadata": {
    "tags": []
   },
   "outputs": [],
   "source": [
    "%%ipytest\n",
    "# or %%ipytest test_module_name\n",
    "\n",
    "def solution_power2(x: int) -> int:\n",
    "    print(\"running\")\n",
    "    return x * 2\n",
    "\n",
    "# result, len([1,2,3,4])"
   ]
  },
  {
   "cell_type": "code",
   "execution_count": null,
   "metadata": {
    "tags": []
   },
   "outputs": [],
   "source": [
    "%%ipytest\n",
    "\n",
    "def solution_power3  (x: int) -> int:\n",
    "    print(\"running\")\n",
    "    return x * 3\n",
    "\n",
    "def solution_power4(x: int) -> int:\n",
    "    print(\"running\")\n",
    "    return x ** 4"
   ]
  }
 ],
 "metadata": {
  "kernelspec": {
   "display_name": "Python 3 (ipykernel)",
   "language": "python",
   "name": "python3"
  },
  "language_info": {
   "codemirror_mode": {
    "name": "ipython",
    "version": 3
   },
   "file_extension": ".py",
   "mimetype": "text/x-python",
   "name": "python",
   "nbconvert_exporter": "python",
   "pygments_lexer": "ipython3",
   "version": "3.11.0"
  },
  "vscode": {
   "interpreter": {
    "hash": "5b23e288cb339fd27cbf7c6c27fd1bef901438edaa6bc287ee3005bd465f32cf"
   }
  }
 },
 "nbformat": 4,
 "nbformat_minor": 4
}
