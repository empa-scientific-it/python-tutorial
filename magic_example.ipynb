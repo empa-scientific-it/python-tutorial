{
 "cells": [
  {
   "cell_type": "code",
   "execution_count": 59,
   "metadata": {
    "tags": []
   },
   "outputs": [],
   "source": [
    "%reload_ext tutorial.tests.testsuite"
   ]
  },
  {
   "cell_type": "code",
   "execution_count": 60,
   "metadata": {
    "tags": []
   },
   "outputs": [
    {
     "data": {
      "text/plain": [
       "3"
      ]
     },
     "execution_count": 60,
     "metadata": {},
     "output_type": "execute_result"
    },
    {
     "data": {
      "application/vnd.jupyter.widget-view+json": {
       "model_id": "1e2ae92138e341d58b00d7cb277d53b4",
       "version_major": 2,
       "version_minor": 0
      },
      "text/plain": [
       "TestResultOutput(children=(Output(),))"
      ]
     },
     "metadata": {},
     "output_type": "display_data"
    },
    {
     "data": {
      "application/javascript": [
       "      \n",
       "                var output_divs = document.querySelectorAll(\".jp-OutputArea-executeResult\");\n",
       "                for (let div of output_divs) {\n",
       "                    div.setAttribute(\"style\", \"display: none;\");\n",
       "                }\n",
       "            "
      ],
      "text/plain": [
       "<IPython.core.display.Javascript object>"
      ]
     },
     "metadata": {},
     "output_type": "display_data"
    },
    {
     "data": {
      "application/javascript": [
       "      \n",
       "                var output_divs = document.querySelectorAll(\".jp-Cell-outputArea\");\n",
       "                for (let div of output_divs) {\n",
       "                    div_str = String(div.innerHTML);\n",
       "                    console.log(div);\n",
       "                    if (div_str.includes(\"alert-success\") | div_str.includes(\"alert-danger\")) {\n",
       "                            console.log('ok');\n",
       "                        div.setAttribute(\"style\", \"padding-bottom: 0;\");  \n",
       "                    }\n",
       "                }\n",
       "            "
      ],
      "text/plain": [
       "<IPython.core.display.Javascript object>"
      ]
     },
     "metadata": {},
     "output_type": "display_data"
    }
   ],
   "source": [
    "%%ipytest\n",
    "# or %%ipytest test_module_name\n",
    "\n",
    "len('a')\n",
    "def solution_power2(x: int) -> int:\n",
    "    print('hi')\n",
    "    len('b')\n",
    "    print(len('bb'))\n",
    "    return x ** 2\n",
    "len('aaa')"
   ]
  },
  {
   "cell_type": "code",
   "execution_count": 47,
   "metadata": {
    "tags": []
   },
   "outputs": [
    {
     "ename": "SyntaxError",
     "evalue": "invalid syntax (3333491215.py, line 7)",
     "output_type": "error",
     "traceback": [
      "\u001b[1;36m  Cell \u001b[1;32mIn[47], line 7\u001b[1;36m\u001b[0m\n\u001b[1;33m    return x ** 4/\u001b[0m\n\u001b[1;37m                  ^\u001b[0m\n\u001b[1;31mSyntaxError\u001b[0m\u001b[1;31m:\u001b[0m invalid syntax\n"
     ]
    },
    {
     "data": {
      "application/vnd.jupyter.widget-view+json": {
       "model_id": "9e11299fbcb94409982a5fe0da82a854",
       "version_major": 2,
       "version_minor": 0
      },
      "text/plain": [
       "TestResultOutput(children=(Output(),))"
      ]
     },
     "metadata": {},
     "output_type": "display_data"
    },
    {
     "data": {
      "application/javascript": [
       "      \n",
       "                var syntax_error_containers = document.querySelectorAll('div[data-mime-type=\"application/vnd.jupyter.stderr\"]');\n",
       "                for (let container of syntax_error_containers) {\n",
       "                    var syntax_error_div = container.parentNode;\n",
       "                    var container_div = syntax_error_div.parentNode;\n",
       "                    const container_style = \"position: relative; padding-bottom: \" + syntax_error_div.clientHeight + \"px;\";\n",
       "                    container_div.setAttribute(\"style\", container_style);\n",
       "                    syntax_error_div.setAttribute(\"style\", \"position: absolute; bottom: 10px;\");\n",
       "                }\n",
       "            "
      ],
      "text/plain": [
       "<IPython.core.display.Javascript object>"
      ]
     },
     "metadata": {},
     "output_type": "display_data"
    }
   ],
   "source": [
    "%%ipytest magic_example\n",
    "\n",
    "def solution_power3  (x: int) -> int:\n",
    "    print(\"running\")\n",
    "    return x * 3\n",
    "\n",
    "def solution_power4(x: int) -> int:\n",
    "    print(\"running\")\n",
    "    return x ** 4/"
   ]
  },
  {
   "cell_type": "code",
   "execution_count": null,
   "metadata": {},
   "outputs": [],
   "source": []
  }
 ],
 "metadata": {
  "kernelspec": {
   "display_name": "Python 3 (ipykernel)",
   "language": "python",
   "name": "python3"
  },
  "language_info": {
   "codemirror_mode": {
    "name": "ipython",
    "version": 3
   },
   "file_extension": ".py",
   "mimetype": "text/x-python",
   "name": "python",
   "nbconvert_exporter": "python",
   "pygments_lexer": "ipython3",
   "version": "3.11.4"
  },
  "vscode": {
   "interpreter": {
    "hash": "5b23e288cb339fd27cbf7c6c27fd1bef901438edaa6bc287ee3005bd465f32cf"
   }
  }
 },
 "nbformat": 4,
 "nbformat_minor": 4
}
