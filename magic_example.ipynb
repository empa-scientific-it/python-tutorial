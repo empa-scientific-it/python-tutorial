{
 "cells": [
  {
   "cell_type": "code",
   "execution_count": 1,
   "metadata": {
    "tags": []
   },
   "outputs": [],
   "source": [
    "%reload_ext tutorial.tests.testsuite"
   ]
  },
  {
   "cell_type": "code",
   "execution_count": 2,
   "metadata": {
    "tags": []
   },
   "outputs": [
    {
     "name": "stdout",
     "output_type": "stream",
     "text": [
      "\u001b[31mF\u001b[0m<Function test_power2[solution_power2-1]>\n",
      "\u001b[31mF\u001b[0m<Function test_power2[solution_power2-2]>\n",
      "\u001b[31mF\u001b[0m<Function test_power2[solution_power2-3]>\n",
      "\u001b[31mF\u001b[0m<Function test_power2[solution_power2-4]>\n",
      "\u001b[31mF\u001b[0m<Function test_power2[solution_power2-32]>\n",
      "\u001b[31m                                                                    [100%]\u001b[0m\n",
      "=================================== FAILURES ===================================\n",
      "\u001b[31m\u001b[1m________________________ test_power2[solution_power2-1] ________________________\u001b[0m\n",
      "\u001b[1m\u001b[31mtutorial/tests/test_magic_example.py\u001b[0m:28: in test_power2\n",
      "    \u001b[94massert\u001b[39;49;00m function_to_test(input_arg) == reference_solution_power2(input_arg)\u001b[90m\u001b[39;49;00m\n",
      "\u001b[1m\u001b[31m/tmp/ipykernel_385264/872348916.py\u001b[0m:6: in solution_power2\n",
      "    risak\u001b[90m\u001b[39;49;00m\n",
      "\u001b[1m\u001b[31mE   NameError: name 'risak' is not defined\u001b[0m\n",
      "----------------------------- Captured stdout call -----------------------------\n",
      "My input is 1\n",
      "I am almost done\n",
      "\u001b[31m\u001b[1m________________________ test_power2[solution_power2-2] ________________________\u001b[0m\n",
      "\u001b[1m\u001b[31mtutorial/tests/test_magic_example.py\u001b[0m:28: in test_power2\n",
      "    \u001b[94massert\u001b[39;49;00m function_to_test(input_arg) == reference_solution_power2(input_arg)\u001b[90m\u001b[39;49;00m\n",
      "\u001b[1m\u001b[31m/tmp/ipykernel_385264/872348916.py\u001b[0m:6: in solution_power2\n",
      "    risak\u001b[90m\u001b[39;49;00m\n",
      "\u001b[1m\u001b[31mE   NameError: name 'risak' is not defined\u001b[0m\n",
      "----------------------------- Captured stdout call -----------------------------\n",
      "My input is 2\n",
      "I am almost done\n",
      "\u001b[31m\u001b[1m________________________ test_power2[solution_power2-3] ________________________\u001b[0m\n",
      "\u001b[1m\u001b[31mtutorial/tests/test_magic_example.py\u001b[0m:28: in test_power2\n",
      "    \u001b[94massert\u001b[39;49;00m function_to_test(input_arg) == reference_solution_power2(input_arg)\u001b[90m\u001b[39;49;00m\n",
      "\u001b[1m\u001b[31m/tmp/ipykernel_385264/872348916.py\u001b[0m:6: in solution_power2\n",
      "    risak\u001b[90m\u001b[39;49;00m\n",
      "\u001b[1m\u001b[31mE   NameError: name 'risak' is not defined\u001b[0m\n",
      "----------------------------- Captured stdout call -----------------------------\n",
      "My input is 3\n",
      "I am almost done\n",
      "\u001b[31m\u001b[1m________________________ test_power2[solution_power2-4] ________________________\u001b[0m\n",
      "\u001b[1m\u001b[31mtutorial/tests/test_magic_example.py\u001b[0m:28: in test_power2\n",
      "    \u001b[94massert\u001b[39;49;00m function_to_test(input_arg) == reference_solution_power2(input_arg)\u001b[90m\u001b[39;49;00m\n",
      "\u001b[1m\u001b[31m/tmp/ipykernel_385264/872348916.py\u001b[0m:6: in solution_power2\n",
      "    risak\u001b[90m\u001b[39;49;00m\n",
      "\u001b[1m\u001b[31mE   NameError: name 'risak' is not defined\u001b[0m\n",
      "----------------------------- Captured stdout call -----------------------------\n",
      "My input is 4\n",
      "I am almost done\n",
      "\u001b[31m\u001b[1m_______________________ test_power2[solution_power2-32] ________________________\u001b[0m\n",
      "\u001b[1m\u001b[31mtutorial/tests/test_magic_example.py\u001b[0m:28: in test_power2\n",
      "    \u001b[94massert\u001b[39;49;00m function_to_test(input_arg) == reference_solution_power2(input_arg)\u001b[90m\u001b[39;49;00m\n",
      "\u001b[1m\u001b[31m/tmp/ipykernel_385264/872348916.py\u001b[0m:6: in solution_power2\n",
      "    risak\u001b[90m\u001b[39;49;00m\n",
      "\u001b[1m\u001b[31mE   NameError: name 'risak' is not defined\u001b[0m\n",
      "----------------------------- Captured stdout call -----------------------------\n",
      "My input is 32\n",
      "I am almost done\n",
      "\u001b[36m\u001b[1m=========================== short test summary info ============================\u001b[0m\n",
      "\u001b[31mFAILED\u001b[0m tutorial/tests/test_magic_example.py::\u001b[1mtest_power2[solution_power2-1]\u001b[0m - NameError: name 'risak' is not defined\n",
      "\u001b[31mFAILED\u001b[0m tutorial/tests/test_magic_example.py::\u001b[1mtest_power2[solution_power2-2]\u001b[0m - NameError: name 'risak' is not defined\n",
      "\u001b[31mFAILED\u001b[0m tutorial/tests/test_magic_example.py::\u001b[1mtest_power2[solution_power2-3]\u001b[0m - NameError: name 'risak' is not defined\n",
      "\u001b[31mFAILED\u001b[0m tutorial/tests/test_magic_example.py::\u001b[1mtest_power2[solution_power2-4]\u001b[0m - NameError: name 'risak' is not defined\n",
      "\u001b[31mFAILED\u001b[0m tutorial/tests/test_magic_example.py::\u001b[1mtest_power2[solution_power2-32]\u001b[0m - NameError: name 'risak' is not defined\n",
      "\u001b[31m\u001b[31m\u001b[1m5 failed\u001b[0m\u001b[31m in 0.06s\u001b[0m\u001b[0m\n"
     ]
    },
    {
     "data": {
      "text/plain": [
       "''"
      ]
     },
     "metadata": {},
     "output_type": "display_data"
    },
    {
     "data": {
      "text/plain": [
       "''"
      ]
     },
     "metadata": {},
     "output_type": "display_data"
    },
    {
     "data": {
      "text/plain": [
       "''"
      ]
     },
     "metadata": {},
     "output_type": "display_data"
    },
    {
     "data": {
      "text/plain": [
       "''"
      ]
     },
     "metadata": {},
     "output_type": "display_data"
    },
    {
     "data": {
      "text/plain": [
       "''"
      ]
     },
     "metadata": {},
     "output_type": "display_data"
    },
    {
     "data": {
      "application/vnd.jupyter.widget-view+json": {
       "model_id": "e0a4a4cb654f4017abf0b571a9501467",
       "version_major": 2,
       "version_minor": 0
      },
      "text/plain": [
       "TestResultOutput(children=(Output(),))"
      ]
     },
     "metadata": {},
     "output_type": "display_data"
    }
   ],
   "source": [
    "%%ipytest\n",
    "# or %%ipytest test_module_name\n",
    "\n",
    "def solution_power2(x: int) -> int:\n",
    "    print(f\"My input is {x}\")\n",
    "    print(\"I am almost done\")\n",
    "    risak\n",
    "    for i in range(1000):\n",
    "        print(i)\n",
    "    return x ** 23\n",
    "\n"
   ]
  },
  {
   "cell_type": "code",
   "execution_count": 3,
   "metadata": {
    "tags": []
   },
   "outputs": [
    {
     "name": "stdout",
     "output_type": "stream",
     "text": [
      "\u001b[31mF\u001b[0m<Function test_power3[solution_power3-1]>\n",
      "\u001b[31mF\u001b[0m<Function test_power3[solution_power3-2]>\n",
      "\u001b[31mF\u001b[0m<Function test_power3[solution_power3-3]>\n",
      "\u001b[31mF\u001b[0m<Function test_power3[solution_power3-4]>\n",
      "\u001b[31mF\u001b[0m<Function test_power3[solution_power3-32]>\n",
      "\u001b[31m                                                                    [100%]\u001b[0m\n",
      "=================================== FAILURES ===================================\n",
      "\u001b[31m\u001b[1m________________________ test_power3[solution_power3-1] ________________________\u001b[0m\n",
      "\u001b[1m\u001b[31mtutorial/tests/test_magic_example.py\u001b[0m:34: in test_power3\n",
      "    \u001b[94massert\u001b[39;49;00m function_to_test(input_arg) == reference_magic_example(input_arg, \u001b[94m3\u001b[39;49;00m)\u001b[90m\u001b[39;49;00m\n",
      "\u001b[1m\u001b[31mE   assert 3 == 1\u001b[0m\n",
      "\u001b[1m\u001b[31mE    +  where 3 = <function solution_power3 at 0x7fdcc819f740>(1)\u001b[0m\n",
      "\u001b[1m\u001b[31mE    +  and   1 = reference_magic_example(1, 3)\u001b[0m\n",
      "----------------------------- Captured stdout call -----------------------------\n",
      "running\n",
      "\u001b[31m\u001b[1m________________________ test_power3[solution_power3-2] ________________________\u001b[0m\n",
      "\u001b[1m\u001b[31mtutorial/tests/test_magic_example.py\u001b[0m:34: in test_power3\n",
      "    \u001b[94massert\u001b[39;49;00m function_to_test(input_arg) == reference_magic_example(input_arg, \u001b[94m3\u001b[39;49;00m)\u001b[90m\u001b[39;49;00m\n",
      "\u001b[1m\u001b[31mE   assert 6 == 8\u001b[0m\n",
      "\u001b[1m\u001b[31mE    +  where 6 = <function solution_power3 at 0x7fdcc819f740>(2)\u001b[0m\n",
      "\u001b[1m\u001b[31mE    +  and   8 = reference_magic_example(2, 3)\u001b[0m\n",
      "----------------------------- Captured stdout call -----------------------------\n",
      "running\n",
      "\u001b[31m\u001b[1m________________________ test_power3[solution_power3-3] ________________________\u001b[0m\n",
      "\u001b[1m\u001b[31mtutorial/tests/test_magic_example.py\u001b[0m:34: in test_power3\n",
      "    \u001b[94massert\u001b[39;49;00m function_to_test(input_arg) == reference_magic_example(input_arg, \u001b[94m3\u001b[39;49;00m)\u001b[90m\u001b[39;49;00m\n",
      "\u001b[1m\u001b[31mE   assert 9 == 27\u001b[0m\n",
      "\u001b[1m\u001b[31mE    +  where 9 = <function solution_power3 at 0x7fdcc819f740>(3)\u001b[0m\n",
      "\u001b[1m\u001b[31mE    +  and   27 = reference_magic_example(3, 3)\u001b[0m\n",
      "----------------------------- Captured stdout call -----------------------------\n",
      "running\n",
      "\u001b[31m\u001b[1m________________________ test_power3[solution_power3-4] ________________________\u001b[0m\n",
      "\u001b[1m\u001b[31mtutorial/tests/test_magic_example.py\u001b[0m:34: in test_power3\n",
      "    \u001b[94massert\u001b[39;49;00m function_to_test(input_arg) == reference_magic_example(input_arg, \u001b[94m3\u001b[39;49;00m)\u001b[90m\u001b[39;49;00m\n",
      "\u001b[1m\u001b[31mE   assert 12 == 64\u001b[0m\n",
      "\u001b[1m\u001b[31mE    +  where 12 = <function solution_power3 at 0x7fdcc819f740>(4)\u001b[0m\n",
      "\u001b[1m\u001b[31mE    +  and   64 = reference_magic_example(4, 3)\u001b[0m\n",
      "----------------------------- Captured stdout call -----------------------------\n",
      "running\n",
      "\u001b[31m\u001b[1m_______________________ test_power3[solution_power3-32] ________________________\u001b[0m\n",
      "\u001b[1m\u001b[31mtutorial/tests/test_magic_example.py\u001b[0m:34: in test_power3\n",
      "    \u001b[94massert\u001b[39;49;00m function_to_test(input_arg) == reference_magic_example(input_arg, \u001b[94m3\u001b[39;49;00m)\u001b[90m\u001b[39;49;00m\n",
      "\u001b[1m\u001b[31mE   assert 96 == 32768\u001b[0m\n",
      "\u001b[1m\u001b[31mE    +  where 96 = <function solution_power3 at 0x7fdcc819f740>(32)\u001b[0m\n",
      "\u001b[1m\u001b[31mE    +  and   32768 = reference_magic_example(32, 3)\u001b[0m\n",
      "----------------------------- Captured stdout call -----------------------------\n",
      "running\n",
      "\u001b[36m\u001b[1m=========================== short test summary info ============================\u001b[0m\n",
      "\u001b[31mFAILED\u001b[0m tutorial/tests/test_magic_example.py::\u001b[1mtest_power3[solution_power3-1]\u001b[0m - assert 3 == 1\n",
      "\u001b[31mFAILED\u001b[0m tutorial/tests/test_magic_example.py::\u001b[1mtest_power3[solution_power3-2]\u001b[0m - assert 6 == 8\n",
      "\u001b[31mFAILED\u001b[0m tutorial/tests/test_magic_example.py::\u001b[1mtest_power3[solution_power3-3]\u001b[0m - assert 9 == 27\n",
      "\u001b[31mFAILED\u001b[0m tutorial/tests/test_magic_example.py::\u001b[1mtest_power3[solution_power3-4]\u001b[0m - assert 12 == 64\n",
      "\u001b[31mFAILED\u001b[0m tutorial/tests/test_magic_example.py::\u001b[1mtest_power3[solution_power3-32]\u001b[0m - assert 96 == 32768\n",
      "\u001b[31m\u001b[31m\u001b[1m5 failed\u001b[0m\u001b[31m in 0.02s\u001b[0m\u001b[0m\n"
     ]
    },
    {
     "data": {
      "text/plain": [
       "''"
      ]
     },
     "metadata": {},
     "output_type": "display_data"
    },
    {
     "data": {
      "text/plain": [
       "''"
      ]
     },
     "metadata": {},
     "output_type": "display_data"
    },
    {
     "data": {
      "text/plain": [
       "''"
      ]
     },
     "metadata": {},
     "output_type": "display_data"
    },
    {
     "data": {
      "text/plain": [
       "''"
      ]
     },
     "metadata": {},
     "output_type": "display_data"
    },
    {
     "data": {
      "text/plain": [
       "''"
      ]
     },
     "metadata": {},
     "output_type": "display_data"
    },
    {
     "name": "stdout",
     "output_type": "stream",
     "text": [
      "\u001b[32m.\u001b[0m\u001b[32m.\u001b[0m\u001b[32m.\u001b[0m\u001b[32m.\u001b[0m\u001b[32m.\u001b[0m\u001b[32m                                                                    [100%]\u001b[0m\n",
      "\u001b[32m\u001b[32m\u001b[1m5 passed\u001b[0m\u001b[32m in 0.01s\u001b[0m\u001b[0m\n"
     ]
    },
    {
     "data": {
      "text/plain": [
       "''"
      ]
     },
     "metadata": {},
     "output_type": "display_data"
    },
    {
     "data": {
      "text/plain": [
       "''"
      ]
     },
     "metadata": {},
     "output_type": "display_data"
    },
    {
     "data": {
      "text/plain": [
       "''"
      ]
     },
     "metadata": {},
     "output_type": "display_data"
    },
    {
     "data": {
      "text/plain": [
       "''"
      ]
     },
     "metadata": {},
     "output_type": "display_data"
    },
    {
     "data": {
      "text/plain": [
       "''"
      ]
     },
     "metadata": {},
     "output_type": "display_data"
    },
    {
     "data": {
      "application/vnd.jupyter.widget-view+json": {
       "model_id": "92e4093543564d668fc0826e33bc9054",
       "version_major": 2,
       "version_minor": 0
      },
      "text/plain": [
       "TestResultOutput(children=(Output(),))"
      ]
     },
     "metadata": {},
     "output_type": "display_data"
    },
    {
     "data": {
      "application/vnd.jupyter.widget-view+json": {
       "model_id": "cd10bbcc768945668cc7daea393aa7ef",
       "version_major": 2,
       "version_minor": 0
      },
      "text/plain": [
       "TestResultOutput(children=(Output(),))"
      ]
     },
     "metadata": {},
     "output_type": "display_data"
    }
   ],
   "source": [
    "%%ipytest magic_example\n",
    "def solution_power3  (x: int) -> int:\n",
    "    print(\"running\")\n",
    "    return x * 3\n",
    "\n",
    "def solution_power4(x: int) -> int:\n",
    "    print(\"running\")\n",
    "    return x ** 4"
   ]
  },
  {
   "cell_type": "code",
   "execution_count": 4,
   "metadata": {},
   "outputs": [
    {
     "ename": "ModuleNotFoundError",
     "evalue": "No module named 'tutorial.reveal_solution'",
     "output_type": "error",
     "traceback": [
      "\u001b[0;31m---------------------------------------------------------------------------\u001b[0m",
      "\u001b[0;31mModuleNotFoundError\u001b[0m                       Traceback (most recent call last)",
      "Cell \u001b[0;32mIn[4], line 1\u001b[0m\n\u001b[0;32m----> 1\u001b[0m \u001b[39mimport\u001b[39;00m \u001b[39mtutorial\u001b[39;00m\u001b[39m.\u001b[39;00m\u001b[39mreveal_solution\u001b[39;00m \u001b[39mas\u001b[39;00m \u001b[39mrs\u001b[39;00m\n\u001b[1;32m      2\u001b[0m \u001b[39mdef\u001b[39;00m \u001b[39ms\u001b[39m():\n\u001b[1;32m      3\u001b[0m     \u001b[39mprint\u001b[39m(\u001b[39m1\u001b[39m)\n",
      "\u001b[0;31mModuleNotFoundError\u001b[0m: No module named 'tutorial.reveal_solution'"
     ]
    }
   ],
   "source": [
    "import tutorial.reveal_solution as rs\n",
    "def s():\n",
    "    print(1)\n",
    "rs.Solution(locals(), \"s\")"
   ]
  }
 ],
 "metadata": {
  "kernelspec": {
   "display_name": "python-tutorial",
   "language": "python",
   "name": "python3"
  },
  "language_info": {
   "codemirror_mode": {
    "name": "ipython",
    "version": 3
   },
   "file_extension": ".py",
   "mimetype": "text/x-python",
   "name": "python",
   "nbconvert_exporter": "python",
   "pygments_lexer": "ipython3",
   "version": "3.11.3"
  },
  "vscode": {
   "interpreter": {
    "hash": "2b2b08c237e7c74caf82ad6490346743fce9bd812859047e307c1031e538ab1c"
   }
  }
 },
 "nbformat": 4,
 "nbformat_minor": 4
}
