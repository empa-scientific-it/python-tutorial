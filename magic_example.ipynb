{
 "cells": [
  {
   "cell_type": "code",
   "execution_count": 1,
   "metadata": {
    "tags": []
   },
   "outputs": [],
   "source": [
    "%reload_ext tutorial.tests.testsuite"
   ]
  },
  {
   "cell_type": "code",
   "execution_count": 2,
   "metadata": {
    "tags": []
   },
   "outputs": [
    {
     "name": "stdout",
     "output_type": "stream",
     "text": [
      "\u001b[32m.\u001b[0m\u001b[31mF\u001b[0m\u001b[31mF\u001b[0m\u001b[31mF\u001b[0m\u001b[31mF\u001b[0m\u001b[31m                                                                    [100%]\u001b[0m\n",
      "=================================== FAILURES ===================================\n",
      "\u001b[31m\u001b[1m________________________ test_power2[solution_power2-2] ________________________\u001b[0m\n",
      "\u001b[1m\u001b[31mtutorial/tests/test_magic_example.py\u001b[0m:28: in test_power2\n",
      "    \u001b[94massert\u001b[39;49;00m function_to_test(input_arg) == reference_solution_power2(input_arg)\u001b[90m\u001b[39;49;00m\n",
      "\u001b[1m\u001b[31mE   assert 8 == 4\u001b[0m\n",
      "\u001b[1m\u001b[31mE    +  where 8 = <function solution_power2 at 0x7f1b69d46ac0>(2)\u001b[0m\n",
      "\u001b[1m\u001b[31mE    +  and   4 = reference_solution_power2(2)\u001b[0m\n",
      "----------------------------- Captured stdout call -----------------------------\n",
      "My input is 2\n",
      "I am almost done\n",
      "\u001b[31m\u001b[1m________________________ test_power2[solution_power2-3] ________________________\u001b[0m\n",
      "\u001b[1m\u001b[31mtutorial/tests/test_magic_example.py\u001b[0m:28: in test_power2\n",
      "    \u001b[94massert\u001b[39;49;00m function_to_test(input_arg) == reference_solution_power2(input_arg)\u001b[90m\u001b[39;49;00m\n",
      "\u001b[1m\u001b[31mE   assert 27 == 9\u001b[0m\n",
      "\u001b[1m\u001b[31mE    +  where 27 = <function solution_power2 at 0x7f1b69d46ac0>(3)\u001b[0m\n",
      "\u001b[1m\u001b[31mE    +  and   9 = reference_solution_power2(3)\u001b[0m\n",
      "----------------------------- Captured stdout call -----------------------------\n",
      "My input is 3\n",
      "I am almost done\n",
      "\u001b[31m\u001b[1m________________________ test_power2[solution_power2-4] ________________________\u001b[0m\n",
      "\u001b[1m\u001b[31mtutorial/tests/test_magic_example.py\u001b[0m:28: in test_power2\n",
      "    \u001b[94massert\u001b[39;49;00m function_to_test(input_arg) == reference_solution_power2(input_arg)\u001b[90m\u001b[39;49;00m\n",
      "\u001b[1m\u001b[31mE   assert 64 == 16\u001b[0m\n",
      "\u001b[1m\u001b[31mE    +  where 64 = <function solution_power2 at 0x7f1b69d46ac0>(4)\u001b[0m\n",
      "\u001b[1m\u001b[31mE    +  and   16 = reference_solution_power2(4)\u001b[0m\n",
      "----------------------------- Captured stdout call -----------------------------\n",
      "My input is 4\n",
      "I am almost done\n",
      "\u001b[31m\u001b[1m_______________________ test_power2[solution_power2-32] ________________________\u001b[0m\n",
      "\u001b[1m\u001b[31mtutorial/tests/test_magic_example.py\u001b[0m:28: in test_power2\n",
      "    \u001b[94massert\u001b[39;49;00m function_to_test(input_arg) == reference_solution_power2(input_arg)\u001b[90m\u001b[39;49;00m\n",
      "\u001b[1m\u001b[31mE   assert 32768 == 1024\u001b[0m\n",
      "\u001b[1m\u001b[31mE    +  where 32768 = <function solution_power2 at 0x7f1b69d46ac0>(32)\u001b[0m\n",
      "\u001b[1m\u001b[31mE    +  and   1024 = reference_solution_power2(32)\u001b[0m\n",
      "----------------------------- Captured stdout call -----------------------------\n",
      "My input is 32\n",
      "I am almost done\n",
      "\u001b[36m\u001b[1m=========================== short test summary info ============================\u001b[0m\n",
      "\u001b[31mFAILED\u001b[0m tutorial/tests/test_magic_example.py::\u001b[1mtest_power2[solution_power2-2]\u001b[0m - assert 8 == 4\n",
      "\u001b[31mFAILED\u001b[0m tutorial/tests/test_magic_example.py::\u001b[1mtest_power2[solution_power2-3]\u001b[0m - assert 27 == 9\n",
      "\u001b[31mFAILED\u001b[0m tutorial/tests/test_magic_example.py::\u001b[1mtest_power2[solution_power2-4]\u001b[0m - assert 64 == 16\n",
      "\u001b[31mFAILED\u001b[0m tutorial/tests/test_magic_example.py::\u001b[1mtest_power2[solution_power2-32]\u001b[0m - assert 32768 == 1024\n",
      "\u001b[31m\u001b[31m\u001b[1m4 failed\u001b[0m, \u001b[32m1 passed\u001b[0m\u001b[31m in 0.04s\u001b[0m\u001b[0m\n",
      "\n"
     ]
    },
    {
     "data": {
      "text/html": [
       "<div class=\"alert alert-box alert-danger\"><h4>Tests <strong>FAILED</strong> for the function <code>power2</code></h4>&#x1F631 Your solution was not correct!</div><h4>I ran the test 'test_power2' 5 times with different arguments.</h4><h4>The outputs of your program for each test run are here. Click on the details to see them</h4><div class=\"alert alert-box\"><ul><li>For test tutorial/tests/test_magic_example.py::test_power2[solution_power2-1]: <details style=\"overflow-y: scroll; max-height: 100vh;\"><div style=\"border: 1px solid black\"><p>My input is 1</p><p>I am almost done</p></div></details></li><li>For test tutorial/tests/test_magic_example.py::test_power2[solution_power2-2]: <details style=\"overflow-y: scroll; max-height: 100vh;\"><div style=\"border: 1px solid black\"><p>My input is 2</p><p>I am almost done</p></div></details></li><li>For test tutorial/tests/test_magic_example.py::test_power2[solution_power2-3]: <details style=\"overflow-y: scroll; max-height: 100vh;\"><div style=\"border: 1px solid black\"><p>My input is 3</p><p>I am almost done</p></div></details></li><li>For test tutorial/tests/test_magic_example.py::test_power2[solution_power2-4]: <details style=\"overflow-y: scroll; max-height: 100vh;\"><div style=\"border: 1px solid black\"><p>My input is 4</p><p>I am almost done</p></div></details></li><li>For test tutorial/tests/test_magic_example.py::test_power2[solution_power2-32]: <details style=\"overflow-y: scroll; max-height: 100vh;\"><div style=\"border: 1px solid black\"><p>My input is 32</p><p>I am almost done</p></div></details></li><ul></div>"
      ],
      "text/plain": [
       "<IPython.core.display.HTML object>"
      ]
     },
     "metadata": {},
     "output_type": "display_data"
    },
    {
     "data": {
      "application/vnd.jupyter.widget-view+json": {
       "model_id": "fd411a7fbbf34f9ca6be0e9086f8ad55",
       "version_major": 2,
       "version_minor": 0
      },
      "text/plain": [
       "Solution(children=(Button(description='Solution exercise: power2', style=ButtonStyle()), Textarea(value='')))"
      ]
     },
     "metadata": {},
     "output_type": "display_data"
    }
   ],
   "source": [
    "%%ipytest\n",
    "# or %%ipytest test_module_name\n",
    "\n",
    "def solution_power2(x: int) -> int:\n",
    "    print(f\"My input is {x}\")\n",
    "    print(\"I am almost done\")\n",
    "    return x ** 3\n",
    "\n"
   ]
  },
  {
   "cell_type": "code",
   "execution_count": 3,
   "metadata": {
    "tags": []
   },
   "outputs": [
    {
     "name": "stdout",
     "output_type": "stream",
     "text": [
      "\u001b[31mF\u001b[0m\u001b[31mF\u001b[0m\u001b[31mF\u001b[0m\u001b[31mF\u001b[0m\u001b[31mF\u001b[0m\u001b[31m                                                                    [100%]\u001b[0m\n",
      "=================================== FAILURES ===================================\n",
      "\u001b[31m\u001b[1m________________________ test_power3[solution_power3-1] ________________________\u001b[0m\n",
      "\u001b[1m\u001b[31mtutorial/tests/test_magic_example.py\u001b[0m:34: in test_power3\n",
      "    \u001b[94massert\u001b[39;49;00m function_to_test(input_arg) == reference_magic_example(input_arg, \u001b[94m3\u001b[39;49;00m)\u001b[90m\u001b[39;49;00m\n",
      "\u001b[1m\u001b[31mE   assert 3 == 1\u001b[0m\n",
      "\u001b[1m\u001b[31mE    +  where 3 = <function solution_power3 at 0x7f1b69b85f80>(1)\u001b[0m\n",
      "\u001b[1m\u001b[31mE    +  and   1 = reference_magic_example(1, 3)\u001b[0m\n",
      "----------------------------- Captured stdout call -----------------------------\n",
      "running\n",
      "\u001b[31m\u001b[1m________________________ test_power3[solution_power3-2] ________________________\u001b[0m\n",
      "\u001b[1m\u001b[31mtutorial/tests/test_magic_example.py\u001b[0m:34: in test_power3\n",
      "    \u001b[94massert\u001b[39;49;00m function_to_test(input_arg) == reference_magic_example(input_arg, \u001b[94m3\u001b[39;49;00m)\u001b[90m\u001b[39;49;00m\n",
      "\u001b[1m\u001b[31mE   assert 6 == 8\u001b[0m\n",
      "\u001b[1m\u001b[31mE    +  where 6 = <function solution_power3 at 0x7f1b69b85f80>(2)\u001b[0m\n",
      "\u001b[1m\u001b[31mE    +  and   8 = reference_magic_example(2, 3)\u001b[0m\n",
      "----------------------------- Captured stdout call -----------------------------\n",
      "running\n",
      "\u001b[31m\u001b[1m________________________ test_power3[solution_power3-3] ________________________\u001b[0m\n",
      "\u001b[1m\u001b[31mtutorial/tests/test_magic_example.py\u001b[0m:34: in test_power3\n",
      "    \u001b[94massert\u001b[39;49;00m function_to_test(input_arg) == reference_magic_example(input_arg, \u001b[94m3\u001b[39;49;00m)\u001b[90m\u001b[39;49;00m\n",
      "\u001b[1m\u001b[31mE   assert 9 == 27\u001b[0m\n",
      "\u001b[1m\u001b[31mE    +  where 9 = <function solution_power3 at 0x7f1b69b85f80>(3)\u001b[0m\n",
      "\u001b[1m\u001b[31mE    +  and   27 = reference_magic_example(3, 3)\u001b[0m\n",
      "----------------------------- Captured stdout call -----------------------------\n",
      "running\n",
      "\u001b[31m\u001b[1m________________________ test_power3[solution_power3-4] ________________________\u001b[0m\n",
      "\u001b[1m\u001b[31mtutorial/tests/test_magic_example.py\u001b[0m:34: in test_power3\n",
      "    \u001b[94massert\u001b[39;49;00m function_to_test(input_arg) == reference_magic_example(input_arg, \u001b[94m3\u001b[39;49;00m)\u001b[90m\u001b[39;49;00m\n",
      "\u001b[1m\u001b[31mE   assert 12 == 64\u001b[0m\n",
      "\u001b[1m\u001b[31mE    +  where 12 = <function solution_power3 at 0x7f1b69b85f80>(4)\u001b[0m\n",
      "\u001b[1m\u001b[31mE    +  and   64 = reference_magic_example(4, 3)\u001b[0m\n",
      "----------------------------- Captured stdout call -----------------------------\n",
      "running\n",
      "\u001b[31m\u001b[1m_______________________ test_power3[solution_power3-32] ________________________\u001b[0m\n",
      "\u001b[1m\u001b[31mtutorial/tests/test_magic_example.py\u001b[0m:34: in test_power3\n",
      "    \u001b[94massert\u001b[39;49;00m function_to_test(input_arg) == reference_magic_example(input_arg, \u001b[94m3\u001b[39;49;00m)\u001b[90m\u001b[39;49;00m\n",
      "\u001b[1m\u001b[31mE   assert 96 == 32768\u001b[0m\n",
      "\u001b[1m\u001b[31mE    +  where 96 = <function solution_power3 at 0x7f1b69b85f80>(32)\u001b[0m\n",
      "\u001b[1m\u001b[31mE    +  and   32768 = reference_magic_example(32, 3)\u001b[0m\n",
      "----------------------------- Captured stdout call -----------------------------\n",
      "running\n",
      "\u001b[36m\u001b[1m=========================== short test summary info ============================\u001b[0m\n",
      "\u001b[31mFAILED\u001b[0m tutorial/tests/test_magic_example.py::\u001b[1mtest_power3[solution_power3-1]\u001b[0m - assert 3 == 1\n",
      "\u001b[31mFAILED\u001b[0m tutorial/tests/test_magic_example.py::\u001b[1mtest_power3[solution_power3-2]\u001b[0m - assert 6 == 8\n",
      "\u001b[31mFAILED\u001b[0m tutorial/tests/test_magic_example.py::\u001b[1mtest_power3[solution_power3-3]\u001b[0m - assert 9 == 27\n",
      "\u001b[31mFAILED\u001b[0m tutorial/tests/test_magic_example.py::\u001b[1mtest_power3[solution_power3-4]\u001b[0m - assert 12 == 64\n",
      "\u001b[31mFAILED\u001b[0m tutorial/tests/test_magic_example.py::\u001b[1mtest_power3[solution_power3-32]\u001b[0m - assert 96 == 32768\n",
      "\u001b[31m\u001b[31m\u001b[1m5 failed\u001b[0m\u001b[31m in 0.01s\u001b[0m\u001b[0m\n",
      "\n"
     ]
    },
    {
     "data": {
      "text/html": [
       "<div class=\"alert alert-box alert-danger\"><h4>Tests <strong>FAILED</strong> for the function <code>power3</code></h4>&#x1F631 Your solution was not correct!</div><h4>I ran the test 'test_power3' 5 times with different arguments.</h4><h4>The outputs of your program for each test run are here. Click on the details to see them</h4><div class=\"alert alert-box\"><ul><li>For test tutorial/tests/test_magic_example.py::test_power3[solution_power3-1]: <details style=\"overflow-y: scroll; max-height: 100vh;\"><div style=\"border: 1px solid black\"><p>running</p></div></details></li><li>For test tutorial/tests/test_magic_example.py::test_power3[solution_power3-2]: <details style=\"overflow-y: scroll; max-height: 100vh;\"><div style=\"border: 1px solid black\"><p>running</p></div></details></li><li>For test tutorial/tests/test_magic_example.py::test_power3[solution_power3-3]: <details style=\"overflow-y: scroll; max-height: 100vh;\"><div style=\"border: 1px solid black\"><p>running</p></div></details></li><li>For test tutorial/tests/test_magic_example.py::test_power3[solution_power3-4]: <details style=\"overflow-y: scroll; max-height: 100vh;\"><div style=\"border: 1px solid black\"><p>running</p></div></details></li><li>For test tutorial/tests/test_magic_example.py::test_power3[solution_power3-32]: <details style=\"overflow-y: scroll; max-height: 100vh;\"><div style=\"border: 1px solid black\"><p>running</p></div></details></li><ul></div>"
      ],
      "text/plain": [
       "<IPython.core.display.HTML object>"
      ]
     },
     "metadata": {},
     "output_type": "display_data"
    },
    {
     "data": {
      "text/html": [
       "<div class=\"alert alert-box alert-success\"><h4>Tests <strong>PASSED</strong> for the function <code>power4</code></h4>&#x1F64C Congratulations, your solution was correct!</div><h4>I ran the test 'test_power4' 5 times with different arguments.</h4><h4>The outputs of your program for each test run are here. Click on the details to see them</h4><div class=\"alert alert-box\"><ul><li>For test tutorial/tests/test_magic_example.py::test_power4[solution_power4-1]: <details style=\"overflow-y: scroll; max-height: 100vh;\"><div style=\"border: 1px solid black\"><p>running</p></div></details></li><li>For test tutorial/tests/test_magic_example.py::test_power4[solution_power4-2]: <details style=\"overflow-y: scroll; max-height: 100vh;\"><div style=\"border: 1px solid black\"><p>running</p></div></details></li><li>For test tutorial/tests/test_magic_example.py::test_power4[solution_power4-3]: <details style=\"overflow-y: scroll; max-height: 100vh;\"><div style=\"border: 1px solid black\"><p>running</p></div></details></li><li>For test tutorial/tests/test_magic_example.py::test_power4[solution_power4-4]: <details style=\"overflow-y: scroll; max-height: 100vh;\"><div style=\"border: 1px solid black\"><p>running</p></div></details></li><li>For test tutorial/tests/test_magic_example.py::test_power4[solution_power4-32]: <details style=\"overflow-y: scroll; max-height: 100vh;\"><div style=\"border: 1px solid black\"><p>running</p></div></details></li><ul></div>"
      ],
      "text/plain": [
       "<IPython.core.display.HTML object>"
      ]
     },
     "metadata": {},
     "output_type": "display_data"
    }
   ],
   "source": [
    "%%ipytest magic_example\n",
    "def solution_power3  (x: int) -> int:\n",
    "    print(\"running\")\n",
    "    return x * 3\n",
    "\n",
    "def solution_power4(x: int) -> int:\n",
    "    print(\"running\")\n",
    "    return x ** 4"
   ]
  },
  {
   "cell_type": "code",
   "execution_count": 4,
   "metadata": {},
   "outputs": [
    {
     "data": {
      "application/vnd.jupyter.widget-view+json": {
       "model_id": "0f1201cab01c434e80e677bfe6008943",
       "version_major": 2,
       "version_minor": 0
      },
      "text/plain": [
       "Solution(children=(Button(description='Solution exercise: s', style=ButtonStyle()), Textarea(value='')))"
      ]
     },
     "execution_count": 4,
     "metadata": {},
     "output_type": "execute_result"
    }
   ],
   "source": [
    "import tutorial.reveal_solution as rs\n",
    "def s():\n",
    "    print(1)\n",
    "rs.Solution(locals(), \"s\")"
   ]
  }
 ],
 "metadata": {
  "kernelspec": {
   "display_name": "python-tutorial",
   "language": "python",
   "name": "python3"
  },
  "language_info": {
   "codemirror_mode": {
    "name": "ipython",
    "version": 3
   },
   "file_extension": ".py",
   "mimetype": "text/x-python",
   "name": "python",
   "nbconvert_exporter": "python",
   "pygments_lexer": "ipython3",
   "version": "3.11.3"
  },
  "vscode": {
   "interpreter": {
    "hash": "2b2b08c237e7c74caf82ad6490346743fce9bd812859047e307c1031e538ab1c"
   }
  }
 },
 "nbformat": 4,
 "nbformat_minor": 4
}
