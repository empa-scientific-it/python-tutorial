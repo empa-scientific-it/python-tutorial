{
 "cells": [
  {
   "cell_type": "code",
   "execution_count": 1,
   "metadata": {
    "tags": []
   },
   "outputs": [],
   "source": [
    "%reload_ext tutorial.tests.testsuite"
   ]
  },
  {
   "cell_type": "code",
   "execution_count": 2,
   "metadata": {
    "tags": []
   },
   "outputs": [
    {
     "data": {
      "text/plain": [
       "4"
      ]
     },
     "execution_count": 2,
     "metadata": {},
     "output_type": "execute_result"
    },
    {
     "name": "stdout",
     "output_type": "stream",
     "text": [
      "\u001b[31mF\u001b[0m\u001b[32m.\u001b[0m\u001b[31mF\u001b[0m\u001b[31mF\u001b[0m\u001b[31mF\u001b[0m\u001b[31m                                                                    [100%]\u001b[0m\n",
      "=================================== FAILURES ===================================\n",
      "\u001b[31m\u001b[1m________________________ test_power2[solution_power2-1] ________________________\u001b[0m\n",
      "\u001b[1m\u001b[31mtutorial/tests/test_magic_example.py\u001b[0m:24: in test_power2\n",
      "    \u001b[94massert\u001b[39;49;00m function_to_test(input_arg) == reference_magic_example(input_arg, \u001b[94m2\u001b[39;49;00m)\u001b[90m\u001b[39;49;00m\n",
      "\u001b[1m\u001b[31mE   assert 2 == 1\u001b[0m\n",
      "\u001b[1m\u001b[31mE    +  where 2 = <function solution_power2 at 0x7f39807b8d60>(1)\u001b[0m\n",
      "\u001b[1m\u001b[31mE    +  and   1 = reference_magic_example(1, 2)\u001b[0m\n",
      "----------------------------- Captured stdout call -----------------------------\n",
      "running\n",
      "\u001b[31m\u001b[1m________________________ test_power2[solution_power2-3] ________________________\u001b[0m\n",
      "\u001b[1m\u001b[31mtutorial/tests/test_magic_example.py\u001b[0m:24: in test_power2\n",
      "    \u001b[94massert\u001b[39;49;00m function_to_test(input_arg) == reference_magic_example(input_arg, \u001b[94m2\u001b[39;49;00m)\u001b[90m\u001b[39;49;00m\n",
      "\u001b[1m\u001b[31mE   assert 6 == 9\u001b[0m\n",
      "\u001b[1m\u001b[31mE    +  where 6 = <function solution_power2 at 0x7f39807b8d60>(3)\u001b[0m\n",
      "\u001b[1m\u001b[31mE    +  and   9 = reference_magic_example(3, 2)\u001b[0m\n",
      "----------------------------- Captured stdout call -----------------------------\n",
      "running\n",
      "\u001b[31m\u001b[1m________________________ test_power2[solution_power2-4] ________________________\u001b[0m\n",
      "\u001b[1m\u001b[31mtutorial/tests/test_magic_example.py\u001b[0m:24: in test_power2\n",
      "    \u001b[94massert\u001b[39;49;00m function_to_test(input_arg) == reference_magic_example(input_arg, \u001b[94m2\u001b[39;49;00m)\u001b[90m\u001b[39;49;00m\n",
      "\u001b[1m\u001b[31mE   assert 8 == 16\u001b[0m\n",
      "\u001b[1m\u001b[31mE    +  where 8 = <function solution_power2 at 0x7f39807b8d60>(4)\u001b[0m\n",
      "\u001b[1m\u001b[31mE    +  and   16 = reference_magic_example(4, 2)\u001b[0m\n",
      "----------------------------- Captured stdout call -----------------------------\n",
      "running\n",
      "\u001b[31m\u001b[1m_______________________ test_power2[solution_power2-32] ________________________\u001b[0m\n",
      "\u001b[1m\u001b[31mtutorial/tests/test_magic_example.py\u001b[0m:24: in test_power2\n",
      "    \u001b[94massert\u001b[39;49;00m function_to_test(input_arg) == reference_magic_example(input_arg, \u001b[94m2\u001b[39;49;00m)\u001b[90m\u001b[39;49;00m\n",
      "\u001b[1m\u001b[31mE   assert 64 == 1024\u001b[0m\n",
      "\u001b[1m\u001b[31mE    +  where 64 = <function solution_power2 at 0x7f39807b8d60>(32)\u001b[0m\n",
      "\u001b[1m\u001b[31mE    +  and   1024 = reference_magic_example(32, 2)\u001b[0m\n",
      "----------------------------- Captured stdout call -----------------------------\n",
      "running\n",
      "\u001b[36m\u001b[1m=========================== short test summary info ============================\u001b[0m\n",
      "\u001b[31mFAILED\u001b[0m tutorial/tests/test_magic_example.py::\u001b[1mtest_power2[solution_power2-1]\u001b[0m - assert 2 == 1\n",
      "\u001b[31mFAILED\u001b[0m tutorial/tests/test_magic_example.py::\u001b[1mtest_power2[solution_power2-3]\u001b[0m - assert 6 == 9\n",
      "\u001b[31mFAILED\u001b[0m tutorial/tests/test_magic_example.py::\u001b[1mtest_power2[solution_power2-4]\u001b[0m - assert 8 == 16\n",
      "\u001b[31mFAILED\u001b[0m tutorial/tests/test_magic_example.py::\u001b[1mtest_power2[solution_power2-32]\u001b[0m - assert 64 == 1024\n",
      "\u001b[31m\u001b[31m\u001b[1m4 failed\u001b[0m, \u001b[32m1 passed\u001b[0m\u001b[31m in 0.05s\u001b[0m\u001b[0m\n",
      "\n"
     ]
    },
    {
     "data": {
      "text/html": [
       "<div class=\"alert alert-box alert-danger\"><h4>Tests <strong>FAILED</strong> for the function <code>power2</code></h4>&#x1F631 Your solution was not correct!</div>"
      ],
      "text/plain": [
       "<IPython.core.display.HTML object>"
      ]
     },
     "metadata": {},
     "output_type": "display_data"
    }
   ],
   "source": [
    "%%ipytest\n",
    "# or %%ipytest test_module_name\n",
    "\n",
    "def solution_power2(x: int) -> int:\n",
    "    print(\"running\")\n",
    "    return x * 2\n",
    "\n",
    "len([1,2,3,4])"
   ]
  },
  {
   "cell_type": "code",
   "execution_count": null,
   "metadata": {
    "tags": []
   },
   "outputs": [],
   "source": [
    "%%ipytest magic_example\n",
    "\n",
    "def solution_power3  (x: int) -> int:\n",
    "    print(\"running\")\n",
    "    return x * 3\n",
    "\n",
    "def solution_power4(x: int) -> int:\n",
    "    print(\"running\")\n",
    "    return x ** 4"
   ]
  },
  {
   "cell_type": "code",
   "execution_count": null,
   "metadata": {},
   "outputs": [],
   "source": [
    "import tutorial.reveal_solution as rs\n",
    "def s():\n",
    "    print(1)\n",
    "rs.Solution(locals(), \"s\")"
   ]
  }
 ],
 "metadata": {
  "kernelspec": {
   "display_name": "python-tutorial",
   "language": "python",
   "name": "python3"
  },
  "language_info": {
   "codemirror_mode": {
    "name": "ipython",
    "version": 3
   },
   "file_extension": ".py",
   "mimetype": "text/x-python",
   "name": "python",
   "nbconvert_exporter": "python",
   "pygments_lexer": "ipython3",
   "version": "3.11.3"
  },
  "vscode": {
   "interpreter": {
    "hash": "2b2b08c237e7c74caf82ad6490346743fce9bd812859047e307c1031e538ab1c"
   }
  }
 },
 "nbformat": 4,
 "nbformat_minor": 4
}
