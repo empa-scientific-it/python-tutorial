{
 "cells": [
  {
   "cell_type": "raw",
   "id": "e98e8ae2-16df-4e85-9d95-19d6f0f5e24f",
   "metadata": {},
   "source": [
    "---\n",
    "title: \"Control Flow\"\n",
    "format: revealjs\n",
    "callout-icon: false\n",
    "highlight-style: gruvbox\n",
    "jupyter: python3\n",
    "execute:\n",
    "    echo: true\n",
    "    enabled: false\n",
    "---"
   ]
  },
  {
   "cell_type": "markdown",
   "id": "7d456e6b-159d-4959-b258-60963c381ff6",
   "metadata": {},
   "source": [
    "# Table of contents {visibility=\"hidden\"}\n",
    "\n",
    "- [References](#References-{visibility=\"hidden\"})\n",
    "- [Conditionals](#Conditionals)\n",
    "- [The `while` loop](#The-while-loop)\n",
    "- [The `for` loop](#The-for-loop)\n",
    "- [Nested loops](#Nested-loops)\n",
    "- [Altering loops](#Altering-loops)\n",
    "- [Exceptions](#Exceptions)\n",
    "- [The `try-except` block](#The-try-except-block)\n",
    "- [Exercises](#Exercises)\n",
    "    - [Find the factors 🌶️](#Find-the-factors-🌶️)\n",
    "    - [Find the pair 🌶️](#Find-the-pair-🌶️)\n",
    "    - [Cats with hats 🌶️🌶️](#Cats-with-hats-🌶️🌶️)\n",
    "    - [Toboggan trajectory 🌶️🌶️🌶️](#Toboggan-trajectory-🌶️🌶️🌶️)\n"
   ]
  },
  {
   "cell_type": "markdown",
   "id": "5e5bb08a-2045-411b-8792-8cb255e9f066",
   "metadata": {},
   "source": [
    "## References {visibility=\"hidden\"}"
   ]
  },
  {
   "cell_type": "markdown",
   "id": "d79e417f-e04a-4f44-a2da-0759a5f845cf",
   "metadata": {},
   "source": [
    "From \"Python 4 Everybody\" online tutorial:\n",
    "\n",
    "- [Conditionals](https://www.py4e.com/html3/03-conditional)\n",
    "- [Loops and iterations](https://www.py4e.com/html3/05-iterations)"
   ]
  },
  {
   "cell_type": "markdown",
   "id": "74f5fff2-1321-49c3-aaa5-0151bb87fced",
   "metadata": {
    "tags": []
   },
   "source": [
    "## Conditionals"
   ]
  },
  {
   "cell_type": "markdown",
   "id": "c77d7858-0f56-4925-9724-689aadbb23a7",
   "metadata": {},
   "source": [
    "Python [supports](./basic_datatypes.ipynb#Comparison-operators) different comparison expressions. They return either `True` or `False`.\n",
    "\n",
    "We use these results to evaluate **conditional statements**, and branch have our program behave differently."
   ]
  },
  {
   "cell_type": "markdown",
   "id": "0d1335e1-76e8-48ad-907a-a9b9d14c61a5",
   "metadata": {},
   "source": [
    "---\n",
    "\n",
    "The main conditional is the `if-elif-else` block:\n",
    "\n",
    "```python\n",
    "if condition:\n",
    "    if sub_condition:\n",
    "        sub_statement\n",
    "        if sub_sub_condition:\n",
    "            sub_sub_statement\n",
    "elif another_condition:\n",
    "    other_statements\n",
    "else:\n",
    "    suite\n",
    "```\n",
    "::: {.incremental}\n",
    "\n",
    "- When a condition is false, the entire block of statements just below are **skipped**\n",
    "- The `elif` and `else` sections are **optional**\n",
    "- The block of statements under `else` is executed **only if all the conditions above are false**\n",
    "- You can nest conditionals, but try to avoid too many branches for both readability and performance\n",
    "\n",
    ":::"
   ]
  },
  {
   "cell_type": "code",
   "execution_count": null,
   "id": "f79d4a60",
   "metadata": {
    "tags": []
   },
   "outputs": [],
   "source": [
    "# Case 1\n",
    "if True:\n",
    "    print(\"If is True\")\n",
    "elif False:\n",
    "    print(\"This won't be printed\")\n",
    "else:\n",
    "    print(\"This won't be printed either\")\n",
    "\n",
    "# Case 2\n",
    "if False:\n",
    "    print(\"This won't be printed\")\n",
    "elif True:\n",
    "    print(\"Elif is True\")\n",
    "else:\n",
    "    print(\"This won't be printed\")\n",
    "    \n",
    "# Case 3\n",
    "if False:\n",
    "    print(\"This won't be printed\")\n",
    "elif False:\n",
    "    print(\"This won't be printed either\")\n",
    "else:\n",
    "    print(\"Only statement under else is executed\")\n"
   ]
  },
  {
   "cell_type": "markdown",
   "id": "086bd853-ed18-4d16-8a34-44675faa860c",
   "metadata": {
    "tags": []
   },
   "source": [
    "## The `while` loop"
   ]
  },
  {
   "cell_type": "markdown",
   "id": "2f047b04-c9c0-49b3-8476-f7aa31a45bb6",
   "metadata": {},
   "source": [
    "`while` loops repeat a block of code until some condition remains true.\n",
    "\n",
    "1. The `while` **statement** starts with the `while` (reserved) keyword, followed by a `test_condition`, and must end with a colon (`:`)\n",
    "2. The **loop body** contains the lines of code that get repeated. Each line must be indented, or you will get a syntax error\n",
    "3. The **else** clause is optional, and is executed when the `test_condition` becomes false.\n",
    "\n",
    "```python\n",
    "\n",
    "```python\n",
    "while test_condition:\n",
    "    body\n",
    "[else:\n",
    "    suite]\n",
    "```\n",
    "\n",
    "---"
   ]
  },
  {
   "cell_type": "markdown",
   "id": "6d6d18f4-a797-4a3a-acd7-76a5e3d29f8c",
   "metadata": {},
   "source": [
    "A very simple example:"
   ]
  },
  {
   "cell_type": "code",
   "execution_count": null,
   "id": "2d7f000c-6b7a-44e8-bc96-0fe677ceeea3",
   "metadata": {
    "tags": []
   },
   "outputs": [],
   "source": [
    "n = 1\n",
    "while n < 5:\n",
    "    print(n)\n",
    "    n = n + 1\n",
    "else:\n",
    "    print(\"While loop is over\")"
   ]
  },
  {
   "cell_type": "markdown",
   "id": "7d975ebe",
   "metadata": {},
   "source": [
    "First, `n` is initialized to 1.\n",
    "Then the `while` loop starts and tests the condition `n < 5`.\n",
    "Since it's `True`, it enters the loop body, where it prints the number and increment `n` by 1.\n",
    "As soon as `n = 5`, the `n < 5` evaluates to `False`, and the loop stops.\n",
    "The only statement executed after the loop is over is the `print` statement in the `else` clause.\n",
    "\n"
   ]
  },
  {
   "cell_type": "markdown",
   "id": "8e5c5a4d-3a5d-43ad-a5dc-abb53799b71d",
   "metadata": {},
   "source": [
    "\n",
    "\n",
    "If you are not careful, you can create an **infinite loop**: it happens when your condition is always `True`.\n",
    "The above example can be easily turn into an infinite loop:\n",
    "\n",
    "```python\n",
    "n = 1\n",
    "while n < 5:\n",
    "    print(n)\n",
    "```\n",
    "\n",
    "::: {.callout-note}\n",
    "\n",
    "Infinite loops are not inherently bad.\n",
    "They can be the precise thing you need sometimes.\n",
    "For example, when you need to continously perform a check and perform the same set of steps.\n",
    "\n",
    "But in that case you would write something like:\n",
    "\n",
    "```python\n",
    "while True:\n",
    "    ...\n",
    "```\n",
    "\n",
    ":::"
   ]
  },
  {
   "cell_type": "markdown",
   "id": "96aaf8c7-3c4b-4547-8f62-cf49f840159b",
   "metadata": {
    "tags": []
   },
   "source": [
    "## The `for` loop"
   ]
  },
  {
   "cell_type": "markdown",
   "id": "2b2eac3c-c83d-482b-975b-7b7787206310",
   "metadata": {},
   "source": [
    "In Python, an **iterable** is an **object** capable of returning its members one at a time.\n",
    "It's a generic object with this particular property.\n",
    "\n",
    "Iterable objects are: lists, strings, `range()` objects, file objects and many more.\n",
    "\n",
    "::: {.callout-important}\n",
    "\n",
    "The main purpose of the `for` lopp is to access all the elements of an iterable\n",
    "\n",
    ":::\n",
    "\n",
    "---"
   ]
  },
  {
   "cell_type": "markdown",
   "id": "fd11a026-1d83-437c-8a41-263ed76ed764",
   "metadata": {},
   "source": [
    "In other languages (C++, Java or JavaScript), a `for` loop is more similar to `while` in Python. For example, the C++ loop\n",
    "\n",
    "```cpp\n",
    "for (unsigned int i = 0; i < 10; ++i) {\n",
    "    std::cout << i << std::endl;\n",
    "}\n",
    "```\n",
    "\n",
    "could be translated to Python as we've seen before\n",
    "\n",
    "```python\n",
    "i = 0\n",
    "while i < 10:\n",
    "    print(i)\n",
    "    i = i + 1\n",
    "```\n",
    "\n",
    "In the C++ code, the looping variable `i` is automatically discarded when the loop is over. In Python, `i` will retain the **last value** that was assigned inside the `while` body.\n",
    "\n",
    "\n",
    "---\n",
    "\n",
    "The syntax of a `for` loop is\n",
    "\n",
    "```python\n",
    "for taget in iterable:\n",
    "    body\n",
    "[else:\n",
    "   suite]\n",
    "```\n",
    "\n",
    "1. The `for` **statement** starts with the keyword `for`, followed by a **membership expression**, and ends with a colon (`:`)\n",
    "2. The **loop body** contains the code to be repeated, in the same way as the `while` loop"
   ]
  },
  {
   "cell_type": "markdown",
   "id": "ea4aa10a-f4f3-4d8f-ac61-f1fc20237a46",
   "metadata": {},
   "source": [
    "---\n",
    "\n",
    "Example:"
   ]
  },
  {
   "cell_type": "code",
   "execution_count": null,
   "id": "9ca56906-4c43-4d0c-acf6-07a1370299d9",
   "metadata": {
    "tags": []
   },
   "outputs": [],
   "source": [
    "for letter in \"Python\":\n",
    "    print(letter)"
   ]
  },
  {
   "cell_type": "markdown",
   "id": "bcf00919-de04-4406-8c9a-5ee9b80a0623",
   "metadata": {},
   "source": [
    "The loops runs until there are letters in the string `'Python'`, as strings are iterable.\n",
    "Doing the same with a `while` loop would be just more complex:"
   ]
  },
  {
   "cell_type": "code",
   "execution_count": null,
   "id": "4c97b210-1fa9-4d73-b156-5306e0b9c256",
   "metadata": {
    "tags": []
   },
   "outputs": [],
   "source": [
    "word = \"Python\"\n",
    "index = 0\n",
    "\n",
    "while index < len(word):\n",
    "    print(word[index])\n",
    "    index = index + 1"
   ]
  },
  {
   "cell_type": "markdown",
   "id": "e3f2fdf7-d032-4c69-975c-704acae75ade",
   "metadata": {},
   "source": [
    "Why writing six lines of code when we can do the same with just two?"
   ]
  },
  {
   "cell_type": "markdown",
   "id": "75cb8fcd-6cb7-4c04-a843-3369eb41e066",
   "metadata": {},
   "source": [
    "---\n",
    "\n",
    "Sometimes you want to loop over a range of numbers.\n",
    "Python has the built-in function `range()`: it produces a **range object** which is... an iterable!\n",
    "\n",
    "The syntax is `range([start,] stop[, step])`, where `start` is optional and defaults to 0. If `step` is omitted, it's taken to be 1\n",
    "\n",
    "::: {.callout-note}\n",
    "\n",
    "`range()` **never** includes its `stop` element.\n",
    "It always provides a sequence of numbers that is **less than** the `stop` value.\n",
    "For instance `range(10)` produces the numbers 0, 1, 2, 3, 4, 5, 6, 7, 8, 9.\n",
    "\n",
    ":::"
   ]
  },
  {
   "cell_type": "markdown",
   "id": "642d0ffe-b8c9-4076-a2e2-1b86722cf1a1",
   "metadata": {
    "tags": []
   },
   "source": [
    "## Nested loops"
   ]
  },
  {
   "cell_type": "markdown",
   "id": "840b0480-9cc7-4947-8cf9-c375d9d267f5",
   "metadata": {
    "jp-MarkdownHeadingCollapsed": true,
    "tags": []
   },
   "source": [
    "You can put loops inside of other loops (of any kind). Just be careful to respect the indentation:\n",
    "\n",
    "```python\n",
    "for n in range(1, 4):\n",
    "    for m in range(4, 7):\n",
    "        print(\"n = \", n, \" and j = \", m)\n",
    "```\n",
    "\n",
    "The outer loop over `n` goes from 1 to 3. For each iteration, a new inner loop over `m` is started from 4 to 6.\n",
    "\n",
    "::: {.callout-important}\n",
    "\n",
    "Nesting loop can have **dramatic** consequences on your program's performance.\n",
    "The body of the loop above repeats $n \\times m$ times.\n",
    "If $n$, $m$, or both are large numbers, your program might take a while to finish\n",
    "\n",
    ":::\n",
    "\n",
    "::: {.notes}\n",
    "\n",
    "You will get **9 lines of output**, as the two range objects contain exactly 3 elements each.\n",
    "\n",
    ":::"
   ]
  },
  {
   "cell_type": "markdown",
   "id": "c460c1d8-54c9-48cc-bf35-3395c78214fc",
   "metadata": {
    "tags": []
   },
   "source": [
    "## Altering loops"
   ]
  },
  {
   "cell_type": "markdown",
   "id": "03709197-8bbc-4ba8-9f96-5e380ccc4484",
   "metadata": {},
   "source": [
    "There are **4 ways** in which you can alter the normal execution of a loop:\n",
    "\n",
    "1. With an `if` statement inside a `for`/`while` loop\n",
    "2. With the `break` keyword: the loop stops **immediately**\n",
    "3. With the `continue` keyword: the statements **after** the keyword are skipped and the next iteration is started\n",
    "4. With the `else` clause after a `for`/`while` body: the `else` statement(s) are run **only** if no `break` statement is encountered in the loop body\n"
   ]
  },
  {
   "cell_type": "markdown",
   "id": "3fe08146-d503-4595-b031-ca765e8b3e77",
   "metadata": {},
   "source": [
    "---\n",
    "\n",
    "### `if` statement inside `for`/`while`\n",
    "\n",
    "The following code sums **only** the even numbers from 1 to 100. It also prints when an odd number is encountered:"
   ]
  },
  {
   "cell_type": "code",
   "execution_count": null,
   "id": "33c2bc7a-130a-40ef-8f9a-07eab5aa9283",
   "metadata": {
    "tags": []
   },
   "outputs": [],
   "source": [
    "sum_of_evens = 0\n",
    "\n",
    "for n in range(101):\n",
    "    if n % 2 == 0:\n",
    "        sum_of_evens = sum_of_evens + n\n",
    "    else:\n",
    "        print(n, \"is an odd number\")\n",
    "\n",
    "print(sum_of_evens)"
   ]
  },
  {
   "cell_type": "markdown",
   "id": "9211f675-0cda-449e-bcd4-0fa3d4c2f3a8",
   "metadata": {},
   "source": [
    "---\n",
    "\n",
    "### The `break` keyword\n",
    "\n",
    "In this example, the `while` loop will continue until `i` is equal to 5. At that point, the `break` statement is executed, causing the loop to terminate prematurely."
   ]
  },
  {
   "cell_type": "code",
   "execution_count": null,
   "id": "b3ff6863-2dff-4dfb-a6f0-8d91f1801476",
   "metadata": {
    "tags": []
   },
   "outputs": [],
   "source": [
    "i = 0\n",
    "while i < 10:\n",
    "    i += 1\n",
    "    if i == 5:\n",
    "        break\n",
    "    print(i)\n",
    "\n",
    "print(\"Loop terminated with break\")"
   ]
  },
  {
   "cell_type": "markdown",
   "id": "0e9e96a9-b55e-4862-9843-5dc8364f3673",
   "metadata": {},
   "source": [
    "---\n",
    "\n",
    "### The `continue` keyword\n",
    "\n",
    "In this example, the `for` loop will iterate over the numbers from 0 to 9. However, when `i` is **even**, the `continue` statement is executed, causing the loop to skip the rest of the statements in the loop and move on to the next iteration"
   ]
  },
  {
   "cell_type": "code",
   "execution_count": null,
   "id": "3cba31f4-4242-476d-a646-507e3e85fc1a",
   "metadata": {
    "tags": []
   },
   "outputs": [],
   "source": [
    "for i in range(10):\n",
    "    if i % 2 == 0:\n",
    "        continue\n",
    "    print(i)\n",
    "\n",
    "print(\"Loop terminated normally\")"
   ]
  },
  {
   "cell_type": "markdown",
   "id": "7076fd6d-524e-45b4-873e-ec86d5847e27",
   "metadata": {},
   "source": [
    "---\n",
    "\n",
    "### `else` after a `for`/`while`\n",
    "\n",
    "Here the `for` loop iterates over a list of numbers. If the current `num` is equal to 4, a print statement and then `break` are executed.\n",
    "\n",
    "If we complete the loop without finding 4, then the `else` block is executed and a message is printed indicating that 4 was not found in the list."
   ]
  },
  {
   "cell_type": "code",
   "execution_count": null,
   "id": "d62ea1e6-9e05-41c1-85aa-5c5970fc6b85",
   "metadata": {
    "tags": []
   },
   "outputs": [],
   "source": [
    "numbers = [1, 3, 5, 7, 9]\n",
    "\n",
    "for num in numbers:\n",
    "    if num == 4:\n",
    "        print(\"Found 4 - breaking loop\")\n",
    "        break\n",
    "else:\n",
    "    print(\"4 not found in list\")"
   ]
  },
  {
   "cell_type": "markdown",
   "id": "c9ea4715",
   "metadata": {},
   "source": [
    "Let's see what happens if we change the list to `[1, 2, 3, 4]`:"
   ]
  },
  {
   "cell_type": "code",
   "execution_count": null,
   "id": "71be2a81",
   "metadata": {
    "tags": []
   },
   "outputs": [],
   "source": [
    "numbers = [1, 2, 3, 4]\n",
    "\n",
    "for num in numbers:\n",
    "    if num == 4:\n",
    "        print(\"Found 4 - breaking loop\")\n",
    "        break\n",
    "else:\n",
    "    print(\"4 not found in list\")"
   ]
  },
  {
   "cell_type": "markdown",
   "id": "478550ff-87ad-45f5-adcb-1f486bfb5689",
   "metadata": {},
   "source": [
    "## Exceptions"
   ]
  },
  {
   "cell_type": "markdown",
   "id": "d192308f-eb06-4b39-b791-8df6514ca491",
   "metadata": {},
   "source": [
    "Another way of controlling the flow of a program is by **catching exceptions**.\n",
    "Exceptions are run-time errors that are raised by the interpreter while executing the program.\n",
    "Python has many [built-in exceptions](https://docs.python.org/3/library/exceptions.html#built-in-exceptions), including:\n",
    "\n",
    "\n",
    "\n",
    ":::: {.columns}\n",
    "\n",
    "::: {.column width=\"50%\"}\n",
    "- `TypeError`\n",
    "- `NameError`\n",
    "- `ValueError`\n",
    "- `KeyError`\n",
    ":::\n",
    "\n",
    "::: {.column width=\"50%\"}\n",
    "- `SyntaxError`\n",
    "- `IndexError`\n",
    "- `ZeroDivisionError`\n",
    "- `OverflowError`\n",
    ":::\n",
    "\n",
    "::::\n",
    "\n",
    "::: {.notes}\n",
    "\n",
    "`TypeError`: an operation is performed on the wrong type\n",
    "\n",
    "`NameError`: raised when a local or global name is not found\n",
    "\n",
    "`IndexError`: raised when you try to access an index that is outside the bounds of a list, tuple, or other sequence.\n",
    "\n",
    ":::"
   ]
  },
  {
   "cell_type": "markdown",
   "id": "542fdbf1-d9e5-4f71-baac-e66899c99292",
   "metadata": {},
   "source": [
    "## The `try-except` block"
   ]
  },
  {
   "cell_type": "markdown",
   "id": "5b1e549e-a24d-43b7-9531-e14383f64069",
   "metadata": {},
   "source": [
    "When you can predict if a certain exception might occur, it's **always a good programming practice** to write what the program should do in that case\n",
    "\n",
    "Python provides you with the `try-except` construct for this purpose. Example:"
   ]
  },
  {
   "cell_type": "code",
   "execution_count": null,
   "id": "b7dc7edb-9398-4b8f-a0a9-d00a5c50e3f7",
   "metadata": {
    "tags": []
   },
   "outputs": [],
   "source": [
    "numerator = 10\n",
    "denominator = 0\n",
    "\n",
    "try:\n",
    "    result = numerator / denominator\n",
    "    print(result)\n",
    "except ZeroDivisionError:\n",
    "    print(\"Error: division by zero\")"
   ]
  },
  {
   "cell_type": "markdown",
   "id": "3c1e6903-4306-4255-907c-8e71dbdcee7b",
   "metadata": {},
   "source": [
    "---\n",
    "\n",
    "You can handle **multiple exceptions** at the same time"
   ]
  },
  {
   "cell_type": "code",
   "execution_count": null,
   "id": "d92a4bb9-6844-4633-aad8-33cdac070325",
   "metadata": {
    "tags": []
   },
   "outputs": [],
   "source": [
    "num_1 = 30\n",
    "# num_2 = 0   # this leaves num_2 undefined\n",
    "\n",
    "try:\n",
    "    print(num_1 / num_2)\n",
    "except (NameError, ZeroDivisionError) as err:\n",
    "    print(\"Error encountered:\", err)"
   ]
  },
  {
   "cell_type": "markdown",
   "id": "11357ea4-ff6d-4831-975b-921f7630d37f",
   "metadata": {},
   "source": [
    "Or you can **catch each exceptions individually** to give more information about the kind of error encountered\n",
    "\n",
    "::: {.callout-tip}\n",
    "\n",
    "You can use `except` **without** any exception name, a *bare* `except`. Python will catch any exception. It's usually much better to let the user know about the kind of error encountered with all the details you can collect\n",
    "\n",
    ":::\n",
    "\n",
    "---\n",
    "\n",
    "The `try-except` construct includes two **optional** clauses: `else` and `finally`\n",
    "\n",
    "- Any statement in the `else` is executed **only** if the `try` block did **not** raise any exception\n",
    "- The statements belonging to `finally` will be **always** executed, regardless of any exception raised\n",
    "\n",
    "---\n",
    "\n",
    "Here's an example of a *full* `try-except` block:"
   ]
  },
  {
   "cell_type": "code",
   "execution_count": null,
   "id": "5fc9d098-e17f-4ddd-8f32-7e33651d2052",
   "metadata": {
    "tags": []
   },
   "outputs": [],
   "source": [
    "try:\n",
    "    file = open(\"README.txt\", \"r\")\n",
    "except FileNotFoundError:\n",
    "    print(\"Error: file not found\")\n",
    "else:\n",
    "    contents = file.read()\n",
    "    print(contents)\n",
    "finally:\n",
    "    file.close()  # this statement is always executed"
   ]
  },
  {
   "cell_type": "markdown",
   "id": "295c7eb8-9c74-43f9-ae5c-58e6699d90e6",
   "metadata": {},
   "source": [
    "- We try to open a file called `README.txt`. A `FileNotFoundError` will be raised if it's not found\n",
    "- If the file exists, the `else` block is executed: we read and print its contents\n",
    "- We use a `finally` block to close the file handle, ensuring that it is properly cleaned up\n",
    "\n",
    "::: {.notes}\n",
    "\n",
    "We will see a much better way to handle files tomorrow. This was just an example to illustrate the `try-except-finally` block\n",
    "\n",
    ":::"
   ]
  },
  {
   "cell_type": "markdown",
   "id": "3175d392-66b2-4bca-80f9-cf3f45c3a84a",
   "metadata": {
    "tags": []
   },
   "source": [
    "# Exercises"
   ]
  },
  {
   "cell_type": "code",
   "execution_count": null,
   "id": "b834570f-965c-4440-9c6e-d713f680c82b",
   "metadata": {
    "tags": []
   },
   "outputs": [],
   "source": [
    "%reload_ext tutorial.tests.testsuite\n",
    "\n",
    "import pathlib"
   ]
  },
  {
   "cell_type": "markdown",
   "id": "26f986e9-dd0e-4445-b6df-73aee64c565b",
   "metadata": {
    "tags": []
   },
   "source": [
    "## Find the factors 🌶️"
   ]
  },
  {
   "cell_type": "markdown",
   "id": "c596ee74-776e-4114-b82c-823fc9f8f751",
   "metadata": {},
   "source": [
    "A factor of a positive integer `n` is any positive integer less than or equal to `n` that divides `n` with no remainder.\n",
    "\n",
    "**Question:** complete the Python code below. Given an integer $n$, return the list of all integers $m \\leq n$ that are factors of $n$.\n",
    "\n",
    "*Hint:* for the moment, consider **all** integers less than or equal to $n$"
   ]
  },
  {
   "cell_type": "code",
   "execution_count": null,
   "id": "4b18485d-ad65-4388-813b-b37832ef255e",
   "metadata": {
    "tags": []
   },
   "outputs": [],
   "source": [
    "%%ipytest\n",
    "\n",
    "def solution_find_factors(n: int) -> list[int]:\n",
    "    \"\"\"\n",
    "    Write your solution here\n",
    "    \"\"\"\n",
    "    pass"
   ]
  },
  {
   "cell_type": "markdown",
   "id": "5c2e26a7-31f4-4419-a68d-811da56adfb1",
   "metadata": {},
   "source": [
    "## Find the pair 🌶️\n",
    "\n",
    "Given a list of integers, your task is to complete the code below that finds the pair of numbers in the list that add up to `2020`. The list of numbers is already available as the variable `nums`.\n",
    "\n",
    "**Questions:** what do you get if you multiply them together?\n",
    "\n",
    "*Hint:* does \"nested loops\" ring a bell?"
   ]
  },
  {
   "cell_type": "markdown",
   "id": "4156c367-e1b8-400c-bb2f-71c812c8ee7a",
   "metadata": {},
   "source": [
    "### Part 1"
   ]
  },
  {
   "cell_type": "code",
   "execution_count": null,
   "id": "54360e0e-0867-4acc-8f48-35ca15b37d39",
   "metadata": {
    "tags": []
   },
   "outputs": [],
   "source": [
    "%%ipytest\n",
    "\n",
    "def solution_find_pair(nums: list[int]) -> int:\n",
    "    \"\"\"\n",
    "    Write your solution here\n",
    "    \"\"\"\n",
    "    pass"
   ]
  },
  {
   "cell_type": "markdown",
   "id": "55055676-4a91-4c45-8db6-b1736a958138",
   "metadata": {},
   "source": [
    "### Part 2\n",
    "\n",
    "**Question:** can you find *three* numbers that add up to `2020`?\n",
    "\n",
    "*Hint:* too many nested loops can worsen a lot your code's performance"
   ]
  },
  {
   "cell_type": "code",
   "execution_count": null,
   "id": "ae7e92dd-caa2-41ea-9eda-ad2d7a2bf1ad",
   "metadata": {
    "tags": []
   },
   "outputs": [],
   "source": [
    "%%ipytest\n",
    "\n",
    "def solution_find_triplet(nums: list[int]) -> int:\n",
    "    \"\"\"\n",
    "    Write your solution here\n",
    "    \"\"\"\n",
    "    pass"
   ]
  },
  {
   "cell_type": "markdown",
   "id": "cc5d1993-29ab-4e73-911f-61830a220c4e",
   "metadata": {},
   "source": [
    "## Cats with hats 🌶️🌶️\n",
    "\n",
    "You have 100 cats.\n",
    "One day you decide to arrange all your cats in a giant circle. Initially, none of your cats have any hats on. You walk around the circle 100 times, always starting at the same spot, with the ﬁrst cat (cat #1).\n",
    "\n",
    "Every time you stop at a cat, you either put a hat on it if it **doesn’t** have one on, or you take its hat oﬀ if it has one.\n",
    "\n",
    "1. The ﬁrst round, you stop at every cat, placing a hat on each one.\n",
    "2. The second round, you only stop at every second cat (2, 4, 6, 8, etc.)\n",
    "3. The third round, you only stop at every third cat (3, 6, 9, 12, etc.)\n",
    "4. You continue this process until you’ve made 100 rounds around the cats (e.g., you only visit the last cat).\n",
    "\n",
    "**Question:** after the 100th round, how many cats will have a hat?\n",
    "\n",
    "*Hint:* you can approach this problem with either **lists** (`[]`) or **dictionaries** (key-value pairs)."
   ]
  },
  {
   "cell_type": "code",
   "execution_count": null,
   "id": "a694a2c2-38de-4576-964e-cc3181d9fa0d",
   "metadata": {
    "tags": []
   },
   "outputs": [],
   "source": [
    "%%ipytest\n",
    "\n",
    "def solution_cats_with_hats() -> int:\n",
    "    \"\"\"\n",
    "    Write your solution here\n",
    "    \"\"\"\n",
    "    pass"
   ]
  },
  {
   "cell_type": "markdown",
   "id": "ef9ce337-7a8b-4766-9593-28edf579fe25",
   "metadata": {
    "tags": []
   },
   "source": [
    "## Toboggan trajectory 🌶️🌶️🌶️"
   ]
  },
  {
   "cell_type": "markdown",
   "id": "ef18383f-235f-420f-9f48-f7de45c94d28",
   "metadata": {},
   "source": [
    "During a winter holidays break, your friends propose to hold a [toboggan](https://en.wikipedia.org/wiki/Toboggan) race. While inspecting the map of the place where you decided to hold the race, you realize that it could be rather dangerous as there are many trees along the slope.\n",
    "\n",
    "The following is an example of a map:\n",
    "\n",
    "```\n",
    "..##.......\n",
    "#...#...#..\n",
    ".#....#..#.\n",
    "..#.#...#.#\n",
    ".#...##..#.\n",
    "..#.##.....\n",
    ".#.#.#....#\n",
    ".#........#\n",
    "#.##...#...\n",
    "#...##....#\n",
    ".#..#...#.#\n",
    "```\n",
    "\n",
    "A `#` character indicates the position of a tree. These aren't the only trees though, because the map extends **on the right** many times. Your toboggan is an old model which can only follow certain paths with fixed steps **down** and **right**.\n",
    "\n",
    "You start at the top-left and check the position that is **right 3 and down 1**. Then, check the position that is right 3 and down 1 from there, and so on until you go past the bottom of the map."
   ]
  },
  {
   "cell_type": "markdown",
   "id": "3a4a6a1e-79d0-4ac1-9821-a134dea56b19",
   "metadata": {},
   "source": [
    "#### Part 1 🌶️"
   ]
  },
  {
   "cell_type": "markdown",
   "id": "a1b89202-88f3-4758-bffe-c9026ff993d5",
   "metadata": {},
   "source": [
    "<b>Question:</b> How many trees would you encounter during your slope?"
   ]
  },
  {
   "cell_type": "markdown",
   "id": "5d5699be-3d72-4e31-9281-456dd5025297",
   "metadata": {},
   "source": [
    "*Hint 1:* Read the trees map as a **nested list** where each `#` corresponds to 1 and each empty site is 0"
   ]
  },
  {
   "cell_type": "markdown",
   "id": "6c528a49-5f30-48ae-9fa5-29bd3e6ff4d7",
   "metadata": {},
   "source": [
    "*Hint 2:* In the `solution_` function, define **4 variables**:\n",
    "\n",
    "1. the position (starting at <code>[0, 0]</code>)\n",
    "2. the number of trees encountered\n",
    "3. the depth of the map\n",
    "4. the width of the map"
   ]
  },
  {
   "cell_type": "code",
   "execution_count": null,
   "id": "a01ced11-d8df-4dcb-af5a-c31cc507f5b7",
   "metadata": {},
   "outputs": [],
   "source": [
    "%%ipytest\n",
    "\n",
    "trees_map_str = pathlib.Path(\"tutorial/tests/data/trees_1.txt\").read_text()  # do NOT change this line\n",
    "\n",
    "trees_map = []\n",
    "\n",
    "for line in trees_map_str.splitlines():\n",
    "    row = []\n",
    "    for position in line:\n",
    "        # TODO\n",
    "        # For each position, add 1 to `row` if you meet a '#', 0 otherwise\n",
    "    # TODO\n",
    "    # add `row` to the `trees_map` list\n",
    "\n",
    "\n",
    "def solution_toboggan_p1(trees_map, right=3, down=1):\n",
    "    \"\"\"\n",
    "    Complete your solution with the given hints\n",
    "    \"\"\"     \n",
    "    pos = [0, 0]\n",
    "    trees = # TODO\n",
    "    depth = len(trees_map)\n",
    "    width = # TODO\n",
    "\n",
    "    # Hints:\n",
    "    #   - write a loop until you reach the bottom of the map\n",
    "    #   - if the current location is a tree, add 1 to `trees`\n",
    "    #   - update `pos` by moving 3 right and 1 down\n",
    "    \n",
    "    return trees"
   ]
  },
  {
   "cell_type": "markdown",
   "id": "8ae69510-8756-4c24-b3ec-013fc1c9a621",
   "metadata": {
    "tags": []
   },
   "source": [
    "#### Part 2 🌶️🌶️"
   ]
  },
  {
   "cell_type": "markdown",
   "id": "d632bbac-f22f-4ede-84db-f8885c27ce30",
   "metadata": {},
   "source": [
    "You check other possible slopes to see if you chose the safest one. These are all the possible slopes according to your map:\n",
    "\n",
    "- Right 1, down 1\n",
    "- Right 3, down 1 (**just checked**)\n",
    "- Right 5, down 1\n",
    "- Right 7, down 1\n",
    "- Right 1, down 2\n",
    "\n",
    "<b>Question:</b> What do you get if you multiply together the number of trees encountered on each of the above slopes?"
   ]
  },
  {
   "cell_type": "markdown",
   "id": "c80bdc85-4198-43fc-bf77-bc29406022e8",
   "metadata": {},
   "source": [
    "<em>Hint:</em> Define a variable <code>slopes</code> as a list (or tuple) containing lists (or tuples) of the slopes' steps above"
   ]
  },
  {
   "cell_type": "code",
   "execution_count": null,
   "id": "f39f7b6f-d768-4e8f-ace7-708eee7337a2",
   "metadata": {},
   "outputs": [],
   "source": [
    "%%ipytest\n",
    "\n",
    "slopes = ((3, 1), ) # TODO\n",
    "\n",
    "def solution_toboggan_p2(trees_map, slopes):\n",
    "    total = 1\n",
    "    for right, down in slopes:\n",
    "        # TODO\n",
    "        # use your solution of Part 1 to calculate the trees for a given slope\n",
    "        # accumulate the product in `total`\n",
    "    \n",
    "    return total"
   ]
  }
 ],
 "metadata": {
  "kernelspec": {
   "display_name": "Python 3 (ipykernel)",
   "language": "python",
   "name": "python3"
  },
  "language_info": {
   "codemirror_mode": {
    "name": "ipython",
    "version": 3
   },
   "file_extension": ".py",
   "mimetype": "text/x-python",
   "name": "python",
   "nbconvert_exporter": "python",
   "pygments_lexer": "ipython3",
   "version": "3.11.0"
  },
  "toc-autonumbering": false,
  "toc-showmarkdowntxt": false
 },
 "nbformat": 4,
 "nbformat_minor": 5
}
