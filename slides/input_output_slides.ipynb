{
 "cells": [
  {
   "cell_type": "markdown",
   "metadata": {
    "slideshow": {
     "slide_type": "slide"
    }
   },
   "source": [
    "## Input and output\n",
    "\n",
    "A program is useless without *interaction* with the outside world:"
   ]
  },
  {
   "cell_type": "markdown",
   "metadata": {
    "slideshow": {
     "slide_type": "subslide"
    }
   },
   "source": [
    "We need:\n",
    "\n",
    "- Showing text to the user\n",
    "- Asking for user input\n",
    "- Accessing the file system\n",
    "- Reading files\n",
    "- Writing files\n",
    "- Connecting to networks\n",
    "\n",
    "and much more."
   ]
  },
  {
   "cell_type": "markdown",
   "metadata": {
    "slideshow": {
     "slide_type": "slide"
    }
   },
   "source": [
    "## User output\n",
    "\n",
    "To output text to the python console, we can use the `print` function.\n"
   ]
  },
  {
   "cell_type": "code",
   "execution_count": null,
   "metadata": {
    "slideshow": {
     "slide_type": "subslide"
    }
   },
   "outputs": [],
   "source": [
    "print(\"a\")"
   ]
  },
  {
   "cell_type": "markdown",
   "metadata": {
    "slideshow": {
     "slide_type": "fragment"
    }
   },
   "source": [
    "If we want to insert a variable in a string to print, we can use *f-strings*:\n",
    "\n",
    "- We prepend `f` to the string\n",
    "- We reference the variable in the string using `{name_of_variable}`"
   ]
  },
  {
   "cell_type": "code",
   "execution_count": null,
   "metadata": {
    "slideshow": {
     "slide_type": "fragment"
    }
   },
   "outputs": [],
   "source": [
    "x = 4\n",
    "print(f\"x is {x}\")"
   ]
  },
  {
   "cell_type": "markdown",
   "metadata": {
    "slideshow": {
     "slide_type": "slide"
    }
   },
   "source": [
    "## Asking for user input \n",
    "If we want to get text input from the console, we use the `input` function.\n",
    "\n",
    "⚠️ `input` is a *blocking* function. It stops the execution of the program until the input is available. **Do not** use it in the middle of a computation unless you want a bad surprise.\n"
   ]
  },
  {
   "cell_type": "code",
   "execution_count": null,
   "metadata": {
    "slideshow": {
     "slide_type": "subslide"
    }
   },
   "outputs": [],
   "source": [
    "print(\"Enter your name\")\n",
    "name = input()\n",
    "print(f\"Hello, {name}\")"
   ]
  },
  {
   "cell_type": "markdown",
   "metadata": {
    "slideshow": {
     "slide_type": "slide"
    }
   },
   "source": [
    "## Accessing the filesystem\n",
    "\n",
    "To find and access files in the filesystem, we use the `pathlib` module of the standard library. \n",
    "\n",
    "This allows us to represent and manipulate paths to files in a portable and intuitive manner."
   ]
  },
  {
   "cell_type": "code",
   "execution_count": null,
   "metadata": {
    "slideshow": {
     "slide_type": "subslide"
    }
   },
   "outputs": [],
   "source": [
    "import pathlib as pl\n",
    "# Here we define a path to the current directory\n",
    "my_path = pl.Path(\"./\")\n"
   ]
  },
  {
   "cell_type": "code",
   "execution_count": null,
   "metadata": {
    "slideshow": {
     "slide_type": "subslide"
    }
   },
   "outputs": [],
   "source": [
    "# We can find all files in `my_path` using `glob`. The \"*\" is a pattern which means find all files. \n",
    "all_my_files = my_path.glob(\"*\")"
   ]
  },
  {
   "cell_type": "code",
   "execution_count": null,
   "metadata": {
    "slideshow": {
     "slide_type": "fragment"
    }
   },
   "outputs": [],
   "source": [
    "print(list(all_my_files))"
   ]
  },
  {
   "cell_type": "code",
   "execution_count": null,
   "metadata": {
    "slideshow": {
     "slide_type": "subslide"
    }
   },
   "outputs": [],
   "source": [
    "#With `/` we can combine paths:\n",
    "\n",
    "data_dir = (pl.Path(\"./tutorial/tests\") / pl.Path(\"./data\"))\n",
    "\n",
    "#With the pattern `\"*.csv\"` we look for all files that end in \".csv\"\n",
    "\n",
    "print(list(data_dir.glob(\"*.csv\")))"
   ]
  },
  {
   "cell_type": "markdown",
   "metadata": {
    "slideshow": {
     "slide_type": "slide"
    }
   },
   "source": [
    "## Reading text from files\n",
    "\n",
    "Now we know how to locate files and we want to learn how to *read* from files.\n",
    "\n"
   ]
  },
  {
   "cell_type": "markdown",
   "metadata": {
    "slideshow": {
     "slide_type": "subslide"
    }
   },
   "source": [
    "To do so, we use the `open` function. This *opens* a file for reading, returning a *file handle*."
   ]
  },
  {
   "cell_type": "code",
   "execution_count": null,
   "metadata": {
    "slideshow": {
     "slide_type": "fragment"
    }
   },
   "outputs": [],
   "source": [
    "input_file = open(pl.Path(\"./tutorial/tests/data/hello.txt\"))\n"
   ]
  },
  {
   "cell_type": "code",
   "execution_count": null,
   "metadata": {
    "slideshow": {
     "slide_type": "fragment"
    }
   },
   "outputs": [],
   "source": [
    "print(input_file)\n",
    "input_file.close()"
   ]
  },
  {
   "cell_type": "markdown",
   "metadata": {
    "slideshow": {
     "slide_type": "fragment"
    }
   },
   "source": [
    "A file handle is like a door: we should never forget to close it with `close`.\n",
    "\n",
    "Why: the contents of `write` aren't written until the file is closed. \n",
    "\n",
    "If we want to get the *content* of the file, we need to use `read` or `readlines`:"
   ]
  },
  {
   "cell_type": "code",
   "execution_count": null,
   "metadata": {
    "scrolled": true,
    "slideshow": {
     "slide_type": "subslide"
    }
   },
   "outputs": [],
   "source": [
    "input_file = open(pl.Path(\"./tutorial/tests/data/hello.txt\"))\n",
    "print(input_file.readlines())\n",
    "input_file.close()\n"
   ]
  },
  {
   "cell_type": "markdown",
   "metadata": {
    "slideshow": {
     "slide_type": "slide"
    }
   },
   "source": [
    "## Writing to files\n",
    "Obviously we want to perform the opposite action: we want to *write* text to files.\n"
   ]
  },
  {
   "cell_type": "markdown",
   "metadata": {
    "slideshow": {
     "slide_type": "subslide"
    }
   },
   "source": [
    "The process is similar to reading;  we obtain a *file handle*, but we change its *mode* to writing:"
   ]
  },
  {
   "cell_type": "code",
   "execution_count": null,
   "metadata": {
    "slideshow": {
     "slide_type": "fragment"
    }
   },
   "outputs": [],
   "source": [
    "# `w` opens a file for writing\n",
    "output_file = open(pl.Path(\"./tutorial/tests/data/me.txt\"), \"w\")\n"
   ]
  },
  {
   "cell_type": "markdown",
   "metadata": {
    "slideshow": {
     "slide_type": "fragment"
    }
   },
   "source": [
    "Then we can write to the file using `write` or `writelines`. Write takes a `str` and writes it  as it is, `writelines` take a list or iterable of `str` and writes each entry as a new line.\n",
    "\n",
    "Let's test `write`:"
   ]
  },
  {
   "cell_type": "code",
   "execution_count": null,
   "metadata": {
    "slideshow": {
     "slide_type": "fragment"
    }
   },
   "outputs": [],
   "source": [
    "output_file.write(\"Simone\")\n",
    "output_file.close()"
   ]
  },
  {
   "cell_type": "markdown",
   "metadata": {
    "slideshow": {
     "slide_type": "subslide"
    }
   },
   "source": [
    "Now if we read from it, we will see the new content:"
   ]
  },
  {
   "cell_type": "code",
   "execution_count": null,
   "metadata": {
    "slideshow": {
     "slide_type": "fragment"
    }
   },
   "outputs": [],
   "source": [
    "input_file = open(pl.Path(\"./tutorial/tests/data/me.txt\"))\n",
    "print(input_file.readlines())\n",
    "input_file.close()\n"
   ]
  },
  {
   "cell_type": "markdown",
   "metadata": {
    "slideshow": {
     "slide_type": "slide"
    }
   },
   "source": [
    "## Context managers\n",
    "\n",
    "Opened files must be closed to avoid problems like:\n",
    "\n"
   ]
  },
  {
   "cell_type": "markdown",
   "metadata": {
    "slideshow": {
     "slide_type": "subslide"
    }
   },
   "source": [
    "- Inconsistent state and data corrpution\n",
    "- Running out of file handles (if we open many files)"
   ]
  },
  {
   "cell_type": "markdown",
   "metadata": {
    "slideshow": {
     "slide_type": "fragment"
    }
   },
   "source": [
    "This is a **bad** idea on many operating systems:\n",
    "```python\n",
    "f = []\n",
    "for i in range(10000):\n",
    "    f.append(open(f\"{i}\", \"w\"))\n",
    "print(f)\n",
    "```\n",
    "you will eventually run out of files to open."
   ]
  },
  {
   "cell_type": "markdown",
   "metadata": {
    "slideshow": {
     "slide_type": "subslide"
    }
   },
   "source": [
    "To avoid these type of problems, python offers *context managers*. This is a special statement that automatically manages the closing of files for us as soon as we leave the block:"
   ]
  },
  {
   "cell_type": "code",
   "execution_count": null,
   "metadata": {
    "slideshow": {
     "slide_type": "fragment"
    }
   },
   "outputs": [],
   "source": [
    "import pathlib as pl\n",
    "with open(pl.Path(\"./tutorial/tests/data/hello.txt\")) as input_file:\n",
    "    #This is the scope of the context manager.\n",
    "    #As long as we stay inside of this, we can acess `input_file`\n",
    "    text = input_file.readlines()"
   ]
  },
  {
   "cell_type": "code",
   "execution_count": null,
   "metadata": {
    "scrolled": false,
    "slideshow": {
     "slide_type": "fragment"
    }
   },
   "outputs": [],
   "source": [
    "print(text)"
   ]
  },
  {
   "cell_type": "markdown",
   "metadata": {
    "slideshow": {
     "slide_type": "subslide"
    }
   },
   "source": [
    "Indeed, if we try to access `input_file` outside of the scope of the context manager, we run into an error:"
   ]
  },
  {
   "cell_type": "code",
   "execution_count": null,
   "metadata": {
    "slideshow": {
     "slide_type": "fragment"
    }
   },
   "outputs": [],
   "source": [
    "print(input_file.readlines())"
   ]
  }
 ],
 "metadata": {
  "kernelspec": {
   "display_name": "python-tutorial",
   "language": "python",
   "name": "python3"
  },
  "language_info": {
   "name": "python",
   "version": "3.11.3"
  },
  "orig_nbformat": 4,
  "vscode": {
   "interpreter": {
    "hash": "2b2b08c237e7c74caf82ad6490346743fce9bd812859047e307c1031e538ab1c"
   }
  }
 },
 "nbformat": 4,
 "nbformat_minor": 2
}
