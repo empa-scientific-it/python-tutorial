{
 "cells": [
  {
   "cell_type": "markdown",
   "metadata": {
    "slideshow": {
     "slide_type": "slide"
    }
   },
   "source": [
    "## The principles of functional programming\n",
    "\n",
    "- *Functions as values*\n",
    "- *Pure functions*\n",
    "- *Immutability of data*\n",
    "- *Composition*\n",
    "- *Referential  transparency*\n",
    "- *Type system*"
   ]
  },
  {
   "cell_type": "markdown",
   "metadata": {
    "slideshow": {
     "slide_type": "slide"
    }
   },
   "source": [
    "## Functions as values\n",
    "\n",
    "Functions are *objects* of the programming language.  They can be assigned and manipulated like other values:\n",
    "\n"
   ]
  },
  {
   "cell_type": "code",
   "execution_count": null,
   "metadata": {
    "slideshow": {
     "slide_type": "subslide"
    }
   },
   "outputs": [],
   "source": [
    "\n",
    "def x()-> int:\n",
    "    return 3\n",
    "\n",
    "y = x\n",
    "\n",
    "\n"
   ]
  },
  {
   "cell_type": "markdown",
   "metadata": {
    "slideshow": {
     "slide_type": "fragment"
    }
   },
   "source": [
    "This defines a zero-argument function `x` that returns an integer.\n",
    "We then assign the value of `x` to `y` and check whether they are the same function:"
   ]
  },
  {
   "cell_type": "code",
   "execution_count": null,
   "metadata": {
    "slideshow": {
     "slide_type": "fragment"
    }
   },
   "outputs": [],
   "source": [
    "print(x() == y())"
   ]
  },
  {
   "cell_type": "markdown",
   "metadata": {
    "slideshow": {
     "slide_type": "subslide"
    }
   },
   "source": [
    "Success! We see that functions are values and can be used as any other value."
   ]
  },
  {
   "cell_type": "markdown",
   "metadata": {
    "slideshow": {
     "slide_type": "slide"
    }
   },
   "source": [
    "## Higher order functions\n",
    "\n",
    "The fact that functions are values leads to the use *higher-order-functions*, which take other functions as parameter. This idiom is useful to abstract over the behavior of programs.\n",
    "\n",
    "\n"
   ]
  },
  {
   "cell_type": "markdown",
   "metadata": {
    "slideshow": {
     "slide_type": "subslide"
    }
   },
   "source": [
    "For example, `map` is used to apply a function to a list of values:"
   ]
  },
  {
   "cell_type": "code",
   "execution_count": null,
   "metadata": {
    "slideshow": {
     "slide_type": "fragment"
    }
   },
   "outputs": [],
   "source": [
    "from IPython.display import Markdown\n",
    "import inspect\n",
    "def my_fun(a: int)-> int:\n",
    "    return a + 1\n",
    "\n",
    "input_list = list(range(10))\n",
    "result = list(map(my_fun, input_list))\n",
    "\n"
   ]
  },
  {
   "cell_type": "code",
   "execution_count": null,
   "metadata": {
    "slideshow": {
     "slide_type": "fragment"
    }
   },
   "outputs": [],
   "source": [
    "print(f\"Input: {input_list}, output: {result}\")"
   ]
  },
  {
   "cell_type": "markdown",
   "metadata": {
    "slideshow": {
     "slide_type": "subslide"
    }
   },
   "source": [
    "We can create *anonymous* functions using `lambda`. These are functions that do not have a name like in `def`, and are often used for *throwaway* functions that we need to use only once inside of another function. \n",
    "We can name them by assigning them to a variable:"
   ]
  },
  {
   "cell_type": "code",
   "execution_count": null,
   "metadata": {
    "slideshow": {
     "slide_type": "fragment"
    }
   },
   "outputs": [],
   "source": [
    "new_fun = lambda x: x + 1"
   ]
  },
  {
   "cell_type": "code",
   "execution_count": null,
   "metadata": {
    "slideshow": {
     "slide_type": "fragment"
    }
   },
   "outputs": [],
   "source": [
    "new_fun(5)"
   ]
  },
  {
   "cell_type": "markdown",
   "metadata": {
    "slideshow": {
     "slide_type": "slide"
    }
   },
   "source": [
    "## Pure functions\n",
    "\n",
    "We prefer functions that have no *side-effects*: \n",
    "\n",
    "1. they do not modify the state of the program \n",
    "2. given the same input, they **always** return the same output.\n",
    "\n"
   ]
  },
  {
   "cell_type": "markdown",
   "metadata": {
    "slideshow": {
     "slide_type": "subslide"
    }
   },
   "source": [
    "This following function is not *pure* because it modifies the value of `x`, defined outside of its *scope* every time it runs:\n"
   ]
  },
  {
   "cell_type": "code",
   "execution_count": null,
   "metadata": {
    "slideshow": {
     "slide_type": "fragment"
    }
   },
   "outputs": [],
   "source": [
    "from typing import Any\n",
    "x = [1,2,3]\n",
    "def do_something(val: int) -> list[int]:\n",
    "    return x.append(val)\n",
    "\n",
    "def display_val(x: Any):\n",
    "    print(f\"{x=}, {id(x)=}\")\n"
   ]
  },
  {
   "cell_type": "code",
   "execution_count": null,
   "metadata": {
    "slideshow": {
     "slide_type": "fragment"
    }
   },
   "outputs": [],
   "source": [
    "display_val(x)\n",
    "do_something(1)\n",
    "display_val(x)\n",
    "do_something(2)\n",
    "display_val(x)"
   ]
  },
  {
   "cell_type": "markdown",
   "metadata": {
    "slideshow": {
     "slide_type": "subslide"
    }
   },
   "source": [
    "`id(x)` returns the memory address of a variable. If it does not change, it means the variable refers to the same object. This is the case here, therefore we proved that `do_something` is not *pure*."
   ]
  },
  {
   "cell_type": "markdown",
   "metadata": {
    "slideshow": {
     "slide_type": "slide"
    }
   },
   "source": [
    "## Immutable Data\n",
    "\n",
    "Whenever possible, we avoid *mutating* data, as mutation is a type of *side-effect* and leads to unexpected behavior. \n",
    "\n",
    "\n"
   ]
  },
  {
   "cell_type": "markdown",
   "metadata": {
    "slideshow": {
     "slide_type": "fragment"
    }
   },
   "source": [
    "- When a variable is defined, its value **remains constant for the duration of the program execution**.\n",
    "\n",
    "- This makes it easier to reason about the flow of our program. "
   ]
  },
  {
   "cell_type": "markdown",
   "metadata": {
    "slideshow": {
     "slide_type": "subslide"
    }
   },
   "source": [
    "For example, instead of inserting an element in an existing list as we did before, we create a new list by combining the old list with the new element:"
   ]
  },
  {
   "cell_type": "code",
   "execution_count": null,
   "metadata": {
    "slideshow": {
     "slide_type": "fragment"
    }
   },
   "outputs": [],
   "source": [
    "x = [1, 2, 3]\n",
    "print(f\"{x=}\")\n",
    "y = x + [4,]\n",
    "print(\"Appending\")\n",
    "print(f\"{x=}\")\n",
    "print(f\"{y=}\")"
   ]
  },
  {
   "cell_type": "markdown",
   "metadata": {
    "slideshow": {
     "slide_type": "fragment"
    }
   },
   "source": [
    "As you can see, the value of `x` does not change when we create `y`. This is in contrast to the previous example."
   ]
  },
  {
   "cell_type": "markdown",
   "metadata": {
    "slideshow": {
     "slide_type": "slide"
    }
   },
   "source": [
    "## List comprehensions\n",
    "Immutability of data in python is frequently expressed using *comprehensions*.\n",
    "These are for-like expressions that operate on iterables and produce *values* instead of modifying existing variables (no side effects).\n",
    "\n"
   ]
  },
  {
   "cell_type": "markdown",
   "metadata": {
    "slideshow": {
     "slide_type": "subslide"
    }
   },
   "source": [
    "To see how this works, let's first look at an example of *mutation*: we want to produce a list of the first 10 squares:"
   ]
  },
  {
   "cell_type": "code",
   "execution_count": null,
   "metadata": {
    "slideshow": {
     "slide_type": "fragment"
    }
   },
   "outputs": [],
   "source": [
    "#We define an empty list\n",
    "a = []\n",
    "#range(n) creates an iterable from 0,...,n\n",
    "for i in range(10):\n",
    "    #We append the current square to the existing list\n",
    "    a.append(i**2)\n",
    "    print(f\"{a=}, {id(a)=}\")"
   ]
  },
  {
   "cell_type": "markdown",
   "metadata": {
    "slideshow": {
     "slide_type": "fragment"
    }
   },
   "source": [
    "`id(a)` returns the memory *location* of `a`. As you can see, we modify the contents of `a` over the for loop: a always refers to the same location in the memory and therefore to the same object.\n",
    "\n",
    "Let's rewrite this using a compherension and see what happens:"
   ]
  },
  {
   "cell_type": "code",
   "execution_count": null,
   "metadata": {
    "slideshow": {
     "slide_type": "subslide"
    }
   },
   "outputs": [],
   "source": [
    "#range(n) creates an iterable from 0,...,n\n",
    "a = [i for i in range(10)]\n",
    "print(f\"{a=}, {id(a)=}\")\n",
    "b = [i**2 for i in a]\n",
    "print(f\"{b=}, {id(b)=}\")\n",
    "print(f\"{a=}, {id(a)=}\")"
   ]
  },
  {
   "cell_type": "markdown",
   "metadata": {
    "slideshow": {
     "slide_type": "fragment"
    }
   },
   "source": [
    "We see that the second expression produced a *new list* that we assigned  to `b`. The value of `a` remained unchanged."
   ]
  },
  {
   "cell_type": "markdown",
   "metadata": {
    "slideshow": {
     "slide_type": "slide"
    }
   },
   "source": [
    "## Composition\n",
    "We build our programs by *composing* many simple functions togehter.\n",
    "\n",
    "Why:\n"
   ]
  },
  {
   "cell_type": "markdown",
   "metadata": {
    "slideshow": {
     "slide_type": "fragment"
    }
   },
   "source": [
    "- It is easier to fix simple functions\n",
    "- It is easier to optimise the program\n",
    "- Single responbility: every function only does one job\n",
    "- ...\n",
    "\n",
    "How do we do this?"
   ]
  },
  {
   "cell_type": "code",
   "execution_count": null,
   "metadata": {
    "slideshow": {
     "slide_type": "subslide"
    }
   },
   "outputs": [],
   "source": [
    "# This is not ideal\n",
    "def long_function(x: int) -> int:\n",
    "    x1 = x + 2\n",
    "    x2 = x1 - 4\n",
    "    x3 = x2**2\n",
    "    return x3"
   ]
  },
  {
   "cell_type": "markdown",
   "metadata": {
    "slideshow": {
     "slide_type": "subslide"
    }
   },
   "source": [
    "Instead of running all computation in a single long function, we can do better by *composing* many small functions.\n",
    " "
   ]
  },
  {
   "cell_type": "code",
   "execution_count": null,
   "metadata": {
    "slideshow": {
     "slide_type": "subslide"
    }
   },
   "outputs": [],
   "source": [
    "def f1(x: int) -> int:\n",
    "    return x + 2\n",
    "\n",
    "def f2(x: int) -> int:\n",
    "    return x - 4\n",
    "\n",
    "def f3(x: int) -> int:\n",
    "    return x ** 2\n",
    "\n",
    "# `better_function` is the \"composition\" of f3, f2, f1\n",
    "better_function = lambda x: f3(f2(f1(x)))\n",
    "\n"
   ]
  },
  {
   "cell_type": "code",
   "execution_count": null,
   "metadata": {
    "slideshow": {
     "slide_type": "fragment"
    }
   },
   "outputs": [],
   "source": [
    "better_function(3) == long_function(3)"
   ]
  },
  {
   "cell_type": "markdown",
   "metadata": {
    "slideshow": {
     "slide_type": "subslide"
    }
   },
   "source": [
    "Instead of writing a long function, we broke it down into smaller functions and reconstructed it by composing them together. \n",
    "\n",
    "\n",
    "It must be clarified that with the long-function example, we try to explain the concept of single responsibility. Functions should solve a specific task and not try to do it all in one. Sometimes, however, one task requires many lines of code, and that is Ok."
   ]
  },
  {
   "cell_type": "markdown",
   "metadata": {
    "slideshow": {
     "slide_type": "slide"
    }
   },
   "source": [
    "## Referential transparency\n",
    "This sounds scary, but it simply means that whenever we see a function call (or any expression), we can subsitute it with the value of the function.\n",
    "\n",
    "This is the essence of functional programming: *there are no surprises*. We can reason about the flow of our program \n",
    "\n",
    "Consider this example:"
   ]
  },
  {
   "cell_type": "code",
   "execution_count": null,
   "metadata": {
    "slideshow": {
     "slide_type": "subslide"
    }
   },
   "outputs": [],
   "source": [
    "\n",
    "def transparent_fun(x: int) -> int:\n",
    "    return x + 2\n",
    "\n",
    "y1 = transparent_fun(1) + 3\n",
    "\n",
    "x_out = transparent_fun(1)\n",
    "y2 = x_out + 3\n",
    "\n"
   ]
  },
  {
   "cell_type": "code",
   "execution_count": null,
   "metadata": {
    "slideshow": {
     "slide_type": "fragment"
    }
   },
   "outputs": [],
   "source": [
    "print(f\"{y1=}\")\n",
    "print(f\"{y2=}\")\n"
   ]
  },
  {
   "cell_type": "markdown",
   "metadata": {
    "slideshow": {
     "slide_type": "subslide"
    }
   },
   "source": [
    "We see that `transparent_function` is indeed referentially transparent. Now, look at another example:"
   ]
  },
  {
   "cell_type": "code",
   "execution_count": null,
   "metadata": {
    "slideshow": {
     "slide_type": "subslide"
    }
   },
   "outputs": [],
   "source": [
    "import random\n",
    "def non_transparent_function(x: int) -> int:\n",
    "    #This generates a random integer between 0 and 10\n",
    "    return x + random.randint(0, 10)\n",
    "\n",
    "# This \"captures\" the expression x() + 3 without computing its value by defining an \"anonymous function\"\n",
    "# We get the value by calling y1()\n",
    "y1 = lambda x: non_transparent_function(x) + 3\n",
    "\n",
    "\n",
    "\n"
   ]
  },
  {
   "cell_type": "code",
   "execution_count": null,
   "metadata": {
    "slideshow": {
     "slide_type": "fragment"
    }
   },
   "outputs": [],
   "source": [
    "print(f\"{y1()=}\")\n",
    "print(f\"{y1()=}\")"
   ]
  },
  {
   "cell_type": "markdown",
   "metadata": {
    "slideshow": {
     "slide_type": "fragment"
    }
   },
   "source": [
    "This is *not*. Every time we call `non_transparent_function`, we get a different (random) value. \n",
    "\n"
   ]
  },
  {
   "cell_type": "markdown",
   "metadata": {
    "slideshow": {
     "slide_type": "subslide"
    }
   },
   "source": [
    "In general, any expression containing a *combination of pure functions* and no side-effect is referentially transparent. We try to write our programs by composing referentially transparent functions as much as possible.\n",
    "\n",
    "Why:\n",
    "- We can reason about the program flow\n",
    "- Compilers and other tools can reason for us and help finding errors\n",
    "- It is easier to optimise our programs"
   ]
  },
  {
   "cell_type": "markdown",
   "metadata": {
    "slideshow": {
     "slide_type": "slide"
    }
   },
   "source": [
    "## Type system\n",
    "\n",
    "A typical trait of (modern) functional programming, is the heavy use of the *type system*.\n",
    "This provides a set of rules to classify expression and values in the language into classes called *types*.\n",
    "You encountered some basic types in the introduction, for example `int`, `str` or `float`.\n"
   ]
  },
  {
   "cell_type": "markdown",
   "metadata": {
    "slideshow": {
     "slide_type": "subslide"
    }
   },
   "source": [
    "We use type systems to enforce constraints and invariants in our program:\n",
    "\n",
    "- *Making illegal states unrepresentable*\n",
    "- Making sure we pass the right input to functions\n",
    "- Checking if we wrote a valid program before it runs\n",
    "\n"
   ]
  },
  {
   "cell_type": "markdown",
   "metadata": {
    "slideshow": {
     "slide_type": "subslide"
    }
   },
   "source": [
    "Modern (3.6+) python allows using *type annotation* to mark the type of values, function parameters and class members.\n",
    "\n",
    "For example:\n",
    "\n",
    "```\n",
    "def fun(a: int) -> str:\n",
    "    return f\"{a}\"\n",
    "```\n",
    "\n",
    "means that `fun` takes integer values and returns strings. Python *does not enforce* this constraint. There are tools however, which can be used to check the conistency of types in a python program."
   ]
  },
  {
   "cell_type": "markdown",
   "metadata": {
    "slideshow": {
     "slide_type": "subslide"
    }
   },
   "source": [
    "For example, instead of doing:"
   ]
  },
  {
   "cell_type": "code",
   "execution_count": null,
   "metadata": {
    "slideshow": {
     "slide_type": "fragment"
    }
   },
   "outputs": [],
   "source": [
    "#This function greets a person by name and age\n",
    "def greet(name: str, age: int):\n",
    "    print(f\"Hello {name}, you are {age} years old\")\n",
    "    \n"
   ]
  },
  {
   "cell_type": "code",
   "execution_count": null,
   "metadata": {
    "slideshow": {
     "slide_type": "fragment"
    }
   },
   "outputs": [],
   "source": [
    "greet(\"Simone\", 34)"
   ]
  },
  {
   "cell_type": "markdown",
   "metadata": {
    "slideshow": {
     "slide_type": "subslide"
    }
   },
   "source": [
    "Because python lacks static type checking, we can do absurd things:"
   ]
  },
  {
   "cell_type": "code",
   "execution_count": null,
   "metadata": {
    "slideshow": {
     "slide_type": "fragment"
    }
   },
   "outputs": [],
   "source": [
    "greet(\"Simone\", \"age\")"
   ]
  },
  {
   "cell_type": "markdown",
   "metadata": {
    "slideshow": {
     "slide_type": "fragment"
    }
   },
   "source": [
    "We can do better by using *classes* to simulate the stricter type checking of other languages.\n",
    "\n",
    "If you don't know what a class is, consider it as a sort of container type to which we can attach functionalities. We will see this in more detail in another lesson."
   ]
  },
  {
   "cell_type": "code",
   "execution_count": null,
   "metadata": {
    "slideshow": {
     "slide_type": "subslide"
    }
   },
   "outputs": [],
   "source": [
    "\n",
    "#This defines a simple class with some helper methods and validations\n",
    "#in this way, we are sure that when we pass a person to the `greet_better` function, this\n",
    "#person will have all needed attributes\n",
    "class Person:\n",
    "    name: str\n",
    "    age: int\n",
    "    def __init__(self, name: str, age: int):\n",
    "        if not isinstance(name, str) or not isinstance(age, int):\n",
    "            raise ValueError(\"Invalid input\")\n",
    "        self.age = age\n",
    "        self.name = name\n",
    "\n",
    "def greet_better(person: Person):\n",
    "    if isinstance(person, Person):\n",
    "        print(f\"Hello {person.name}, you are {person.age} years old\")\n",
    "    else:\n",
    "        raise ValueError(\"Not a person\")\n"
   ]
  },
  {
   "cell_type": "code",
   "execution_count": null,
   "metadata": {
    "slideshow": {
     "slide_type": "fragment"
    }
   },
   "outputs": [],
   "source": [
    "greet_better(Person(\"Simone\", 34))\n",
    "\n",
    "try:\n",
    "    greet_better(Person(\"Simone\", \"d\"))\n",
    "except ValueError as e:\n",
    "    print(f\"Ooops, it does not work: {e}\")\n",
    "    \n",
    "try:\n",
    "    greet_better((\"Simone\", \"d\"))\n",
    "except ValueError as e:\n",
    "    print(f\"Ooops, it does not work: {e}\")"
   ]
  }
 ],
 "metadata": {
  "kernelspec": {
   "display_name": "Python 3 (ipykernel)",
   "language": "python",
   "name": "python3"
  },
  "language_info": {
   "codemirror_mode": {
    "name": "ipython",
    "version": 3
   },
   "file_extension": ".py",
   "mimetype": "text/x-python",
   "name": "python",
   "nbconvert_exporter": "python",
   "pygments_lexer": "ipython3",
   "version": "3.11.3"
  },
  "vscode": {
   "interpreter": {
    "hash": "2b2b08c237e7c74caf82ad6490346743fce9bd812859047e307c1031e538ab1c"
   }
  }
 },
 "nbformat": 4,
 "nbformat_minor": 2
}
