{
 "cells": [
  {
   "cell_type": "raw",
   "id": "f4700c59-00de-4805-96b8-a7fa6df075b3",
   "metadata": {},
   "source": [
    "---\n",
    "title: \"Functions\"\n",
    "format: revealjs\n",
    "callout-icon: false\n",
    "jupyter: python3\n",
    "highlight-style: dracula\n",
    "execute:\n",
    "    echo: true\n",
    "    enabled: false\n",
    "---"
   ]
  },
  {
   "cell_type": "markdown",
   "id": "c9a51b45-de42-4887-9244-f6cc1d74aa0e",
   "metadata": {},
   "source": [
    "# Table of contents {visibility=\"hidden\"}\n",
    "\n",
    "- [References](#References)\n",
    "- [Functions are building blocks](#Functions-are-building-blocks)\n",
    "- [Best practices](#Best-practices)\n",
    "- [Anatomy of a function](#Anatomy-of-a-function)\n",
    "    - [Signature](#Signature)\n",
    "        - [Type hints](#Type-hints)\n",
    "    - [Body](#Body)\n",
    "    - [Docstrings](#Docstrings)\n",
    "- [Parameters and arguments](#Parameters-and-arguments)\n",
    "    - [Parameters](#Parameters)\n",
    "    - [Arguments](#Arguments)\n",
    "    - [Positional arguments](#Positional-arguments)\n",
    "    - [Keyword arguments](#Keyword-arguments)\n",
    "    - [Default values](#Default-values)\n",
    "- [How Python executes a function](#How-Python-executes-a-function)\n",
    "- [The scope of a function](#The-scope-of-a-function)\n",
    "- [`*args` and `**kwargs`](#*args-and-**kwargs)\n",
    "- [Exercises](#Exercises)\n",
    "    - [Longest consecutive sequence 🌶️🌶️](#Longest-consecutive-sequence-🌶️🌶️)\n",
    "      - [Part 2 🌶️🌶️🌶️](#Part-2-🌶️🌶️🌶️)\n",
    "    - [Password validator](#Password-validator)\n",
    "      - [Part 1 🌶️](#Part-1-🌶️)\n",
    "    - [Buckets reorganization](#Buckets-reorganization)\n",
    "      - [Part 1 🌶️](#Part-1-🌶️)\n",
    "      - [Part 2 🌶️🌶️](#Part-2-🌶️🌶️)\n"
   ]
  },
  {
   "cell_type": "markdown",
   "id": "3edb3999-85e2-4cd5-bcfa-67693891bf6f",
   "metadata": {
    "tags": []
   },
   "source": [
    "## References {visibility=\"hidden\"}"
   ]
  },
  {
   "cell_type": "markdown",
   "id": "ad4e36dc-2e37-41ca-bc4e-48ea24975fe2",
   "metadata": {},
   "source": [
    "Additional materials where you can find more details about writing functions in Python. For each link, it's indicated if it's a video, a text, or a practical resource.\n",
    "\n",
    "- [Python For Everybody: Functions](https://www.py4e.com/lessons/functions) (video)\n",
    "- [Python For Everybody: Functions examples](https://www.py4e.com/html3/04-functions) (text)"
   ]
  },
  {
   "cell_type": "markdown",
   "id": "00ac8e40-9a6e-4fda-bcd6-ca0b7bb0bfd4",
   "metadata": {},
   "source": [
    "---"
   ]
  },
  {
   "cell_type": "markdown",
   "id": "6787e774-0b23-428a-abe2-b966c1a59047",
   "metadata": {
    "tags": []
   },
   "source": [
    "## Functions are building blocks\n",
    "\n",
    "::: {.notes}\n",
    "\n",
    "Every programmer knows that splitting the work into smaller pieces isn't only a good problem-solving technique, but it also makes your code more readable, easier to understand, and more efficient (or at least it will be easier to make it so). **Functions** are the fundamental building block to achieve this.\n",
    "\n",
    "When you have to perform the same task multiple times, instead of repeating the code, you can simply call the function.\n",
    "\n",
    ":::"
   ]
  },
  {
   "cell_type": "markdown",
   "id": "d1e43724-68a1-4fdb-a846-dc1c926d3d4a",
   "metadata": {},
   "source": [
    "1. Functions in Python are blocks of reusable code that perform a specific task.\n",
    "2. They allow you to break down complex programs into smaller and manageable parts.\n",
    "3. Functions make your code easier to read and maintain because you can encapsulate logic into self-contained blocks and reuse them throughout your program."
   ]
  },
  {
   "cell_type": "markdown",
   "id": "d86ccb9a-9544-4db1-a383-e1b1c4f29ee5",
   "metadata": {
    "tags": []
   },
   "source": [
    "## Best practices\n",
    "\n",
    "1. Giving descriptive names\n",
    "2. Keeping them small and focused on a single task\n",
    "3. Using clear and concise documentation (also known as docstrings)\n",
    "4. Explaining the required (and optional) inputs and outputs"
   ]
  },
  {
   "cell_type": "markdown",
   "id": "d97931a5-31fd-494a-8a4a-f62102a6062e",
   "metadata": {
    "tags": []
   },
   "source": [
    "# Anatomy of a function"
   ]
  },
  {
   "cell_type": "markdown",
   "id": "2dde8114-7527-49bc-9b2c-de56dd94de9b",
   "metadata": {},
   "source": [
    "A function in Python has three main parts:\n",
    "\n",
    "- Signature\n",
    "- Body\n",
    "- Docstrings"
   ]
  },
  {
   "cell_type": "markdown",
   "id": "36be5fba-1079-4e48-8115-ce22b10de76e",
   "metadata": {},
   "source": [
    "## Signature\n",
    "\n",
    "- The signature of a function includes the function name, the input parameters (if any), and the return statement (if any)\n",
    "- The Python keyword to indicate that a name is a function's name is `def`, and it's a **reserved keyword**\n",
    "- The signature is what allows you to call the function and pass it arguments\n",
    "\n",
    "---\n",
    "\n",
    "For example:\n",
    "\n",
    "```python\n",
    "def multiply(x, y):\n",
    "```\n",
    "\n",
    "You have the keyword `def`, the function's name, and its parameters in parentheses. The semi-colon tells Python that what comes next is the function's body."
   ]
  },
  {
   "cell_type": "markdown",
   "id": "5579a33e-65d0-4edf-bbc1-14672f6c09a2",
   "metadata": {},
   "source": [
    "---\n",
    "\n",
    "### Type hints\n",
    "\n",
    "Python doesn't require you to explicitly declare a variable's type. However, when defining functions, you can add **type hints** in the function's signature.\n",
    "\n",
    "Type hints improve code readability and can help catch potential type-related bugs early during development.\n",
    "\n",
    "::: {.callout-warning}\n",
    "\n",
    "The Python interpreter **does not** enforce type hints and will not check them during runtime.\n",
    "\n",
    "Type hints are primarily intended for improving code readability, serving as documentation for developers, and making IDEs much more helpful when writing code.\n",
    "\n",
    ":::\n",
    "\n",
    "---\n",
    "\n",
    "They are specified using the `typing` module and are added in the function definition using colons followed by the expected type, right after the parameter name.\n",
    "\n",
    "For example:\n",
    "\n",
    "```python\n",
    "from typing import List, Tuple\n",
    "\n",
    "def greet(name: str) -> None:\n",
    "    print(f\"Hello, {name}!\")\n",
    "\n",
    "def add_numbers(a: int, b: int) -> int:\n",
    "    return a + b\n",
    "\n",
    "def process_data(data: List[Tuple[int, str]]) -> List[str]:\n",
    "    return [item[1] for item in data]\n",
    "```"
   ]
  },
  {
   "cell_type": "markdown",
   "id": "e7ef2776-3643-4a44-94fe-6aaa466e5938",
   "metadata": {},
   "source": [
    "## Body\n",
    "\n",
    "The body of a function contains the statements that the function executes when it is called. These statements perform the task that the function was created to perform. For example:"
   ]
  },
  {
   "cell_type": "markdown",
   "id": "28265ca7-c247-4040-ad4e-3b1b004542d1",
   "metadata": {},
   "source": [
    "```python\n",
    "def multiply(x, y):\n",
    "    product = x * y\n",
    "    return product\n",
    "```"
   ]
  },
  {
   "cell_type": "markdown",
   "id": "b40e2fe7-e340-4757-b43c-ee616d7693c8",
   "metadata": {},
   "source": [
    "The function's outputs are indicated by the (reserved) keyword `return`. All functions in Python return a value, even if that value is `None`. If you omit the `return` keyword, Python assumes that the function returns `None`."
   ]
  },
  {
   "cell_type": "markdown",
   "id": "91939086-1d33-43fe-8982-ffbba3d77f07",
   "metadata": {},
   "source": [
    "## Docstrings\n",
    "\n",
    "Docstrings are **string literals** that appear as the first statement in a function. They provide documentation for the function, explaining what it does and how it works. Docstrings are surrounded by triple quotes (`\"\"\"`).\n",
    "\n",
    "For example:\n",
    "\n",
    "```python\n",
    "def multiply(x, y):\n",
    "    \"\"\"This function calculates the product of two numbers\"\"\"\n",
    "    product = x * y\n",
    "    return product\n",
    "```\n",
    "\n",
    "---\n",
    "\n",
    "A few more examples of simple functions:\n",
    "\n",
    "```python\n",
    "def greet(name):\n",
    "    \"\"\"This function greets the person passed in as a parameter\"\"\"\n",
    "    return \"Hello, \" + name\n",
    "\n",
    "def add(a, b):\n",
    "    \"\"\"This function returns the sum of two numbers\"\"\"\n",
    "    return a + b\n",
    "\n",
    "def is_even(number):\n",
    "    \"\"\"This function returns True if the number is even, False otherwise\"\"\"\n",
    "    return number % 2 == 0\n",
    "```"
   ]
  },
  {
   "cell_type": "markdown",
   "id": "d5358dfc-df7d-4a6f-9f3a-4e06820e271c",
   "metadata": {
    "tags": []
   },
   "source": [
    "# Parameters and arguments"
   ]
  },
  {
   "cell_type": "markdown",
   "id": "4939ebe9-1e3a-4ef8-b4a6-7604c7c243ef",
   "metadata": {},
   "source": [
    "The terms **parameters** and **arguments** are often used interchangeably, but they refer to different things in the context of function calls."
   ]
  },
  {
   "cell_type": "markdown",
   "id": "339553d5-4a61-4242-a369-6993dc78dc35",
   "metadata": {},
   "source": [
    "## Parameters\n",
    "\n",
    "**Parameters** are the names that are used in the function definition to accept values passed to the function. For example:"
   ]
  },
  {
   "cell_type": "markdown",
   "id": "7f845593-f20f-4941-869e-3a7dcd624e9e",
   "metadata": {},
   "source": [
    "```python\n",
    "def greet(name):\n",
    "    \"\"\"This function greets the person passed in as a parameter\"\"\"\n",
    "    return \"Hello, \" + name\n",
    "```\n",
    "\n",
    "Here `name` is a parameter."
   ]
  },
  {
   "cell_type": "markdown",
   "id": "79168642-bad5-4bd8-b625-1742669b55e4",
   "metadata": {},
   "source": [
    "## Arguments\n",
    "\n",
    "**Arguments** are the actual values that are passed to the function when it is called.\n",
    "\n",
    "```python\n",
    "greet(\"John\")\n",
    "# \"Hello, John\"\n",
    "```\n",
    "\n",
    "Here the literal string `\"John\"` is the argument."
   ]
  },
  {
   "cell_type": "markdown",
   "id": "5b5cb5f3-504d-4edb-8c84-98ace0127cde",
   "metadata": {},
   "source": [
    "## Positional arguments\n",
    "\n",
    "In Python, there are two ways to pass arguments to a function: positional arguments and keyword arguments.\n",
    "\n",
    "**Positional arguments** are arguments that are passed to the function in the same order as the parameters. For example:\n",
    "\n",
    "```python\n",
    "def add(a, b):\n",
    "    \"\"\"This function returns the sum of two numbers\"\"\"\n",
    "    return a + b\n",
    "\n",
    "add(1, 2)\n",
    "```\n",
    "\n",
    "Here, `1` and `2` are positional arguments that are passed to the `add` function."
   ]
  },
  {
   "cell_type": "markdown",
   "id": "7433d92d-1614-430d-a452-34ad82bdf924",
   "metadata": {},
   "source": [
    "## Keyword arguments\n",
    "\n",
    "**Keyword arguments** are arguments that are passed to the function using the name of the parameter followed by an equal sign and the value. For example:\n",
    "\n",
    "```python\n",
    "def greet(name):\n",
    "    \"\"\"This function greets the person passed in as a parameter\"\"\"\n",
    "    return \"Hello, \" + name\n",
    "\n",
    "greet(name=\"John\")\n",
    "```\n",
    "\n",
    "Here, `name=\"John\"` is a keyword argument that is passed to the greet function.\n",
    "\n",
    "::: {.notes}\n",
    "\n",
    "Keyword arguments make the function call more readable and can be useful when the order of the parameters is not important.\n",
    "\n",
    ":::"
   ]
  },
  {
   "cell_type": "markdown",
   "id": "c3431b9d-705c-4598-80bd-79e590a0d17d",
   "metadata": {},
   "source": [
    "## Default values\n",
    "\n",
    "Another important use of the keyword syntax (the `=` sign) is to define **parameters with default values**. For example:\n",
    "\n",
    "```python\n",
    "def greet(name=\"my friend\"):\n",
    "    \"\"\"This function greets the person passed in as a parameter\"\"\"\n",
    "    return \"Hello, \" + name\n",
    "```\n",
    "\n",
    "Calling `greet` **without any arguments** tells Python to use the default value. Therefore, `greet()` will return `\"Hello, my friend\"`\n",
    "\n",
    "---\n",
    "\n",
    "Let's run the following code:"
   ]
  },
  {
   "cell_type": "code",
   "execution_count": null,
   "id": "0807177a-e2f3-412c-a10d-691a1109f591",
   "metadata": {
    "tags": []
   },
   "outputs": [],
   "source": [
    "def greet(name=\"my friend\"):\n",
    "    \"\"\"This function greets the person passed in as a parameter\"\"\"\n",
    "    return \"Hello, \" + name\n",
    "\n",
    "print(greet())\n",
    "\n",
    "print(greet(\"John\"))"
   ]
  },
  {
   "cell_type": "markdown",
   "id": "dd593351-58d2-4cab-886e-d7f093445bee",
   "metadata": {
    "tags": []
   },
   "source": [
    "## How Python executes a function"
   ]
  },
  {
   "cell_type": "markdown",
   "id": "d1e150ea-588c-4f4a-88b4-3d2fad1c1ce6",
   "metadata": {
    "tags": []
   },
   "source": [
    "This sentence may seem another trivial one: to execute a function, you must **call it**. In Python, it means using the `function_name()` with **parentheses**, enclosing any argument if need be.\n",
    "\n",
    "When you call a function in Python, three things happen:\n",
    "\n",
    "1. **calling**\n",
    "2. **executing**\n",
    "3. **returning**\n",
    "\n",
    "---\n",
    "\n",
    "### Calling\n",
    "\n",
    "- Python creates a new **function call frame** on the call stack\n",
    "- A function call frame contains information about the function call, such as the function name, arguments, local variables, and the return address (i.e., where to return control when the function returns)\n",
    "- The function call frame is pushed onto the top of the call stack\n",
    "\n",
    "---\n",
    "\n",
    "### Executing\n",
    "\n",
    "::: {.notes}\n",
    "After the function call frame is created, control is transferred to the function body.\n",
    ":::\n",
    "\n",
    "- The function body is executed from top to bottom, line by line\n",
    "- The function can access its parameters, declare local variables, and perform any other operations specified in the body\n",
    "- The function can call other functions, which will create their own function call frames and push them onto the call stack\n",
    "\n",
    "---\n",
    "\n",
    "### Returning\n",
    "\n",
    "::: {.notes}\n",
    "\n",
    "When the function reaches the end of the body or encounters a `return` statement, the function returns control to the calling code\n",
    "\n",
    ":::\n",
    "\n",
    "- The function call frame is removed from the call stack, and any local variables and parameters are discarded\n",
    "- The function returns a value if specified in the return statement, otherwise it returns `None`\n",
    "\n",
    "This process repeats every time a function is called, and the call stack grows and shrinks as functions are called and return. This allows Python to keep track of the execution context and return control to the correct location when a function returns.\n"
   ]
  },
  {
   "cell_type": "markdown",
   "id": "04747296-7d42-4f8e-b0e4-705593baad3d",
   "metadata": {
    "tags": []
   },
   "source": [
    "## The scope of a function"
   ]
  },
  {
   "cell_type": "markdown",
   "id": "7819c88f-5881-41ad-b896-66ce9af404fb",
   "metadata": {},
   "source": [
    "The following might seem trivial: could we assign the same variable name to two different values?\n",
    "\n",
    "The obvious (and right) answer is **no**. If `x` is `3` and `2` at the same time, how should Python evaluate an expression containing `x`?\n",
    "\n",
    "There is, however, a workaround to this and it involves the concept of **scope**.\n",
    "\n",
    "\n",
    "::: {.callout-important}\n",
    "\n",
    "You should **not** the scope to have a variable with two values at the same time, but it's an important concept to understand unexpected behaviours.\n",
    "\n",
    ":::\n",
    "\n",
    "---\n",
    "\n",
    "Look at the following lines of valid Python code:\n",
    "\n",
    "```python\n",
    "x = \"Hello World\"\n",
    "\n",
    "def func():\n",
    "    x = 2\n",
    "    return f\"Inside 'func', x has the value {x}\")\n",
    "\n",
    "print(func())\n",
    "print(f\"Outside 'func', x has the value {x}\")\n",
    "```\n",
    "\n",
    "What output do you expect?\n",
    "\n",
    "Does `x` really have two simultaneous values?\n",
    "\n",
    "**Not really:** the reason is that `x` **within the function's body** and `x` **in the outside code** live in two separates **scopes**. The function body has a **local scope**, while all the code outside belongs to the **global scope**.\n",
    "\n",
    "---\n",
    "\n",
    "### Different types of scope\n",
    "\n",
    "We can define the scope as **the region of a program where a variable can be accessed**.\n",
    "\n",
    "1. **Global scope**: Variables declared at the top level of a program or module are in the global scope. They are accessible from anywhere in the program or module.\n",
    "\n",
    "2. **Local scope**: Variables declared inside a function are in the local scope. They are only accessible from within the function and are discarded when the function returns.\n",
    "\n",
    "3. **Non-local scope**: Variables declared inside a nested function are in the non-local scope. They are accessible from the outer function and from within the nested function.\n",
    "\n",
    "---\n",
    "\n",
    "Here's an example to illustrate the different scopes:"
   ]
  },
  {
   "cell_type": "code",
   "execution_count": null,
   "id": "7d8a1837-c789-4308-a25f-4d9addc0f1f5",
   "metadata": {
    "tags": []
   },
   "outputs": [],
   "source": [
    "# Global scope\n",
    "x = 10\n",
    "\n",
    "def function():\n",
    "    # Local scope\n",
    "    x = 20\n",
    "    print(\"Inner scope:\", x)\n",
    "\n",
    "function()\n",
    "print(\"Global scope:\", x)"
   ]
  },
  {
   "cell_type": "markdown",
   "id": "2a13e84d-d026-49fc-9a9f-6a0f2be72a69",
   "metadata": {},
   "source": [
    "In this example, `x` is a **global** variable and is accessible from anywhere in the program. `x` is also a **local** variable to the `function`, and is accessible from within the function's body.\n",
    "\n",
    "---"
   ]
  },
  {
   "cell_type": "markdown",
   "id": "6e18100e-7bca-4fbc-979d-9156fda1dc34",
   "metadata": {},
   "source": [
    "::: {.notes}\n",
    "\n",
    "The `nonlocal` keyword is used to access a variable in the **nearest enclosing scope** that is **not** global.\n",
    "\n",
    "In the example below, the `inner_function` uses `nonlocal y` to access the `y` variable in the `outer_function` and modify its value.\n",
    "\n",
    "If `nonlocal` was not used, a new local `y` variable would be created in the `inner_function`.\n",
    "\n",
    ":::"
   ]
  },
  {
   "cell_type": "markdown",
   "id": "7a33ad56-74b6-4e13-83a4-4301214fceef",
   "metadata": {},
   "source": [
    "Look at the following example:"
   ]
  },
  {
   "cell_type": "markdown",
   "id": "ae5cccb2-356b-4d18-af38-8d07fd2f600a",
   "metadata": {},
   "source": [
    "```{.python code-line-numbers=\"|10-11\"}\n",
    "# Global scope\n",
    "x = 10\n",
    "\n",
    "def outer_function():\n",
    "    # Local scope\n",
    "    y = 20\n",
    "\n",
    "    def inner_function():\n",
    "        # Non-local scope\n",
    "        nonlocal y\n",
    "        y += 30\n",
    "        z = 40\n",
    "        print(\"Inner function:\", x, y, z)\n",
    "\n",
    "    inner_function()\n",
    "    print(\"Outer function:\", x, y)\n",
    "\n",
    "outer_function()\n",
    "print(\"Global scope:\", x)\n",
    "```"
   ]
  },
  {
   "cell_type": "markdown",
   "id": "abf76e9a-5a61-4458-87be-a582f44c2774",
   "metadata": {},
   "source": [
    "---\n",
    "\n",
    "The `global` keyword is used to access a global variable and modify its value from within a function.\n",
    "\n",
    "For example:"
   ]
  },
  {
   "cell_type": "code",
   "execution_count": null,
   "id": "fa5a2ab0-3594-41da-8c90-5f378efd34ce",
   "metadata": {
    "tags": []
   },
   "outputs": [],
   "source": [
    "# Global scope\n",
    "x = 10\n",
    "\n",
    "def modify_x():\n",
    "    global x\n",
    "    x = 20\n",
    "\n",
    "print(\"Global scope:\", x)\n",
    "\n",
    "modify_x()\n",
    "\n",
    "print(\"Global scope:\", x)"
   ]
  },
  {
   "cell_type": "markdown",
   "id": "e2048b56-9338-4284-96ef-5af250a55eb4",
   "metadata": {},
   "source": [
    "::: {.notes}\n",
    "\n",
    "Even though you can access and modify variables from different scope, it's not considered a good practice. When a function makes use of `global` or `nonlocal`, or when modifying a mutable type in-place, it's like when a function modifies its own arguments. It's a **side-effect** that should be generally avoided.\n",
    "\n",
    "It's is considered a much better programming practice to make use of a function's return values instead of resorting to the scoping keywords.\n",
    "\n",
    ":::"
   ]
  },
  {
   "cell_type": "markdown",
   "id": "ee1cdfe3-90f0-43ac-852d-01adfc51b60b",
   "metadata": {},
   "source": [
    "# `*args` and `**kwargs`"
   ]
  },
  {
   "cell_type": "markdown",
   "id": "b87faacb-1da9-4e5b-9cd1-0a23d0ce74b8",
   "metadata": {},
   "source": [
    "In the [Basic datatypes](./basic_datatypes.ipynb#Unpacking) section we saw that iterables (tuples and lists) support **unpacking**. You can exploit unpacking to make a **parallel assignment**.\n",
    "\n",
    "Now that we know about unpacking and the `*`/`**` operators, we can create more flexible functions that can accept any number of **positional** or **keyword** arguments.\n",
    "\n",
    "Have a look at the following example:"
   ]
  },
  {
   "cell_type": "code",
   "execution_count": null,
   "id": "7780b91b-c4b1-4213-a8fa-f1802f02df60",
   "metadata": {},
   "outputs": [],
   "source": [
    "def my_func(a, b, *args):\n",
    "    print(f\"Required positional args: a = {a}, b = {b}\")\n",
    "    if args:\n",
    "        print(f\"Optional positional arguments: {args}\")\n",
    "        \n",
    "my_func(10, 'python') # only required, positional arguments\n",
    "my_func(10, 'python', 30, 40, 60) # with some optional, positional arguments"
   ]
  },
  {
   "cell_type": "markdown",
   "id": "349a3646-f40f-4e57-acfa-b9ba01106734",
   "metadata": {},
   "source": [
    "The only difference with unpacking is: all the optional positional arguments are collected by `*args` **in a tuple** and not in a list.\n",
    "\n",
    "Note that `*args` is **an arbitrary name**: you can use whichever valid Python name you want, but it's customary to call it `*args`, and we suggest you to stick to this convention."
   ]
  },
  {
   "cell_type": "markdown",
   "id": "b0e594f0-8634-4374-b8ea-e1a267ecc126",
   "metadata": {},
   "source": [
    "One importat rule:\n",
    "\n",
    "> **You cannot add** more positional arguments after `*args` because `*args` **exhausts all the positional arguments**.\n",
    "\n",
    "```python\n",
    "def func(a, b, *args, d):\n",
    "    # code\n",
    "```\n",
    "\n",
    "The above function defition is actually fine but **you could not call it** with\n",
    "\n",
    "```python\n",
    "func(10, 20, 'a', 'b', 100)\n",
    "```\n",
    "\n",
    "Because `a = 10`, `b = 20`, and `args = ('a', 'b', 100)`: you cannot pass a fourth argument to this function!"
   ]
  },
  {
   "cell_type": "code",
   "execution_count": null,
   "id": "8f57bff5-86b1-41c5-b4e9-aecf997446ce",
   "metadata": {},
   "outputs": [],
   "source": [
    "def print_vec(x, y, z):\n",
    "    print(f\"Vector components: {{x = {x}, y = {y}, z = {z}}}\")\n",
    "    \n",
    "vec = (-3.0, 1.0, 25.4)"
   ]
  },
  {
   "cell_type": "markdown",
   "id": "2adb773c-38bc-4281-beb6-bc9b1e430ee5",
   "metadata": {},
   "source": [
    "The following **cannot** work\n",
    "\n",
    "```python\n",
    "print_vec(vec)\n",
    "```\n",
    "\n",
    "because the function requires 3 positional arguments. But we can use unpacking and write\n",
    "\n",
    "```python\n",
    "print_vec(*vec)\n",
    "```"
   ]
  },
  {
   "cell_type": "markdown",
   "id": "944a4e00-3a44-4843-946f-94907e985205",
   "metadata": {},
   "source": [
    "Remember that functions' arguments can be either **positional** or **keyword** arguments:"
   ]
  },
  {
   "cell_type": "code",
   "execution_count": null,
   "id": "72157f9a-901e-4d05-a968-156ed87c54da",
   "metadata": {},
   "outputs": [],
   "source": [
    "def func(a, b, c = 10, d = 'python'):\n",
    "    print(f'Required: a = {a}, b = {b}')\n",
    "    print(f'Optional: c = {c}, d = {d}')"
   ]
  },
  {
   "cell_type": "markdown",
   "id": "29b31a7f-6ad1-484b-984c-e79a3ee7b57a",
   "metadata": {},
   "source": [
    "We can call the function with"
   ]
  },
  {
   "cell_type": "code",
   "execution_count": null,
   "id": "641d9390-66aa-417c-b663-0728f9575822",
   "metadata": {},
   "outputs": [],
   "source": [
    "func(10, 20) # only positional arguments\n",
    "\n",
    "func(10, 20, c = -100) # 2 positional and 1 keyword argument\n",
    "\n",
    "func(b = -10, c = 10, a = 'hello', d = 'C++') # all keyword arguments"
   ]
  },
  {
   "cell_type": "markdown",
   "id": "3215c24b-fe0a-4324-9469-eaf9f33270b7",
   "metadata": {},
   "source": [
    "After `*args` there can be **no additional positional arguments** but we might have some (or no) keyword arguments.\n",
    "\n",
    "We can use the `**` operator to scoop up a variable amount of (remaining) **keyword arguments**:"
   ]
  },
  {
   "cell_type": "code",
   "execution_count": null,
   "id": "c1d3e823-f201-40ba-9134-e9a0f15c1e8e",
   "metadata": {},
   "outputs": [],
   "source": [
    "def func(a, b, *args, d, **kwargs):\n",
    "    print(f'Required positional: a = {a}, b = {b}')\n",
    "    \n",
    "    if args:\n",
    "        print(f\"Optional positional: {args}\")\n",
    "    \n",
    "    print(f'Required keyword argument: d = {d}')\n",
    "    \n",
    "    if kwargs:\n",
    "        print(f\"Remaining keyword arguments: {kwargs}\")"
   ]
  },
  {
   "cell_type": "markdown",
   "id": "27a6389a-1d83-45cc-b3e1-19d725823f65",
   "metadata": {},
   "source": [
    "Remember: `d` is a **required** keyword argument because we didn't supply a default value in the function definition.\n",
    "\n",
    "Here are a few ways in which we can call our function `func`:"
   ]
  },
  {
   "cell_type": "code",
   "execution_count": null,
   "id": "a9c49c52-65db-45eb-896a-e1ffa7e49180",
   "metadata": {},
   "outputs": [],
   "source": [
    "func(10, 20, d = 10)"
   ]
  },
  {
   "cell_type": "code",
   "execution_count": null,
   "id": "31ed5304-123b-4b82-a43e-3f63377e38d5",
   "metadata": {},
   "outputs": [],
   "source": [
    "func(10, 20, 30, 40, 50, d = 'hello')"
   ]
  },
  {
   "cell_type": "code",
   "execution_count": null,
   "id": "5ff3f27b-6752-4467-8ce5-3c11a56cb270",
   "metadata": {},
   "outputs": [],
   "source": [
    "func(10, 20, 30, 40, 50, d = 'hello', extra_1 = 'hey, ', extra_2 = \"how are\", extra_3 = \"you?\")"
   ]
  },
  {
   "cell_type": "markdown",
   "id": "fb4c8eb2-efdb-48da-be7f-6ab2d08102ec",
   "metadata": {},
   "source": [
    "We can even **omit** mandatory positional arguments\n",
    "\n",
    "```python\n",
    "def func(*args, d):\n",
    "    # code\n",
    "```\n",
    "\n",
    "The function above will accepts any number of **optional** positional arguments and one **mandatory** keyword argument `d`.\n",
    "\n",
    "You can think of `*` in a function's signature as indicating the \"end\" of positional arguments **without collecting them**."
   ]
  },
  {
   "cell_type": "markdown",
   "id": "ae9c9e74-259b-4468-a56a-e1ae1a1debb0",
   "metadata": {},
   "source": [
    "Or we can force **no positional arguments at all**:\n",
    "\n",
    "```python\n",
    "def func(*, d, **kwargs):\n",
    "    # code\n",
    "```\n",
    "\n",
    "This function accepts **no positional arguments** at all, one **mandatory** keyword argument `d` and **any number of extra keyword arguments**."
   ]
  },
  {
   "cell_type": "markdown",
   "id": "c5e934a2-9201-4e03-be47-e2f908937624",
   "metadata": {},
   "source": [
    "You can see that with iterables unpacking and the two `*`/`**` operators, Python is showing all its versatility when it comes to writing your own function.\n",
    "\n",
    "If all this seems confusing, **try to experiment with these concepts** here in the notebook to better understand the behaviour. Create and call all the functions you want and check if their outputs is what you expect."
   ]
  },
  {
   "cell_type": "markdown",
   "id": "af454573-8da4-4b1c-9b93-24c2a6d511eb",
   "metadata": {
    "tags": []
   },
   "source": [
    "# Exercises"
   ]
  },
  {
   "cell_type": "code",
   "execution_count": null,
   "id": "00ac378c-763a-420b-bf4a-d02469e97c98",
   "metadata": {
    "tags": []
   },
   "outputs": [],
   "source": [
    "%reload_ext tutorial.tests.testsuite\n",
    "import pathlib"
   ]
  },
  {
   "cell_type": "markdown",
   "id": "e5615c16-7130-4c05-9081-0a495d7090b2",
   "metadata": {
    "tags": []
   },
   "source": [
    "## Longest consecutive sequence 🌶️🌶️"
   ]
  },
  {
   "cell_type": "markdown",
   "id": "a680c83c-065a-4ae0-bf6f-fb5084d5c560",
   "metadata": {
    "tags": []
   },
   "source": [
    "Given an **unsorted** set of $N$ random integers, write a function that returns the length of the longest consecutive sequence of integers.\n",
    "\n",
    "::: {.panel-tabset}\n",
    "\n",
    "#### Example 1\n",
    "Given the list `nums = [100, 4, 200, 1, 3, 2]`, the longest sequence is `[1, 2, 3, 4]` of length *4*.\n",
    "\n",
    "#### Example 2\n",
    "Given the list `nums = [0, 3, 7, 2, 5, 8, 4, 6, 0, 1]`, the longest sequence contains all the numbers from 0 to 8, so its length is **9**.\n",
    "\n",
    ":::\n",
    "\n",
    "---"
   ]
  },
  {
   "cell_type": "code",
   "execution_count": null,
   "id": "f6416b66-f094-432b-8589-5e44e0d67388",
   "metadata": {
    "tags": []
   },
   "outputs": [],
   "source": [
    "%%ipytest\n",
    "\n",
    "def solution_longest_sequence(nums: \"list[int]\") -> int:\n",
    "    \"\"\"\n",
    "    Write your solution here\n",
    "    \"\"\"\n",
    "    pass"
   ]
  },
  {
   "cell_type": "markdown",
   "id": "ba435a6b-caac-48e2-a0e2-80edabdf1215",
   "metadata": {},
   "source": [
    "### Part 2 (bonus) 🌶️🌶️🌶️\n",
    "\n",
    "Suppose that you are dealing with a *very* long list of integers (e.g., a few thousands or a million). Can you write an alternative solution that takes **less than 1 minute** to run?\n",
    "\n",
    "*Hint:* you need to store your `nums` in a data structure that doesn't care about ordering and discard duplicates. We have seen it on the first day of the tutorial."
   ]
  },
  {
   "cell_type": "code",
   "execution_count": null,
   "id": "b6e0ee24-8115-4741-acfe-c2938bb40525",
   "metadata": {
    "tags": []
   },
   "outputs": [],
   "source": [
    "%%ipytest\n",
    "\n",
    "def solution_longest_sequence_best(nums: \"list[int]\") -> int:\n",
    "    \"\"\"\n",
    "    Write your solution here\n",
    "    \"\"\"\n",
    "    pass"
   ]
  },
  {
   "cell_type": "markdown",
   "id": "1c93c572-7890-4bd7-a0f6-d4015679df39",
   "metadata": {
    "tags": []
   },
   "source": [
    "## Password validator"
   ]
  },
  {
   "cell_type": "markdown",
   "id": "6a40b25b-fa38-44c8-8a80-d1e86c38ecab",
   "metadata": {
    "tags": []
   },
   "source": [
    "### Part 1 🌶️"
   ]
  },
  {
   "cell_type": "markdown",
   "id": "61fdaa6e-9f5c-4039-a09e-e79146175703",
   "metadata": {},
   "source": [
    "You have a range of numbers `136760-595730` and need to count how many valid password it contains. A valid password must meet **all** the following criteria:\n",
    "\n",
    "- It is a six-digit number\n",
    "- At least two adjacent digits are the same (like `22` in `122345`)\n",
    "- Going from left to right, the digits **never decrease**; they only ever increase or stay the same (like 111123 or 135679)\n",
    "\n",
    "\n",
    "---\n",
    "\n",
    "\n",
    "For example, the following are true:\n",
    "\n",
    "- `111111` meets these criteria (double `11`, never decreases)\n",
    "- `223450` does **not** meet these criteria (`50` is a decreasing pair of digits)\n",
    "- `123789` does **not** meet these criteria (no double digit)\n",
    "\n",
    "Write a function that determines if a password is valid according to the criteria above.\n",
    "\n",
    "**How many valid password are there in your range?**\n",
    "\n",
    "*Hint:* the solution function should take **two** arguments: the `start` and `end` of your password range"
   ]
  },
  {
   "cell_type": "code",
   "execution_count": null,
   "id": "517f4d43-0ffa-407d-9035-7c8e47b64103",
   "metadata": {},
   "outputs": [],
   "source": [
    "%%ipytest\n",
    "\n",
    "def solution_password_validator1(start: int, end: int) -> int:\n",
    "    \"\"\"\n",
    "    Write your solution here\n",
    "    \"\"\"\n",
    "    pass"
   ]
  },
  {
   "cell_type": "markdown",
   "id": "edac5c6a-23fa-4f09-a462-5682201a449f",
   "metadata": {
    "tags": []
   },
   "source": [
    "---\n",
    "\n",
    "### Part 2 🌶️🌶️"
   ]
  },
  {
   "cell_type": "markdown",
   "id": "af330663-15c2-48f7-b407-e09cecc62d4d",
   "metadata": {},
   "source": [
    "You have a new rule: **at least** two adjacent matching digits **must not be part of a larger group of matching digits**.\n",
    "\n",
    "Write a new function for validating password that includes the new rule.\n",
    "\n",
    "**How many valid password does your range contain now?**\n",
    "\n",
    "---\n",
    "\n",
    "A few examples:\n",
    "\n",
    "- `112233` meets these criteria because the digits never decrease and all repeated digits are exactly two digits long\n",
    "- `123444` **doesn't** meet the criteria (the repeated `44` is part of a larger group of `444`)\n",
    "- `111122` meets the criteria (even though `1` is repeated more than twice, it still contains a double `22`)"
   ]
  },
  {
   "cell_type": "code",
   "execution_count": null,
   "id": "17106c0f-e9df-4888-bb21-e2806cc72df4",
   "metadata": {},
   "outputs": [],
   "source": [
    "%%ipytest\n",
    "\n",
    "def solution_password_validator2(start: int, end: int):\n",
    "    \"\"\"\n",
    "    Write your solution here\n",
    "    \"\"\"\n",
    "    pass"
   ]
  },
  {
   "cell_type": "markdown",
   "id": "503a18e5-8ee4-4a02-89f9-09cbca3a8e50",
   "metadata": {
    "tags": []
   },
   "source": [
    "## Buckets reorganization"
   ]
  },
  {
   "cell_type": "markdown",
   "id": "957eb5a0-5331-48e3-86b6-7b99299d710f",
   "metadata": {},
   "source": [
    "### Part 1 🌶️"
   ]
  },
  {
   "cell_type": "markdown",
   "id": "59093ed8-b422-4f97-8ffc-801f6149458a",
   "metadata": {},
   "source": [
    "You have a list of buckets, each containing some items labeled from `a` to `z`, or from `A` to `Z`. Each bucket is split into **two** equally sized compartments.\n",
    "\n",
    "For example, in the following list of buckets\n",
    "\n",
    "```\n",
    "vJrwpWtwJgWrhcsFMMfFFhFp\n",
    "jqHRNqRjqzjGDLGLrsFMfFZSrLrFZsSL\n",
    "PmmdzqPrVvPwwTWBwg\n",
    "wMqvLMZHhHMvwLHjbvcjnnSBnvTQFn\n",
    "ttgJtRGJQctTZtZT\n",
    "CrZsJsPPZsGzwwsLwLmpwMDw\n",
    "```\n",
    "\n",
    "---\n",
    "\n",
    "- The first bucket contains `vJrwpWtwJgWrhcsFMMfFFhFp`, which means its first compartment contains the items `vJrwpWtwJgWr`, while the second compartment contains the items `hcsFMMfFFhFp`. The only item type that appears in both compartments is `p`.\n",
    "- The third bucket's compartments contain `PmmdzqPrV` and `vPwwTWBwg`; the only common item type is `P`.\n",
    "- The sixth bucket's compartments only share item type `s`.\n",
    "\n",
    "Each item has also a priority:\n",
    "\n",
    "- Items types `a` through `z` have priorities 1 through 26\n",
    "- Items types `A` through `Z` have priorities 27 through 52\n",
    "\n",
    "---\n",
    "\n",
    "Write a function that returns the priority of the item type that appears in **both compartments**.\n",
    "\n",
    "\n",
    "**What is the sum of the priorities of those item types?**\n",
    "\n",
    "*Hint:* your solution function should take **only one argument**: a file containing your buckets list. The buckets list is a multi-line string as in the example above. Each line is a single bucket, so you need to split the string on every new line (`\\n`)\n",
    "\n",
    "\n",
    "In the above example, the priority of the item that appears in both compartments of each bucket is 16 (`p`), 38 (`L`), 42 (`P`), 22 (`v`), 20 (`t`), and 19 (`s`); the sum of these is **157**."
   ]
  },
  {
   "cell_type": "code",
   "execution_count": null,
   "id": "3eea5fd5-fef2-41ef-93fd-541a332cf679",
   "metadata": {
    "tags": []
   },
   "outputs": [],
   "source": [
    "%%ipytest\n",
    "\n",
    "def solution_buckets1(buckets_file: pathlib.Path) -> int:\n",
    "    buckets = buckets_file.read_text()  # do NOT remove this line\n",
    "    # Write your solution below this comment\n",
    "    pass"
   ]
  },
  {
   "cell_type": "markdown",
   "id": "1085e791-f1df-4fce-89ae-9c169dbf8aa2",
   "metadata": {},
   "source": [
    "### Part 2 🌶️🌶️"
   ]
  },
  {
   "cell_type": "markdown",
   "id": "0b68ba01-1a08-43c5-84b2-e73315ab0f53",
   "metadata": {},
   "source": [
    "You are told that you should not care about the priority of **every item**, but only of a \"special item\" that is common to groups of **three buckets**.\n",
    "\n",
    "Every set of three lines correspond to a single group, and each group can have a different special item – that is, an item with a different letter.\n",
    "\n",
    "---\n",
    "\n",
    "Considering once again the above example, in the first three lines:\n",
    "\n",
    "```\n",
    "vJrwpWtwJgWrhcsFMMfFFhFp\n",
    "jqHRNqRjqzjGDLGLrsFMfFZSrLrFZsSL\n",
    "PmmdzqPrVvPwwTWBwg\n",
    "```\n",
    "The only item that appears in **all** three buckets is `r` (priority 18). This must be the \"special item\".\n",
    "\n",
    "If you consider the second group of three, the special item is of type `Z` (priority 52). The sum is `18 + 52 = 70`.\n",
    "\n",
    "\n",
    "**What is the sum of the priorities of all the special items?**"
   ]
  },
  {
   "cell_type": "code",
   "execution_count": null,
   "id": "5acf6617-1275-42a0-b656-bfa59d33493b",
   "metadata": {},
   "outputs": [],
   "source": [
    "%%ipytest\n",
    "\n",
    "def solution_buckets2(buckets_file: pathlib.Path) -> int:\n",
    "    buckets = buckets_file.read_text()  # do NOT remove this line\n",
    "    # Write your solution below this comment\n",
    "    pass"
   ]
  }
 ],
 "metadata": {
  "kernelspec": {
   "display_name": "Python 3 (ipykernel)",
   "language": "python",
   "name": "python3"
  },
  "language_info": {
   "codemirror_mode": {
    "name": "ipython",
    "version": 3
   },
   "file_extension": ".py",
   "mimetype": "text/x-python",
   "name": "python",
   "nbconvert_exporter": "python",
   "pygments_lexer": "ipython3",
   "version": "3.11.1"
  }
 },
 "nbformat": 4,
 "nbformat_minor": 5
}
