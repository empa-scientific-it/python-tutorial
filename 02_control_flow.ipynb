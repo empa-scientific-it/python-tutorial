{
 "cells": [
  {
   "cell_type": "markdown",
   "id": "0",
   "metadata": {},
   "source": [
    "# Control flow"
   ]
  },
  {
   "cell_type": "markdown",
   "id": "1",
   "metadata": {},
   "source": [
    "## Table of Contents\n",
    "- [References](#References)\n",
    "- [Conditionals](#Conditionals)\n",
    "    - [Standard `if-elif-else` structure](#Standard-if-elif-else-structure)\n",
    "    - [Ternary operator (one-line `if-else`)](#Ternary-operator-(one-line-if-else))\n",
    "    - [When to use one-line `if-else`?](#When-to-use-one-line-if-else?)\n",
    "    - [Some practical examples](#Some-practical-examples)\n",
    "- [Quiz on conditionals](#Quiz-on-conditionals)\n",
    "- [The `while` loop](#The-while-loop)\n",
    "- [The `for` loop](#The-for-loop)\n",
    "    - [The `enumerate` built-in](#The-enumerate-built-in)\n",
    "    - [The `range` built-in](#The-range-built-in)\n",
    "- [Warm-up Exercises](#Warm-up-Exercises)\n",
    "    1. [Write a Python program that returns the characters in a string and their indexes](#1.-Write-a-Python-program-that-returns-the-characters-in-a-string-and-their-indexes)\n",
    "    2. [Write a Python program that returns all the numbers in a given range, __including__ the first and the last elements](#2.-Write-a-Python-program-that-returns-all-the-numbers-in-a-given-range,-including-the-first-and-the-last-elements)\n",
    "    3. [Write a Python program that takes a list of integers and returns the square root of each of them](#3.-Write-a-Python-program-that-takes-a-list-of-integers-and-returns-the-square-root-of-each-of-them)\n",
    "    4. [Write a Python program that takes an integer and divides it by 2 until the result is no longer an even number](#4.-Write-a-Python-program-that-takes-an-integer-and-divides-it-by-2-until-the-result-is-no-longer-an-even-number)\n",
    "- [Altering loops](#Altering-loops)\n",
    "  - [`if` statement inside `for`/`while`](#if-statement-inside-for/while)\n",
    "    - [Exercise: conditionals inside loops](#Exercise:-conditionals-inside-loops)\n",
    "  - [`break` and `continue`](#break-and-continue)\n",
    "    - [The `break` keyword](#The-break-keyword)\n",
    "      - [Examples of using `break`](#Examples-of-using-break)\n",
    "    - [The `continue` keyword](#The-continue-keyword)\n",
    "      - [Examples of `continue`](#Examples-of-continue)\n",
    "    - [Which one should I use?](#Which-one-should-I-use?)\n",
    "    - [Common patterns](#Common-patterns)\n",
    "    - [Exercise: breaking out of loops](#Exercise:-breaking-out-of-loops)\n",
    "  - [`else` after a `for`/`while`](#else-after-a-for/while)\n",
    "    - [Exercise: using `else` in loops](#Exercise:-using-else-in-loops)\n",
    "- [Nested loops](#Nested-loops)\n",
    "    - [Understanding the performance impact](#Understanding-the-performance-impact)\n",
    "    - [Tips to improve performance](#Tips-to-improve-performance)\n",
    "- [Quiz on loops](#Quiz-on-loops)\n",
    "- [Exceptions](#Exceptions)\n",
    "    - [The `try-except` block](#The-try-except-block)\n",
    "    - [The `raise` statement](#The-raise-statement)\n",
    "- [Exercises](#Exercises)\n",
    "    - [Exercise 1: Find the factors](#Exercise-1:-Find-the-factors)\n",
    "    - [Exercise 2: Find the pair](#Exercise-2:-Find-the-pair)\n",
    "    - [Exercise 3: Cats with hats](#Exercise-3:-Cats-with-hats)\n",
    "    - [Exercise 4: Base converter](#Exercise-4:-Base-converter)"
   ]
  },
  {
   "cell_type": "markdown",
   "id": "2",
   "metadata": {},
   "source": [
    "## References"
   ]
  },
  {
   "cell_type": "markdown",
   "id": "3",
   "metadata": {},
   "source": [
    "From \"Python 4 Everybody\" online tutorial:\n",
    "\n",
    "- [Conditionals](https://www.py4e.com/html3/03-conditional)\n",
    "- [Loops and iterations](https://www.py4e.com/html3/05-iterations)"
   ]
  },
  {
   "cell_type": "markdown",
   "id": "4",
   "metadata": {
    "tags": []
   },
   "source": [
    "## Conditionals"
   ]
  },
  {
   "cell_type": "markdown",
   "id": "5",
   "metadata": {},
   "source": [
    "Python [supports](./01-basic_datatypes.ipynb#Comparison-operators) different comparison expressions.\n",
    "They are called **logical expressions** as they evaluate to either `True` or `False`.\n",
    "\n",
    "We can use these results in **conditional statements**, and have our program behave differently based on the result."
   ]
  },
  {
   "cell_type": "markdown",
   "id": "6",
   "metadata": {},
   "source": [
    "### Standard `if-elif-else` structure\n",
    "\n",
    "The main conditional is the `if-elif-else` block:\n",
    "\n",
    "```python\n",
    "if condition:\n",
    "    if sub_condition:\n",
    "        sub_statement\n",
    "        if sub_sub_condition:\n",
    "            sub_sub_statement\n",
    "elif another_condition:\n",
    "    other_statements\n",
    "else:\n",
    "    suite\n",
    "```\n",
    "\n",
    "- When a condition is false, the entire block of statements just below are **skipped**\n",
    "- The `elif` and `else` sections are **optional**\n",
    "- The block of statements under `else` is executed **only if all the conditions above are false**\n",
    "- You can nest conditionals, but try to avoid too many branches for both readability and performance\n"
   ]
  },
  {
   "cell_type": "markdown",
   "id": "7",
   "metadata": {},
   "source": [
    "### Ternary operator (one-line `if-else`)\n",
    "\n",
    "Python offers a concise way to write simple `if-else` statements in one line:\n",
    "\n",
    "```python\n",
    "# Standard if-else\n",
    "if condition:\n",
    "    x = 1\n",
    "else:\n",
    "    x = 2\n",
    "\n",
    "# Equivalent ternary operator\n",
    "x = 1 if condition else 2\n",
    "```\n",
    "\n",
    "The syntax is: `value_if_true if condition else value_if_false`\n",
    "\n",
    "#### When to use one-line `if-else`?\n",
    "\n",
    "##### Good Use Cases:\n",
    "```python\n",
    "# Simple value assignment\n",
    "age_category = \"adult\" if age >= 18 else \"minor\"\n",
    "\n",
    "# Simple function calls\n",
    "result = max(x, y) if x > 0 else min(x, y)\n",
    "```\n",
    "\n",
    "##### Bad Use Cases:\n",
    "```python\n",
    "# DON'T: Nested conditionals in one line (hard to read)\n",
    "result = 1 if x > 0 else 2 if x < 0 else 3  # Avoid this\n",
    "\n",
    "# BETTER: Write it clearly\n",
    "if x > 0:\n",
    "    result = 1\n",
    "elif x < 0:\n",
    "    result = 2\n",
    "else:\n",
    "    result = 3\n",
    "\n",
    "# DON'T: Complex expressions in ternary\n",
    "value = (complex_function(x) if condition else another_complex_function(y))  # Avoid this\n",
    "```"
   ]
  },
  {
   "cell_type": "markdown",
   "id": "8",
   "metadata": {},
   "source": [
    "#### Some practical examples\n",
    "\n",
    "##### 1. Input Validation\n",
    "```python\n",
    "def validate_age(age):\n",
    "    status = \"valid\" if 0 <= age <= 120 else \"invalid\"\n",
    "    return status\n",
    "\n",
    "# Example usage\n",
    "print(validate_age(25))    # Output: \"valid\"\n",
    "print(validate_age(-5))    # Output: \"invalid\"\n",
    "```\n",
    "\n",
    "##### 2. User Authentication\n",
    "```python\n",
    "def check_access(user_role, is_authenticated):\n",
    "    if not is_authenticated:\n",
    "        return \"Please log in\"\n",
    "    elif user_role == \"admin\":\n",
    "        return \"Full access granted\"\n",
    "    elif user_role == \"user\":\n",
    "        return \"Limited access granted\"\n",
    "    else:\n",
    "        return \"Access denied\"\n",
    "```\n",
    "\n",
    "##### 3. Grade Calculator\n",
    "```python\n",
    "def get_grade(score):\n",
    "    if score >= 90:\n",
    "        return 'A'\n",
    "    elif score >= 80:\n",
    "        return 'B'\n",
    "    elif score >= 70:\n",
    "        return 'C'\n",
    "    elif score >= 60:\n",
    "        return 'D'\n",
    "    else:\n",
    "        return 'F'\n",
    "\n",
    "# Alternative using ternary (only for simple cases)\n",
    "def pass_fail(score):\n",
    "    return \"Pass\" if score >= 60 else \"Fail\"\n",
    "```\n",
    "\n",
    "Remember:\n",
    "- Use ternary operators only for simple, clear conditions\n",
    "- Avoid nested ternary operators\n",
    "- Prioritize readability and clarity over conciseness\n",
    "- If a conditional structure becomes complex, break it down into separate functions or use standard `if-elif-else` blocks"
   ]
  },
  {
   "cell_type": "code",
   "execution_count": null,
   "id": "9",
   "metadata": {
    "tags": []
   },
   "outputs": [],
   "source": [
    "# Case 1\n",
    "if True:\n",
    "    print(\"If is True\")\n",
    "elif False:\n",
    "    print(\"This won't be printed\")\n",
    "else:\n",
    "    print(\"This won't be printed either\")\n",
    "\n",
    "# Case 2\n",
    "if False:\n",
    "    print(\"This won't be printed\")\n",
    "elif True:\n",
    "    print(\"Elif is True\")\n",
    "else:\n",
    "    print(\"This won't be printed\")\n",
    "    \n",
    "# Case 3\n",
    "if False:\n",
    "    print(\"This won't be printed\")\n",
    "elif False:\n",
    "    print(\"This won't be printed either\")\n",
    "else:\n",
    "    print(\"Only statement under else is executed\")\n"
   ]
  },
  {
   "cell_type": "markdown",
   "id": "10",
   "metadata": {},
   "source": [
    "## Quiz on conditionals"
   ]
  },
  {
   "cell_type": "code",
   "execution_count": null,
   "id": "11",
   "metadata": {},
   "outputs": [],
   "source": [
    "from tutorial.quiz import control_flow as quiz\n",
    "quiz.ConditionalsQuiz()"
   ]
  },
  {
   "cell_type": "markdown",
   "id": "12",
   "metadata": {
    "tags": []
   },
   "source": [
    "## The `while` loop"
   ]
  },
  {
   "cell_type": "markdown",
   "id": "13",
   "metadata": {},
   "source": [
    "`while` loops repeat a block of code for as long as some condition remains true.\n",
    "\n",
    "1. The `while` **statement** starts with the `while` (reserved) keyword, followed by a `test_condition`, and must end with a colon (`:`)\n",
    "2. The **loop body** contains the lines of code that get repeated. Each line must be indented, or you will get a syntax error\n",
    "3. The **else** clause is optional, and is executed when the `test_condition` becomes false.\n",
    "\n",
    "\n",
    "```python\n",
    "while test_condition:\n",
    "    body\n",
    "else:\n",
    "    suite\n",
    "```\n"
   ]
  },
  {
   "cell_type": "markdown",
   "id": "14",
   "metadata": {},
   "source": [
    "A very simple example:"
   ]
  },
  {
   "cell_type": "code",
   "execution_count": null,
   "id": "15",
   "metadata": {
    "tags": []
   },
   "outputs": [],
   "source": [
    "n = 1\n",
    "while n < 5:\n",
    "    print(n)\n",
    "    n = n + 1\n",
    "else:\n",
    "    print(\"While loop is over\")"
   ]
  },
  {
   "cell_type": "markdown",
   "id": "16",
   "metadata": {},
   "source": [
    "First, `n` is initialized to 1.\n",
    "Then the `while` loop starts and tests the condition `n < 5`.\n",
    "Since it's `True`, it enters the loop body, where it prints the number and increment `n` by 1.\n",
    "As soon as `n = 5`, the `n < 5` evaluates to `False`, and the loop stops.\n",
    "The only statement executed after the loop is over is the `print` statement in the `else` clause.\n",
    "\n"
   ]
  },
  {
   "cell_type": "markdown",
   "id": "17",
   "metadata": {},
   "source": [
    "If you are not careful, you can create an **infinite loop**: it happens when your condition is always `True`.\n",
    "The above example can be easily (and mistakenly) turned into an infinite loop:\n",
    "\n",
    "```python\n",
    "n = 1\n",
    "while n < 5:\n",
    "    print(n)\n",
    "```\n",
    "\n",
    "<div class=\"alert alert-block alert-info\">\n",
    "    <h4><b>Note</b></h4>\n",
    "    Infinite loops are not inherently bad. They can be the precise thing you need sometimes. For example, when you need to continously perform a check and perform the same set of steps.\n",
    "</div>\n",
    "\n",
    "But in that case you would write something like:\n",
    "\n",
    "```python\n",
    "while True:\n",
    "    # do something indefinitely\n",
    "```"
   ]
  },
  {
   "cell_type": "markdown",
   "id": "18",
   "metadata": {
    "tags": []
   },
   "source": [
    "## The `for` loop"
   ]
  },
  {
   "cell_type": "markdown",
   "id": "19",
   "metadata": {},
   "source": [
    "In Python, an **iterable** is an **object** capable of returning its members one at a time.\n",
    "It's a generic object with this particular property.\n",
    "\n",
    "Iterable objects are: lists, strings, `range()` objects, file objects and many more.\n",
    "\n",
    "<div class=\"alert alert-block alert-warning\">\n",
    "    <h4><b>Important</b></h4>\n",
    "    The main purpose of the <code>for</code> loop is to access all the elements of an iterable\n",
    "</div>\n"
   ]
  },
  {
   "cell_type": "markdown",
   "id": "20",
   "metadata": {},
   "source": [
    "In other languages (C++, Java or JavaScript), a `for` loop is more similar to `while` in Python. For example, the C++ loop\n",
    "\n",
    "```cpp\n",
    "for (unsigned int i = 0; i < 10; ++i) {\n",
    "    std::cout << i << std::endl;\n",
    "}\n",
    "```\n",
    "\n",
    "could be translated to Python as we've seen before\n",
    "\n",
    "```python\n",
    "i = 0\n",
    "while i < 10:\n",
    "    print(i)\n",
    "    i = i + 1\n",
    "```\n",
    "\n",
    "In the C++ code, the looping variable `i` is automatically discarded when the loop is over. In Python, `i` will retain the **last value** that was assigned inside the `while` body.\n",
    "\n",
    "\n",
    "---\n",
    "\n",
    "The syntax of a `for` loop is\n",
    "\n",
    "```python\n",
    "for target in iterable:\n",
    "    body\n",
    "[else:\n",
    "   suite]\n",
    "```\n",
    "\n",
    "1. The `for` **statement** starts with the keyword `for`, followed by a **membership expression**, and ends with a colon (`:`)\n",
    "2. The **loop body** contains the code to be repeated, in the same way as the `while` loop\n",
    "\n",
    "Example:"
   ]
  },
  {
   "cell_type": "code",
   "execution_count": null,
   "id": "21",
   "metadata": {
    "tags": []
   },
   "outputs": [],
   "source": [
    "for letter in \"Python\":\n",
    "    print(letter)"
   ]
  },
  {
   "cell_type": "markdown",
   "id": "22",
   "metadata": {},
   "source": [
    "The loops runs until there are letters in the string `'Python'`, as strings are iterable.\n",
    "Doing the same with a `while` loop would be more complex without a reason:"
   ]
  },
  {
   "cell_type": "code",
   "execution_count": null,
   "id": "23",
   "metadata": {
    "tags": []
   },
   "outputs": [],
   "source": [
    "word = \"Python\"\n",
    "index = 0\n",
    "\n",
    "while index < len(word):\n",
    "    print(word[index])\n",
    "    index = index + 1"
   ]
  },
  {
   "cell_type": "markdown",
   "id": "24",
   "metadata": {},
   "source": [
    "Why writing six lines of code when we can do the same with just two?"
   ]
  },
  {
   "cell_type": "markdown",
   "id": "25",
   "metadata": {},
   "source": [
    "### The `enumerate` built-in\n",
    "Often, you need to iterate through a collection and operate on each value while keeping track of the *position* (index) of the loop.\n",
    "In other languages, you would define an index variable and increment it at every loop. While this is possible in Python, as shown in the previous code snippet, we usually prefer to use the built-in `enumerate` function, documented [here](https://docs.python.org/3/library/functions.html#enumerate).\n",
    "\n",
    "This function takes any iterable object and returns a new iterable that yields a tuple `(index, value)` when you iterate over it:"
   ]
  },
  {
   "cell_type": "code",
   "execution_count": null,
   "id": "26",
   "metadata": {},
   "outputs": [],
   "source": [
    "for index, letter in enumerate(\"Python\"):\n",
    "    print(index, letter)"
   ]
  },
  {
   "cell_type": "markdown",
   "id": "27",
   "metadata": {},
   "source": [
    "The full syntax is `enumerate(iterable, start=0)`.\n",
    "By default, enumeration starts at `0` (since Python uses 0-based indexing), but you can optionally set `start=1` (or any other integer).\n",
    "\n",
    "**Note:** Setting `start=n` with $n \\neq 0$ **does not** change the indexing of the original iterable."
   ]
  },
  {
   "cell_type": "markdown",
   "id": "28",
   "metadata": {},
   "source": [
    "### The `range` built-in\n",
    "\n",
    "Sometimes you want to loop over a range of numbers.\n",
    "Python has the built-in function `range()`: it produces a **range object** which is... an iterable, you guessed!\n",
    "\n",
    "The syntax is `range([start,] stop[, step])`, where `start` is optional and defaults to 0. If `step` is omitted, it's taken to be 1.\n",
    "\n",
    "<div class=\"alert alert-block alert-info\">\n",
    "    <h4><b>Note</b></h4>\n",
    "    <code>range()</code> <strong>never</strong> includes its <code>stop</code> element.\n",
    "    It always provides a sequence of numbers that is <strong>less than</strong> the <code>stop</code> value.<br>\n",
    "    For instance <code>range(10)</code> produces the numbers 0, 1, 2, 3, 4, 5, 6, 7, 8, 9.\n",
    "</div>"
   ]
  },
  {
   "cell_type": "markdown",
   "id": "29",
   "metadata": {
    "tags": []
   },
   "source": [
    "## Warm-up Exercises\n",
    "\n",
    "Here are a few exercises to practice the concepts we have seen so far.\n",
    "\n",
    "<div class=\"alert alert-block alert-danger\">\n",
    "    <h4><b>Important</b></h4>\n",
    "    <ul>\n",
    "        <li>Try to use loop constructs like <code>for</code> or <code>while</code>, and the built-in iteration functions like <code>range()</code></li>\n",
    "        <li>Try to solve these exercises <strong>first</strong> before attempting any of those suggested in the last Exercises section.</li>\n",
    "    </ul>\n",
    "</div>"
   ]
  },
  {
   "cell_type": "code",
   "execution_count": null,
   "id": "30",
   "metadata": {
    "tags": []
   },
   "outputs": [],
   "source": [
    "%reload_ext tutorial.tests.testsuite"
   ]
  },
  {
   "cell_type": "markdown",
   "id": "31",
   "metadata": {},
   "source": [
    "#### 1. Write a Python program that returns the characters in a string and their indexes\n",
    "\n",
    "\n",
    "<div class=\"alert alert-block alert-warning\">\n",
    "    <h4><b>Note</b></h4> \n",
    "    The index should be returned <strong>after</strong> the corresponding character.\n",
    "</div>\n",
    "\n",
    "For example, if the string is `python`, the result should be `[('p', 0), ('y', 1), ('t', 2), ('h', 3), ('o', 4), ('n', 5)]`"
   ]
  },
  {
   "cell_type": "code",
   "execution_count": null,
   "id": "32",
   "metadata": {
    "tags": []
   },
   "outputs": [],
   "source": [
    "%%ipytest\n",
    "\n",
    "def solution_indexed_string(string: str) -> list[tuple]:\n",
    "    \"\"\"A function that returns a list of tuples containing each character in the input string paired with its index.\n",
    "\n",
    "    Args:\n",
    "        string: The input string to be processed\n",
    "\n",
    "    Returns:\n",
    "        - A list of tuples where each tuple contains:\n",
    "            - index (int): The position of the character in the string\n",
    "            - char (str): The character at that position\n",
    "    \"\"\"\n",
    "    return"
   ]
  },
  {
   "cell_type": "markdown",
   "id": "33",
   "metadata": {
    "tags": []
   },
   "source": [
    "#### 2. Write a Python program that returns all the numbers in a given range, including the first and the last elements\n",
    "\n",
    "<div class=\"alert alert-block alert-warning\">\n",
    "    <h4><b>Note</b></h4>\n",
    "    Ranges can also contain <strong>decreasing</strong> numbers. Make sure to build the correct range.\n",
    "</div>"
   ]
  },
  {
   "cell_type": "code",
   "execution_count": null,
   "id": "34",
   "metadata": {
    "tags": []
   },
   "outputs": [],
   "source": [
    "%%ipytest\n",
    "\n",
    "def solution_range_of_nums(start: int, end: int) -> list[int]:\n",
    "    \"\"\"Creates a list of consecutive integers from start to end, inclusive of both boundaries.\n",
    "    \n",
    "    The sequence can be either increasing or decreasing depending on the input values.\n",
    "\n",
    "    Args:\n",
    "        start: The first number in the range\n",
    "        end: The last number in the range\n",
    "\n",
    "    Returns:\n",
    "        - A list of integers containing all numbers from start to end (inclusive), in the correct order\n",
    "    \"\"\"\n",
    "    return"
   ]
  },
  {
   "cell_type": "markdown",
   "id": "35",
   "metadata": {
    "tags": []
   },
   "source": [
    "#### 3. Write a Python program that takes a list of integers and returns the square root of each of them\n",
    "\n",
    "<div class=\"alert alert-block alert-info\">\n",
    "    <h4><b>Hints</b></h4>\n",
    "    <ul>\n",
    "        <li>You can use the <code>math.sqrt</code> function to compute the square root of a number</li>\n",
    "        <li>If a number does not have a square root in the real domain, you should skip it</li>\n",
    "    </ul>\n",
    "</div>"
   ]
  },
  {
   "cell_type": "code",
   "execution_count": null,
   "id": "36",
   "metadata": {
    "tags": []
   },
   "outputs": [],
   "source": [
    "%%ipytest\n",
    "\n",
    "import math\n",
    "\n",
    "def solution_sqrt_of_nums(numbers: list[int]) -> list[int]:\n",
    "    \"\"\"Calculates the square root of each number in the input list.\n",
    "\n",
    "    Uses `math.sqrt` to compute square roots. Numbers that don't have a real square root\n",
    "    (negative numbers) are skipped in the output.\n",
    "\n",
    "    Args:\n",
    "        numbers: A list of integers to process\n",
    "\n",
    "    Returns:\n",
    "        - A list of floats containing the square root of each valid number from the input list\n",
    "    \"\"\"\n",
    "    return"
   ]
  },
  {
   "cell_type": "markdown",
   "id": "37",
   "metadata": {},
   "source": [
    "#### 4. Write a Python program that takes an integer and divides it by 2 until the result is no longer an even number"
   ]
  },
  {
   "cell_type": "markdown",
   "id": "38",
   "metadata": {},
   "source": [
    "<div class=\"alert alert-block alert-info\">\n",
    "    <h4><b>Hint</b></h4>\n",
    "    Your program should <strong>return</strong> the number when the iteration stopped\n",
    "</div>"
   ]
  },
  {
   "cell_type": "code",
   "execution_count": null,
   "id": "39",
   "metadata": {
    "tags": []
   },
   "outputs": [],
   "source": [
    "%%ipytest\n",
    "\n",
    "def solution_divide_until(number: int) -> int:\n",
    "    \"\"\"Repeatedly divides a number by 2 until the result becomes odd.\n",
    "\n",
    "    Starting with the input number, performs integer division by 2 repeatedly\n",
    "    until reaching a number that cannot be evenly divided by 2 (an odd number).\n",
    "\n",
    "    Args:\n",
    "        num: The starting integer to be divided\n",
    "\n",
    "    Returns:\n",
    "        - The first odd number encountered in the division sequence\n",
    "    \"\"\"\n",
    "    return"
   ]
  },
  {
   "cell_type": "markdown",
   "id": "40",
   "metadata": {},
   "source": [
    "---"
   ]
  },
  {
   "cell_type": "markdown",
   "id": "41",
   "metadata": {
    "tags": []
   },
   "source": [
    "## Altering loops"
   ]
  },
  {
   "cell_type": "markdown",
   "id": "42",
   "metadata": {},
   "source": [
    "There are **3 ways** in which you can alter the normal execution of a loop:\n",
    "\n",
    "1. With an `if` statement inside a `for`/`while` loop\n",
    "2. With the `break` or `continue` keywords\n",
    "3. With the `else` clause after a `for`/`while` body: the `else` statement(s) are run **only** if no `break` statement is encountered in the loop body\n",
    "\n",
    "Let's see each of these in more detail."
   ]
  },
  {
   "cell_type": "markdown",
   "id": "43",
   "metadata": {},
   "source": [
    "### `if` statement inside `for`/`while`\n",
    "\n",
    "The following code sums **only** the even numbers from 1 to 100. It also prints when an odd number is encountered:"
   ]
  },
  {
   "cell_type": "code",
   "execution_count": null,
   "id": "44",
   "metadata": {
    "tags": []
   },
   "outputs": [],
   "source": [
    "sum_of_evens = 0\n",
    "\n",
    "for n in range(101):\n",
    "    if n % 2 == 0:\n",
    "        sum_of_evens = sum_of_evens + n\n",
    "    else:\n",
    "        print(n, \"is an odd number\")\n",
    "\n",
    "print(sum_of_evens)"
   ]
  },
  {
   "cell_type": "markdown",
   "id": "45",
   "metadata": {},
   "source": [
    "#### Exercise: conditionals inside loops\n",
    "\n",
    "Complete the function `solution_filter_by_position` below that filters a list of integers, keeping only numbers larger than their position in the list (**1-based index**).\n",
    "\n",
    "The filtered numbers should:\n",
    "\n",
    "- **Not** contain duplicates\n",
    "- Be in **ascending** order\n",
    "\n",
    "You must use an `if-else` inside a loop.\n",
    "\n",
    "Example: `[1, 3, 0, 2]` should return `[3]` because:\n",
    "- 1 is not greater than position 1\n",
    "- 3 is greater than position 2\n",
    "- 0 is not greater than position 3\n",
    "- 2 is not greater than position 4"
   ]
  },
  {
   "cell_type": "code",
   "execution_count": null,
   "id": "46",
   "metadata": {},
   "outputs": [],
   "source": [
    "%%ipytest\n",
    "\n",
    "def solution_filter_by_position(numbers: list[int]) -> list[int]:\n",
    "    \"\"\"Filters numbers that are larger than their position in the list.\n",
    "\n",
    "    Args:\n",
    "        numbers: List of integers to filter\n",
    "\n",
    "    Returns:\n",
    "        - A new list containing only the numbers that are greater than\n",
    "          their 1-based position in the input list\n",
    "    \"\"\"\n",
    "    return"
   ]
  },
  {
   "cell_type": "markdown",
   "id": "47",
   "metadata": {},
   "source": [
    "---"
   ]
  },
  {
   "cell_type": "markdown",
   "id": "48",
   "metadata": {},
   "source": [
    "### `break` and `continue`\n",
    "\n",
    "Python provides these two special keywords to alter the normal flow of loops in two ways that might sound very similar.\n",
    "However, they serve very different purposes."
   ]
  },
  {
   "cell_type": "markdown",
   "id": "49",
   "metadata": {},
   "source": [
    "#### The `break` keyword\n",
    "\n",
    "The `break` statement immediately terminates the loop it's in, skipping any remaining iterations.\n",
    "It's particularly useful when:\n",
    "\n",
    "- You've found what you're looking for\n",
    "- You've encountered an error condition\n",
    "- You want to exit early based on some condition\n",
    "\n",
    "##### Examples of using `break`\n",
    "\n",
    "1. **Finding an element in a list:**\n",
    "```python\n",
    "numbers = [4, 7, 2, 9, 1, 5]\n",
    "target = 9\n",
    "\n",
    "for num in numbers:\n",
    "    if num == target:\n",
    "        print(f\"Found {target}!\")\n",
    "        break\n",
    "    print(f\"Checking {num}...\")\n",
    "```\n",
    "\n",
    "2. **Input validation with `while` loop:**\n",
    "```python\n",
    "while True:\n",
    "    password = input(\"Enter your password: \")\n",
    "    if len(password) >= 8:\n",
    "        print(\"Password accepted!\")\n",
    "        break\n",
    "    print(\"Password must be at least 8 characters.\")\n",
    "```\n",
    "\n",
    "3. **Early exit from nested loops:**\n",
    "```python\n",
    "matrix = [[1, 2, 3], [4, 5, 6], [7, 8, 9]]\n",
    "target = 5\n",
    "\n",
    "found = False\n",
    "for i, row in enumerate(matrix):\n",
    "    for j, value in enumerate(row):\n",
    "        if value == target:\n",
    "            print(f\"Found {target} at position ({i}, {j})\")\n",
    "            found = True\n",
    "            break\n",
    "    if found:  # Break outer loop\n",
    "        break\n",
    "```\n",
    "\n",
    "Here's an example you can play with:"
   ]
  },
  {
   "cell_type": "code",
   "execution_count": null,
   "id": "50",
   "metadata": {
    "tags": []
   },
   "outputs": [],
   "source": [
    "i = 0\n",
    "while i < 10:\n",
    "    i += 1\n",
    "    if i == 5:\n",
    "        break\n",
    "    print(i)\n",
    "\n",
    "print(\"Loop terminated with break\")"
   ]
  },
  {
   "cell_type": "markdown",
   "id": "51",
   "metadata": {},
   "source": [
    "#### The `continue` keyword\n",
    "\n",
    "The `continue` statement skips the rest of the current iteration and moves to the next one.\n",
    "It's useful when:\n",
    "\n",
    "- You want to skip certain elements\n",
    "- You want to avoid nested `if` statements\n",
    "- You have some cases you **don't want** to process\n",
    "\n",
    "\n",
    "##### Examples of `continue`\n",
    "\n",
    "1. **Processing only specific items:**\n",
    "```python\n",
    "numbers = [1, -2, 3, -4, 5, -6]\n",
    "\n",
    "for num in numbers:\n",
    "    if num < 0:\n",
    "        continue\n",
    "    print(f\"Processing positive number: {num}\")\n",
    "```\n",
    "\n",
    "2. **Skipping empty or invalid items:**\n",
    "```python\n",
    "data = [\"apple\", \"\", \"banana\", None, \"cherry\"]\n",
    "\n",
    "for item in data:\n",
    "    if not item:  # Skip empty or None values\n",
    "        continue\n",
    "    print(f\"Processing {item.upper()}\")\n",
    "```\n",
    "\n",
    "3. **Complex filtering conditions:**\n",
    "```python\n",
    "def process_user_better(user):\n",
    "    if user['age'] < 18:\n",
    "        continue\n",
    "    if not user['email']:\n",
    "        continue\n",
    "    if user['status'] != 'active':\n",
    "        continue\n",
    "    \n",
    "    print(f\"Processing user: {user['name']}\")\n",
    "```"
   ]
  },
  {
   "cell_type": "code",
   "execution_count": null,
   "id": "52",
   "metadata": {
    "tags": []
   },
   "outputs": [],
   "source": [
    "for i in range(10):\n",
    "    if i % 2 == 0:\n",
    "        continue\n",
    "    print(i)\n",
    "\n",
    "print(\"Loop terminated normally\")"
   ]
  },
  {
   "cell_type": "markdown",
   "id": "53",
   "metadata": {},
   "source": [
    "#### Which one should I use?\n",
    "\n",
    "Use `break` when you:\n",
    "  - Want to completely exit a loop\n",
    "  - Have found what you're looking for\n",
    "  - Need to handle error conditions\n",
    "\n",
    "Use `continue` when you:\n",
    "  - Want to skip certain elements\n",
    "  - Need to avoid nested conditional code\n",
    "  - Have cases you want to ignore\n",
    "\n",
    "<div class=\"alert alert-info\">\n",
    "<b>💡 Hint:</b> Both <code>break</code> and <code>continue</code> can make code harder to read if overused. Sometimes a simple <code>if</code> statement or restructuring your loop might be clearer. Use these statements when they genuinely simplify your code.\n",
    "</div>"
   ]
  },
  {
   "cell_type": "markdown",
   "id": "54",
   "metadata": {},
   "source": [
    "#### Common patterns\n",
    "\n",
    "##### Pattern 1: Loop with early exit\n",
    "\n",
    "```python\n",
    "for item in items:\n",
    "    if not validate(item):\n",
    "        break\n",
    "    process(item)\n",
    "```\n",
    "\n",
    "##### Pattern 2: Skip invalid items\n",
    "\n",
    "```python\n",
    "for item in items:\n",
    "    if not validate(item):\n",
    "        continue\n",
    "    process(item)\n",
    "```\n",
    "\n",
    "##### Pattern 3: Process until condition\n",
    "\n",
    "```python\n",
    "while True:\n",
    "    data = get_data()\n",
    "    if not data:\n",
    "        break\n",
    "    process(data)\n",
    "```"
   ]
  },
  {
   "cell_type": "markdown",
   "id": "55",
   "metadata": {},
   "source": [
    "<div class=\"alert alert-warning\">\n",
    "<b>Remember:</b> Both <code>break</code> and <code>continue</code> only affect the <b>innermost loop</b> they appear in.\n",
    "For nested loops, you might need additional variables or logic to control outer loops.\n",
    "</div>\n"
   ]
  },
  {
   "cell_type": "markdown",
   "id": "56",
   "metadata": {},
   "source": [
    "#### Exercise: breaking out of loops\n",
    "\n",
    "Complete the function `solution_find_even_multiple_three` below that searches through a list of numbers and returns the first even number that's also a multiple of 3.\n",
    "If no such number exists, return `None`."
   ]
  },
  {
   "cell_type": "code",
   "execution_count": null,
   "id": "57",
   "metadata": {},
   "outputs": [],
   "source": [
    "%%ipytest\n",
    "\n",
    "def solution_find_even_multiple_three(numbers: list[int]) -> int:\n",
    "    \"\"\"Finds the first even number that's also a multiple of 3.\n",
    "\n",
    "    Args:\n",
    "        numbers: List of integers to search through\n",
    "\n",
    "    Returns:\n",
    "        - The first number that is both even and divisible by 3, or None if no such number exists\n",
    "    \"\"\"\n",
    "    return"
   ]
  },
  {
   "cell_type": "markdown",
   "id": "58",
   "metadata": {},
   "source": [
    "---"
   ]
  },
  {
   "cell_type": "markdown",
   "id": "59",
   "metadata": {},
   "source": [
    "### `else` after a `for`/`while`\n",
    "\n",
    "Here the `for` loop iterates over a list of numbers. If the current `num` is equal to 4, a print statement and then `break` are executed.\n",
    "\n",
    "If we complete the loop without finding 4, then the `else` block is executed and a message is printed indicating that 4 was not found in the list."
   ]
  },
  {
   "cell_type": "code",
   "execution_count": null,
   "id": "60",
   "metadata": {
    "tags": []
   },
   "outputs": [],
   "source": [
    "numbers = [1, 3, 5, 7, 9]\n",
    "\n",
    "for num in numbers:\n",
    "    if num == 4:\n",
    "        print(\"Found 4 - breaking loop\")\n",
    "        break\n",
    "else:\n",
    "    print(\"4 not found in list\")"
   ]
  },
  {
   "cell_type": "markdown",
   "id": "61",
   "metadata": {},
   "source": [
    "Let's see what happens if we change the list to `[1, 2, 3, 4]`:"
   ]
  },
  {
   "cell_type": "code",
   "execution_count": null,
   "id": "62",
   "metadata": {
    "tags": []
   },
   "outputs": [],
   "source": [
    "numbers = [1, 2, 3, 4]\n",
    "\n",
    "for num in numbers:\n",
    "    if num == 4:\n",
    "        print(\"Found 4 - breaking loop\")\n",
    "        break\n",
    "else:\n",
    "    print(\"4 not found in list\")"
   ]
  },
  {
   "cell_type": "markdown",
   "id": "63",
   "metadata": {},
   "source": [
    "#### Exercise: using `else` in loops\n",
    "\n",
    "Complete the function `solution_is_pure_number` below that checks if a string is a \"pure\" number (that is, it contains **only** digits).\n",
    "The function should return `True` if the string is pure digits, `False` otherwise.\n"
   ]
  },
  {
   "cell_type": "code",
   "execution_count": null,
   "id": "64",
   "metadata": {},
   "outputs": [],
   "source": [
    "%%ipytest\n",
    "\n",
    "def solution_is_pure_number(text: str) -> bool:\n",
    "    \"\"\"Checks if a string contains only digits.\n",
    "\n",
    "    Uses a for-else structure to verify that every character is a digit.\n",
    "\n",
    "    Args:\n",
    "        text: String to check\n",
    "\n",
    "    Returns:\n",
    "        - A boolean value: True if the string contains only digits, False otherwise. An empty string returns True.\n",
    "    \"\"\"\n",
    "    return"
   ]
  },
  {
   "cell_type": "markdown",
   "id": "65",
   "metadata": {},
   "source": [
    "---"
   ]
  },
  {
   "cell_type": "markdown",
   "id": "66",
   "metadata": {},
   "source": [
    "## Nested loops"
   ]
  },
  {
   "cell_type": "markdown",
   "id": "67",
   "metadata": {},
   "source": [
    "You can put loops inside of other loops (of any kind). Just be careful to respect the indentation:\n",
    "\n",
    "```python\n",
    "for n in range(1, 4):\n",
    "    for m in range(4, 7):\n",
    "        print(\"n = \", n, \" and j = \", m)\n",
    "```\n",
    "\n",
    "The outer loop over `n` goes from 1 to 3. For each iteration, a new inner loop over `m` is started from 4 to 6. You will get **9 lines of output**, as the two range objects contain exactly 3 elements each.\n",
    "\n",
    "<div class=\"alert alert-block alert-danger\">\n",
    "    <h4><b>Important: Performance Considerations</b></h4>\n",
    "    Nesting loops can have <strong>dramatic</strong> consequences on your program's performance.<br>\n",
    "    The body of the loop above repeats $n \\times m$ times. If $n$, $m$, or both are large numbers, your program might take a while to finish.\n",
    "</div>"
   ]
  },
  {
   "cell_type": "markdown",
   "id": "68",
   "metadata": {},
   "source": [
    "### Understanding the performance impact\n",
    "\n",
    "How much time do you (roughly) need if you are nesting multiple loops?\n",
    "\n",
    "- **Single loop**: the time required is proportional to the number of elements ($n$) we are iterating over.\n",
    "- **Two nested loops**: the time required is proportional to $n^2$.\n",
    "- **Three nested loops**: the time requires is proportional to $n^3$.\n",
    "\n",
    "For example, with $n=1000$:\n",
    "\n",
    "- Single loop: 1,000 iterations\n",
    "- Two nested loops: 1,000,000 iterations\n",
    "- Three nested loops: 1,000,000,000 iterations\n",
    "\n",
    "In the last case, with a billion iterations, even the fastest computer will show some slowdown.\n",
    "In these cases, a slowdown due to multiply-nested loops is almost always undesirable, and we should try a better way."
   ]
  },
  {
   "cell_type": "markdown",
   "id": "69",
   "metadata": {},
   "source": [
    "### Tips to improve performance\n",
    "\n",
    "These tips are most likely out of scope for an introductory tutorial, but for the sake of completeness, you can investigate if any of these is applicable to your case:\n",
    "\n",
    "1. Avoid unnecessary nesting\n",
    "\n",
    "2. Pre-compute values (if some computation is expensive)\n",
    "\n",
    "3. Think about using a different data structure (e.g. a `set()` instead of a `list()`)\n",
    "\n",
    "4. Use built-in functions (or libraries) instead of writing a solution from scratch\n",
    "\n",
    "5. Stop iterating with `break` if possible, thereby reducing the number of iterations to be performed"
   ]
  },
  {
   "cell_type": "markdown",
   "id": "70",
   "metadata": {},
   "source": [
    "## Quiz on loops"
   ]
  },
  {
   "cell_type": "code",
   "execution_count": null,
   "id": "71",
   "metadata": {},
   "outputs": [],
   "source": [
    "from tutorial.quiz import control_flow as quiz\n",
    "quiz.LoopsQuiz()"
   ]
  },
  {
   "cell_type": "markdown",
   "id": "72",
   "metadata": {
    "tags": []
   },
   "source": [
    "## Exceptions"
   ]
  },
  {
   "cell_type": "markdown",
   "id": "73",
   "metadata": {},
   "source": [
    "Another way of controlling the flow of a program is by **catching exceptions**.\n",
    "Exceptions are run-time errors that are raised by the interpreter while executing the program.\n",
    "Python has many [built-in exceptions](https://docs.python.org/3/library/exceptions.html#built-in-exceptions), including:\n",
    "\n",
    "| Exception         | Raised when...\n",
    "| ------------------|---------------\n",
    "| `SyntaxError`     | there is a problem with the syntax of a Python code\n",
    "| `TypeError`       | an operation is performed on the wrong type\n",
    "| `NameError`       | a local or global name is not found\n",
    "| `ValueError`      | a function receives an argument of the correct type but an inappropriate value\n",
    "| `KeyError`        | a mapping (e.g. dictionary) key is not found in the set of existing keys\n",
    "| `IndexError`      | you try to access an index that is outside the bounds of a list, tuple, or other sequence\n",
    "| `ZeroDivisionError`| an attempt is made to divide a number by zero\n",
    "| `OverflowError`   | a calculation exceeds the maximum limit for a numeric type\n"
   ]
  },
  {
   "cell_type": "markdown",
   "id": "74",
   "metadata": {
    "tags": []
   },
   "source": [
    "### The `try-except` block"
   ]
  },
  {
   "cell_type": "markdown",
   "id": "75",
   "metadata": {},
   "source": [
    "When you can predict if a certain exception might occur, it's **always a good programming practice** to write what the program should do in that case\n",
    "\n",
    "Python provides you with the `try-except` construct for this purpose. Example:"
   ]
  },
  {
   "cell_type": "code",
   "execution_count": null,
   "id": "76",
   "metadata": {
    "tags": []
   },
   "outputs": [],
   "source": [
    "numerator = 10\n",
    "denominator = 0\n",
    "\n",
    "try:\n",
    "    result = numerator / denominator\n",
    "    print(result)\n",
    "except ZeroDivisionError:\n",
    "    print(\"Error: division by zero\")"
   ]
  },
  {
   "cell_type": "markdown",
   "id": "77",
   "metadata": {},
   "source": [
    "You can handle **multiple exceptions** at the same time"
   ]
  },
  {
   "cell_type": "code",
   "execution_count": null,
   "id": "78",
   "metadata": {
    "tags": []
   },
   "outputs": [],
   "source": [
    "num_1 = 30\n",
    "# num_2 = 0   # this leaves num_2 undefined\n",
    "\n",
    "try:\n",
    "    print(num_1 / num_2)\n",
    "except (NameError, ZeroDivisionError) as err:\n",
    "    print(\"Error encountered:\", err)"
   ]
  },
  {
   "cell_type": "markdown",
   "id": "79",
   "metadata": {
    "tags": []
   },
   "source": [
    "Or you can **catch each exceptions individually** to give more information about the kind of error encountered\n",
    "\n",
    "<div class=\"alert alert-block alert-info\">\n",
    "    <h4><b>Hint</b></h4>\n",
    "    You can use <code>except</code> <strong>without</strong> any exception name, a <em>bare</em> <code>except</code>. Python will catch any exception. It's usually much better to let the user know about the kind of error encountered with all the details you can collect\n",
    "</div>\n",
    "\n",
    "\n",
    "The `try-except` construct includes two **optional** clauses: `else` and `finally`\n",
    "\n",
    "- Any statement in the `else` is executed **only** if the `try` block did **not** raise any exception\n",
    "- The statements belonging to `finally` will be **always** executed, regardless of any exception raised\n",
    "\n",
    "Here's an example of a *full* `try-except` block:"
   ]
  },
  {
   "cell_type": "code",
   "execution_count": null,
   "id": "80",
   "metadata": {
    "tags": []
   },
   "outputs": [],
   "source": [
    "try:\n",
    "    file = open(\"README.txt\", \"r\")\n",
    "except FileNotFoundError:\n",
    "    print(\"Error: file not found\")\n",
    "else:\n",
    "    contents = file.read()\n",
    "    print(contents)\n",
    "finally:\n",
    "    file.close()  # this statement is always executed"
   ]
  },
  {
   "cell_type": "markdown",
   "id": "81",
   "metadata": {},
   "source": [
    "- We try to open a file called `README.txt`. A `FileNotFoundError` will be raised if it's not found\n",
    "- If the file exists, the `else` block is executed: we read and print its contents\n",
    "- We use a `finally` block to close the file handle, ensuring that it is properly cleaned up\n",
    "\n",
    "We will see a much better way to handle files tomorrow. This was just an example to illustrate the `try-except-finally` block."
   ]
  },
  {
   "cell_type": "markdown",
   "id": "82",
   "metadata": {},
   "source": [
    "### The `raise` statement"
   ]
  },
  {
   "cell_type": "markdown",
   "id": "83",
   "metadata": {},
   "source": [
    "What if you want to *explicitly* raise an exception?\n",
    "The preliminary question is \"why should I need raising an exception?\" There are several situations where this is appropriate.\n",
    "Let's see a few of them.\n",
    "\n",
    "1. **Triggering a custom behavior**\n",
    "\n",
    "```python\n",
    "def divide_numbers(a, b):\n",
    "    if b == 0:\n",
    "        raise ValueError(\"Division by zero is not allowed\")\n",
    "    return a / b\n",
    "\n",
    "try:\n",
    "    result = divide_numbers(10, 0)\n",
    "except ValueError as e:\n",
    "    print(f\"Error: {e}\")  # Will print: \"Error: Division by zero is not allowed\"\n",
    "```\n",
    "\n",
    "In this example, we explicitly raise a `ValueError` when we detect an invalid operation, instead of relying on Python's default behavior, which would raise a `ZeroDivisionError`.\n",
    "The main reason to do this is to provide a more meaningful error message, or perform some other actions if a particular exception occurs.\n",
    "\n",
    "2. **Raising custom exceptions**\n",
    "\n",
    "We can create custom exceptions by defining a class.\n",
    "We'll see how to work with classes and objects on the last day of the tutorial, but now just remember that's another\n",
    "Here's an example of how to define a custom exception:\n",
    "\n",
    "```python\n",
    "class InsufficientFundsError(Exception):\n",
    "    \"\"\"Custom exception for banking operations\"\"\"\n",
    "    pass\n",
    "```\n",
    "\n",
    "Don't worry about the syntax: you will learn everything you need when we'll be dealing with object-oriented programming.\n",
    "\n",
    "3. **Chaining exceptions**\n",
    "\n",
    "Say the we are dealing with some configuration file that we want to open.\n",
    "We surely need to verify that the file exists, for example:\n",
    "\n",
    "```python\n",
    "def open_file(filename):\n",
    "    try:\n",
    "        # do something like trying to access the file\n",
    "    except FileNotFoundError as error:\n",
    "        raise ValueError(f\"File {} was not found\") from error\n",
    "\n",
    "try:\n",
    "    config_file = open_file(\"config.json\")\n",
    "except ValueError:\n",
    "    print(f\"Error: {e}\")\n",
    "    print(f\"Original error: {e.__cause__}\")\n",
    "```\n",
    "\n",
    "Here we are using a variation of `raise` that is `raise from`.\n",
    "What are the benefits?\n",
    "\n",
    "- It preserves the original exception as the cause (`__cause__`)\n",
    "- It creates a clear chain of exceptions, showing how one error led to another\n",
    "- It helps in debugging by maintaining the full error context\n",
    "\n",
    "4. **Re-raising exceptions**\n",
    "\n",
    "Sometimes we do not need custom exceptions, but it might be useful to perform some actions *before* Python raises an uncaught exception.\n",
    "For example, logging the error somewhere if our program is not running interactively (because maybe it's processing our data overnight).\n",
    "\n",
    "```python\n",
    "def process_data(data):\n",
    "    try:\n",
    "        # Some processing ...\n",
    "        result = data['key'] / 0\n",
    "    except Exception as e:\n",
    "        print(\"Logging error...\")\n",
    "        raise  # Re-raises the same exception\n",
    "```\n",
    "\n",
    "Simply using `raise` without arguments is useful when:\n",
    "\n",
    "- We want to preserve the original traceback (i.e., the full *error context*)\n",
    "- We want to do something if the error occurs, but we still want it to propagate up and be caught by the interpreter (or another `try-except` block) "
   ]
  },
  {
   "cell_type": "markdown",
   "id": "84",
   "metadata": {},
   "source": [
    "A few advice to keep in mind when using `raise`:\n",
    "\n",
    "1. Always raise specific exceptions rather than generic ones\n",
    "2. Provide clear and detailed error messages\n",
    "3. Use custom exceptions for specific errors\n",
    "4. Use `raise from` when converting between exception types to maintain context\n",
    "5. Only catch exceptions you can handle meaningfully"
   ]
  },
  {
   "cell_type": "markdown",
   "id": "85",
   "metadata": {
    "tags": []
   },
   "source": [
    "# Exercises"
   ]
  },
  {
   "cell_type": "code",
   "execution_count": null,
   "id": "86",
   "metadata": {
    "tags": []
   },
   "outputs": [],
   "source": [
    "%reload_ext tutorial.tests.testsuite"
   ]
  },
  {
   "cell_type": "markdown",
   "id": "87",
   "metadata": {
    "jp-MarkdownHeadingCollapsed": true,
    "tags": []
   },
   "source": [
    "## Exercise 1: Find the factors\n",
    "\n",
    "**Difficulty:** 🌶️"
   ]
  },
  {
   "cell_type": "markdown",
   "id": "88",
   "metadata": {},
   "source": [
    "A factor of a positive integer `n` is any positive integer less than or equal to `n` that divides `n` with no remainder.\n",
    "\n",
    "<div class=\"alert alert-block alert-warning\">\n",
    "    <h4><b>Question</b></h4>\n",
    "    Given an integer <code>n</code>, return the list of all integers <code>m <= n</code> that are factors of <code>n</code>.\n",
    "</div>\n",
    "\n",
    "<div class=\"alert alert-block alert-info\">\n",
    "    <h4><b>Hint</b></h4>\n",
    "    For the moment, consider <b>all</b> integers less than or equal to <code>n</code>\n",
    "</div>"
   ]
  },
  {
   "cell_type": "code",
   "execution_count": null,
   "id": "89",
   "metadata": {
    "tags": []
   },
   "outputs": [],
   "source": [
    "%%ipytest\n",
    "\n",
    "def solution_find_factors(n: int) -> list[int]:\n",
    "    \"\"\"Finds all positive factors of a given number.\n",
    "\n",
    "    A factor is any positive integer that divides n without leaving a remainder.\n",
    "    The function checks all integers from 1 to n (inclusive) and collects those\n",
    "    that are factors of n.\n",
    "\n",
    "    Args:\n",
    "        n: A positive integer whose factors are to be found\n",
    "\n",
    "    Returns:\n",
    "        - A sorted list of all positive integers that divide n without remainder.\n",
    "          For n <= 0, returns an empty list since factors are defined only for positive integers.\n",
    "    \"\"\"\n",
    "    return"
   ]
  },
  {
   "cell_type": "markdown",
   "id": "90",
   "metadata": {
    "jp-MarkdownHeadingCollapsed": true,
    "tags": []
   },
   "source": [
    "## Exercise 2: Find the pair\n",
    "\n",
    "**Difficulty:** 🌶️"
   ]
  },
  {
   "cell_type": "markdown",
   "id": "91",
   "metadata": {},
   "source": [
    "Given a list of integers, write a function that finds the **first** pair of numbers in the list that add up to `2020` and return **their product**.\n",
    "The list of numbers is already available as the variable `nums`.\n",
    "\n",
    "<div class=\"alert alert-block alert-info\">\n",
    "    <h4><b>Hint</b></h4>\n",
    "    Does <em>nested loops</em> ring a bell?\n",
    "</div>"
   ]
  },
  {
   "cell_type": "markdown",
   "id": "92",
   "metadata": {
    "tags": []
   },
   "source": [
    "### Part 1"
   ]
  },
  {
   "cell_type": "code",
   "execution_count": null,
   "id": "93",
   "metadata": {
    "tags": []
   },
   "outputs": [],
   "source": [
    "%%ipytest\n",
    "\n",
    "def solution_find_pair(nums: list[int]) -> int:\n",
    "    \"\"\"Finds the product of two numbers from the input list that sum to 2020.\n",
    "\n",
    "    Searches through all possible pairs of numbers in the input list to find\n",
    "    two different numbers that add up to 2020. When found, returns their product.\n",
    "\n",
    "    Args:\n",
    "        nums: A list of integers to search through\n",
    "\n",
    "    Returns:\n",
    "        - The product of the two numbers that sum to 2020.\n",
    "          If no such pair exists, returns None.\n",
    "          If multiple pairs exist, returns the product of the first pair found.\n",
    "    \"\"\"\n",
    "    return"
   ]
  },
  {
   "cell_type": "markdown",
   "id": "94",
   "metadata": {
    "tags": []
   },
   "source": [
    "### Part 2"
   ]
  },
  {
   "cell_type": "markdown",
   "id": "95",
   "metadata": {},
   "source": [
    "<div class=\"alert alert-block alert-warning\">\n",
    "    <h4><b>Question</b></h4>\n",
    "    Can you find the <b>product</b> of <em>three</em> numbers that add up to <code>2020</code>?\n",
    "</div>\n",
    "\n",
    "<div class=\"alert alert-block alert-info\">\n",
    "    <h4><b>Hint</b></h4>\n",
    "    Too many nested loops can worsen significantly your code's performance.\n",
    "</div>"
   ]
  },
  {
   "cell_type": "code",
   "execution_count": null,
   "id": "96",
   "metadata": {
    "tags": []
   },
   "outputs": [],
   "source": [
    "%%ipytest\n",
    "\n",
    "def solution_find_triplet(nums: list[int]) -> int:\n",
    "    \"\"\"Finds the product of three numbers from the input list that sum to 2020.\n",
    "\n",
    "    Searches through all possible combinations of three different numbers in the \n",
    "    input list to find three numbers that add up to 2020. When found, returns \n",
    "    their product.\n",
    "\n",
    "    Args:\n",
    "        nums: A list of integers to search through\n",
    "\n",
    "    Returns:\n",
    "        - The product of the three numbers that sum to 2020.\n",
    "          If no such triplet exists, returns None.\n",
    "          If multiple triplets exist, returns the product of the first triplet found.\n",
    "    \"\"\"\n",
    "    return"
   ]
  },
  {
   "cell_type": "markdown",
   "id": "97",
   "metadata": {
    "jp-MarkdownHeadingCollapsed": true,
    "tags": []
   },
   "source": [
    "## Exercise 3: Cats with hats\n",
    "\n",
    "**Difficulty:** 🌶️🌶️"
   ]
  },
  {
   "cell_type": "markdown",
   "id": "98",
   "metadata": {},
   "source": [
    "You have 100 cats.\n",
    "One day you decide to arrange all your cats in a giant circle. Initially, none of your cats have any hats on. You walk around the circle 100 times, always starting at the same spot, with the ﬁrst cat (cat #1).\n",
    "\n",
    "Every time you stop at a cat, you either put a hat on it if it **doesn’t** have one on, or you take its hat oﬀ if it has one.\n",
    "\n",
    "1. The ﬁrst round, you stop at every cat, placing a hat on each one.\n",
    "2. The second round, you only stop at every second cat (2, 4, 6, 8, etc.)\n",
    "3. The third round, you only stop at every third cat (3, 6, 9, 12, etc.)\n",
    "4. You continue this process until you’ve made 100 rounds around the cats (e.g., you only visit the last cat).\n",
    "\n",
    "<div class=\"alert alert-block alert-warning\">\n",
    "    <h4><b>Question</b></h4> \n",
    "    After the 100th round, how many cats will have a hat?\n",
    "</div>\n",
    "\n",
    "<div class=\"alert alert-block alert-info\">\n",
    "    <h4><b>Hint</b></h4>\n",
    "    You can approach this problem with either <strong>lists</strong> or <strong>dictionaries</strong>.\n",
    "</div>"
   ]
  },
  {
   "cell_type": "code",
   "execution_count": null,
   "id": "99",
   "metadata": {
    "tags": []
   },
   "outputs": [],
   "source": [
    "%%ipytest\n",
    "\n",
    "def solution_cats_with_hats() -> int:\n",
    "    \"\"\"Simulates putting hats on cats in a circular arrangement through multiple rounds.\n",
    "\n",
    "    Simulates 100 rounds where each round visits cats at different intervals:\n",
    "    - Round 1: visits every cat (1, 2, 3, ...)\n",
    "    - Round 2: visits every 2nd cat (2, 4, 6, ...)\n",
    "    - Round 3: visits every 3rd cat (3, 6, 9, ...)\n",
    "    And so on until round 100.\n",
    "    At each visit, the hat status of the cat is toggled (if no hat, put one on; if has hat, take it off).\n",
    "\n",
    "    Args:\n",
    "        None: The function works with a fixed setup of 100 cats and 100 rounds\n",
    "\n",
    "    Returns:\n",
    "        - An integer representing the number of cats wearing hats after all 100 rounds are complete\n",
    "    \"\"\"\n",
    "    return"
   ]
  },
  {
   "cell_type": "markdown",
   "id": "100",
   "metadata": {
    "jp-MarkdownHeadingCollapsed": true
   },
   "source": [
    "## Exercise 4: Base converter\n",
    "\n",
    "**Difficulty:** 🌶️🌶️🌶️"
   ]
  },
  {
   "cell_type": "markdown",
   "id": "101",
   "metadata": {},
   "source": [
    "Write a function that converts numbers between bases 2-16.\n",
    "Your function must:\n",
    "\n",
    "##### (1) Process the input number digit by digit (don't use `int()` on the whole number)\n",
    "   \n",
    "##### (2) Handle these specific requirements\n",
    "- Accept negative numbers (starting with `-`)\n",
    "- Skip spaces in the input (e.g., `1010 1111` is valid)\n",
    "- Accept letters `A` through `F` (or `a` through `f`) for non-decimal bases\n",
    "\n",
    "##### (3) Implement proper validation\n",
    "Your function should raise a `ValueError` exception if any of the following rule is **not** respected:\n",
    "\n",
    "- Bases must be between 2 and 16 (inclusive)\n",
    "- Each digit must be valid for the source base\n",
    "- Input number string must not be empty"
   ]
  },
  {
   "cell_type": "code",
   "execution_count": null,
   "id": "102",
   "metadata": {},
   "outputs": [],
   "source": [
    "%%ipytest\n",
    "\n",
    "def solution_base_converter(number: str, from_base: int, to_base: int) -> str:\n",
    "    \"\"\"Converts a number from one base to another.\n",
    "\n",
    "    Args:\n",
    "        number: String representation of the number to convert\n",
    "        from_base: Base of the input number (2-16)\n",
    "        to_base: Base to convert to (2-16)\n",
    "\n",
    "    Returns:\n",
    "        - String representation of the number in the target base\n",
    "\n",
    "    Raises:\n",
    "        ValueError: If bases are invalid or if input contains invalid digits\n",
    "    \"\"\"\n",
    "    return"
   ]
  }
 ],
 "metadata": {
  "kernelspec": {
   "display_name": "Python 3 (ipykernel)",
   "language": "python",
   "name": "python3"
  },
  "language_info": {
   "codemirror_mode": {
    "name": "ipython",
    "version": 3
   },
   "file_extension": ".py",
   "mimetype": "text/x-python",
   "name": "python",
   "nbconvert_exporter": "python",
   "pygments_lexer": "ipython3",
   "version": "3.10.15"
  },
  "toc-autonumbering": false,
  "toc-showmarkdowntxt": false,
  "vscode": {
   "interpreter": {
    "hash": "44a67ea841dc2166b3d2091af057378db3e19d02bed11714ee13c6843dc2a264"
   }
  }
 },
 "nbformat": 4,
 "nbformat_minor": 5
}
