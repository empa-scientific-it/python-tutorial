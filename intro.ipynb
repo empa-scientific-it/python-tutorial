{
 "cells": [
  {
   "cell_type": "code",
   "execution_count": null,
   "metadata": {},
   "outputs": [],
   "source": [
    "%%javascript\n",
    "IPython.OutputArea.prototype._should_scroll = function(lines) {\n",
    "    return false;\n",
    "}"
   ]
  },
  {
   "cell_type": "code",
   "execution_count": null,
   "metadata": {},
   "outputs": [],
   "source": [
    "import matplotlib.pyplot as plt\n",
    "import numpy as np\n",
    "%matplotlib inline"
   ]
  },
  {
   "cell_type": "code",
   "execution_count": null,
   "metadata": {},
   "outputs": [],
   "source": [
    "plt.scatter(np.random.randn(1000),\n",
    "            np.random.randn(1000),\n",
    "            c=np.random.randn(1000), s=100)"
   ]
  },
  {
   "cell_type": "code",
   "execution_count": null,
   "metadata": {},
   "outputs": [],
   "source": [
    "from tutorial.common import Question, Quiz"
   ]
  },
  {
   "cell_type": "code",
   "execution_count": null,
   "metadata": {},
   "outputs": [],
   "source": [
    "q1 = Question(\n",
    "    question='What is the answer to life, the universe, and everything?',\n",
    "    options={\n",
    "        '42': 'The answer is 42! You are correct!',\n",
    "        '41': 'A bit more',\n",
    "        '44': 'A bit less',\n",
    "        '45': 'A bit less',\n",
    "        },\n",
    "    hint=\"2**2 * 10 + 4\",\n",
    "    correct_answer='42',\n",
    "    shuffle=True,\n",
    "    )\n",
    "\n",
    "q2 = Question(\n",
    "    question=\"How many planets are there in our solar system?\",\n",
    "    options={\n",
    "        '8': 'The answer is 8. You are correct!',\n",
    "        '9': 'You are close, but not quite there.',\n",
    "        '10': 'A bit less.',\n",
    "    },\n",
    "    hint=\"pluto is not a planet anymore.\",\n",
    "    correct_answer='8',\n",
    "    shuffle=True,\n",
    "    )\n",
    "\n",
    "quiz = Quiz(questions=[q1, q2])\n",
    "\n",
    "\n"
   ]
  },
  {
   "cell_type": "code",
   "execution_count": null,
   "metadata": {
    "scrolled": true
   },
   "outputs": [],
   "source": [
    "display(quiz)"
   ]
  }
 ],
 "metadata": {
  "kernelspec": {
   "display_name": "Python 3",
   "language": "python",
   "name": "python3"
  },
  "language_info": {
   "codemirror_mode": {
    "name": "ipython",
    "version": 3
   },
   "file_extension": ".py",
   "mimetype": "text/x-python",
   "name": "python",
   "nbconvert_exporter": "python",
   "pygments_lexer": "ipython3",
   "version": "3.7.3"
  },
  "vscode": {
   "interpreter": {
    "hash": "fb43f8d381edd655b57a3fa7f8143253a121a168968fa3987191db33f90c378d"
   }
  }
 },
 "nbformat": 4,
 "nbformat_minor": 2
}
