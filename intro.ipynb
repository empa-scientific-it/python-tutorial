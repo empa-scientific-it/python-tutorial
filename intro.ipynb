{
 "cells": [
  {
   "cell_type": "raw",
   "metadata": {},
   "source": [
    "---\n",
    "title: \"Python Tutorial 2023\"\n",
    "subtitle: \"17-20 April\"\n",
    "format: revealjs\n",
    "callout-icon: false\n",
    "jupyter: python3\n",
    "highlight-style: gruvbox\n",
    "execute:\n",
    "    echo: true\n",
    "    enabled: false\n",
    "---"
   ]
  },
  {
   "cell_type": "markdown",
   "metadata": {},
   "source": [
    "## Welcome! 🐍\n",
    "\n",
    "Hello and welcome, everyone! We’re excited that you chose to embark in this Python journey\n",
    "\n",
    "Over **four** days, we'll see a lot of Python. **Two** fundamental topics each day\n",
    "\n",
    "::: {.panel-tabset}\n",
    "\n",
    "### Day 1\n",
    "1. Basic syntax and data types\n",
    "2. Control flow, loops, and exceptions\n",
    "\n",
    "### Day 2\n",
    "1. Functions\n",
    "2. Working with files\n",
    "\n",
    "### Day 3\n",
    "1. Functional programming\n",
    "2. Object-oriented programming\n",
    "\n",
    "### Day 4\n",
    "1. Modules and packages\n",
    "2. Questions, exercises, more questions...\n",
    "\n",
    ":::\n",
    "\n",
    "\n",
    "::: {.notes}\n",
    "\n",
    "Although this is an introductory course, we will be going quite in-depth to cover as much ground as possible. Our aim is to equip you with a strong foundation in Python programming that you can build on in the future. So, let's get started!\n",
    "\n",
    ":::"
   ]
  },
  {
   "cell_type": "markdown",
   "metadata": {},
   "source": [
    "## Timetable\n",
    "\n",
    "**TL;DR:** Every morning, 9:00-13:00, on Zoom\n",
    "\n",
    ". . .\n",
    "\n",
    "More in detail:\n",
    "\n",
    "::: {.incremental}\n",
    "\n",
    "- 8:45-9:00 — Welcome, warm-up questions\n",
    "- 9:00-10:50 — Topic 1 (theory, hands-on, Q&A)\n",
    "- *10:50-11:10 — Break ☕*\n",
    "- 11:10-13:00 — Topic 2\n",
    "\n",
    ":::"
   ]
  },
  {
   "cell_type": "markdown",
   "metadata": {},
   "source": [
    "## How to interact\n",
    "\n",
    "::: {.notes}\n",
    "\n",
    "Each block is 20% theory and 80% hands-on. It's an online workshop, so interaction between us is **essential**\n",
    "\n",
    ":::\n",
    "\n",
    "A few tips to interact:\n",
    "\n",
    "::: {.panel-tabset}\n",
    "\n",
    "### On Zoom\n",
    "- Raise your hand 🤚 then ask\n",
    "- Write in the chat\n",
    "- We will open a break-out room to address longer questions. **Anyone** interested can jump in\n",
    "\n",
    "\n",
    "### On Slack\n",
    "- Ask your question in the **corresponding channel**. Use `#help` for generic questions\n",
    "- Reply **in a thread** if you want to add a comment on another question\n",
    "- Use `@Sasha`, `@Simone`, `@Edoardo` if you want to mention the tutorial instructors directly\n",
    "\n",
    ":::\n",
    "\n",
    "::: {.notes}\n",
    "\n",
    "Although the chat will be distributed together with the recording, Slack is much better suited to hold continued Q&A and other discussions. Please, use it.\n",
    "\n",
    ":::"
   ]
  },
  {
   "cell_type": "markdown",
   "metadata": {},
   "source": [
    "## How to use notebooks\n",
    "\n",
    "\n",
    "1. The link to open Binder is on Slack in `#announcements` and in Zoom's chat\n",
    "2. Open the `index.ipynb` file and click on the current topic link\n",
    "3. Run the code, modify, experiment\n",
    "\n"
   ]
  },
  {
   "cell_type": "markdown",
   "metadata": {
    "tags": []
   },
   "source": [
    "## Exercises 🌶️\n",
    "\n",
    "::: {.fragment}\n",
    "\n",
    "For each topic we prepared a bunch of exercises to practice the concepts\n",
    "\n",
    ":::\n",
    "\n",
    "::: {.fragment}\n",
    "\n",
    "You will see cells like\n",
    "\n",
    "```{.python code-line-numbers=\"false\"}\n",
    "%%ipytest\n",
    "\n",
    "def solution_to_exercise(input_arg):\n",
    "    \"\"\"\n",
    "    Write your solution here\n",
    "    \"\"\"\n",
    "    pass\n",
    "```\n",
    "\n",
    "**Unless otherwise noted**, you can delete everything *below* the line starting with `def` and write your solution\n",
    "\n",
    ":::\n",
    "\n",
    "::: {.notes}\n",
    "\n",
    "The \"chili\" 🌶️ symbol estimates the effort required. In general, more chilis mean more work and thinking to solve the exercise\n",
    "\n",
    "Double-check before deleting everything in a solution's cell. There might be useful hints to solve the exercise!\n",
    "\n",
    ":::"
   ]
  },
  {
   "cell_type": "markdown",
   "metadata": {},
   "source": [
    "## Exercises 🌶️\n",
    "\n",
    "::: {.callout-important}\n",
    "\n",
    "If you tried to evaluate an exercise cell and you see the error\n",
    "\n",
    "```\n",
    "UsageError: Cell magic %%ipytest not found\n",
    "```\n",
    "\n",
    "make sure you **first** evaluate the cell with the content below\n",
    "\n",
    "```\n",
    "%reload_ext tutorial.tests.testsuite\n",
    "```\n",
    "\n",
    "You should find it just after the **Exercises** section heading\n",
    "\n",
    ":::\n",
    "\n",
    ". . .\n",
    "\n",
    "::: {.callout-tip}\n",
    "\n",
    "There might be more exercises than time available. Don't worry, you can come back and continue any time, even after the workshop\n",
    "\n",
    ":::\n",
    "\n",
    "::: {.notes}\n",
    "\n",
    "Remember: **ask** if you need help, either on Zoom or on Slack. These four days should be a practical workshop where we can answer to most of your questions you have as a beginner Python user. Let's make the most out of this time!\n",
    "\n",
    ":::"
   ]
  },
  {
   "cell_type": "markdown",
   "metadata": {},
   "source": [
    "# Let's get started! 🐍"
   ]
  }
 ],
 "metadata": {
  "kernelspec": {
   "display_name": "Python 3 (ipykernel)",
   "language": "python",
   "name": "python3"
  },
  "language_info": {
   "codemirror_mode": {
    "name": "ipython",
    "version": 3
   },
   "file_extension": ".py",
   "mimetype": "text/x-python",
   "name": "python",
   "nbconvert_exporter": "python",
   "pygments_lexer": "ipython3",
   "version": "3.11.0"
  },
  "vscode": {
   "interpreter": {
    "hash": "fb43f8d381edd655b57a3fa7f8143253a121a168968fa3987191db33f90c378d"
   }
  }
 },
 "nbformat": 4,
 "nbformat_minor": 4
}
