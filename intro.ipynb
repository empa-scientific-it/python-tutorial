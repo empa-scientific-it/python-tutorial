{
 "cells": [
  {
   "cell_type": "markdown",
   "metadata": {},
   "source": [
    "# Welcome! 🐍\n",
    "\n",
    "Hello and welcome, everyone! We’re excited that you chose to embark in this Python journey\n",
    "\n",
    "Over **four** days, we'll see a lot of Python. **Two** fundamental topics each day\n",
    "\n",
    "### Day 1\n",
    "1. Basic syntax and data types\n",
    "2. Control flow, loops, and exceptions\n",
    "\n",
    "### Day 2\n",
    "1. Functions\n",
    "2. Working with files\n",
    "\n",
    "### Day 3\n",
    "1. Functional programming\n",
    "2. Object-oriented programming\n",
    "\n",
    "### Day 4\n",
    "1. Modules and packages\n",
    "2. Questions, exercises, more questions...\n",
    "\n",
    "Although this is an introductory course, we will be going quite in-depth to cover as much ground as possible. Our aim is to equip you with a strong foundation in Python programming that you can build on in the future. So, let's get started!"
   ]
  },
  {
   "cell_type": "markdown",
   "metadata": {},
   "source": [
    "## Timetable\n",
    "\n",
    "**TL;DR:** Every morning, 9:00-13:00, on Zoom\n",
    "\n",
    "More in detail:\n",
    "\n",
    "- 8:45-9:00 — Welcome, warm-up questions\n",
    "- 9:00-10:50 — Topic 1 (theory, hands-on, Q&A)\n",
    "- *10:50-11:10 — Break* ☕\n",
    "- 11:10-13:00 — Topic 2\n",
    "- 🥪 – Practice – Offline discussions on Slack"
   ]
  },
  {
   "cell_type": "markdown",
   "metadata": {},
   "source": [
    "## How to interact\n",
    "\n",
    "Each block is 20% theory and 80% hands-on. It's an online workshop, so interaction between us is **essential**\n",
    "\n",
    "A few tips to interact:\n",
    "\n",
    "### On Zoom\n",
    "- Raise your hand 🤚 then ask\n",
    "- Write in the chat\n",
    "- We will open a break-out room to address longer questions. **Anyone** interested can jump in\n",
    "\n",
    "\n",
    "### On Slack\n",
    "- Ask your question in the **corresponding channel**. Use `#help` for generic questions\n",
    "- Reply **in a thread** if you want to add a comment to a question\n",
    "- Use `@Sasha`, `@Simone`, `@Edoardo` if you want to mention the tutorial instructors directly\n",
    "\n",
    "Although the chat will be distributed together with the recording, Slack is much better suited to hold continued Q&A and other discussions. Please, use it."
   ]
  },
  {
   "cell_type": "markdown",
   "metadata": {},
   "source": [
    "## How to use notebooks\n",
    "\n",
    "\n",
    "1. The link to open Binder is on Slack in `#announcements` and in Zoom's chat\n",
    "2. Open the `index.ipynb` file and click on the current topic link\n",
    "3. Run the code, modify, experiment\n",
    "\n"
   ]
  },
  {
   "attachments": {},
   "cell_type": "markdown",
   "metadata": {},
   "source": [
    "## Binder only\n",
    "\n",
    "During the tutorial, we request participants to **exclusively** use [Binder](https://mybinder.org/).\n",
    "Everyone has their own combination of operating systems and software.\n",
    "Supporting all of them is a challenge, which also takes time away from the actual content of the tutorial.\n",
    "\n",
    "Binder is a service that allows you to run Jupyter Notebooks in the cloud.\n",
    "It's free and requires no installation.\n",
    "You can use it by clicking on the link in the `#announcements` channel on Slack.\n",
    "Also, you can find the `launch|binder` button on the main page of the [official repository on GitHub](https://github.com/empa-scientific-it/python-tutorial) of the tutorial."
   ]
  },
  {
   "cell_type": "markdown",
   "metadata": {
    "tags": []
   },
   "source": [
    "## Exercises 🌶️\n",
    "\n",
    "For each topic we prepared a bunch of exercises to practice the concepts\n",
    "\n",
    "In the notebooks, you will see cells like\n",
    "\n",
    "```python\n",
    "%%ipytest\n",
    "\n",
    "def solution_to_exercise(input_arg):\n",
    "    \"\"\"\n",
    "    Write your solution here\n",
    "    \"\"\"\n",
    "    pass\n",
    "```\n",
    "\n",
    "**Unless otherwise noted**, you can delete everything *below* the line starting with `def` and write your solution\n",
    "\n",
    "The \"chili\" 🌶️ symbol estimates the effort required. In general, more chilis mean more work and thinking to solve the exercise\n",
    "\n",
    "Double-check before deleting everything in a solution's cell. There might be useful hints to solve the exercise!\n",
    "\n",
    "---\n",
    "\n",
    "Let's look at one important detail about exercises: the variables in **your solution** you are expected to work with.\n",
    "\n",
    "```python\n",
    "%%ipytest\n",
    "\n",
    "def solution_longest_sequence(numbers: list[int]) -> int:\n",
    "    \"\"\"\n",
    "    You should treat `numbers` as a \"list of integers\".\n",
    "    It will be already defined when you run this function\n",
    "    \"\"\"\n",
    "    pass\n",
    "```\n",
    "\n",
    "<div class=\"alert alert-block alert-danger\">\n",
    "    <h4><b>Important</b></h4>\n",
    "    The input arguments to the <code>solution_*</code> function <strong>is already available</strong>. We also tell you what <strong>type</strong> you should expect: a string, an integer, a file path, or anything else.\n",
    "</div> \n",
    "\n",
    "\n",
    "Remember: **ask** if you need help, either on Zoom or on Slack. These four days should be a practical workshop where we can answer to most of your questions you have as a beginner Python user. Let's make the most out of this time!\n"
   ]
  },
  {
   "cell_type": "markdown",
   "metadata": {},
   "source": [
    "## Hands-on sessions\n",
    "\n",
    "There will be plenty of time to work on the exercises.\n",
    "\n",
    "Here's how these time slots will be organized **on Zoom**:\n",
    "\n",
    "### Main room\n",
    "\n",
    "- Anyone who is not yet comfortable with Python\n",
    "- Walkthrough of a few challenging exercises\n",
    "- **Interactive**: you should participate with suggestions\n",
    "\n",
    "\n",
    "### Break-out rooms\n",
    "\n",
    "- Anyone who wants to work on their own\n",
    "- Discussion with someone who wants to share their code\n",
    "- Specific Q&A"
   ]
  },
  {
   "cell_type": "markdown",
   "metadata": {},
   "source": [
    "# Let's get started! 🐍"
   ]
  }
 ],
 "metadata": {
  "kernelspec": {
   "display_name": "Python 3 (ipykernel)",
   "language": "python",
   "name": "python3"
  },
  "language_info": {
   "codemirror_mode": {
    "name": "ipython",
    "version": 3
   },
   "file_extension": ".py",
   "mimetype": "text/x-python",
   "name": "python",
   "nbconvert_exporter": "python",
   "pygments_lexer": "ipython3",
   "version": "3.9.12"
  },
  "vscode": {
   "interpreter": {
    "hash": "fb43f8d381edd655b57a3fa7f8143253a121a168968fa3987191db33f90c378d"
   }
  }
 },
 "nbformat": 4,
 "nbformat_minor": 4
}
