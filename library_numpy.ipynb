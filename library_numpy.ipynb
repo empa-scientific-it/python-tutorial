{
 "cells": [
  {
   "cell_type": "markdown",
   "id": "a0a945ae-7c8d-4b48-892a-46d0ecd4faf3",
   "metadata": {},
   "source": [
    "# NumPy"
   ]
  },
  {
   "cell_type": "markdown",
   "id": "4cc4d35b",
   "metadata": {},
   "source": [
    "# References\n",
    "\n",
    "* Various sources from the [official website](https://numpy.org/learn/)."
   ]
  },
  {
   "cell_type": "markdown",
   "id": "1b5051a4",
   "metadata": {},
   "source": [
    "# Introduction"
   ]
  },
  {
   "cell_type": "markdown",
   "id": "5afe42d5",
   "metadata": {},
   "source": [
    "## Why NumPy?\n",
    "\n",
    "The primary reason why we need NumPy because we are unhappy with the performance of Python lists.\n",
    "Python lists are very flexible, but they are very slow to process.\n",
    "In fact, they are so slow that we cannot use them for large datasets, so we can say that without an extension, Python is not a good choice for scientific computing.\n",
    "\n",
    "NumPy provides such an extension to Python that is both fast and efficient.\n",
    "\n",
    "One might ask, how is NumPy so fast if it is written in Python?\n",
    "The answer is - NumPy is not (entirely) written in Python.\n",
    "The core of numpy is written in C, which is a very fast language - you can check it out [on GitHub](https://github.com/numpy/numpy) by scrolling down to the \"Languages\" section.\n",
    "The C code is then wrapped in Python, which makes it easy to use.\n",
    "\n",
    "The second reason why we need NumPy is that it provides a lot of functions that are useful for scientific computing which are not available directly in Python.\n",
    "For example, it provides functions for linear algebra, Fourier transform, and random number generation."
   ]
  },
  {
   "cell_type": "markdown",
   "id": "09dab3c6",
   "metadata": {},
   "source": [
    "## What is the catch?\n",
    "\n",
    "NumPy is fast and efficient, but it is not as flexible as Python lists.\n",
    "For example, we can store any type of data in a Python list, but we cannot do that in NumPy arrays.\n",
    "NumPy arrays can only store homogeneous data, i.e., data of the same type.\n",
    "Also, the size of a NumPy array is fixed, an attempt to change the size of an array will create a new array and delete the original one."
   ]
  },
  {
   "cell_type": "markdown",
   "id": "b3c59e7c",
   "metadata": {},
   "source": [
    "## What is NumPy?\n",
    "\n",
    "The main object in NumPy is the [`ndarray`](https://numpy.org/devdocs/reference/arrays.ndarray.html).\n",
    "It is a multidimensional container of items of the same type and size.\n",
    "Often we create NumPy arrays using the [`array()`](https://numpy.org/devdocs/reference/generated/numpy.array.html) function:\n",
    "\n",
    "```python\n",
    "import numpy as np\n",
    "\n",
    "a = np.array([1, 2, 3])\n",
    "print(a)\n",
    "```\n",
    "\n",
    "Also, numpy overloads the Python operators so that we can use them on NumPy arrays to do element-wise operations.\n",
    "For example, we can use the `+` operator to add two NumPy arrays:"
   ]
  },
  {
   "cell_type": "code",
   "execution_count": null,
   "id": "c42ef463",
   "metadata": {},
   "outputs": [],
   "source": [
    "import numpy as np\n",
    "\n",
    "# Create a 1D array\n",
    "a = np.array([1, 2, 3, 4, 5])\n",
    "b = np.array([6, 7, 8, 9, 10])\n",
    "\n",
    "# Sum of two arrays\n",
    "c = a + b\n",
    "print(c)"
   ]
  },
  {
   "cell_type": "markdown",
   "id": "70b2db88",
   "metadata": {},
   "source": [
    "Beaweare that unlike Python lists, the sum of two NumPy arrays is the sum of their corresponding elements, not their concatenation:"
   ]
  },
  {
   "cell_type": "code",
   "execution_count": null,
   "id": "20eb40af",
   "metadata": {},
   "outputs": [],
   "source": [
    "a = [1, 2, 3, 4, 5]\n",
    "b = [6, 7, 8, 9, 10]\n",
    "\n",
    "# Sum of two lists\n",
    "c = a + b\n",
    "print(c)"
   ]
  },
  {
   "cell_type": "markdown",
   "id": "9788f627",
   "metadata": {},
   "source": [
    "Also, you can use mathematical functions on NumPy arrays, and they will be applied to each element of the array.\n",
    "Such an operations are called vectorized operations, and they are much faster than using Python loops."
   ]
  },
  {
   "cell_type": "code",
   "execution_count": null,
   "id": "f408f8ad",
   "metadata": {},
   "outputs": [],
   "source": [
    "x = np.array([1, 2, 3, 4, 5])\n",
    "\n",
    "y = np.exp(x)\n",
    "\n",
    "print(y)"
   ]
  },
  {
   "cell_type": "markdown",
   "id": "5b09d588",
   "metadata": {},
   "source": [
    "Finally, NumPy provides a lot of functions that are useful for scientific computing.\n",
    "For example, it provides functions for linear algebra, Fourier transform, and random number generation."
   ]
  },
  {
   "cell_type": "code",
   "execution_count": null,
   "id": "32cc3c90",
   "metadata": {},
   "outputs": [],
   "source": [
    "# Compute the dot product of two arrays\n",
    "a = np.array([1, 2, 3, 4, 5])\n",
    "b = np.array([6, 7, 8, 9, 10])\n",
    "\n",
    "c = np.dot(a, b)\n",
    "print(f\"Dot product of a and b: {c}\")\n",
    "\n",
    "# Compute the length of the array\n",
    "a = np.array([3, 4])\n",
    "b = np.linalg.norm(a)\n",
    "print(f\"Length of a: {b}\")"
   ]
  },
  {
   "cell_type": "markdown",
   "id": "faf589d8",
   "metadata": {},
   "source": [
    "Now, as got a basic idea of what NumPy is, let's dive deeper into it."
   ]
  },
  {
   "cell_type": "markdown",
   "id": "146668e2",
   "metadata": {},
   "source": [
    "# ndarray - the core of NumPy\n",
    "\n"
   ]
  }
 ],
 "metadata": {
  "kernelspec": {
   "display_name": "Python 3 (ipykernel)",
   "language": "python",
   "name": "python3"
  },
  "language_info": {
   "codemirror_mode": {
    "name": "ipython",
    "version": 3
   },
   "file_extension": ".py",
   "mimetype": "text/x-python",
   "name": "python",
   "nbconvert_exporter": "python",
   "pygments_lexer": "ipython3",
   "version": "3.11.1"
  }
 },
 "nbformat": 4,
 "nbformat_minor": 5
}
