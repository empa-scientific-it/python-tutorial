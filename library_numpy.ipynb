{
 "cells": [
  {
   "cell_type": "markdown",
   "id": "a0a945ae-7c8d-4b48-892a-46d0ecd4faf3",
   "metadata": {},
   "source": [
    "# NumPy"
   ]
  },
  {
   "cell_type": "markdown",
   "id": "4cc4d35b",
   "metadata": {},
   "source": [
    "# References\n",
    "\n",
    "* Various sources from the [official website](https://numpy.org/learn/)."
   ]
  },
  {
   "cell_type": "markdown",
   "id": "1b5051a4",
   "metadata": {},
   "source": [
    "# Introduction"
   ]
  },
  {
   "cell_type": "markdown",
   "id": "5afe42d5",
   "metadata": {},
   "source": [
    "## Why NumPy?\n",
    "\n",
    "The primary reason why we need NumPy because we are unhappy with the performance of Python lists.\n",
    "Python lists are very flexible, but they are very slow to process.\n",
    "In fact, they are so slow that we cannot use them for large datasets, so we can say that without an extension, Python is not a good choice for scientific computing.\n",
    "\n",
    "NumPy provides such an extension to Python that is both fast and efficient.\n",
    "\n",
    "One might ask, how is NumPy so fast if it is written in Python?\n",
    "The answer is - NumPy is not (entirely) written in Python.\n",
    "The core of numpy is written in C, which is a very fast language - you can check it out [on GitHub](https://github.com/numpy/numpy) by scrolling down to the \"Languages\" section.\n",
    "The C code is then wrapped in Python, which makes it easy to use.\n",
    "\n",
    "The second reason why we need NumPy is that it provides a lot of functions that are useful for scientific computing which are not available directly in Python.\n",
    "For example, it provides functions for linear algebra, Fourier transform, and random number generation."
   ]
  },
  {
   "cell_type": "markdown",
   "id": "09dab3c6",
   "metadata": {},
   "source": [
    "## What is the catch?\n",
    "\n",
    "NumPy is fast and efficient, but it is not as flexible as Python lists.\n",
    "For example, we can store any type of data in a Python list, but we cannot do that in NumPy arrays.\n",
    "NumPy arrays can only store homogeneous data, i.e., data of the same type.\n",
    "Also, the size of a NumPy array is fixed, an attempt to change the size of an array will create a new array and delete the original one."
   ]
  },
  {
   "cell_type": "markdown",
   "id": "b3c59e7c",
   "metadata": {},
   "source": [
    "## What is NumPy?\n",
    "\n",
    "The main object in NumPy is the [`ndarray`](https://numpy.org/devdocs/reference/arrays.ndarray.html).\n",
    "It is a multidimensional container of items of the same type and size.\n",
    "Often we create NumPy arrays using the [`array()`](https://numpy.org/devdocs/reference/generated/numpy.array.html) function:\n",
    "\n",
    "```python\n",
    "import numpy as np\n",
    "\n",
    "a = np.array([1, 2, 3])\n",
    "print(a)\n",
    "```\n",
    "\n",
    "Also, numpy overloads the Python operators so that we can use them on NumPy arrays to do element-wise operations.\n",
    "For example, we can use the `+` operator to add two NumPy arrays:"
   ]
  },
  {
   "cell_type": "code",
   "execution_count": null,
   "id": "c42ef463",
   "metadata": {},
   "outputs": [],
   "source": [
    "import numpy as np\n",
    "\n",
    "# Create a 1D array\n",
    "a = np.array([1, 2, 3, 4, 5])\n",
    "b = np.array([6, 7, 8, 9, 10])\n",
    "\n",
    "# Sum of two arrays\n",
    "c = a + b\n",
    "print(c)"
   ]
  },
  {
   "cell_type": "markdown",
   "id": "70b2db88",
   "metadata": {},
   "source": [
    "Beaweare that unlike Python lists, the sum of two NumPy arrays is the sum of their corresponding elements, not their concatenation:"
   ]
  },
  {
   "cell_type": "code",
   "execution_count": null,
   "id": "20eb40af",
   "metadata": {},
   "outputs": [],
   "source": [
    "a = [1, 2, 3, 4, 5]\n",
    "b = [6, 7, 8, 9, 10]\n",
    "\n",
    "# Sum of two lists\n",
    "c = a + b\n",
    "print(c)"
   ]
  },
  {
   "cell_type": "markdown",
   "id": "9788f627",
   "metadata": {},
   "source": [
    "Also, you can use mathematical functions on NumPy arrays, and they will be applied to each element of the array.\n",
    "Such an operations are called vectorized operations, and they are much faster than using Python loops."
   ]
  },
  {
   "cell_type": "code",
   "execution_count": null,
   "id": "f408f8ad",
   "metadata": {},
   "outputs": [],
   "source": [
    "x = np.array([1, 2, 3, 4, 5])\n",
    "\n",
    "y = np.exp(x)\n",
    "\n",
    "print(y)"
   ]
  },
  {
   "cell_type": "markdown",
   "id": "5b09d588",
   "metadata": {},
   "source": [
    "Finally, NumPy provides a lot of functions that are useful for scientific computing.\n",
    "For example, it provides functions for linear algebra, Fourier transform, and random number generation."
   ]
  },
  {
   "cell_type": "code",
   "execution_count": null,
   "id": "32cc3c90",
   "metadata": {},
   "outputs": [],
   "source": [
    "# Compute the dot product of two arrays\n",
    "a = np.array([1, 2, 3, 4, 5])\n",
    "b = np.array([6, 7, 8, 9, 10])\n",
    "\n",
    "c = np.dot(a, b)\n",
    "print(f\"Dot product of a and b: {c}\")\n",
    "\n",
    "# Compute the length of the array\n",
    "a = np.array([3, 4])\n",
    "b = np.linalg.norm(a)\n",
    "print(f\"Length of a: {b}\")"
   ]
  },
  {
   "cell_type": "markdown",
   "id": "3c0936c2",
   "metadata": {},
   "source": [
    "Now, as got a basic idea of what NumPy is, let's dive deeper into it."
   ]
  },
  {
   "cell_type": "markdown",
   "id": "faf589d8",
   "metadata": {},
   "source": [
    "# NumPy vocabulary\n",
    "\n"
   ]
  },
  {
   "cell_type": "markdown",
   "id": "146668e2",
   "metadata": {},
   "source": [
    "# `ndarray` - the core of NumPy\n",
    "\n",
    "As we have already mentioned, the main object in NumPy is the [`ndarray`](https://numpy.org/devdocs/reference/arrays.ndarray.html).\n",
    "It is a multidimensional container of items of the same type and size.\n",
    "Let's see how we can create an `ndarray`.\n",
    "\n"
   ]
  },
  {
   "cell_type": "markdown",
   "id": "a8246904",
   "metadata": {},
   "source": [
    "## Creating an `ndarray`\n",
    "\n",
    "The most common way to create an `ndarray` is to use the [`array()`](https://numpy.org/devdocs/reference/generated/numpy.array.html) function.\n",
    "It takes a Python list as an argument and returns an `ndarray`:"
   ]
  },
  {
   "cell_type": "code",
   "execution_count": null,
   "id": "32c9a1c0",
   "metadata": {},
   "outputs": [],
   "source": [
    "python_list = [1, 2, 3, 4, 5]\n",
    "numpy_array = np.array(python_list)\n",
    "print(f\"NumPy array: {numpy_array}\")"
   ]
  },
  {
   "cell_type": "markdown",
   "id": "dde7e7e6",
   "metadata": {},
   "source": [
    "A common mistake is to pass to the `array()` function a bunch of numbers separated by commas, like this:\n"
   ]
  },
  {
   "cell_type": "code",
   "execution_count": null,
   "id": "be82d988",
   "metadata": {},
   "outputs": [],
   "source": [
    "# This will throw an error\n",
    "wrong_array = np.array(1, 2, 3, 4, 5)"
   ]
  },
  {
   "cell_type": "markdown",
   "id": "d330d8ea",
   "metadata": {},
   "source": [
    "The `array()` function can also take a list of lists as an argument."
   ]
  },
  {
   "cell_type": "code",
   "execution_count": null,
   "id": "34e851f6",
   "metadata": {},
   "outputs": [],
   "source": [
    "two_dimensional_list = [[1, 2, 3], [4, 5, 6]]\n",
    "two_dimensional_array = np.array(two_dimensional_list)\n",
    "print(f\"2D NumPy array:\\n {two_dimensional_array}\")"
   ]
  },
  {
   "cell_type": "markdown",
   "id": "e297a32e",
   "metadata": {},
   "source": [
    "It is also OK to pass a tuple instead of a list to the `array()` function:"
   ]
  },
  {
   "cell_type": "code",
   "execution_count": null,
   "id": "e35edc88",
   "metadata": {},
   "outputs": [],
   "source": [
    "python_tuple = (1, 2, 3, 4, 5)\n",
    "numpy_array = np.array(python_tuple)\n",
    "\n",
    "print(f\"NumPy array: {numpy_array}\")\n",
    "\n",
    "two_dimensional_tuple = ((1, 2, 3), (4, 5, 6))\n",
    "two_dimensional_array = np.array(two_dimensional_tuple)\n",
    "\n",
    "print(f\"2D NumPy array:\\n {two_dimensional_array}\")"
   ]
  },
  {
   "cell_type": "markdown",
   "id": "0c061eb8",
   "metadata": {},
   "source": [
    "There are several other functions that can be used to create an `ndarray`.\n",
    "Those include:\n",
    "\n",
    "* [`arange()`](https://numpy.org/devdocs/reference/generated/numpy.arange.html) - returns an array with evenly spaced elements.\n",
    "* [`linspace()`](https://numpy.org/devdocs/reference/generated/numpy.linspace.html) - returns an array with evenly spaced elements, but unlike `arange()`, it allows us to specify the number of elements instead of the step size.\n",
    "* [`zeros()`](https://numpy.org/devdocs/reference/generated/numpy.zeros.html) - returns an array of zeros.\n",
    "* [`ones()`](https://numpy.org/devdocs/reference/generated/numpy.ones.html) - returns an array of ones.\n",
    "* [`empty()`](https://numpy.org/devdocs/reference/generated/numpy.empty.html) - returns an array of uninitialized elements.\n",
    "* [`full()`](https://numpy.org/devdocs/reference/generated/numpy.full.html) - returns an array of the specified size filled with the specified value.\n",
    "* [`random()`](https://numpy.org/devdocs/reference/random/index.html) - returns an array of random values.\n",
    "\n",
    "Let's see how we can use them:"
   ]
  },
  {
   "cell_type": "code",
   "execution_count": null,
   "id": "227a7bf9",
   "metadata": {},
   "outputs": [],
   "source": [
    "# Generate an array with evenly spaced elements\n",
    "\n",
    "a = np.arange(10)\n",
    "print(f\"Array with evenly spaced elements: {a}\")\n",
    "\n",
    "\n",
    "# If we provide two arguments, the first is the start value and the second is the end value.\n",
    "\n",
    "a = np.arange(2, 10)\n",
    "print(f\"Array with evenly spaced elements starting from 2: {a}\")\n",
    "\n",
    "# If we provide three arguments, the first is the start value, the second is the end value, and the third is the step size.\n",
    "\n",
    "a = np.arange(2, 10, 2)\n",
    "print(f\"Array with evenly spaced elements starting from 2 with step size 2: {a}\")\n"
   ]
  },
  {
   "cell_type": "code",
   "execution_count": null,
   "id": "ba23e12f",
   "metadata": {},
   "outputs": [],
   "source": [
    "# Generate an array with evenly spaced numbers over a specified interval\n",
    "\n",
    "a = np.linspace(2.0, 3.0, num=5)\n",
    "print(f\"Array with evenly spaced elements over a specified interval: {a}\")"
   ]
  },
  {
   "cell_type": "code",
   "execution_count": null,
   "id": "60eccb16",
   "metadata": {},
   "outputs": [],
   "source": [
    "# Create an array of zeros.\n",
    "\n",
    "a = np.zeros(3)\n",
    "print(f\"Array of zeros with size 3: {a}\")\n",
    "\n",
    "a = np.zeros((2, 4))\n",
    "\n",
    "print(f\"2D array of zeros with size 2x4:\\n{a}\")\n"
   ]
  },
  {
   "cell_type": "markdown",
   "id": "ccfa0b88",
   "metadata": {},
   "source": [
    "## Exercises on creating an `ndarray`"
   ]
  }
 ],
 "metadata": {
  "kernelspec": {
   "display_name": "Python 3 (ipykernel)",
   "language": "python",
   "name": "python3"
  },
  "language_info": {
   "codemirror_mode": {
    "name": "ipython",
    "version": 3
   },
   "file_extension": ".py",
   "mimetype": "text/x-python",
   "name": "python",
   "nbconvert_exporter": "python",
   "pygments_lexer": "ipython3",
   "version": "3.11.1"
  }
 },
 "nbformat": 4,
 "nbformat_minor": 5
}
