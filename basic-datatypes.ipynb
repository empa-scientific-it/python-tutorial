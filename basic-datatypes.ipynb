{
 "cells": [
  {
   "attachments": {},
   "cell_type": "markdown",
   "metadata": {},
   "source": [
    "In Python, there are several build in data types.\n",
    "We distinguish basic types and data structures.\n",
    "These are the most commonly used basic types:\n",
    "    1. Integers (`int`), e.g. `1`, `-2`, `0`, `100`\n",
    "    2. Floats (`float`), e.g. `1.0`, `-2.5`, `0.0`, `100.0`\n",
    "    3. Strings (`str`), e.g. `\"Hello\"`, `\"World\"`, `\"1\"`, `\"2.5\"`\n",
    "    4. Booleans (`bool`), e.g. `True`, `False`\n",
    "    5. NoneType (`NoneType`), e.g. `None`\n",
    "\n",
    "The most commonly used data structures are:\n",
    "    1. Lists (`list`), e.g. `[1, 2, 3]`, [\"Hello\", \"World\"], [1, 2.5, \"Hello\"]\n",
    "    2. Tuples (`tuple`), e.g. (1, 2, 3), (\"Hello\", \"World\"), (1, 2.5, \"Hello\")\n",
    "    3. Dictionaries (`dict`), e.g. {\"key1\": 1, \"key2\": 2}, {\"key1\": \"Hello\", \"key2\": \"World\"}, {\"key1\": 1, \"key2\": 2.5, \"key3\": \"Hello\"}\n",
    "    4. Sets (`set`), e.g. {1, 2, 3}, {\"Hello\", \"World\"}, {1, 2.5, \"Hello\"}"
   ]
  },
  {
   "attachments": {},
   "cell_type": "markdown",
   "metadata": {},
   "source": []
  }
 ],
 "metadata": {
  "language_info": {
   "name": "python"
  },
  "orig_nbformat": 4
 },
 "nbformat": 4,
 "nbformat_minor": 2
}
