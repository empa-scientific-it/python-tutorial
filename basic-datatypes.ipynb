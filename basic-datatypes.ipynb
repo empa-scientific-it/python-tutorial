{
 "cells": [
  {
   "cell_type": "markdown",
   "metadata": {},
   "source": [
    "# Basic datatypes in Python\n",
    "# Table of Contents\n",
    "* [Introduction](#Introduction)\n",
    "* [Dynamic typing](#Dynamic-typing-and-type()-function)\n",
    "* [Arithmetic operations with integers](#Arithmetic-operations-with-integers)\n",
    "* [Arithmetic operations with floats](#Arithmetic-operations-with-floats)\n",
    "* [Type Promotion and Type Casting](#Type-Promotion-and-Type-Casting)\n",
    "* [Quiz on basic data type arithmetics](#Quiz-on-basic-data-type-arithmetics)"
   ]
  },
  {
   "cell_type": "markdown",
   "metadata": {},
   "source": [
    "## Introduction\n",
    "\n",
    "In Python, there are several build in data types.\n",
    "We distinguish basic types and data structures.\n",
    "These are the most commonly used basic types:\n",
    "  1. Integers (`int`), e.g.\n",
    "  ```python\n",
    "  1, -2, 0, 100\n",
    "  ```\n",
    "  2. Floats (`float`), e.g.\n",
    "  ```python\n",
    "  1.0, -2.5, 0.0, 100.0\n",
    "  ```\n",
    "  3. Strings (`str`), e.g. \n",
    "  ```python\n",
    "  \"Hello, World\", \"1\", \"2.5\"\n",
    "  ```\n",
    "  4. Booleans (`bool`), e.g. \n",
    "  ```python\n",
    "  True, False\n",
    "  ```\n",
    "  5. NoneType (`NoneType`), e.g. \n",
    "  ```python\n",
    "  None\n",
    "  ```\n",
    "The built-in data types are the basic building blocks for representing and manipulating data\n",
    "  \n",
    "\n",
    "The most commonly used data structures are:\n",
    "  1. Lists (`list`), e.g.\n",
    "  ```python\n",
    "  [1, 2, 3], [\"Hello\", \"World\"], [1, 2.5, \"Hello\"]\n",
    "  ```\n",
    "  2. Tuples (`tuple`), e.g.\n",
    "  ```python\n",
    "  (1, 2, 3), (\"Hello\", \"World\"), (1, 2.5, \"Hello\")\n",
    "  ```\n",
    "  3. Dictionaries (`dict`), e.g.\n",
    "  ```python\n",
    "  {\"key1\": 1, \"key2\": 2}, {\"key1\": \"Hello\", \"key2\": \"World\"}, {\"key1\": 1, \"key2\": 2.5, \"key3\": \"Hello\"}\n",
    "  ```\n",
    "  4. Sets (`set`), e.g.\n",
    "  ```python\n",
    "  {1, 2, 3}, {\"Hello\", \"World\"}, {1, 2.5, \"Hello\"}\n",
    "  ```\n",
    "\n",
    "The data structures are more complex ways of organizing and storing collections of data."
   ]
  },
  {
   "cell_type": "markdown",
   "metadata": {},
   "source": [
    "## Dynamic typing and `type()` function\n",
    "\n",
    "Dynamic typing means that the type of a variable is determined at runtime rather than being explicitly declared by the programmer.\n",
    "The type of a variable is determied by the value that is assigned to it.\n",
    "In Python, the type of a variable can be determined by the `type()` function.\n",
    "Let's see how this works in practice\n"
   ]
  },
  {
   "cell_type": "code",
   "execution_count": null,
   "metadata": {},
   "outputs": [],
   "source": [
    "a = 1\n",
    "print(f\"My type is {type(a)}\")\n",
    "a = 1.0\n",
    "print(f\"My type has changed, now it is {type(a)}\")\n",
    "a = \"now I am a string\"\n",
    "print(f\"My type ha changed again, now it is {type(a)}\")\n",
    "a = [1, 2, 3]\n",
    "print(f\"I became a list now: {type(a)}\")"
   ]
  },
  {
   "cell_type": "markdown",
   "metadata": {},
   "source": [
    "In the code above you've seen that the same variable can be assigned different values of different types.\n",
    "This is possible because Python is a dynamically typed language.\n",
    "The type of a variable is determined at runtime."
   ]
  },
  {
   "cell_type": "markdown",
   "metadata": {},
   "source": [
    "## Arithmetic operations with integers\n",
    "\n",
    "In Python, the basic arithmetic operations are supported for integers.\n",
    "The following list shows the supported arithmetic operations and their corresponding symbols:\n",
    "    \n",
    "  * Addition: `+` (sum of two integers is an integer)\n",
    "  * Subtraction: `-` (difference of two integers is an integer)\n",
    "  * Multiplication: `*` (product of two integers is an integer)\n",
    "  * Division: `/` (quotient of two integers is a float)\n",
    "  * Floor division: `//` (quotient of two integers is an integer)\n",
    "  * Modulo: `%` (remainder of two integers is an integer)\n",
    "  * Exponentiation: `**`  (exponentiation of two integers is an integer)\n",
    "\n",
    "> **Remember:** The division operation `/` always returns a `float`.\n",
    "> If you want the division to return `int`, you have to use the `//` operator.\n",
    "\n",
    "Let's see how these operations work in practice:"
   ]
  },
  {
   "cell_type": "code",
   "execution_count": null,
   "metadata": {},
   "outputs": [],
   "source": [
    "x = 5\n",
    "y = 3\n",
    "print(f\"Addition: {x + y}\")\n",
    "print(f\"Subtraction: {x - y}\")\n",
    "print(f\"Multiplication: {x * y}\")\n",
    "print(f\"Division: {x / y}\")\n",
    "print(f\"Exponentiation: {x ** y}\")\n",
    "print(f\"Floor division: {x // y}\")\n",
    "print(f\"Modulo: {x % y}\")\n",
    "\n",
    "# Let's have a look at the difference between \"standard\" and floor division.\n",
    "x = 5\n",
    "y = 3\n",
    "div = x // y\n",
    "float_div = x / y\n",
    "\n",
    "print(f\"Division: {div}, {type(div)}\")\n",
    "print(f\"Floor division: {float_div}, {type(float_div)}\")"
   ]
  },
  {
   "cell_type": "markdown",
   "metadata": {
    "tags": []
   },
   "source": [
    "## Arithmetic operations with floats\n",
    "\n",
    "Floats share the same arithmetic operations as integers with the difference that the result of an operation is always a float.\n",
    "Let's see how these operations work in practice:"
   ]
  },
  {
   "cell_type": "code",
   "execution_count": null,
   "metadata": {
    "tags": []
   },
   "outputs": [],
   "source": [
    "x = 5.0\n",
    "y = 2.0\n",
    "print(f\"Addition: {x + y}\")\n",
    "print(f\"Subtraction: {x - y}\")\n",
    "print(f\"Multiplication: {x * y}\")\n",
    "print(f\"Division: {x / y}\")\n",
    "print(f\"Floor division: {x // y}\")\n",
    "print(f\"Exponentiation: {x ** y}\")\n",
    "print(f\"Modulo: {x % y}\")"
   ]
  },
  {
   "cell_type": "markdown",
   "metadata": {},
   "source": [
    "> **Note:** The floor division operation `//` returns a `float` in case of floats.\n",
    "> However, the returned float is rounded  down to the nearest integer, which is 2.0 in the example above"
   ]
  },
  {
   "cell_type": "markdown",
   "metadata": {},
   "source": [
    "## Type Promotion and Type Casting\n",
    "\n",
    "It is not uncommon to perform arithmetic operations with two variables of different types.\n",
    "The rule here is to convert the lower data type to the higer one to prevent data loss.\n",
    "For example, when summing integer and float, the integer is first converted to float and then summation is performed:\n",
    "\n",
    "```python\n",
    "a = 3 # Int\n",
    "b = 2.0 # Float\n",
    "a + b ## is 5.0. a is first converted to 3.0 and then added to 2.0\n",
    "5.0\n",
    "```\n",
    "\n",
    "Here is the hierarchy of the data types, where the lower one is alays converted to the higher:\n",
    "```python\n",
    "bool -> int -> float -> complex\n",
    "```\n",
    "\n",
    "Keep in mind that it is not always possible to perform the type promotion.\n",
    "For instance, Python is not able to sum float and string, it will instead raise `TypeError`, something like follows:\n",
    "```python\n",
    "---------------------------------------------------------------------------\n",
    "TypeError                                 Traceback (most recent call last)\n",
    "----> 1 1.0 + \"2.0\"\n",
    "\n",
    "TypeError: unsupported operand type(s) for +: 'float' and 'str'\n",
    "```\n",
    "\n",
    "Go ahead and try the cells below to understand how type promotion works in practise.\n"
   ]
  },
  {
   "cell_type": "code",
   "execution_count": null,
   "metadata": {
    "tags": []
   },
   "outputs": [],
   "source": [
    "bool_number = True\n",
    "int_number = 2\n",
    "float_number = 3.0\n",
    "complex_number = 5.0 + 3.2j\n",
    "\n",
    "# bool + int\n",
    "res = bool_number + int_number\n",
    "print(f\"bool + int: Result is {res}. Type of the result {type(res)}\")\n",
    "\n",
    "# int + float\n",
    "res = int_number + float_number\n",
    "print(f\"int + float: Result is {res}. Type of the result {type(res)}\")\n",
    "\n",
    "\n",
    "# float + complex\n",
    "res = float_number + complex_number\n",
    "print(f\"float + complex: Result is {res}. Type of the result {type(res)}\")\n",
    "\n",
    "# bool + float\n",
    "res = bool_number + float_number\n",
    "print(f\"bool + float: Result is {res}. Type of the result {type(res)}\")\n",
    "\n",
    "# int + complex\n",
    "res = int_number + complex_number\n",
    "print(f\"int + complex: Result is {res}. Type of the result {type(res)}\")"
   ]
  },
  {
   "cell_type": "markdown",
   "metadata": {},
   "source": [
    "As anticipated above, summing `str` and `float` will raise an exception"
   ]
  },
  {
   "cell_type": "code",
   "execution_count": null,
   "metadata": {
    "tags": []
   },
   "outputs": [],
   "source": [
    "# This should fail.\n",
    "2.5 + \"1.5\""
   ]
  },
  {
   "cell_type": "markdown",
   "metadata": {},
   "source": [
    "But is there a way to still perform the summation from above?\n",
    "```python\n",
    "2.5 + \"1.5\"\n",
    "```\n",
    "\n",
    "It is possible, but the programmer should explicitely perform data casting, something like the following:\n",
    "```python\n",
    "2.5 + str(\"1.5\")  # This works!\n",
    "```\n",
    "\n",
    "Here are build-in Python operators for data casting.\n",
    "```python\n",
    "bool()  # Converst object to the boolean type\n",
    "int()  # Converts object to the integer type\n",
    "float()  # Converts object to the float type\n",
    "complex()  # Converts object to the complex type\n",
    "str()  # Converts object to the string type\n",
    "```\n",
    "Keep in mind that it is **not always possible** to convert an object of basic type to another basic type.\n",
    "For instance, an attempt to convert `complex` to `float` will raise `TypeError`.\n",
    "See the examples below to understand how this works in practice."
   ]
  },
  {
   "cell_type": "code",
   "execution_count": null,
   "metadata": {
    "tags": []
   },
   "outputs": [],
   "source": [
    "bool_number = True\n",
    "int_number = 2\n",
    "float_number = 3.0\n",
    "complex_number = 5.0 + 3.2j\n",
    "string_number = \"6.0\"\n",
    "\n",
    "# bool -> int\n",
    "res = int(bool_number)\n",
    "print(f\"bool -> int: Result is {res}. Type of the result {type(res)}\")\n",
    "\n",
    "# int -> float\n",
    "res = float(int_number)\n",
    "print(f\"int -> float: Result is {res}. Type of the result {type(res)}\")\n",
    "\n",
    "# float -> complex\n",
    "res = complex(float_number)\n",
    "print(f\"float -> complex: Result is {res}. Type of the result {type(res)}\")\n",
    "\n",
    "# float -> string\n",
    "res = str(float_number)\n",
    "print(f\"float -> string: Result is {res}. Type of the result {type(res)}\")\n",
    "\n",
    "# complex -> string\n",
    "res = str(complex_number)\n",
    "print(f\"complex -> string: Result is {res}. Type of the result {type(res)}\")\n",
    "\n",
    "# string -> float\n",
    "res = float(string_number)\n",
    "print(f\"string -> int: Result is {res}. Type of the result {type(res)}\")\n"
   ]
  },
  {
   "cell_type": "markdown",
   "metadata": {},
   "source": [
    "## Quiz on basic data type arithmetics"
   ]
  },
  {
   "cell_type": "code",
   "execution_count": null,
   "metadata": {},
   "outputs": [],
   "source": [
    "from tutorial import basic_datatypes as bdt\n",
    "\n",
    "bdt.IntegerFloatDivistion()"
   ]
  },
  {
   "cell_type": "markdown",
   "metadata": {},
   "source": [
    "## Logical operations with integers:\n",
    "\n"
   ]
  }
 ],
 "metadata": {
  "kernelspec": {
   "display_name": "Python 3 (ipykernel)",
   "language": "python",
   "name": "python3"
  },
  "language_info": {
   "codemirror_mode": {
    "name": "ipython",
    "version": 3
   },
   "file_extension": ".py",
   "mimetype": "text/x-python",
   "name": "python",
   "nbconvert_exporter": "python",
   "pygments_lexer": "ipython3",
   "version": "3.9.12"
  },
  "vscode": {
   "interpreter": {
    "hash": "31f2aee4e71d21fbe5cf8b01ff0e069b9275f58929596ceb00d14d90e3e16cd6"
   }
  }
 },
 "nbformat": 4,
 "nbformat_minor": 4
}
