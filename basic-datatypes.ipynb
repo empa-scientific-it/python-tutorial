{
 "cells": [
  {
   "attachments": {},
   "cell_type": "markdown",
   "metadata": {},
   "source": [
    "# Basic datatypes in Python"
   ]
  },
  {
   "attachments": {},
   "cell_type": "markdown",
   "metadata": {},
   "source": [
    "## (basic) Introduction\n",
    "\n",
    "In Python, there are several build in data types.\n",
    "We distinguish basic types and data structures.\n",
    "These are the most commonly used basic types:\n",
    "  1. Integers (`int`), e.g. `1`, `-2`, `0`, `100`\n",
    "  2. Floats (`float`), e.g. `1.0`, `-2.5`, `0.0`, `100.0`\n",
    "  3. Strings (`str`), e.g. `\"Hello\"`, `\"World\"`, `\"1\"`, `\"2.5\"`\n",
    "  4. Booleans (`bool`), e.g. `True`, `False`\n",
    "  5. NoneType (`NoneType`), e.g. `None`\n",
    "\n",
    "The most commonly used data structures are:\n",
    "  1. Lists (`list`), e.g. `[1, 2, 3]`, `[\"Hello\", \"World\"]`, `[1, 2.5, \"Hello\"]`\n",
    "  2. Tuples (`tuple`), e.g. `(1, 2, 3)`, `(\"Hello\", \"World\")`, `(1, 2.5, \"Hello\")`\n",
    "  3. Dictionaries (`dict`), e.g. `{\"key1\": 1, \"key2\": 2}`, `{\"key1\": \"Hello\", \"key2\": \"World\"}`, `{\"key1\": 1, \"key2\": 2.5, \"key3\": \"Hello\"}`\n",
    "  4. Sets (`set`), e.g. `{1, 2, 3}`, `{\"Hello\", \"World\"}`, `{1, 2.5, \"Hello\"}`\n",
    "\n",
    "The main difference between built-in data types and data structures is that the built-in data types are the basic building blocks for representing and manipulating data.\n",
    "Whereas data structures are more complex ways of organizing and storing collections of data."
   ]
  },
  {
   "attachments": {},
   "cell_type": "markdown",
   "metadata": {},
   "source": [
    "## (basic) Dynamic typing and `type()` function\n",
    "\n",
    "Dynamic typing means that the type of a variable is determined at runtime rather than being explicitly declared by the programmer.\n",
    "The type of a variable is determied by the value that is assigned to it.\n",
    "In Python, the type of a variable can be determined by the `type()` function.\n",
    "Let's see how this works in practice\n"
   ]
  },
  {
   "cell_type": "code",
   "execution_count": null,
   "metadata": {},
   "outputs": [],
   "source": [
    "a = 1\n",
    "print(f\"My type is {type(a)}\")\n",
    "a = 1.0\n",
    "print(f\"My type ha changed, now it is {type(a)}\")\n",
    "a = \"now I am a string\"\n",
    "print(f\"My type ha changed again, now it is {type(a)}\")\n",
    "a = [1, 2, 3]\n",
    "print(f\"I became a list now: {type(a)}\")"
   ]
  },
  {
   "attachments": {},
   "cell_type": "markdown",
   "metadata": {},
   "source": [
    "In the code above you've seen that the same variable can be assigned different values of different types.\n",
    "This is possible because Python is a dynamically typed language.\n",
    "The type of a variable is determined at runtime."
   ]
  },
  {
   "attachments": {},
   "cell_type": "markdown",
   "metadata": {},
   "source": [
    "## (basic) Arithmetic operations with integers:\n",
    "\n",
    "In Python, the basic arithmetic operations are supported for integers.\n",
    "The following list shows the supported arithmetic operations and their corresponding symbols:\n",
    "    \n",
    "  * Addition: `+` (sum of two integers is an integer)\n",
    "  * Subtraction: `-` (difference of two integers is an integer)\n",
    "  * Multiplication: `*` (product of two integers is an integer)\n",
    "  * Division: `/` (quotient of two integers is a float)\n",
    "  * Floor division: `//` (quotient of two integers is an integer)\n",
    "  * Modulo: `%` (remainder of two integers is an integer)\n",
    "  * Exponentiation: `**`  (exponentiation of two integers is an integer)\n",
    "\n",
    "> **Remember:** The division operation `/` always returns a `float`.\n",
    "> If you want the division to return `int`, you have to use the `//` operator.\n",
    "\n",
    "Let's see how these operations work in practice:"
   ]
  },
  {
   "cell_type": "code",
   "execution_count": null,
   "metadata": {},
   "outputs": [],
   "source": [
    "x = 5\n",
    "y = 3\n",
    "print(f\"Addition: {x + y}\")\n",
    "print(f\"Subtraction: {x - y}\")\n",
    "print(f\"Multiplication: {x * y}\")\n",
    "print(f\"Division: {x / y}\")\n",
    "print(f\"Exponentiation: {x ** y}\")\n",
    "print(f\"Floor division: {x // y}\")\n",
    "print(f\"Modulo: {x % y}\")\n",
    "\n",
    "# Let's have a look at the difference between integer and float division\n",
    "x = 5\n",
    "y = 3\n",
    "integer_div = x // y\n",
    "float_div = x / y\n",
    "\n",
    "print(f\"Integer division: {integer_div}, {type(integer_div)}\")\n",
    "print(f\"Float division: {float_div}, {type(float_div)}\")"
   ]
  },
  {
   "attachments": {},
   "cell_type": "markdown",
   "metadata": {},
   "source": [
    "## (basic) Logical operations with integers:"
   ]
  }
 ],
 "metadata": {
  "kernelspec": {
   "display_name": "Python 3",
   "language": "python",
   "name": "python3"
  },
  "language_info": {
   "codemirror_mode": {
    "name": "ipython",
    "version": 3
   },
   "file_extension": ".py",
   "mimetype": "text/x-python",
   "name": "python",
   "nbconvert_exporter": "python",
   "pygments_lexer": "ipython3",
   "version": "3.9.6"
  },
  "orig_nbformat": 4,
  "vscode": {
   "interpreter": {
    "hash": "31f2aee4e71d21fbe5cf8b01ff0e069b9275f58929596ceb00d14d90e3e16cd6"
   }
  }
 },
 "nbformat": 4,
 "nbformat_minor": 2
}
