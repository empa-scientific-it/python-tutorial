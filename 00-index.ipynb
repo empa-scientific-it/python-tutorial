{
 "cells": [
  {
   "cell_type": "markdown",
   "metadata": {},
   "source": [
    "# Introduction\n",
    "\n",
    "- [Introduction to the tutorial](./00-intro.ipynb)\n",
    "\n",
    "# Basic Tutorial\n",
    "\n",
    "- [Basic datatypes](./01-basic_datatypes.ipynb)\n",
    "- [Control Flow](./02-control_flow.ipynb)\n",
    "- [Functions](./03-functions.ipynb)\n",
    "- [Input-Output](./04-input_output.ipynb)\n",
    "- [Object-oriented programming](./05-object_oriented_programming.ipynb)\n",
    "- [Modules and packages](./06-modules_and_packages.ipynb)\n",
    "\n",
    "# Advanced tutorial\n",
    "\n",
    "- [Manage Python project](./10-manage_python_project.ipynb)\n",
    "- [Functional programming](./11-functional_programming.ipynb)\n",
    "- [Advanced functions](./12-functions_advanced.ipynb)\n",
    "- [Advanced Object-oriented programming](./13-object_oriented_programming_advanced.ipynb)\n",
    "\n",
    "# Libraries\n",
    "\n",
    "- [Matplotlib](./20-library_matplotlib.ipynb)\n",
    "- [NumPy](./21-library_numpy.ipynb)\n",
    "- [scikit-learn](./22-library_sklearn.ipynb)\n",
    "- [SciPy](./23-library_scipy.ipynb)\n",
    "- [Pandas](./24-library_pandas.ipynb)\n",
    "\n",
    "# Additional Topics\n",
    "\n",
    "- [Parallelism and concurrency in Python](./14-threads.ipynb)\n"
   ]
  }
 ],
 "metadata": {
  "kernelspec": {
   "display_name": "Python 3 (ipykernel)",
   "language": "python",
   "name": "python3"
  },
  "language_info": {
   "codemirror_mode": {
    "name": "ipython",
    "version": 3
   },
   "file_extension": ".py",
   "mimetype": "text/x-python",
   "name": "python",
   "nbconvert_exporter": "python",
   "pygments_lexer": "ipython3",
   "version": "3.12.0"
  }
 },
 "nbformat": 4,
 "nbformat_minor": 4
}
