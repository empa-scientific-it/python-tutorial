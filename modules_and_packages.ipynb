{
 "cells": [
  {
   "cell_type": "markdown",
   "metadata": {},
   "source": [
    "# Table of contents\n",
    "- [Table of contents](#Table-of-contents)\n",
    "- [References](#References)\n",
    "- [Why?](#Why?)\n",
    "- [Script](#Script)\n",
    "- [Module](#Module)\n",
    "  - [Exercise on module creation](#Exercise-on-module-creation)\n",
    "- [Package](#Package)\n",
    "  - [Exercise on package creation](#Exercise-on-package-creation)\n",
    "  - [Exercise on package refactoring](#Exercise-on-package-refactoring)\n",
    "  - [Different ways of importing things](#Different-ways-of-importing-things)\n",
    "  - [Application Programming Interface (API)](#Application-Programming-Interface-(API))\n",
    "  - [Exercise on defining the public API](#Exercise-on-defining-the-public-API)\n",
    "  - [Import `as`](#Import-as)\n",
    "  - [Stability of the API](#Stability-of-the-API)\n",
    "  - [Imports with '.'](#Imports-with-'.')\n",
    "  - [Imports with '..'](#Imports-with-'..')\n",
    "- [Install package](#Install-package)\n",
    "  - [Exercise: import package from different place](#Exercise:-import-package-from-different-place)\n",
    "  - [Make the package installable.](#Make-the-package-installable.)\n",
    "  - [Exercise on installing the package](#Exercise-on-installing-the-package)\n",
    "- [Outreach: share your package with the world](#Outreach:-share-your-package-with-the-world)\n",
    "  - [Git & GitHub](#Git-&-GitHub)\n",
    "  - [PyPI](#PyPI)\n"
   ]
  },
  {
   "cell_type": "markdown",
   "metadata": {},
   "source": [
    "# References\n",
    "\n",
    "* [Introduction to modules](https://docs.python.org/3/tutorial/modules.html) from the official Python tutorial.\n",
    "* \n"
   ]
  },
  {
   "cell_type": "markdown",
   "metadata": {},
   "source": [
    "# Why?\n",
    "\n",
    "\"Why?\" is perhaps the most important question one should ask himself before doing something.\n",
    "The reason why we use modules and packages (in contrst to just writing all our code in one file) is that it makes our code more organized and easier to maintain.\n",
    "This approach is known as [\"modular programming\"](https://en.wikipedia.org/wiki/Modular_programming) and is a very important concept in computer science.\n",
    "\n",
    "In this part of the tutorial we will learn how to create modules and packages and how to use them in our code.\n",
    "We will also learn how to distribute our code as a package that can be installed by others.\n",
    "We will start with a single file script and will gradually convert it into a package.\n",
    "\n",
    "With these problems in mind let's start with a simple example."
   ]
  },
  {
   "cell_type": "markdown",
   "metadata": {},
   "source": [
    "# Script\n",
    "Up to know we mostly saw scripts, which are a sequence of statements present in a single file or Jupyter cell.\n",
    "Scripts are greate for a quick and dirty work, but they are not very good for long-term projects, because:\n",
    "\n",
    "* They are not well organized as they contain all the code in one place.\n",
    "* They are not easy to maintain.\n",
    "* They are not easy to reuse in other projects (unless you copy-paste the code).\n",
    "* They are not easy to distribute (unless you consider sending the file to your colleagues as an easy way of distributing).\n",
    "\n",
    "Let's say we want to write a script that deals with points in 2D space.\n",
    "\n",
    "Here is a simple script that defines a class `Point` and a function `distance`:"
   ]
  },
  {
   "cell_type": "code",
   "execution_count": null,
   "metadata": {},
   "outputs": [],
   "source": [
    "class Point:\n",
    "    def __init__(self, x: float, y: float) -> None:\n",
    "        self.x = x\n",
    "        self.y = y\n",
    "\n",
    "def distance(p1, p2) -> float:\n",
    "    return ((p1.x - p2.x) ** 2 + (p1.y - p2.y) ** 2) ** 0.5\n",
    "\n",
    "p1 = Point(0, 0)\n",
    "p2 = Point(3, 4)\n",
    "print(f\"The distance between `p1` and `p2` is {distance(p1, p2)}\")"
   ]
  },
  {
   "cell_type": "markdown",
   "metadata": {},
   "source": [
    "# Module\n",
    "\n",
    "The **module** is a file containing Python definitions and statements.\n",
    "The file name is the module name with the suffix `.py` appended.\n",
    "So our first task would be to create the module `point.py` and put the code from the previous section in it."
   ]
  },
  {
   "cell_type": "markdown",
   "metadata": {},
   "source": [
    "## Exercise on module creation\n",
    "\n",
    "Move the`Point` class and the `distance` function to a new file called `point.py`:\n",
    "\n",
    "1. Create a new file called `point.py` in the same directory as this notebook.\n",
    "2. Copy the `Point` class and the `distance` function to the new file.\n",
    "3. Save the file."
   ]
  },
  {
   "cell_type": "markdown",
   "metadata": {},
   "source": [
    "Now, since the module is in the same directory as this notebook, we can import things from it:"
   ]
  },
  {
   "cell_type": "code",
   "execution_count": null,
   "metadata": {},
   "outputs": [],
   "source": [
    "from point import Point, distance\n",
    "\n",
    "p1 = Point(0, 0)\n",
    "p2 = Point(3, 4)\n",
    "print(f\"The distance between `p1` and `p2` is {distance(p1, p2)}\")"
   ]
  },
  {
   "cell_type": "markdown",
   "metadata": {},
   "source": [
    "Very nice!\n",
    "We managed to create our first module and import it in our script."
   ]
  },
  {
   "cell_type": "markdown",
   "metadata": {},
   "source": [
    "# Package\n",
    "\n",
    "A **package** is a collection of modules that are often related to each other.\n",
    "\n",
    "For example, the `numpy` package contains the modules `numpy.core`, `numpy.linalg`, `numpy.random`, etc.\n",
    "\n",
    "A package is a directory that contains a file called `__init__.py`.\n",
    "This file can be empty, and it indicates that the directory it contains is a Python package, so it can be imported the same way as a module."
   ]
  },
  {
   "cell_type": "markdown",
   "metadata": {},
   "source": [
    "## Exercise on package creation\n",
    "\n",
    "Let's create a package named `mypackage` that contains our `point` module:\n",
    "\n",
    "1. Create a new directory called `mypackage` in the same directory as this notebook.\n",
    "2. Create a new empty file called `__init__.py` in the `mypackage` directory.\n",
    "3. Move the `point.py` file to the `mypackage` directory.\n",
    "\n",
    "Once this is done, let's see if we can import the `Point` class and the `distance` function from the `mypackage` package:"
   ]
  },
  {
   "cell_type": "code",
   "execution_count": null,
   "metadata": {},
   "outputs": [],
   "source": [
    "from mypackage.point import Point, distance\n",
    "\n",
    "p1 = Point(0, 0)\n",
    "p2 = Point(3, 4)\n",
    "print(f\"The distance between `p1` and `p2` is {distance(p1, p2)}\")"
   ]
  },
  {
   "cell_type": "markdown",
   "metadata": {},
   "source": [
    "Congratulations, we managed to create a package and import it here.\n",
    "\n",
    "Suppose our package grows and we need to do some refactoring.\n",
    "We can take the `distance` function to a new modules called `utils.py.\n"
   ]
  },
  {
   "cell_type": "markdown",
   "metadata": {},
   "source": [
    "## Exercise on package refactoring\n",
    "\n",
    "Let's move the `distance` function to a new module called `utils.py`:\n",
    "\n",
    "1.  Create a new file called `utils.py` in the `mypackage` directory.\n",
    "2.  Copy the `distance` function to the new file and save it.\n",
    "3.  Remove the `distance` function from the `point.py` file and save it.\n",
    "\n",
    "If everything went well, we should be able to execute the following code:"
   ]
  },
  {
   "cell_type": "code",
   "execution_count": null,
   "metadata": {},
   "outputs": [],
   "source": [
    "from mypackage.point import Point\n",
    "from mypackage.utils import distance\n",
    "\n",
    "p1 = Point(0, 0)\n",
    "p2 = Point(3, 4)\n",
    "print(f\"The distance between `p1` and `p2` is {distance(p1, p2)}\")"
   ]
  },
  {
   "cell_type": "markdown",
   "metadata": {},
   "source": [
    "## Different ways of importing things\n",
    "\n",
    "There are several ways to import things from a module or package.\n",
    "Let's see some examples:"
   ]
  },
  {
   "cell_type": "code",
   "execution_count": null,
   "metadata": {},
   "outputs": [],
   "source": [
    "# Same as above\n",
    "from mypackage.point import Point\n",
    "from mypackage.utils import distance\n",
    "\n",
    "p1 = Point(0, 0)\n",
    "p2 = Point(3, 4)\n",
    "print(f\"The distance between `p1` and `p2` is {distance(p1, p2)}\")"
   ]
  },
  {
   "cell_type": "code",
   "execution_count": null,
   "metadata": {},
   "outputs": [],
   "source": [
    "# Import only the `mypackage` package\n",
    "import mypackage\n",
    "\n",
    "p1 = mypackage.point.Point(0, 0)\n",
    "p2 = mypackage.point.Point(3, 4)\n",
    "\n",
    "print(f\"The distance between `p1` and `p2` is {mypackage.utils.distance(p1, p2)}\")"
   ]
  },
  {
   "cell_type": "code",
   "execution_count": null,
   "metadata": {},
   "outputs": [],
   "source": [
    "# Import `point` and `utils` modules from `mypackage`\n",
    "from mypackage import point, utils\n",
    "\n",
    "p1 = point.Point(0, 0)\n",
    "p2 = point.Point(3, 4)\n",
    "\n",
    "print(f\"The distance between `p1` and `p2` is {utils.distance(p1, p2)}\")"
   ]
  },
  {
   "cell_type": "markdown",
   "metadata": {},
   "source": [
    "But we can do things slightly better, but first we need to introduce the concept of Application Programming Interface (API)."
   ]
  },
  {
   "cell_type": "markdown",
   "metadata": {},
   "source": [
    "## Application Programming Interface (API)\n",
    "\n",
    "An **Application Programming Interface** (API) stands for a set of publicly available classes, functions, and variables that a software program can use to interact with other software components.\n",
    "\n",
    "Quite often, when developing a package, we import things from its modules into the `__init__.py` file.\n",
    "This way, when we import the package, we can access the things we imported directly `mypackage.Point` and `mypackage.distance`.\n",
    "Everything that is importend into the topmost `__init__.py` file is considered to be part of the package's public API.\n",
    "\n",
    "For example, in the `mypackage` we can import the `Point` class and the `distance` function into the `__init__.py` file.\n",
    "Let's do it as the next exercise."
   ]
  },
  {
   "cell_type": "markdown",
   "metadata": {},
   "source": [
    "## Exercise on defining the public API\n",
    "\n",
    "Please import the `Point` class and the `distance` function into the `__init__.py` file.\n",
    "\n",
    "Hint: often when importing things from local modules we use the following syntax:\n",
    "\n",
    "```python\n",
    "from .module import thing\n",
    "```\n",
    "\n",
    "In our case, the `.` stands for the current directory, so the `.` in the above code means the `mypackage` directory.\n",
    "We will see more examples of this syntax later.\n",
    "\n",
    "If everything went well, we should be able to execute the following code:"
   ]
  },
  {
   "cell_type": "code",
   "execution_count": null,
   "metadata": {},
   "outputs": [],
   "source": [
    "from mypackage import Point, distance\n",
    "\n",
    "p1 = Point(0, 0)\n",
    "p2 = Point(3, 4)\n",
    "print(f\"The distance between `p1` and `p2` is {distance(p1, p2)}\")"
   ]
  },
  {
   "cell_type": "markdown",
   "metadata": {},
   "source": [
    "## Import `as`\n",
    "\n",
    "It is possible to import a package and use it as namespace throughout the code:"
   ]
  },
  {
   "cell_type": "code",
   "execution_count": null,
   "metadata": {},
   "outputs": [],
   "source": [
    "import mypackage\n",
    "\n",
    "p1 = mypackage.Point(0, 0)\n",
    "p2 = mypackage.Point(3, 4)\n",
    "print(f\"The distance between `p1` and `p2` is {mypackage.distance(p1, p2)}\")"
   ]
  },
  {
   "cell_type": "markdown",
   "metadata": {},
   "source": [
    "But if the package name is rather long, it is possible to import it under a shorter name.\n",
    "For example, we can import the `mypackage` package as `mp`:"
   ]
  },
  {
   "cell_type": "code",
   "execution_count": null,
   "metadata": {},
   "outputs": [],
   "source": [
    "import mypackage\n",
    "\n",
    "p1 = mypackage.Point(0, 0)\n",
    "p2 = mypackage.Point(3, 4)\n",
    "print(f\"The distance between `p1` and `p2` is {mypackage.distance(p1, p2)}\")"
   ]
  },
  {
   "cell_type": "markdown",
   "metadata": {},
   "source": [
    "The last two examples are probably the nicest way to use packages.\n",
    "If the package name is short, we can import it under its original name.\n",
    "If the package name is long, we can import it under a shorter name.\n",
    "\n",
    "For some common packages (like `numpy` and `pandas`) it has became a convention to import them under their aliases.\n",
    "For example, we often use `np` for `numpy` and `pd` for `pandas`:\n",
    "\n",
    "```python\n",
    "import numpy as np\n",
    "import pandas as pd\n",
    "```"
   ]
  },
  {
   "cell_type": "markdown",
   "metadata": {},
   "source": [
    "## Stability of the API\n",
    "\n",
    "When developing a package, it is important to keep in mind that the public API is a part of the package's contract with the users.\n",
    "This means, as developers, we should strive to keep the API stable and not change it too often.\n",
    "It is OK to add new features to the package, but it is not OK to suddenly change the API of the existing features.\n",
    "\n",
    "<div class=\"alert alert-info\">\n",
    "<b>Info:</b> The API of a package is considered to be stable when the changes to it are rare and well documented. If the API changes too often, users might walk away from the package.\n",
    "</div>\n",
    "\n",
    "Suppose we would like to introduce a new class called `Line` to our package.\n",
    "Here is the code:"
   ]
  },
  {
   "cell_type": "code",
   "execution_count": null,
   "metadata": {},
   "outputs": [],
   "source": [
    "class Line:\n",
    "    def __init__(self, p1, p2) -> None:\n",
    "        self.p1 = p1\n",
    "        self.p2 = p2\n",
    "\n",
    "    def length(self) -> float:\n",
    "        return ((self.p1.x - self.p2.x) ** 2 + (self.p1.y - self.p2.y) ** 2) ** 0.5"
   ]
  },
  {
   "cell_type": "markdown",
   "metadata": {},
   "source": [
    "We would like to place it along with the `Point` class, but the name of the module is `point.py` which doesn't really make sense anymore.\n",
    "We should rename the module to `geometry.py`.\n",
    "\n",
    "## Exercise on adding new class to the package\n",
    "\n",
    "1.  Rename the `point.py` file to `geometry.py`.\n",
    "2.  Copy the `Line` class to the `geometry.py` file.\n",
    "3.  Update the import statements in the `__init__.py` file to import the `Point` and `Line` classes from the `geometry` module.\n",
    "\n",
    "If everything went well, we should be able to execute the following code:"
   ]
  },
  {
   "cell_type": "code",
   "execution_count": null,
   "metadata": {},
   "outputs": [],
   "source": [
    "import mypackage as mp\n",
    "\n",
    "p1 = mp.Point(0, 0)\n",
    "p2 = mp.Point(3, 4)\n",
    "\n",
    "line = mp.Line(p1, p2)\n",
    "\n",
    "print(f\"The length of the line is {line.length()}\")"
   ]
  },
  {
   "cell_type": "markdown",
   "metadata": {},
   "source": [
    "We did a good job of maintaing the public API of or package 👍.\n",
    "We added a new class to the package, we changed the module name, but nothing changed for the users.\n",
    "The old-good `Point` class is still available under the `mypackage.Point` name."
   ]
  },
  {
   "cell_type": "markdown",
   "metadata": {},
   "source": [
    "## Imports with '.'\n",
    "\n",
    "To import things from the neighboring modules, we can use the `.` symbol.\n",
    "To test that, let's have a look at our `Line` class again.\n",
    "You might notice that the body of the `length` method is essentially the same as the `distance` function we had in the `utils.py` module.\n",
    "Let's import it from there.\n",
    "\n",
    "## Exercise on importing from neighboring modules.\n",
    "\n",
    "1. Import the `distance` function from the `utils` module in the `geometry` module.\n",
    "```python\n",
    "    from .utils import distance\n",
    "```\n",
    "2. Update the `length` method of the `Line` class to use the `distance` function.\n",
    "3. Store both files and run the following code:"
   ]
  },
  {
   "cell_type": "code",
   "execution_count": null,
   "metadata": {},
   "outputs": [],
   "source": [
    "import mypackage as mp\n",
    "\n",
    "p1 = mp.Point(0, 0)\n",
    "p2 = mp.Point(3, 4)\n",
    "\n",
    "line = mp.Line(p1, p2)\n",
    "\n",
    "print(f\"The length of the line is {line.length()}\")"
   ]
  },
  {
   "cell_type": "markdown",
   "metadata": {},
   "source": [
    "## Imports with '..'\n",
    "\n",
    "Sometimes we need to import things from the modules that are located in the parent directory.\n",
    "For that we can use the `..` symbol.\n",
    "The `..` symbol means the parent directory, so `..` in the following code means the `mypackage` directory.\n",
    "\n",
    "```python\n",
    "from ..utils import distance\n",
    "```\n",
    "\n",
    "Let's reorganise our package a bit to see how it works.\n",
    "\n",
    "\n",
    "## Exercise on importing from parent modules\n",
    "\n",
    "1. Create a new directory called geometry in the mypackage directory.\n",
    "2. Move the geometry.py file to the geometry directory.\n",
    "3. Create an empty file called __init__.py in the geometry directory.\n",
    "4. Add the following import statement to the __init__.py file:\n",
    "```python\n",
    "from .geometry import Point, Line\n",
    "```\n",
    "5. Update the import statement in the `geometry.py` file to import the `distance` function from the `utils` module to take into account the relative location of the `utils` module:\n",
    "```python\n",
    "from ..utils import distance\n",
    "```\n",
    "6. Store everything and run the following code:"
   ]
  },
  {
   "cell_type": "code",
   "execution_count": null,
   "metadata": {},
   "outputs": [],
   "source": [
    "import mypackage as mp\n",
    "\n",
    "p1 = mp.Point(0, 0)\n",
    "p2 = mp.Point(3, 4)\n",
    "\n",
    "line = mp.Line(p1, p2)\n",
    "\n",
    "print(f\"The length of the line is {line.length()}\")"
   ]
  },
  {
   "cell_type": "markdown",
   "metadata": {},
   "source": [
    "Hopefully, everything went well and we were able to execute the code above.\n",
    "\n",
    "We learned how to import things from the neighboring modules and from the parent modules.\n",
    "We also learned that it is possible create subpackages and import things from them."
   ]
  },
  {
   "cell_type": "markdown",
   "metadata": {},
   "source": [
    "# Install package\n",
    "\n",
    "Now, that we have a package, we should be able to install it with a little bit of work.\n",
    "\n",
    "Why do we want to install it?\n",
    "Well, if we want to use our package in another project, we need to install it.\n",
    "Because currently, it can only be imported from the directory where it is located.\n",
    "\n",
    "See that for yourself."
   ]
  },
  {
   "cell_type": "markdown",
   "metadata": {},
   "source": [
    "## Exercise: import package from different place\n",
    "\n",
    "1. Create a new directory called `tmp_dir` (or similar).\n",
    "2. Open it in the File Browser.\n",
    "3. Create a new notebook by right click of the mouse and selecting `New Notebook` from the context menu.\n",
    "4. In the new notebook, try to import the `mypackage` package.\n",
    "\n",
    "This should fail, because the `mypackage` package is not installed in your system:\n",
    "\n",
    "```python\n",
    "\n",
    "import mypackage\n",
    "\n",
    "\n",
    "---------------------------------------------------------------------------\n",
    "ModuleNotFoundError                       Traceback (most recent call last)\n",
    "Cell In[1], line 1\n",
    "----> 1 import mypackage\n",
    "\n",
    "ModuleNotFoundError: No module named 'mypackage'\n",
    "```"
   ]
  },
  {
   "cell_type": "markdown",
   "metadata": {},
   "source": [
    "## Make the package installable.\n",
    "\n",
    "To make the package installable, we need to do a few more things.\n",
    "Typically, this is done by creating `pyproject.toml` file.\n",
    "\n",
    "Here is a minimal example of the `pyproject.toml`: \n",
    "\n",
    "```toml\n",
    "[build-system]\n",
    "requires = [\"flit_core >=3.2,<4\"]\n",
    "build-backend = \"flit_core.buildapi\"\n",
    "\n",
    "[project]\n",
    "name = \"mypackage\"\n",
    "version = \"0.1.0\"\n",
    "description = \"My first package\"\n",
    "```\n",
    "\n",
    "The package directory should look like this:\n",
    "\n",
    "```bash\n",
    "$ tree mypackage\n",
    "mypackage/\n",
    "├── mypackage\n",
    "│   ├── __init__.py\n",
    "│   ├── geometry\n",
    "│   │   ├── __init__.py\n",
    "│   │   └── geometry.py\n",
    "│   └── utils.py\n",
    "└── pyproject.toml\n",
    "```\n",
    "\n",
    "Notice, that we moved our original `mypackage` directory to `mypackage/mypackage`.\n",
    "This is common practice in Python packages."
   ]
  },
  {
   "cell_type": "markdown",
   "metadata": {},
   "source": [
    "## Exercise on installing the package\n",
    "\n",
    "1. Inside the `mypackage` directory, we need to create another directory called `mypackage`.\n",
    "2. Move the `geometry` directory together with `__init__.py` and `utils.py` files to the `mypackage` sub-directory.\n",
    "3. Create a new file called `pyproject.toml` in the top-level `mypackage` directory.\n",
    "4. Open the terminal and navigate to the `mypackage` directory.\n",
    "```bash\n",
    "    $ cd mypackage\n",
    "```\n",
    "5. Run the following command to install the package:\n",
    "```bash\n",
    "    $ pip install .\n",
    "```\n",
    "6. Return back to the new notebook we created in the previous exercise and try to import the `mypackage` package again.\n",
    "\n",
    "\n",
    "Congratulations, now your package is installed and you can import it from anywhere!"
   ]
  },
  {
   "cell_type": "markdown",
   "metadata": {},
   "source": [
    "# Outreach: share your package with the world\n",
    "\n",
    "Now that we have a package, we can share it with people around the world.\n",
    "There are many ways to do that, but we will focus on two of them:\n",
    "\n",
    "- GitHub\n",
    "- PyPI"
   ]
  },
  {
   "cell_type": "markdown",
   "metadata": {},
   "source": [
    "## Git & GitHub\n",
    "\n",
    "Git is a version control system.\n",
    "It allows you to track changes in your code and collaborate with other people.\n",
    "GitHub is a website that hosts Git repositories.\n",
    "\n",
    "If you want to share your package with the world, GitHub is a great place to do that.\n",
    "It is free and it is easy to use."
   ]
  },
  {
   "cell_type": "markdown",
   "metadata": {},
   "source": [
    "## PyPI\n",
    "\n",
    "PyPI is a website that hosts Python packages.\n",
    "It is a great place to share your package with the world.\n"
   ]
  }
 ],
 "metadata": {
  "kernelspec": {
   "display_name": "Python 3 (ipykernel)",
   "language": "python",
   "name": "python3"
  },
  "language_info": {
   "codemirror_mode": {
    "name": "ipython",
    "version": 3
   },
   "file_extension": ".py",
   "mimetype": "text/x-python",
   "name": "python",
   "nbconvert_exporter": "python",
   "pygments_lexer": "ipython3",
   "version": "3.11.1"
  }
 },
 "nbformat": 4,
 "nbformat_minor": 4
}
