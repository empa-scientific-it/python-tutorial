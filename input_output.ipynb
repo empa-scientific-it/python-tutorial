{
 "cells": [
  {
   "attachments": {},
   "cell_type": "markdown",
   "metadata": {},
   "source": [
    "# Input and output in Python\n",
    "\n",
    "## References\n",
    "- [input and output tutorial](https://docs.python.org/3/tutorial/inputoutput.html) from the official python tutorial.\n",
    "- [Is explicitly closing files important?](https://stackoverflow.com/questions/7395542/is-explicitly-closing-files-important)\n",
    "\n",
    "\n",
    "## Introduction\n",
    "An important aspect to learn in a new programming language is input/output (or I/O). For our program to be useful, we need to be able to interact with the outside world. This means performing operartions like:\n",
    "- reading and writing data to a file\n",
    "- printing text output\n",
    "- asking for user input\n",
    "- connecting to databases or other network services\n",
    "\n",
    "\n",
    "The majority of these operations are covered by the python standard library. We are going to see how to use them in this chapter.\n",
    "\n",
    "\n",
    "⚠️ In reference to the chapter on functional programming, it is interesting to note that these functions perform so-called *side-effects*; therefore any code containing these operations is no longer *pure* and is not referentially transparent. The same function can return different values for the same argument if called multiple time and the function can have *long-distance* effects, that is it can modify the state of the program somewhere else leading to unexpected results. Therefore, I always suggest trying to separate input and output from the other computations in your program. For example, if you have a complex calculation requring several user inputs at several stages of the process, consider writing a function that only performs the calculation given all inputs and then require all inputs separately, for example through a single file. This makes your code easier to debug, test and understand.\n",
    "\n",
    "\n",
    "\n",
    "\n",
    "## String input and output \n",
    "The most basic I/O operation in python is displaying text on the python console. This is done using the `print` function:"
   ]
  },
  {
   "cell_type": "code",
   "execution_count": 1,
   "metadata": {},
   "outputs": [
    {
     "name": "stdout",
     "output_type": "stream",
     "text": [
      "I am some text\n"
     ]
    }
   ],
   "source": [
    "print(\"I am some text\")"
   ]
  },
  {
   "attachments": {},
   "cell_type": "markdown",
   "metadata": {},
   "source": [
    "The complemenentary operation, prompting for *user input* is done through `input`.\n",
    "The function takes one string as argument, which gives the prompt displayed on the console. The return value of the function contains the input the user types:"
   ]
  },
  {
   "cell_type": "code",
   "execution_count": 3,
   "metadata": {},
   "outputs": [
    {
     "name": "stdout",
     "output_type": "stream",
     "text": [
      "The user wrote fasdf\n"
     ]
    }
   ],
   "source": [
    "user_input = input(\"Write some text\")\n",
    "print(f\"The user wrote {user_input}\")"
   ]
  },
  {
   "attachments": {},
   "cell_type": "markdown",
   "metadata": {},
   "source": [
    "⚠️ Note that `input` is a **blocking operation**. The program evaluation stops and waits until the user provides an input. Therefore, use `input` **very carefully* and only when truly necessary. A common issue is that someone first writes an interactive program expecting user input through `input` and later integrates it into a larger application that is supposed to run automatically without any user interaction. Suddenly, the application stops somehwere and does not run further because of a well hidden `input` call...\n",
    "\n"
   ]
  },
  {
   "attachments": {},
   "cell_type": "markdown",
   "metadata": {},
   "source": [
    "## File I/O\n",
    "A second very common I/O operation in most programming languages is reading and writing from files. This is actually more complex than just writing on the console and consists of several steps:\n",
    "\n",
    "1. You need to find *where* in the operating system the file is located. This gives you the so-called *path* to the file\n",
    "2. You need to *open* the file for reading or writing. In some operationg systems, this *locks* the file, so that other users or processes cannot write simultaneously with you.\n",
    "3. Now , you can write (or read) the contents of the file \n",
    "4. Finally, you need to *close* the file to make it accessible to other processes again and to finalise the writing: in some implementations, `write` only writes the text to a temporary location in memory (a so-called *buffer*) and only writes the content to the file when you close it. This is done to increase response times, as writing to memory is faster than writing to a file on the disk.\n",
    "\n",
    "### Reading from a file\n",
    "\n",
    "Let's see how to do this with an example: we want to open the file [hello.txt](./data/hello.txt) and read its contents.\n",
    "\n",
    "1. The path is already identified, we know the file is in `./data/hello.txt`. We save this in a variable `path`\n",
    "2. We now can use the built-in function [`open`](https://docs.python.org/3/library/functions.html#open) to open the file. This function returns a [file object](https://docs.python.org/3/glossary.html#term-file-object) that we can use to further manipulate the file. To ensure we only open the file for reading, we pass the string \"r\" to the second argument of `open`.\n",
    "3. Now we can read the contents using `read`, `readline` or `readlines`. `read` only reads `n` characters from the file, `readline` reads a whole line, while `readlines` reads the whole file content as a list of strings, one item per line in the file. This knowledge is useful when we only want to read part of a file or when the file is too big to fit in memory and we can only read parts.\n",
    "4. Finally, we close the file using the `close` method on the file object.\n",
    "\n",
    "\n"
   ]
  },
  {
   "cell_type": "code",
   "execution_count": 4,
   "metadata": {},
   "outputs": [
    {
     "name": "stdout",
     "output_type": "stream",
     "text": [
      "['Hello, I am a file with some text.\\n']\n"
     ]
    }
   ],
   "source": [
    "path = \"./data/hello.txt\"\n",
    "file_ob = open(path, 'r')\n",
    "contents = file_ob.readlines()\n",
    "file_ob.close()\n",
    "print(contents)"
   ]
  },
  {
   "attachments": {},
   "cell_type": "markdown",
   "metadata": {},
   "source": [
    "Notice that calling `read`, `readline` or `readlines` *consumes* the file, either fully or to the corresponding location. This means that if we call `readlines` twice, we will get an empty list the second time:"
   ]
  },
  {
   "cell_type": "code",
   "execution_count": 20,
   "metadata": {},
   "outputs": [
    {
     "name": "stdout",
     "output_type": "stream",
     "text": [
      "['Hello, I am a file with some text.\\n']\n",
      "[]\n"
     ]
    }
   ],
   "source": [
    "path = \"./data/hello.txt\"\n",
    "file_ob = open(path, 'r')\n",
    "contents = file_ob.readlines()\n",
    "print(contents)\n",
    "other_contents = file_ob.readlines()\n",
    "print(other_contents)\n",
    "file_ob.close()\n"
   ]
  },
  {
   "attachments": {},
   "cell_type": "markdown",
   "metadata": {},
   "source": [
    "We can use this to read a file line-by-line by just iterating over the file using a `for` loop or a list compherension. The `file` object implements the [iterator](https://docs.python.org/3/glossary.html#term-iterator) protocol:"
   ]
  },
  {
   "cell_type": "code",
   "execution_count": 26,
   "metadata": {},
   "outputs": [
    {
     "name": "stdout",
     "output_type": "stream",
     "text": [
      "this\n",
      "\n",
      "file\n",
      "\n",
      "has multiple\n",
      "\n",
      "lines\n",
      "\n",
      "how many\n",
      "\n",
      "lines\n",
      "\n",
      "does this file\n",
      "\n",
      "have?\n"
     ]
    }
   ],
   "source": [
    "path = './data/lines.txt'\n",
    "file_ob = open(path, 'r')\n",
    "for line in file_ob:\n",
    "    print(line)\n",
    "file_ob.close()"
   ]
  },
  {
   "attachments": {},
   "cell_type": "markdown",
   "metadata": {},
   "source": [
    "This is the most *pythonic* way to read a file line-by-line instead of reading the full contents at once."
   ]
  },
  {
   "attachments": {},
   "cell_type": "markdown",
   "metadata": {},
   "source": [
    "### Writing to a file\n",
    "The process to write data to a file is very similar, the main difference being that:\n",
    "- We use `w` as a second argument of `open` to specify that we want to write to the file. If the file already exists, it will be erased before we write something else to it. If you want to append to the file, you should use `a` instead.\n",
    "- We use `write` to write a *string* to the file. Other types of object should be converted to string before being written.\n",
    "\n",
    "Let's see this in action by writing your name in a file called `me.txt` in [data](./data/)"
   ]
  },
  {
   "cell_type": "code",
   "execution_count": 5,
   "metadata": {},
   "outputs": [],
   "source": [
    "path = \"./data/me.txt\"\n",
    "file_ob = open(path, \"w\")\n",
    "file_ob.write(\"Simone\")\n",
    "file_ob.close()"
   ]
  },
  {
   "attachments": {},
   "cell_type": "markdown",
   "metadata": {},
   "source": [
    "Congratulations! Your name is now written in stone. \n",
    "\n",
    "If we want to write the contents of an *iterable* to a file, we can use the `writelines` method:"
   ]
  },
  {
   "cell_type": "code",
   "execution_count": 28,
   "metadata": {},
   "outputs": [],
   "source": [
    "path = \"./data/numbers.txt\"\n",
    "file_ob = open(path, \"w\")\n",
    "file_ob.writelines([str(i) + \"\\n\" for i in range(10)])\n",
    "file_ob.close()"
   ]
  },
  {
   "attachments": {},
   "cell_type": "markdown",
   "metadata": {},
   "source": [
    "Notice that for each line, we concatenate the `newline` `\\n` symbol to the string to be written to write the text to a new line.\n"
   ]
  },
  {
   "cell_type": "markdown",
   "metadata": {},
   "source": [
    "\n",
    "\n",
    "### Bonus: Context managers\n",
    "As you can see, after *opening* and performing operations on a file, we always have to remember to *close* it. If we forget to close it, unexpected behavior can happen. If the program crashes later on, for example, we might have the situation where the text is not written to the file. If you open many files and you don't close them, the python intepreter can run out of memory. On some operating systems, the file contents are only updated after closing, etc ...\n",
    "\n",
    "This pattern is very common dealing with many *resources*: files, connections, threads, servers, etc...  You acquire the access to the resource, do some work on it and finally you clean up after yourself by closing it again. Because of this, python offers a construct called [*context manager*](https://docs.python.org/3/reference/datamodel.html#context-managers) which implements exactly this beahvior:\n",
    "- get access to a resource\n",
    "- Do some work\n",
    "- release this resource \n",
    "\n",
    "In the case of files, we can replace the open-read-close or open-write-close sequence  with a context manager. Context managers are used inside  the `with` statement:"
   ]
  },
  {
   "cell_type": "code",
   "execution_count": 17,
   "metadata": {},
   "outputs": [
    {
     "name": "stdout",
     "output_type": "stream",
     "text": [
      "['Hello, I am a file with some text.\\n']\n"
     ]
    }
   ],
   "source": [
    "with open(\"./data/hello.txt\", \"r\") as file_ob: \n",
    "    contents = file_ob.readlines()\n",
    "    print(contents)"
   ]
  },
  {
   "attachments": {},
   "cell_type": "markdown",
   "metadata": {},
   "source": [
    "`with open(path) as name` opens the file in `path` and assigns it to the `name` file object. This object is only valid in the *scope* of the context manager, that is the indented block of code that follows the `:`. Once the python interpreter leaves the context manager, `file_ob.close()` is automatically called, ensuring the file is properly closed no matter what happens.\n",
    "\n",
    "This pattern can be extended to any other resource that should be managed in a similar way,  for example database connections. If you want to learn how to implement context managers for other types of objects, please refer to the `contextlib` [documentation](https://docs.python.org/3/library/contextlib.html) in the python standard library."
   ]
  },
  {
   "attachments": {},
   "cell_type": "markdown",
   "metadata": {},
   "source": [
    "### Bonus: Binary I/O\n",
    "\n",
    "Another aspect of file I/O is accessing files in [*binary mode*](https://docs.python.org/3/library/io.html#binary-i-o); that means that instead of writing and reading *text*, we manipulate `bytes` in order to represent non-textual data. This is useful for interacting with measurement data and other non-textual information like images, machine learning model parameters and other complex strcuture, although in most cases you won't need the low-level control of binary I/O and will use libraries instead. \n",
    "\n",
    "To look at an example, let's write a sequence of `int` to `output.dat`[^1]  as a  sequence of bytes. Because one byte corresponds to 8 bits, using one byte per integer means we can unambigously store `2^8= =256` values.\n",
    "\n",
    "\n",
    "[^1]: `.dat` is a typical \"generic\" extension to indicate that the file contains some sort of data. Filename extensions does not have any binding meaning by themselves, they are simply a convention for users to quickly see what contents to expect."
   ]
  },
  {
   "cell_type": "code",
   "execution_count": 20,
   "metadata": {},
   "outputs": [
    {
     "name": "stdout",
     "output_type": "stream",
     "text": [
      "b'\\x00\\x01\\x02\\x03\\x04\\x05\\x06\\x07\\x08\\t'\n"
     ]
    }
   ],
   "source": [
    "with open(\"data/output.txt\", \"wb\") as out_file:\n",
    "    bs = b\"\".join([i.to_bytes(1, 'little') for i in  range(10)])\n",
    "    print(bs)\n",
    "    out_file.write(bs)"
   ]
  },
  {
   "attachments": {},
   "cell_type": "markdown",
   "metadata": {},
   "source": [
    "note that we used the mode `wb` for `write, binary`. The `write` function expects a [`bytes`](https://docs.python.org/3/library/stdtypes.html#bytes) object. Because of the historical connection between bytes and strings, we can produce a  bytes object by prepending `b` to a string literal. Therefore, we generate an array of bytes using [`to_bytes`](https://docs.python.org/3/library/stdtypes.html#int.to_bytes) and combine them with the [`join`](https://docs.python.org/3/library/stdtypes.html#str.join) method on the empty byte literal `b\"\"`.\n",
    "\n",
    "Now that we wrote out our sequence, we can try to read it back from the file:"
   ]
  },
  {
   "cell_type": "code",
   "execution_count": 35,
   "metadata": {},
   "outputs": [
    {
     "name": "stdout",
     "output_type": "stream",
     "text": [
      "[0, 1, 2, 3, 4, 5, 6, 7, 8, 9]\n"
     ]
    }
   ],
   "source": [
    "with open(\"data/output.txt\", \"rb\") as in_file:\n",
    "    data = in_file.read()\n",
    "    seq = [b for b in data]\n",
    "    print(seq)"
   ]
  },
  {
   "attachments": {},
   "cell_type": "markdown",
   "metadata": {},
   "source": [
    "And, surprise! We obtain our original sequence.\n",
    "\n",
    "Note that because of quirk of python, the `read` method returns a `bytes` object, but when we try to access a single element (as we would do with a string), the entry is already an `int`."
   ]
  }
 ],
 "metadata": {
  "kernelspec": {
   "display_name": "Python 3",
   "language": "python",
   "name": "python3"
  },
  "language_info": {
   "codemirror_mode": {
    "name": "ipython",
    "version": 3
   },
   "file_extension": ".py",
   "mimetype": "text/x-python",
   "name": "python",
   "nbconvert_exporter": "python",
   "pygments_lexer": "ipython3",
   "version": "3.8.10"
  },
  "orig_nbformat": 4,
  "vscode": {
   "interpreter": {
    "hash": "916dbcbb3f70747c44a77c7bcd40155683ae19c65e1c03b4aa3499c5328201f1"
   }
  }
 },
 "nbformat": 4,
 "nbformat_minor": 2
}
