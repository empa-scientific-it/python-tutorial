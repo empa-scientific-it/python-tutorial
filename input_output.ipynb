{
 "cells": [
  {
   "cell_type": "markdown",
   "metadata": {},
   "source": [
    "## Table of contents\n",
    "\n",
    "- [String input](#String-input)\n",
    "- [File I/O](#File-I/O)\n",
    "- [Writing to a file](#Writing-to-a-file)\n",
    "- [Context managers](#Context-managers)\n",
    "- [Binary I/O](#Binary-I/O)\n",
    "    - [Bytes and strings](#Bytes-and-strings)\n",
    "    - [Converting bytes to text](#Converting-bytes-to-text)\n",
    "- [Reading/Writing CSV files](#Reading/Writing-CSV-files)\n",
    "- [Exercises](#Exercises)\n",
    "    - [Exercise 1: CSV to dictionary 🌶️🌶️](#Exercise-1:-CSV-to-dictionary-🌶️🌶️)\n",
    "    - [Exercise 2: Counting words 🌶️](#Exercise-2:-Counting-words-🌶️)\n",
    "    - [Exercise 4: Translating words 🌶️🌶️](#Exercise-4:-Translating-words-🌶️🌶️)\n",
    "    - [Exercise 5: Binary format 🌶️🌶️🌶️](#Exercise-5:-Binary-format-🌶️🌶️🌶️)\n"
   ]
  },
  {
   "cell_type": "markdown",
   "metadata": {},
   "source": [
    "\n",
    "\n",
    "## References\n",
    "- [Input and output tutorial](https://docs.python.org/3/tutorial/inputoutput.html) from the official Python tutorial.\n",
    "- [Is explicitly closing files important?](https://stackoverflow.com/questions/7395542/is-explicitly-closing-files-important)\n",
    "- [Context managers](https://docs.python.org/3/library/contextlib.html) from the Python standard library.\n",
    "\n",
    "---\n",
    "\n",
    "## Introduction\n",
    "An important aspect to learn in a new programming language is input/output (or I/O). For our program to be useful, we need to be able to interact with the outside world. This means performing operations like:\n",
    "- reading and writing data to a file\n",
    "- printing text output\n",
    "- asking for user input\n",
    "- connecting to databases or other network services\n",
    "\n",
    "\n",
    "The majority of these operations are covered by the Python standard library. We are going to see how to use them in this chapter.\n",
    "\n",
    "<div class=\"alert alert-block alert-info\">\n",
    "⚠️ In reference to the chapter on functional programming, it is interesting to note that these functions perform <b>side-effects</b>. Therefore, any code containing these operations is no longer <b>pure</b> and is not referentially transparent. The same function can return different values for the same argument if called multiple times, and the function can have <b>long-distance</b> effects. That means they can modify the program state elsewhere, leading to unexpected results.<br><br>\n",
    "Therefore, we suggest separating input and output from the other computations in your program. For example, if you have a complex calculation requiring several user inputs at several stages of the process, consider writing a function that only performs the calculation given all inputs and then requires all inputs separately, for example, through a single file. This makes your code easier to debug, test and understand.\n",
    "</div>\n",
    "\n",
    "\n",
    "\n",
    "\n",
    "## String input and output \n",
    "\n",
    "### String output\n",
    "The most basic I/O operation in Python is displaying text on the Python console. This is done using the `print` function:"
   ]
  },
  {
   "cell_type": "code",
   "execution_count": null,
   "metadata": {},
   "outputs": [],
   "source": [
    "print(\"I am some text\")"
   ]
  },
  {
   "cell_type": "markdown",
   "metadata": {},
   "source": [
    "### String input\n",
    "The complementary operation, prompting for *user input*, is done through `input`.\n",
    "The function takes one string as an argument, which gives the prompt displayed on the console.\n",
    "The return value of the function contains the input the user types:"
   ]
  },
  {
   "cell_type": "code",
   "execution_count": null,
   "metadata": {},
   "outputs": [],
   "source": [
    "user_input = input(\"Write some text\")\n",
    "print(f\"The user wrote {user_input}\")"
   ]
  },
  {
   "cell_type": "markdown",
   "metadata": {},
   "source": [
    "\n",
    "<div class=\"alert alert-block alert-info\">\n",
    "⚠️ Note that <code>input</code> is a <b>blocking operation</b>. The program evaluation stops and waits until the user provides an input. Therefore, use <code>input</code> <b>carefully</b> and only when truly necessary. A common issue is that someone first writes an interactive program expecting user input through <code>input</code> and later integrates it into a larger application that is supposed to run automatically without any user interaction. Suddenly, the application stops somewhere and does not run further because of a well hidden <code>input</code> call...\n",
    "\n",
    "\n",
    "If you have to use it, do not do so in the middle of long-running computation or your model code, but ask for all user inputs upfront. Though, if you need to write an interactive application, there are more robust solutions.\n",
    "\n",
    "</div>"
   ]
  },
  {
   "cell_type": "markdown",
   "metadata": {},
   "source": [
    "## File I/O\n",
    "A second common I/O operation in most programming languages is reading from and writing to files. This is more complex than just writing on the console and consists of several steps\n",
    "\n",
    "1. You need to find *where* in the operating system the file is located. This gives you the so-called *path* to the file.\n",
    "2. You need to *open* the file for reading or writing. In some operating systems, this *locks* the file, so that other users or processes cannot write simultaneously with you. This operation gives you a *file handle* that you can use to read or write.\n",
    "3. Now, you can read (or write) the contents of the file. \n",
    "4. Finally, you need to *close* the file to make it accessible to other processes again and to finalize the writing. In some implementations, `write` only writes the text to a temporary location in memory (a so-called *buffer*) and only writes the content to the file when you close it. This is done to increase response times, as writing to memory is faster than writing to a file on the disk.\n",
    "\n",
    "\n",
    "As a trick to remember closing files: *a file handle is like a door handle*. \n",
    "\n",
    "### Paths\n",
    "To handle the *where* a file is located, Python offers the `pathlib` module, which is used to represent *paths* to files in a portable manner.\n",
    "This means that you can use one Python object to represent the location of a file regardless of the operating system, and Python will convert it into a representation specific to the operating system where you are executing the program.\n",
    "For example, Windows uses `\\` as a separator for path elements, while Unix/Linux use `/`.\n",
    "If you use pathlib, you can write code using only `/` and `pathlib`  will automatically select the correct path separator where the program runs.\n",
    "\n",
    "Let's see how to generate a `path` object pointing to the text file [`hello.txt`](./tutorial/tests/data/hello.txt) in the main directory of this repository.\n",
    "To do so, we use the [`Path`](https://docs.python.org/3/library/pathlib.html#basic-use) class of `pathlib` module, whose constructor takes the location of the file as a string:\n",
    "\n"
   ]
  },
  {
   "cell_type": "code",
   "execution_count": null,
   "metadata": {
    "tags": []
   },
   "outputs": [],
   "source": [
    "import pathlib as pl\n",
    "\n",
    "path = pl.Path(\"./tutorial/tests/data/hello.txt\")"
   ]
  },
  {
   "cell_type": "markdown",
   "metadata": {},
   "source": [
    "The `./` at the beginning of the path indicates that this path is a *relative path*. This is just a path that points to a file *relative* to the directory we are working in. \n",
    "\n",
    "The `path` object has a method `absolute` that returns the *absolute* full path of the object in the OS:"
   ]
  },
  {
   "cell_type": "code",
   "execution_count": null,
   "metadata": {
    "tags": []
   },
   "outputs": [],
   "source": [
    "print(path.absolute())"
   ]
  },
  {
   "cell_type": "markdown",
   "metadata": {},
   "source": [
    "If we prefer, we can also construct paths by combining their components with the `/` operator. For example, we can do:"
   ]
  },
  {
   "cell_type": "code",
   "execution_count": null,
   "metadata": {
    "tags": []
   },
   "outputs": [],
   "source": [
    "import pathlib as pl\n",
    "\n",
    "path = pl.Path(\"./tutorial/tests\") / pl.Path(\"data\")\n",
    "print(path.absolute())\n"
   ]
  },
  {
   "cell_type": "markdown",
   "metadata": {},
   "source": [
    "This also works to combine string and paths, and even just strings, provided that somewhere in the chain of `/` we have a `Path` object:"
   ]
  },
  {
   "cell_type": "code",
   "execution_count": null,
   "metadata": {
    "tags": []
   },
   "outputs": [],
   "source": [
    "#This works\n",
    "p1 = pl.Path(\".\") / \"tutorial/tests/data/hello.txt\"\n",
    "#This too\n",
    "p2 = pl.Path(\".\") / \"tutorial\" / \"tests\" / \"data\" / \"hello.txt\"\n",
    "#This as well\n",
    "p3 = \".\" / pl.Path(\"tutorial\") / \"tests\" / \"data\" / \"hello.txt\"\n",
    "\n",
    "print(p1, p2, p3)"
   ]
  },
  {
   "cell_type": "markdown",
   "metadata": {},
   "source": [
    "We can also list all files matching a certain in a given directory using the `glob` method:"
   ]
  },
  {
   "cell_type": "code",
   "execution_count": null,
   "metadata": {
    "tags": []
   },
   "outputs": [],
   "source": [
    "[f for f in path.glob(\"*\")]"
   ]
  },
  {
   "cell_type": "markdown",
   "metadata": {},
   "source": [
    "The `glob` method takes a `pattern` argument that expresses the form of the file names to look for.\n",
    "The `*` star means *match everything*. For more information on *glob patterns*, see the documentation of [fnmatch](https://docs.python.org/3/library/fnmatch.html#module-fnmatch)."
   ]
  },
  {
   "cell_type": "markdown",
   "metadata": {},
   "source": [
    "\n",
    "\n",
    "### Reading from a file\n",
    "\n",
    "Let's see how to do this with an example: we want to open the file [hello.txt](./data/hello.txt) and read its contents.\n",
    "\n",
    "1. The path is already identified, we know the file is in `./data/hello.txt`. We save this in a variable `path`.\n",
    "2. We now can use the built-in function [`open`](https://docs.python.org/3/library/functions.html#open) to open the file. This function returns a [file object](https://docs.python.org/3/glossary.html#term-file-object) that we can use to further manipulate the file. To ensure we only open the file for reading, we pass the string \"r\" to the second argument of `open`.\n",
    "3. Now we can read the contents using `read`, `readline` or `readlines`. `read` reads the whole file content into a single string, `readline` reads one line, while `readlines` reads the whole file content as a list of strings, one item per line in the file. This knowledge is useful when we only want to read part of a file or when the file is too big to fit in memory and we can only read parts.\n",
    "4. Finally, we close the file using the `close` method on the file object.\n"
   ]
  },
  {
   "cell_type": "code",
   "execution_count": null,
   "metadata": {
    "tags": []
   },
   "outputs": [],
   "source": [
    "import pathlib as pl\n",
    "\n",
    "path = pl.Path(\"./tutorial/tests/data/hello.txt\")\n",
    "file_ob = open(path, 'r')\n",
    "contents = file_ob.readlines()\n",
    "file_ob.close()\n",
    "print(contents)"
   ]
  },
  {
   "cell_type": "markdown",
   "metadata": {},
   "source": [
    "Notice that calling `read`, `readline` or `readlines` *consumes* the file, either fully or to the corresponding location. This means that if we call `readlines` twice, we will get an empty list the second time:"
   ]
  },
  {
   "cell_type": "code",
   "execution_count": null,
   "metadata": {
    "tags": []
   },
   "outputs": [],
   "source": [
    "import pathlib as pl\n",
    "\n",
    "path = pl.Path(\"./tutorial/tests/data/hello.txt\")\n",
    "file_ob = open(path, 'r')\n",
    "contents = file_ob.readlines()\n",
    "print(contents)\n",
    "other_contents = file_ob.readlines()\n",
    "print(other_contents)\n",
    "file_ob.close()\n"
   ]
  },
  {
   "cell_type": "markdown",
   "metadata": {},
   "source": [
    "We can use this to read a file line-by-line by just iterating over the file using a `for` loop or a list compherension. The `file` object implements the [iterator](https://docs.python.org/3/glossary.html#term-iterator) protocol:"
   ]
  },
  {
   "cell_type": "code",
   "execution_count": null,
   "metadata": {
    "tags": []
   },
   "outputs": [],
   "source": [
    "import pathlib as pl\n",
    "\n",
    "path = pl.Path(\"./tutorial/tests/data/lines.txt\")\n",
    "file_ob = open(path, 'r')\n",
    "for line in file_ob:\n",
    "    print(line)\n",
    "file_ob.close()"
   ]
  },
  {
   "cell_type": "markdown",
   "metadata": {},
   "source": [
    "This is the most *pythonic* way to read a file line-by-line instead of reading the full contents at once."
   ]
  },
  {
   "cell_type": "markdown",
   "metadata": {},
   "source": [
    "### Writing to a file\n",
    "The process to write data to a file is very similar, the main difference being that:\n",
    "- We use `w` as a second argument of `open` to specify that we want to write to the file.If the file already exists, it will be erased before we write something else to it. If you want to append to the file, you should use `a` instead.\n",
    "- We use `write` to write a *string* to the file. Other types of object should be converted to string before being written.\n",
    "\n",
    "\n",
    "Let's see this in action by writing your name in a file called `me.txt` in [data](./data/)"
   ]
  },
  {
   "cell_type": "code",
   "execution_count": null,
   "metadata": {
    "tags": []
   },
   "outputs": [],
   "source": [
    "import pathlib as pl\n",
    "\n",
    "path = pl.Path(\"./tutorial/tests/data/me.txt\")\n",
    "file_ob = open(path, \"w\")\n",
    "file_ob.write(\"Simone\")\n",
    "file_ob.close()"
   ]
  },
  {
   "cell_type": "markdown",
   "metadata": {},
   "source": [
    "Congratulations! Your name is now written in stone. \n",
    "\n",
    "If we want to write the contents of an *iterable* to a file, we can use the `writelines` method:"
   ]
  },
  {
   "cell_type": "code",
   "execution_count": null,
   "metadata": {
    "tags": []
   },
   "outputs": [],
   "source": [
    "import pathlib as pl\n",
    "\n",
    "path = pl.Path(\"./tutorial/tests/data/numbers.txt\")\n",
    "file_ob = open(path, \"w\")\n",
    "file_ob.writelines([str(i) + \"\\n\" for i in range(10)])\n",
    "file_ob.close()"
   ]
  },
  {
   "cell_type": "markdown",
   "metadata": {},
   "source": [
    "Notice that for each line, we concatenate the `newline` `\\n` symbol to the string to be written to write the text to a new line.\n"
   ]
  },
  {
   "cell_type": "markdown",
   "metadata": {},
   "source": [
    "### Context managers\n",
    "As you can see, after *opening* and performing operations on a file, we always have to remember to *close* it.\n",
    "If we forget to close it, unexpected behaviour can happen.\n",
    "If the program crashes later on, for example, we might have a situation where the text is not written to the file.\n",
    "If you open many files and you don't close them, the Python interpreter can run out of memory.\n",
    "On some operating systems, the file contents are only updated after closing, etc ...\n",
    "\n",
    "This pattern is common when dealing with many *resources*: files, connections, threads, servers, etc...\n",
    "You acquire access to the resource, do some work on it, and, finally, clean up after yourself by closing it again.\n",
    "Because of this, Python offers a construct called [*context manager*](https://docs.python.org/3/reference/datamodel.html#context-managers) which implements exactly this beahvior:\n",
    "- Get access to a resource.\n",
    "- Do some work.\n",
    "- Release this resource.\n",
    "\n",
    "In the case of files, we can replace the open-read-close or open-write-close sequence  with a context manager.\n",
    "Context managers are used inside  the `with` statement:"
   ]
  },
  {
   "cell_type": "code",
   "execution_count": null,
   "metadata": {
    "tags": []
   },
   "outputs": [],
   "source": [
    "import pathlib as pl\n",
    "\n",
    "hello_file = pl.Path(\"./tutorial/tests/data/hello.txt\")\n",
    "with open(hello_file, \"r\") as file_ob: \n",
    "    contents = file_ob.readlines()\n",
    "    print(contents)"
   ]
  },
  {
   "cell_type": "markdown",
   "metadata": {},
   "source": [
    "`with open(path) as name` opens the file in `path` and assigns it to the `name` file object.\n",
    "This object is only valid in the *scope* of the context manager, that is the indented block of code that follows the `:`.\n",
    "Once the Python interpreter leaves the context manager, `file_ob.close()` is automatically called, ensuring the file is properly closed no matter what happens.\n",
    "\n",
    "This pattern can be extended to any other resource that should be managed in a similar way, for example database connections. \n",
    "Any object that implements `__enter__` and `__exit__` can be used with the context manager syntax.\n",
    "\n",
    "If you want to learn how to implement context managers for other types of objects, please refer to the `contextlib` [documentation](https://docs.python.org/3/library/contextlib.html) in the Python standard library."
   ]
  },
  {
   "cell_type": "markdown",
   "metadata": {},
   "source": [
    "### Binary I/O\n",
    "\n",
    "Another aspect of file I/O is accessing files in [*binary mode*](https://docs.python.org/3/library/io.html#binary-i-o); that means that instead of writing and reading *text*, we manipulate `bytes` in order to represent non-textual data. This is useful for interacting with measurement data and other non-textual information like images, machine learning model parameters and other complex strcuture, although in most cases you won't need the low-level control of binary I/O and will use libraries instead. \n",
    "\n",
    "To look at an example, let's write a sequence of `int` to `output.dat`[^1]  as a  sequence of bytes. Because one byte corresponds to 8 bits, using one byte per integer means we can unambigously store `2^8=256` values.\n",
    "\n",
    "\n",
    "[^1]: `.dat` is a typical \"generic\" extension to indicate that the file contains some sort of data. Filename extensions does not have any binding meaning by themselves, they are simply a convention for users to quickly see what contents to expect."
   ]
  },
  {
   "cell_type": "code",
   "execution_count": null,
   "metadata": {
    "tags": []
   },
   "outputs": [],
   "source": [
    "import pathlib as pl\n",
    "\n",
    "bin_file = pl.Path(\"./tutorial/tests/data/output.txt\")\n",
    "with open(bin_file, \"wb\") as out_file:\n",
    "    bs = b\"\".join([i.to_bytes(1, 'little') for i in  range(10)])\n",
    "    print(bs)\n",
    "    out_file.write(bs)"
   ]
  },
  {
   "cell_type": "markdown",
   "metadata": {},
   "source": [
    "Note that we used the mode `wb` for `write, binary`. The `write` function expects a [`bytes`](https://docs.python.org/3/library/stdtypes.html#bytes) object. Because of the historical connection between bytes and strings, we can produce a bytes object by prepending `b` to a string literal. Therefore, we generate an array of bytes using [`to_bytes`](https://docs.python.org/3/library/stdtypes.html#int.to_bytes) and combine them with the [`join`](https://docs.python.org/3/library/stdtypes.html#str.join) method on the empty byte literal `b\"\"`.\n",
    "\n",
    "Now that we wrote out our sequence, we can try to read it back from the file:"
   ]
  },
  {
   "cell_type": "code",
   "execution_count": null,
   "metadata": {
    "tags": []
   },
   "outputs": [],
   "source": [
    "import pathlib as pl\n",
    "\n",
    "bin_file = pl.Path(\"./tutorial/tests/data/output.txt\")\n",
    "with open(bin_file, \"rb\") as in_file:\n",
    "    data = in_file.read()\n",
    "    seq = [b for b in data]\n",
    "    print(seq)"
   ]
  },
  {
   "cell_type": "markdown",
   "metadata": {},
   "source": [
    "And, surprise! We obtain our original sequence.\n",
    "Note that because of a quirk of Python, the `read` method returns a `bytes` object, but when we try to access a single element (as we would do with a string), the entry is already an `int` which corresponds to the Unicode codepoint.\n",
    "\n",
    "\n",
    "If instead we want to store our numbers using two bytes per digit, we do:"
   ]
  },
  {
   "cell_type": "code",
   "execution_count": null,
   "metadata": {
    "tags": []
   },
   "outputs": [],
   "source": [
    "import pathlib as pl\n",
    "import struct\n",
    "\n",
    "bin_file = pl.Path(\"./tutorial/tests/data/output1.txt\")\n",
    "with open(bin_file, \"wb\") as out_file:\n",
    "    bs = b\"\".join([struct.pack(\">H\", i) for i in range(1024)])\n",
    "    out_file.write(bs)"
   ]
  },
  {
   "cell_type": "markdown",
   "metadata": {},
   "source": [
    "We do this by using the [`struct`](https://docs.python.org/3/library/struct.html) module of the Python standard library, which offers methods to represent built-in data as different bytes formats.\n",
    "\n",
    "The first argument to `struct.pack` is the format the data should be interpreted into, \">\" means little-endian, or putting the byte representing the smallest digit of each number first. \"H\" means an *unsigned short*, which corresponds to two bytes.\n",
    "\n",
    "If we want to read the data, we can do:"
   ]
  },
  {
   "cell_type": "code",
   "execution_count": null,
   "metadata": {
    "tags": []
   },
   "outputs": [],
   "source": [
    "import pathlib as pl\n",
    "import struct\n",
    "\n",
    "bin_file = pl.Path(\"./tutorial/tests/data/output1.txt\")\n",
    "with open(bin_file, \"rb\") as in_file:\n",
    "    data = in_file.read()\n",
    "    seq = [i for i, *rest in struct.iter_unpack(\">H\", data)]\n",
    "    print(seq)"
   ]
  },
  {
   "cell_type": "markdown",
   "metadata": {},
   "source": [
    "#### Bytes and strings\n",
    "Earlier, we mentioned the connection between bytes and strings in Python. To learn more about this, let's briefly review the Unicode UTF-8 standard.\n",
    "\n",
    "The Unicode UTF-8  standard is a system to represent texts; in Unicode  every character is assigned a number (the *codepoint*) that gives the location of this symbol in the table of all symbols. Particularly, the Unicode UTF-8 standard stores each character as 1 to four bytes (each byte is a group of 8 bits). \n",
    "\n",
    "Let's see this more clearly with an example:"
   ]
  },
  {
   "cell_type": "code",
   "execution_count": null,
   "metadata": {
    "tags": []
   },
   "outputs": [],
   "source": [
    "for i in range(0, 8**3):\n",
    "    bt = i.to_bytes(4)\n",
    "    print(f\"bytes: {bt}, integer: {i}, string: {chr(i)}\")"
   ]
  },
  {
   "cell_type": "markdown",
   "metadata": {},
   "source": [
    "The `chr` function takes an integer and returns the corresponding Unicode character."
   ]
  },
  {
   "cell_type": "markdown",
   "metadata": {},
   "source": [
    "#### Converting bytes to text \n",
    "\n",
    "If we receive a `bytes` object and we want to transform it to text, we can use the `int.from_bytes` method and the `chr` function:"
   ]
  },
  {
   "cell_type": "code",
   "execution_count": null,
   "metadata": {
    "tags": []
   },
   "outputs": [],
   "source": [
    "message = \"Ciao\"\n",
    "message_secret = bytes(message, \"utf-8\")\n",
    "[print(f\"The `uft8` codepoint  is = {enc}, the bytes representation = {enc.to_bytes(4)}, the representation is {chr(enc)}\") for plain, enc in zip(message, message_secret)]"
   ]
  },
  {
   "cell_type": "markdown",
   "metadata": {},
   "source": [
    "### Reading/Writing CSV files\n",
    "If you ever worked with tabular data, you surely encountered CSV (comma separated values) files.\n",
    "These files are used to store table in text format row by row: each row is separated by a new line and the columns inside a row are separated by commas `,` or by semicolumns `;`.\n",
    "The first line in the file usually contains the header giving the names of the columns:\n",
    "\n",
    "```\n",
    "first_column,second_column\n",
    "1,2\n",
    "2,3\n",
    "```\n",
    "\n",
    "As CSV is very common to exchange tabular data such as statistics and time series, the Python standard library offers facilities to read and write CSV files through the [csv](https://docs.python.org/3/library/csv.html) module.\n",
    "Despite this, today most people prefer using [pandas](https://pandas.pydata.org/) or [polars](https://www.pola.rs/) to manipulate tabular data because they offer more convenience and faster handling of large datasets.\n",
    "These packages are outside of the scope of this tutorial and will not be covered here.\n",
    "\n",
    "\n",
    "Let's see how to read csv files using `csv` with an example by reading [example.csv](./data/example.csv):"
   ]
  },
  {
   "cell_type": "code",
   "execution_count": null,
   "metadata": {
    "tags": []
   },
   "outputs": [],
   "source": [
    "import csv\n",
    "import pathlib as pl\n",
    "\n",
    "csv_file = pl.Path(\"./tutorial/tests/data/example.csv\")\n",
    "with open(csv_file) as input_file:\n",
    "    reader = csv.reader(input_file)\n",
    "    #Get the header\n",
    "    header = next(reader)\n",
    "    #Iterate over lines\n",
    "    for line in reader:\n",
    "        print(line)"
   ]
  },
  {
   "cell_type": "markdown",
   "metadata": {},
   "source": [
    "The `next` function called on any iterable returns the next value and advances the iterable counter. In the case of `csv.reader`, we use this to read the header.\n",
    "\n",
    "The `csv` module does not interpet the data; as a default everything is read as `str`.\n",
    "\n",
    "Similarly, you can use the CSV module to write a CSV using the [`writer`](https://docs.python.org/3/library/csv.html#csv.writer) class. The `writer` object has `writerow` method which takes an `iterable` of values to write as the current row"
   ]
  },
  {
   "cell_type": "code",
   "execution_count": null,
   "metadata": {
    "tags": []
   },
   "outputs": [],
   "source": [
    "import csv\n",
    "import pathlib as pl\n",
    "\n",
    "csv_file = pl.Path(\"./tutorial/tests/data/example1.csv\")\n",
    "\n",
    "with open(csv_file, \"w\") as output_file:\n",
    "    writer = csv.writer(output_file)\n",
    "    #Get the header\n",
    "    writer.writerow([\"this\", \"is\", \"data\"])\n",
    "    #Iterate over lines\n",
    "    [writer.writerow((i, i+1, i+2)) for i in range(10)]\n",
    "        "
   ]
  },
  {
   "cell_type": "markdown",
   "metadata": {
    "tags": []
   },
   "source": [
    "## Exercises"
   ]
  },
  {
   "cell_type": "code",
   "execution_count": null,
   "metadata": {
    "tags": []
   },
   "outputs": [],
   "source": [
    "%reload_ext tutorial.tests.testsuite"
   ]
  },
  {
   "cell_type": "markdown",
   "metadata": {
    "tags": []
   },
   "source": [
    "### Exercise 1: CSV to dictionary 🌶️🌶️\n",
    "Write a function that reads a CSV from the file [example](./tutorial/tests/data/example.csv) and returns a `dict` (dictionary) where the keys are the column names and the values are the list of values, without converting any data types.\n",
    "If the file contains the following lines:\n",
    "```\n",
    "a, b\n",
    "1, 2\n",
    "3, 4\n",
    "5, 6\n",
    "```\n",
    "this function should return:\n",
    "```python\n",
    "{\"a\":[\"1\", \"3\", \"5\"], \"b\": [\"2\", \"4\", \"6\"]}\n",
    "```\n",
    "\n",
    "<div class=\"alert alert-block alert-info\">\n",
    "    Hints:\n",
    "    <ul>\n",
    "        <li>\n",
    "            To facilitate your solution, all list of the dictionary should be lists of <code>str</code>. This is because\n",
    "            <code>csv.reader</code> reads each column as string by default.\n",
    "        </li>\n",
    "        <li>\n",
    "            Calling <code>next(csv_reader)</code> immediately after you have created the <code>csv.reader</code> object `csv_reader` returns the header to the file and advances the reader to the first data row.\n",
    "        </li>\n",
    "        <li>\n",
    "            Consider the function <code>itertools.zip_longest</code>.\n",
    "        </li>\n",
    "        <li>\n",
    "            You recive the file to test as the first argument, <code>f</code> of the function skeleton <code>solution_exercise1</code> below.\n",
    "        </li>\n",
    "    </ul>\n",
    "</div>\n",
    "\n",
    "\n",
    "\n",
    "\n"
   ]
  },
  {
   "cell_type": "markdown",
   "metadata": {},
   "source": [
    "with this program, we write a `csv` file with three columns named `this`, `is` and `data` and with the following entries:\n",
    "`i, i+1, i+2` where `i` ranges from 0 to 9."
   ]
  },
  {
   "cell_type": "code",
   "execution_count": null,
   "metadata": {
    "tags": []
   },
   "outputs": [],
   "source": [
    "%%ipytest input_output\n",
    "import pathlib as pl\n",
    "def solution_exercise1(f: pl.Path) -> \"dict[str, list[str]]\":\n",
    "    \"\"\"\n",
    "    Write your solution here. \n",
    "    f is the path to the file to read from\n",
    "    \"\"\"\n",
    "    pass"
   ]
  },
  {
   "cell_type": "markdown",
   "metadata": {},
   "source": [
    "### Exercise 2: Counting words 🌶️\n",
    "Write a function  to read all the lines from [`lines.txt`](./tutorial/tests/data/lines.txt) and count the number of words in the file. The solution should be a single number.\n",
    "\n",
    "For example, for the file\n",
    "```\n",
    "this \n",
    "file \n",
    "has \n",
    "five\n",
    "lines\n",
    "```\n",
    "the result should be `5`. \n",
    "\n",
    "<div class=\"alert alert-block alert-info\">\n",
    "    Hints:\n",
    "    <ul>\n",
    "        <li>\n",
    "          The file is available as the input <code>f</code> of <code>solution_exercise2</code>.\n",
    "        </li>\n",
    "    </ul>\n",
    "</div>\n",
    "\n",
    "\n"
   ]
  },
  {
   "cell_type": "code",
   "execution_count": null,
   "metadata": {
    "tags": []
   },
   "outputs": [],
   "source": [
    "%%ipytest input_output\n",
    "import pathlib as pl\n",
    "def solution_exercise2(f: pl.Path) -> int:\n",
    "    \"\"\"\n",
    "    Write your solution here. \n",
    "    f is the path to the file to read from\n",
    "    \"\"\"\n",
    "    pass"
   ]
  },
  {
   "cell_type": "markdown",
   "metadata": {},
   "source": [
    " \n",
    "### Exercise 3: Letter statistics 🌶️🌶️\n",
    "Write a function that reads all the lines from [`lines.txt`](./data/lines.txt) and outputs a table of statistics in this form:\n",
    "- An **alphabetically sorted** dictionary with `letter: count` for each letter in the words, for example `{a: 5}` means that the letter `a` appeared five times in this file.\n",
    "\n",
    "\n",
    "\n",
    "<div class=\"alert alert-block alert-info\">\n",
    "    Hints:\n",
    "    <ul>\n",
    "        <li>\n",
    "          The file is available as the input <code>f</code> of <code>solution_exercise3</code>.\n",
    "        </li>\n",
    "        <li>\n",
    "            You can use functions from <code>itertools</code> to group your strings by letters and to combine all lines in the file in a single string.\n",
    "    Consider <code>chain</code> and <code>groupby</code>. Be careful that <code>groupby</code> requires the input iterable to be sorted. You can do this by using the <code>sorted</code> function.\n",
    "        </li>\n",
    "        <li>\n",
    "            to verify if a character is a letter, you can use the <code>isalpha</code> method.\n",
    "    <code>'a'.isalpha()</code>\n",
    "        </li>\n",
    "    </ul>\n",
    "</div>"
   ]
  },
  {
   "cell_type": "code",
   "execution_count": null,
   "metadata": {},
   "outputs": [],
   "source": [
    "%%ipytest input_output\n",
    "import pathlib as pl\n",
    "def solution_exercise3(f: pl.Path) -> \"dict[str, int]\":\n",
    "    pass"
   ]
  },
  {
   "cell_type": "markdown",
   "metadata": {},
   "source": [
    "### Exercise 4: Translating words 🌶️🌶️\n",
    "Write a function which takes the words from the `english.csv` and translates them to italian using the dictionary file `dict.csv`. The output should be a list of tuples with the pair `italian, english` if the word is found and nothing otherwise.\n",
    "For example, given the `english.csv` file:\n",
    "\n",
    "```\n",
    "bread\n",
    "cat\n",
    "```\n",
    "\n",
    "and the `dict.csv` file:\n",
    "\n",
    "```\n",
    "120, pane, bread\n",
    "121 sole, sun\n",
    "```\n",
    "\n",
    "the result should be:\n",
    "\n",
    "`[(bread, pane), ]`\n",
    "\n",
    "\n",
    "<div class=\"alert alert-block alert-info\">\n",
    "    Hints:\n",
    "    <ul>\n",
    "        <li>\n",
    "            Try to avoid loading the dictionary more than once. Consider that we used the expression <i>dictionary file</i>, this should suggest the correct Python data structure to use to store the translations.\n",
    "        </li>\n",
    "        <li>\n",
    "            The path to the input file <code>english.csv</code> is available as the argument <code>english</code> of the function <code>solution_exercise4</code>, the file <code>dict.csv</code> as the argument <code>dictionary</code>\n",
    "        </li>\n",
    "    </ul>\n",
    "<div>\n"
   ]
  },
  {
   "cell_type": "code",
   "execution_count": null,
   "metadata": {},
   "outputs": [],
   "source": [
    "%%ipytest input_output\n",
    "import pathlib as pl\n",
    "def solution_exercise4(english: pl.Path, dictionary: pl.Path) -> \"list[(str, str)]\":\n",
    "    \"\"\"\n",
    "    Write your solution here\n",
    "    \"\"\"\n",
    "    pass"
   ]
  },
  {
   "cell_type": "markdown",
   "metadata": {},
   "source": [
    "### Exercise 5: Binary format 🌶️🌶️🌶️\n",
    "The file `super_secret.dat` contains a secret message. We know that the message is stored in binary format as a sequence of bytes. The message starts with the byte sequence `b'\\xff\\xee\\xdd\\xcc\\xbb\\xaa'` and finishes with `b'\\xaa\\xbb\\xcc\\xdd\\xee\\xff'`. \n",
    "Write a function that reads the file and returns **only** the secret message as a string.\n",
    "\n",
    "\n",
    "<div class=\"alert alert-block alert-info\">\n",
    "    <ul>\n",
    "        <li>\n",
    "        The path to the input file is available as the argument <code>secret_file</code> of the function <code>solution_exercise5</code>\n",
    "        </li>\n",
    "        <li>\n",
    "            every <code>bytes</code> object has the <code>decode</code>. For example, \n",
    "            <code>b\"\\xbb\\xcc\\xdd\\xee\\xff\".decode()</code>\n",
    "        </li>\n",
    "    </ul>\n",
    "\n",
    "</div>"
   ]
  },
  {
   "cell_type": "code",
   "execution_count": null,
   "metadata": {
    "tags": []
   },
   "outputs": [],
   "source": [
    "int.to_bytes(3).decode(\"utf-8\")"
   ]
  },
  {
   "cell_type": "code",
   "execution_count": null,
   "metadata": {},
   "outputs": [],
   "source": [
    "%%ipytest input_output\n",
    "import pathlib as pl\n",
    "def solution_exercise5(secret_file: pl.Path) -> str:\n",
    "    \"\"\"\n",
    "    Write your solution here\n",
    "    \"\"\"\n",
    "    pass"
   ]
  }
 ],
 "metadata": {
  "celltoolbar": "Slideshow",
  "kernelspec": {
   "display_name": "Python 3 (ipykernel)",
   "language": "python",
   "name": "python3"
  },
  "language_info": {
   "codemirror_mode": {
    "name": "ipython",
    "version": 3
   },
   "file_extension": ".py",
   "mimetype": "text/x-python",
   "name": "python",
   "nbconvert_exporter": "python",
   "pygments_lexer": "ipython3",
   "version": "3.11.0"
  },
  "vscode": {
   "interpreter": {
    "hash": "916dbcbb3f70747c44a77c7bcd40155683ae19c65e1c03b4aa3499c5328201f1"
   }
  }
 },
 "nbformat": 4,
 "nbformat_minor": 4
}
