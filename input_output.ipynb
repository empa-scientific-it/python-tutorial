{
 "cells": [
  {
   "cell_type": "code",
   "execution_count": 2,
   "metadata": {},
   "outputs": [
    {
     "name": "stdout",
     "output_type": "stream",
     "text": [
      "The tutorial.tests.testsuite extension is already loaded. To reload it, use:\n",
      "  %reload_ext tutorial.tests.testsuite\n"
     ]
    }
   ],
   "source": [
    "%load_ext tutorial.tests.testsuite"
   ]
  },
  {
   "cell_type": "markdown",
   "metadata": {},
   "source": [
    "# Input and output in Python"
   ]
  },
  {
   "cell_type": "markdown",
   "metadata": {
    "slideshow": {
     "slide_type": "slide"
    }
   },
   "source": [
    "## Input and output\n",
    "\n",
    "A program is useless without *interaction* with the outside world:"
   ]
  },
  {
   "cell_type": "markdown",
   "metadata": {
    "slideshow": {
     "slide_type": "subslide"
    }
   },
   "source": [
    "We need:\n",
    "\n",
    "- Showing text to the user\n",
    "- Asking for user input\n",
    "- Accessing the file system\n",
    "- Reading files\n",
    "- Writing files\n",
    "- Connecting to networks\n",
    "\n",
    "and much more."
   ]
  },
  {
   "cell_type": "markdown",
   "metadata": {
    "slideshow": {
     "slide_type": "slide"
    }
   },
   "source": [
    "## User output\n",
    "\n",
    "To output text to the python console, we can use the `print` function.\n"
   ]
  },
  {
   "cell_type": "code",
   "execution_count": null,
   "metadata": {
    "slideshow": {
     "slide_type": "subslide"
    }
   },
   "outputs": [],
   "source": [
    "print(\"a\")"
   ]
  },
  {
   "cell_type": "markdown",
   "metadata": {
    "slideshow": {
     "slide_type": "fragment"
    }
   },
   "source": [
    "If we want to insert a variable in a string to print, we can use *f-strings*:\n",
    "\n",
    "- We prepend `f` to the string\n",
    "- We reference the variable in the string using `{name_of_variable}`"
   ]
  },
  {
   "cell_type": "code",
   "execution_count": null,
   "metadata": {
    "slideshow": {
     "slide_type": "fragment"
    }
   },
   "outputs": [],
   "source": [
    "x = 4\n",
    "print(f\"x is {x}\")"
   ]
  },
  {
   "cell_type": "markdown",
   "metadata": {
    "slideshow": {
     "slide_type": "slide"
    }
   },
   "source": [
    "## Asking for user input \n",
    "If we want to get text input from the console, we use the `input` function.\n",
    "\n",
    "⚠️ `input` is a *blocking* function. It stops the execution of the program until the input is available. *Do not* use it in the middle of a computation\n"
   ]
  },
  {
   "cell_type": "code",
   "execution_count": 3,
   "metadata": {
    "slideshow": {
     "slide_type": "subslide"
    }
   },
   "outputs": [
    {
     "name": "stdout",
     "output_type": "stream",
     "text": [
      "Enter your name\n",
      "Carlone\n",
      "Hello, Carlone\n"
     ]
    }
   ],
   "source": [
    "print(\"Enter your name\")\n",
    "name = input()\n",
    "print(f\"Hello, {name}\")"
   ]
  },
  {
   "cell_type": "markdown",
   "metadata": {
    "slideshow": {
     "slide_type": "slide"
    }
   },
   "source": [
    "## Accessing the filesystem\n",
    "\n",
    "To find and access files in the filesystem, we use the `pathlib` module. This allows us to represent paths to files in a system-independent manner."
   ]
  },
  {
   "cell_type": "code",
   "execution_count": 4,
   "metadata": {
    "slideshow": {
     "slide_type": "subslide"
    }
   },
   "outputs": [],
   "source": [
    "import pathlib as pl\n",
    "# Here we define a path to the current directory\n",
    "my_path = pl.Path(\"./\")"
   ]
  },
  {
   "cell_type": "code",
   "execution_count": 5,
   "metadata": {
    "slideshow": {
     "slide_type": "subslide"
    }
   },
   "outputs": [],
   "source": [
    "# We can find all files in `my_path` using `glob`. The \"*\" is a pattern which means find all files. \n",
    "\n",
    "\n",
    "all_my_files = my_path.glob(\"*\")"
   ]
  },
  {
   "cell_type": "code",
   "execution_count": 7,
   "metadata": {
    "slideshow": {
     "slide_type": "fragment"
    }
   },
   "outputs": [
    {
     "name": "stdout",
     "output_type": "stream",
     "text": [
      "[PosixPath('tutorial'), PosixPath('index.ipynb'), PosixPath('.git'), PosixPath('FAQ.md'), PosixPath('.gitignore'), PosixPath('intro.ipynb'), PosixPath('README.md'), PosixPath('.vscode'), PosixPath('input_output_solutions.py'), PosixPath('functional_programming.html'), PosixPath('pytest.ini'), PosixPath('functional_programming.slides.html'), PosixPath('.ipynb_checkpoints'), PosixPath('magic_example.ipynb'), PosixPath('LICENSE'), PosixPath('.pytest_cache'), PosixPath('data'), PosixPath('.pre-commit-config.yaml'), PosixPath('tests'), PosixPath('utils'), PosixPath('input_output.ipynb'), PosixPath('environment.yml')]\n"
     ]
    }
   ],
   "source": [
    "print(list(all_my_files))"
   ]
  },
  {
   "cell_type": "markdown",
   "metadata": {},
   "source": [
    "## References\n",
    "- [input and output tutorial](https://docs.python.org/3/tutorial/inputoutput.html) from the official python tutorial.\n",
    "- [Is explicitly closing files important?](https://stackoverflow.com/questions/7395542/is-explicitly-closing-files-important)\n",
    "- [context managers](https://docs.python.org/3/library/contextlib.html) from the python standard library\n",
    "\n",
    "## Introduction\n",
    "An important aspect to learn in a new programming language is input/output (or I/O). For our program to be useful, we need to be able to interact with the outside world. This means performing operartions like:\n",
    "- reading and writing data to a file\n",
    "- printing text output\n",
    "- asking for user input\n",
    "- connecting to databases or other network services\n",
    "\n",
    "\n",
    "The majority of these operations are covered by the python standard library. We are going to see how to use them in this chapter.\n",
    "\n",
    "\n",
    "⚠️ In reference to the chapter on functional programming, it is interesting to note that these functions perform so-called *side-effects*; therefore any code containing these operations is no longer *pure* and is not referentially transparent. The same function can return different values for the same argument if called multiple time and the function can have *long-distance* effects, that is it can modify the state of the program somewhere else leading to unexpected results. Therefore, I always suggest trying to separate input and output from the other computations in your program. For example, if you have a complex calculation requring several user inputs at several stages of the process, consider writing a function that only performs the calculation given all inputs and then require all inputs separately, for example through a single file. This makes your code easier to debug, test and understand.\n",
    "\n",
    "\n",
    "\n",
    "\n",
    "\n",
    "## String input and output \n",
    "The most basic I/O operation in python is displaying text on the python console. This is done using the `print` function:"
   ]
  },
  {
   "cell_type": "code",
   "execution_count": 1,
   "metadata": {},
   "outputs": [
    {
     "name": "stdout",
     "output_type": "stream",
     "text": [
      "I am some text\n"
     ]
    }
   ],
   "source": [
    "print(\"I am some text\")"
   ]
  },
  {
   "cell_type": "markdown",
   "metadata": {},
   "source": [
    "The complemenentary operation, prompting for *user input* is done through `input`.\n",
    "The function takes one string as argument, which gives the prompt displayed on the console. The return value of the function contains the input the user types:"
   ]
  },
  {
   "cell_type": "code",
   "execution_count": 3,
   "metadata": {},
   "outputs": [
    {
     "name": "stdout",
     "output_type": "stream",
     "text": [
      "The user wrote fasdf\n"
     ]
    }
   ],
   "source": [
    "user_input = input(\"Write some text\")\n",
    "print(f\"The user wrote {user_input}\")"
   ]
  },
  {
   "cell_type": "markdown",
   "metadata": {},
   "source": [
    "\n",
    "<div class=\"alert alert-block alert-info\">\n",
    "⚠️ Note that `input` is a **blocking operation**. The program evaluation stops and waits until the user provides an input. Therefore, use `input` **very carefully* and only when truly necessary. A common issue is that someone first writes an interactive program expecting user input through `input` and later integrates it into a larger application that is supposed to run automatically without any user interaction. Suddenly, the application stops somehwere and does not run further because of a well hidden `input` call...\n",
    "</div>\n",
    "\n",
    "If you really have to use it, do not do so in the middle of long-running computation or your model code but ask for all user inputs upfront. If you need to write an interactive applications however, there are other solutions that are more suitable."
   ]
  },
  {
   "cell_type": "markdown",
   "metadata": {},
   "source": [
    "## File I/O\n",
    "A second very common I/O operation in most programming languages is reading and writing from files. This is actually more complex than just writing on the console and consists of several steps:\n",
    "\n",
    "1. You need to find *where* in the operating system the file is located. This gives you the so-called *path* to the file\n",
    "2. You need to *open* the file for reading or writing. In some operationg systems, this *locks* the file, so that other users or processes cannot write simultaneously with you.\n",
    "3. Now , you can write (or read) the contents of the file \n",
    "4. Finally, you need to *close* the file to make it accessible to other processes again and to finalise the writing: in some implementations, `write` only writes the text to a temporary location in memory (a so-called *buffer*) and only writes the content to the file when you close it. This is done to increase response times, as writing to memory is faster than writing to a file on the disk.\n",
    "\n",
    "\n",
    "### Paths\n",
    "Regarding the *where* a a file is located, python offers the [pathlib] module which is used to represent paths to files in a portable manner. This means that you can use the same python code to represent the location of a file and python will convert it into the representation specific to the operating system you are working on. For example, windows uses `\\` as a separator for path elements, while unix/linux use `/`. If you use pathlib, you can write code using file paths that will automatically select the correct path separator.\n",
    "\n",
    "Let's see how to generate a `path` object pointing to the text file [`hello.txt`](/data/hello.txt) in the main directory of this repository. To do so, we use the [`Path`](https://docs.python.org/3/library/pathlib.html#basic-use) class of pathlib, which takes the location of the file as a string:\n",
    "\n"
   ]
  },
  {
   "cell_type": "code",
   "execution_count": 3,
   "metadata": {},
   "outputs": [
    {
     "name": "stdout",
     "output_type": "stream",
     "text": [
      "/home/basi/python-tutorial/data/hello.txt\n"
     ]
    }
   ],
   "source": [
    "import pathlib as pl\n",
    "\n",
    "path = pl.Path(\"./data/hello.txt\")\n"
   ]
  },
  {
   "cell_type": "markdown",
   "metadata": {},
   "source": [
    "The `./` at the beginning of the path means a *relative* path, which means a path that points to a file relative to the directory we are working in. \n",
    "\n",
    "The `path` object has a method `absolute` that returns the *absolute* full path of the object in the OS:"
   ]
  },
  {
   "cell_type": "code",
   "execution_count": 4,
   "metadata": {},
   "outputs": [
    {
     "name": "stdout",
     "output_type": "stream",
     "text": [
      "/home/basi/python-tutorial/data/hello.txt\n"
     ]
    }
   ],
   "source": [
    "print(path.absolute())"
   ]
  },
  {
   "cell_type": "markdown",
   "metadata": {},
   "source": [
    "If we prefer, we can also construct paths by combining their components with the `/` operator. For example, we can do:"
   ]
  },
  {
   "cell_type": "code",
   "execution_count": 10,
   "metadata": {},
   "outputs": [
    {
     "name": "stdout",
     "output_type": "stream",
     "text": [
      "/home/basi/python-tutorial/data\n"
     ]
    }
   ],
   "source": [
    "path = pl.Path(\"./\") / pl.Path(\"data\")\n",
    "print(path.absolute())\n"
   ]
  },
  {
   "cell_type": "markdown",
   "metadata": {},
   "source": [
    "We can also list all files matching a certain in a given directory using the `glob` method:"
   ]
  },
  {
   "cell_type": "code",
   "execution_count": 11,
   "metadata": {},
   "outputs": [
    {
     "data": {
      "text/plain": [
       "[PosixPath('data/example1.csv'),\n",
       " PosixPath('data/lines.txt'),\n",
       " PosixPath('data/me.txt'),\n",
       " PosixPath('data/secret_message.dat'),\n",
       " PosixPath('data/numbers.txt'),\n",
       " PosixPath('data/example.csv'),\n",
       " PosixPath('data/english.csv'),\n",
       " PosixPath('data/hello.txt'),\n",
       " PosixPath('data/dict.csv'),\n",
       " PosixPath('data/output.txt')]"
      ]
     },
     "execution_count": 11,
     "metadata": {},
     "output_type": "execute_result"
    }
   ],
   "source": [
    "[f for f in path.glob(\"*\")]"
   ]
  },
  {
   "cell_type": "markdown",
   "metadata": {},
   "source": [
    "\n",
    "\n",
    "### Reading from a file\n",
    "\n",
    "Let's see how to do this with an example: we want to open the file [hello.txt](./data/hello.txt) and read its contents.\n",
    "\n",
    "1. The path is already identified, we know the file is in `./data/hello.txt`. We save this in a variable `path`\n",
    "2. We now can use the built-in function [`open`](https://docs.python.org/3/library/functions.html#open) to open the file. This function returns a [file object](https://docs.python.org/3/glossary.html#term-file-object) that we can use to further manipulate the file. To ensure we only open the file for reading, we pass the string \"r\" to the second argument of `open`.\n",
    "3. Now we can read the contents using `read`, `readline` or `readlines`. `read` only reads `n` characters from the file, `readline` reads a whole line, while `readlines` reads the whole file content as a list of strings, one item per line in the file. This knowledge is useful when we only want to read part of a file or when the file is too big to fit in memory and we can only read parts.\n",
    "4. Finally, we close the file using the `close` method on the file object.\n",
    "\n",
    "\n"
   ]
  },
  {
   "cell_type": "code",
   "execution_count": 4,
   "metadata": {},
   "outputs": [
    {
     "name": "stdout",
     "output_type": "stream",
     "text": [
      "['Hello, I am a file with some text.\\n']\n"
     ]
    }
   ],
   "source": [
    "path = \"./data/hello.txt\"\n",
    "file_ob = open(path, 'r')\n",
    "contents = file_ob.readlines()\n",
    "file_ob.close()\n",
    "print(contents)"
   ]
  },
  {
   "cell_type": "markdown",
   "metadata": {},
   "source": [
    "Notice that calling `read`, `readline` or `readlines` *consumes* the file, either fully or to the corresponding location. This means that if we call `readlines` twice, we will get an empty list the second time:"
   ]
  },
  {
   "cell_type": "code",
   "execution_count": 20,
   "metadata": {},
   "outputs": [
    {
     "name": "stdout",
     "output_type": "stream",
     "text": [
      "['Hello, I am a file with some text.\\n']\n",
      "[]\n"
     ]
    }
   ],
   "source": [
    "path = \"./data/hello.txt\"\n",
    "file_ob = open(path, 'r')\n",
    "contents = file_ob.readlines()\n",
    "print(contents)\n",
    "other_contents = file_ob.readlines()\n",
    "print(other_contents)\n",
    "file_ob.close()\n"
   ]
  },
  {
   "cell_type": "markdown",
   "metadata": {},
   "source": [
    "We can use this to read a file line-by-line by just iterating over the file using a `for` loop or a list compherension. The `file` object implements the [iterator](https://docs.python.org/3/glossary.html#term-iterator) protocol:"
   ]
  },
  {
   "cell_type": "code",
   "execution_count": 26,
   "metadata": {},
   "outputs": [
    {
     "name": "stdout",
     "output_type": "stream",
     "text": [
      "this\n",
      "\n",
      "file\n",
      "\n",
      "has multiple\n",
      "\n",
      "lines\n",
      "\n",
      "how many\n",
      "\n",
      "lines\n",
      "\n",
      "does this file\n",
      "\n",
      "have?\n"
     ]
    }
   ],
   "source": [
    "path = './data/lines.txt'\n",
    "file_ob = open(path, 'r')\n",
    "for line in file_ob:\n",
    "    print(line)\n",
    "file_ob.close()"
   ]
  },
  {
   "cell_type": "markdown",
   "metadata": {},
   "source": [
    "This is the most *pythonic* way to read a file line-by-line instead of reading the full contents at once."
   ]
  },
  {
   "cell_type": "markdown",
   "metadata": {},
   "source": [
    "### Writing to a file\n",
    "The process to write data to a file is very similar, the main difference being that:\n",
    "- We use `w` as a second argument of `open` to specify that we want to write to the file. If the file already exists, it will be erased before we write something else to it. If you want to append to the file, you should use `a` instead.\n",
    "- We use `write` to write a *string* to the file. Other types of object should be converted to string before being written.\n",
    "\n",
    "Let's see this in action by writing your name in a file called `me.txt` in [data](./data/)"
   ]
  },
  {
   "cell_type": "code",
   "execution_count": 5,
   "metadata": {},
   "outputs": [],
   "source": [
    "path = \"./data/me.txt\"\n",
    "file_ob = open(path, \"w\")\n",
    "file_ob.write(\"Simone\")\n",
    "file_ob.close()"
   ]
  },
  {
   "cell_type": "markdown",
   "metadata": {},
   "source": [
    "Congratulations! Your name is now written in stone. \n",
    "\n",
    "If we want to write the contents of an *iterable* to a file, we can use the `writelines` method:"
   ]
  },
  {
   "cell_type": "code",
   "execution_count": 28,
   "metadata": {},
   "outputs": [],
   "source": [
    "path = \"./data/numbers.txt\"\n",
    "file_ob = open(path, \"w\")\n",
    "file_ob.writelines([str(i) + \"\\n\" for i in range(10)])\n",
    "file_ob.close()"
   ]
  },
  {
   "cell_type": "markdown",
   "metadata": {},
   "source": [
    "Notice that for each line, we concatenate the `newline` `\\n` symbol to the string to be written to write the text to a new line.\n"
   ]
  },
  {
   "cell_type": "markdown",
   "metadata": {},
   "source": [
    "\n",
    "\n",
    "### Context managers\n",
    "As you can see, after *opening* and performing operations on a file, we always have to remember to *close* it. If we forget to close it, unexpected behavior can happen. If the program crashes later on, for example, we might have the situation where the text is not written to the file. If you open many files and you don't close them, the python intepreter can run out of memory. On some operating systems, the file contents are only updated after closing, etc ...\n",
    "\n",
    "This pattern is very common dealing with many *resources*: files, connections, threads, servers, etc...  You acquire the access to the resource, do some work on it and finally you clean up after yourself by closing it again. Because of this, python offers a construct called [*context manager*](https://docs.python.org/3/reference/datamodel.html#context-managers) which implements exactly this beahvior:\n",
    "- get access to a resource\n",
    "- Do some work\n",
    "- release this resource \n",
    "\n",
    "In the case of files, we can replace the open-read-close or open-write-close sequence  with a context manager. Context managers are used inside  the `with` statement:"
   ]
  },
  {
   "cell_type": "code",
   "execution_count": 17,
   "metadata": {},
   "outputs": [
    {
     "name": "stdout",
     "output_type": "stream",
     "text": [
      "['Hello, I am a file with some text.\\n']\n"
     ]
    }
   ],
   "source": [
    "with open(\"./data/hello.txt\", \"r\") as file_ob: \n",
    "    contents = file_ob.readlines()\n",
    "    print(contents)"
   ]
  },
  {
   "cell_type": "markdown",
   "metadata": {},
   "source": [
    "`with open(path) as name` opens the file in `path` and assigns it to the `name` file object. This object is only valid in the *scope* of the context manager, that is the indented block of code that follows the `:`. Once the python interpreter leaves the context manager, `file_ob.close()` is automatically called, ensuring the file is properly closed no matter what happens.\n",
    "\n",
    "This pattern can be extended to any other resource that should be managed in a similar way,  for example database connections. If you want to learn how to implement context managers for other types of objects, please refer to the `contextlib` [documentation](https://docs.python.org/3/library/contextlib.html) in the python standard library."
   ]
  },
  {
   "cell_type": "markdown",
   "metadata": {},
   "source": [
    "### Binary I/O\n",
    "\n",
    "Another aspect of file I/O is accessing files in [*binary mode*](https://docs.python.org/3/library/io.html#binary-i-o); that means that instead of writing and reading *text*, we manipulate `bytes` in order to represent non-textual data. This is useful for interacting with measurement data and other non-textual information like images, machine learning model parameters and other complex strcuture, although in most cases you won't need the low-level control of binary I/O and will use libraries instead. \n",
    "\n",
    "To look at an example, let's write a sequence of `int` to `output.dat`[^1]  as a  sequence of bytes. Because one byte corresponds to 8 bits, using one byte per integer means we can unambigously store `2^8= =256` values.\n",
    "\n",
    "\n",
    "[^1]: `.dat` is a typical \"generic\" extension to indicate that the file contains some sort of data. Filename extensions does not have any binding meaning by themselves, they are simply a convention for users to quickly see what contents to expect."
   ]
  },
  {
   "cell_type": "code",
   "execution_count": 20,
   "metadata": {},
   "outputs": [
    {
     "name": "stdout",
     "output_type": "stream",
     "text": [
      "b'\\x00\\x01\\x02\\x03\\x04\\x05\\x06\\x07\\x08\\t'\n"
     ]
    }
   ],
   "source": [
    "with open(\"data/output.txt\", \"wb\") as out_file:\n",
    "    bs = b\"\".join([i.to_bytes(1, 'little') for i in  range(10)])\n",
    "    print(bs)\n",
    "    out_file.write(bs)"
   ]
  },
  {
   "cell_type": "markdown",
   "metadata": {},
   "source": [
    "note that we used the mode `wb` for `write, binary`. The `write` function expects a [`bytes`](https://docs.python.org/3/library/stdtypes.html#bytes) object. Because of the historical connection between bytes and strings, we can produce a  bytes object by prepending `b` to a string literal. Therefore, we generate an array of bytes using [`to_bytes`](https://docs.python.org/3/library/stdtypes.html#int.to_bytes) and combine them with the [`join`](https://docs.python.org/3/library/stdtypes.html#str.join) method on the empty byte literal `b\"\"`.\n",
    "\n",
    "Now that we wrote out our sequence, we can try to read it back from the file:"
   ]
  },
  {
   "cell_type": "code",
   "execution_count": 35,
   "metadata": {},
   "outputs": [
    {
     "name": "stdout",
     "output_type": "stream",
     "text": [
      "[0, 1, 2, 3, 4, 5, 6, 7, 8, 9]\n"
     ]
    }
   ],
   "source": [
    "with open(\"data/output.txt\", \"rb\") as in_file:\n",
    "    data = in_file.read()\n",
    "    seq = [b for b in data]\n",
    "    print(seq)"
   ]
  },
  {
   "cell_type": "markdown",
   "metadata": {},
   "source": [
    "And, surprise! We obtain our original sequence.\n",
    "\n",
    "Note that because of quirk of python, the `read` method returns a `bytes` object, but when we try to access a single element (as we would do with a string), the entry is already an `int`.\n",
    "\n",
    "\n",
    "#### Converting to text\n"
   ]
  },
  {
   "cell_type": "code",
   "execution_count": 1,
   "metadata": {},
   "outputs": [
    {
     "data": {
      "text/plain": [
       "<function str.index>"
      ]
     },
     "execution_count": 1,
     "metadata": {},
     "output_type": "execute_result"
    }
   ],
   "source": [
    "\"a\".index()"
   ]
  },
  {
   "cell_type": "markdown",
   "metadata": {},
   "source": [
    "### Reading/Writing CSV\n",
    "If you ever worked with tabular data, you surely encountered CSV (comma separated values) files. These files are used to store table in text format row by row: each row is separated by a new line and the columns inside a row are separated by commas `,` or by semicolumns `;`. The first line in the file usually contains the header giving the names of the columns:\n",
    "\n",
    "```\n",
    "first_column,second_column\n",
    "1,2\n",
    "2,3\n",
    "```\n",
    "\n",
    "As CSV is a very common to exchange tabular data such as statistics and time series, the python standard library offers facilities to read and write CSV files[^3] through the [csv](https://docs.python.org/3/library/csv.html) module. Despite this, today most people prefer using [pandas](https://pandas.pydata.org/) or [polars](https://www.pola.rs/) to manipulate tabular data because they offer more conveinence and faster handling of large datasets. These packages are outside of the scope of this tutorial and will not be handled here.\n",
    "\n",
    "\n",
    "Let's see how to read csv files using `csv` with an example by reading [example.csv](./data/example.csv):\n",
    "\n",
    "\n",
    "\n",
    "\n"
   ]
  },
  {
   "cell_type": "code",
   "execution_count": 39,
   "metadata": {},
   "outputs": [
    {
     "name": "stdout",
     "output_type": "stream",
     "text": [
      "['1', '2', ' some']\n",
      "['3', '4', ' numbers']\n",
      "['5', '6', ' here']\n"
     ]
    }
   ],
   "source": [
    "import csv\n",
    "\n",
    "with open(\"data/example.csv\") as input_file:\n",
    "    reader = csv.reader(input_file)\n",
    "    #Get the header\n",
    "    header = next(reader)\n",
    "    #Iterate over lines\n",
    "    for line in reader:\n",
    "        print(line)\n"
   ]
  },
  {
   "cell_type": "markdown",
   "metadata": {},
   "source": [
    "Similarly, you can use the CSV module to write a CSV using the [`writer`](https://docs.python.org/3/library/csv.html#csv.writer) class. The `writer` object has `writerow` method which takes an `iterable` of values to write as the current row"
   ]
  },
  {
   "cell_type": "code",
   "execution_count": 3,
   "metadata": {},
   "outputs": [],
   "source": [
    "import csv\n",
    "\n",
    "with open(\"data/example1.csv\", \"w\") as output_file:\n",
    "    writer = csv.writer(output_file)\n",
    "    #Get the header\n",
    "    writer.writerow([\"this\", \"is\", \"data\"])\n",
    "    #Iterate over lines\n",
    "    [writer.writerow((i, i+1, i+2)) for i in range(10)]\n",
    "        "
   ]
  },
  {
   "cell_type": "markdown",
   "metadata": {},
   "source": [
    "what we did with this code is write a csv file with three columns named `this`, `is` and `data` and with the following entries:\n",
    "`i, i+1, i+2` where `i` ranges from 0 to 9."
   ]
  },
  {
   "cell_type": "markdown",
   "metadata": {},
   "source": [
    "## Exercises\n",
    "\n",
    "\n",
    "### Exercise 1: CSV to dictionary 🌶️\n",
    "Write a function that reads a CSV from the file [example](./data/example.csv) and returns a `dict` (dictionary) where the keys are the column names and the values are the list of values.\n",
    "If the file contains the following lines:\n",
    "```\n",
    "a, b\n",
    "1, 2\n",
    "3, 4\n",
    "5, 6\n",
    "```\n",
    "this function should return:\n",
    "```python\n",
    "{\"a\":[\"1\", \"3\", \"5\"], \"b\": [\"2\", \"4\", \"6\"]}\n",
    "```\n",
    "\n",
    "<div class=\"alert alert-block alert-info\">\n",
    "    <b>Hint:</b> To facilitate your solution, all list of the dictionary should be lists of `str`. This is because\n",
    "    `csv.reader` reads each column as string by default\n",
    "</div>\n",
    "\n",
    "\n",
    "You recive the file to test as the first argument, `f` of the function skeleton `solution_exercise1` below:"
   ]
  },
  {
   "cell_type": "code",
   "execution_count": 2,
   "metadata": {},
   "outputs": [
    {
     "data": {
      "text/html": [
       "<div class=\"alert alert-box alert-success\"><h4>Tests <strong>PASSED</strong> for the function <code>exercise1</code></h4>&#x1F64C Congratulations, your solution was correct!</div>"
      ],
      "text/plain": [
       "<IPython.core.display.HTML object>"
      ]
     },
     "metadata": {},
     "output_type": "display_data"
    }
   ],
   "source": [
    "%%ipytest input_output\n",
    "import pathlib as pl\n",
    "def solution_exercise1(f: pl.Path) -> \"dict[str, list[str]]\":\n",
    "    \"\"\"\n",
    "    Write your solution here. \n",
    "    f is the path to the file to read from\n",
    "    \"\"\"\n",
    "\n",
    "    "
   ]
  },
  {
   "cell_type": "markdown",
   "metadata": {},
   "source": [
    "### Exercise 2: Counting words 🌶️\n",
    "Write a function  to read all the lines from [`lines.txt`](./data/lines.txt) and count the number of words in the file. The solution should be a single number.\n",
    "For example, for the file\n",
    "```\n",
    "this \n",
    "file \n",
    "has \n",
    "three\n",
    "lines\n",
    "```\n",
    "the result should be `4`. The file is available as the input `f` of `solution_exercise2`."
   ]
  },
  {
   "cell_type": "code",
   "execution_count": 3,
   "metadata": {},
   "outputs": [
    {
     "name": "stdout",
     "output_type": "stream",
     "text": [
      "\u001b[31mF\u001b[0m\u001b[31m                                                                        [100%]\u001b[0m\n",
      "=================================== FAILURES ===================================\n",
      "\u001b[31m\u001b[1m______________________ test_exercise2[solution_exercise2] ______________________\u001b[0m\n",
      "\u001b[1m\u001b[31mtutorial/tests/test_input_output.py\u001b[0m:26: in test_exercise2\n",
      "    \u001b[94massert\u001b[39;49;00m function_to_test(f) == reference_solution_exercise2(f)\u001b[90m\u001b[39;49;00m\n",
      "\u001b[1m\u001b[31mE   AssertionError: assert 5 == 4\u001b[0m\n",
      "\u001b[1m\u001b[31mE    +  where 5 = <function solution_exercise2 at 0x7f0c969cd080>(PosixPath('data/example.csv'))\u001b[0m\n",
      "\u001b[1m\u001b[31mE    +  and   4 = reference_solution_exercise2(PosixPath('data/example.csv'))\u001b[0m\n",
      "\u001b[36m\u001b[1m=========================== short test summary info ============================\u001b[0m\n",
      "\u001b[31mFAILED\u001b[0m tutorial/tests/test_input_output.py::\u001b[1mtest_exercise2[solution_exercise2]\u001b[0m - AssertionError: assert 5 == 4\n",
      "\u001b[31m\u001b[31m\u001b[1m1 failed\u001b[0m\u001b[31m in 0.03s\u001b[0m\u001b[0m\n",
      "\n"
     ]
    },
    {
     "data": {
      "text/html": [
       "<div class=\"alert alert-box alert-danger\"><h4>Tests <strong>FAILED</strong> for the function <code>exercise2</code></h4>&#x1F631 Your solution was not correct!</div>"
      ],
      "text/plain": [
       "<IPython.core.display.HTML object>"
      ]
     },
     "metadata": {},
     "output_type": "display_data"
    }
   ],
   "source": [
    "%%ipytest input_output\n",
    "import pathlib as pl\n",
    "def solution_exercise2(f: pl.Path) -> int:\n",
    "    \"\"\"\n",
    "    Write your solution here. \n",
    "    f is the path to the file to read from\n",
    "    \"\"\"\n",
    "    return 5\n"
   ]
  },
  {
   "cell_type": "markdown",
   "metadata": {},
   "source": [
    " \n",
    "### Letter statistics 🌶️🌶️\n",
    "Write a function that reads all the lines from [`lines.txt`](./data/lines.txt) and outputs a table of statistics in this form:\n",
    "- An **alphabetically sorted** dictionary with `letter: count` for each letter in the words, for example `{a: 5}` means that the letter `a` appeared five times in this file.\n",
    "\n",
    "\n",
    "\n",
    "<div class=\"alert alert-block alert-info\">\n",
    "    <b>Hint:</b> You can use functions from `itertools` to group your strings by letters and to combine all lines in the file in a single string.\n",
    "    Consider `chain` and `groupby`. Be careful that `groupby` requires the input iterable to be sorted. You can do this by using the `sorted` function.\n",
    "</div>\n",
    "\n",
    "<div class=\"alert alert-block alert-info\">\n",
    "    <b>Hint:</b> to identify if a character is a letter, you can use the `isalpha` method.\n",
    "    'a'.isalpha()\n",
    "</div>\n",
    "\n",
    "\n",
    "<div class=\"alert alert-block alert-info\">\n",
    "    <b>Hint:</b> the file `f` is available as the input of `solution_exercise3`\n",
    "</div>\n",
    "\n"
   ]
  },
  {
   "cell_type": "code",
   "execution_count": 4,
   "metadata": {},
   "outputs": [
    {
     "name": "stdout",
     "output_type": "stream",
     "text": [
      "\u001b[31mF\u001b[0m\u001b[31m                                                                        [100%]\u001b[0m\n",
      "=================================== FAILURES ===================================\n",
      "\u001b[31m\u001b[1m______________________ test_exercise3[solution_exercise3] ______________________\u001b[0m\n",
      "\u001b[1m\u001b[31mtutorial/tests/test_input_output.py\u001b[0m:36: in test_exercise3\n",
      "    \u001b[94massert\u001b[39;49;00m function_to_test(f) == reference_solution_exercise3(f)\u001b[90m\u001b[39;49;00m\n",
      "\u001b[1m\u001b[31mE   AssertionError: assert None == {'a': 3, 'd': 1, 'e': 7, 'f': 2, ...}\u001b[0m\n",
      "\u001b[1m\u001b[31mE    +  where None = <function solution_exercise3 at 0x7f17a970f920>(PosixPath('data/lines.txt'))\u001b[0m\n",
      "\u001b[1m\u001b[31mE    +  and   {'a': 3, 'd': 1, 'e': 7, 'f': 2, ...} = reference_solution_exercise3(PosixPath('data/lines.txt'))\u001b[0m\n",
      "----------------------------- Captured stdout call -----------------------------\n",
      "['this\\n', 'file\\n', 'has multiple\\n', 'lines\\n', 'how many\\n', 'lines\\n', 'does this file\\n', 'have?']\n",
      "\u001b[36m\u001b[1m=========================== short test summary info ============================\u001b[0m\n",
      "\u001b[31mFAILED\u001b[0m tutorial/tests/test_input_output.py::\u001b[1mtest_exercise3[solution_exercise3]\u001b[0m - AssertionError: assert None == {'a': 3, 'd': 1, 'e': 7, 'f': 2, ...}\n",
      "\u001b[31m\u001b[31m\u001b[1m1 failed\u001b[0m\u001b[31m in 0.00s\u001b[0m\u001b[0m\n",
      "\n"
     ]
    },
    {
     "data": {
      "text/html": [
       "<div class=\"alert alert-box alert-danger\"><h4>Tests <strong>FAILED</strong> for the function <code>exercise3</code></h4>&#x1F631 Your solution was not correct!</div>"
      ],
      "text/plain": [
       "<IPython.core.display.HTML object>"
      ]
     },
     "metadata": {},
     "output_type": "display_data"
    }
   ],
   "source": [
    "%%ipytest input_output\n",
    "import pathlib as pl\n",
    "def solution_exercise3(f: pl.Path) -> \"dict[str, int]\":\n",
    "    pass\n",
    "    "
   ]
  },
  {
   "cell_type": "markdown",
   "metadata": {},
   "source": [
    "### Exercise 4: Translating words 🌶️🌶️\n",
    "Write a function which takes the words from the `english.csv` and translates them to italian using the dictionary file `dict.csv`. The output should be a list of tuples with the pair `italian, english` if the word is found and and nothing otherwise.\n",
    "For example, given the `english.csv` file:\n",
    "\n",
    "```\n",
    "bread\n",
    "cat\n",
    "```\n",
    "\n",
    "and the `dict.csv` file:\n",
    "\n",
    "```\n",
    "120, pane, bread\n",
    "121 sole, sun\n",
    "```\n",
    "\n",
    "the result should be:\n",
    "\n",
    "`[(bread, pane), ]`\n",
    "\n",
    "\n",
    "<div class=\"alert alert-block alert-info\">\n",
    "    <b>Hint:</b> Try to avoid loading the dictionary more than once. Consider that I used the words **dictionary file**, this should suggest the correct python data structure to use to store the translations.\n",
    "    'a'.isalpha()\n",
    "</div>\n",
    "\n",
    "<div class=\"alert alert-block alert-info\">\n",
    "    <b>Hint:</b> The path to the input file `english.csv` is available as the argument `english` of the function `solution_exercise4`, the file `dict.csv` as the argument `dict`\n",
    "</div>"
   ]
  },
  {
   "cell_type": "code",
   "execution_count": 2,
   "metadata": {},
   "outputs": [
    {
     "name": "stdout",
     "output_type": "stream",
     "text": [
      "\u001b[31mF\u001b[0m\u001b[31m                                                                        [100%]\u001b[0m\n",
      "=================================== FAILURES ===================================\n",
      "\u001b[31m\u001b[1m______________________ test_exercise4[solution_exercise4] ______________________\u001b[0m\n",
      "\u001b[1m\u001b[31mtutorial/tests/test_input_output.py\u001b[0m:52: in test_exercise4\n",
      "    \u001b[94massert\u001b[39;49;00m function_to_test(words, dictionary) == reference_solution_exercise4(words, dictionary)\u001b[90m\u001b[39;49;00m\n",
      "\u001b[1m\u001b[31mE   AssertionError: assert None == [('the', 'il'), ('of', 'di'), ('to', 'a'), ('and', 'e'), ('a', 'un'), ('in', 'in'), ...]\u001b[0m\n",
      "\u001b[1m\u001b[31mE    +  where None = <function solution_exercise4 at 0x7f803c1d5580>(PosixPath('data/english.csv'), PosixPath('data/dict.csv'))\u001b[0m\n",
      "\u001b[1m\u001b[31mE    +  and   [('the', 'il'), ('of', 'di'), ('to', 'a'), ('and', 'e'), ('a', 'un'), ('in', 'in'), ...] = reference_solution_exercise4(PosixPath('data/english.csv'), PosixPath('data/dict.csv'))\u001b[0m\n",
      "\u001b[36m\u001b[1m=========================== short test summary info ============================\u001b[0m\n",
      "\u001b[31mFAILED\u001b[0m tutorial/tests/test_input_output.py::\u001b[1mtest_exercise4[solution_exercise4]\u001b[0m - AssertionError: assert None == [('the', 'il'), ('of', 'di'), ('to', 'a'), (...\n",
      "\u001b[31m\u001b[31m\u001b[1m1 failed\u001b[0m\u001b[31m in 0.04s\u001b[0m\u001b[0m\n",
      "\n"
     ]
    },
    {
     "data": {
      "text/html": [
       "<div class=\"alert alert-box alert-danger\"><h4>Tests <strong>FAILED</strong> for the function <code>exercise4</code></h4>&#x1F631 Your solution was not correct!</div>"
      ],
      "text/plain": [
       "<IPython.core.display.HTML object>"
      ]
     },
     "metadata": {},
     "output_type": "display_data"
    }
   ],
   "source": [
    "%%ipytest input_output\n",
    "import pathlib as pl\n",
    "def solution_exercise4(english: pl.Path, dictionary: pl.Path) -> \"list[(str, str)]\":\n",
    "    \"\"\"\n",
    "    Write your solution here\n",
    "    \"\"\"\n",
    "    pass"
   ]
  },
  {
   "cell_type": "markdown",
   "metadata": {},
   "source": [
    "### Exercise 5: Binary format 🌶️🌶️🌶️\n",
    "The file `super_secret.dat` contains a secret message. We know that the message is stored in binary format as a sequence of bytes. The message starts with the byte sequence `b'\\xff\\xee\\xdd\\xcc\\xbb\\xaa'` and finishes with `b'\\xaa\\xbb\\xcc\\xdd\\xee\\xff'`. \n",
    "Write a function that reads the file and returns **only** the secret message as a string.\n",
    "\n",
    "\n",
    "<div class=\"alert alert-block alert-info\">\n",
    "    <b>Hint:</b> The path to the input file is available as the argument `secret_file` of the function `solution_exercise5`\n",
    "</div>"
   ]
  },
  {
   "cell_type": "code",
   "execution_count": 2,
   "metadata": {},
   "outputs": [
    {
     "name": "stdout",
     "output_type": "stream",
     "text": [
      "\u001b[31mF\u001b[0m\u001b[31m                                                                        [100%]\u001b[0m\n",
      "=================================== FAILURES ===================================\n",
      "\u001b[31m\u001b[1m______________________ test_exercise5[solution_exercise5] ______________________\u001b[0m\n",
      "\u001b[1m\u001b[31mtutorial/tests/test_input_output.py\u001b[0m:62: in test_exercise5\n",
      "    \u001b[94massert\u001b[39;49;00m function_to_test(message) == reference_solution_exercise5(message)\u001b[90m\u001b[39;49;00m\n",
      "\u001b[1m\u001b[31mE   AssertionError: assert None == 'Congratulations, you found the secret message!'\u001b[0m\n",
      "\u001b[1m\u001b[31mE    +  where None = <function solution_exercise5 at 0x7f7340105580>(PosixPath('data/secret_message.dat'))\u001b[0m\n",
      "\u001b[1m\u001b[31mE    +  and   'Congratulations, you found the secret message!' = reference_solution_exercise5(PosixPath('data/secret_message.dat'))\u001b[0m\n",
      "\u001b[36m\u001b[1m=========================== short test summary info ============================\u001b[0m\n",
      "\u001b[31mFAILED\u001b[0m tutorial/tests/test_input_output.py::\u001b[1mtest_exercise5[solution_exercise5]\u001b[0m - AssertionError: assert None == 'Congratulations, you found the secret messa...\n",
      "\u001b[31m\u001b[31m\u001b[1m1 failed\u001b[0m\u001b[31m in 0.04s\u001b[0m\u001b[0m\n",
      "\n"
     ]
    },
    {
     "data": {
      "text/html": [
       "<div class=\"alert alert-box alert-danger\"><h4>Tests <strong>FAILED</strong> for the function <code>exercise5</code></h4>&#x1F631 Your solution was not correct!</div>"
      ],
      "text/plain": [
       "<IPython.core.display.HTML object>"
      ]
     },
     "metadata": {},
     "output_type": "display_data"
    }
   ],
   "source": [
    "%%ipytest input_output\n",
    "import pathlib as pl\n",
    "def solution_exercise5(secret_file: pl.Path) -> str:\n",
    "    \"\"\"\n",
    "    Write your solution here\n",
    "    \"\"\"\n",
    "    pass"
   ]
  },
  {
   "cell_type": "code",
   "execution_count": null,
   "metadata": {},
   "outputs": [],
   "source": []
  }
 ],
 "metadata": {
  "celltoolbar": "Slideshow",
  "kernelspec": {
   "display_name": "Python 3 (ipykernel)",
   "language": "python",
   "name": "python3"
  },
  "language_info": {
   "codemirror_mode": {
    "name": "ipython",
    "version": 3
   },
   "file_extension": ".py",
   "mimetype": "text/x-python",
   "name": "python",
   "nbconvert_exporter": "python",
   "pygments_lexer": "ipython3",
   "version": "3.11.3"
  },
  "vscode": {
   "interpreter": {
    "hash": "916dbcbb3f70747c44a77c7bcd40155683ae19c65e1c03b4aa3499c5328201f1"
   }
  }
 },
 "nbformat": 4,
 "nbformat_minor": 2
}
