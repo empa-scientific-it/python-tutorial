{
 "cells": [
  {
   "cell_type": "code",
   "execution_count": 1,
   "metadata": {},
   "outputs": [],
   "source": [
    "%load_ext tutorial.tests.testsuite"
   ]
  },
  {
   "cell_type": "markdown",
   "metadata": {},
   "source": [
    "# Input and output in Python"
   ]
  },
  {
   "cell_type": "markdown",
   "metadata": {
    "slideshow": {
     "slide_type": "slide"
    }
   },
   "source": [
    "## Input and output\n",
    "\n",
    "A program is useless without *interaction* with the outside world:"
   ]
  },
  {
   "cell_type": "markdown",
   "metadata": {
    "slideshow": {
     "slide_type": "subslide"
    }
   },
   "source": [
    "We need:\n",
    "\n",
    "- Showing text to the user\n",
    "- Asking for user input\n",
    "- Accessing the file system\n",
    "- Reading files\n",
    "- Writing files\n",
    "- Connecting to networks\n",
    "\n",
    "and much more."
   ]
  },
  {
   "cell_type": "markdown",
   "metadata": {
    "slideshow": {
     "slide_type": "slide"
    }
   },
   "source": [
    "## User output\n",
    "\n",
    "To output text to the python console, we can use the `print` function.\n"
   ]
  },
  {
   "cell_type": "code",
   "execution_count": null,
   "metadata": {
    "slideshow": {
     "slide_type": "subslide"
    }
   },
   "outputs": [],
   "source": [
    "print(\"a\")"
   ]
  },
  {
   "cell_type": "markdown",
   "metadata": {
    "slideshow": {
     "slide_type": "fragment"
    }
   },
   "source": [
    "If we want to insert a variable in a string to print, we can use *f-strings*:\n",
    "\n",
    "- We prepend `f` to the string\n",
    "- We reference the variable in the string using `{name_of_variable}`"
   ]
  },
  {
   "cell_type": "code",
   "execution_count": null,
   "metadata": {
    "slideshow": {
     "slide_type": "fragment"
    }
   },
   "outputs": [],
   "source": [
    "x = 4\n",
    "print(f\"x is {x}\")"
   ]
  },
  {
   "cell_type": "markdown",
   "metadata": {
    "slideshow": {
     "slide_type": "slide"
    }
   },
   "source": [
    "## Asking for user input \n",
    "If we want to get text input from the console, we use the `input` function.\n",
    "\n",
    "⚠️ `input` is a *blocking* function. It stops the execution of the program until the input is available. **Do not** use it in the middle of a computation unless you want a bad surprise.\n"
   ]
  },
  {
   "cell_type": "code",
   "execution_count": 14,
   "metadata": {
    "slideshow": {
     "slide_type": "subslide"
    }
   },
   "outputs": [
    {
     "name": "stdout",
     "output_type": "stream",
     "text": [
      "Enter your name\n",
      "Simone\n",
      "Hello, Simone\n"
     ]
    }
   ],
   "source": [
    "print(\"Enter your name\")\n",
    "name = input()\n",
    "print(f\"Hello, {name}\")"
   ]
  },
  {
   "cell_type": "markdown",
   "metadata": {
    "slideshow": {
     "slide_type": "slide"
    }
   },
   "source": [
    "## Accessing the filesystem\n",
    "\n",
    "To find and access files in the filesystem, we use the `pathlib` module of the standard library. \n",
    "\n",
    "This allows us to represent and manipulate paths to files in a portable and intuitive manner."
   ]
  },
  {
   "cell_type": "code",
   "execution_count": 4,
   "metadata": {
    "slideshow": {
     "slide_type": "subslide"
    }
   },
   "outputs": [],
   "source": [
    "import pathlib as pl\n",
    "# Here we define a path to the current directory\n",
    "my_path = pl.Path(\"./\")\n"
   ]
  },
  {
   "cell_type": "code",
   "execution_count": 5,
   "metadata": {
    "slideshow": {
     "slide_type": "subslide"
    }
   },
   "outputs": [],
   "source": [
    "# We can find all files in `my_path` using `glob`. The \"*\" is a pattern which means find all files. \n",
    "all_my_files = my_path.glob(\"*\")"
   ]
  },
  {
   "cell_type": "code",
   "execution_count": 7,
   "metadata": {
    "slideshow": {
     "slide_type": "fragment"
    }
   },
   "outputs": [
    {
     "name": "stdout",
     "output_type": "stream",
     "text": [
      "[PosixPath('tutorial'), PosixPath('index.ipynb'), PosixPath('.git'), PosixPath('FAQ.md'), PosixPath('.gitignore'), PosixPath('intro.ipynb'), PosixPath('README.md'), PosixPath('.vscode'), PosixPath('input_output_solutions.py'), PosixPath('functional_programming.html'), PosixPath('pytest.ini'), PosixPath('functional_programming.slides.html'), PosixPath('.ipynb_checkpoints'), PosixPath('magic_example.ipynb'), PosixPath('LICENSE'), PosixPath('.pytest_cache'), PosixPath('data'), PosixPath('.pre-commit-config.yaml'), PosixPath('tests'), PosixPath('utils'), PosixPath('input_output.ipynb'), PosixPath('environment.yml')]\n"
     ]
    }
   ],
   "source": [
    "print(list(all_my_files))"
   ]
  },
  {
   "cell_type": "code",
   "execution_count": 15,
   "metadata": {
    "slideshow": {
     "slide_type": "subslide"
    }
   },
   "outputs": [
    {
     "name": "stdout",
     "output_type": "stream",
     "text": [
      "[PosixPath('tutorial/tests/data/example1.csv'), PosixPath('tutorial/tests/data/example.csv'), PosixPath('tutorial/tests/data/english.csv'), PosixPath('tutorial/tests/data/dict.csv')]\n"
     ]
    }
   ],
   "source": [
    "#With `/` we can combine paths:\n",
    "\n",
    "data_dir = (pl.Path(\"./tutorial/tests\") / pl.Path(\"./data\"))\n",
    "\n",
    "#With the pattern `\"*.csv\"` we look for all files that end in \".csv\"\n",
    "\n",
    "print(list(data_dir.glob(\"*.csv\")))"
   ]
  },
  {
   "cell_type": "markdown",
   "metadata": {
    "slideshow": {
     "slide_type": "slide"
    }
   },
   "source": [
    "## Reading text from files\n",
    "\n",
    "Now we know how to locate files and we want to learn how to *read* from files.\n",
    "\n"
   ]
  },
  {
   "cell_type": "markdown",
   "metadata": {
    "slideshow": {
     "slide_type": "subslide"
    }
   },
   "source": [
    "To do so, we use the `open` function. This *opens* a file for reading, returning a *file handle*."
   ]
  },
  {
   "cell_type": "code",
   "execution_count": 5,
   "metadata": {
    "slideshow": {
     "slide_type": "fragment"
    }
   },
   "outputs": [],
   "source": [
    "input_file = open(pl.Path(\"./tutorial/tests/data/hello.txt\"))\n"
   ]
  },
  {
   "cell_type": "code",
   "execution_count": 11,
   "metadata": {
    "slideshow": {
     "slide_type": "fragment"
    }
   },
   "outputs": [
    {
     "name": "stdout",
     "output_type": "stream",
     "text": [
      "<_io.TextIOWrapper name='data/me.txt' mode='r' encoding='UTF-8'>\n"
     ]
    }
   ],
   "source": [
    "print(input_file)\n",
    "input_file.close()"
   ]
  },
  {
   "cell_type": "markdown",
   "metadata": {
    "slideshow": {
     "slide_type": "fragment"
    }
   },
   "source": [
    "A file handle is like a door: we should never forget to close it with `close`.\n",
    "\n",
    "Why: the contents of `write` aren't written until the file is closed. \n",
    "\n",
    "If we want to get the *content* of the file, we need to use `read` or `readlines`:"
   ]
  },
  {
   "cell_type": "code",
   "execution_count": 12,
   "metadata": {
    "scrolled": true,
    "slideshow": {
     "slide_type": "subslide"
    }
   },
   "outputs": [
    {
     "name": "stdout",
     "output_type": "stream",
     "text": [
      "['Simone']\n"
     ]
    }
   ],
   "source": [
    "input_file = open(pl.Path(\"./tutorial/tests/data/hello.txt\"))\n",
    "print(input_file.readlines())\n",
    "input_file.close()\n"
   ]
  },
  {
   "cell_type": "markdown",
   "metadata": {
    "slideshow": {
     "slide_type": "slide"
    }
   },
   "source": [
    "## Writing to files\n",
    "Obviously we want to perform the opposite action: we want to *write* text to files.\n"
   ]
  },
  {
   "cell_type": "markdown",
   "metadata": {
    "slideshow": {
     "slide_type": "subslide"
    }
   },
   "source": [
    "The process is similar to reading;  we obtain a *file handle*, but we change its *mode* to writing:"
   ]
  },
  {
   "cell_type": "code",
   "execution_count": 11,
   "metadata": {
    "slideshow": {
     "slide_type": "fragment"
    }
   },
   "outputs": [],
   "source": [
    "# `w` opens a file for writing\n",
    "output_file = open(pl.Path(\"./tutorial/tests/data/me.txt\"), \"w\")\n"
   ]
  },
  {
   "cell_type": "markdown",
   "metadata": {
    "slideshow": {
     "slide_type": "fragment"
    }
   },
   "source": [
    "Then we can write to the file using `write` or `writelines`. Write takes a `str` and writes it  as it is, `writelines` take a list or iterable of `str` and writes each entry as a new line.\n",
    "\n",
    "Let's test `write`:"
   ]
  },
  {
   "cell_type": "code",
   "execution_count": 12,
   "metadata": {
    "slideshow": {
     "slide_type": "fragment"
    }
   },
   "outputs": [],
   "source": [
    "output_file.write(\"Simone\")\n",
    "output_file.close()"
   ]
  },
  {
   "cell_type": "markdown",
   "metadata": {
    "slideshow": {
     "slide_type": "subslide"
    }
   },
   "source": [
    "Now if we read from it, we will see the new content:"
   ]
  },
  {
   "cell_type": "code",
   "execution_count": 13,
   "metadata": {
    "slideshow": {
     "slide_type": "fragment"
    }
   },
   "outputs": [
    {
     "name": "stdout",
     "output_type": "stream",
     "text": [
      "['Simone']\n"
     ]
    }
   ],
   "source": [
    "input_file = open(pl.Path(\"./tutorial/tests/data/me.txt\"))\n",
    "print(input_file.readlines())\n",
    "input_file.close()\n"
   ]
  },
  {
   "cell_type": "markdown",
   "metadata": {
    "slideshow": {
     "slide_type": "slide"
    }
   },
   "source": [
    "## Context managers\n",
    "\n",
    "Opened files must be closed to avoid problems like:\n",
    "\n"
   ]
  },
  {
   "cell_type": "code",
   "execution_count": null,
   "metadata": {
    "slideshow": {
     "slide_type": "subslide"
    }
   },
   "outputs": [],
   "source": [
    "- Inconsistent state and data corrpution\n",
    "- Running out of file handles (if we open many files)"
   ]
  },
  {
   "cell_type": "markdown",
   "metadata": {
    "slideshow": {
     "slide_type": "fragment"
    }
   },
   "source": [
    "This is a **bad** idea on many operating systems:\n",
    "```python\n",
    "f = []\n",
    "for i in range(10000):\n",
    "    f.append(open(f\"{i}\", \"w\"))\n",
    "print(f)\n",
    "```\n",
    "you will eventually run out of files to open."
   ]
  },
  {
   "cell_type": "markdown",
   "metadata": {
    "slideshow": {
     "slide_type": "subslide"
    }
   },
   "source": [
    "To avoid these type of problems, python offers *context managers*. This is a special statement that automatically manages the closing of files for us as soon as we leave the block:"
   ]
  },
  {
   "cell_type": "code",
   "execution_count": 9,
   "metadata": {
    "slideshow": {
     "slide_type": "fragment"
    }
   },
   "outputs": [],
   "source": [
    "import pathlib as pl\n",
    "with open(pl.Path(\"./tutorial/tests/data/hello.txt\")) as input_file:\n",
    "    #This is the scope of the context manager.\n",
    "    #As long as we stay inside of this, we can acess `input_file`\n",
    "    text = input_file.readlines()"
   ]
  },
  {
   "cell_type": "code",
   "execution_count": 10,
   "metadata": {
    "scrolled": false,
    "slideshow": {
     "slide_type": "fragment"
    }
   },
   "outputs": [
    {
     "name": "stdout",
     "output_type": "stream",
     "text": [
      "['Hello, I am a file with some text.\\n']\n"
     ]
    },
    {
     "ename": "ValueError",
     "evalue": "I/O operation on closed file.",
     "output_type": "error",
     "traceback": [
      "\u001b[0;31m---------------------------------------------------------------------------\u001b[0m",
      "\u001b[0;31mValueError\u001b[0m                                Traceback (most recent call last)",
      "Cell \u001b[0;32mIn[10], line 2\u001b[0m\n\u001b[1;32m      1\u001b[0m \u001b[38;5;28mprint\u001b[39m(text)\n\u001b[0;32m----> 2\u001b[0m \u001b[38;5;28mprint\u001b[39m(\u001b[43minput_file\u001b[49m\u001b[38;5;241;43m.\u001b[39;49m\u001b[43mreadlines\u001b[49m\u001b[43m(\u001b[49m\u001b[43m)\u001b[49m)\n",
      "\u001b[0;31mValueError\u001b[0m: I/O operation on closed file."
     ]
    }
   ],
   "source": [
    "print(text)"
   ]
  },
  {
   "cell_type": "markdown",
   "metadata": {
    "slideshow": {
     "slide_type": "subslide"
    }
   },
   "source": [
    "Indeed, if we try to access `input_file` outside of the scope of the context manager, we run into an error:"
   ]
  },
  {
   "cell_type": "code",
   "execution_count": null,
   "metadata": {
    "slideshow": {
     "slide_type": "fragment"
    }
   },
   "outputs": [],
   "source": [
    "print(input_file.readlines())"
   ]
  },
  {
   "cell_type": "markdown",
   "metadata": {},
   "source": [
    "## References\n",
    "- [input and output tutorial](https://docs.python.org/3/tutorial/inputoutput.html) from the official python tutorial.\n",
    "- [Is explicitly closing files important?](https://stackoverflow.com/questions/7395542/is-explicitly-closing-files-important)\n",
    "- [context managers](https://docs.python.org/3/library/contextlib.html) from the python standard library\n",
    "\n",
    "## Introduction\n",
    "An important aspect to learn in a new programming language is input/output (or I/O). For our program to be useful, we need to be able to interact with the outside world. This means performing operartions like:\n",
    "- reading and writing data to a file\n",
    "- printing text output\n",
    "- asking for user input\n",
    "- connecting to databases or other network services\n",
    "\n",
    "\n",
    "The majority of these operations are covered by the python standard library. We are going to see how to use them in this chapter.\n",
    "\n",
    "<div class=\"alert alert-block alert-info\">\n",
    "⚠️ In reference to the chapter on functional programming, it is interesting to note that these functions perform *side-effects*.  Therefore any code containing these operations is no longer *pure* and is not referentially transparent. The same function can return different values for the same argument if called multiple time and the function can have *long-distance* effects. That means that they can modify the state of the program somewhere else leading to unexpected results. \n",
    "    \n",
    "Therefore, I always suggest trying to separate input and output from the other computations in your program. For example, if you have a complex calculation requring several user inputs at several stages of the process, consider writing a function that only performs the calculation given all inputs and then require all inputs separately, for example through a single file. This makes your code easier to debug, test and understand.\n",
    "</div>\n",
    "\n",
    "\n",
    "\n",
    "\n",
    "## String input and output \n",
    "The most basic I/O operation in python is displaying text on the python console. This is done using the `print` function:"
   ]
  },
  {
   "cell_type": "code",
   "execution_count": 1,
   "metadata": {},
   "outputs": [
    {
     "name": "stdout",
     "output_type": "stream",
     "text": [
      "I am some text\n"
     ]
    }
   ],
   "source": [
    "print(\"I am some text\")"
   ]
  },
  {
   "cell_type": "markdown",
   "metadata": {},
   "source": [
    "The complemenentary operation, prompting for *user input* is done through `input`.\n",
    "The function takes one string as argument, which gives the prompt displayed on the console. The return value of the function contains the input the user types:"
   ]
  },
  {
   "cell_type": "code",
   "execution_count": 3,
   "metadata": {},
   "outputs": [
    {
     "name": "stdout",
     "output_type": "stream",
     "text": [
      "The user wrote fasdf\n"
     ]
    }
   ],
   "source": [
    "user_input = input(\"Write some text\")\n",
    "print(f\"The user wrote {user_input}\")"
   ]
  },
  {
   "cell_type": "markdown",
   "metadata": {},
   "source": [
    "\n",
    "<div class=\"alert alert-block alert-info\">\n",
    "⚠️ Note that `input` is a **blocking operation**. The program evaluation stops and waits until the user provides an input. Therefore, use `input` **very carefully* and only when truly necessary. A common issue is that someone first writes an interactive program expecting user input through `input` and later integrates it into a larger application that is supposed to run automatically without any user interaction. Suddenly, the application stops somehwere and does not run further because of a well hidden `input` call...\n",
    "</div>\n",
    "\n",
    "If you really have to use it, do not do so in the middle of long-running computation or your model code but ask for all user inputs upfront. If you need to write an interactive applications however, there are other solutions that are more robust."
   ]
  },
  {
   "cell_type": "markdown",
   "metadata": {},
   "source": [
    "## File I/O\n",
    "A second very common I/O operation in most programming languages is reading and writing from files. This is actually more complex than just writing on the console and consists of several steps:\n",
    "\n",
    "1. You need to find *where* in the operating system the file is located. This gives you the so-called *path* to the file\n",
    "2. You need to *open* the file for reading or writing. In some operationg systems, this *locks* the file, so that other users or processes cannot write simultaneously with you. This operation gives you a *file handle* that you can use to read or write.\n",
    "3. Now , you can read (or write) the contents of the file \n",
    "4. Finally, you need to *close* the file to make it accessible to other processes again and to finalise the writing: in some implementations, `write` only writes the text to a temporary location in memory (a so-called *buffer*) and only writes the content to the file when you close it. This is done to increase response times, as writing to memory is faster than writing to a file on the disk.\n",
    "\n",
    "\n",
    "As a trick to remember closing files: *a file handle is like a door handle*. \n",
    "\n",
    "### Paths\n",
    "To handle the *where* a file is located, python offers the [pathlib] module which is used to represent *paths* to files in a portable manner. This means that you can use the one python object to represent the location of a file  regardless of the oeprating system and python will convert it into the representation specific to the operating system where you are executing the program. For example, windows uses `\\` as a separator for path elements, while unix/linux use `/`. If you use pathlib, you can write code using only `/` and `pathlib`  will automatically select the correct path separator whe the program runs.\n",
    "\n",
    "Let's see how to generate a `path` object pointing to the text file [`hello.txt`](./tutorial/tests/data/hello.txt) in the main directory of this repository. To do so, we use the [`Path`](https://docs.python.org/3/library/pathlib.html#basic-use) class of `pathlib`, whose constructor takes the location of the file as a string\n",
    "\n"
   ]
  },
  {
   "cell_type": "code",
   "execution_count": 17,
   "metadata": {},
   "outputs": [],
   "source": [
    "import pathlib as pl\n",
    "\n",
    "path = pl.Path(\"./tutorial/tests/data/hello.txt\")\n"
   ]
  },
  {
   "cell_type": "markdown",
   "metadata": {},
   "source": [
    "The `./` at the beginning of the path indicates that this path is a *relative path*. This is just a path that points to a file *relative* to the directory we are working in. \n",
    "\n",
    "The `path` object has a method `absolute` that returns the *absolute* full path of the object in the OS:"
   ]
  },
  {
   "cell_type": "code",
   "execution_count": 4,
   "metadata": {},
   "outputs": [
    {
     "name": "stdout",
     "output_type": "stream",
     "text": [
      "/home/basi/python-tutorial/data/hello.txt\n"
     ]
    }
   ],
   "source": [
    "print(path.absolute())"
   ]
  },
  {
   "cell_type": "markdown",
   "metadata": {},
   "source": [
    "If we prefer, we can also construct paths by combining their components with the `/` operator. For example, we can do:"
   ]
  },
  {
   "cell_type": "code",
   "execution_count": 10,
   "metadata": {},
   "outputs": [
    {
     "name": "stdout",
     "output_type": "stream",
     "text": [
      "/home/basi/python-tutorial/data\n"
     ]
    }
   ],
   "source": [
    "import pathlib as pl\n",
    "\n",
    "path = pl.Path(\"./tutorial/tests\") / pl.Path(\"data\")\n",
    "print(path.absolute())\n"
   ]
  },
  {
   "cell_type": "markdown",
   "metadata": {},
   "source": [
    "We can also list all files matching a certain in a given directory using the `glob` method:"
   ]
  },
  {
   "cell_type": "code",
   "execution_count": 11,
   "metadata": {},
   "outputs": [
    {
     "data": {
      "text/plain": [
       "[PosixPath('data/example1.csv'),\n",
       " PosixPath('data/lines.txt'),\n",
       " PosixPath('data/me.txt'),\n",
       " PosixPath('data/secret_message.dat'),\n",
       " PosixPath('data/numbers.txt'),\n",
       " PosixPath('data/example.csv'),\n",
       " PosixPath('data/english.csv'),\n",
       " PosixPath('data/hello.txt'),\n",
       " PosixPath('data/dict.csv'),\n",
       " PosixPath('data/output.txt')]"
      ]
     },
     "execution_count": 11,
     "metadata": {},
     "output_type": "execute_result"
    }
   ],
   "source": [
    "[f for f in path.glob(\"*\")]"
   ]
  },
  {
   "cell_type": "markdown",
   "metadata": {},
   "source": [
    "The `glob` method takes a `pattern` argument that expresses the form of the file names to look for. THe `*` star means *match everything*. For more information on *glob patterns*, see the documentation of [fnmatch](https://docs.python.org/3/library/fnmatch.html#module-fnmatch)"
   ]
  },
  {
   "cell_type": "markdown",
   "metadata": {},
   "source": [
    "\n",
    "\n",
    "### Reading from a file\n",
    "\n",
    "Let's see how to do this with an example: we want to open the file [hello.txt](./data/hello.txt) and read its contents.\n",
    "\n",
    "1. The path is already identified, we know the file is in `./data/hello.txt`. We save this in a variable `path`\n",
    "2. We now can use the built-in function [`open`](https://docs.python.org/3/library/functions.html#open) to open the file. This function returns a [file object](https://docs.python.org/3/glossary.html#term-file-object) that we can use to further manipulate the file. To ensure we only open the file for reading, we pass the string \"r\" to the second argument of `open`.\n",
    "3. Now we can read the contents using `read`, `readline` or `readlines`. `read` only reads `n` characters from the file, `readline` reads a whole line, while `readlines` reads the whole file content as a list of strings, one item per line in the file. This knowledge is useful when we only want to read part of a file or when the file is too big to fit in memory and we can only read parts.\n",
    "4. Finally, we close the file using the `close` method on the file object.\n",
    "\n",
    "\n"
   ]
  },
  {
   "cell_type": "code",
   "execution_count": 4,
   "metadata": {},
   "outputs": [
    {
     "name": "stdout",
     "output_type": "stream",
     "text": [
      "['Hello, I am a file with some text.\\n']\n"
     ]
    }
   ],
   "source": [
    "import pathlib as pl\n",
    "\n",
    "path = pl.Path(\"./tutorial/tests/data/hello.txt\")\n",
    "file_ob = open(path, 'r')\n",
    "contents = file_ob.readlines()\n",
    "file_ob.close()\n",
    "print(contents)"
   ]
  },
  {
   "cell_type": "markdown",
   "metadata": {},
   "source": [
    "Notice that calling `read`, `readline` or `readlines` *consumes* the file, either fully or to the corresponding location. This means that if we call `readlines` twice, we will get an empty list the second time:"
   ]
  },
  {
   "cell_type": "code",
   "execution_count": 20,
   "metadata": {},
   "outputs": [
    {
     "name": "stdout",
     "output_type": "stream",
     "text": [
      "['Hello, I am a file with some text.\\n']\n",
      "[]\n"
     ]
    }
   ],
   "source": [
    "import pathlib as pl\n",
    "\n",
    "path = pl.Path(\"./tutorial/tests/data/hello.txt\")\n",
    "file_ob = open(path, 'r')\n",
    "contents = file_ob.readlines()\n",
    "print(contents)\n",
    "other_contents = file_ob.readlines()\n",
    "print(other_contents)\n",
    "file_ob.close()\n"
   ]
  },
  {
   "cell_type": "markdown",
   "metadata": {},
   "source": [
    "We can use this to read a file line-by-line by just iterating over the file using a `for` loop or a list compherension. The `file` object implements the [iterator](https://docs.python.org/3/glossary.html#term-iterator) protocol:"
   ]
  },
  {
   "cell_type": "code",
   "execution_count": 11,
   "metadata": {},
   "outputs": [
    {
     "name": "stdout",
     "output_type": "stream",
     "text": [
      "this\n",
      "\n",
      "file\n",
      "\n",
      "has multiple\n",
      "\n",
      "lines\n",
      "\n",
      "how many\n",
      "\n",
      "lines\n",
      "\n",
      "does this file\n",
      "\n",
      "have?\n"
     ]
    }
   ],
   "source": [
    "import pathlib as pl\n",
    "\n",
    "path = pl.Path(\"./tutorial/tests/data/lines.txt\")\n",
    "file_ob = open(path, 'r')\n",
    "for line in file_ob:\n",
    "    print(line)\n",
    "file_ob.close()"
   ]
  },
  {
   "cell_type": "markdown",
   "metadata": {},
   "source": [
    "This is the most *pythonic* way to read a file line-by-line instead of reading the full contents at once."
   ]
  },
  {
   "cell_type": "markdown",
   "metadata": {},
   "source": [
    "### Writing to a file\n",
    "The process to write data to a file is very similar, the main difference being that:\n",
    "- We use `w` as a second argument of `open` to specify that we want to write to the file. If the file already exists, it will be erased before we write something else to it. If you want to append to the file, you should use `a` instead.\n",
    "- We use `write` to write a *string* to the file. Other types of object should be converted to string before being written.\n",
    "\n",
    "\n",
    "Let's see this in action by writing your name in a file called `me.txt` in [data](./data/)"
   ]
  },
  {
   "cell_type": "code",
   "execution_count": 5,
   "metadata": {},
   "outputs": [],
   "source": [
    "import pathlib as pl\n",
    "\n",
    "path = pl.Path(\"./tutorial/tests/data/me.txt\")\n",
    "file_ob = open(path, \"w\")\n",
    "file_ob.write(\"Simone\")\n",
    "file_ob.close()"
   ]
  },
  {
   "cell_type": "markdown",
   "metadata": {},
   "source": [
    "Congratulations! Your name is now written in stone. \n",
    "\n",
    "If we want to write the contents of an *iterable* to a file, we can use the `writelines` method:"
   ]
  },
  {
   "cell_type": "code",
   "execution_count": 28,
   "metadata": {},
   "outputs": [],
   "source": [
    "import pathlib as pl\n",
    "\n",
    "path = pl.Path(\"./tutorial/tests/data/numbers.txt\")\n",
    "file_ob = open(path, \"w\")\n",
    "file_ob.writelines([str(i) + \"\\n\" for i in range(10)])\n",
    "file_ob.close()"
   ]
  },
  {
   "cell_type": "markdown",
   "metadata": {},
   "source": [
    "Notice that for each line, we concatenate the `newline` `\\n` symbol to the string to be written to write the text to a new line.\n"
   ]
  },
  {
   "cell_type": "markdown",
   "metadata": {},
   "source": [
    "\n",
    "\n",
    "### Context managers\n",
    "As you can see, after *opening* and performing operations on a file, we always have to remember to *close* it. If we forget to close it, unexpected behavior can happen. If the program crashes later on, for example, we might have the situation where the text is not written to the file. If you open many files and you don't close them, the python intepreter can run out of memory. On some operating systems, the file contents are only updated after closing, etc ...\n",
    "\n",
    "This pattern is very common dealing with many *resources*: files, connections, threads, servers, etc...  You acquire the access to the resource, do some work on it and finally you clean up after yourself by closing it again. Because of this, python offers a construct called [*context manager*](https://docs.python.org/3/reference/datamodel.html#context-managers) which implements exactly this beahvior:\n",
    "- get access to a resource\n",
    "- Do some work\n",
    "- release this resource \n",
    "\n",
    "In the case of files, we can replace the open-read-close or open-write-close sequence  with a context manager. Context managers are used inside  the `with` statement:"
   ]
  },
  {
   "cell_type": "code",
   "execution_count": 17,
   "metadata": {},
   "outputs": [
    {
     "name": "stdout",
     "output_type": "stream",
     "text": [
      "['Hello, I am a file with some text.\\n']\n"
     ]
    }
   ],
   "source": [
    "import pathlib as pl\n",
    "\n",
    "hello_file = pl.Path(\"./tutorial/tests/data/hello.txt\")\n",
    "with open(hello_file, \"r\") as file_ob: \n",
    "    contents = file_ob.readlines()\n",
    "    print(contents)"
   ]
  },
  {
   "cell_type": "markdown",
   "metadata": {},
   "source": [
    "`with open(path) as name` opens the file in `path` and assigns it to the `name` file object. This object is only valid in the *scope* of the context manager, that is the indented block of code that follows the `:`. Once the python interpreter leaves the context manager, `file_ob.close()` is automatically called, ensuring the file is properly closed no matter what happens.\n",
    "\n",
    "This pattern can be extended to any other resource that should be managed in a similar way,  for example database connections. \n",
    "Any object that implements `__enter__` and `__exit__` can be used with the context manager syntax.\n",
    "\n",
    "If you want to learn how to implement context managers for other types of objects, please refer to the `contextlib` [documentation](https://docs.python.org/3/library/contextlib.html) in the python standard library.\n",
    "\n"
   ]
  },
  {
   "cell_type": "markdown",
   "metadata": {},
   "source": [
    "### Binary I/O\n",
    "\n",
    "Another aspect of file I/O is accessing files in [*binary mode*](https://docs.python.org/3/library/io.html#binary-i-o); that means that instead of writing and reading *text*, we manipulate `bytes` in order to represent non-textual data. This is useful for interacting with measurement data and other non-textual information like images, machine learning model parameters and other complex strcuture, although in most cases you won't need the low-level control of binary I/O and will use libraries instead. \n",
    "\n",
    "To look at an example, let's write a sequence of `int` to `output.dat`[^1]  as a  sequence of bytes. Because one byte corresponds to 8 bits, using one byte per integer means we can unambigously store `2^8= =256` values.\n",
    "\n",
    "\n",
    "[^1]: `.dat` is a typical \"generic\" extension to indicate that the file contains some sort of data. Filename extensions does not have any binding meaning by themselves, they are simply a convention for users to quickly see what contents to expect."
   ]
  },
  {
   "cell_type": "code",
   "execution_count": 20,
   "metadata": {},
   "outputs": [
    {
     "name": "stdout",
     "output_type": "stream",
     "text": [
      "b'\\x00\\x01\\x02\\x03\\x04\\x05\\x06\\x07\\x08\\t'\n"
     ]
    }
   ],
   "source": [
    "import pathlib as pl\n",
    "\n",
    "bin_file = pl.Path(\"./tutorial/tests/data/output.txt\")\n",
    "with open(bin_file, \"wb\") as out_file:\n",
    "    bs = b\"\".join([i.to_bytes(1, 'little') for i in  range(10)])\n",
    "    print(bs)\n",
    "    out_file.write(bs)"
   ]
  },
  {
   "cell_type": "markdown",
   "metadata": {},
   "source": [
    "note that we used the mode `wb` for `write, binary`. The `write` function expects a [`bytes`](https://docs.python.org/3/library/stdtypes.html#bytes) object. Because of the historical connection between bytes and strings, we can produce a  bytes object by prepending `b` to a string literal. Therefore, we generate an array of bytes using [`to_bytes`](https://docs.python.org/3/library/stdtypes.html#int.to_bytes) and combine them with the [`join`](https://docs.python.org/3/library/stdtypes.html#str.join) method on the empty byte literal `b\"\"`.\n",
    "\n",
    "Now that we wrote out our sequence, we can try to read it back from the file:"
   ]
  },
  {
   "cell_type": "code",
   "execution_count": 35,
   "metadata": {},
   "outputs": [
    {
     "name": "stdout",
     "output_type": "stream",
     "text": [
      "[0, 1, 2, 3, 4, 5, 6, 7, 8, 9]\n"
     ]
    }
   ],
   "source": [
    "import pathlib as pl\n",
    "\n",
    "bin_file = pl.Path(\"./tutorial/tests/data/output.txt\")\n",
    "with open(bin_file, \"rb\") as in_file:\n",
    "    data = in_file.read()\n",
    "    seq = [b for b in data]\n",
    "    print(seq)"
   ]
  },
  {
   "cell_type": "markdown",
   "metadata": {},
   "source": [
    "And, surprise! We obtain our original sequence.\n",
    "Note that because of quirk of python, the `read` method returns a `bytes` object, but when we try to access a single element (as we would do with a string), the entry is already an `int` which corresponds to the unicode codepoint.\n",
    "\n",
    "\n",
    "If instead we want to store our numbers using two bytes per digit, we do:\n"
   ]
  },
  {
   "cell_type": "code",
   "execution_count": 62,
   "metadata": {},
   "outputs": [],
   "source": [
    "import pathlib as pl\n",
    "import struct\n",
    "\n",
    "bin_file = pl.Path(\"./tutorial/tests/data/output1.txt\")\n",
    "with open(bin_file, \"wb\") as out_file:\n",
    "    bs = b\"\".join([struct.pack(\">H\", i) for i in range(1024)])\n",
    "    out_file.write(bs)"
   ]
  },
  {
   "cell_type": "markdown",
   "metadata": {},
   "source": [
    "We do this by using the [`struct`](https://docs.python.org/3/library/struct.html) module of the python standard library, which offers methods to represent built-in data as different bytes formats.\n",
    "\n",
    "The first argument to `struct.pack` is the format the data should be interpeted into, \">\" means little endian, or putting the byte representing the smallest digit of each number first. \"H\" means an *unsigned short*, which corresponds to two bytes.\n",
    "\n",
    "If we want to read the data, we can do:"
   ]
  },
  {
   "cell_type": "code",
   "execution_count": 68,
   "metadata": {},
   "outputs": [
    {
     "name": "stdout",
     "output_type": "stream",
     "text": [
      "[0, 1, 2, 3, 4, 5, 6, 7, 8, 9, 10, 11, 12, 13, 14, 15, 16, 17, 18, 19, 20, 21, 22, 23, 24, 25, 26, 27, 28, 29, 30, 31, 32, 33, 34, 35, 36, 37, 38, 39, 40, 41, 42, 43, 44, 45, 46, 47, 48, 49, 50, 51, 52, 53, 54, 55, 56, 57, 58, 59, 60, 61, 62, 63, 64, 65, 66, 67, 68, 69, 70, 71, 72, 73, 74, 75, 76, 77, 78, 79, 80, 81, 82, 83, 84, 85, 86, 87, 88, 89, 90, 91, 92, 93, 94, 95, 96, 97, 98, 99, 100, 101, 102, 103, 104, 105, 106, 107, 108, 109, 110, 111, 112, 113, 114, 115, 116, 117, 118, 119, 120, 121, 122, 123, 124, 125, 126, 127, 128, 129, 130, 131, 132, 133, 134, 135, 136, 137, 138, 139, 140, 141, 142, 143, 144, 145, 146, 147, 148, 149, 150, 151, 152, 153, 154, 155, 156, 157, 158, 159, 160, 161, 162, 163, 164, 165, 166, 167, 168, 169, 170, 171, 172, 173, 174, 175, 176, 177, 178, 179, 180, 181, 182, 183, 184, 185, 186, 187, 188, 189, 190, 191, 192, 193, 194, 195, 196, 197, 198, 199, 200, 201, 202, 203, 204, 205, 206, 207, 208, 209, 210, 211, 212, 213, 214, 215, 216, 217, 218, 219, 220, 221, 222, 223, 224, 225, 226, 227, 228, 229, 230, 231, 232, 233, 234, 235, 236, 237, 238, 239, 240, 241, 242, 243, 244, 245, 246, 247, 248, 249, 250, 251, 252, 253, 254, 255, 256, 257, 258, 259, 260, 261, 262, 263, 264, 265, 266, 267, 268, 269, 270, 271, 272, 273, 274, 275, 276, 277, 278, 279, 280, 281, 282, 283, 284, 285, 286, 287, 288, 289, 290, 291, 292, 293, 294, 295, 296, 297, 298, 299, 300, 301, 302, 303, 304, 305, 306, 307, 308, 309, 310, 311, 312, 313, 314, 315, 316, 317, 318, 319, 320, 321, 322, 323, 324, 325, 326, 327, 328, 329, 330, 331, 332, 333, 334, 335, 336, 337, 338, 339, 340, 341, 342, 343, 344, 345, 346, 347, 348, 349, 350, 351, 352, 353, 354, 355, 356, 357, 358, 359, 360, 361, 362, 363, 364, 365, 366, 367, 368, 369, 370, 371, 372, 373, 374, 375, 376, 377, 378, 379, 380, 381, 382, 383, 384, 385, 386, 387, 388, 389, 390, 391, 392, 393, 394, 395, 396, 397, 398, 399, 400, 401, 402, 403, 404, 405, 406, 407, 408, 409, 410, 411, 412, 413, 414, 415, 416, 417, 418, 419, 420, 421, 422, 423, 424, 425, 426, 427, 428, 429, 430, 431, 432, 433, 434, 435, 436, 437, 438, 439, 440, 441, 442, 443, 444, 445, 446, 447, 448, 449, 450, 451, 452, 453, 454, 455, 456, 457, 458, 459, 460, 461, 462, 463, 464, 465, 466, 467, 468, 469, 470, 471, 472, 473, 474, 475, 476, 477, 478, 479, 480, 481, 482, 483, 484, 485, 486, 487, 488, 489, 490, 491, 492, 493, 494, 495, 496, 497, 498, 499, 500, 501, 502, 503, 504, 505, 506, 507, 508, 509, 510, 511, 512, 513, 514, 515, 516, 517, 518, 519, 520, 521, 522, 523, 524, 525, 526, 527, 528, 529, 530, 531, 532, 533, 534, 535, 536, 537, 538, 539, 540, 541, 542, 543, 544, 545, 546, 547, 548, 549, 550, 551, 552, 553, 554, 555, 556, 557, 558, 559, 560, 561, 562, 563, 564, 565, 566, 567, 568, 569, 570, 571, 572, 573, 574, 575, 576, 577, 578, 579, 580, 581, 582, 583, 584, 585, 586, 587, 588, 589, 590, 591, 592, 593, 594, 595, 596, 597, 598, 599, 600, 601, 602, 603, 604, 605, 606, 607, 608, 609, 610, 611, 612, 613, 614, 615, 616, 617, 618, 619, 620, 621, 622, 623, 624, 625, 626, 627, 628, 629, 630, 631, 632, 633, 634, 635, 636, 637, 638, 639, 640, 641, 642, 643, 644, 645, 646, 647, 648, 649, 650, 651, 652, 653, 654, 655, 656, 657, 658, 659, 660, 661, 662, 663, 664, 665, 666, 667, 668, 669, 670, 671, 672, 673, 674, 675, 676, 677, 678, 679, 680, 681, 682, 683, 684, 685, 686, 687, 688, 689, 690, 691, 692, 693, 694, 695, 696, 697, 698, 699, 700, 701, 702, 703, 704, 705, 706, 707, 708, 709, 710, 711, 712, 713, 714, 715, 716, 717, 718, 719, 720, 721, 722, 723, 724, 725, 726, 727, 728, 729, 730, 731, 732, 733, 734, 735, 736, 737, 738, 739, 740, 741, 742, 743, 744, 745, 746, 747, 748, 749, 750, 751, 752, 753, 754, 755, 756, 757, 758, 759, 760, 761, 762, 763, 764, 765, 766, 767, 768, 769, 770, 771, 772, 773, 774, 775, 776, 777, 778, 779, 780, 781, 782, 783, 784, 785, 786, 787, 788, 789, 790, 791, 792, 793, 794, 795, 796, 797, 798, 799, 800, 801, 802, 803, 804, 805, 806, 807, 808, 809, 810, 811, 812, 813, 814, 815, 816, 817, 818, 819, 820, 821, 822, 823, 824, 825, 826, 827, 828, 829, 830, 831, 832, 833, 834, 835, 836, 837, 838, 839, 840, 841, 842, 843, 844, 845, 846, 847, 848, 849, 850, 851, 852, 853, 854, 855, 856, 857, 858, 859, 860, 861, 862, 863, 864, 865, 866, 867, 868, 869, 870, 871, 872, 873, 874, 875, 876, 877, 878, 879, 880, 881, 882, 883, 884, 885, 886, 887, 888, 889, 890, 891, 892, 893, 894, 895, 896, 897, 898, 899, 900, 901, 902, 903, 904, 905, 906, 907, 908, 909, 910, 911, 912, 913, 914, 915, 916, 917, 918, 919, 920, 921, 922, 923, 924, 925, 926, 927, 928, 929, 930, 931, 932, 933, 934, 935, 936, 937, 938, 939, 940, 941, 942, 943, 944, 945, 946, 947, 948, 949, 950, 951, 952, 953, 954, 955, 956, 957, 958, 959, 960, 961, 962, 963, 964, 965, 966, 967, 968, 969, 970, 971, 972, 973, 974, 975, 976, 977, 978, 979, 980, 981, 982, 983, 984, 985, 986, 987, 988, 989, 990, 991, 992, 993, 994, 995, 996, 997, 998, 999, 1000, 1001, 1002, 1003, 1004, 1005, 1006, 1007, 1008, 1009, 1010, 1011, 1012, 1013, 1014, 1015, 1016, 1017, 1018, 1019, 1020, 1021, 1022, 1023]\n"
     ]
    }
   ],
   "source": [
    "import pathlib as pl\n",
    "import struct\n",
    "\n",
    "bin_file = pl.Path(\"./tutorial/tests/data/output1.txt\")\n",
    "with open(bin_file, \"rb\") as in_file:\n",
    "    data = in_file.read()\n",
    "    seq = [i for i, *rest in struct.iter_unpack(\">H\", data)]\n",
    "    print(seq)"
   ]
  },
  {
   "cell_type": "markdown",
   "metadata": {},
   "source": [
    "#### Bytes and strings\n",
    "Earlier, we mentioned the connection between bytes and strings in python. To learn more about this, let's briefly review the unicode UTF-8 standard.\n",
    "\n",
    "The unicode UTF-8  standard is a system to represent texts; in unicode  every character is assigned a number (the *codepoint*) that gives the location of this symbol in the table of all symbols. Particularly, the unicode UTF-8 standard stores each character as 1 to four bytes (each byte is a group of 8 bits). \n",
    "\n",
    "Let's see this more clearly with an example:"
   ]
  },
  {
   "cell_type": "code",
   "execution_count": null,
   "metadata": {},
   "outputs": [],
   "source": []
  },
  {
   "cell_type": "code",
   "execution_count": 32,
   "metadata": {},
   "outputs": [
    {
     "name": "stdout",
     "output_type": "stream",
     "text": [
      "bytes: b'\\x00\\x00\\x00\\x00', integer: 0, string: \u0000\n",
      "bytes: b'\\x00\\x00\\x00\\x01', integer: 1, string: \u0001\n",
      "bytes: b'\\x00\\x00\\x00\\x02', integer: 2, string: \u0002\n",
      "bytes: b'\\x00\\x00\\x00\\x03', integer: 3, string: \u0003\n",
      "bytes: b'\\x00\\x00\\x00\\x04', integer: 4, string: \u0004\n",
      "bytes: b'\\x00\\x00\\x00\\x05', integer: 5, string: \u0005\n",
      "bytes: b'\\x00\\x00\\x00\\x06', integer: 6, string: \u0006\n",
      "bytes: b'\\x00\\x00\\x00\\x07', integer: 7, string: \u0007\n",
      "bytes: b'\\x00\\x00\\x00\\x08', integer: 8, string: \b\n",
      "bytes: b'\\x00\\x00\\x00\\t', integer: 9, string: \t\n",
      "bytes: b'\\x00\\x00\\x00\\n', integer: 10, string: \n",
      "\n",
      "bytes: b'\\x00\\x00\\x00\\x0b', integer: 11, string: \u000b",
      "\n",
      "bytes: b'\\x00\\x00\\x00\\x0c', integer: 12, string: \f",
      "\n",
      "bytes: b'\\x00\\x00\\x00\\r', integer: 13, string: \r\n",
      "bytes: b'\\x00\\x00\\x00\\x0e', integer: 14, string: \u000e\n",
      "bytes: b'\\x00\\x00\\x00\\x0f', integer: 15, string: \u000f\n",
      "bytes: b'\\x00\\x00\\x00\\x10', integer: 16, string: \u0010\n",
      "bytes: b'\\x00\\x00\\x00\\x11', integer: 17, string: \u0011\n",
      "bytes: b'\\x00\\x00\\x00\\x12', integer: 18, string: \u0012\n",
      "bytes: b'\\x00\\x00\\x00\\x13', integer: 19, string: \u0013\n",
      "bytes: b'\\x00\\x00\\x00\\x14', integer: 20, string: \u0014\n",
      "bytes: b'\\x00\\x00\\x00\\x15', integer: 21, string: \u0015\n",
      "bytes: b'\\x00\\x00\\x00\\x16', integer: 22, string: \u0016\n",
      "bytes: b'\\x00\\x00\\x00\\x17', integer: 23, string: \u0017\n",
      "bytes: b'\\x00\\x00\\x00\\x18', integer: 24, string: \u0018\n",
      "bytes: b'\\x00\\x00\\x00\\x19', integer: 25, string: \u0019\n",
      "bytes: b'\\x00\\x00\\x00\\x1a', integer: 26, string: \u001a\n",
      "bytes: b'\\x00\\x00\\x00\\x1b', integer: 27, string: \u001b\n",
      "bytes: b'\\x00\\x00\\x00\\x1c', integer: 28, string: \u001c",
      "\n",
      "bytes: b'\\x00\\x00\\x00\\x1d', integer: 29, string: \u001d",
      "\n",
      "bytes: b'\\x00\\x00\\x00\\x1e', integer: 30, string: \u001e",
      "\n",
      "bytes: b'\\x00\\x00\\x00\\x1f', integer: 31, string: \u001f\n",
      "bytes: b'\\x00\\x00\\x00 ', integer: 32, string:  \n",
      "bytes: b'\\x00\\x00\\x00!', integer: 33, string: !\n",
      "bytes: b'\\x00\\x00\\x00\"', integer: 34, string: \"\n",
      "bytes: b'\\x00\\x00\\x00#', integer: 35, string: #\n",
      "bytes: b'\\x00\\x00\\x00$', integer: 36, string: $\n",
      "bytes: b'\\x00\\x00\\x00%', integer: 37, string: %\n",
      "bytes: b'\\x00\\x00\\x00&', integer: 38, string: &\n",
      "bytes: b\"\\x00\\x00\\x00'\", integer: 39, string: '\n",
      "bytes: b'\\x00\\x00\\x00(', integer: 40, string: (\n",
      "bytes: b'\\x00\\x00\\x00)', integer: 41, string: )\n",
      "bytes: b'\\x00\\x00\\x00*', integer: 42, string: *\n",
      "bytes: b'\\x00\\x00\\x00+', integer: 43, string: +\n",
      "bytes: b'\\x00\\x00\\x00,', integer: 44, string: ,\n",
      "bytes: b'\\x00\\x00\\x00-', integer: 45, string: -\n",
      "bytes: b'\\x00\\x00\\x00.', integer: 46, string: .\n",
      "bytes: b'\\x00\\x00\\x00/', integer: 47, string: /\n",
      "bytes: b'\\x00\\x00\\x000', integer: 48, string: 0\n",
      "bytes: b'\\x00\\x00\\x001', integer: 49, string: 1\n",
      "bytes: b'\\x00\\x00\\x002', integer: 50, string: 2\n",
      "bytes: b'\\x00\\x00\\x003', integer: 51, string: 3\n",
      "bytes: b'\\x00\\x00\\x004', integer: 52, string: 4\n",
      "bytes: b'\\x00\\x00\\x005', integer: 53, string: 5\n",
      "bytes: b'\\x00\\x00\\x006', integer: 54, string: 6\n",
      "bytes: b'\\x00\\x00\\x007', integer: 55, string: 7\n",
      "bytes: b'\\x00\\x00\\x008', integer: 56, string: 8\n",
      "bytes: b'\\x00\\x00\\x009', integer: 57, string: 9\n",
      "bytes: b'\\x00\\x00\\x00:', integer: 58, string: :\n",
      "bytes: b'\\x00\\x00\\x00;', integer: 59, string: ;\n",
      "bytes: b'\\x00\\x00\\x00<', integer: 60, string: <\n",
      "bytes: b'\\x00\\x00\\x00=', integer: 61, string: =\n",
      "bytes: b'\\x00\\x00\\x00>', integer: 62, string: >\n",
      "bytes: b'\\x00\\x00\\x00?', integer: 63, string: ?\n",
      "bytes: b'\\x00\\x00\\x00@', integer: 64, string: @\n",
      "bytes: b'\\x00\\x00\\x00A', integer: 65, string: A\n",
      "bytes: b'\\x00\\x00\\x00B', integer: 66, string: B\n",
      "bytes: b'\\x00\\x00\\x00C', integer: 67, string: C\n",
      "bytes: b'\\x00\\x00\\x00D', integer: 68, string: D\n",
      "bytes: b'\\x00\\x00\\x00E', integer: 69, string: E\n",
      "bytes: b'\\x00\\x00\\x00F', integer: 70, string: F\n",
      "bytes: b'\\x00\\x00\\x00G', integer: 71, string: G\n",
      "bytes: b'\\x00\\x00\\x00H', integer: 72, string: H\n",
      "bytes: b'\\x00\\x00\\x00I', integer: 73, string: I\n",
      "bytes: b'\\x00\\x00\\x00J', integer: 74, string: J\n",
      "bytes: b'\\x00\\x00\\x00K', integer: 75, string: K\n",
      "bytes: b'\\x00\\x00\\x00L', integer: 76, string: L\n",
      "bytes: b'\\x00\\x00\\x00M', integer: 77, string: M\n",
      "bytes: b'\\x00\\x00\\x00N', integer: 78, string: N\n",
      "bytes: b'\\x00\\x00\\x00O', integer: 79, string: O\n",
      "bytes: b'\\x00\\x00\\x00P', integer: 80, string: P\n",
      "bytes: b'\\x00\\x00\\x00Q', integer: 81, string: Q\n",
      "bytes: b'\\x00\\x00\\x00R', integer: 82, string: R\n",
      "bytes: b'\\x00\\x00\\x00S', integer: 83, string: S\n",
      "bytes: b'\\x00\\x00\\x00T', integer: 84, string: T\n",
      "bytes: b'\\x00\\x00\\x00U', integer: 85, string: U\n",
      "bytes: b'\\x00\\x00\\x00V', integer: 86, string: V\n",
      "bytes: b'\\x00\\x00\\x00W', integer: 87, string: W\n",
      "bytes: b'\\x00\\x00\\x00X', integer: 88, string: X\n",
      "bytes: b'\\x00\\x00\\x00Y', integer: 89, string: Y\n",
      "bytes: b'\\x00\\x00\\x00Z', integer: 90, string: Z\n",
      "bytes: b'\\x00\\x00\\x00[', integer: 91, string: [\n",
      "bytes: b'\\x00\\x00\\x00\\\\', integer: 92, string: \\\n",
      "bytes: b'\\x00\\x00\\x00]', integer: 93, string: ]\n",
      "bytes: b'\\x00\\x00\\x00^', integer: 94, string: ^\n",
      "bytes: b'\\x00\\x00\\x00_', integer: 95, string: _\n",
      "bytes: b'\\x00\\x00\\x00`', integer: 96, string: `\n",
      "bytes: b'\\x00\\x00\\x00a', integer: 97, string: a\n",
      "bytes: b'\\x00\\x00\\x00b', integer: 98, string: b\n",
      "bytes: b'\\x00\\x00\\x00c', integer: 99, string: c\n",
      "bytes: b'\\x00\\x00\\x00d', integer: 100, string: d\n",
      "bytes: b'\\x00\\x00\\x00e', integer: 101, string: e\n",
      "bytes: b'\\x00\\x00\\x00f', integer: 102, string: f\n",
      "bytes: b'\\x00\\x00\\x00g', integer: 103, string: g\n",
      "bytes: b'\\x00\\x00\\x00h', integer: 104, string: h\n",
      "bytes: b'\\x00\\x00\\x00i', integer: 105, string: i\n",
      "bytes: b'\\x00\\x00\\x00j', integer: 106, string: j\n",
      "bytes: b'\\x00\\x00\\x00k', integer: 107, string: k\n",
      "bytes: b'\\x00\\x00\\x00l', integer: 108, string: l\n",
      "bytes: b'\\x00\\x00\\x00m', integer: 109, string: m\n",
      "bytes: b'\\x00\\x00\\x00n', integer: 110, string: n\n",
      "bytes: b'\\x00\\x00\\x00o', integer: 111, string: o\n",
      "bytes: b'\\x00\\x00\\x00p', integer: 112, string: p\n",
      "bytes: b'\\x00\\x00\\x00q', integer: 113, string: q\n",
      "bytes: b'\\x00\\x00\\x00r', integer: 114, string: r\n",
      "bytes: b'\\x00\\x00\\x00s', integer: 115, string: s\n",
      "bytes: b'\\x00\\x00\\x00t', integer: 116, string: t\n",
      "bytes: b'\\x00\\x00\\x00u', integer: 117, string: u\n",
      "bytes: b'\\x00\\x00\\x00v', integer: 118, string: v\n",
      "bytes: b'\\x00\\x00\\x00w', integer: 119, string: w\n",
      "bytes: b'\\x00\\x00\\x00x', integer: 120, string: x\n",
      "bytes: b'\\x00\\x00\\x00y', integer: 121, string: y\n",
      "bytes: b'\\x00\\x00\\x00z', integer: 122, string: z\n",
      "bytes: b'\\x00\\x00\\x00{', integer: 123, string: {\n",
      "bytes: b'\\x00\\x00\\x00|', integer: 124, string: |\n",
      "bytes: b'\\x00\\x00\\x00}', integer: 125, string: }\n",
      "bytes: b'\\x00\\x00\\x00~', integer: 126, string: ~\n",
      "bytes: b'\\x00\\x00\\x00\\x7f', integer: 127, string: \n",
      "bytes: b'\\x00\\x00\\x00\\x80', integer: 128, string: \n",
      "bytes: b'\\x00\\x00\\x00\\x81', integer: 129, string: \n",
      "bytes: b'\\x00\\x00\\x00\\x82', integer: 130, string: \n",
      "bytes: b'\\x00\\x00\\x00\\x83', integer: 131, string: \n",
      "bytes: b'\\x00\\x00\\x00\\x84', integer: 132, string: \n",
      "bytes: b'\\x00\\x00\\x00\\x85', integer: 133, string: ",
      "\n",
      "bytes: b'\\x00\\x00\\x00\\x86', integer: 134, string: \n",
      "bytes: b'\\x00\\x00\\x00\\x87', integer: 135, string: \n",
      "bytes: b'\\x00\\x00\\x00\\x88', integer: 136, string: \n",
      "bytes: b'\\x00\\x00\\x00\\x89', integer: 137, string: \n",
      "bytes: b'\\x00\\x00\\x00\\x8a', integer: 138, string: \n",
      "bytes: b'\\x00\\x00\\x00\\x8b', integer: 139, string: \n",
      "bytes: b'\\x00\\x00\\x00\\x8c', integer: 140, string: \n",
      "bytes: b'\\x00\\x00\\x00\\x8d', integer: 141, string: \n",
      "bytes: b'\\x00\\x00\\x00\\x8e', integer: 142, string: \n",
      "bytes: b'\\x00\\x00\\x00\\x8f', integer: 143, string: \n",
      "bytes: b'\\x00\\x00\\x00\\x90', integer: 144, string: \n",
      "bytes: b'\\x00\\x00\\x00\\x91', integer: 145, string: \n",
      "bytes: b'\\x00\\x00\\x00\\x92', integer: 146, string: \n",
      "bytes: b'\\x00\\x00\\x00\\x93', integer: 147, string: \n",
      "bytes: b'\\x00\\x00\\x00\\x94', integer: 148, string: \n",
      "bytes: b'\\x00\\x00\\x00\\x95', integer: 149, string: \n",
      "bytes: b'\\x00\\x00\\x00\\x96', integer: 150, string: \n",
      "bytes: b'\\x00\\x00\\x00\\x97', integer: 151, string: \n",
      "bytes: b'\\x00\\x00\\x00\\x98', integer: 152, string: \n",
      "bytes: b'\\x00\\x00\\x00\\x99', integer: 153, string: \n",
      "bytes: b'\\x00\\x00\\x00\\x9a', integer: 154, string: \n",
      "bytes: b'\\x00\\x00\\x00\\x9b', integer: 155, string: \n",
      "bytes: b'\\x00\\x00\\x00\\x9c', integer: 156, string: \n",
      "bytes: b'\\x00\\x00\\x00\\x9d', integer: 157, string: \n",
      "bytes: b'\\x00\\x00\\x00\\x9e', integer: 158, string: \n",
      "bytes: b'\\x00\\x00\\x00\\x9f', integer: 159, string: \n",
      "bytes: b'\\x00\\x00\\x00\\xa0', integer: 160, string:  \n",
      "bytes: b'\\x00\\x00\\x00\\xa1', integer: 161, string: ¡\n",
      "bytes: b'\\x00\\x00\\x00\\xa2', integer: 162, string: ¢\n",
      "bytes: b'\\x00\\x00\\x00\\xa3', integer: 163, string: £\n",
      "bytes: b'\\x00\\x00\\x00\\xa4', integer: 164, string: ¤\n",
      "bytes: b'\\x00\\x00\\x00\\xa5', integer: 165, string: ¥\n",
      "bytes: b'\\x00\\x00\\x00\\xa6', integer: 166, string: ¦\n",
      "bytes: b'\\x00\\x00\\x00\\xa7', integer: 167, string: §\n",
      "bytes: b'\\x00\\x00\\x00\\xa8', integer: 168, string: ¨\n",
      "bytes: b'\\x00\\x00\\x00\\xa9', integer: 169, string: ©\n",
      "bytes: b'\\x00\\x00\\x00\\xaa', integer: 170, string: ª\n",
      "bytes: b'\\x00\\x00\\x00\\xab', integer: 171, string: «\n",
      "bytes: b'\\x00\\x00\\x00\\xac', integer: 172, string: ¬\n",
      "bytes: b'\\x00\\x00\\x00\\xad', integer: 173, string: ­\n",
      "bytes: b'\\x00\\x00\\x00\\xae', integer: 174, string: ®\n",
      "bytes: b'\\x00\\x00\\x00\\xaf', integer: 175, string: ¯\n",
      "bytes: b'\\x00\\x00\\x00\\xb0', integer: 176, string: °\n",
      "bytes: b'\\x00\\x00\\x00\\xb1', integer: 177, string: ±\n",
      "bytes: b'\\x00\\x00\\x00\\xb2', integer: 178, string: ²\n",
      "bytes: b'\\x00\\x00\\x00\\xb3', integer: 179, string: ³\n",
      "bytes: b'\\x00\\x00\\x00\\xb4', integer: 180, string: ´\n",
      "bytes: b'\\x00\\x00\\x00\\xb5', integer: 181, string: µ\n",
      "bytes: b'\\x00\\x00\\x00\\xb6', integer: 182, string: ¶\n",
      "bytes: b'\\x00\\x00\\x00\\xb7', integer: 183, string: ·\n",
      "bytes: b'\\x00\\x00\\x00\\xb8', integer: 184, string: ¸\n",
      "bytes: b'\\x00\\x00\\x00\\xb9', integer: 185, string: ¹\n",
      "bytes: b'\\x00\\x00\\x00\\xba', integer: 186, string: º\n",
      "bytes: b'\\x00\\x00\\x00\\xbb', integer: 187, string: »\n",
      "bytes: b'\\x00\\x00\\x00\\xbc', integer: 188, string: ¼\n",
      "bytes: b'\\x00\\x00\\x00\\xbd', integer: 189, string: ½\n",
      "bytes: b'\\x00\\x00\\x00\\xbe', integer: 190, string: ¾\n",
      "bytes: b'\\x00\\x00\\x00\\xbf', integer: 191, string: ¿\n",
      "bytes: b'\\x00\\x00\\x00\\xc0', integer: 192, string: À\n",
      "bytes: b'\\x00\\x00\\x00\\xc1', integer: 193, string: Á\n",
      "bytes: b'\\x00\\x00\\x00\\xc2', integer: 194, string: Â\n",
      "bytes: b'\\x00\\x00\\x00\\xc3', integer: 195, string: Ã\n",
      "bytes: b'\\x00\\x00\\x00\\xc4', integer: 196, string: Ä\n",
      "bytes: b'\\x00\\x00\\x00\\xc5', integer: 197, string: Å\n",
      "bytes: b'\\x00\\x00\\x00\\xc6', integer: 198, string: Æ\n",
      "bytes: b'\\x00\\x00\\x00\\xc7', integer: 199, string: Ç\n",
      "bytes: b'\\x00\\x00\\x00\\xc8', integer: 200, string: È\n",
      "bytes: b'\\x00\\x00\\x00\\xc9', integer: 201, string: É\n",
      "bytes: b'\\x00\\x00\\x00\\xca', integer: 202, string: Ê\n",
      "bytes: b'\\x00\\x00\\x00\\xcb', integer: 203, string: Ë\n",
      "bytes: b'\\x00\\x00\\x00\\xcc', integer: 204, string: Ì\n",
      "bytes: b'\\x00\\x00\\x00\\xcd', integer: 205, string: Í\n",
      "bytes: b'\\x00\\x00\\x00\\xce', integer: 206, string: Î\n",
      "bytes: b'\\x00\\x00\\x00\\xcf', integer: 207, string: Ï\n",
      "bytes: b'\\x00\\x00\\x00\\xd0', integer: 208, string: Ð\n",
      "bytes: b'\\x00\\x00\\x00\\xd1', integer: 209, string: Ñ\n",
      "bytes: b'\\x00\\x00\\x00\\xd2', integer: 210, string: Ò\n",
      "bytes: b'\\x00\\x00\\x00\\xd3', integer: 211, string: Ó\n",
      "bytes: b'\\x00\\x00\\x00\\xd4', integer: 212, string: Ô\n",
      "bytes: b'\\x00\\x00\\x00\\xd5', integer: 213, string: Õ\n",
      "bytes: b'\\x00\\x00\\x00\\xd6', integer: 214, string: Ö\n",
      "bytes: b'\\x00\\x00\\x00\\xd7', integer: 215, string: ×\n",
      "bytes: b'\\x00\\x00\\x00\\xd8', integer: 216, string: Ø\n",
      "bytes: b'\\x00\\x00\\x00\\xd9', integer: 217, string: Ù\n",
      "bytes: b'\\x00\\x00\\x00\\xda', integer: 218, string: Ú\n",
      "bytes: b'\\x00\\x00\\x00\\xdb', integer: 219, string: Û\n",
      "bytes: b'\\x00\\x00\\x00\\xdc', integer: 220, string: Ü\n",
      "bytes: b'\\x00\\x00\\x00\\xdd', integer: 221, string: Ý\n",
      "bytes: b'\\x00\\x00\\x00\\xde', integer: 222, string: Þ\n",
      "bytes: b'\\x00\\x00\\x00\\xdf', integer: 223, string: ß\n",
      "bytes: b'\\x00\\x00\\x00\\xe0', integer: 224, string: à\n",
      "bytes: b'\\x00\\x00\\x00\\xe1', integer: 225, string: á\n",
      "bytes: b'\\x00\\x00\\x00\\xe2', integer: 226, string: â\n",
      "bytes: b'\\x00\\x00\\x00\\xe3', integer: 227, string: ã\n",
      "bytes: b'\\x00\\x00\\x00\\xe4', integer: 228, string: ä\n",
      "bytes: b'\\x00\\x00\\x00\\xe5', integer: 229, string: å\n",
      "bytes: b'\\x00\\x00\\x00\\xe6', integer: 230, string: æ\n",
      "bytes: b'\\x00\\x00\\x00\\xe7', integer: 231, string: ç\n",
      "bytes: b'\\x00\\x00\\x00\\xe8', integer: 232, string: è\n",
      "bytes: b'\\x00\\x00\\x00\\xe9', integer: 233, string: é\n",
      "bytes: b'\\x00\\x00\\x00\\xea', integer: 234, string: ê\n",
      "bytes: b'\\x00\\x00\\x00\\xeb', integer: 235, string: ë\n",
      "bytes: b'\\x00\\x00\\x00\\xec', integer: 236, string: ì\n",
      "bytes: b'\\x00\\x00\\x00\\xed', integer: 237, string: í\n",
      "bytes: b'\\x00\\x00\\x00\\xee', integer: 238, string: î\n",
      "bytes: b'\\x00\\x00\\x00\\xef', integer: 239, string: ï\n",
      "bytes: b'\\x00\\x00\\x00\\xf0', integer: 240, string: ð\n",
      "bytes: b'\\x00\\x00\\x00\\xf1', integer: 241, string: ñ\n",
      "bytes: b'\\x00\\x00\\x00\\xf2', integer: 242, string: ò\n",
      "bytes: b'\\x00\\x00\\x00\\xf3', integer: 243, string: ó\n",
      "bytes: b'\\x00\\x00\\x00\\xf4', integer: 244, string: ô\n",
      "bytes: b'\\x00\\x00\\x00\\xf5', integer: 245, string: õ\n",
      "bytes: b'\\x00\\x00\\x00\\xf6', integer: 246, string: ö\n",
      "bytes: b'\\x00\\x00\\x00\\xf7', integer: 247, string: ÷\n",
      "bytes: b'\\x00\\x00\\x00\\xf8', integer: 248, string: ø\n",
      "bytes: b'\\x00\\x00\\x00\\xf9', integer: 249, string: ù\n",
      "bytes: b'\\x00\\x00\\x00\\xfa', integer: 250, string: ú\n",
      "bytes: b'\\x00\\x00\\x00\\xfb', integer: 251, string: û\n",
      "bytes: b'\\x00\\x00\\x00\\xfc', integer: 252, string: ü\n",
      "bytes: b'\\x00\\x00\\x00\\xfd', integer: 253, string: ý\n",
      "bytes: b'\\x00\\x00\\x00\\xfe', integer: 254, string: þ\n",
      "bytes: b'\\x00\\x00\\x00\\xff', integer: 255, string: ÿ\n",
      "bytes: b'\\x00\\x00\\x01\\x00', integer: 256, string: Ā\n",
      "bytes: b'\\x00\\x00\\x01\\x01', integer: 257, string: ā\n",
      "bytes: b'\\x00\\x00\\x01\\x02', integer: 258, string: Ă\n",
      "bytes: b'\\x00\\x00\\x01\\x03', integer: 259, string: ă\n",
      "bytes: b'\\x00\\x00\\x01\\x04', integer: 260, string: Ą\n",
      "bytes: b'\\x00\\x00\\x01\\x05', integer: 261, string: ą\n",
      "bytes: b'\\x00\\x00\\x01\\x06', integer: 262, string: Ć\n",
      "bytes: b'\\x00\\x00\\x01\\x07', integer: 263, string: ć\n",
      "bytes: b'\\x00\\x00\\x01\\x08', integer: 264, string: Ĉ\n",
      "bytes: b'\\x00\\x00\\x01\\t', integer: 265, string: ĉ\n",
      "bytes: b'\\x00\\x00\\x01\\n', integer: 266, string: Ċ\n",
      "bytes: b'\\x00\\x00\\x01\\x0b', integer: 267, string: ċ\n",
      "bytes: b'\\x00\\x00\\x01\\x0c', integer: 268, string: Č\n",
      "bytes: b'\\x00\\x00\\x01\\r', integer: 269, string: č\n",
      "bytes: b'\\x00\\x00\\x01\\x0e', integer: 270, string: Ď\n",
      "bytes: b'\\x00\\x00\\x01\\x0f', integer: 271, string: ď\n",
      "bytes: b'\\x00\\x00\\x01\\x10', integer: 272, string: Đ\n",
      "bytes: b'\\x00\\x00\\x01\\x11', integer: 273, string: đ\n",
      "bytes: b'\\x00\\x00\\x01\\x12', integer: 274, string: Ē\n",
      "bytes: b'\\x00\\x00\\x01\\x13', integer: 275, string: ē\n",
      "bytes: b'\\x00\\x00\\x01\\x14', integer: 276, string: Ĕ\n",
      "bytes: b'\\x00\\x00\\x01\\x15', integer: 277, string: ĕ\n",
      "bytes: b'\\x00\\x00\\x01\\x16', integer: 278, string: Ė\n",
      "bytes: b'\\x00\\x00\\x01\\x17', integer: 279, string: ė\n",
      "bytes: b'\\x00\\x00\\x01\\x18', integer: 280, string: Ę\n",
      "bytes: b'\\x00\\x00\\x01\\x19', integer: 281, string: ę\n",
      "bytes: b'\\x00\\x00\\x01\\x1a', integer: 282, string: Ě\n",
      "bytes: b'\\x00\\x00\\x01\\x1b', integer: 283, string: ě\n",
      "bytes: b'\\x00\\x00\\x01\\x1c', integer: 284, string: Ĝ\n",
      "bytes: b'\\x00\\x00\\x01\\x1d', integer: 285, string: ĝ\n",
      "bytes: b'\\x00\\x00\\x01\\x1e', integer: 286, string: Ğ\n",
      "bytes: b'\\x00\\x00\\x01\\x1f', integer: 287, string: ğ\n",
      "bytes: b'\\x00\\x00\\x01 ', integer: 288, string: Ġ\n",
      "bytes: b'\\x00\\x00\\x01!', integer: 289, string: ġ\n",
      "bytes: b'\\x00\\x00\\x01\"', integer: 290, string: Ģ\n",
      "bytes: b'\\x00\\x00\\x01#', integer: 291, string: ģ\n",
      "bytes: b'\\x00\\x00\\x01$', integer: 292, string: Ĥ\n",
      "bytes: b'\\x00\\x00\\x01%', integer: 293, string: ĥ\n",
      "bytes: b'\\x00\\x00\\x01&', integer: 294, string: Ħ\n",
      "bytes: b\"\\x00\\x00\\x01'\", integer: 295, string: ħ\n",
      "bytes: b'\\x00\\x00\\x01(', integer: 296, string: Ĩ\n",
      "bytes: b'\\x00\\x00\\x01)', integer: 297, string: ĩ\n",
      "bytes: b'\\x00\\x00\\x01*', integer: 298, string: Ī\n",
      "bytes: b'\\x00\\x00\\x01+', integer: 299, string: ī\n",
      "bytes: b'\\x00\\x00\\x01,', integer: 300, string: Ĭ\n",
      "bytes: b'\\x00\\x00\\x01-', integer: 301, string: ĭ\n",
      "bytes: b'\\x00\\x00\\x01.', integer: 302, string: Į\n",
      "bytes: b'\\x00\\x00\\x01/', integer: 303, string: į\n",
      "bytes: b'\\x00\\x00\\x010', integer: 304, string: İ\n",
      "bytes: b'\\x00\\x00\\x011', integer: 305, string: ı\n",
      "bytes: b'\\x00\\x00\\x012', integer: 306, string: Ĳ\n",
      "bytes: b'\\x00\\x00\\x013', integer: 307, string: ĳ\n",
      "bytes: b'\\x00\\x00\\x014', integer: 308, string: Ĵ\n",
      "bytes: b'\\x00\\x00\\x015', integer: 309, string: ĵ\n",
      "bytes: b'\\x00\\x00\\x016', integer: 310, string: Ķ\n",
      "bytes: b'\\x00\\x00\\x017', integer: 311, string: ķ\n",
      "bytes: b'\\x00\\x00\\x018', integer: 312, string: ĸ\n",
      "bytes: b'\\x00\\x00\\x019', integer: 313, string: Ĺ\n",
      "bytes: b'\\x00\\x00\\x01:', integer: 314, string: ĺ\n",
      "bytes: b'\\x00\\x00\\x01;', integer: 315, string: Ļ\n",
      "bytes: b'\\x00\\x00\\x01<', integer: 316, string: ļ\n",
      "bytes: b'\\x00\\x00\\x01=', integer: 317, string: Ľ\n",
      "bytes: b'\\x00\\x00\\x01>', integer: 318, string: ľ\n",
      "bytes: b'\\x00\\x00\\x01?', integer: 319, string: Ŀ\n",
      "bytes: b'\\x00\\x00\\x01@', integer: 320, string: ŀ\n",
      "bytes: b'\\x00\\x00\\x01A', integer: 321, string: Ł\n",
      "bytes: b'\\x00\\x00\\x01B', integer: 322, string: ł\n",
      "bytes: b'\\x00\\x00\\x01C', integer: 323, string: Ń\n",
      "bytes: b'\\x00\\x00\\x01D', integer: 324, string: ń\n",
      "bytes: b'\\x00\\x00\\x01E', integer: 325, string: Ņ\n",
      "bytes: b'\\x00\\x00\\x01F', integer: 326, string: ņ\n",
      "bytes: b'\\x00\\x00\\x01G', integer: 327, string: Ň\n",
      "bytes: b'\\x00\\x00\\x01H', integer: 328, string: ň\n",
      "bytes: b'\\x00\\x00\\x01I', integer: 329, string: ŉ\n",
      "bytes: b'\\x00\\x00\\x01J', integer: 330, string: Ŋ\n",
      "bytes: b'\\x00\\x00\\x01K', integer: 331, string: ŋ\n",
      "bytes: b'\\x00\\x00\\x01L', integer: 332, string: Ō\n",
      "bytes: b'\\x00\\x00\\x01M', integer: 333, string: ō\n",
      "bytes: b'\\x00\\x00\\x01N', integer: 334, string: Ŏ\n",
      "bytes: b'\\x00\\x00\\x01O', integer: 335, string: ŏ\n",
      "bytes: b'\\x00\\x00\\x01P', integer: 336, string: Ő\n",
      "bytes: b'\\x00\\x00\\x01Q', integer: 337, string: ő\n",
      "bytes: b'\\x00\\x00\\x01R', integer: 338, string: Œ\n",
      "bytes: b'\\x00\\x00\\x01S', integer: 339, string: œ\n",
      "bytes: b'\\x00\\x00\\x01T', integer: 340, string: Ŕ\n",
      "bytes: b'\\x00\\x00\\x01U', integer: 341, string: ŕ\n",
      "bytes: b'\\x00\\x00\\x01V', integer: 342, string: Ŗ\n",
      "bytes: b'\\x00\\x00\\x01W', integer: 343, string: ŗ\n",
      "bytes: b'\\x00\\x00\\x01X', integer: 344, string: Ř\n",
      "bytes: b'\\x00\\x00\\x01Y', integer: 345, string: ř\n",
      "bytes: b'\\x00\\x00\\x01Z', integer: 346, string: Ś\n",
      "bytes: b'\\x00\\x00\\x01[', integer: 347, string: ś\n",
      "bytes: b'\\x00\\x00\\x01\\\\', integer: 348, string: Ŝ\n",
      "bytes: b'\\x00\\x00\\x01]', integer: 349, string: ŝ\n",
      "bytes: b'\\x00\\x00\\x01^', integer: 350, string: Ş\n",
      "bytes: b'\\x00\\x00\\x01_', integer: 351, string: ş\n",
      "bytes: b'\\x00\\x00\\x01`', integer: 352, string: Š\n",
      "bytes: b'\\x00\\x00\\x01a', integer: 353, string: š\n",
      "bytes: b'\\x00\\x00\\x01b', integer: 354, string: Ţ\n",
      "bytes: b'\\x00\\x00\\x01c', integer: 355, string: ţ\n",
      "bytes: b'\\x00\\x00\\x01d', integer: 356, string: Ť\n",
      "bytes: b'\\x00\\x00\\x01e', integer: 357, string: ť\n",
      "bytes: b'\\x00\\x00\\x01f', integer: 358, string: Ŧ\n",
      "bytes: b'\\x00\\x00\\x01g', integer: 359, string: ŧ\n",
      "bytes: b'\\x00\\x00\\x01h', integer: 360, string: Ũ\n",
      "bytes: b'\\x00\\x00\\x01i', integer: 361, string: ũ\n",
      "bytes: b'\\x00\\x00\\x01j', integer: 362, string: Ū\n",
      "bytes: b'\\x00\\x00\\x01k', integer: 363, string: ū\n",
      "bytes: b'\\x00\\x00\\x01l', integer: 364, string: Ŭ\n",
      "bytes: b'\\x00\\x00\\x01m', integer: 365, string: ŭ\n",
      "bytes: b'\\x00\\x00\\x01n', integer: 366, string: Ů\n",
      "bytes: b'\\x00\\x00\\x01o', integer: 367, string: ů\n",
      "bytes: b'\\x00\\x00\\x01p', integer: 368, string: Ű\n",
      "bytes: b'\\x00\\x00\\x01q', integer: 369, string: ű\n",
      "bytes: b'\\x00\\x00\\x01r', integer: 370, string: Ų\n",
      "bytes: b'\\x00\\x00\\x01s', integer: 371, string: ų\n",
      "bytes: b'\\x00\\x00\\x01t', integer: 372, string: Ŵ\n",
      "bytes: b'\\x00\\x00\\x01u', integer: 373, string: ŵ\n",
      "bytes: b'\\x00\\x00\\x01v', integer: 374, string: Ŷ\n",
      "bytes: b'\\x00\\x00\\x01w', integer: 375, string: ŷ\n",
      "bytes: b'\\x00\\x00\\x01x', integer: 376, string: Ÿ\n",
      "bytes: b'\\x00\\x00\\x01y', integer: 377, string: Ź\n",
      "bytes: b'\\x00\\x00\\x01z', integer: 378, string: ź\n",
      "bytes: b'\\x00\\x00\\x01{', integer: 379, string: Ż\n",
      "bytes: b'\\x00\\x00\\x01|', integer: 380, string: ż\n",
      "bytes: b'\\x00\\x00\\x01}', integer: 381, string: Ž\n",
      "bytes: b'\\x00\\x00\\x01~', integer: 382, string: ž\n",
      "bytes: b'\\x00\\x00\\x01\\x7f', integer: 383, string: ſ\n",
      "bytes: b'\\x00\\x00\\x01\\x80', integer: 384, string: ƀ\n",
      "bytes: b'\\x00\\x00\\x01\\x81', integer: 385, string: Ɓ\n",
      "bytes: b'\\x00\\x00\\x01\\x82', integer: 386, string: Ƃ\n",
      "bytes: b'\\x00\\x00\\x01\\x83', integer: 387, string: ƃ\n",
      "bytes: b'\\x00\\x00\\x01\\x84', integer: 388, string: Ƅ\n",
      "bytes: b'\\x00\\x00\\x01\\x85', integer: 389, string: ƅ\n",
      "bytes: b'\\x00\\x00\\x01\\x86', integer: 390, string: Ɔ\n",
      "bytes: b'\\x00\\x00\\x01\\x87', integer: 391, string: Ƈ\n",
      "bytes: b'\\x00\\x00\\x01\\x88', integer: 392, string: ƈ\n",
      "bytes: b'\\x00\\x00\\x01\\x89', integer: 393, string: Ɖ\n",
      "bytes: b'\\x00\\x00\\x01\\x8a', integer: 394, string: Ɗ\n",
      "bytes: b'\\x00\\x00\\x01\\x8b', integer: 395, string: Ƌ\n",
      "bytes: b'\\x00\\x00\\x01\\x8c', integer: 396, string: ƌ\n",
      "bytes: b'\\x00\\x00\\x01\\x8d', integer: 397, string: ƍ\n",
      "bytes: b'\\x00\\x00\\x01\\x8e', integer: 398, string: Ǝ\n",
      "bytes: b'\\x00\\x00\\x01\\x8f', integer: 399, string: Ə\n",
      "bytes: b'\\x00\\x00\\x01\\x90', integer: 400, string: Ɛ\n",
      "bytes: b'\\x00\\x00\\x01\\x91', integer: 401, string: Ƒ\n",
      "bytes: b'\\x00\\x00\\x01\\x92', integer: 402, string: ƒ\n",
      "bytes: b'\\x00\\x00\\x01\\x93', integer: 403, string: Ɠ\n",
      "bytes: b'\\x00\\x00\\x01\\x94', integer: 404, string: Ɣ\n",
      "bytes: b'\\x00\\x00\\x01\\x95', integer: 405, string: ƕ\n",
      "bytes: b'\\x00\\x00\\x01\\x96', integer: 406, string: Ɩ\n",
      "bytes: b'\\x00\\x00\\x01\\x97', integer: 407, string: Ɨ\n",
      "bytes: b'\\x00\\x00\\x01\\x98', integer: 408, string: Ƙ\n",
      "bytes: b'\\x00\\x00\\x01\\x99', integer: 409, string: ƙ\n",
      "bytes: b'\\x00\\x00\\x01\\x9a', integer: 410, string: ƚ\n",
      "bytes: b'\\x00\\x00\\x01\\x9b', integer: 411, string: ƛ\n",
      "bytes: b'\\x00\\x00\\x01\\x9c', integer: 412, string: Ɯ\n",
      "bytes: b'\\x00\\x00\\x01\\x9d', integer: 413, string: Ɲ\n",
      "bytes: b'\\x00\\x00\\x01\\x9e', integer: 414, string: ƞ\n",
      "bytes: b'\\x00\\x00\\x01\\x9f', integer: 415, string: Ɵ\n",
      "bytes: b'\\x00\\x00\\x01\\xa0', integer: 416, string: Ơ\n",
      "bytes: b'\\x00\\x00\\x01\\xa1', integer: 417, string: ơ\n",
      "bytes: b'\\x00\\x00\\x01\\xa2', integer: 418, string: Ƣ\n",
      "bytes: b'\\x00\\x00\\x01\\xa3', integer: 419, string: ƣ\n",
      "bytes: b'\\x00\\x00\\x01\\xa4', integer: 420, string: Ƥ\n",
      "bytes: b'\\x00\\x00\\x01\\xa5', integer: 421, string: ƥ\n",
      "bytes: b'\\x00\\x00\\x01\\xa6', integer: 422, string: Ʀ\n",
      "bytes: b'\\x00\\x00\\x01\\xa7', integer: 423, string: Ƨ\n",
      "bytes: b'\\x00\\x00\\x01\\xa8', integer: 424, string: ƨ\n",
      "bytes: b'\\x00\\x00\\x01\\xa9', integer: 425, string: Ʃ\n",
      "bytes: b'\\x00\\x00\\x01\\xaa', integer: 426, string: ƪ\n",
      "bytes: b'\\x00\\x00\\x01\\xab', integer: 427, string: ƫ\n",
      "bytes: b'\\x00\\x00\\x01\\xac', integer: 428, string: Ƭ\n",
      "bytes: b'\\x00\\x00\\x01\\xad', integer: 429, string: ƭ\n",
      "bytes: b'\\x00\\x00\\x01\\xae', integer: 430, string: Ʈ\n",
      "bytes: b'\\x00\\x00\\x01\\xaf', integer: 431, string: Ư\n",
      "bytes: b'\\x00\\x00\\x01\\xb0', integer: 432, string: ư\n",
      "bytes: b'\\x00\\x00\\x01\\xb1', integer: 433, string: Ʊ\n",
      "bytes: b'\\x00\\x00\\x01\\xb2', integer: 434, string: Ʋ\n",
      "bytes: b'\\x00\\x00\\x01\\xb3', integer: 435, string: Ƴ\n",
      "bytes: b'\\x00\\x00\\x01\\xb4', integer: 436, string: ƴ\n",
      "bytes: b'\\x00\\x00\\x01\\xb5', integer: 437, string: Ƶ\n",
      "bytes: b'\\x00\\x00\\x01\\xb6', integer: 438, string: ƶ\n",
      "bytes: b'\\x00\\x00\\x01\\xb7', integer: 439, string: Ʒ\n",
      "bytes: b'\\x00\\x00\\x01\\xb8', integer: 440, string: Ƹ\n",
      "bytes: b'\\x00\\x00\\x01\\xb9', integer: 441, string: ƹ\n",
      "bytes: b'\\x00\\x00\\x01\\xba', integer: 442, string: ƺ\n",
      "bytes: b'\\x00\\x00\\x01\\xbb', integer: 443, string: ƻ\n",
      "bytes: b'\\x00\\x00\\x01\\xbc', integer: 444, string: Ƽ\n",
      "bytes: b'\\x00\\x00\\x01\\xbd', integer: 445, string: ƽ\n",
      "bytes: b'\\x00\\x00\\x01\\xbe', integer: 446, string: ƾ\n",
      "bytes: b'\\x00\\x00\\x01\\xbf', integer: 447, string: ƿ\n",
      "bytes: b'\\x00\\x00\\x01\\xc0', integer: 448, string: ǀ\n",
      "bytes: b'\\x00\\x00\\x01\\xc1', integer: 449, string: ǁ\n",
      "bytes: b'\\x00\\x00\\x01\\xc2', integer: 450, string: ǂ\n",
      "bytes: b'\\x00\\x00\\x01\\xc3', integer: 451, string: ǃ\n",
      "bytes: b'\\x00\\x00\\x01\\xc4', integer: 452, string: Ǆ\n",
      "bytes: b'\\x00\\x00\\x01\\xc5', integer: 453, string: ǅ\n",
      "bytes: b'\\x00\\x00\\x01\\xc6', integer: 454, string: ǆ\n",
      "bytes: b'\\x00\\x00\\x01\\xc7', integer: 455, string: Ǉ\n",
      "bytes: b'\\x00\\x00\\x01\\xc8', integer: 456, string: ǈ\n",
      "bytes: b'\\x00\\x00\\x01\\xc9', integer: 457, string: ǉ\n",
      "bytes: b'\\x00\\x00\\x01\\xca', integer: 458, string: Ǌ\n",
      "bytes: b'\\x00\\x00\\x01\\xcb', integer: 459, string: ǋ\n",
      "bytes: b'\\x00\\x00\\x01\\xcc', integer: 460, string: ǌ\n",
      "bytes: b'\\x00\\x00\\x01\\xcd', integer: 461, string: Ǎ\n",
      "bytes: b'\\x00\\x00\\x01\\xce', integer: 462, string: ǎ\n",
      "bytes: b'\\x00\\x00\\x01\\xcf', integer: 463, string: Ǐ\n",
      "bytes: b'\\x00\\x00\\x01\\xd0', integer: 464, string: ǐ\n",
      "bytes: b'\\x00\\x00\\x01\\xd1', integer: 465, string: Ǒ\n",
      "bytes: b'\\x00\\x00\\x01\\xd2', integer: 466, string: ǒ\n",
      "bytes: b'\\x00\\x00\\x01\\xd3', integer: 467, string: Ǔ\n",
      "bytes: b'\\x00\\x00\\x01\\xd4', integer: 468, string: ǔ\n",
      "bytes: b'\\x00\\x00\\x01\\xd5', integer: 469, string: Ǖ\n",
      "bytes: b'\\x00\\x00\\x01\\xd6', integer: 470, string: ǖ\n",
      "bytes: b'\\x00\\x00\\x01\\xd7', integer: 471, string: Ǘ\n",
      "bytes: b'\\x00\\x00\\x01\\xd8', integer: 472, string: ǘ\n",
      "bytes: b'\\x00\\x00\\x01\\xd9', integer: 473, string: Ǚ\n",
      "bytes: b'\\x00\\x00\\x01\\xda', integer: 474, string: ǚ\n",
      "bytes: b'\\x00\\x00\\x01\\xdb', integer: 475, string: Ǜ\n",
      "bytes: b'\\x00\\x00\\x01\\xdc', integer: 476, string: ǜ\n",
      "bytes: b'\\x00\\x00\\x01\\xdd', integer: 477, string: ǝ\n",
      "bytes: b'\\x00\\x00\\x01\\xde', integer: 478, string: Ǟ\n",
      "bytes: b'\\x00\\x00\\x01\\xdf', integer: 479, string: ǟ\n",
      "bytes: b'\\x00\\x00\\x01\\xe0', integer: 480, string: Ǡ\n",
      "bytes: b'\\x00\\x00\\x01\\xe1', integer: 481, string: ǡ\n",
      "bytes: b'\\x00\\x00\\x01\\xe2', integer: 482, string: Ǣ\n",
      "bytes: b'\\x00\\x00\\x01\\xe3', integer: 483, string: ǣ\n",
      "bytes: b'\\x00\\x00\\x01\\xe4', integer: 484, string: Ǥ\n",
      "bytes: b'\\x00\\x00\\x01\\xe5', integer: 485, string: ǥ\n",
      "bytes: b'\\x00\\x00\\x01\\xe6', integer: 486, string: Ǧ\n",
      "bytes: b'\\x00\\x00\\x01\\xe7', integer: 487, string: ǧ\n",
      "bytes: b'\\x00\\x00\\x01\\xe8', integer: 488, string: Ǩ\n",
      "bytes: b'\\x00\\x00\\x01\\xe9', integer: 489, string: ǩ\n",
      "bytes: b'\\x00\\x00\\x01\\xea', integer: 490, string: Ǫ\n",
      "bytes: b'\\x00\\x00\\x01\\xeb', integer: 491, string: ǫ\n",
      "bytes: b'\\x00\\x00\\x01\\xec', integer: 492, string: Ǭ\n",
      "bytes: b'\\x00\\x00\\x01\\xed', integer: 493, string: ǭ\n",
      "bytes: b'\\x00\\x00\\x01\\xee', integer: 494, string: Ǯ\n",
      "bytes: b'\\x00\\x00\\x01\\xef', integer: 495, string: ǯ\n",
      "bytes: b'\\x00\\x00\\x01\\xf0', integer: 496, string: ǰ\n",
      "bytes: b'\\x00\\x00\\x01\\xf1', integer: 497, string: Ǳ\n",
      "bytes: b'\\x00\\x00\\x01\\xf2', integer: 498, string: ǲ\n",
      "bytes: b'\\x00\\x00\\x01\\xf3', integer: 499, string: ǳ\n",
      "bytes: b'\\x00\\x00\\x01\\xf4', integer: 500, string: Ǵ\n",
      "bytes: b'\\x00\\x00\\x01\\xf5', integer: 501, string: ǵ\n",
      "bytes: b'\\x00\\x00\\x01\\xf6', integer: 502, string: Ƕ\n",
      "bytes: b'\\x00\\x00\\x01\\xf7', integer: 503, string: Ƿ\n",
      "bytes: b'\\x00\\x00\\x01\\xf8', integer: 504, string: Ǹ\n",
      "bytes: b'\\x00\\x00\\x01\\xf9', integer: 505, string: ǹ\n",
      "bytes: b'\\x00\\x00\\x01\\xfa', integer: 506, string: Ǻ\n",
      "bytes: b'\\x00\\x00\\x01\\xfb', integer: 507, string: ǻ\n",
      "bytes: b'\\x00\\x00\\x01\\xfc', integer: 508, string: Ǽ\n",
      "bytes: b'\\x00\\x00\\x01\\xfd', integer: 509, string: ǽ\n",
      "bytes: b'\\x00\\x00\\x01\\xfe', integer: 510, string: Ǿ\n",
      "bytes: b'\\x00\\x00\\x01\\xff', integer: 511, string: ǿ\n"
     ]
    }
   ],
   "source": [
    "for i in range(0, 8**3):\n",
    "    bt = i.to_bytes(4)\n",
    "    print(f\"bytes: {bt}, integer: {i}, string: {chr(i)}\")"
   ]
  },
  {
   "cell_type": "code",
   "execution_count": null,
   "metadata": {},
   "outputs": [],
   "source": [
    "The `chr` function takes an integer and returns the corresponding unicode character."
   ]
  },
  {
   "cell_type": "markdown",
   "metadata": {},
   "source": [
    "#### Converting bytes to text \n",
    "\n",
    "If we receive a `bytes` object and we want to transform it to text, we can use the `int.from_bytes` method and the`chr` function:"
   ]
  },
  {
   "cell_type": "code",
   "execution_count": 77,
   "metadata": {},
   "outputs": [
    {
     "name": "stdout",
     "output_type": "stream",
     "text": [
      "The `uft8` codepoint  is = 67, the bytes representation = b'\\x00\\x00\\x00C', the representation is C\n",
      "The `uft8` codepoint  is = 105, the bytes representation = b'\\x00\\x00\\x00i', the representation is i\n",
      "The `uft8` codepoint  is = 97, the bytes representation = b'\\x00\\x00\\x00a', the representation is a\n",
      "The `uft8` codepoint  is = 111, the bytes representation = b'\\x00\\x00\\x00o', the representation is o\n"
     ]
    },
    {
     "data": {
      "text/plain": [
       "[None, None, None, None]"
      ]
     },
     "execution_count": 77,
     "metadata": {},
     "output_type": "execute_result"
    }
   ],
   "source": [
    "message = \"Ciao\"\n",
    "message_secret = bytes(message, \"utf-8\")\n",
    "[print(f\"The `uft8` codepoint  is = {enc}, the bytes representation = {enc.to_bytes(4)}, the representation is {chr(enc)}\") for plain, enc in zip(message, message_secret)]"
   ]
  },
  {
   "cell_type": "markdown",
   "metadata": {},
   "source": [
    "### Reading/Writing CSV files\n",
    "If you ever worked with tabular data, you surely encountered CSV (comma separated values) files. These files are used to store table in text format row by row: each row is separated by a new line and the columns inside a row are separated by commas `,` or by semicolumns `;`. The first line in the file usually contains the header giving the names of the columns:\n",
    "\n",
    "```\n",
    "first_column,second_column\n",
    "1,2\n",
    "2,3\n",
    "```\n",
    "\n",
    "As CSV is a very common to exchange tabular data such as statistics and time series, the python standard library offers facilities to read and write CSV files[^3] through the [csv](https://docs.python.org/3/library/csv.html) module. Despite this, today most people prefer using [pandas](https://pandas.pydata.org/) or [polars](https://www.pola.rs/) to manipulate tabular data because they offer more conveinence and faster handling of large datasets. These packages are outside of the scope of this tutorial and will not be handled here.\n",
    "\n",
    "\n",
    "Let's see how to read csv files using `csv` with an example by reading [example.csv](./data/example.csv):\n",
    "\n",
    "\n",
    "\n",
    "\n"
   ]
  },
  {
   "cell_type": "code",
   "execution_count": 39,
   "metadata": {},
   "outputs": [
    {
     "name": "stdout",
     "output_type": "stream",
     "text": [
      "['1', '2', ' some']\n",
      "['3', '4', ' numbers']\n",
      "['5', '6', ' here']\n"
     ]
    }
   ],
   "source": [
    "import csv\n",
    "import pathlib as pl\n",
    "\n",
    "csv_file = pl.Path(\"./tutorial/tests/data/example.csv\")\n",
    "with open(csv_file) as input_file:\n",
    "    reader = csv.reader(input_file)\n",
    "    #Get the header\n",
    "    header = next(reader)\n",
    "    #Iterate over lines\n",
    "    for line in reader:\n",
    "        print(line)\n"
   ]
  },
  {
   "cell_type": "markdown",
   "metadata": {},
   "source": [
    "The `next` function called on any iterable returns the next value and advances the iterable counter. In the case of `csv.reader`, we use this to read the header.\n",
    "\n",
    "The `csv` module does not interpet the data; as a default everything is read as `str`.\n",
    "\n",
    "Similarly, you can use the CSV module to write a CSV using the [`writer`](https://docs.python.org/3/library/csv.html#csv.writer) class. The `writer` object has `writerow` method which takes an `iterable` of values to write as the current row"
   ]
  },
  {
   "cell_type": "code",
   "execution_count": 3,
   "metadata": {},
   "outputs": [],
   "source": [
    "import csv\n",
    "import pathlib as pl\n",
    "\n",
    "csv_file = pl.Path(\"./tutorial/tests/data/example1.csv\")\n",
    "\n",
    "with open(csv_file, \"w\") as output_file:\n",
    "    writer = csv.writer(output_file)\n",
    "    #Get the header\n",
    "    writer.writerow([\"this\", \"is\", \"data\"])\n",
    "    #Iterate over lines\n",
    "    [writer.writerow((i, i+1, i+2)) for i in range(10)]\n",
    "        "
   ]
  },
  {
   "cell_type": "markdown",
   "metadata": {},
   "source": [
    "with this program, we write a csv file with three columns named `this`, `is` and `data` and with the following entries:\n",
    "`i, i+1, i+2` where `i` ranges from 0 to 9."
   ]
  },
  {
   "cell_type": "markdown",
   "metadata": {},
   "source": [
    "## Exercises\n",
    "\n",
    "\n",
    "### Exercise 1: CSV to dictionary 🌶️🌶️\n",
    "Write a function that reads a CSV from the file [example](./tutorial/tests/data/example.csv) and returns a `dict` (dictionary) where the keys are the column names and the values are the list of values, without converting any data types.\n",
    "If the file contains the following lines:\n",
    "```\n",
    "a, b\n",
    "1, 2\n",
    "3, 4\n",
    "5, 6\n",
    "```\n",
    "this function should return:\n",
    "```python\n",
    "{\"a\":[\"1\", \"3\", \"5\"], \"b\": [\"2\", \"4\", \"6\"]}\n",
    "```\n",
    "\n",
    "<div class=\"alert alert-block alert-info\">\n",
    "    Hints:\n",
    "    <ul>\n",
    "        <li>\n",
    "            To facilitate your solution, all list of the dictionary should be lists of `str`. This is because\n",
    "            `csv.reader` reads each column as string by default.\n",
    "        </li>\n",
    "        <li>\n",
    "            Calling `next(csv_reader)` immediately after you created the `csv.reader` object `csv_reader` returns you the header to the file and advances the reader to the first data row.\n",
    "        </li>\n",
    "        <li>\n",
    "            Consider the function `itertools.zip_longest`.\n",
    "        </li>\n",
    "        <li>\n",
    "            You recive the file to test as the first argument, `f` of the function skeleton `solution_exercise1` below.\n",
    "        </li>\n",
    "    </ul>\n",
    "</div>\n",
    "\n",
    "\n",
    "\n",
    "\n"
   ]
  },
  {
   "cell_type": "code",
   "execution_count": 2,
   "metadata": {},
   "outputs": [
    {
     "name": "stdout",
     "output_type": "stream",
     "text": [
      "\u001b[31mF\u001b[0m\u001b[31m                                                                        [100%]\u001b[0m\n",
      "=================================== FAILURES ===================================\n",
      "\u001b[31m\u001b[1m______________________ test_exercise1[solution_exercise1] ______________________\u001b[0m\n",
      "\u001b[1m\u001b[31mtutorial/tests/test_input_output.py\u001b[0m:21: in test_exercise1\n",
      "    \u001b[94massert\u001b[39;49;00m function_to_test(f) == reference_solution_exercise1(f)\u001b[90m\u001b[39;49;00m\n",
      "\u001b[1m\u001b[31mtutorial/tests/test_input_output.py\u001b[0m:12: in reference_solution_exercise1\n",
      "    \u001b[94mwith\u001b[39;49;00m \u001b[96mopen\u001b[39;49;00m(f) \u001b[94mas\u001b[39;49;00m lines:\u001b[90m\u001b[39;49;00m\n",
      "\u001b[1m\u001b[31mE   FileNotFoundError: [Errno 2] No such file or directory: '/home/basi/python-tutorial/data/example.csv'\u001b[0m\n",
      "\u001b[36m\u001b[1m=========================== short test summary info ============================\u001b[0m\n",
      "\u001b[31mFAILED\u001b[0m tutorial/tests/test_input_output.py::\u001b[1mtest_exercise1[solution_exercise1]\u001b[0m - FileNotFoundError: [Errno 2] No such file or directory: '/home/basi/python-...\n",
      "\u001b[31m\u001b[31m\u001b[1m1 failed\u001b[0m\u001b[31m in 0.04s\u001b[0m\u001b[0m\n",
      "\n"
     ]
    },
    {
     "data": {
      "text/html": [
       "<div class=\"alert alert-box alert-danger\"><h4>Tests <strong>FAILED</strong> for the function <code>exercise1</code></h4>&#x1F631 Your solution was not correct!</div>"
      ],
      "text/plain": [
       "<IPython.core.display.HTML object>"
      ]
     },
     "metadata": {},
     "output_type": "display_data"
    }
   ],
   "source": [
    "%%ipytest input_output\n",
    "import pathlib as pl\n",
    "def solution_exercise1(f: pl.Path) -> \"dict[str, list[str]]\":\n",
    "    \"\"\"\n",
    "    Write your solution here. \n",
    "    f is the path to the file to read from\n",
    "    \"\"\"\n",
    "\n",
    "    "
   ]
  },
  {
   "cell_type": "markdown",
   "metadata": {},
   "source": [
    "### Exercise 2: Counting words 🌶️\n",
    "Write a function  to read all the lines from [`lines.txt`](./tutorial/tests/data/lines.txt) and count the number of words in the file. The solution should be a single number.\n",
    "\n",
    "For example, for the file\n",
    "```\n",
    "this \n",
    "file \n",
    "has \n",
    "three\n",
    "lines\n",
    "```\n",
    "the result should be `4`. \n",
    "\n",
    "<div class=\"alert alert-block alert-info\">\n",
    "    Hints:\n",
    "    <ul>\n",
    "        <li>\n",
    "          The file is available as the input `f` of `solution_exercise2`.\n",
    "        </li>\n",
    "    </ul>\n",
    "</div>\n",
    "\n",
    "\n"
   ]
  },
  {
   "cell_type": "code",
   "execution_count": 1,
   "metadata": {},
   "outputs": [],
   "source": [
    "%reload_ext tutorial.tests.testsuite"
   ]
  },
  {
   "cell_type": "code",
   "execution_count": 2,
   "metadata": {},
   "outputs": [
    {
     "name": "stdout",
     "output_type": "stream",
     "text": [
      "\u001b[31mF\u001b[0m\u001b[31m                                                                        [100%]\u001b[0m\n",
      "=================================== FAILURES ===================================\n",
      "\u001b[31m\u001b[1m______________________ test_exercise2[solution_exercise2] ______________________\u001b[0m\n",
      "\u001b[1m\u001b[31mtutorial/tests/test_input_output.py\u001b[0m:35: in test_exercise2\n",
      "    \u001b[94massert\u001b[39;49;00m function_to_test(f) == reference_solution_exercise2(f)\u001b[90m\u001b[39;49;00m\n",
      "\u001b[1m\u001b[31mE   AssertionError: assert 5 == 4\u001b[0m\n",
      "\u001b[1m\u001b[31mE    +  where 5 = <function solution_exercise2 at 0x7f3c70589940>(PosixPath('/home/basi/python-tutorial/tutorial/tests/data/example.csv'))\u001b[0m\n",
      "\u001b[1m\u001b[31mE    +  and   4 = reference_solution_exercise2(PosixPath('/home/basi/python-tutorial/tutorial/tests/data/example.csv'))\u001b[0m\n",
      "----------------------------- Captured stdout call -----------------------------\n",
      "/home/basi/python-tutorial/tutorial/tests/test_input_output.py\n",
      "\u001b[36m\u001b[1m=========================== short test summary info ============================\u001b[0m\n",
      "\u001b[31mFAILED\u001b[0m tutorial/tests/test_input_output.py::\u001b[1mtest_exercise2[solution_exercise2]\u001b[0m - AssertionError: assert 5 == 4\n",
      "\u001b[31m\u001b[31m\u001b[1m1 failed\u001b[0m\u001b[31m in 0.04s\u001b[0m\u001b[0m\n",
      "\n"
     ]
    },
    {
     "data": {
      "text/html": [
       "<div class=\"alert alert-box alert-danger\"><h4>Tests <strong>FAILED</strong> for the function <code>exercise2</code></h4>&#x1F631 Your solution was not correct!</div>"
      ],
      "text/plain": [
       "<IPython.core.display.HTML object>"
      ]
     },
     "metadata": {},
     "output_type": "display_data"
    }
   ],
   "source": [
    "\n",
    "%%ipytest input_output\n",
    "import pathlib as pl\n",
    "def solution_exercise2(f: pl.Path) -> int:\n",
    "    \"\"\"\n",
    "    Write your solution here. \n",
    "    f is the path to the file to read from\n",
    "    \"\"\"\n",
    "    return 5\n"
   ]
  },
  {
   "cell_type": "markdown",
   "metadata": {},
   "source": [
    " \n",
    "### Letter statistics 🌶️🌶️\n",
    "Write a function that reads all the lines from [`lines.txt`](./data/lines.txt) and outputs a table of statistics in this form:\n",
    "- An **alphabetically sorted** dictionary with `letter: count` for each letter in the words, for example `{a: 5}` means that the letter `a` appeared five times in this file.\n",
    "\n",
    "\n",
    "\n",
    "<div class=\"alert alert-block alert-info\">\n",
    "    Hints:\n",
    "    <ul>\n",
    "        <li>\n",
    "          The file is available as the input `f` of `solution_exercise3`.\n",
    "        </li>\n",
    "        <li>\n",
    "            You can use functions from `itertools` to group your strings by letters and to combine all lines in the file in a single string.\n",
    "    Consider `chain` and `groupby`. Be careful that `groupby` requires the input iterable to be sorted. You can do this by using the `sorted` function.\n",
    "        </li>\n",
    "        <li>\n",
    "            to verify if a character is a letter, you can use the `isalpha` method.\n",
    "    'a'.isalpha()\n",
    "        </li>\n",
    "    </ul>\n",
    "</div>"
   ]
  },
  {
   "cell_type": "code",
   "execution_count": 5,
   "metadata": {},
   "outputs": [
    {
     "name": "stdout",
     "output_type": "stream",
     "text": [
      "\u001b[31mF\u001b[0m\u001b[31m                                                                        [100%]\u001b[0m\n",
      "=================================== FAILURES ===================================\n",
      "\u001b[31m\u001b[1m______________________ test_exercise3[solution_exercise3] ______________________\u001b[0m\n",
      "\u001b[1m\u001b[31mtutorial/tests/test_input_output.py\u001b[0m:40: in test_exercise3\n",
      "    f = get_data(\u001b[33m\"\u001b[39;49;00m\u001b[33mlines.txt\u001b[39;49;00m\u001b[33m\"\u001b[39;49;00m)\u001b[90m\u001b[39;49;00m\n",
      "\u001b[1m\u001b[31mtutorial/tests/test_input_output.py\u001b[0m:34: in reference_solution_exercise3\n",
      "    \u001b[94mdef\u001b[39;49;00m \u001b[92mreference_solution_exercise3\u001b[39;49;00m(f: pl.Path) -> \u001b[33m\"\u001b[39;49;00m\u001b[33mdict[str, int]\u001b[39;49;00m\u001b[33m\"\u001b[39;49;00m:\u001b[90m\u001b[39;49;00m\n",
      "\u001b[1m\u001b[31mE   FileNotFoundError: [Errno 2] No such file or directory: '/home/basi/python-tutorial/data/lines.txt'\u001b[0m\n",
      "\u001b[36m\u001b[1m=========================== short test summary info ============================\u001b[0m\n",
      "\u001b[31mFAILED\u001b[0m tutorial/tests/test_input_output.py::\u001b[1mtest_exercise3[solution_exercise3]\u001b[0m - FileNotFoundError: [Errno 2] No such file or directory: '/home/basi/python-...\n",
      "\u001b[31m\u001b[31m\u001b[1m1 failed\u001b[0m\u001b[31m in 0.00s\u001b[0m\u001b[0m\n",
      "\n"
     ]
    },
    {
     "data": {
      "text/html": [
       "<div class=\"alert alert-box alert-danger\"><h4>Tests <strong>FAILED</strong> for the function <code>exercise3</code></h4>&#x1F631 Your solution was not correct!</div>"
      ],
      "text/plain": [
       "<IPython.core.display.HTML object>"
      ]
     },
     "metadata": {},
     "output_type": "display_data"
    }
   ],
   "source": [
    "%%ipytest input_output\n",
    "import pathlib as pl\n",
    "def solution_exercise3(f: pl.Path) -> \"dict[str, int]\":\n",
    "    pass\n",
    "    "
   ]
  },
  {
   "cell_type": "markdown",
   "metadata": {},
   "source": [
    "### Exercise 4: Translating words 🌶️🌶️\n",
    "Write a function which takes the words from the `english.csv` and translates them to italian using the dictionary file `dict.csv`. The output should be a list of tuples with the pair `italian, english` if the word is found and and nothing otherwise.\n",
    "For example, given the `english.csv` file:\n",
    "\n",
    "```\n",
    "bread\n",
    "cat\n",
    "```\n",
    "\n",
    "and the `dict.csv` file:\n",
    "\n",
    "```\n",
    "120, pane, bread\n",
    "121 sole, sun\n",
    "```\n",
    "\n",
    "the result should be:\n",
    "\n",
    "`[(bread, pane), ]`\n",
    "\n",
    "\n",
    "<div class=\"alert alert-block alert-info\">\n",
    "    Hints:\n",
    "    <ul>\n",
    "        <li>\n",
    "            Try to avoid loading the dictionary more than once. Consider that I used the words **dictionary file**, this should suggest the correct python data structure to use to store the translations.\n",
    "        </li>\n",
    "        <li>\n",
    "            The path to the input file `english.csv` is available as the argument `english` of the function `solution_exercise4`, the file `dict.csv` as the argument `dictionary`\n",
    "        </li>\n",
    "    </ul>\n",
    "<div>\n"
   ]
  },
  {
   "cell_type": "code",
   "execution_count": 2,
   "metadata": {},
   "outputs": [
    {
     "name": "stdout",
     "output_type": "stream",
     "text": [
      "\u001b[31mF\u001b[0m\u001b[31m                                                                        [100%]\u001b[0m\n",
      "=================================== FAILURES ===================================\n",
      "\u001b[31m\u001b[1m______________________ test_exercise4[solution_exercise4] ______________________\u001b[0m\n",
      "\u001b[1m\u001b[31mtutorial/tests/test_input_output.py\u001b[0m:56: in test_exercise4\n",
      "    \u001b[94massert\u001b[39;49;00m function_to_test(words, dictionary) == reference_solution_exercise4(words, dictionary)\u001b[90m\u001b[39;49;00m\n",
      "\u001b[1m\u001b[31mtutorial/tests/test_input_output.py\u001b[0m:44: in reference_solution_exercise4\n",
      "    \u001b[94mwith\u001b[39;49;00m \u001b[96mopen\u001b[39;49;00m(english) \u001b[94mas\u001b[39;49;00m english_file:\u001b[90m\u001b[39;49;00m\n",
      "\u001b[1m\u001b[31mE   FileNotFoundError: [Errno 2] No such file or directory: '/home/basi/python-tutorial/fdata/english.csv'\u001b[0m\n",
      "\u001b[36m\u001b[1m=========================== short test summary info ============================\u001b[0m\n",
      "\u001b[31mFAILED\u001b[0m tutorial/tests/test_input_output.py::\u001b[1mtest_exercise4[solution_exercise4]\u001b[0m - FileNotFoundError: [Errno 2] No such file or directory: '/home/basi/python-...\n",
      "\u001b[31m\u001b[31m\u001b[1m1 failed\u001b[0m\u001b[31m in 0.04s\u001b[0m\u001b[0m\n",
      "\n"
     ]
    },
    {
     "data": {
      "text/html": [
       "<div class=\"alert alert-box alert-danger\"><h4>Tests <strong>FAILED</strong> for the function <code>exercise4</code></h4>&#x1F631 Your solution was not correct!</div>"
      ],
      "text/plain": [
       "<IPython.core.display.HTML object>"
      ]
     },
     "metadata": {},
     "output_type": "display_data"
    }
   ],
   "source": [
    "%%ipytest input_output\n",
    "import pathlib as pl\n",
    "def solution_exercise4(english: pl.Path, dictionary: pl.Path) -> \"list[(str, str)]\":\n",
    "    \"\"\"\n",
    "    Write your solution here\n",
    "    \"\"\"\n",
    "    pass"
   ]
  },
  {
   "cell_type": "markdown",
   "metadata": {},
   "source": [
    "### Exercise 5: Binary format 🌶️🌶️🌶️\n",
    "The file `super_secret.dat` contains a secret message. We know that the message is stored in binary format as a sequence of bytes. The message starts with the byte sequence `b'\\xff\\xee\\xdd\\xcc\\xbb\\xaa'` and finishes with `b'\\xaa\\xbb\\xcc\\xdd\\xee\\xff'`. \n",
    "Write a function that reads the file and returns **only** the secret message as a string.\n",
    "\n",
    "\n",
    "<div class=\"alert alert-block alert-info\">\n",
    "    <b>Hint:</b> The path to the input file is available as the argument `secret_file` of the function `solution_exercise5`\n",
    "</div>"
   ]
  },
  {
   "cell_type": "code",
   "execution_count": 2,
   "metadata": {},
   "outputs": [
    {
     "name": "stdout",
     "output_type": "stream",
     "text": [
      "\u001b[31mF\u001b[0m\u001b[31m                                                                        [100%]\u001b[0m\n",
      "=================================== FAILURES ===================================\n",
      "\u001b[31m\u001b[1m______________________ test_exercise5[solution_exercise5] ______________________\u001b[0m\n",
      "\u001b[1m\u001b[31mtutorial/tests/test_input_output.py\u001b[0m:62: in test_exercise5\n",
      "    \u001b[94massert\u001b[39;49;00m function_to_test(message) == reference_solution_exercise5(message)\u001b[90m\u001b[39;49;00m\n",
      "\u001b[1m\u001b[31mE   AssertionError: assert None == 'Congratulations, you found the secret message!'\u001b[0m\n",
      "\u001b[1m\u001b[31mE    +  where None = <function solution_exercise5 at 0x7f7340105580>(PosixPath('data/secret_message.dat'))\u001b[0m\n",
      "\u001b[1m\u001b[31mE    +  and   'Congratulations, you found the secret message!' = reference_solution_exercise5(PosixPath('data/secret_message.dat'))\u001b[0m\n",
      "\u001b[36m\u001b[1m=========================== short test summary info ============================\u001b[0m\n",
      "\u001b[31mFAILED\u001b[0m tutorial/tests/test_input_output.py::\u001b[1mtest_exercise5[solution_exercise5]\u001b[0m - AssertionError: assert None == 'Congratulations, you found the secret messa...\n",
      "\u001b[31m\u001b[31m\u001b[1m1 failed\u001b[0m\u001b[31m in 0.04s\u001b[0m\u001b[0m\n",
      "\n"
     ]
    },
    {
     "data": {
      "text/html": [
       "<div class=\"alert alert-box alert-danger\"><h4>Tests <strong>FAILED</strong> for the function <code>exercise5</code></h4>&#x1F631 Your solution was not correct!</div>"
      ],
      "text/plain": [
       "<IPython.core.display.HTML object>"
      ]
     },
     "metadata": {},
     "output_type": "display_data"
    }
   ],
   "source": [
    "%%ipytest input_output\n",
    "import pathlib as pl\n",
    "def solution_exercise5(secret_file: pl.Path) -> str:\n",
    "    \"\"\"\n",
    "    Write your solution here\n",
    "    \"\"\"\n",
    "    pass"
   ]
  }
 ],
 "metadata": {
  "celltoolbar": "Slideshow",
  "kernelspec": {
   "display_name": "Python 3 (ipykernel)",
   "language": "python",
   "name": "python3"
  },
  "language_info": {
   "codemirror_mode": {
    "name": "ipython",
    "version": 3
   },
   "file_extension": ".py",
   "mimetype": "text/x-python",
   "name": "python",
   "nbconvert_exporter": "python",
   "pygments_lexer": "ipython3",
   "version": "3.11.3"
  },
  "vscode": {
   "interpreter": {
    "hash": "916dbcbb3f70747c44a77c7bcd40155683ae19c65e1c03b4aa3499c5328201f1"
   }
  }
 },
 "nbformat": 4,
 "nbformat_minor": 2
}
