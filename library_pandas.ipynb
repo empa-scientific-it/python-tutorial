{
 "cells": [
  {
   "cell_type": "markdown",
   "id": "a03ea0d4-7724-4e00-b447-0b3f84c88396",
   "metadata": {},
   "source": [
    "# Pandas 🐼"
   ]
  },
  {
   "cell_type": "markdown",
   "id": "9a8972a3-f9d8-48fe-a7d3-8c5539afa747",
   "metadata": {},
   "source": [
    "# Table of Contents\n",
    "  - [Introduction](#Introduction)\n",
    "      - [What is Pandas?](#What-is-Pandas?)\n",
    "      - [Why We Need Pandas with Python](#Why-We-Need-Pandas-with-Python)\n",
    "      - [When and Why It's Used](#When-and-Why-It's-Used)\n",
    "      - [Pandas Performance](#Pandas-Performance)\n",
    "      - [Alternatives and When They Are Better](#Alternatives-and-When-They-Are-Better)\n",
    "  - [References](#References)\n",
    "  - [Working with Pandas `DataFrame`](#Working-with-Pandas-DataFrame)\n",
    "    - [Pandas Data Structures](#Pandas-Data-Structures)\n",
    "      - [Working with NumPy Arrays](#Working-with-NumPy-Arrays)\n",
    "      - [`Series`](#Series)\n",
    "      - [`Index`](#Index)\n",
    "      - [`DataFrame`](#DataFrame)\n",
    "    - [Creating `DataFrame` objects](#Creating-DataFrame-objects)\n",
    "      - [Creating a `Series` object](#Creating-a-Series-object)\n",
    "      - [Creating a `DataFrame` object from a `Series` object](#Creating-a-DataFrame-object-from-a-Series-object)\n",
    "      - [Creating a `DataFrame` from Python Data Structures](#Creating-a-DataFrame-from-Python-Data-Structures)\n",
    "        - [From a dictionary of list-like structures](#From-a-dictionary-of-list-like-structures)\n",
    "        - [From a list of dictionaries](#From-a-list-of-dictionaries)\n",
    "        - [From a list of tuples](#From-a-list-of-tuples)\n",
    "        - [From a NumPy array](#From-a-NumPy-array)\n",
    "    - [Creating a `DataFrame` object from the contents of a CSV File](#Creating-a-DataFrame-object-from-the-contents-of-a-CSV-File)\n",
    "      - [Finding information on the file before reading it in](#Finding-information-on-the-file-before-reading-it-in)\n",
    "        - [Examining a few rows](#Examining-a-few-rows)\n",
    "        - [Column count](#Column-count)\n",
    "      - [Reading in the file](#Reading-in-the-file)\n",
    "      - [Writing a `DataFrame` Object to a CSV File](#Writing-a-DataFrame-Object-to-a-CSV-File)\n",
    "    - [Writing a `DataFrame` Object to a Database](#Writing-a-DataFrame-Object-to-a-Database)\n",
    "    - [Creating a `DataFrame` Object by Querying a Database](#Creating-a-DataFrame-Object-by-Querying-a-Database)\n",
    "    - [Selecting data](#Selecting-data)\n",
    "      - [Selecting columns](#Selecting-columns)\n",
    "      - [Slicing](#Slicing)\n",
    "          - [Selecting rows](#Selecting-rows)\n",
    "          - [Selecting rows and columns with chaining](#Selecting-rows-and-columns-with-chaining)\n",
    "      - [Indexing](#Indexing)\n",
    "        - [Indexing with `loc`](#Indexing-with-loc)\n",
    "        - [Indexing with `iloc`](#Indexing-with-iloc)\n",
    "        - [Looking up scalar values](#Looking-up-scalar-values)\n",
    "      - [Filtering](#Filtering)\n",
    "    - [Adding and removing data](#Adding-and-removing-data)\n",
    "      - [Adding new columns](#Adding-new-columns)\n",
    "      - [Concatenation](#Concatenation)\n",
    "      - [Deleting data](#Deleting-data)\n",
    "          - [Using the `drop()` method](#Using-the-drop()-method)\n",
    "    - [Exercises (1)](#Exercises-(1))\n",
    "  - [Data wrangling](#Data-wrangling)\n",
    "    - [Cleaning data](#Cleaning-data)\n",
    "      - [Renaming Columns](#Renaming-Columns)\n",
    "      - [Type Conversion](#Type-Conversion)\n",
    "      - [Reordering, reindexing, and sorting](#Reordering,-reindexing,-and-sorting)\n",
    "    - [Reshaping data](#Reshaping-data)\n",
    "      - [Transposing](#Transposing)\n",
    "      - [Pivoting](#Pivoting)\n",
    "        - [`pivot()`](#pivot())\n",
    "        - [`unstack()`](#unstack())\n",
    "      - [Melting](#Melting)\n",
    "        - [`melt()`](#melt())\n",
    "        - [`stack()`](#stack())\n",
    "    - [Exercises (2)](#Exercises-(2))\n",
    "  - [Data aggregation](#Data-aggregation)\n",
    "      - [Querying](#Querying)\n",
    "      - [Merging](#Merging)\n",
    "    - [`DataFrame` operations](#DataFrame-operations)\n",
    "      - [Arithmetics and statistics](#Arithmetics-and-statistics)\n",
    "      - [Binning](#Binning)\n",
    "      - [Applying functions](#Applying-functions)\n",
    "    - [Using `groupby()`](#Using-groupby())\n",
    "    - [Exercises (3)](#Exercises-(3))"
   ]
  },
  {
   "cell_type": "markdown",
   "id": "2a054a4c-a2d0-4bd6-9bd7-b32c40364ae4",
   "metadata": {},
   "source": [
    "# Introduction\n",
    "\n"
   ]
  },
  {
   "cell_type": "markdown",
   "id": "2a123b2d-64cd-43f7-9255-567ca8d817d1",
   "metadata": {},
   "source": [
    "### What is Pandas?\n",
    "\n",
    "[Pandas](https://pandas.pydata.org/docs/index.html) is an open-source data manipulation and analysis library for Python.\n",
    "It provides powerful data structures and functions designed to make working with structured data intuitive and efficient. At the heart of Pandas are two primary data structures:\n",
    "\n",
    "- **DataFrame**: A two-dimensional, size-mutable, and potentially heterogeneous tabular data structure with labeled axes (rows and columns). It's similar to a spreadsheet or SQL table and is generally the most commonly used Pandas object.\n",
    "- **Series**: A one-dimensional labeled array capable of holding any data type (integers, strings, floating point numbers, Python objects, etc.).\n",
    "\n",
    "Pandas integrates well with various other Python libraries, such as Matplotlib for plotting and NumPy for numerical computations, making it a central library in the Python data science stack."
   ]
  },
  {
   "cell_type": "markdown",
   "id": "64075e7a-3ca7-41dc-b105-bf2b50c13541",
   "metadata": {},
   "source": [
    "### Why We Need Pandas with Python\n",
    "\n",
    "Python, while a powerful programming language, isn't designed specifically for data analysis.\n",
    "It lacks built-in, high-level data structures and tools that are intuitive and efficient for these tasks.\n",
    "Here's where Pandas comes in:\n",
    "\n",
    "- **Data Cleaning and Preparation**: Data scientists spend a significant amount of time cleaning and preparing data. Pandas simplifies these tasks with built-in functions for filtering, selecting, and manipulating data.\n",
    "- **Data Analysis**: With Pandas, analyzing and exploring data is more straightforward. It provides functions for aggregating, summarizing, and transforming data, making it easier to derive insights.\n",
    "- **Data Visualization**: Though Pandas is not a data visualization library, it seamlessly interfaces with Matplotlib for plotting and visualizing data, allowing quick and informative visual analysis.\n",
    "- **Handling Diverse Data Types**: Pandas efficiently handles a variety of data formats, including CSV, Excel files, SQL databases, and HDF5 format, making it a versatile tool for diverse data analysis needs."
   ]
  },
  {
   "cell_type": "markdown",
   "id": "a27059d1-124b-4247-ae63-55601f7e4cb6",
   "metadata": {},
   "source": [
    "### When and Why It's Used\n",
    "\n",
    "Pandas is widely used in a variety of fields for data analysis and manipulation tasks.\n",
    "Some common use cases include:\n",
    "\n",
    "- **Data Cleaning**: Transforming raw data into a form that is suitable for analysis, such as filling missing values, removing duplicates, and converting data types.\n",
    "- **Data Exploration and Analysis**: Quick examination of data for patterns, irregularities, and insights. This includes operations like sorting, filtering, and grouping data.\n",
    "- **Data Visualization**: Creating plots and graphs to understand trends and patterns in data.\n",
    "- **Machine Learning**: Preprocessing and cleaning datasets before feeding them into machine learning models."
   ]
  },
  {
   "cell_type": "markdown",
   "id": "e2422a58-51f0-46e7-814c-5c7966b0d578",
   "metadata": {},
   "source": [
    "### Pandas Performance\n",
    "\n",
    "Pandas is highly efficient for most data manipulation and analysis tasks, especially with small to moderately sized datasets.\n",
    "It's optimized for performance in many scenarios, with critical code paths written in Cython or C.\n",
    "However, when working with very large datasets (with about tens of millions of rows or more), Pandas can face performance issues due to:\n",
    "\n",
    "- **Memory Usage**: Pandas typically requires significantly more memory than the size of the data, making it less efficient for very large datasets.\n",
    "- **Speed**: For extremely large datasets, some operations in Pandas can be slow, as it's not fully optimized for all use cases, especially those involving large-scale, distributed computing."
   ]
  },
  {
   "cell_type": "markdown",
   "id": "d69e4f81-6f20-44e4-9e13-4fb514522782",
   "metadata": {},
   "source": [
    "### Alternatives and When They Are Better\n",
    "\n",
    "One of the notable alternatives to Pandas is [**Polars**](https://pola.rs/).\n",
    "Polars is a DataFrame library that is designed to handle larger datasets more efficiently than Pandas.\n",
    "Here's why and when Polars can be a better choice:\n",
    "\n",
    "- **Performance**: Polars is designed to be faster and more memory-efficient than Pandas, particularly with large datasets. It leverages modern hardware capabilities, like multi-threading, to speed up data processing.\n",
    "- **Lazy Evaluation**: Polars supports lazy evaluation, where computations are queued and executed only when necessary. This approach can lead to performance improvements, especially in complex data pipelines.\n",
    "- **Ease of Scaling**: For large-scale data processing, Polars can be a better fit. It's more adept at handling the kinds of big data tasks that are increasingly common in industry settings."
   ]
  },
  {
   "cell_type": "markdown",
   "id": "0de7aebe-e8c7-48e3-a801-acb76f6be285",
   "metadata": {},
   "source": [
    "---"
   ]
  },
  {
   "cell_type": "markdown",
   "id": "797684bc-adc0-4341-82b8-f8cfc84a383e",
   "metadata": {
    "jp-MarkdownHeadingCollapsed": true
   },
   "source": [
    "# References\n",
    "\n",
    "The majority of the material of this notebook has been taken and rearranged – with the permission of the author – from the book [*Hands-On Data Analysis with Pandas* (2nd edition) by Stefanie Molin](https://www.amazon.com/dp/1800563450/).\n",
    "The book covers way more than just Pandas, including plotting, data mining, and some guided projects to build \"data-centric\" apps.\n",
    "If you want to go more in depth with this topics, the book is a highly encouraged read."
   ]
  },
  {
   "cell_type": "markdown",
   "id": "a8cef29a-cf96-41ea-8c99-0045237ca63c",
   "metadata": {},
   "source": [
    "---"
   ]
  },
  {
   "cell_type": "markdown",
   "id": "ec15fe23-17cc-479f-abd0-adeaf617b2e2",
   "metadata": {},
   "source": [
    "# Working with Pandas `DataFrame`"
   ]
  },
  {
   "cell_type": "markdown",
   "id": "4aa3c0c3-33c0-4062-a3d6-60e401d7486a",
   "metadata": {},
   "source": [
    "## Pandas Data Structures"
   ]
  },
  {
   "cell_type": "markdown",
   "id": "78e5e05e-d681-4e01-9f79-b9dc1551060c",
   "metadata": {},
   "source": [
    "\n",
    "In this section, we will discuss the `Series`, `Index`, and `DataFrame` classes. To do so, we will read in a snippet of the CSV file we will work with later. Don't worry about that part yet, though."
   ]
  },
  {
   "cell_type": "markdown",
   "id": "5018ca94-bd00-465e-a423-77668ccf303b",
   "metadata": {},
   "source": [
    "### Working with NumPy Arrays\n",
    "Let's read in a short CSV file (using `numpy`) for some sample data. "
   ]
  },
  {
   "cell_type": "code",
   "execution_count": null,
   "id": "2d6609f1-a037-41ac-9d40-9d84948b3144",
   "metadata": {},
   "outputs": [],
   "source": [
    "import numpy as np\n",
    "\n",
    "data = np.genfromtxt(\n",
    "    'data/01/example_data.csv', delimiter=';', \n",
    "    names=True, dtype=None, encoding='UTF'\n",
    ")\n",
    "data"
   ]
  },
  {
   "cell_type": "markdown",
   "id": "a52faac6-686a-45ed-adeb-13ed264f3746",
   "metadata": {},
   "source": [
    "We can find the dimensions with the `shape` attribute:"
   ]
  },
  {
   "cell_type": "code",
   "execution_count": null,
   "id": "b1d423ff-7558-4a0b-b02a-c1ab46fa5c27",
   "metadata": {},
   "outputs": [],
   "source": [
    "data.shape"
   ]
  },
  {
   "cell_type": "markdown",
   "id": "64774481-9c6e-4605-a237-660fdeabfede",
   "metadata": {},
   "source": [
    "We can find the data types with the `dtype` attribute:"
   ]
  },
  {
   "cell_type": "code",
   "execution_count": null,
   "id": "e9e95237-eb16-403b-9ea6-43e23f100f7f",
   "metadata": {},
   "outputs": [],
   "source": [
    "data.dtype"
   ]
  },
  {
   "cell_type": "markdown",
   "id": "d52dfa6b-8822-4c32-af12-98674d6e5941",
   "metadata": {},
   "source": [
    "Each element in the array corresponds to a row from the CSV file. Unlike lists that can hold multiple data types, NumPy arrays are limited to one, enabling quick, vectorized actions. The data import resulted in an array of `numpy.void` objects, designed to handle various types. This occurs as each row contains diverse data types: four strings, one float, and one integer. Consequently, we miss out on the performance benefits NumPy offers for arrays with uniform data types.\n",
    "\n",
    "Consider finding the highest magnitude. We can employ a [list comprehension](https://www.python.org/dev/peps/pep-0202/) to extract the third index from each row, which is in the form of a `numpy.void` object. By doing this, we create a list that allows us to determine the maximum value using the `max()` function."
   ]
  },
  {
   "cell_type": "code",
   "execution_count": null,
   "id": "db37861f-d2dd-4bef-993e-19a2b054fbf2",
   "metadata": {},
   "outputs": [],
   "source": [
    "%%timeit\n",
    "max([row[3] for row in data])"
   ]
  },
  {
   "cell_type": "markdown",
   "id": "7765125b-dbfd-45ed-8a2c-50f6a49adb2b",
   "metadata": {},
   "source": [
    "If we, instead, create a NumPy array for each column, this operation is much easier (and more efficient) to perform. We can use a **[dictionary comprehension](https://www.python.org/dev/peps/pep-0274/)** to make a dictionary where the keys are the column names and the values are NumPy arrays of the data:"
   ]
  },
  {
   "cell_type": "code",
   "execution_count": null,
   "id": "12a1ff1f-21f5-4703-baf1-e27b7e5f0a59",
   "metadata": {},
   "outputs": [],
   "source": [
    "array_dict = {\n",
    "    col: np.array([row[i] for row in data])\n",
    "    for i, col in enumerate(data.dtype.names)\n",
    "}\n",
    "array_dict"
   ]
  },
  {
   "cell_type": "markdown",
   "id": "286d03eb-3a04-4055-aa57-01b112669ce0",
   "metadata": {},
   "source": [
    "Grabbing the maximum magnitude is now simply a matter of selecting the `mag` key and calling the `max()` method. This is nearly twice as fast as the list comprehension implementation when dealing with just 5 entries, imagine how much worse the first attempt will perform on large data sets:"
   ]
  },
  {
   "cell_type": "code",
   "execution_count": null,
   "id": "b205f482-d065-4ad6-a456-c0855690de03",
   "metadata": {},
   "outputs": [],
   "source": [
    "%%timeit\n",
    "array_dict['mag'].max()"
   ]
  },
  {
   "cell_type": "markdown",
   "id": "fa5e68fd-65d6-48d8-a1b6-0d3b3c8f8151",
   "metadata": {},
   "source": [
    "However, this representation has other issues. Say we wanted to grab all the information for the earthquake with the maximum magnitude, how would we go about that? We would need to find the index of the maximum and then for each of the keys in the dictionary grab that index:"
   ]
  },
  {
   "cell_type": "code",
   "execution_count": null,
   "id": "467ff128-69ab-40ec-9e9c-866a5100f77b",
   "metadata": {},
   "outputs": [],
   "source": [
    "np.array([\n",
    "    value[array_dict['mag'].argmax()] \n",
    "    for key, value in array_dict.items()\n",
    "])"
   ]
  },
  {
   "cell_type": "markdown",
   "id": "cf67e3a9-2fcf-4bbc-8cab-49379b663e43",
   "metadata": {},
   "source": [
    "We now have a NumPy array consisting solely of strings, converting our numerical values into this format and reverting to the earlier setup. Additionally, if we aim to sort the data by magnitude in ascending order, the initial format requires sorting the rows based on the third index. In the second format, we need to establish the sorting order based on the `mag` column and then rearrange all other arrays accordingly. Handling multiple NumPy arrays with different data types simultaneously can be challenging. This is where `pandas` comes into play, enhancing the ease of working with NumPy arrays. Let's begin delving into `pandas` by understanding its data structure."
   ]
  },
  {
   "cell_type": "markdown",
   "id": "e1f02e36-1531-46af-953a-179ccf8b01b1",
   "metadata": {},
   "source": [
    "### `Series`\n",
    "The `Series` class provides a data structure for arrays of a single type with some additional functionality."
   ]
  },
  {
   "cell_type": "code",
   "execution_count": null,
   "id": "680b4b52-b3d9-421e-88e1-4d19935ea384",
   "metadata": {},
   "outputs": [],
   "source": [
    "import pandas as pd\n",
    "\n",
    "place = pd.Series(array_dict['place'], name='place')\n",
    "place"
   ]
  },
  {
   "cell_type": "markdown",
   "id": "491b639a-4102-4b01-9e2d-6dc8feacf29f",
   "metadata": {},
   "source": [
    "Here are some commonly used attributes with `Series` objects:\n",
    "\n",
    "|Attribute | Returns |\n",
    "| --- | --- |\n",
    "| `name` | The name of the `Series` object |\n",
    "| `dtype` | The data type of the `Series` object |\n",
    "| `shape` | Dimensions of the `Series` object in a tuple of the form `(number of rows,)` |\n",
    "| `index` | The `Index` object that is part of the `Series` object |\n",
    "| `values` | The data in the `Series` object |\n",
    "\n",
    "For the most part, `pandas` objects use NumPy arrays for their internal data representations. However, for some data types, `pandas` builds upon NumPy to create its own [arrays](https://pandas.pydata.org/pandas-docs/stable/reference/arrays.html). For this reason, depending on the data type, `values` can either be a `pandas.array` or `numpy.array` object. Therefore, if we need to ensure we get a specific type back, then it is recommended to use the `array` attribute or `to_numpy()` method, respectively, instead of `values`.\n",
    "\n",
    "Now let's see some examples using these attributes.\n",
    "\n",
    "**Getting the name of the series**\n",
    "\n",
    "The NumPy array held the name of the data in the `dtype` attribute; here, we can access it directly: "
   ]
  },
  {
   "cell_type": "code",
   "execution_count": null,
   "id": "5d061fb7-8efe-44cf-9752-9e710a7c2436",
   "metadata": {},
   "outputs": [],
   "source": [
    "place.name"
   ]
  },
  {
   "cell_type": "markdown",
   "id": "f9474613-7dde-4bc9-a12f-bda893948085",
   "metadata": {},
   "source": [
    "**Getting the data type**\n",
    "\n",
    "A `Series` object holds a single data type.\n",
    "Here it is `'O'` for object."
   ]
  },
  {
   "cell_type": "code",
   "execution_count": null,
   "id": "bc38c3f3-e182-4349-b6e8-d8e5e450a6d9",
   "metadata": {},
   "outputs": [],
   "source": [
    "place.dtype"
   ]
  },
  {
   "cell_type": "markdown",
   "id": "e9f9d9e6-3ea2-47e4-ba1c-5e3ca840a084",
   "metadata": {},
   "source": [
    "**Getting the dimensions of the series**\n",
    "\n",
    "Just as with NumPy, we can use `shape` to get the dimensions as `(rows, columns)`.\n",
    "`Series` objects are a single column, so they only have values for the rows dimension. "
   ]
  },
  {
   "cell_type": "code",
   "execution_count": null,
   "id": "999677ee-f317-4771-9348-65ec2fd2411d",
   "metadata": {},
   "outputs": [],
   "source": [
    "place.shape"
   ]
  },
  {
   "cell_type": "markdown",
   "id": "a566722c-7fd2-4256-82e4-78d09e3d42e2",
   "metadata": {},
   "source": [
    "**Isolating the values from the series**\n",
    "\n",
    "This `Series` object is storing its values as a NumPy array:"
   ]
  },
  {
   "cell_type": "code",
   "execution_count": null,
   "id": "40cfbf79-086c-40c1-96a7-532e9620d1b4",
   "metadata": {},
   "outputs": [],
   "source": [
    "place.values"
   ]
  },
  {
   "cell_type": "markdown",
   "id": "54f9a8a6-6224-44d9-99fa-1a1d726fdecb",
   "metadata": {},
   "source": [
    "### `Index`\n",
    "The addition of the `Index` class makes the `Series` class more powerful than a NumPy array. We can get the index from the `index` attribute of a `Series` object:"
   ]
  },
  {
   "cell_type": "code",
   "execution_count": null,
   "id": "cacfab39-539a-482c-8307-a922a58cac12",
   "metadata": {},
   "outputs": [],
   "source": [
    "place_index = place.index\n",
    "place_index"
   ]
  },
  {
   "cell_type": "markdown",
   "id": "24bdf54f-58c0-4d8e-ab8a-5d8a5b138c3f",
   "metadata": {},
   "source": [
    "As with `Series` objects, we can access the underlying data via the `values` attribute. Note that this `Index` object is also built on top of a NumPy array:"
   ]
  },
  {
   "cell_type": "code",
   "execution_count": null,
   "id": "2f400e54-1f0a-4ecb-9e83-d1deb64a44ef",
   "metadata": {},
   "outputs": [],
   "source": [
    "place_index.values"
   ]
  },
  {
   "cell_type": "markdown",
   "id": "d5a27615-81b6-4afd-afde-6df0f991e64c",
   "metadata": {},
   "source": [
    "Here are some commonly used attributes with `Index` objects:\n",
    "\n",
    "|Attribute | Returns |\n",
    "| --- | --- |\n",
    "| `name` | The name of the `Index` object |\n",
    "| `dtype` | The data type of the `Index` object |\n",
    "| `shape` | Dimensions of the `Index` object |\n",
    "| `values` | The data in the `Index` object |\n",
    "| `is_unique` | Check if the `Index` object has all unique values |\n",
    "\n",
    "We can check the type of the underlying data, just like with a `Series` object:"
   ]
  },
  {
   "cell_type": "code",
   "execution_count": null,
   "id": "14c9e50f-b199-41da-b6b3-179dec13836c",
   "metadata": {},
   "outputs": [],
   "source": [
    "place_index.dtype"
   ]
  },
  {
   "cell_type": "markdown",
   "id": "f0f5126c-7297-4502-b99f-3b320db48276",
   "metadata": {},
   "source": [
    "Same for the dimensions:"
   ]
  },
  {
   "cell_type": "code",
   "execution_count": null,
   "id": "45ca8016-1534-428b-a4b3-e98cb90a9509",
   "metadata": {},
   "outputs": [],
   "source": [
    "place_index.shape"
   ]
  },
  {
   "cell_type": "markdown",
   "id": "4ac953a0-f9ae-44f0-8d24-edddddda8fa2",
   "metadata": {},
   "source": [
    "We can check if the values are unique:"
   ]
  },
  {
   "cell_type": "code",
   "execution_count": null,
   "id": "85271f65-2fc0-4445-8fa7-19c20ead6822",
   "metadata": {},
   "outputs": [],
   "source": [
    "place_index.is_unique"
   ]
  },
  {
   "cell_type": "markdown",
   "id": "ad90acc8-afdc-46ce-9293-4ea9b2ebe7c2",
   "metadata": {},
   "source": [
    "With NumPy we can perform arithmetic operations element-wise between arrays:"
   ]
  },
  {
   "cell_type": "code",
   "execution_count": null,
   "id": "c24956ba-6b41-44af-9183-75fcfe7b4da0",
   "metadata": {},
   "outputs": [],
   "source": [
    "np.array([1, 1, 1]) + np.array([-1, 0, 1])"
   ]
  },
  {
   "cell_type": "markdown",
   "id": "f335ffb0-9c64-4c0f-997f-4e8e67d97250",
   "metadata": {},
   "source": [
    "Pandas supports this as well, and the index determines how element-wise operations are performed. With addition, only the matching indices are summed:"
   ]
  },
  {
   "cell_type": "code",
   "execution_count": null,
   "id": "0d2ca9ca-23bd-40c0-9ceb-069ec030c549",
   "metadata": {},
   "outputs": [],
   "source": [
    "numbers = np.linspace(0, 10, num=5) # makes numpy array([0, 2.5, 5, 7.5, 10])\n",
    "x = pd.Series(numbers) # index is [0, 1, 2, 3, 4]\n",
    "y = pd.Series(numbers, index=pd.Index([1, 2, 3, 4, 5]))\n",
    "x + y"
   ]
  },
  {
   "cell_type": "markdown",
   "id": "a9137190-1232-41c4-8c21-bcfec3b042fb",
   "metadata": {},
   "source": [
    "We aren't limited to the integer indices of list-like structures, and we can label our rows. The labels can be altered at any time and be things like dates or even another column. In chapter 3, we will discuss how to perform some operations on the index in order to change it. Then, in chapter 4, we will use the index for operations merging data and aggregating it.\n",
    "\n"
   ]
  },
  {
   "cell_type": "markdown",
   "id": "e0478136-bea2-408f-ba50-03b08ab09d1f",
   "metadata": {},
   "source": [
    "### `DataFrame`\n",
    "\n",
    "Using a `Series` object for each column enhances the NumPy approach, yet challenges persist in sorting by values or extracting full rows.\n",
    "A `DataFrame` provides a tabular representation comprising multiple `Series` objects as columns and a unified `Index` object labeling the rows.\n",
    "We can construct a `DataFrame` from either of the previously discussed NumPy formats.\n",
    "While it's possible to create a `Series` object for each column, it's unnecessary:"
   ]
  },
  {
   "cell_type": "code",
   "execution_count": null,
   "id": "046a2d17-e295-4dbd-8f1f-4012f548c9ed",
   "metadata": {},
   "outputs": [],
   "source": [
    "df = pd.DataFrame(array_dict) \n",
    "\n",
    "# this will also work with the first representation\n",
    "# df = pd.DataFrame(data)\n",
    "\n",
    "df"
   ]
  },
  {
   "cell_type": "markdown",
   "id": "a075d3db-37d2-4158-b356-44b022b92d5e",
   "metadata": {},
   "source": [
    "We can check the type of the underlying data with `dtypes` (note that it is not `dtype` as with `Series` and `Index` objects since each column will have its own data type):"
   ]
  },
  {
   "cell_type": "code",
   "execution_count": null,
   "id": "afafa3a7-85d2-4cfd-bf6c-bea6b94eed53",
   "metadata": {},
   "outputs": [],
   "source": [
    "df.dtypes"
   ]
  },
  {
   "cell_type": "markdown",
   "id": "3ed82b8e-69bf-4124-9cfe-c9e68fd0fd5f",
   "metadata": {},
   "source": [
    "We can get the underlying data with the `values` attribute. Note that this looks very similar to our initial NumPy representation:"
   ]
  },
  {
   "cell_type": "code",
   "execution_count": null,
   "id": "c4431cf4-362e-42ce-8c8c-9ee5e26a802e",
   "metadata": {},
   "outputs": [],
   "source": [
    "df.values"
   ]
  },
  {
   "cell_type": "markdown",
   "id": "66189f0a-336e-4a9a-8cce-78e8696ae696",
   "metadata": {},
   "source": [
    "We can isolate the columns with the `columns` attribute. Notice that the columns are actually an `Index` object just on a different axis (columns are the horizontal index while rows are the vertical index)."
   ]
  },
  {
   "cell_type": "code",
   "execution_count": null,
   "id": "cacc1ca3-3748-40c3-b539-3231ceb9015e",
   "metadata": {},
   "outputs": [],
   "source": [
    "df.columns"
   ]
  },
  {
   "cell_type": "markdown",
   "id": "f6a56716-87a8-4db2-a5ed-452a20fcf8ed",
   "metadata": {},
   "source": [
    "Here are some commonly used attributes:\n",
    "\n",
    "|Attribute | Returns |\n",
    "| --- | --- |\n",
    "| `dtypes` | The data types of each column |\n",
    "| `shape` | Dimensions of the `DataFrame` object in a tuple of the form `(number of rows, number of columns)` |\n",
    "| `index` | The `Index` object along the rows of the `DataFrame` object |\n",
    "| `columns` | The name of the columns (as an `Index` object) |\n",
    "| `values` | The data in the `DataFrame` object |\n",
    "| `empty` | Check if the `DataFrame` object is empty |\n",
    "\n",
    "The `Index` object along the rows of the dataframe can be accessed via the `index` attribute (just as with `Series` objects):"
   ]
  },
  {
   "cell_type": "code",
   "execution_count": null,
   "id": "28429812-d4ec-4d32-bcb2-996a63a36400",
   "metadata": {},
   "outputs": [],
   "source": [
    "df.index"
   ]
  },
  {
   "cell_type": "markdown",
   "id": "6089e141-0bfe-4632-adec-7ea03aead2c5",
   "metadata": {},
   "source": [
    "As with both `Series` and `Index` objects, we can get the dimensions of the dataframe with the `shape` attribute. The result is of the form `(nrows, ncols)`. Our dataframe has 5 rows and 6 columns:"
   ]
  },
  {
   "cell_type": "code",
   "execution_count": null,
   "id": "21fbe133-ead3-4df1-bec2-343ca2095bfe",
   "metadata": {},
   "outputs": [],
   "source": [
    "df.shape"
   ]
  },
  {
   "cell_type": "markdown",
   "id": "fa971a7a-1274-43a8-a053-e33f16fcc084",
   "metadata": {},
   "source": [
    "Pandas allows arithmetic operations on dataframes, matching both index and column for execution.\n",
    "This example showcases addition.\n",
    "In string columns (`time`, `place`, `magType`, and `alert`), pandas concatenates values across dataframes.\n",
    "For numeric columns (`mag` and `tsunami`), the values are summed."
   ]
  },
  {
   "cell_type": "code",
   "execution_count": null,
   "id": "0402961e-aef0-4078-899c-2679a127b4e0",
   "metadata": {},
   "outputs": [],
   "source": [
    "df + df"
   ]
  },
  {
   "cell_type": "markdown",
   "id": "992e9db9-f64a-450e-8da4-ef8382964aa3",
   "metadata": {},
   "source": [
    "## Creating `DataFrame` objects"
   ]
  },
  {
   "cell_type": "code",
   "execution_count": null,
   "id": "b579e952-10ca-41e4-b71a-4b424030abf8",
   "metadata": {},
   "outputs": [],
   "source": [
    "import datetime as dt\n",
    "import numpy as np\n",
    "import pandas as pd"
   ]
  },
  {
   "cell_type": "markdown",
   "id": "23e689c8-7284-4687-a575-f976b18bddb6",
   "metadata": {},
   "source": [
    "### Creating a `Series` object"
   ]
  },
  {
   "cell_type": "code",
   "execution_count": null,
   "id": "f85744c0-1a3b-4d7a-99b7-722ad0aa43fc",
   "metadata": {},
   "outputs": [],
   "source": [
    "np.random.seed(0) # set a seed for reproducibility\n",
    "pd.Series(np.random.rand(5), name='random')"
   ]
  },
  {
   "cell_type": "markdown",
   "id": "e2079f44-2587-4c71-a6c9-a8b5568c00a2",
   "metadata": {},
   "source": [
    "### Creating a `DataFrame` object from a `Series` object\n",
    "Use the `to_frame()` method:"
   ]
  },
  {
   "cell_type": "code",
   "execution_count": null,
   "id": "6270adc1-421a-4b6c-a8cc-1378440de20c",
   "metadata": {},
   "outputs": [],
   "source": [
    "pd.Series(np.linspace(0, 10, num=5)).to_frame()"
   ]
  },
  {
   "cell_type": "markdown",
   "id": "83a5a314-908b-4a7c-ae53-14aba193579e",
   "metadata": {},
   "source": [
    "### Creating a `DataFrame` from Python Data Structures"
   ]
  },
  {
   "cell_type": "markdown",
   "id": "edab2524-8656-4147-8027-003f027f11ba",
   "metadata": {},
   "source": [
    "#### From a dictionary of list-like structures\n",
    "\n",
    "The dictionary values can be lists, NumPy arrays, etc. as long as they have length (generators don't have length so we can't use them here):"
   ]
  },
  {
   "cell_type": "code",
   "execution_count": null,
   "id": "276aca56-ac26-42cf-a777-a384400d07c0",
   "metadata": {},
   "outputs": [],
   "source": [
    "np.random.seed(0) # set seed so result is reproducible\n",
    "pd.DataFrame(\n",
    "    {\n",
    "        'random': np.random.rand(5),\n",
    "        'text': ['hot', 'warm', 'cool', 'cold', None],\n",
    "        'truth': [np.random.choice([True, False]) for _ in range(5)]\n",
    "    }, \n",
    "    index=pd.date_range(\n",
    "        end=dt.date(2019, 4, 21),\n",
    "        freq='1D',\n",
    "        periods=5, \n",
    "        name='date'\n",
    "    )\n",
    ")"
   ]
  },
  {
   "cell_type": "markdown",
   "id": "548b76bd-b52b-46a6-9196-bab36ceeacaa",
   "metadata": {},
   "source": [
    "#### From a list of dictionaries"
   ]
  },
  {
   "cell_type": "code",
   "execution_count": null,
   "id": "1e40cc1c-f003-4959-9258-3517df72ddae",
   "metadata": {},
   "outputs": [],
   "source": [
    "pd.DataFrame([\n",
    "    {'mag': 5.2, 'place': 'California'},\n",
    "    {'mag': 1.2, 'place': 'Alaska'},\n",
    "    {'mag': 0.2, 'place': 'California'},\n",
    "])"
   ]
  },
  {
   "cell_type": "markdown",
   "id": "4c8cd8bf-2f7a-4464-8ebe-2e4ac9d51ca1",
   "metadata": {},
   "source": [
    "#### From a list of tuples"
   ]
  },
  {
   "cell_type": "code",
   "execution_count": null,
   "id": "a72713c0-5a24-4985-b031-616c2806fe4e",
   "metadata": {},
   "outputs": [],
   "source": [
    "list_of_tuples = [(n, n**2, n**3) for n in range(5)]\n",
    "list_of_tuples"
   ]
  },
  {
   "cell_type": "code",
   "execution_count": null,
   "id": "3b93eede-5142-4ce6-acb5-f0d77b23a857",
   "metadata": {},
   "outputs": [],
   "source": [
    "pd.DataFrame(\n",
    "    list_of_tuples, \n",
    "    columns=['n', 'n_squared', 'n_cubed']\n",
    ")"
   ]
  },
  {
   "cell_type": "markdown",
   "id": "faf31692-8b8c-4310-a477-8b6a70b0c5b9",
   "metadata": {},
   "source": [
    "#### From a NumPy array"
   ]
  },
  {
   "cell_type": "code",
   "execution_count": null,
   "id": "683b83d2-99f2-421b-b982-0b73034ed6c0",
   "metadata": {},
   "outputs": [],
   "source": [
    "pd.DataFrame(\n",
    "    np.array([\n",
    "        [0, 0, 0],\n",
    "        [1, 1, 1],\n",
    "        [2, 4, 8],\n",
    "        [3, 9, 27],\n",
    "        [4, 16, 64]\n",
    "    ]), columns=['n', 'n_squared', 'n_cubed']\n",
    ")"
   ]
  },
  {
   "cell_type": "markdown",
   "id": "3d9f9ce3-7dbe-44ed-8af7-d3fd4adf9aa6",
   "metadata": {},
   "source": [
    "## Creating a `DataFrame` object from the contents of a CSV File"
   ]
  },
  {
   "cell_type": "markdown",
   "id": "2fafe748-4202-4bb3-89a2-19962b735c5e",
   "metadata": {},
   "source": [
    "### Finding information on the file before reading it in\n",
    "Before attempting to read in a file, we can use the command line to see important information about the file that may determine how we read it in. We can run command line code from Jupyter Notebooks by using `!` before the code.\n",
    "\n",
    "For example, we can find out how many lines are in the file by using the `wc` utility (word count) and counting lines in the file (`-l`). The file has 9,333 lines:"
   ]
  },
  {
   "cell_type": "code",
   "execution_count": null,
   "id": "256e6c34-ce3f-4b5e-b83b-4a1edc490db3",
   "metadata": {},
   "outputs": [],
   "source": [
    "!wc -l data/earthquakes.csv"
   ]
  },
  {
   "cell_type": "markdown",
   "id": "c60a6952-60d3-468d-8c92-529ee861dd82",
   "metadata": {},
   "source": [
    "**Windows users**: if the above doesn't work for you (depends on your setup), then use this instead:\n",
    "\n",
    "```python\n",
    "!find /c /v \"\" data\\earthquakes.csv\n",
    "```\n",
    "\n",
    "\n",
    "We can find the file size by using `ls` to list the files in the `data` directory, and passing in the flags `-lh` to include the file size in human readable format. Then we use `grep` to find the file in question. Note that `|` passes the result of `ls` to `grep`. The `grep` utility is used for finding items that match patterns.\n",
    "\n",
    "This tells us the file is 3.4 MB:"
   ]
  },
  {
   "cell_type": "code",
   "execution_count": null,
   "id": "3c024ae1-8f94-4752-92c9-7c71082adc90",
   "metadata": {},
   "outputs": [],
   "source": [
    "!ls -lh data | grep earthquakes.csv"
   ]
  },
  {
   "cell_type": "markdown",
   "id": "fcc6ffa8-6d8c-475d-b5d3-8265d74de456",
   "metadata": {},
   "source": [
    "**Windows users**: if the above doesn't work for you (depends on your setup), then use this instead:\n",
    "\n",
    "```python\n",
    "!dir data | findstr \"earthquakes.csv\"\n",
    "```\n",
    "\n",
    "We can even capture the result of a command and use it in our Python code:"
   ]
  },
  {
   "cell_type": "code",
   "execution_count": null,
   "id": "0e35aeff-f7de-49d3-b917-0b3fb1e62f8c",
   "metadata": {},
   "outputs": [],
   "source": [
    "files = !ls -lh data\n",
    "[file for file in files if 'earthquake' in file]"
   ]
  },
  {
   "cell_type": "markdown",
   "id": "29f9918a-aae0-4152-8650-2fbe8f925218",
   "metadata": {},
   "source": [
    "**Windows users**: if the above doesn't work for you (depends on your setup), then use this instead:\n",
    "\n",
    "```python\n",
    "files = !dir data\n",
    "[file for file in files if 'earthquake' in file]\n",
    "```"
   ]
  },
  {
   "cell_type": "markdown",
   "id": "0e2fe223-af7a-4b0a-be85-0325c82c11e4",
   "metadata": {},
   "source": [
    "#### Examining a few rows\n",
    "\n",
    "We can use `head` to look at the top `n` rows of the file. With the `-n` flag, we can specify how many. This shows use that the first row of the file contains headers and that it is comma-separated (just because the file extension is `.csv` doesn't it contains comma-separated values):"
   ]
  },
  {
   "cell_type": "code",
   "execution_count": null,
   "id": "4fc213fb-e153-4abd-bb85-180bacdf1ecc",
   "metadata": {},
   "outputs": [],
   "source": [
    "!head -n 2 data/earthquakes.csv"
   ]
  },
  {
   "cell_type": "markdown",
   "id": "c76669b2-07f4-4fb4-9ace-7317201ee467",
   "metadata": {},
   "source": [
    "**Windows users**: if the above doesn't work for you (depends on your setup), then use this instead:\n",
    "\n",
    "```python\n",
    "n = 2\n",
    "with open('data/earthquakes.csv', 'r') as file:\n",
    "    for _ in range(n):\n",
    "        print(file.readline(), end='\\r')\n",
    "```\n",
    "\n",
    "\n",
    "Just like `head` gives rows from the top, `tail` gives rows from the bottom. This can help us check that there is no extraneous data on the bottom of the field, like perhaps some metadata about the fields that actually isn't part of the dataset:"
   ]
  },
  {
   "cell_type": "code",
   "execution_count": null,
   "id": "60abd901-4049-47b3-a325-34b1025322ad",
   "metadata": {},
   "outputs": [],
   "source": [
    "!tail -n 1 data/earthquakes.csv"
   ]
  },
  {
   "cell_type": "markdown",
   "id": "1cdedb86-3fd5-4e8c-9f21-8587319bcc6d",
   "metadata": {},
   "source": [
    "**Windows users**: if the above doesn't work for you (depends on your setup), then use this instead:\n",
    "\n",
    "```python\n",
    "import os\n",
    "\n",
    "with open('data/earthquakes.csv', 'rb') as file:\n",
    "    file.seek(0, os.SEEK_END)\n",
    "    while file.read(1) != b'\\n':\n",
    "        file.seek(-2, os.SEEK_CUR)\n",
    "    print(file.readline().decode())\n",
    "```\n",
    "\n",
    "*Note*: To inspect more than one row from the end of the file, you will have to use this instead, which requires reading the whole file:\n",
    "\n",
    "```python\n",
    "n = 2\n",
    "with open('data/earthquakes.csv', 'r') as file:\n",
    "    print('\\r'.join(file.readlines()[-n:]))\n",
    "```\n",
    "\n"
   ]
  },
  {
   "cell_type": "markdown",
   "id": "906c7428-4d23-488e-8ccb-bcf9a3cd1a6f",
   "metadata": {},
   "source": [
    "#### Column count\n",
    "We can use `awk` to find the column count. This is a utility for pattern scanning and processing. The `-F` flag allows us to specify the delimiter (comma, in this case). Then we specify what to do for each record in the file. We choose to print `NF` which is a predefined variable whose value is the number of fields in the current record. Here, we say `exit` so that we print the number of fields (columns, here) in the first row of the file, then we stop. \n",
    "\n",
    "This tells us we have 26 data columns:"
   ]
  },
  {
   "cell_type": "code",
   "execution_count": null,
   "id": "e836e4be-8a96-4a71-b353-e5e05857e8ac",
   "metadata": {},
   "outputs": [],
   "source": [
    "!awk -F',' '{print NF; exit}' data/earthquakes.csv"
   ]
  },
  {
   "cell_type": "markdown",
   "id": "dfd1456f-bf06-4fb9-b836-97c8bbc8f530",
   "metadata": {},
   "source": [
    "**Windows users**: if the above or below don't work for you (depends on your setup), then use this instead:\n",
    "\n",
    "```python\n",
    "with open('data/earthquakes.csv', 'r') as file:\n",
    "    print(len(file.readline().split(',')))\n",
    "```\n",
    "\n",
    "\n",
    "Since we know the 1st line of the file had headers, and the file is comma-separated, we can also count the columns by using `head` to get headers and parsing them in Python:"
   ]
  },
  {
   "cell_type": "code",
   "execution_count": null,
   "id": "c1508d86-d650-4b00-941d-07edfd6332d4",
   "metadata": {},
   "outputs": [],
   "source": [
    "headers = !head -n 1 data/earthquakes.csv\n",
    "len(headers[0].split(','))"
   ]
  },
  {
   "cell_type": "markdown",
   "id": "adf72aed-d973-40b1-9c3b-8aae27d51962",
   "metadata": {},
   "source": [
    "**Windows users**: if you had to use the alternatives above, consider trying out [Cygwin](https://www.cygwin.com) or [Windows Subsystem for Linux (WSL)](https://docs.microsoft.com/en-us/windows/wsl/about).\n",
    "\n"
   ]
  },
  {
   "cell_type": "markdown",
   "id": "9965bc6d-d870-4911-a0da-1c6c9b3361a3",
   "metadata": {},
   "source": [
    "### Reading in the file\n",
    "\n",
    "Our file is small in size, has headers in the first row, and is comma-separated, so we don't need to provide any additional arguments to read in the file with `pd.read_csv()`, but be sure to check the [documentation](http://pandas.pydata.org/pandas-docs/stable/reference/api/pandas.read_csv.html) for possible arguments:"
   ]
  },
  {
   "cell_type": "code",
   "execution_count": null,
   "id": "61fe84f7-d525-47db-9ead-2c5dbc5e780f",
   "metadata": {},
   "outputs": [],
   "source": [
    "df = pd.read_csv('data/earthquakes.csv')"
   ]
  },
  {
   "cell_type": "markdown",
   "id": "e98518e7-cb75-4516-ac60-52aea28e919a",
   "metadata": {},
   "source": [
    "Note that we can also pass in a URL. Let's read this same file from GitHub:"
   ]
  },
  {
   "cell_type": "code",
   "execution_count": null,
   "id": "f1b72e26-347b-4039-913c-58b1aebc77cb",
   "metadata": {},
   "outputs": [],
   "source": [
    "df = pd.read_csv(\n",
    "    'https://github.com/stefmolin/'\n",
    "    'Hands-On-Data-Analysis-with-Pandas-2nd-edition'\n",
    "    '/blob/master/ch_02/data/earthquakes.csv?raw=True'\n",
    ")"
   ]
  },
  {
   "cell_type": "markdown",
   "id": "ba4bece1-e8cd-494e-b38c-448669a72cb9",
   "metadata": {},
   "source": [
    "Pandas is usually very good at figuring out which options to use based on the input data, so we often won't need to add arguments to the call; however, there are many options available should we need them, some of which include the following:\n",
    "\n",
    "| Parameter | Purpose |\n",
    "| --- | --- |\n",
    "| `sep` | Specifies the delimiter |\n",
    "| `header` | Row number where the column names are located; the default option has `pandas` infer whether they are present |\n",
    "| `names` | List of column names to use as the header |\n",
    "| `index_col` | Column to use as the index |\n",
    "| `usecols` | Specifies which columns to read in |\n",
    "| `dtype` | Specifies data types for the columns | \n",
    "| `converters` | Specifies functions for converting data in certain columns |\n",
    "| `skiprows` | Rows to skip |\n",
    "| `nrows` | Number of rows to read at a time (combine with `skiprows` to read a file bit by bit) |\n",
    "| `parse_dates` | Automatically parse columns containing dates into datetime objects |\n",
    "| `chunksize` | For reading the file in chunks |\n",
    "| `compression` | For reading in compressed files without extracting beforehand |\n",
    "| `encoding` | Specifies the file encoding |"
   ]
  },
  {
   "cell_type": "markdown",
   "id": "a0e38f10-1679-4988-97dc-60f7f3c00129",
   "metadata": {},
   "source": [
    "### Writing a `DataFrame` Object to a CSV File\n",
    "\n",
    "Our file is small in size, has headers in the first row, and is comma-separated, so we don't need to provide any additional arguments to read in the file with `pd.read_csv()`, but be sure to check the [documentation](http://pandas.pydata.org/pandas-docs/stable/reference/api/pandas.read_csv.html) for possible arguments:"
   ]
  },
  {
   "cell_type": "code",
   "execution_count": null,
   "id": "2149c9fd-0893-419e-804d-799f5fff71ec",
   "metadata": {},
   "outputs": [],
   "source": [
    "df.to_csv('output.csv', index=False)"
   ]
  },
  {
   "cell_type": "markdown",
   "id": "7b73c4cf-7f99-43a3-9fce-5b1848c8a6dc",
   "metadata": {},
   "source": [
    "## Writing a `DataFrame` Object to a Database\n",
    "Note the `if_exists` parameter. By default, it will give you an error if you try to write a table that already exists. Here, we don't care if it is overwritten. Lastly, if we are interested in appending new rows, we set that to `'append'`."
   ]
  },
  {
   "cell_type": "code",
   "execution_count": null,
   "id": "dcd1c022-e8f1-417a-ad49-c3584386224c",
   "metadata": {},
   "outputs": [],
   "source": [
    "import sqlite3\n",
    "\n",
    "with sqlite3.connect('data/01/quakes.db') as connection:\n",
    "    pd.read_csv('data/01/tsunamis.csv').to_sql(\n",
    "        'tsunamis', connection, index=False, if_exists='replace'\n",
    "    )"
   ]
  },
  {
   "cell_type": "markdown",
   "id": "e241638c-a31e-4b3c-9d08-690287a850f0",
   "metadata": {},
   "source": [
    "## Creating a `DataFrame` Object by Querying a Database\n",
    "Using a SQLite database. Otherwise you need to install [SQLAlchemy](https://www.sqlalchemy.org/)."
   ]
  },
  {
   "cell_type": "code",
   "execution_count": null,
   "id": "073277f4-f497-43ea-a230-7d8a33de88c1",
   "metadata": {},
   "outputs": [],
   "source": [
    "import sqlite3\n",
    "\n",
    "with sqlite3.connect('data/01/quakes.db') as connection:\n",
    "    tsunamis = pd.read_sql('SELECT * FROM tsunamis', connection)\n",
    "\n",
    "tsunamis.head()"
   ]
  },
  {
   "cell_type": "markdown",
   "id": "3b583efd-5522-44de-882e-fbb3e7c74ea5",
   "metadata": {},
   "source": [
    "## Selecting data"
   ]
  },
  {
   "cell_type": "markdown",
   "id": "37017d6c-99b0-41e1-8488-d912a3505537",
   "metadata": {},
   "source": [
    "We are going to use the `earthquakes.csv` file again, so let's read it in as a `DataFrame`:"
   ]
  },
  {
   "cell_type": "code",
   "execution_count": null,
   "id": "76458e8f-d2db-4354-961a-2429e9a1027e",
   "metadata": {},
   "outputs": [],
   "source": [
    "import pandas as pd\n",
    "\n",
    "df = pd.read_csv('data/01/earthquakes.csv')"
   ]
  },
  {
   "cell_type": "markdown",
   "id": "4236c9d5-5730-482a-97d2-14a973c53214",
   "metadata": {},
   "source": [
    "### Selecting columns"
   ]
  },
  {
   "cell_type": "code",
   "execution_count": null,
   "id": "e4e69410-af06-4d38-9b7b-5c91d865ebd7",
   "metadata": {},
   "outputs": [],
   "source": [
    "df.mag"
   ]
  },
  {
   "cell_type": "markdown",
   "id": "28d46cc2-dcf9-48b8-8180-5d6f484e9b62",
   "metadata": {},
   "source": [
    "Grab an entire column using dictionary syntax:"
   ]
  },
  {
   "cell_type": "code",
   "execution_count": null,
   "id": "af1db18c-1774-4993-8690-81583626e902",
   "metadata": {},
   "outputs": [],
   "source": [
    "df['mag']"
   ]
  },
  {
   "cell_type": "markdown",
   "id": "334c2fbd-cd2e-4857-aa83-2f4311ecae43",
   "metadata": {},
   "source": [
    "Selecting multiple columns:"
   ]
  },
  {
   "cell_type": "code",
   "execution_count": null,
   "id": "aebf4b35-0ed4-4a3f-8cd5-03da180d88a6",
   "metadata": {},
   "outputs": [],
   "source": [
    "df[['mag', 'title']]"
   ]
  },
  {
   "cell_type": "markdown",
   "id": "b9885703-c7f3-40b2-8f83-7423d9fa2036",
   "metadata": {},
   "source": [
    "Selecting columns using list comprehensions and string operations:"
   ]
  },
  {
   "cell_type": "code",
   "execution_count": null,
   "id": "4b7a167f-c99a-40ff-8a90-832c8ac638a6",
   "metadata": {},
   "outputs": [],
   "source": [
    "df[\n",
    "    ['title', 'time']\n",
    "    + [col for col in df.columns if col.startswith('mag')]\n",
    "]"
   ]
  },
  {
   "cell_type": "markdown",
   "id": "eb05e3ce-bc43-4581-baeb-a3ff34b63fc1",
   "metadata": {},
   "source": [
    "Breaking down this example:\n",
    "1. the list comprehension"
   ]
  },
  {
   "cell_type": "code",
   "execution_count": null,
   "id": "9ddddb53-86d7-4d99-92bf-757d62c00e09",
   "metadata": {},
   "outputs": [],
   "source": [
    "[col for col in df.columns if col.startswith('mag')]"
   ]
  },
  {
   "cell_type": "markdown",
   "id": "8a5c4d46-c933-4d75-b6c2-779dd8a05484",
   "metadata": {},
   "source": [
    "2. assembling the list"
   ]
  },
  {
   "cell_type": "code",
   "execution_count": null,
   "id": "ce3abc6f-b687-49e5-8645-4f2fce719944",
   "metadata": {},
   "outputs": [],
   "source": [
    "['title', 'time'] \\\n",
    "+ [col for col in df.columns if col.startswith('mag')]"
   ]
  },
  {
   "cell_type": "markdown",
   "id": "e0b6f6ca-def0-4167-93fc-86fce168399f",
   "metadata": {},
   "source": [
    "3. using this list as the list of columns"
   ]
  },
  {
   "cell_type": "code",
   "execution_count": null,
   "id": "b2fbeb79-dbcb-4d65-b54a-49a31663d06f",
   "metadata": {},
   "outputs": [],
   "source": [
    "df[\n",
    "    ['title', 'time']\n",
    "    + [col for col in df.columns if col.startswith('mag')]\n",
    "]"
   ]
  },
  {
   "cell_type": "markdown",
   "id": "1de68113-525d-4d6f-a72f-addd7fdfde08",
   "metadata": {},
   "source": [
    "### Slicing"
   ]
  },
  {
   "cell_type": "markdown",
   "id": "d70f40f5-9ad5-4282-b39e-9de90cde6965",
   "metadata": {},
   "source": [
    "##### Selecting rows\n",
    "\n",
    "We can use the standard Python sytnax for slicing to fetch a number of rows:"
   ]
  },
  {
   "cell_type": "code",
   "execution_count": null,
   "id": "5f5fdb52-08b9-40a3-a1d5-02149e501f89",
   "metadata": {},
   "outputs": [],
   "source": [
    "df[100:103]"
   ]
  },
  {
   "cell_type": "markdown",
   "id": "8c1bd97d-2823-45ad-b312-effaadbf3ec5",
   "metadata": {},
   "source": [
    "##### Selecting rows and columns with chaining"
   ]
  },
  {
   "cell_type": "code",
   "execution_count": null,
   "id": "986fa69d-dce9-471c-9421-3f6e990ee87a",
   "metadata": {},
   "outputs": [],
   "source": [
    "df[['title', 'time']][100:103]"
   ]
  },
  {
   "cell_type": "markdown",
   "id": "afc8c059-f99a-47a4-8b9a-22ba1caf695c",
   "metadata": {},
   "source": [
    "Order doesn't matter here:"
   ]
  },
  {
   "cell_type": "code",
   "execution_count": null,
   "id": "a1af174f-ebad-4d72-8bcb-9de14abb6b7d",
   "metadata": {},
   "outputs": [],
   "source": [
    "df[100:103][['title', 'time']].equals(\n",
    "    df[['title', 'time']][100:103]\n",
    ")"
   ]
  },
  {
   "cell_type": "markdown",
   "id": "1cb74013-4e4c-4a48-a89d-5c4a7a18f3bb",
   "metadata": {},
   "source": [
    "So we know how to select rows and columns, but can we update values? Well, if we try using what we have learned so far, we will see the following warning:"
   ]
  },
  {
   "cell_type": "code",
   "execution_count": null,
   "id": "7e1a3b68-0b63-4f97-bede-815a9ca0b16b",
   "metadata": {},
   "outputs": [],
   "source": [
    "df[110:113]['title'] = df[110:113]['title'].str.lower()"
   ]
  },
  {
   "cell_type": "markdown",
   "id": "cd08b8f9-f309-41ae-9fe7-1b5e955d49d3",
   "metadata": {},
   "source": [
    "Note that it worked here, but `pandas` says we were setting a value on a copy of a slice and that we should use `loc` instead (see the following section):"
   ]
  },
  {
   "cell_type": "code",
   "execution_count": null,
   "id": "2eb678f0-e065-4d92-9a1b-7689857f0165",
   "metadata": {},
   "outputs": [],
   "source": [
    "df[110:113]['title']"
   ]
  },
  {
   "cell_type": "markdown",
   "id": "e9920065-ddf4-47e6-aa91-1f13e78898ee",
   "metadata": {},
   "source": [
    "### Indexing\n",
    "\n",
    "We can use the `loc` method of a `DataFrame` to modify a slice of a data frame without incurring in Pandas warnings:"
   ]
  },
  {
   "cell_type": "code",
   "execution_count": null,
   "id": "66b1d27f-ac3e-4b1c-aff4-a26bcd920431",
   "metadata": {},
   "outputs": [],
   "source": [
    "df.loc[110:112, 'title'] = df.loc[110:112, 'title'].str.lower()\n",
    "df.loc[110:112, 'title']"
   ]
  },
  {
   "cell_type": "markdown",
   "id": "75355d24-2d0d-4560-a332-e9f5a0510d96",
   "metadata": {},
   "source": [
    "#### Indexing with `loc`\n",
    "\n",
    "Selection of the format `loc[row_indexer, column_indexer]` where `:` can be used to select all, as in Python's slicing syntax:"
   ]
  },
  {
   "cell_type": "code",
   "execution_count": null,
   "id": "df260996-45f1-4c21-b70a-6ccd09d7df9b",
   "metadata": {},
   "outputs": [],
   "source": [
    "df.loc[:,'title']"
   ]
  },
  {
   "cell_type": "markdown",
   "id": "733300ed-0cd0-4c8a-816d-63787fec1264",
   "metadata": {},
   "source": [
    "We can use `loc` to select specific rows and columns without chaining. If we use row numbers with `loc`, they are now **inclusive** of the end index:"
   ]
  },
  {
   "cell_type": "code",
   "execution_count": null,
   "id": "cdb8b272-c6ad-4108-9209-84bb122dcc22",
   "metadata": {},
   "outputs": [],
   "source": [
    "df.loc[10:15, ['title', 'mag']]"
   ]
  },
  {
   "cell_type": "markdown",
   "id": "1c18e089-4e70-416e-b41f-911a52815b35",
   "metadata": {},
   "source": [
    "#### Indexing with `iloc`\n",
    "Exclusive of the endpoint just as Python slicing:"
   ]
  },
  {
   "cell_type": "code",
   "execution_count": null,
   "id": "2f95e370-b608-4eac-b3f6-e2a3f874f889",
   "metadata": {},
   "outputs": [],
   "source": [
    "df.iloc[10:15, [19, 8]]"
   ]
  },
  {
   "cell_type": "markdown",
   "id": "7f9b0d5e-d300-4dba-a160-e91edbfc16cb",
   "metadata": {},
   "source": [
    "We can use slicing syntax with `iloc` for both rows and columns:"
   ]
  },
  {
   "cell_type": "code",
   "execution_count": null,
   "id": "da12233a-82cc-4935-bc95-239444b4b1d3",
   "metadata": {},
   "outputs": [],
   "source": [
    "df.iloc[10:15, 6:10]"
   ]
  },
  {
   "cell_type": "markdown",
   "id": "cd9e291f-0e90-4d59-95b7-d2d53a669fd9",
   "metadata": {},
   "source": [
    "When using `loc`, we can slice on column names. This will be inclusive of the endpoint because you can't be expected to know what the next column name will be. As such, we have multiple ways to achieve the same end goal:"
   ]
  },
  {
   "cell_type": "code",
   "execution_count": null,
   "id": "a0c11e4c-958a-4df3-b081-fac032bdfa9b",
   "metadata": {},
   "outputs": [],
   "source": [
    "df.iloc[10:15, 6:10].equals(\n",
    "    df.loc[10:14, 'gap':'magType']\n",
    ")"
   ]
  },
  {
   "cell_type": "markdown",
   "id": "d57ffd62-5235-4688-b869-5a47f300f8c3",
   "metadata": {},
   "source": [
    "#### Looking up scalar values\n",
    "We used `loc` and `iloc` to grab subsets of the dataframe. However, if we are just interested in the specific value at a given `[row, column]`, then we can use `iat` and `at`. We use `at` with labels:"
   ]
  },
  {
   "cell_type": "code",
   "execution_count": null,
   "id": "e0781b7d-9e11-4395-bbde-d7e7ea41c710",
   "metadata": {},
   "outputs": [],
   "source": [
    "df.at[10, 'mag']"
   ]
  },
  {
   "cell_type": "markdown",
   "id": "7346dd77-9117-4e8a-9d59-f4d2091fa34c",
   "metadata": {},
   "source": [
    "...and `iat` with integer indices:"
   ]
  },
  {
   "cell_type": "code",
   "execution_count": null,
   "id": "e785a2b2-bafe-41e8-a34a-c5da60aa981d",
   "metadata": {},
   "outputs": [],
   "source": [
    "df.iat[10, 8]"
   ]
  },
  {
   "cell_type": "markdown",
   "id": "e06d5262-f91e-46cf-9311-d4f7707096fb",
   "metadata": {},
   "source": [
    "### Filtering\n",
    "\n",
    "Similar to NumPy arrays, we can use **Boolean mask** to filter a data frame:"
   ]
  },
  {
   "cell_type": "code",
   "execution_count": null,
   "id": "ecc4a718-1bd7-4381-a235-156b4464ab7b",
   "metadata": {},
   "outputs": [],
   "source": [
    "df.mag > 2"
   ]
  },
  {
   "cell_type": "markdown",
   "id": "e6e7cf74-4c56-48e1-88a8-135d35ed5b0f",
   "metadata": {},
   "source": [
    "This returns a \"list\" of every row for which the criteria on the `mag` column is greater than `2`.\n",
    "If we then want to select our data, we simply place it inside the brackets:"
   ]
  },
  {
   "cell_type": "code",
   "execution_count": null,
   "id": "cd158403-9934-4a84-8088-12c2c834d032",
   "metadata": {},
   "outputs": [],
   "source": [
    "df[df.mag >= 7.0]"
   ]
  },
  {
   "cell_type": "markdown",
   "id": "6714accc-73de-4b0c-8cff-3012095d1f6c",
   "metadata": {},
   "source": [
    "We can use masks with `loc`:"
   ]
  },
  {
   "cell_type": "code",
   "execution_count": null,
   "id": "c1e1a7cc-4574-429f-a94d-e4f7ed7ef7bf",
   "metadata": {},
   "outputs": [],
   "source": [
    "df.loc[\n",
    "    df.mag >= 7.0,\n",
    "    ['alert', 'mag', 'magType', 'title', 'tsunami', 'type']\n",
    "]"
   ]
  },
  {
   "cell_type": "markdown",
   "id": "c7d58771-5648-4989-a348-9179e778287a",
   "metadata": {},
   "source": [
    "Masks can be created using multiple criteria when combined with bitwise operators:\n",
    "- `&` for AND\n",
    "- `|` for OR\n",
    "\n",
    "We must also surround each criterion with parentheses. We can't use `and`/`or` here because we need to evaluate row by row:"
   ]
  },
  {
   "cell_type": "code",
   "execution_count": null,
   "id": "c1df0bd3-56f3-4a89-a906-04a9e3e06453",
   "metadata": {},
   "outputs": [],
   "source": [
    "df.loc[\n",
    "    (df.tsunami == 1) & (df.alert == 'red'),\n",
    "    ['alert', 'mag', 'magType', 'title', 'tsunami', 'type']\n",
    "]"
   ]
  },
  {
   "cell_type": "markdown",
   "id": "a3effd5b-7bae-429f-80b3-f8d0462f430f",
   "metadata": {},
   "source": [
    "An example with an OR condition, which is less restrictive:"
   ]
  },
  {
   "cell_type": "code",
   "execution_count": null,
   "id": "179bcb59-3db5-4e9c-a607-38691ffac8c6",
   "metadata": {},
   "outputs": [],
   "source": [
    "df.loc[\n",
    "    (df.tsunami == 1) | (df.alert == 'red'),\n",
    "    ['alert', 'mag', 'magType', 'title', 'tsunami', 'type']\n",
    "]"
   ]
  },
  {
   "cell_type": "markdown",
   "id": "320dcc11-8006-46f3-ad6a-809ba81b8f40",
   "metadata": {},
   "source": [
    "Masks can be created from any criteria that results in a Boolean. For example, we can select all earthquakes with the string `Alaska` in the `place` column with a non-null value for the `alert` column. To get non-nulls, we can use the `isnull()` method with the bitwise negation operator (`~`) or the `notnull()` method:"
   ]
  },
  {
   "cell_type": "code",
   "execution_count": null,
   "id": "85291e70-6b84-490c-b891-8abd3ed10a8c",
   "metadata": {},
   "outputs": [],
   "source": [
    "df.loc[\n",
    "    (df.place.str.contains('Alaska')) & (df.alert.notnull()),\n",
    "    ['alert', 'mag', 'magType', 'title', 'tsunami', 'type']\n",
    "]"
   ]
  },
  {
   "cell_type": "markdown",
   "id": "b0ccb828-83fe-477e-847b-5f6c47f42fea",
   "metadata": {},
   "source": [
    "We can even use regular expressions here:"
   ]
  },
  {
   "cell_type": "code",
   "execution_count": null,
   "id": "09ac7f75-6d4d-46c1-a569-56bef4786939",
   "metadata": {},
   "outputs": [],
   "source": [
    "df.loc[\n",
    "    (df.place.str.contains(r'CA|California$')) & (df.mag > 3.8),\n",
    "    ['alert', 'mag', 'magType', 'title', 'tsunami', 'type']\n",
    "]"
   ]
  },
  {
   "cell_type": "markdown",
   "id": "b2091fbc-9e47-43f2-a2bb-f6112ed1c1dd",
   "metadata": {},
   "source": [
    "We can use the `between()` method to turn 2 individual checks (is less than or equal to some maximum value and is greater than or equal to some minimum value) into a single one. Note this is inclusive of the endpoint by default:"
   ]
  },
  {
   "cell_type": "code",
   "execution_count": null,
   "id": "a84a4803-4ac3-4655-ade8-9c78f21343f1",
   "metadata": {},
   "outputs": [],
   "source": [
    "df.loc[\n",
    "    df.mag.between(6.5, 7.5),\n",
    "    ['alert', 'mag', 'magType', 'title', 'tsunami', 'type']\n",
    "]"
   ]
  },
  {
   "cell_type": "markdown",
   "id": "f885e6a9-4d63-4377-a4bd-4b9507119c23",
   "metadata": {},
   "source": [
    "We can use the `isin()` method to check for membership in a list of values:"
   ]
  },
  {
   "cell_type": "code",
   "execution_count": null,
   "id": "af40e12a-cee7-48bc-a6d8-3ebfc32d55bb",
   "metadata": {},
   "outputs": [],
   "source": [
    "df.loc[\n",
    "    df.magType.isin(['mw', 'mwb']),\n",
    "    ['alert', 'mag', 'magType', 'title', 'tsunami', 'type']\n",
    "]"
   ]
  },
  {
   "cell_type": "markdown",
   "id": "e06920e1-9605-4e85-b1ff-d29464361dd4",
   "metadata": {},
   "source": [
    "We can grab the index of the minimum and maximum values of a given column and use those to select the entire row where they occur:"
   ]
  },
  {
   "cell_type": "code",
   "execution_count": null,
   "id": "d0601f82-8367-434f-847e-4165f771973f",
   "metadata": {},
   "outputs": [],
   "source": [
    "[df.mag.idxmin(), df.mag.idxmax()]"
   ]
  },
  {
   "cell_type": "code",
   "execution_count": null,
   "id": "875f10b5-6bd4-4120-be32-80a1d67e55f8",
   "metadata": {},
   "outputs": [],
   "source": [
    "df.loc[\n",
    "    [df.mag.idxmin(), df.mag.idxmax()],\n",
    "    ['alert', 'mag', 'magType', 'title', 'tsunami', 'type']\n",
    "]"
   ]
  },
  {
   "cell_type": "markdown",
   "id": "4a0d3de1-5cc0-43ae-9d90-b3a7d4efb828",
   "metadata": {},
   "source": [
    "Note that there is a `filter()` method, but it doesn't filter the data in the same sense as we discussed in this section. Here are a few things you can do with this method.\n",
    "\n",
    "- grab columns of a dataframe by passing a list to `items`:"
   ]
  },
  {
   "cell_type": "code",
   "execution_count": null,
   "id": "02cde297-9c88-4113-a098-89162b822eb5",
   "metadata": {},
   "outputs": [],
   "source": [
    "df.filter(items=['mag', 'magType']).head()"
   ]
  },
  {
   "cell_type": "markdown",
   "id": "e2b5d2c5-ba3e-484a-8953-3a85b55017ea",
   "metadata": {},
   "source": [
    "- grab all the columns that contain a string with the `like` parameter:"
   ]
  },
  {
   "cell_type": "code",
   "execution_count": null,
   "id": "111a77b7-41fc-4222-9c6b-04b50c7a8437",
   "metadata": {},
   "outputs": [],
   "source": [
    "df.filter(like='mag').head()"
   ]
  },
  {
   "cell_type": "markdown",
   "id": "d01a1a5e-9572-4ba1-b949-e5d520be01dd",
   "metadata": {},
   "source": [
    "- use regular expressions; here, we select any columns that start with `t`:"
   ]
  },
  {
   "cell_type": "code",
   "execution_count": null,
   "id": "3566826c-a839-4174-9a64-db8530f20f2c",
   "metadata": {},
   "outputs": [],
   "source": [
    "df.filter(regex=r'^t').head()"
   ]
  },
  {
   "cell_type": "markdown",
   "id": "3e16daf0-c816-43e9-8d97-39ff93f5547a",
   "metadata": {},
   "source": [
    "- use `filter()` along the rows, by passing in `axis=0`. Here, we will use the `place` column as the index (we will cover `set_index()` in chapter 3):"
   ]
  },
  {
   "cell_type": "code",
   "execution_count": null,
   "id": "0f6c4821-a6bb-4f41-bb75-a8201256edf3",
   "metadata": {},
   "outputs": [],
   "source": [
    "df.set_index('place').filter(like='Japan', axis=0).filter(items=['mag', 'magType', 'title']).head()"
   ]
  },
  {
   "cell_type": "markdown",
   "id": "9a810d3b-b36f-46df-8577-5479bd9372dd",
   "metadata": {},
   "source": [
    "This also works on `Series` objects and will run on the index:"
   ]
  },
  {
   "cell_type": "code",
   "execution_count": null,
   "id": "d8e556bf-9bf1-4602-9b64-a0ab98c61e16",
   "metadata": {},
   "outputs": [],
   "source": [
    "df.set_index('place').title.filter(like='Japan').head()"
   ]
  },
  {
   "cell_type": "markdown",
   "id": "24fcb785-5be6-484b-b225-cbf80a7de46b",
   "metadata": {},
   "source": [
    "## Adding and removing data"
   ]
  },
  {
   "cell_type": "markdown",
   "id": "284ad335-eb03-41ad-9b1f-e5919a96c002",
   "metadata": {},
   "source": [
    "### Adding new columns"
   ]
  },
  {
   "cell_type": "code",
   "execution_count": null,
   "id": "1a9b8a23-43ec-4e32-a2f8-52e558966ae5",
   "metadata": {},
   "outputs": [],
   "source": [
    "df['source'] = 'USGS API'\n",
    "df.head()"
   ]
  },
  {
   "cell_type": "markdown",
   "id": "cc81ae20-acdb-4c24-8648-c9931d8bd116",
   "metadata": {},
   "source": [
    "...or a Boolean mask:"
   ]
  },
  {
   "cell_type": "code",
   "execution_count": null,
   "id": "61585f20-c87a-4269-b41c-1e27ae00c0db",
   "metadata": {},
   "outputs": [],
   "source": [
    "df['mag_negative'] = df.mag < 0\n",
    "df.head()"
   ]
  },
  {
   "cell_type": "markdown",
   "id": "411da7dc-326a-4ec3-a94e-5b046a2f5ad4",
   "metadata": {},
   "source": [
    "### Concatenation\n",
    "Say we were working with two separate dataframes, one with earthquakes accompanied by tsunamis and the other with earthquakes without tsunamis.\n",
    "If we wanted to look at earthquakes as a whole, we would want to concatenate the dataframes into a single one:"
   ]
  },
  {
   "cell_type": "code",
   "execution_count": null,
   "id": "94bb10af-2644-41de-9466-bb37dffadbee",
   "metadata": {},
   "outputs": [],
   "source": [
    "tsunami = df[df.tsunami == 1]\n",
    "no_tsunami = df[df.tsunami == 0]\n",
    "\n",
    "tsunami.shape, no_tsunami.shape"
   ]
  },
  {
   "cell_type": "markdown",
   "id": "13a94fe7-6ef1-40b3-aa3f-0f6b32433b9f",
   "metadata": {},
   "source": [
    "Concatenating along the row axis (`axis=0`) is equivalent to appending to the bottom.\n",
    "By concatenating our earthquakes with tsunamis and those without tsunamis, we get the full earthquake data set back:"
   ]
  },
  {
   "cell_type": "code",
   "execution_count": null,
   "id": "2cafd8b7-61fa-44f1-8bcf-9f14d1a4b8d2",
   "metadata": {},
   "outputs": [],
   "source": [
    "pd.concat([tsunami, no_tsunami]).shape"
   ]
  },
  {
   "cell_type": "markdown",
   "id": "d38495fa-fe5e-4937-9774-b90c0d26e6d9",
   "metadata": {},
   "source": [
    "Note that the previous result is equivalent to running the `append()` method of the dataframe:"
   ]
  },
  {
   "cell_type": "code",
   "execution_count": null,
   "id": "8c6be158-f310-42b7-a05e-cd4b6a6e07b2",
   "metadata": {},
   "outputs": [],
   "source": [
    "tsunami.append(no_tsunami).shape"
   ]
  },
  {
   "cell_type": "markdown",
   "id": "ba559768-6848-4eca-9b84-04b8b6e78417",
   "metadata": {},
   "source": [
    "We have been working with a subset of the columns from the CSV file, but suppose that now we want to get some of the columns we ignored when we read in the data. Since we have added new columns in this notebook, we won't want to read in the file and perform those operations again. Instead, we will concatenate along the columns (`axis=1`) to add back what we are missing:"
   ]
  },
  {
   "cell_type": "code",
   "execution_count": null,
   "id": "bc4b792d-a11b-4053-935b-d40b8d05ccba",
   "metadata": {},
   "outputs": [],
   "source": [
    "additional_columns = pd.read_csv(\n",
    "    'data/earthquakes.csv', usecols=['tz', 'felt', 'ids']\n",
    ")\n",
    "pd.concat([df.head(2), additional_columns.head(2)], axis=1)"
   ]
  },
  {
   "cell_type": "markdown",
   "id": "b6b52a83-e7b3-44ca-95f5-06e33e638e6e",
   "metadata": {},
   "source": [
    "Notice what happens if the index doesn't align though:"
   ]
  },
  {
   "cell_type": "code",
   "execution_count": null,
   "id": "6057496e-bce1-44b6-908e-4ad8f16cdafe",
   "metadata": {},
   "outputs": [],
   "source": [
    "additional_columns = pd.read_csv(\n",
    "    'data/earthquakes.csv', usecols=['tz', 'felt', 'ids', 'time'], index_col='time'\n",
    ")\n",
    "pd.concat([df.head(2), additional_columns.head(2)], axis=1)"
   ]
  },
  {
   "cell_type": "markdown",
   "id": "0f4d7f31-24cd-4c0f-9c57-11e50f733686",
   "metadata": {},
   "source": [
    "If the index doesn't align, we can align it before attempting the concatentation, which we will discuss in chapter 3.\n",
    "\n",
    "Say we want to join the `tsunami` and `no_tsunami` dataframes, but the `no_tsunami` dataframe has an additional column. The `join` parameter specifies how to handle any overlap in column names (when appending to the bottom) or in row names (when concatenating to the left/right). By default, this is `outer`, so we keep everything; however, if we use `inner`, we will only keep what is in common:"
   ]
  },
  {
   "cell_type": "code",
   "execution_count": null,
   "id": "b20707e8-befe-4de9-8e5f-190d7c1be8b6",
   "metadata": {},
   "outputs": [],
   "source": [
    "pd.concat(\n",
    "    [tsunami.head(2), no_tsunami.head(2).assign(type='earthquake')], join='inner'\n",
    ")"
   ]
  },
  {
   "cell_type": "markdown",
   "id": "36bcc323-264b-4f2d-9efb-96fb79711178",
   "metadata": {},
   "source": [
    "In addition, we use `ignore_index`, since the index doesn't mean anything for us here. This gives us sequential values instead of what we had in the previous result:"
   ]
  },
  {
   "cell_type": "code",
   "execution_count": null,
   "id": "e7ca6778-0d8a-4832-bf47-1e03e62c9655",
   "metadata": {},
   "outputs": [],
   "source": [
    "pd.concat(\n",
    "    [tsunami.head(2), no_tsunami.head(2).assign(type='earthquake')], join='inner', ignore_index=True\n",
    ")"
   ]
  },
  {
   "cell_type": "markdown",
   "id": "d91e13ab-148f-4ab9-8902-2392d111fb73",
   "metadata": {},
   "source": [
    "### Deleting data"
   ]
  },
  {
   "cell_type": "code",
   "execution_count": null,
   "id": "8b8f87c6-e174-4821-bc32-f14d3a158752",
   "metadata": {},
   "outputs": [],
   "source": [
    "del df['source']\n",
    "df.columns"
   ]
  },
  {
   "cell_type": "markdown",
   "id": "925f1a97-6c20-47a7-a391-0cff6ad0971f",
   "metadata": {},
   "source": [
    "If we don't know whether the column exists, we should use a `try`/`except` block:"
   ]
  },
  {
   "cell_type": "code",
   "execution_count": null,
   "id": "980766a2-e769-447c-8cc7-ee50f97152c3",
   "metadata": {},
   "outputs": [],
   "source": [
    "try:\n",
    "    del df['source']\n",
    "except KeyError:\n",
    "    # handle the error here\n",
    "    print('not there anymore')"
   ]
  },
  {
   "cell_type": "markdown",
   "id": "e1b2c929-c04f-491b-8833-4f2ddcc60e18",
   "metadata": {},
   "source": [
    "We can also use `pop()`. This will allow us to use the series we remove later. Note there will be an error if the key doesn't exist, so we can also use a `try`/`except` here:"
   ]
  },
  {
   "cell_type": "code",
   "execution_count": null,
   "id": "f3a11ebe-9fa2-49ee-87d4-1acb2b412785",
   "metadata": {},
   "outputs": [],
   "source": [
    "mag_negative = df.pop('mag_negative')\n",
    "df.columns"
   ]
  },
  {
   "cell_type": "markdown",
   "id": "d20f86a3-e30f-4cd0-8eee-7cf7333eb9c8",
   "metadata": {},
   "source": [
    "Notice we have a mask in `mag_negative` now:"
   ]
  },
  {
   "cell_type": "code",
   "execution_count": null,
   "id": "83a766d2-85ce-41ef-8d97-cb5a45908f29",
   "metadata": {},
   "outputs": [],
   "source": [
    "mag_negative.value_counts()"
   ]
  },
  {
   "cell_type": "markdown",
   "id": "f1f128e4-22b0-4548-a12d-62a0302d679f",
   "metadata": {},
   "source": [
    "Now, we can use `mag_negative` to filter our data:"
   ]
  },
  {
   "cell_type": "code",
   "execution_count": null,
   "id": "5c7df96b-40a5-48d0-be6d-5a21414377fe",
   "metadata": {},
   "outputs": [],
   "source": [
    "df[mag_negative].head()"
   ]
  },
  {
   "cell_type": "markdown",
   "id": "9dd8c7bc-c92f-4521-a9d0-1c2cf67273cb",
   "metadata": {},
   "source": [
    "##### Using the `drop()` method\n",
    "\n",
    "We can drop rows by passing a list of indices to the `drop()` method. Notice in the following example that when asking for the first 2 rows with `head()` we get the 3rd and 4th rows because we dropped the original first 2 with `drop([0, 1])`:"
   ]
  },
  {
   "cell_type": "code",
   "execution_count": null,
   "id": "5741cd27-d743-43fe-a7da-370102f16948",
   "metadata": {},
   "outputs": [],
   "source": [
    "df.drop([0, 1]).head(2)"
   ]
  },
  {
   "cell_type": "markdown",
   "id": "cf571579-2f12-4d77-a188-1d4608a19149",
   "metadata": {},
   "source": [
    "The `drop()` method drops along the row axis by default. If we pass in a list of columns with the `columns` argument, we can delete columns:"
   ]
  },
  {
   "cell_type": "code",
   "execution_count": null,
   "id": "e1908743-ae22-4c6e-957e-14d6fdca9167",
   "metadata": {},
   "outputs": [],
   "source": [
    "cols_to_drop = [\n",
    "    col for col in df.columns\n",
    "    if col not in ['alert', 'mag', 'title', 'time', 'tsunami']\n",
    "]\n",
    "df.drop(columns=cols_to_drop).head()"
   ]
  },
  {
   "cell_type": "markdown",
   "id": "a3091d64-01f7-48b8-948b-849182b04711",
   "metadata": {},
   "source": [
    "We also have the option of using `axis=1`:"
   ]
  },
  {
   "cell_type": "code",
   "execution_count": null,
   "id": "85663c95-4335-4f07-a1fe-9399f353990d",
   "metadata": {},
   "outputs": [],
   "source": [
    "df.drop(columns=cols_to_drop).equals(\n",
    "    df.drop(cols_to_drop, axis=1)\n",
    ")"
   ]
  },
  {
   "cell_type": "markdown",
   "id": "4ee3ce5f-48c1-4192-8235-755357e8cffb",
   "metadata": {},
   "source": [
    "By default, `drop()`, along with the majority of `DataFrame` methods, will return a new `DataFrame` object. If we just want to change the one we are working with, we can pass `inplace=True`. This should be used with care:"
   ]
  },
  {
   "cell_type": "code",
   "execution_count": null,
   "id": "74f172b8-4932-44db-9610-c642629605ff",
   "metadata": {},
   "outputs": [],
   "source": [
    "df.drop(columns=cols_to_drop, inplace=True)\n",
    "df.head()"
   ]
  },
  {
   "cell_type": "markdown",
   "id": "f8a4b593-1f86-44bf-a4be-ee5a1aac6dd2",
   "metadata": {},
   "source": [
    "## Exercises (1)\n",
    "\n",
    "Using the CSV file found in `data/01/parsed.csv`:"
   ]
  },
  {
   "cell_type": "code",
   "execution_count": null,
   "id": "4ff35ff3-bb5c-4efd-851a-7d1109b7db8c",
   "metadata": {},
   "outputs": [],
   "source": [
    "%reload_ext tutorial.tests.testsuite"
   ]
  },
  {
   "cell_type": "code",
   "execution_count": null,
   "id": "fbd3b178-6bdb-4e38-ab58-1fb2ade52ea5",
   "metadata": {},
   "outputs": [],
   "source": [
    "import pandas as pd"
   ]
  },
  {
   "cell_type": "markdown",
   "id": "f512ba83-5da2-4c64-beaf-654457f9a57c",
   "metadata": {},
   "source": [
    "1. Determine the 95th percentile for earthquake magnitudes in Japan, specifically using the mb magnitude scale.\n"
   ]
  },
  {
   "cell_type": "code",
   "execution_count": null,
   "id": "75dff56a-7560-45bd-92d3-b230af34d4f8",
   "metadata": {},
   "outputs": [],
   "source": [
    "%%ipytest\n",
    "\n",
    "def solution_pandas_1(df: pd.DataFrame):\n",
    "    pass"
   ]
  },
  {
   "cell_type": "markdown",
   "id": "88273cc0-5ab3-4120-a565-0f53becc3ae2",
   "metadata": {},
   "source": [
    "2. Calculate the proportion of earthquakes in Indonesia that were accompanied by tsunamis.\n"
   ]
  },
  {
   "cell_type": "code",
   "execution_count": null,
   "id": "a2789f85-9886-4b60-a447-82483d0b6557",
   "metadata": {},
   "outputs": [],
   "source": [
    "%%ipytest\n",
    "\n",
    "def solution_pandas_2(df: pd.DataFrame):\n",
    "    pass"
   ]
  },
  {
   "cell_type": "markdown",
   "id": "24f58970-bfca-469f-a6d8-8155b2803f73",
   "metadata": {},
   "source": [
    "# Data wrangling\n",
    "\n",
    "***Note:** solutions to these exercises are provided in the notebook* [`library_pandas_solutions`](./tutorial/library_pandas_solutions.ipynb)."
   ]
  },
  {
   "cell_type": "markdown",
   "id": "09b80a91-dc72-488e-bec1-ef7dd062d556",
   "metadata": {},
   "source": [
    "\n",
    "In this section, we will be using two different datasets:\n",
    "\n",
    "1. Daily temperature data from the National Centers for Environmental Information (NCEI) API. We will use the Global Historical Climatology Network - Daily (GHCND) dataset.\n",
    "2. S&P 500 stock market data and data for Bitcoin for 2017 through 2018.\n"
   ]
  },
  {
   "cell_type": "code",
   "execution_count": null,
   "id": "bfef51e8-3b30-4dad-a9c2-30b9501aa029",
   "metadata": {},
   "outputs": [],
   "source": [
    "import pandas as pd\n",
    "\n",
    "df = pd.read_csv('data/02/nyc_temperatures.csv')\n",
    "df.head()"
   ]
  },
  {
   "cell_type": "markdown",
   "id": "64b07308-e1eb-49c1-82a9-282fc93be204",
   "metadata": {},
   "source": [
    "## Cleaning data"
   ]
  },
  {
   "cell_type": "markdown",
   "id": "95ae0f18-eac6-407a-89e1-7a3c603b8f2f",
   "metadata": {},
   "source": [
    "### Renaming Columns\n",
    "\n"
   ]
  },
  {
   "cell_type": "code",
   "execution_count": null,
   "id": "5a2c2e90-8d8d-453b-b5f6-e72b9c78a061",
   "metadata": {},
   "outputs": [],
   "source": [
    "df.columns"
   ]
  },
  {
   "cell_type": "markdown",
   "id": "f31eb44d-4eb2-428c-9db3-36c989ef886a",
   "metadata": {},
   "source": [
    "We want to rename the `value` column to indicate it contains the temperature in Celsius and the `attributes` column to say `flags` since each value in the comma-delimited string is a different flag about the data collection. For this task, we use the `rename()` method and pass in a dictionary mapping the column names to their new names. We pass `inplace=True` to change our original dataframe instead of getting a new one back:"
   ]
  },
  {
   "cell_type": "code",
   "execution_count": null,
   "id": "6d622759-43bd-4f67-a056-62e9fd9480d2",
   "metadata": {},
   "outputs": [],
   "source": [
    "df.rename(\n",
    "    columns={\n",
    "        'value': 'temp_C',\n",
    "        'attributes': 'flags'\n",
    "    }, inplace=True\n",
    ")"
   ]
  },
  {
   "cell_type": "markdown",
   "id": "35158c54-7f99-4d56-82f4-e64c7fcda999",
   "metadata": {},
   "source": [
    "Those columns have been successfully renamed:"
   ]
  },
  {
   "cell_type": "code",
   "execution_count": null,
   "id": "cac2bbc9-0952-4c2f-bd21-a64419090400",
   "metadata": {},
   "outputs": [],
   "source": [
    "df.columns"
   ]
  },
  {
   "cell_type": "markdown",
   "id": "91daa6d0-6276-4479-87d8-741c347b6f98",
   "metadata": {},
   "source": [
    "We can also perform string operations on the column names with `rename()`:"
   ]
  },
  {
   "cell_type": "code",
   "execution_count": null,
   "id": "a4ed2238-9549-4b2f-b26c-9e6cccd881ef",
   "metadata": {},
   "outputs": [],
   "source": [
    "df.rename(str.upper, axis='columns').columns"
   ]
  },
  {
   "cell_type": "markdown",
   "id": "afc6be31-f464-4ee7-924b-462e9cfa3c91",
   "metadata": {},
   "source": [
    "### Type Conversion\n",
    "\n",
    "We want to store the `date` column as a `datetime` object:"
   ]
  },
  {
   "cell_type": "code",
   "execution_count": null,
   "id": "dd3392ab-8a21-4abd-a390-8f75994d64bc",
   "metadata": {},
   "outputs": [],
   "source": [
    "df.dtypes"
   ]
  },
  {
   "cell_type": "markdown",
   "id": "cb35d0f9-ebef-467e-a339-2a17cb3accfd",
   "metadata": {},
   "source": [
    "Let's perform the conversion with `pd.to_datetime()`:"
   ]
  },
  {
   "cell_type": "code",
   "execution_count": null,
   "id": "ed1d60de-33e7-4dce-b059-bf1b8d3299aa",
   "metadata": {},
   "outputs": [],
   "source": [
    "df.loc[:,'date'] = pd.to_datetime(df.date)\n",
    "df.dtypes"
   ]
  },
  {
   "cell_type": "markdown",
   "id": "bee4b0cb-5296-4bc5-9552-87f5aad4ecb0",
   "metadata": {},
   "source": [
    "Now we get useful information when we use `describe()` on this column:"
   ]
  },
  {
   "cell_type": "code",
   "execution_count": null,
   "id": "a5ee7776-4ac2-46c8-81e3-ae2ef9a534b5",
   "metadata": {},
   "outputs": [],
   "source": [
    "df.date.describe(datetime_is_numeric=True)"
   ]
  },
  {
   "cell_type": "markdown",
   "id": "3121a0e9-f7eb-4ff7-ba94-43a374d8f818",
   "metadata": {},
   "source": [
    "We can use `tz_localize()` on a `DatetimeIndex` object to convert to a desired timezone:"
   ]
  },
  {
   "cell_type": "code",
   "execution_count": null,
   "id": "d100dd8f-7f55-460d-8adb-5702cf3a55ce",
   "metadata": {},
   "outputs": [],
   "source": [
    "pd.date_range(start='2018-10-25', periods=2, freq='D').tz_localize('EST')"
   ]
  },
  {
   "cell_type": "markdown",
   "id": "39a1e396-4508-432e-a26e-b16bed806a08",
   "metadata": {},
   "source": [
    "This also works with `Series`/`DataFrame` objects that have an index of type `DatetimeIndex`. Let's read in the CSV again for this example and set the `date` column to be the index and stored as a datetime:"
   ]
  },
  {
   "cell_type": "code",
   "execution_count": null,
   "id": "34a6e2e9-a1b8-4eec-a17b-9c321810c227",
   "metadata": {},
   "outputs": [],
   "source": [
    "eastern = pd.read_csv(\n",
    "    'data/02/nyc_temperatures.csv', index_col='date', parse_dates=True\n",
    ").tz_localize('EST')\n",
    "\n",
    "eastern.head()"
   ]
  },
  {
   "cell_type": "markdown",
   "id": "2c4c73f9-2a89-488e-ada2-f0afe216d654",
   "metadata": {},
   "source": [
    "We can use `tz_convert()` to convert to another timezone from there. If we convert the Eastern datetimes to UTC, they will now be at 5 AM, since `pandas` will use the offsets to convert:"
   ]
  },
  {
   "cell_type": "code",
   "execution_count": null,
   "id": "77431b6d-0cb4-4ace-ac4f-c8414a1195d8",
   "metadata": {},
   "outputs": [],
   "source": [
    "eastern.tz_convert('UTC').head()"
   ]
  },
  {
   "cell_type": "markdown",
   "id": "8aedfd63-0e20-4f23-89b5-15ffbd605d38",
   "metadata": {},
   "source": [
    "We can change the period of the index as well. We could change the period to be monthly to make it easier to aggregate later. (Aggregation will be discussed in chapter 4.)"
   ]
  },
  {
   "cell_type": "code",
   "execution_count": null,
   "id": "58cc19a4-a75e-41c9-9f6c-862e64836c04",
   "metadata": {},
   "outputs": [],
   "source": [
    "eastern.tz_localize(None).to_period('M').index"
   ]
  },
  {
   "cell_type": "markdown",
   "id": "a5e778b8-71ad-46e5-a23f-68e3033458eb",
   "metadata": {},
   "source": [
    "We now get a `PeriodIndex` object, which we can change back into a `DatetimeIndex` object with `to_timestamp()`:"
   ]
  },
  {
   "cell_type": "code",
   "execution_count": null,
   "id": "d988b5b1-0bbe-47ea-9fc6-ba079ec26f9a",
   "metadata": {},
   "outputs": [],
   "source": [
    "eastern.tz_localize(None).to_period('M').to_timestamp().index"
   ]
  },
  {
   "cell_type": "markdown",
   "id": "ba436b81-ea51-4e67-a329-2d929cc90d9c",
   "metadata": {},
   "source": [
    "We can use the `assign()` method for working with multiple columns at once (or creating new ones). Since our `date` column has already been converted, we need to read in the data again:"
   ]
  },
  {
   "cell_type": "code",
   "execution_count": null,
   "id": "120dee8a-745a-495b-abf9-197626b472a6",
   "metadata": {},
   "outputs": [],
   "source": [
    "df = pd.read_csv('data/02/nyc_temperatures.csv').rename(\n",
    "    columns={\n",
    "        'value': 'temp_C',\n",
    "        'attributes': 'flags'\n",
    "    }\n",
    ")\n",
    "\n",
    "new_df = df.assign(\n",
    "    date=pd.to_datetime(df.date),\n",
    "    temp_F=(df.temp_C * 9/5) + 32\n",
    ")\n",
    "\n",
    "new_df.dtypes"
   ]
  },
  {
   "cell_type": "markdown",
   "id": "96f2bbc5-fd56-42ef-8ae8-04920a6a0e0e",
   "metadata": {},
   "source": [
    "The `date` column now has datetimes and the `temp_F` column was added:"
   ]
  },
  {
   "cell_type": "code",
   "execution_count": null,
   "id": "951eb51f-7602-45df-ba72-430bc86f9fc3",
   "metadata": {},
   "outputs": [],
   "source": [
    "new_df.head()"
   ]
  },
  {
   "cell_type": "markdown",
   "id": "510f2ce9-400d-4c72-9470-e96aa1ded692",
   "metadata": {},
   "source": [
    "We can also use `astype()` to perform conversions. Let's create columns of the integer portion of the temperatures in Celsius and Fahrenheit. We will use **lambda functions** (first introduced in *Chapter 2, Working with Pandas DataFrames*), so that we can use the values being created in the `temp_F` column to calculate the `temp_F_whole` column. It is very common (and useful) to use lambda functions with `assign()`:"
   ]
  },
  {
   "cell_type": "code",
   "execution_count": null,
   "id": "17707308-b978-4697-b14f-7234fd47ac66",
   "metadata": {},
   "outputs": [],
   "source": [
    "df = df.assign(\n",
    "    date=lambda x: pd.to_datetime(x.date),\n",
    "    temp_C_whole=lambda x: x.temp_C.astype('int'),\n",
    "    temp_F=lambda x: (x.temp_C * 9/5) + 32,\n",
    "    temp_F_whole=lambda x: x.temp_F.astype('int')\n",
    ")\n",
    "\n",
    "df.head()"
   ]
  },
  {
   "cell_type": "markdown",
   "id": "2d257826-8501-4c8d-bc32-33d68255631e",
   "metadata": {},
   "source": [
    "Creating categories:"
   ]
  },
  {
   "cell_type": "code",
   "execution_count": null,
   "id": "5efc6bfe-2979-48d5-aa34-1dc0117e01c4",
   "metadata": {},
   "outputs": [],
   "source": [
    "df_with_categories = df.assign(\n",
    "    station=df.station.astype('category'),\n",
    "    datatype=df.datatype.astype('category')\n",
    ")\n",
    "df_with_categories.dtypes"
   ]
  },
  {
   "cell_type": "code",
   "execution_count": null,
   "id": "714fea0a-6ed2-45ba-b5da-201e0f000191",
   "metadata": {},
   "outputs": [],
   "source": [
    "df_with_categories.describe(include='category')"
   ]
  },
  {
   "cell_type": "markdown",
   "id": "c9862fa0-f079-4ef9-bbf5-d1a07d4519fe",
   "metadata": {},
   "source": [
    "Our categories have no order, but this is something that `pandas` supports:"
   ]
  },
  {
   "cell_type": "code",
   "execution_count": null,
   "id": "3c50973d-85cc-4a26-bed8-b1c045645665",
   "metadata": {},
   "outputs": [],
   "source": [
    "pd.Categorical(\n",
    "    ['med', 'med', 'low', 'high'], \n",
    "    categories=['low', 'med', 'high'],\n",
    "    ordered=True\n",
    ")"
   ]
  },
  {
   "cell_type": "markdown",
   "id": "a769db10-8dc0-4ea1-b5df-1a44dbaf0ca0",
   "metadata": {},
   "source": [
    "### Reordering, reindexing, and sorting\n",
    "Say we want to find the days that reached the hottest temperatures in the weather data; we can sort our values by the `temp_C` column with the largest on top to find this: "
   ]
  },
  {
   "cell_type": "code",
   "execution_count": null,
   "id": "c5ff90e5-2823-4125-83c6-9a23b2148033",
   "metadata": {},
   "outputs": [],
   "source": [
    "df[df.datatype == 'TMAX'].sort_values(by='temp_C', ascending=False).head(10)"
   ]
  },
  {
   "cell_type": "markdown",
   "id": "1bfe4a3b-f225-4d0c-9025-d6038de09aa8",
   "metadata": {},
   "source": [
    "However, this isn't perfect because we have some ties, and they aren't sorted consistently.\n",
    "In the first tie between the 7th and the 10th, the earlier date comes first, but the opposite is true with the tie between the 4th and the 2nd.\n",
    "We can use other columns to break ties and specify how to sort each with `ascending`.\n",
    "Let's break ties with the date column and show earlier dates before later ones:"
   ]
  },
  {
   "cell_type": "code",
   "execution_count": null,
   "id": "9b9d59fb-31d2-4a0b-9ae3-ce6958ee3624",
   "metadata": {},
   "outputs": [],
   "source": [
    "df[df.datatype == 'TMAX'].sort_values(by=['temp_C', 'date'], ascending=[False, True]).head(10)"
   ]
  },
  {
   "cell_type": "markdown",
   "id": "242d561d-b0db-4bf4-a99c-7fbcef6b7b19",
   "metadata": {},
   "source": [
    "Notice that the index was jumbled in the past 2 results. Here, our index only stores the row number in the original data, but we may not need to keep track of that information. In this case, we can pass in `ignore_index=True` to get a new index after sorting:"
   ]
  },
  {
   "cell_type": "code",
   "execution_count": null,
   "id": "b5a9724d-15b3-45a2-b3f4-5436d147ec3d",
   "metadata": {},
   "outputs": [],
   "source": [
    "df[df.datatype == 'TMAX'].sort_values(by=['temp_C', 'date'], ascending=[False, True], ignore_index=True).head(10)"
   ]
  },
  {
   "cell_type": "markdown",
   "id": "a162852d-d34c-45c6-bbea-01b5ffa5d848",
   "metadata": {},
   "source": [
    "When just looking for the n-largest values, rather than wanting to sort all the data, we can use `nlargest()`:"
   ]
  },
  {
   "cell_type": "code",
   "execution_count": null,
   "id": "099d88c1-7905-4aea-ac31-cdb1ded2326e",
   "metadata": {},
   "outputs": [],
   "source": [
    "df[df.datatype == 'TAVG'].nlargest(n=10, columns='temp_C')"
   ]
  },
  {
   "cell_type": "markdown",
   "id": "cbbb64e7-2e16-4b40-8b00-0929327167da",
   "metadata": {},
   "source": [
    "We use `nsmallest()` for the n-smallest values."
   ]
  },
  {
   "cell_type": "code",
   "execution_count": null,
   "id": "4dcc977b-958d-49b3-abf6-24022112fb73",
   "metadata": {},
   "outputs": [],
   "source": [
    "df.nsmallest(n=5, columns=['temp_C', 'date'])"
   ]
  },
  {
   "cell_type": "markdown",
   "id": "debebeac-5cda-4998-b899-ea35acd42f25",
   "metadata": {},
   "source": [
    "The `sample()` method will give us rows (or columns with `axis=1`) at random.\n",
    "We can provide a seed (`random_state`) to make this reproducible.\n",
    "The index after we do this is jumbled:"
   ]
  },
  {
   "cell_type": "code",
   "execution_count": null,
   "id": "65ce441e-ef85-43c0-a3ae-3b581a45e53b",
   "metadata": {},
   "outputs": [],
   "source": [
    "df.sample(5, random_state=0).index"
   ]
  },
  {
   "cell_type": "markdown",
   "id": "fc3cef57-eaa2-4659-bab6-dd53960d2664",
   "metadata": {},
   "source": [
    "We can use `sort_index()` to order it again:"
   ]
  },
  {
   "cell_type": "code",
   "execution_count": null,
   "id": "0935ee7f-38bf-44f7-9f09-e263d98e1d60",
   "metadata": {},
   "outputs": [],
   "source": [
    "df.sample(5, random_state=0).sort_index().index"
   ]
  },
  {
   "cell_type": "markdown",
   "id": "327b3dc7-b149-4a70-87e5-204016e18d0f",
   "metadata": {},
   "source": [
    "The `sort_index()` method can also sort columns alphabetically:"
   ]
  },
  {
   "cell_type": "code",
   "execution_count": null,
   "id": "33b2fab6-ad8e-4f97-b3cf-4e699b0bb94d",
   "metadata": {},
   "outputs": [],
   "source": [
    "df.sort_index(axis=1).head()"
   ]
  },
  {
   "cell_type": "markdown",
   "id": "04be54e5-eec9-4d28-b475-a0e26287e1ca",
   "metadata": {},
   "source": [
    "This can make selection with `loc` easier for many columns:"
   ]
  },
  {
   "cell_type": "code",
   "execution_count": null,
   "id": "0b85341d-0cb8-4eaf-b09a-3a92e74f8ab1",
   "metadata": {},
   "outputs": [],
   "source": [
    "df.sort_index(axis=1).head().loc[:,'temp_C':'temp_F_whole']"
   ]
  },
  {
   "cell_type": "markdown",
   "id": "80dce355-db3b-4fc9-a230-4e5d26fbd7cf",
   "metadata": {},
   "source": [
    "We must sort the index to compare two dataframes. If the index is different, but the data is the same, they will be marked not-equal:"
   ]
  },
  {
   "cell_type": "code",
   "execution_count": null,
   "id": "01f50d76-4980-4f8b-baf4-4d0a02fd7108",
   "metadata": {},
   "outputs": [],
   "source": [
    "df.equals(df.sort_values(by='temp_C'))"
   ]
  },
  {
   "cell_type": "markdown",
   "id": "1f67c0d6-ac4e-40fd-9757-d692379215dc",
   "metadata": {},
   "source": [
    "Sorting the index solves this issue:"
   ]
  },
  {
   "cell_type": "code",
   "execution_count": null,
   "id": "33ee9a7a-3659-4632-a185-b8c104d1e6dc",
   "metadata": {},
   "outputs": [],
   "source": [
    "df.equals(df.sort_values(by='temp_C').sort_index())"
   ]
  },
  {
   "cell_type": "markdown",
   "id": "599e9a7c-de20-438a-87ad-d059812ae028",
   "metadata": {},
   "source": [
    "Let's set the `date` column as our index:"
   ]
  },
  {
   "cell_type": "code",
   "execution_count": null,
   "id": "57da63da-4265-42ac-9e99-3076c11c0031",
   "metadata": {},
   "outputs": [],
   "source": [
    "df.set_index('date', inplace=True)\n",
    "df.head()"
   ]
  },
  {
   "cell_type": "markdown",
   "id": "f8d1a849-371d-450a-bd08-3c2960904f1d",
   "metadata": {},
   "source": [
    "Now that we have an index of type `DatetimeIndex`, we can do datetime slicing and indexing.\n",
    "As long as we provide a date format that pandas understands, we can grab the data.\n",
    "To select all of 2018, we simply use `df.loc['2018']`, for the fourth quarter of 2018 we can use `df.loc['2018-Q4']`, grabbing October is as simple as using `df.loc['2018-10']`; these can also be combined to build ranges.\n",
    "\n",
    "Let's grab October 11, 2018 through October 12, 2018 (inclusive of both endpoints)&mdash;note that using `loc[]` is optional for ranges:"
   ]
  },
  {
   "cell_type": "code",
   "execution_count": null,
   "id": "0646c150-1cbf-4884-93e7-b3294e0361a0",
   "metadata": {},
   "outputs": [],
   "source": [
    "df['2018-10-11':'2018-10-12']"
   ]
  },
  {
   "cell_type": "markdown",
   "id": "0c7bebf9-ce19-4641-98c7-691a9aafb09c",
   "metadata": {},
   "source": [
    "We can also use `reset_index()` to get a fresh index and move our current index into a column for safe keeping. This is especially useful if we had data, such as the date, in the index that we don't want to lose:"
   ]
  },
  {
   "cell_type": "code",
   "execution_count": null,
   "id": "b336eeab-efa7-4a90-9dc8-2ad66a5e7eb2",
   "metadata": {},
   "outputs": [],
   "source": [
    "df['2018-10-11':'2018-10-12'].reset_index()"
   ]
  },
  {
   "cell_type": "markdown",
   "id": "28e13880-7f8f-4f48-89c0-e6c373ce5dbb",
   "metadata": {},
   "source": [
    "Reindexing allows us to conform our axis to contain a given set of labels.\n",
    "\n",
    "Let's turn to the S&P 500 stock data in the `sp500.csv` file to see an example of this.\n",
    "Notice we only have data for trading days (weekdays, excluding holidays):"
   ]
  },
  {
   "cell_type": "code",
   "execution_count": null,
   "id": "2a484d50-7dc9-4f28-b7af-c39628214e45",
   "metadata": {},
   "outputs": [],
   "source": [
    "sp = pd.read_csv(\n",
    "    'data/02/sp500.csv', index_col='date', parse_dates=True\n",
    ").drop(columns=['adj_close'])\n",
    "\n",
    "sp.head(10).assign(\n",
    "    day_of_week=lambda x: x.index.day_name()\n",
    ")"
   ]
  },
  {
   "cell_type": "markdown",
   "id": "ec6a21af-6bf6-458d-b91c-f78f6eda176a",
   "metadata": {},
   "source": [
    "If we want to look at the value of a portfolio (group of assets) that trade on different days, we need to handle the mismatch in the index.\n",
    "Bitcoin, for example, trades daily.\n",
    "If we sum up all the data we have for each day (aggregations will be covered in chapter 4, so don't fixate on this part), we get the following:"
   ]
  },
  {
   "cell_type": "code",
   "execution_count": null,
   "id": "c9df1ef1-e62e-474d-8166-7a807fbcf01e",
   "metadata": {},
   "outputs": [],
   "source": [
    "bitcoin = pd.read_csv(\n",
    "    'data/02/bitcoin.csv', index_col='date', parse_dates=True\n",
    ").drop(columns=['market_cap'])\n",
    "\n",
    "# every day's closing price = S&P 500 close + Bitcoin close (same for other metrics)\n",
    "portfolio = pd.concat([sp, bitcoin], sort=False).groupby(level='date').sum()\n",
    "\n",
    "portfolio.head(10).assign(\n",
    "    day_of_week=lambda x: x.index.day_name()\n",
    ")"
   ]
  },
  {
   "cell_type": "markdown",
   "id": "684747ec-6942-4469-af19-ed52b65ebbfb",
   "metadata": {},
   "source": [
    "It may not be immediately obvious what is wrong with the previous data, but with a visualization we can easily see the cyclical pattern of drops on the days the stock market is closed.\n",
    "\n",
    "We will need to import `matplotlib` now:"
   ]
  },
  {
   "cell_type": "code",
   "execution_count": null,
   "id": "c109d719-e510-4588-9c7a-09049bb8d9f6",
   "metadata": {},
   "outputs": [],
   "source": [
    "import matplotlib.pyplot as plt\n",
    "from matplotlib.ticker import StrMethodFormatter"
   ]
  },
  {
   "cell_type": "markdown",
   "id": "f894c86e-480f-4977-aa8a-194d808a42a1",
   "metadata": {},
   "source": [
    "Now we can see why we need to reindex:"
   ]
  },
  {
   "cell_type": "code",
   "execution_count": null,
   "id": "8d5c47b6-2f4d-419f-a78f-3c443a82c4ad",
   "metadata": {},
   "outputs": [],
   "source": [
    "# plot the closing price from Q4 2017 through Q2 2018\n",
    "ax = portfolio['2017-Q4':'2018-Q2'].plot(\n",
    "    y='close', figsize=(15, 5), legend=False,\n",
    "    title='Bitcoin + S&P 500 value without accounting for different indices'\n",
    ")\n",
    "\n",
    "# formatting\n",
    "ax.set_ylabel('price')\n",
    "ax.yaxis.set_major_formatter(StrMethodFormatter('${x:,.0f}'))\n",
    "for spine in ['top', 'right']:\n",
    "    ax.spines[spine].set_visible(False)\n",
    "\n",
    "# show the plot\n",
    "plt.show()"
   ]
  },
  {
   "cell_type": "markdown",
   "id": "ffc54d4e-0e6a-4c56-8d14-ead611db8468",
   "metadata": {},
   "source": [
    "We need to align the index of the S&P 500 to match bitcoin in order to fix this.\n",
    "We will use the `reindex()` method, but by default we get `NaN` for the values that we don't have data for:"
   ]
  },
  {
   "cell_type": "code",
   "execution_count": null,
   "id": "9dc446dc-d248-44d7-82c0-5e2c95239a2d",
   "metadata": {},
   "outputs": [],
   "source": [
    "sp.reindex(bitcoin.index).head(10).assign(\n",
    "    day_of_week=lambda x: x.index.day_name()\n",
    ")"
   ]
  },
  {
   "cell_type": "markdown",
   "id": "3a772cea-d1af-4311-8108-624af2dca7b9",
   "metadata": {},
   "source": [
    "So now we have rows for every day of the year, but all the weekends and holidays have `NaN` values.\n",
    "To address this, we can specify how to handle missing values with the `method` argument.\n",
    "In this case, we want to forward-fill, which will put the weekend and holiday values as the value they had for the Friday (or end of trading week) before:"
   ]
  },
  {
   "cell_type": "code",
   "execution_count": null,
   "id": "55b5d77a-bede-4f0f-8fd8-7eba1b6986b8",
   "metadata": {},
   "outputs": [],
   "source": [
    "sp.reindex(bitcoin.index, method='ffill').head(10)\n",
    "    .assign(day_of_week=lambda x: x.index.day_name())"
   ]
  },
  {
   "cell_type": "markdown",
   "id": "f82b419b-f7c1-47dc-8722-366eab18093e",
   "metadata": {},
   "source": [
    "To isolate the changes happening with the forward-filling, we can use the `compare()` method.\n",
    "It shows us the values that differ across identically-labeled dataframes (same names and same columns).\n",
    "Here, we can see that only weekends and holidays (Monday, January 16, 2017 was MLK day) have values forward-filled.\n",
    "Consecutive days have the same values."
   ]
  },
  {
   "cell_type": "code",
   "execution_count": null,
   "id": "0483f7c0-800a-4f5d-b696-2a1c6b15d505",
   "metadata": {},
   "outputs": [],
   "source": [
    "sp.reindex(bitcoin.index)\n",
    "    .compare(sp.reindex(bitcoin.index, method='ffill'))\n",
    "    .head(10).assign(day_of_week=lambda x: x.index.day_name())"
   ]
  },
  {
   "cell_type": "markdown",
   "id": "9df1ebcc-c63b-4dc6-ac4f-3a9d0bb8ca31",
   "metadata": {},
   "source": [
    "This isn't perfect though.\n",
    "We probably want 0 for the volume traded and to put the closing price for the open, high, low, and close on the days the market is closed:"
   ]
  },
  {
   "cell_type": "code",
   "execution_count": null,
   "id": "495aed9b-c7a8-4a37-af57-886528e55adb",
   "metadata": {},
   "outputs": [],
   "source": [
    "import numpy as np\n",
    "\n",
    "sp_reindexed = sp.reindex(bitcoin.index).assign(\n",
    "    volume=lambda x: x.volume.ffill(0), # put 0 when market is closed\n",
    "    close=lambda x: x.close.ffill(), # carry this forward\n",
    "    # take the closing price if these aren't available\n",
    "    open=lambda x: np.where(x.open.isnull(), x.close, x.open),\n",
    "    high=lambda x: np.where(x.high.isnull(), x.close, x.high),\n",
    "    low=lambda x: np.where(x.low.isnull(), x.close, x.low)\n",
    ")\n",
    "\n",
    "sp_reindexed.head(10).assign(\n",
    "    day_of_week=lambda x: x.index.day_name()\n",
    ")"
   ]
  },
  {
   "cell_type": "markdown",
   "id": "c5fcb8b9-9cf2-4d25-b4b0-0d7a5fccbf7d",
   "metadata": {},
   "source": [
    "If we create a visualization comparing the reindexed data to the first attempt, we see how reindexing helped maintain the asset value when the market was closed:"
   ]
  },
  {
   "cell_type": "code",
   "execution_count": null,
   "id": "cecef783-032c-4c52-9e27-0777caddda38",
   "metadata": {},
   "outputs": [],
   "source": [
    "# every day's closing price = S&P 500 close adjusted for market closure + Bitcoin close (same for other metrics)\n",
    "fixed_portfolio = sp_reindexed + bitcoin\n",
    "\n",
    "# plot the reindexed portfolio's closing price from Q4 2017 through Q2 2018\n",
    "ax = fixed_portfolio['2017-Q4':'2018-Q2'].plot(\n",
    "    y='close', label='reindexed portfolio of S&P 500 + Bitcoin', figsize=(15, 5), linewidth=2, \n",
    "    title='Reindexed portfolio vs. portfolio with mismatched indices'\n",
    ")\n",
    "\n",
    "# add line for original portfolio for comparison\n",
    "portfolio['2017-Q4':'2018-Q2'].plot(\n",
    "    y='close', ax=ax, linestyle='--', label='portfolio of S&P 500 + Bitcoin w/o reindexing'\n",
    ")\n",
    "\n",
    "# formatting\n",
    "ax.set_ylabel('price')\n",
    "ax.yaxis.set_major_formatter(StrMethodFormatter('${x:,.0f}'))\n",
    "for spine in ['top', 'right']:\n",
    "    ax.spines[spine].set_visible(False)\n",
    "\n",
    "# show the plot\n",
    "plt.show()"
   ]
  },
  {
   "cell_type": "markdown",
   "id": "620b660c-62f0-4c6a-8849-7486f8792bf0",
   "metadata": {},
   "source": [
    "## Reshaping data\n",
    "\n",
    "Let's import some data to showcase a few examples of reshaping:"
   ]
  },
  {
   "cell_type": "code",
   "execution_count": null,
   "id": "362ab9f2-f412-4a77-b754-0bcc9dbd3019",
   "metadata": {},
   "outputs": [],
   "source": [
    "import pandas as pd\n",
    "\n",
    "long_df = pd.read_csv(\n",
    "    'data/02/long_data.csv', usecols=['date', 'datatype', 'value']\n",
    ").rename(\n",
    "    columns={'value': 'temp_C'}\n",
    ").assign(\n",
    "    date=lambda x: pd.to_datetime(x.date),\n",
    "    temp_F=lambda x: (x.temp_C * 9/5) + 32\n",
    ")\n",
    "\n",
    "long_df.head()"
   ]
  },
  {
   "cell_type": "markdown",
   "id": "f7b61af4-b991-487e-ab21-f219ddfbaff5",
   "metadata": {},
   "source": [
    "### Transposing\n",
    "Transposing swaps the rows and the columns. We use the `T` attribute to do so:"
   ]
  },
  {
   "cell_type": "code",
   "execution_count": null,
   "id": "95e9899b-412d-45d3-b025-f5e9bdcd3399",
   "metadata": {},
   "outputs": [],
   "source": [
    "long_df.set_index('date').head(6).T"
   ]
  },
  {
   "cell_type": "markdown",
   "id": "4c97e234-1058-453c-a7f3-79aae2380529",
   "metadata": {},
   "source": [
    "### Pivoting\n",
    "\n",
    "#### `pivot()`\n",
    "We can restructure our data by picking a column to go in the index (`index`), a column whose unique values will become column names (`columns`), and the values to place in those columns (`values`).\n",
    "The `pivot()` method can be used when we don't need to perform any aggregation in addition to our restructuring (when our index is unique); if this is not the case, we need the `pivot_table()` method which we will cover in the [next chapter](#Data-aggregation). "
   ]
  },
  {
   "cell_type": "code",
   "execution_count": null,
   "id": "2a5283f3-4dc6-4ab3-b2fb-aea12c52b3c2",
   "metadata": {},
   "outputs": [],
   "source": [
    "pivoted_df = long_df.pivot(\n",
    "    index='date', columns='datatype', values='temp_C'\n",
    ")\n",
    "pivoted_df.head()"
   ]
  },
  {
   "cell_type": "markdown",
   "id": "d898be7e-fd5a-4142-9455-5e8f0e1b2799",
   "metadata": {},
   "source": [
    "Now that the data is pivoted, we have wide format data that we can grab summary statistics with:"
   ]
  },
  {
   "cell_type": "code",
   "execution_count": null,
   "id": "fcb68d6f-a352-4d6a-a76f-64733e7b9865",
   "metadata": {},
   "outputs": [],
   "source": [
    "pivoted_df.describe()"
   ]
  },
  {
   "cell_type": "markdown",
   "id": "be9753cf-e36a-41cf-aec8-f8f5ec957c21",
   "metadata": {},
   "source": [
    "We can also provide multiple values to pivot on, which will result in a hierarchical index:"
   ]
  },
  {
   "cell_type": "code",
   "execution_count": null,
   "id": "c5a8b54f-f2b1-4369-9f4a-67a6771457c8",
   "metadata": {},
   "outputs": [],
   "source": [
    "pivoted_df = long_df.pivot(\n",
    "    index='date', columns='datatype', values=['temp_C', 'temp_F']\n",
    ")\n",
    "pivoted_df.head()"
   ]
  },
  {
   "cell_type": "markdown",
   "id": "528a041f-974b-41cb-9d80-c4314c770982",
   "metadata": {},
   "source": [
    "With the hierarchical index, if we want to select `TMIN` in Fahrenheit, we will first need to select `temp_F` and then `TMIN`:"
   ]
  },
  {
   "cell_type": "code",
   "execution_count": null,
   "id": "e2ecd493-0166-4e4e-8369-9e6f4f2c70a8",
   "metadata": {},
   "outputs": [],
   "source": [
    "pivoted_df['temp_F']['TMIN'].head()"
   ]
  },
  {
   "cell_type": "markdown",
   "id": "1079eb6d-8072-44dc-9217-718a9d048c5a",
   "metadata": {},
   "source": [
    "#### `unstack()`\n",
    "\n",
    "We have been working with a single index throughout this chapter; however, we can create an index from any number of columns with `set_index()`.\n",
    "This gives us an index of type `MultiIndex`, where the outermost level corresponds to the first element in the list provided to `set_index()`:"
   ]
  },
  {
   "cell_type": "code",
   "execution_count": null,
   "id": "ed08bd8b-320d-4a4c-9a6d-715d5e2419be",
   "metadata": {},
   "outputs": [],
   "source": [
    "multi_index_df = long_df.set_index(['date', 'datatype'])\n",
    "multi_index_df.head().index"
   ]
  },
  {
   "cell_type": "markdown",
   "id": "649749f2-6e59-44d0-aad1-ed9b63c62fa6",
   "metadata": {},
   "source": [
    "Notice there are now 2 index sections of the dataframe:"
   ]
  },
  {
   "cell_type": "code",
   "execution_count": null,
   "id": "117f9618-8d91-4407-a3c0-eba944c5846e",
   "metadata": {},
   "outputs": [],
   "source": [
    "multi_index_df.head()"
   ]
  },
  {
   "cell_type": "markdown",
   "id": "378d7381-6749-4150-80f4-588eeb769631",
   "metadata": {},
   "source": [
    "With an index of type `MultiIndex`, we can no longer use `pivot()`. We must now use `unstack()`, which by default moves the innermost index onto the columns:"
   ]
  },
  {
   "cell_type": "code",
   "execution_count": null,
   "id": "53486df3-4989-46f1-8365-4006298e70c1",
   "metadata": {},
   "outputs": [],
   "source": [
    "unstacked_df = multi_index_df.unstack()\n",
    "unstacked_df.head()"
   ]
  },
  {
   "cell_type": "markdown",
   "id": "bc4f41b8-de42-4f6d-b3a0-ffd8661f4a6a",
   "metadata": {},
   "source": [
    "The `unstack()` method also provides the `fill_value` parameter, which let's us fill-in any `NaN` values that might arise from this restructuring of the data. Consider the case that we have data for the average temperature on October 1, 2018, but no other date:"
   ]
  },
  {
   "cell_type": "code",
   "execution_count": null,
   "id": "aa107955-3e56-42e5-8ccc-b018ecc27a01",
   "metadata": {},
   "outputs": [],
   "source": [
    "extra_data = long_df.append([{\n",
    "    'datatype': 'TAVG', \n",
    "    'date': '2018-10-01', \n",
    "    'temp_C': 10, \n",
    "    'temp_F': 50\n",
    "}]).set_index(['date', 'datatype']).sort_index()\n",
    "\n",
    "extra_data['2018-10-01':'2018-10-02']"
   ]
  },
  {
   "cell_type": "markdown",
   "id": "1ecd3474-1b65-4bc6-b220-a02663359452",
   "metadata": {},
   "source": [
    "If we use `unstack()` in this case, we will have `NaN` for the `TAVG` columns every day but October 1, 2018:"
   ]
  },
  {
   "cell_type": "code",
   "execution_count": null,
   "id": "c84d0039-12ca-436a-80c3-e6056a266411",
   "metadata": {},
   "outputs": [],
   "source": [
    "extra_data.unstack().head()"
   ]
  },
  {
   "cell_type": "markdown",
   "id": "e67ed896-e05c-4dad-9d62-ae740bef41b1",
   "metadata": {},
   "source": [
    "To address this, we can pass in an appropriate `fill_value`. However, we are restricted to passing in a value for this, not a strategy (like we saw with `fillna()`), so while `-40` is definitely not be the best value, we can use it to illustrate how this works, since this is the temperature at which Fahrenheit and Celsius are equal:"
   ]
  },
  {
   "cell_type": "code",
   "execution_count": null,
   "id": "cc7eedf8-cd2b-4977-a89f-dd11a19e3b1b",
   "metadata": {},
   "outputs": [],
   "source": [
    "extra_data.unstack(fill_value=-40).head()"
   ]
  },
  {
   "cell_type": "markdown",
   "id": "c91a5d0b-7f67-4321-8d8b-f32d251a89b7",
   "metadata": {},
   "source": [
    "### Melting\n",
    "\n",
    "Going from wide to long format.\n"
   ]
  },
  {
   "cell_type": "code",
   "execution_count": null,
   "id": "444bd843-48b9-49f9-be5f-deb408e922fa",
   "metadata": {},
   "outputs": [],
   "source": [
    "wide_df = pd.read_csv('data/02/wide_data.csv')\n",
    "wide_df.head()"
   ]
  },
  {
   "cell_type": "markdown",
   "id": "3364a0ed-3963-4a77-8660-ddb1039b4cdd",
   "metadata": {},
   "source": [
    "#### `melt()`\n",
    "In order to go from wide format to long format, we use the `melt()` method. We have to specify:\n",
    "- `id_vars`: which column(s) uniquely identify a row in the wide format (`date`, here)\n",
    "- `value_vars`: the column(s) that contain(s) the values (`TMAX`, `TMIN`, and `TOBS`, here)\n",
    "\n",
    "Optionally, we can also provide:\n",
    "- `value_name`: what to call the column that will contain all the values once melted\n",
    "- `var_name`: what to call the column that will contain the names of the variables being measured"
   ]
  },
  {
   "cell_type": "code",
   "execution_count": null,
   "id": "7e98c5d0-6237-4a1a-bf67-a40dca1df4c9",
   "metadata": {},
   "outputs": [],
   "source": [
    "melted_df = wide_df.melt(\n",
    "    id_vars='date',\n",
    "    value_vars=['TMAX', 'TMIN', 'TOBS'],\n",
    "    value_name='temp_C',\n",
    "    var_name='measurement'\n",
    ")\n",
    "melted_df.head()"
   ]
  },
  {
   "cell_type": "markdown",
   "id": "f23d61fd-7f56-4818-a62b-8f9f3d57b335",
   "metadata": {},
   "source": [
    "#### `stack()`\n",
    "Another option is `stack()`, which will pivot the columns of the dataframe into the innermost level of the index (resulting in an index of type `MultiIndex`). To illustrate this, let's set our index to be the `date` column:"
   ]
  },
  {
   "cell_type": "code",
   "execution_count": null,
   "id": "919d019b-4834-4eed-a7ed-642634a3acd1",
   "metadata": {},
   "outputs": [],
   "source": [
    "wide_df.set_index('date', inplace=True)\n",
    "wide_df.head()"
   ]
  },
  {
   "cell_type": "markdown",
   "id": "31cac1a3-e976-4445-ac66-d50bcb5ca208",
   "metadata": {},
   "source": [
    "By running `stack()` now, we will create a second level in our index which will contain the column names of our dataframe (`TMAX`, `TMIN`, `TOBS`). This will leave us with a `Series` object containing the values:"
   ]
  },
  {
   "cell_type": "code",
   "execution_count": null,
   "id": "e0d2f431-13a2-46ca-9d63-2b5c53397dfd",
   "metadata": {},
   "outputs": [],
   "source": [
    "stacked_series = wide_df.stack()\n",
    "stacked_series.head()"
   ]
  },
  {
   "cell_type": "markdown",
   "id": "8a9717f1-8ab5-42e0-a58b-c4a53b4ef497",
   "metadata": {},
   "source": [
    "We can use the `to_frame()` method on our `Series` object to turn it into a `DataFrame` object. Since the series doesn't have a name at the moment, we will pass in the name as an argument:"
   ]
  },
  {
   "cell_type": "code",
   "execution_count": null,
   "id": "2ec55ed4-775a-4dce-86cf-61e977514e00",
   "metadata": {},
   "outputs": [],
   "source": [
    "stacked_df = stacked_series.to_frame('values')\n",
    "stacked_df.head()"
   ]
  },
  {
   "cell_type": "markdown",
   "id": "53a4a090-ef86-4dd3-899d-4f1ae04c6a24",
   "metadata": {},
   "source": [
    "Once again, we have an index of type `MultiIndex`:"
   ]
  },
  {
   "cell_type": "code",
   "execution_count": null,
   "id": "9290310d-a5c4-4e0c-bcfe-512dcef830b3",
   "metadata": {},
   "outputs": [],
   "source": [
    "stacked_df.head().index"
   ]
  },
  {
   "cell_type": "markdown",
   "id": "6e8c172a-25c6-4e19-9428-519e002fb3e1",
   "metadata": {},
   "source": [
    "Unfortunately, we don't have a name for the `datatype` level:"
   ]
  },
  {
   "cell_type": "code",
   "execution_count": null,
   "id": "eebd0d9b-4dcb-4ac7-9d14-1961ef77780a",
   "metadata": {},
   "outputs": [],
   "source": [
    "stacked_df.index.names"
   ]
  },
  {
   "cell_type": "markdown",
   "id": "563ded23-a9d9-4844-b094-2c197c7151d4",
   "metadata": {},
   "source": [
    "We can use `set_names()` to address this though:"
   ]
  },
  {
   "cell_type": "code",
   "execution_count": null,
   "id": "fcd36c28-eeca-4489-ba53-59c413648c56",
   "metadata": {},
   "outputs": [],
   "source": [
    "stacked_df.index.set_names(['date', 'datatype'], inplace=True)\n",
    "stacked_df.index.names"
   ]
  },
  {
   "cell_type": "markdown",
   "id": "50005b2d-bb2f-4149-9029-9907ad543b97",
   "metadata": {},
   "source": [
    "## Exercises (2)\n",
    "\n",
    "We want to look at data for the FAANG stocks (Facebook, Apple, Amazon, Netflix, and Google), but we were given each as a separate CSV file."
   ]
  },
  {
   "cell_type": "markdown",
   "id": "7c4a5330-cba6-4086-980c-ede1b781d36d",
   "metadata": {},
   "source": [
    "**Exercise 1**\n",
    "\n",
    "\n",
    "1. Read each file in.\n",
    "2. Add a column to each dataframe indicating the ticker it is for.\n",
    "3. Append them together into a single dataframe.\n",
    "4. Save the result to a CSV file named `faang.csv` in the folder `data/02/exercises`.\n"
   ]
  },
  {
   "cell_type": "markdown",
   "id": "b83e128f-058e-4584-a49e-b1bbd41e7386",
   "metadata": {},
   "source": [
    "**Exercise 2**\n",
    "\n",
    "With `faang`, use type conversion to cast the values of the date column into\n",
    "datetimes and the `volume` column into integers. Then, sort by `date` and `ticker`."
   ]
  },
  {
   "cell_type": "markdown",
   "id": "e685d982-03ef-4ac3-b301-358e91f4b225",
   "metadata": {},
   "source": [
    "**Exercise 3**\n",
    "\n",
    "Find the seven rows in `faang` with the lowest value for `volume`."
   ]
  },
  {
   "cell_type": "markdown",
   "id": "fae89cbd-0b6d-4e26-ab74-39113f9c7a3b",
   "metadata": {},
   "source": [
    "# Data aggregation"
   ]
  },
  {
   "cell_type": "markdown",
   "id": "3c4e5ba0-60da-4028-b195-f50773349fcb",
   "metadata": {},
   "source": [
    "We are going to use some daily weather data of New York City in 2018 collected from the [National Centers for Environmental Information (NCEI) API](https://www.ncdc.noaa.gov/cdo-web/webservices/v2)."
   ]
  },
  {
   "cell_type": "code",
   "execution_count": null,
   "id": "566e7653-2f7e-4615-bb51-e0d22bba2f63",
   "metadata": {},
   "outputs": [],
   "source": [
    "import pandas as pd\n",
    "\n",
    "weather = pd.read_csv('data/03/nyc_weather_2018.csv')\n",
    "weather.head()"
   ]
  },
  {
   "cell_type": "markdown",
   "id": "e7c79e71-673a-4c66-b2d5-b417edfa6991",
   "metadata": {},
   "source": [
    "### Querying"
   ]
  },
  {
   "cell_type": "markdown",
   "id": "12bd6ff6-f6e7-4ae7-aba9-4bcd69b07a58",
   "metadata": {},
   "source": [
    "The `query()` method filters a `DataFrame` based on some criteria.\n",
    "For example, we can use it to find all entries where snow was recorded from a station with `US1NY` in its station ID:"
   ]
  },
  {
   "cell_type": "code",
   "execution_count": null,
   "id": "2761f4c4-db73-4d3a-a1ba-73d6d80d2fb2",
   "metadata": {},
   "outputs": [],
   "source": [
    "snow_data = weather.query('datatype == \"SNOW\" and value > 0 and station.str.contains(\"US1NY\")')\n",
    "snow_data.head()"
   ]
  },
  {
   "cell_type": "markdown",
   "id": "f0b75ead-eeef-4004-8314-921302c58b4a",
   "metadata": {},
   "source": [
    "This can be equivalently performed with a SQL query on the `weather.db` database file, if you're familiar with it:\n",
    "\n",
    "```sql\n",
    "SELECT * \n",
    "FROM weather \n",
    "WHERE datatype == \"SNOW\" AND value > 0 AND station LIKE \"%US1NY%\"\n",
    "```"
   ]
  },
  {
   "cell_type": "code",
   "execution_count": null,
   "id": "6e7d5337-f7b7-413b-b1a2-e0377eac7097",
   "metadata": {},
   "outputs": [],
   "source": [
    "import sqlite3\n",
    "\n",
    "with sqlite3.connect('data/weather.db') as connection:\n",
    "    snow_data_from_db = pd.read_sql(\n",
    "        'SELECT * FROM weather WHERE datatype == \"SNOW\" AND value > 0 and station LIKE \"%US1NY%\"', \n",
    "        connection\n",
    "    )\n",
    "\n",
    "snow_data.reset_index().drop(columns='index').equals(snow_data_from_db)"
   ]
  },
  {
   "cell_type": "markdown",
   "id": "970c99de-926a-4166-8be1-7968865f03ba",
   "metadata": {},
   "source": [
    "Note this is also equivalent to creating Boolean masks:"
   ]
  },
  {
   "cell_type": "code",
   "execution_count": null,
   "id": "41fba2f4-c1e0-4b36-b4ad-0f985e39b5ff",
   "metadata": {},
   "outputs": [],
   "source": [
    "weather[\n",
    "    (weather.datatype == 'SNOW') \n",
    "    & (weather.value > 0)\n",
    "    & weather.station.str.contains('US1NY')\n",
    "].equals(snow_data)"
   ]
  },
  {
   "cell_type": "markdown",
   "id": "a79017a0-910b-4e5e-a163-b91bc04b4354",
   "metadata": {},
   "source": [
    "### Merging"
   ]
  },
  {
   "cell_type": "markdown",
   "id": "a0c75cde-064a-4283-9302-af7802007e65",
   "metadata": {},
   "source": [
    "We have data for many different stations each day; however, we don't know what the stations are, just their IDs.\n",
    "We can join the data in the `weather_stations.csv` file which contains information from the `stations` endpoint of the NCEI API. It looks like this:"
   ]
  },
  {
   "cell_type": "code",
   "execution_count": null,
   "id": "4d1b69f9-66d1-4d4a-b9ea-e82eaa2b4c44",
   "metadata": {},
   "outputs": [],
   "source": [
    "station_info = pd.read_csv('data/03/weather_stations.csv')\n",
    "station_info.head()"
   ]
  },
  {
   "cell_type": "markdown",
   "id": "50df68ed-8031-4f25-963d-6d478c186d60",
   "metadata": {},
   "source": [
    "And here's our `weather` dataset again:"
   ]
  },
  {
   "cell_type": "code",
   "execution_count": null,
   "id": "8436e846-a58d-4edd-ba9e-a25fff86c494",
   "metadata": {},
   "outputs": [],
   "source": [
    "weather.head()"
   ]
  },
  {
   "cell_type": "markdown",
   "id": "318a8c7b-4813-4e26-b075-00d5df4bbda3",
   "metadata": {},
   "source": [
    "We can join our data by matching up the `station_info.id` column with the `weather.station` column.\n",
    "Before doing that though, let's see how many unique values we have:"
   ]
  },
  {
   "cell_type": "code",
   "execution_count": null,
   "id": "1ad802db-9bbf-40d3-96fb-a830d0d8e17d",
   "metadata": {},
   "outputs": [],
   "source": [
    "station_info.id.describe()"
   ]
  },
  {
   "cell_type": "markdown",
   "id": "1c0f8cfd-7279-468b-85d3-0739bbcb861d",
   "metadata": {},
   "source": [
    "While `station_info` has one row per station, the `weather` dataframe has many entries per station.\n",
    "Notice it also has fewer uniques:"
   ]
  },
  {
   "cell_type": "code",
   "execution_count": null,
   "id": "48f58d57-f5b8-40e6-83b8-b68160a2ce88",
   "metadata": {},
   "outputs": [],
   "source": [
    "weather.station.describe()"
   ]
  },
  {
   "cell_type": "markdown",
   "id": "deee4719-44be-473d-aaf5-d3027cfa5217",
   "metadata": {},
   "source": [
    "When working with joins, it is important to keep an eye on the row count. Some join types will lead to data loss. Remember that we can get this with `shape`:"
   ]
  },
  {
   "cell_type": "code",
   "execution_count": null,
   "id": "dcb49f48-285b-4cc7-975c-1a6d20c21685",
   "metadata": {},
   "outputs": [],
   "source": [
    "station_info.shape[0], weather.shape[0]"
   ]
  },
  {
   "cell_type": "markdown",
   "id": "a7050a06-6a36-4065-af85-d4b8c233a18d",
   "metadata": {},
   "source": [
    "Since we will be doing this often, it makes more sense to write a function:"
   ]
  },
  {
   "cell_type": "code",
   "execution_count": null,
   "id": "e2764b5a-d09b-45bc-89b7-d70e6d43f65a",
   "metadata": {},
   "outputs": [],
   "source": [
    "def get_row_count(*dfs):\n",
    "    return [df.shape[0] for df in dfs]\n",
    "    \n",
    "get_row_count(station_info, weather)"
   ]
  },
  {
   "cell_type": "markdown",
   "id": "1ec53e29-69a2-48fb-9d4f-4889bee8bf12",
   "metadata": {},
   "source": [
    "By default, `merge()` performs an inner join.\n",
    "0We simply specify the columns to use for the join.\n",
    "The left dataframe is the one we call `merge()` on, and the right one is passed in as an argument:"
   ]
  },
  {
   "cell_type": "code",
   "execution_count": null,
   "id": "28ae155b-9cdc-403a-86a7-72c131839750",
   "metadata": {},
   "outputs": [],
   "source": [
    "inner_join = weather.merge(station_info, left_on='station', right_on='id')\n",
    "inner_join.sample(5, random_state=0)"
   ]
  },
  {
   "cell_type": "markdown",
   "id": "379dd910-858f-4534-bdb9-38c8f09da072",
   "metadata": {},
   "source": [
    "We can remove the duplication of information in the `station` and `id` columns by renaming one of them before the merge and then simply using `on`:"
   ]
  },
  {
   "cell_type": "code",
   "execution_count": null,
   "id": "14aa6056-4662-4a82-96c1-7e2964cd9f40",
   "metadata": {},
   "outputs": [],
   "source": [
    "weather.merge(station_info.rename(dict(id='station'), axis=1), on='station').sample(5, random_state=0)"
   ]
  },
  {
   "cell_type": "markdown",
   "id": "801b8eda-4cb9-4d14-b065-f4edfe7196cd",
   "metadata": {},
   "source": [
    "We are losing stations that don't have weather observations associated with them, if we don't want to lose these rows, we perform a right or left join instead of the inner join:"
   ]
  },
  {
   "cell_type": "code",
   "execution_count": null,
   "id": "728c9c25-464e-48bc-b58e-67997ea2b392",
   "metadata": {},
   "outputs": [],
   "source": [
    "left_join = station_info.merge(weather, left_on='id', right_on='station', how='left')\n",
    "right_join = weather.merge(station_info, left_on='station', right_on='id', how='right')\n",
    "\n",
    "right_join[right_join.datatype.isna()].head()"
   ]
  },
  {
   "cell_type": "markdown",
   "id": "028bc957-4ebb-4ea1-b3a3-2453737d1221",
   "metadata": {},
   "source": [
    "The left and right join as we performed above are equivalent because the side for which we kept the rows without matches was the same in both cases:"
   ]
  },
  {
   "cell_type": "code",
   "execution_count": null,
   "id": "6f485fc2-1371-40e2-8ad4-4b7557d3e04c",
   "metadata": {},
   "outputs": [],
   "source": [
    "left_join.sort_index(axis=1).sort_values(['date', 'station'], ignore_index=True).equals(\n",
    "    right_join.sort_index(axis=1).sort_values(['date', 'station'], ignore_index=True)\n",
    ")"
   ]
  },
  {
   "cell_type": "markdown",
   "id": "52fbc802-f1db-447d-84d9-ba6ce3b1ec19",
   "metadata": {},
   "source": [
    "Note we have additional rows in the left and right joins because we kept all the stations that didn't have weather observations:"
   ]
  },
  {
   "cell_type": "code",
   "execution_count": null,
   "id": "2b509bf7-e4fc-416e-baed-d6fa3052688d",
   "metadata": {},
   "outputs": [],
   "source": [
    "get_row_count(inner_join, left_join, right_join)"
   ]
  },
  {
   "cell_type": "markdown",
   "id": "7ebba9c2-1126-4c80-8f24-55aa69f8405e",
   "metadata": {},
   "source": [
    "If we query the station information for stations that have `US1NY` in their ID and perform an outer join, we can see where the mismatches occur:"
   ]
  },
  {
   "cell_type": "code",
   "execution_count": null,
   "id": "99afd11c-b934-48ef-8b50-f48086b7224b",
   "metadata": {},
   "outputs": [],
   "source": [
    "outer_join = weather.merge(\n",
    "    station_info[station_info.id.str.contains('US1NY')], \n",
    "    left_on='station', right_on='id', how='outer', indicator=True\n",
    ")\n",
    "\n",
    "pd.concat([\n",
    "    outer_join.query(f'_merge == \"{kind}\"').sample(2, random_state=0) \n",
    "    for kind in outer_join._merge.unique()\n",
    "]).sort_index()"
   ]
  },
  {
   "cell_type": "markdown",
   "id": "ebea69d4-be4c-4109-bcb9-1c8b84184dd9",
   "metadata": {},
   "source": [
    "## `DataFrame` operations\n",
    "\n",
    "We can perform many kinds of operations on a `DataFrame`.\n",
    "A few examples are arithmetics calculations, windowing, binning, or applying custom functions to the data.\n",
    "\n",
    "Let's get the data we will be using first:"
   ]
  },
  {
   "cell_type": "code",
   "execution_count": null,
   "id": "930668c3-6a83-4b23-bee5-e8868810e60b",
   "metadata": {},
   "outputs": [],
   "source": [
    "import numpy as np\n",
    "import pandas as pd\n",
    "\n",
    "weather = pd.read_csv('data/03/nyc_weather_2018.csv', parse_dates=['date'])\n",
    "weather.head()"
   ]
  },
  {
   "cell_type": "code",
   "execution_count": null,
   "id": "d267057c-c222-47ef-b06d-10b4dee359e8",
   "metadata": {},
   "outputs": [],
   "source": [
    "fb = pd.read_csv('data/03/fb_2018.csv', index_col='date', parse_dates=True)\n",
    "fb.head()"
   ]
  },
  {
   "cell_type": "markdown",
   "id": "0d94ab65-28f6-4236-a792-0f629bc18d0a",
   "metadata": {},
   "source": [
    "### Arithmetics and statistics\n",
    "\n",
    "We know already that `+` or `/` operations work on dataframes directly.\n",
    "There are also other operations that can be performed on entire axes.\n",
    "By default, the calculation is performed **on columns**.\n",
    "\n",
    "For example, let's find the Z-scores for the volume traded and look at the days where this was more than 3 standard deviations from the mean:"
   ]
  },
  {
   "cell_type": "code",
   "execution_count": null,
   "id": "6e337804-07d4-4bac-a556-a826a57c29a4",
   "metadata": {},
   "outputs": [],
   "source": [
    "fb.assign(\n",
    "    abs_z_score_volume=lambda x: \\\n",
    "        x.volume.sub(x.volume.mean()).div(x.volume.std()).abs()\n",
    ").query('abs_z_score_volume > 3')"
   ]
  },
  {
   "cell_type": "markdown",
   "id": "88ab0277-b254-4867-95a4-28f15aab1bfd",
   "metadata": {},
   "source": [
    "We can use `rank()` and `pct_change()` to see which days had the largest change in volume traded from the day before:"
   ]
  },
  {
   "cell_type": "code",
   "execution_count": null,
   "id": "cb3fe5ee-60ce-4e89-b324-730dddef5812",
   "metadata": {},
   "outputs": [],
   "source": [
    "fb.assign(\n",
    "    volume_pct_change=fb.volume.pct_change(),\n",
    "    pct_change_rank=lambda x: x.volume_pct_change.abs().rank(ascending=False)\n",
    ").nsmallest(5, 'pct_change_rank')"
   ]
  },
  {
   "cell_type": "markdown",
   "id": "9a10d8a1-9f93-441b-8f9b-24f99a4e1460",
   "metadata": {},
   "source": [
    "January 12th was when the news that Facebook changed its news feed product to focus more on content from a users' friends over the brands they follow. Given that Facebook's advertising is a key component of its business ([nearly 89% in 2017](https://www.investopedia.com/ask/answers/120114/how-does-facebook-fb-make-money.asp)), many shares were sold and the price dropped in panic:"
   ]
  },
  {
   "cell_type": "code",
   "execution_count": null,
   "id": "93057d2a-802a-4dbd-8183-fff66f34fd87",
   "metadata": {},
   "outputs": [],
   "source": [
    "fb['2018-01-11':'2018-01-12']"
   ]
  },
  {
   "cell_type": "markdown",
   "id": "4b0819b3-fc22-4c47-b314-6996d96ac3f6",
   "metadata": {},
   "source": [
    "Throughout 2018, Facebook's stock price never had a low above $215:"
   ]
  },
  {
   "cell_type": "code",
   "execution_count": null,
   "id": "520832ad-38a3-40a7-bb54-31f9e101cd0e",
   "metadata": {},
   "outputs": [],
   "source": [
    "(fb > 215).any()"
   ]
  },
  {
   "cell_type": "markdown",
   "id": "a4c1363a-b454-46f0-8962-14f8dc28635a",
   "metadata": {},
   "source": [
    "Facebook's OHLC (open, high, low, and close) prices all had at least one day they were at $215 or less:"
   ]
  },
  {
   "cell_type": "code",
   "execution_count": null,
   "id": "7c41203a-d1e5-4892-b5cc-e892c7e98fc3",
   "metadata": {},
   "outputs": [],
   "source": [
    "(fb > 215).all()"
   ]
  },
  {
   "cell_type": "markdown",
   "id": "fcc0ebf9-8783-4039-8aff-538f6d0627e9",
   "metadata": {},
   "source": [
    "### Binning"
   ]
  },
  {
   "cell_type": "markdown",
   "id": "7ac0c459-0b95-4989-853c-3df5525baea6",
   "metadata": {},
   "source": [
    "When working with volume traded, we may be interested in ranges of volume rather than the exact values. No two days have the same volume traded:"
   ]
  },
  {
   "cell_type": "code",
   "execution_count": null,
   "id": "1578664b-8daa-4167-9fc1-7c692f573e02",
   "metadata": {},
   "outputs": [],
   "source": [
    "(fb.volume.value_counts() > 1).sum()"
   ]
  },
  {
   "cell_type": "markdown",
   "id": "2e9762b4-6744-4635-8020-bcdb8ffdc926",
   "metadata": {},
   "source": [
    "We can use `pd.cut()` to create 3 bins of even range in volume traded and name them.\n",
    "Then we can work with low, medium, and high volume traded categories:"
   ]
  },
  {
   "cell_type": "code",
   "execution_count": null,
   "id": "4d51738e-fd22-42f6-8ea1-49af99817a32",
   "metadata": {},
   "outputs": [],
   "source": [
    "volume_binned = pd.cut(fb.volume, bins=3, labels=['low', 'med', 'high'])\n",
    "volume_binned.value_counts()"
   ]
  },
  {
   "cell_type": "markdown",
   "id": "95228c74-53f7-4eea-bb1f-70367ebf603f",
   "metadata": {},
   "source": [
    "Let's look at the days with high trading volume:"
   ]
  },
  {
   "cell_type": "code",
   "execution_count": null,
   "id": "ff52e285-e3ea-4da1-94a8-7c699012f4a5",
   "metadata": {},
   "outputs": [],
   "source": [
    "fb[volume_binned == 'high'].sort_values('volume', ascending=False)"
   ]
  },
  {
   "cell_type": "markdown",
   "id": "3ac68cc0-3105-4e83-a7bf-d9187251d85e",
   "metadata": {},
   "source": [
    "July 25th Facebook announced disappointing user growth and the stock tanked in the after hours:"
   ]
  },
  {
   "cell_type": "code",
   "execution_count": null,
   "id": "e5f52172-cc0a-4082-8821-5b72a0af6c94",
   "metadata": {},
   "outputs": [],
   "source": [
    "fb['2018-07-25':'2018-07-26']"
   ]
  },
  {
   "cell_type": "markdown",
   "id": "68c91ffc-6a2a-495d-b8c7-a9157decd66f",
   "metadata": {},
   "source": [
    "Cambridge Analytica scandal broke on Saturday, March 17th, so we look at the Monday after for the numbers:"
   ]
  },
  {
   "cell_type": "code",
   "execution_count": null,
   "id": "8b4a228f-d0ca-4aa3-9c41-d8a197a8242c",
   "metadata": {},
   "outputs": [],
   "source": [
    "fb['2018-03-16':'2018-03-20']"
   ]
  },
  {
   "cell_type": "markdown",
   "id": "afca2c5f-87a7-4049-9aef-92101d97fbdc",
   "metadata": {},
   "source": [
    "Since most days have similar volume, but a few are very large, we have very wide bins.\n",
    "Most of the data is in the low bin. "
   ]
  },
  {
   "cell_type": "code",
   "execution_count": null,
   "id": "d78133da-5d28-4017-b51d-268dbeec29f8",
   "metadata": {},
   "outputs": [],
   "source": [
    "from tutorial.pandas_helpers import low_med_high_bins_viz\n",
    "\n",
    "low_med_high_bins_viz(\n",
    "    fb, 'volume', ylabel='volume traded',\n",
    "    title='Daily Volume Traded of Facebook Stock in 2018 (with bins)'\n",
    ")"
   ]
  },
  {
   "cell_type": "markdown",
   "id": "0accee4c-17bf-4708-8051-fbd047455a1e",
   "metadata": {},
   "source": [
    "If we split using quantiles, the bins will have roughly the same number of observations.\n",
    "For this, we use `qcut()`. We will make 4 quartiles:"
   ]
  },
  {
   "cell_type": "code",
   "execution_count": null,
   "id": "1cd773e6-5b03-4b20-a784-5108cc8a6ac8",
   "metadata": {},
   "outputs": [],
   "source": [
    "volume_qbinned = pd.qcut(fb.volume, q=4, labels=['q1', 'q2', 'q3', 'q4'])\n",
    "volume_qbinned.value_counts()"
   ]
  },
  {
   "cell_type": "markdown",
   "id": "a034be9e-3abf-4acd-9308-1ebd7f8d972e",
   "metadata": {},
   "source": [
    "Notice the bins don't cover ranges of the same size anymore:"
   ]
  },
  {
   "cell_type": "code",
   "execution_count": null,
   "id": "3f29e1d6-238d-4dd7-998b-f2e5c52c7a23",
   "metadata": {},
   "outputs": [],
   "source": [
    "from tutorial.pandas_helpers import quartile_bins_viz\n",
    "\n",
    "quartile_bins_viz(\n",
    "    fb, 'volume', ylabel='volume traded', \n",
    "    title='Daily Volume Traded of Facebook Stock in 2018 (with quartile bins)'\n",
    ")"
   ]
  },
  {
   "cell_type": "markdown",
   "id": "c4ae8eab-5b7c-42b9-858b-bc761d14b092",
   "metadata": {},
   "source": [
    "### Applying functions"
   ]
  },
  {
   "cell_type": "markdown",
   "id": "78fa0507-a4f1-431f-91a8-0403cbfc0069",
   "metadata": {},
   "source": [
    "We can use the `apply()` method to run the same operation on all columns (or rows) of the dataframe.\n",
    "First, let's isolate the weather observations from the Central Park station and pivot the data:"
   ]
  },
  {
   "cell_type": "code",
   "execution_count": null,
   "id": "c71d3e91-c772-4afe-816b-1ee8ec3f3c2d",
   "metadata": {},
   "outputs": [],
   "source": [
    "central_park_weather = weather\\\n",
    "    .query('station == \"GHCND:USW00094728\"')\\\n",
    "    .pivot(index='date', columns='datatype', values='value')"
   ]
  },
  {
   "cell_type": "markdown",
   "id": "979ac66a-bfd1-4fd3-8ea1-eb8b3e5b7477",
   "metadata": {},
   "source": [
    "Let's calculate the Z-scores of the TMIN, TMAX, and PRCP observations in Central Park in October 2018:"
   ]
  },
  {
   "cell_type": "code",
   "execution_count": null,
   "id": "7f9b7fce-cd1b-4fc9-b7cc-9705ee9e968d",
   "metadata": {},
   "outputs": [],
   "source": [
    "oct_weather_z_scores = central_park_weather\\\n",
    "    .loc['2018-10', ['TMIN', 'TMAX', 'PRCP']]\\\n",
    "    .apply(lambda x: x.sub(x.mean()).div(x.std()))\n",
    "oct_weather_z_scores.describe().T"
   ]
  },
  {
   "cell_type": "markdown",
   "id": "4e63b75b-5baa-4d75-b506-548e375bad38",
   "metadata": {},
   "source": [
    "October 27th rained much more than the rest of the days:"
   ]
  },
  {
   "cell_type": "code",
   "execution_count": null,
   "id": "76e8f8cb-36d2-4ad9-8dc0-49e968bed6a5",
   "metadata": {},
   "outputs": [],
   "source": [
    "oct_weather_z_scores.query('PRCP > 3').PRCP"
   ]
  },
  {
   "cell_type": "markdown",
   "id": "3cf0e3f8-3a4f-4378-84b9-db9a6daa4708",
   "metadata": {},
   "source": [
    "Indeed, this day was much higher than the rest:"
   ]
  },
  {
   "cell_type": "code",
   "execution_count": null,
   "id": "a965a32c-0c74-4166-8f66-92eba9d65dbb",
   "metadata": {},
   "outputs": [],
   "source": [
    "central_park_weather.loc['2018-10', 'PRCP'].describe()"
   ]
  },
  {
   "cell_type": "markdown",
   "id": "f4c36adc-ac67-4254-8954-bb4fa20f6110",
   "metadata": {},
   "source": [
    "When the function we want to apply isn't vectorized, we can:\n",
    "- use `np.vectorize()` to vectorize it (similar to how `map()` works) and then use it with `apply()`\n",
    "- use `applymap()` and pass it the non-vectorized function directly\n",
    "\n",
    "Say we wanted to count the digits of the whole numbers for the Facebook data; `len()` is not vectorized, so we can use `np.vectorize()` or `applymap()`.\n",
    "\n",
    "*Note: in the most recent versions of Pandas, `applymap()` has been deprecated in favor or `map()`.*"
   ]
  },
  {
   "cell_type": "code",
   "execution_count": null,
   "id": "47b81fc2-2ebe-492f-bdcb-10421d65649b",
   "metadata": {},
   "outputs": [],
   "source": [
    "fb.apply(\n",
    "    lambda x: np.vectorize(lambda y: len(str(np.ceil(y))))(x)\n",
    ").astype('int64').equals(\n",
    "    fb.map(lambda x: len(str(np.ceil(x))))\n",
    ")"
   ]
  },
  {
   "cell_type": "markdown",
   "id": "31d5bf08-4529-4dd1-9763-66625537a444",
   "metadata": {},
   "source": [
    "**A note about performance**\n",
    "\n",
    "A simple operation of addition to each element in a `Series` grows linearly in time complexity when using [`items()`](https://pandas.pydata.org/docs/reference/api/pandas.Series.items.html#pandas.Series.items), but stays near 0 when using vectorized operations.\n",
    "`items()` returns a **lazy tuple** `(index, value)`, it should only be used if there is no vectorized solution."
   ]
  },
  {
   "cell_type": "code",
   "execution_count": null,
   "id": "efb83d3a-31eb-4a9a-b6e2-f5c6871a9840",
   "metadata": {},
   "outputs": [],
   "source": [
    "import time\n",
    "\n",
    "import numpy as np\n",
    "import pandas as pd\n",
    "\n",
    "np.random.seed(0)\n",
    "\n",
    "vectorized_results = {}\n",
    "iteritems_results = {}\n",
    "\n",
    "for size in [10, 100, 1000, 10000, 100000, 500000, 1000000, 5000000, 10000000]:\n",
    "    # set of numbers to use\n",
    "    test = pd.Series(np.random.uniform(size=size))\n",
    "    \n",
    "    # time the vectorized operation\n",
    "    start = time.time()\n",
    "    x = test + 10\n",
    "    end = time.time()\n",
    "    vectorized_results[size] = end - start\n",
    "    \n",
    "    # time the operation with `items()`\n",
    "    start = time.time()\n",
    "    x = []\n",
    "    for i, v in test.items():\n",
    "        x.append(v + 10)\n",
    "    x = pd.Series(x)\n",
    "    end = time.time()\n",
    "    iteritems_results[size] = end - start\n",
    "\n",
    "results = pd.DataFrame(\n",
    "    [pd.Series(vectorized_results, name='vectorized'), pd.Series(iteritems_results, name='iteritems')]\n",
    ").T    \n",
    "\n",
    "# plotting\n",
    "ax = results.plot(title='Time Complexity', color=['blue', 'red'], legend=False)\n",
    "\n",
    "# formatting\n",
    "ax.set(xlabel='item size (rows)', ylabel='time (s)')\n",
    "ax.text(0.5e7, iteritems_results[0.5e7] * .9, 'iteritems()', rotation=34, color='red', fontsize=12, ha='center', va='bottom')\n",
    "ax.text(0.5e7, vectorized_results[0.5e7], 'vectorized', color='blue', fontsize=12, ha='center', va='bottom')\n",
    "for spine in ['top', 'right']:\n",
    "    ax.spines[spine].set_visible(False)"
   ]
  },
  {
   "cell_type": "markdown",
   "id": "9bddd10d-9863-41fd-8bb2-a2a38f3afa69",
   "metadata": {},
   "source": [
    "## Using `groupby()`\n",
    "Often we won't want to aggregate on the entire dataframe, but on groups within it.\n",
    "For this purpose, we can run `groupby()` before the aggregation.\n",
    "If we group by the `trading_volume` column, we will get a row for each of the values it takes on:"
   ]
  },
  {
   "cell_type": "code",
   "execution_count": null,
   "id": "a2b4449b-0615-4cb8-b84a-0624aa40bcb3",
   "metadata": {},
   "outputs": [],
   "source": [
    "weather = pd.read_csv('data/03/weather_by_station.csv', index_col='date', parse_dates=True)\n",
    "\n",
    "weather.head()"
   ]
  },
  {
   "cell_type": "code",
   "execution_count": null,
   "id": "f5ab9e73-a176-4ac9-987f-dd46f93acee2",
   "metadata": {},
   "outputs": [],
   "source": [
    "fb = pd.read_csv('data/03/fb_2018.csv', index_col='date', parse_dates=True).assign(\n",
    "    trading_volume=lambda x: pd.cut(x.volume, bins=3, labels=['low', 'med', 'high'])\n",
    ")\n",
    "\n",
    "fb.head()"
   ]
  },
  {
   "cell_type": "code",
   "execution_count": null,
   "id": "20f0e72a-663a-4286-adb4-1647f13cf44f",
   "metadata": {},
   "outputs": [],
   "source": [
    "fb.groupby('trading_volume', observed=True).mean()"
   ]
  },
  {
   "cell_type": "markdown",
   "id": "044c421c-663b-404f-97bc-4230b4442f88",
   "metadata": {},
   "source": [
    "After we call `groupby()`, we can still select columns for aggregation:"
   ]
  },
  {
   "cell_type": "code",
   "execution_count": null,
   "id": "a344ae03-ee34-474a-a74e-0a54fa263d52",
   "metadata": {},
   "outputs": [],
   "source": [
    "fb.groupby('trading_volume', observed=True)['close'].agg(['min', 'max', 'mean'])"
   ]
  },
  {
   "cell_type": "markdown",
   "id": "497598eb-d65b-4ad2-acb8-03c1e2b3191a",
   "metadata": {},
   "source": [
    "We can still provide a dictionary specifying the aggregations to perform, but passing a list for a column will result in a hierarchical index for the columns:"
   ]
  },
  {
   "cell_type": "code",
   "execution_count": null,
   "id": "588394b7-b35f-4157-a224-94d7d18e4cfc",
   "metadata": {},
   "outputs": [],
   "source": [
    "fb_agg = fb.groupby('trading_volume', observed=True).agg({\n",
    "    'open': 'mean',\n",
    "    'high': ['min', 'max'],\n",
    "    'low': ['min', 'max'],\n",
    "    'close': 'mean'\n",
    "})\n",
    "fb_agg"
   ]
  },
  {
   "cell_type": "raw",
   "id": "08f31003-e471-46d0-b734-40cd4898c30c",
   "metadata": {},
   "source": [
    "The hierarchical index in the columns looks like this:"
   ]
  },
  {
   "cell_type": "code",
   "execution_count": null,
   "id": "a7fd4d98-c6eb-475b-b381-d5f640852b90",
   "metadata": {},
   "outputs": [],
   "source": [
    "fb_agg.columns"
   ]
  },
  {
   "cell_type": "markdown",
   "id": "164915dc-a46d-4945-99ec-5347cfe256d4",
   "metadata": {},
   "source": [
    "Using a list comprehension, we can join the levels (in a tuple) with an `_` at each iteration: "
   ]
  },
  {
   "cell_type": "code",
   "execution_count": null,
   "id": "26b6b06b-b7cd-4483-8ddc-58d736dac9d8",
   "metadata": {},
   "outputs": [],
   "source": [
    "fb_agg.columns = ['_'.join(col_agg) for col_agg in fb_agg.columns]\n",
    "fb_agg.head()"
   ]
  },
  {
   "cell_type": "markdown",
   "id": "ac245fbb-f138-4ff2-ae64-bdcaa89f67ed",
   "metadata": {},
   "source": [
    "## Exercises (3)"
   ]
  },
  {
   "cell_type": "code",
   "execution_count": null,
   "id": "08f04223-26cb-4bc8-8210-998da7426dd1",
   "metadata": {},
   "outputs": [],
   "source": [
    "import pandas as pd\n",
    "import numpy as np"
   ]
  },
  {
   "cell_type": "markdown",
   "id": "86e3a6f7-5225-408a-8766-ccd7d66503da",
   "metadata": {},
   "source": [
    "For these exercises, you will be using the following datasets:"
   ]
  },
  {
   "cell_type": "code",
   "execution_count": null,
   "id": "51e5f037-39e6-4f19-9dbb-8196f65be944",
   "metadata": {},
   "outputs": [],
   "source": [
    "quakes = pd.read_csv('data/03/exercises/earthquakes.csv')\n",
    "faang = pd.read_csv('data/03/exercises/faang.csv', index_col='date', parse_dates=True)"
   ]
  },
  {
   "cell_type": "markdown",
   "id": "269830ec-43e0-40ca-9d75-0f1084286df6",
   "metadata": {},
   "source": [
    "*The `faang.csv` dataset is a copy of what you should've obtained in Exercise 1 of the previous section.*"
   ]
  },
  {
   "cell_type": "markdown",
   "id": "1dccbf10-5465-407b-aeb5-fe9a59f1a2ec",
   "metadata": {},
   "source": [
    "**Exercise 1**"
   ]
  },
  {
   "cell_type": "markdown",
   "id": "b948422c-c05a-495a-847b-f4d82b071228",
   "metadata": {},
   "source": [
    "With the `earthquakes.csv file`, select all the earthquakes in Japan with a\n",
    "magnitude of `4.9` or greater using the `mb` magnitude type."
   ]
  },
  {
   "cell_type": "markdown",
   "id": "5ad78193-3c31-405b-9353-632199fe9cc3",
   "metadata": {},
   "source": [
    "**Exercise 2**"
   ]
  },
  {
   "cell_type": "markdown",
   "id": "de8524fa-42dc-4d23-8563-d9d7c2ac23ad",
   "metadata": {},
   "source": [
    "Create bins for each full number of magnitude (for example, the first bin is `(0, 1]`, the second is `(1, 2]`, and so on) with the `ml` magnitude type and count how many are in each bin."
   ]
  },
  {
   "cell_type": "markdown",
   "id": "04e2a521-5156-4758-b96f-b0a3866b2fd3",
   "metadata": {},
   "source": [
    "**Exercise 3**"
   ]
  },
  {
   "cell_type": "markdown",
   "id": "30217da5-ad81-4dfb-bb98-c9344b1125e8",
   "metadata": {},
   "source": [
    "Using the `faang.csv` file:\n",
    "\n",
    "1. Group by the ticker and resample to monthly frequency.\n",
    "2. Aggregate the open and close prices with the mean, the high price with the max, the low price with the min, and the volume with the sum.\n",
    "\n",
    "<div class=\"alert alert-block alert-info\">\n",
    "    <h4><b>Hint</b></h4>\n",
    "    The object returned by <code>groupby()</code> is a <code>DataFrameGroupBy</code>. It supports some aggregation operations, including the most obvious: aggregating by applying a certain function. Have a look <a href=\"https://pandas.pydata.org/docs/reference/api/pandas.core.groupby.DataFrameGroupBy.agg.html\">here</a>.\n",
    "</div>"
   ]
  }
 ],
 "metadata": {
  "kernelspec": {
   "display_name": "Python 3 (ipykernel)",
   "language": "python",
   "name": "python3"
  },
  "language_info": {
   "codemirror_mode": {
    "name": "ipython",
    "version": 3
   },
   "file_extension": ".py",
   "mimetype": "text/x-python",
   "name": "python",
   "nbconvert_exporter": "python",
   "pygments_lexer": "ipython3",
   "version": "3.12.0"
  }
 },
 "nbformat": 4,
 "nbformat_minor": 5
}
