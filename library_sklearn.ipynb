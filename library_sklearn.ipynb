{
 "cells": [
  {
   "cell_type": "markdown",
   "metadata": {},
   "source": [
    "# Scikit-learn library"
   ]
  },
  {
   "cell_type": "markdown",
   "metadata": {},
   "source": [
    "## Install libraries (add to binder/environment.yml)"
   ]
  },
  {
   "cell_type": "code",
   "execution_count": null,
   "metadata": {},
   "outputs": [],
   "source": [
    "!pip install scikit-learn\n",
    "!pip install matplotlib\n",
    "!pip install numpy"
   ]
  },
  {
   "cell_type": "markdown",
   "metadata": {},
   "source": [
    "## Import libraries"
   ]
  },
  {
   "cell_type": "code",
   "execution_count": null,
   "metadata": {},
   "outputs": [],
   "source": [
    "import numpy as np\n",
    "import matplotlib\n",
    "matplotlib.rcParams['figure.figsize'] = [14,14]"
   ]
  },
  {
   "cell_type": "markdown",
   "metadata": {},
   "source": [
    "## Classification"
   ]
  },
  {
   "cell_type": "markdown",
   "metadata": {},
   "source": [
    "### Dataset"
   ]
  },
  {
   "cell_type": "markdown",
   "metadata": {},
   "source": [
    "#### Load Data"
   ]
  },
  {
   "cell_type": "code",
   "execution_count": null,
   "metadata": {},
   "outputs": [],
   "source": [
    "import sklearn.datasets\n",
    "data = sklearn.datasets.load_breast_cancer()\n",
    "# data = sklearn.datasets.load_iris()\n",
    "# data = sklearn.datasets.load_diabetes()\n",
    "X = data['data']\n",
    "y = data['target']\n",
    "feature_names = data['feature_names']\n",
    "target_names = data['target_names']"
   ]
  },
  {
   "cell_type": "markdown",
   "metadata": {},
   "source": [
    "#### Train-Validation-Test Split"
   ]
  },
  {
   "cell_type": "code",
   "execution_count": null,
   "metadata": {},
   "outputs": [],
   "source": [
    "import sklearn.model_selection\n",
    "X_train, X_test, y_train, y_test = sklearn.model_selection.train_test_split(X, y, test_size = 0.20, random_state = 42)\n",
    "X_train, X_val, y_train, y_val = sklearn.model_selection.train_test_split(X_train, y_train, test_size = 0.25, random_state = 42)"
   ]
  },
  {
   "cell_type": "markdown",
   "metadata": {},
   "source": [
    "### Preprocessing"
   ]
  },
  {
   "cell_type": "markdown",
   "metadata": {},
   "source": [
    "#### Standardising data"
   ]
  },
  {
   "cell_type": "code",
   "execution_count": null,
   "metadata": {},
   "outputs": [],
   "source": [
    "import sklearn.preprocessing\n",
    "standard_scaler = sklearn.preprocessing.StandardScaler()\n",
    "X_train_standardised = standard_scaler.fit_transform(X_train)\n",
    "X_val_standardised = standard_scaler.transform(X_val)\n",
    "X_test_standardised = standard_scaler.transform(X_test)"
   ]
  },
  {
   "cell_type": "markdown",
   "metadata": {},
   "source": [
    "#### Feature selection"
   ]
  },
  {
   "cell_type": "code",
   "execution_count": null,
   "metadata": {},
   "outputs": [],
   "source": [
    "import sklearn.feature_selection\n",
    "feature_selection_function = sklearn.feature_selection.f_classif\n",
    "select_best_features = sklearn.feature_selection.SelectKBest(score_func = feature_selection_function, k = 5)\n",
    "X_train_selected = select_best_features.fit_transform(X_train_standardised, y_train)\n",
    "X_val_selected = select_best_features.transform(X_val_standardised)\n",
    "X_test_selected = select_best_features.transform(X_test_standardised)\n",
    "selected_features_indexes = select_best_features.get_support(indices=True)\n",
    "selected_features_names = feature_names[selected_features_indexes]\n"
   ]
  },
  {
   "cell_type": "markdown",
   "metadata": {},
   "source": [
    "#### Dimentionality reduction"
   ]
  },
  {
   "cell_type": "code",
   "execution_count": null,
   "metadata": {},
   "outputs": [],
   "source": [
    "import sklearn.decomposition\n",
    "pca_model = sklearn.decomposition.PCA(n_components = 2)\n",
    "X_train_reduced = pca_model.fit_transform(X_train_selected)\n",
    "X_val_reduced = pca_model.transform(X_val_selected)\n",
    "X_test_reduced = pca_model.transform(X_test_selected)\n",
    "explained_variance_ratio = pca_model.explained_variance_ratio_"
   ]
  },
  {
   "cell_type": "markdown",
   "metadata": {},
   "source": [
    "#### Plot dataset"
   ]
  },
  {
   "cell_type": "code",
   "execution_count": null,
   "metadata": {},
   "outputs": [],
   "source": [
    "import matplotlib.pyplot as plt\n",
    "plt.scatter(X_train_reduced[:,0], X_train_reduced[:,1], c = y_train)"
   ]
  },
  {
   "cell_type": "markdown",
   "metadata": {},
   "source": [
    "#### Unsupervised learning"
   ]
  },
  {
   "cell_type": "code",
   "execution_count": null,
   "metadata": {},
   "outputs": [],
   "source": [
    "import sklearn.cluster\n",
    "kmeans_model = sklearn.cluster.KMeans(n_clusters = 2, random_state = 42)\n",
    "y_pred_train_cluster = kmeans_model.fit_predict(X_train_reduced)\n",
    "\n",
    "# Lets see the result\n",
    "true_positive_train = X_train_reduced[np.where((y_train==1) & (y_pred_train_cluster==1))[0]]\n",
    "true_negative_train = X_train_reduced[np.where((y_train==0) & (y_pred_train_cluster==0))[0]]\n",
    "false_positive_train = X_train_reduced[np.where((y_train==0) & (y_pred_train_cluster==1))[0]]\n",
    "false_negative_train = X_train_reduced[np.where((y_train==1) & (y_pred_train_cluster==0))[0]]\n",
    "plt.scatter(true_positive_train[:,0], true_positive_train[:,1], color = 'blue', marker = '.')\n",
    "plt.scatter(true_negative_train[:,0], true_negative_train[:,1], color = 'green', marker = '.')\n",
    "plt.scatter(false_positive_train[:,0], false_positive_train[:,1], color = 'blue', marker = 'x')\n",
    "plt.scatter(false_negative_train[:,0], false_negative_train[:,1], color = 'green', marker = 'x')\n",
    "plt.legend(['TP', 'TN', 'FP', 'FN'])\n",
    "plt.title('Clustering data')"
   ]
  },
  {
   "cell_type": "markdown",
   "metadata": {},
   "source": [
    "#### Supervised learning"
   ]
  },
  {
   "cell_type": "markdown",
   "metadata": {},
   "source": [
    "##### Logistic Regression"
   ]
  },
  {
   "cell_type": "code",
   "execution_count": null,
   "metadata": {},
   "outputs": [],
   "source": [
    "import sklearn.linear_model\n",
    "\n",
    "logistic_regression_model = sklearn.linear_model.LogisticRegression(penalty = 'l2')\n",
    "logistic_regression_model.fit(X_train_selected, y_train)\n",
    "y_pred_val = logistic_regression_model.predict(X_val_selected)\n",
    "\n",
    "# Change the classifier to get the best validation performance\n",
    "complete_X_train_selected = np.vstack((X_train_selected, X_val_selected))\n",
    "complete_y_train = np.hstack((y_train, y_val))\n",
    "logistic_regression_model.fit(complete_X_train_selected, complete_y_train)\n",
    "\n",
    "y_pred_test_lr = logistic_regression_model.predict(X_test_selected)\n",
    "lr_intercept = logistic_regression_model.intercept_\n",
    "lr_coefs = np.squeeze(logistic_regression_model.coef_)\n",
    "\n",
    "equation = \"logit(X) = %.2f + (%.2f x0) + (%.2f x1) + (%.2f x2) + (%.2f x3) + (%.2f x4)\" % (lr_intercept[0], lr_coefs[0], lr_coefs[1], lr_coefs[2], lr_coefs[3], lr_coefs[4])\n",
    "print(equation)"
   ]
  },
  {
   "cell_type": "markdown",
   "metadata": {},
   "source": [
    "##### Decision Tree"
   ]
  },
  {
   "cell_type": "code",
   "execution_count": null,
   "metadata": {},
   "outputs": [],
   "source": [
    "import sklearn.tree\n",
    "\n",
    "decision_tree_model = sklearn.tree.DecisionTreeClassifier(max_depth = 3)\n",
    "decision_tree_model.fit(X_train_selected, y_train)\n",
    "y_pred_val = decision_tree_model.predict(X_val_selected)\n",
    "\n",
    "# Change the classifier to get the best validation performance\n",
    "complete_X_train_selected = np.vstack((X_train_selected, X_val_selected))\n",
    "complete_y_train = np.hstack((y_train, y_val))\n",
    "decision_tree_model.fit(complete_X_train_selected, complete_y_train)\n",
    "\n",
    "y_pred_test_dt = decision_tree_model.predict(X_test_selected)\n",
    "\n",
    "sklearn.tree.plot_tree(decision_tree_model, feature_names = selected_features_names, class_names = target_names, filled = True)"
   ]
  },
  {
   "cell_type": "markdown",
   "metadata": {},
   "source": [
    "#### Evaluation"
   ]
  },
  {
   "cell_type": "code",
   "execution_count": null,
   "metadata": {},
   "outputs": [],
   "source": [
    "import sklearn.metrics\n",
    "confusion_matrix_test_lr = sklearn.metrics.confusion_matrix(y_test, y_pred_test_lr)\n",
    "confusion_matrix_test_dt = sklearn.metrics.confusion_matrix(y_test, y_pred_test_dt)\n",
    "\n",
    "print(\"---------------------Logistic Regression---------------------\")\n",
    "print(sklearn.metrics.classification_report(y_test, y_pred_test_lr, target_names = target_names))\n",
    "\n",
    "print(\"------------------------Decision Tree------------------------\")\n",
    "print(sklearn.metrics.classification_report(y_test, y_pred_test_dt, target_names = target_names))"
   ]
  },
  {
   "cell_type": "markdown",
   "metadata": {},
   "source": [
    "## Regression"
   ]
  },
  {
   "cell_type": "markdown",
   "metadata": {},
   "source": [
    "### Dataset"
   ]
  },
  {
   "cell_type": "markdown",
   "metadata": {},
   "source": [
    "#### Load Data"
   ]
  },
  {
   "cell_type": "code",
   "execution_count": null,
   "metadata": {},
   "outputs": [],
   "source": [
    "import sklearn.datasets\n",
    "data = sklearn.datasets.load_diabetes()\n",
    "X = data['data']\n",
    "y = data['target']\n",
    "feature_names = np.array(data['feature_names'])"
   ]
  },
  {
   "cell_type": "markdown",
   "metadata": {},
   "source": [
    "#### Train-validation-test split"
   ]
  },
  {
   "cell_type": "code",
   "execution_count": null,
   "metadata": {},
   "outputs": [],
   "source": [
    "import sklearn.model_selection\n",
    "X_train, X_test, y_train, y_test = sklearn.model_selection.train_test_split(X, y, test_size = 0.20, random_state = 42)\n",
    "X_train, X_val, y_train, y_val = sklearn.model_selection.train_test_split(X_train, y_train, test_size = 0.25, random_state = 42)"
   ]
  },
  {
   "cell_type": "markdown",
   "metadata": {},
   "source": [
    "### Preprocessing"
   ]
  },
  {
   "cell_type": "markdown",
   "metadata": {},
   "source": [
    "#### Standardising data"
   ]
  },
  {
   "cell_type": "code",
   "execution_count": null,
   "metadata": {},
   "outputs": [],
   "source": [
    "import sklearn.preprocessing\n",
    "standard_scaler = sklearn.preprocessing.StandardScaler()\n",
    "X_train_standardised = standard_scaler.fit_transform(X_train)\n",
    "X_val_standardised = standard_scaler.transform(X_val)\n",
    "X_test_standardised = standard_scaler.transform(X_test)"
   ]
  },
  {
   "cell_type": "markdown",
   "metadata": {},
   "source": [
    "#### Feature selection"
   ]
  },
  {
   "cell_type": "code",
   "execution_count": null,
   "metadata": {},
   "outputs": [],
   "source": [
    "import sklearn.feature_selection\n",
    "feature_selection_function = sklearn.feature_selection.f_regression\n",
    "select_best_features = sklearn.feature_selection.SelectKBest(score_func = feature_selection_function, k = 2)\n",
    "X_train_selected = select_best_features.fit_transform(X_train_standardised, y_train)\n",
    "X_val_selected = select_best_features.transform(X_val_standardised)\n",
    "X_test_selected = select_best_features.transform(X_test_standardised)\n",
    "selected_features_indexes = select_best_features.get_support(indices=True)\n",
    "selected_features_names = feature_names[selected_features_indexes]"
   ]
  },
  {
   "cell_type": "markdown",
   "metadata": {},
   "source": [
    "### Supervised learning"
   ]
  },
  {
   "cell_type": "markdown",
   "metadata": {},
   "source": [
    "#### Linear Regression"
   ]
  },
  {
   "cell_type": "code",
   "execution_count": null,
   "metadata": {},
   "outputs": [],
   "source": [
    "import sklearn.linear_model\n",
    "\n",
    "linear_regression_model = sklearn.linear_model.LinearRegression()\n",
    "linear_regression_model.fit(X_train_selected, y_train)\n",
    "y_pred_val = linear_regression_model.predict(X_val_selected)\n",
    "\n",
    "# Change the regressor to get the best validation performance\n",
    "complete_X_train_selected = np.vstack((X_train_selected, X_val_selected))\n",
    "complete_y_train = np.hstack((y_train, y_val))\n",
    "linear_regression_model.fit(complete_X_train_selected, complete_y_train)\n",
    "\n",
    "y_pred_test_linreg = linear_regression_model.predict(X_test_selected)\n",
    "linreg_intercept = linear_regression_model.intercept_\n",
    "linreg_coefs = np.squeeze(linear_regression_model.coef_)\n",
    "\n",
    "equation = \"y = %.2f + (%.2f x0) + (%.2f x1)\" % (lr_intercept, linreg_coefs[0], linreg_coefs[1])\n",
    "print(equation)"
   ]
  },
  {
   "cell_type": "markdown",
   "metadata": {},
   "source": [
    "#### Evaluation"
   ]
  },
  {
   "cell_type": "code",
   "execution_count": null,
   "metadata": {},
   "outputs": [],
   "source": [
    "import sklearn.metrics\n",
    "r2_score_linreg = sklearn.metrics.r2_score(y_test, y_pred_test_linreg)\n",
    "rmse_linreg = sklearn.metrics.mean_squared_error(y_test, y_pred_test_linreg, squared = False)\n",
    "rms_target = np.sqrt(np.mean(y_test ** 2))\n",
    "rrmse_linreg = rmse_linreg/rms_target * 100\n"
   ]
  },
  {
   "cell_type": "markdown",
   "metadata": {},
   "source": [
    "## Exercises"
   ]
  }
 ],
 "metadata": {
  "kernelspec": {
   "display_name": "deeplearning",
   "language": "python",
   "name": "python3"
  },
  "language_info": {
   "codemirror_mode": {
    "name": "ipython",
    "version": 3
   },
   "file_extension": ".py",
   "mimetype": "text/x-python",
   "name": "python",
   "nbconvert_exporter": "python",
   "pygments_lexer": "ipython3",
   "version": "3.11.5"
  }
 },
 "nbformat": 4,
 "nbformat_minor": 2
}
