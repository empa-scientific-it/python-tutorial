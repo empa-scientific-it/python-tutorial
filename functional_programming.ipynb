{
 "cells": [
  {
   "cell_type": "code",
   "execution_count": 1,
   "metadata": {
    "slideshow": {
     "slide_type": "skip"
    }
   },
   "outputs": [],
   "source": [
    "%reload_ext tutorial.tests.testsuite"
   ]
  },
  {
   "cell_type": "markdown",
   "metadata": {
    "slideshow": {
     "slide_type": "skip"
    }
   },
   "source": [
    "# Functional Programming in Python"
   ]
  },
  {
   "cell_type": "markdown",
   "metadata": {
    "slideshow": {
     "slide_type": "skip"
    }
   },
   "source": [
    "## Presentation slides\n",
    "The following section contains the slides shown during the workshop"
   ]
  },
  {
   "cell_type": "markdown",
   "metadata": {
    "slideshow": {
     "slide_type": "slide"
    }
   },
   "source": [
    "## Functional programming in python\n",
    "Why functional programming?\n",
    "- easy **reasoning*: *there are no surprises*\n",
    "- suitable for **parallel** programming\n"
   ]
  },
  {
   "cell_type": "markdown",
   "metadata": {
    "slideshow": {
     "slide_type": "slide"
    }
   },
   "source": [
    "## The principles of functional programming\n",
    "\n",
    "- *Functions as values*\n",
    "- *Pure functions*\n",
    "- *Immutability of data*\n",
    "- *Composition*\n",
    "- *Referential  transparency*\n",
    "- *type system*"
   ]
  },
  {
   "cell_type": "markdown",
   "metadata": {
    "slideshow": {
     "slide_type": "slide"
    }
   },
   "source": [
    "## Functions as values\n",
    "\n",
    "Functions are *objects* of the programming language.  They can be assigned and manipulated like other values:\n",
    "\n",
    "```python\n",
    "def x()-> int:\n",
    "    return 3\n",
    "\n",
    "y = x\n",
    "\n",
    "print(x() == y())\n",
    "```"
   ]
  },
  {
   "cell_type": "markdown",
   "metadata": {
    "slideshow": {
     "slide_type": "subslide"
    }
   },
   "source": [
    "This leads to the use of *higher-order-functions*, which take other functions as parameter. This idiom is useful to abstract over the behavior of programs.\n",
    "\n",
    "For example, `map` is used to apply a function to a list of values:\n"
   ]
  },
  {
   "cell_type": "code",
   "execution_count": 31,
   "metadata": {
    "slideshow": {
     "slide_type": "fragment"
    }
   },
   "outputs": [
    {
     "name": "stdout",
     "output_type": "stream",
     "text": [
      "Input: [0, 1, 2, 3, 4, 5, 6, 7, 8, 9], output: [1, 2, 3, 4, 5, 6, 7, 8, 9, 10]\n"
     ]
    }
   ],
   "source": [
    "from IPython.display import Markdown\n",
    "import inspect\n",
    "def my_fun(a: int)-> int:\n",
    "    return a + 1\n",
    "\n",
    "input_list = list(range(10))\n",
    "result = list(map(my_fun, input_list))\n",
    "\n"
   ]
  },
  {
   "cell_type": "code",
   "execution_count": null,
   "metadata": {
    "slideshow": {
     "slide_type": "fragment"
    }
   },
   "outputs": [],
   "source": [
    "print(f\"Input: {input_list}, output: {result}\")"
   ]
  },
  {
   "cell_type": "markdown",
   "metadata": {
    "slideshow": {
     "slide_type": "subslide"
    }
   },
   "source": [
    "We can create *anonymous* functions using `lambda`"
   ]
  },
  {
   "cell_type": "code",
   "execution_count": null,
   "metadata": {
    "slideshow": {
     "slide_type": "fragment"
    }
   },
   "outputs": [],
   "source": [
    "new_fun = lambda x: x + 1"
   ]
  },
  {
   "cell_type": "code",
   "execution_count": null,
   "metadata": {
    "slideshow": {
     "slide_type": "fragment"
    }
   },
   "outputs": [],
   "source": [
    "new_fun(5)"
   ]
  },
  {
   "cell_type": "markdown",
   "metadata": {
    "slideshow": {
     "slide_type": "slide"
    }
   },
   "source": [
    "## Pure functions\n",
    "\n",
    "We prefer functions that have no *side-effects*: \n",
    "\n",
    "1. they do not modify the state of the program \n",
    "2. given the same input, they **always** return the same output.\n",
    "\n"
   ]
  },
  {
   "cell_type": "markdown",
   "metadata": {
    "slideshow": {
     "slide_type": "subslide"
    }
   },
   "source": [
    "This following function is not *pure* because it modifies the value of `x` every time it runs:\n"
   ]
  },
  {
   "cell_type": "code",
   "execution_count": 48,
   "metadata": {
    "scrolled": true,
    "slideshow": {
     "slide_type": "fragment"
    }
   },
   "outputs": [
    {
     "name": "stdout",
     "output_type": "stream",
     "text": [
      "x=[1, 2, 3], id(x)=140131238496640\n",
      "x=[1, 2, 3, 1], id(x)=140131238496640\n",
      "x=[1, 2, 3, 1, [...]], id(x)=140131238496640\n"
     ]
    }
   ],
   "source": [
    "from typing import Any\n",
    "x = [1,2,3]\n",
    "def do_something(val: int) -> list[int]:\n",
    "    return x.append(val)\n",
    "\n",
    "def display_val(x: Any):\n",
    "    print(f\"{x=}, {id(x)=}\")\n"
   ]
  },
  {
   "cell_type": "code",
   "execution_count": null,
   "metadata": {
    "slideshow": {
     "slide_type": "fragment"
    }
   },
   "outputs": [],
   "source": [
    "display_val(x)\n",
    "do_something(1)\n",
    "display_val(x)\n",
    "do_something(x)\n",
    "display_val(x)"
   ]
  },
  {
   "cell_type": "markdown",
   "metadata": {
    "slideshow": {
     "slide_type": "subslide"
    }
   },
   "source": [
    "`id(x)` returns the memory address of a variable. If it does not change, it means the variable refers to the same object. This is the case here, therefore we proved that `do_something` is not *pure*."
   ]
  },
  {
   "cell_type": "markdown",
   "metadata": {
    "slideshow": {
     "slide_type": "slide"
    }
   },
   "source": [
    "## Immutable Data\n",
    "\n",
    "Whenever possible, we avoid *mutating* data, as mutation is a type of *side-effect*. \n",
    "\n",
    "When a variable is defined, its value **remains constant for the duration of the program execution**.\n",
    "\n",
    "This makes it easier to reason about the flow of our program. \n"
   ]
  },
  {
   "cell_type": "markdown",
   "metadata": {
    "slideshow": {
     "slide_type": "subslide"
    }
   },
   "source": [
    "For example, instead of inserting an element in an existing list as we did before, we create a new list by combining the old list with the new element:"
   ]
  },
  {
   "cell_type": "code",
   "execution_count": 36,
   "metadata": {
    "slideshow": {
     "slide_type": "fragment"
    }
   },
   "outputs": [
    {
     "name": "stdout",
     "output_type": "stream",
     "text": [
      "x=[1, 2, 3]\n",
      "Appending\n",
      "x=[1, 2, 3]\n",
      "y=[1, 2, 3, 4]\n"
     ]
    }
   ],
   "source": [
    "x = [1, 2, 3]\n",
    "print(f\"{x=}\")\n",
    "y = x + [4,]\n",
    "print(\"Appending\")\n",
    "print(f\"{x=}\")\n",
    "print(f\"{y=}\")"
   ]
  },
  {
   "cell_type": "markdown",
   "metadata": {
    "slideshow": {
     "slide_type": "fragment"
    }
   },
   "source": [
    "As you can see, the value of `x` does not change when we create `y`. This is in contrast to the previous example."
   ]
  },
  {
   "cell_type": "markdown",
   "metadata": {
    "slideshow": {
     "slide_type": "slide"
    }
   },
   "source": [
    "## List compherensions\n",
    "Immutability of data in python is frequently expressed using *compherensions*.\n",
    "These are for-like expressions that operate on iterables and produce *values*.\n",
    "\n",
    "Let's look at an example of *mutation*: we want to produce a list of the first 10 squares:"
   ]
  },
  {
   "cell_type": "code",
   "execution_count": 60,
   "metadata": {
    "slideshow": {
     "slide_type": "subslide"
    }
   },
   "outputs": [
    {
     "name": "stdout",
     "output_type": "stream",
     "text": [
      "a=[], id(a)=140131238690688\n",
      "a=[0], id(a)=140131238690688\n",
      "a=[0, 1], id(a)=140131238690688\n",
      "a=[0, 1, 4], id(a)=140131238690688\n",
      "a=[0, 1, 4, 9], id(a)=140131238690688\n",
      "a=[0, 1, 4, 9, 16], id(a)=140131238690688\n",
      "a=[0, 1, 4, 9, 16, 25], id(a)=140131238690688\n",
      "a=[0, 1, 4, 9, 16, 25, 36], id(a)=140131238690688\n",
      "a=[0, 1, 4, 9, 16, 25, 36, 49], id(a)=140131238690688\n",
      "a=[0, 1, 4, 9, 16, 25, 36, 49, 64], id(a)=140131238690688\n"
     ]
    }
   ],
   "source": [
    "a = []\n",
    "for i in range(10):\n",
    "    print(f\"{a=}, {id(a)=}\")\n",
    "    a.append(i**2)"
   ]
  },
  {
   "cell_type": "markdown",
   "metadata": {
    "slideshow": {
     "slide_type": "fragment"
    }
   },
   "source": [
    "`id(a)` returns the memory *address* of `a`. As you can see, we modify the contents of `a` over the for loop.\n",
    "\n",
    "Let's rewrite this using a compherension and se what happens"
   ]
  },
  {
   "cell_type": "code",
   "execution_count": 63,
   "metadata": {
    "slideshow": {
     "slide_type": "subslide"
    }
   },
   "outputs": [
    {
     "name": "stdout",
     "output_type": "stream",
     "text": [
      "a=[0, 1, 2, 3, 4, 5, 6, 7, 8, 9], id(a)=140131238601280\n",
      "b=[0, 1, 4, 9, 16, 25, 36, 49, 64, 81], id(b)=140131238592768\n",
      "a=[0, 1, 2, 3, 4, 5, 6, 7, 8, 9], id(a)=140131238601280\n"
     ]
    }
   ],
   "source": [
    "a = [i for i in range(10)]\n",
    "print(f\"{a=}, {id(a)=}\")\n",
    "b = [i**2 for i in a]\n",
    "print(f\"{b=}, {id(b)=}\")\n",
    "print(f\"{a=}, {id(a)=}\")"
   ]
  },
  {
   "cell_type": "markdown",
   "metadata": {
    "slideshow": {
     "slide_type": "fragment"
    }
   },
   "source": [
    "We see that the second expression produced a *new list* that we assigned  to `b`. The value of `a` remained unchanged."
   ]
  },
  {
   "cell_type": "markdown",
   "metadata": {
    "slideshow": {
     "slide_type": "slide"
    }
   },
   "source": [
    "## Referential transparency\n",
    "This sounds scary, but it simply means that whenever we see a function call (or any expression), we can subsitute it with the value of the function.\n",
    "\n",
    "Consider this example"
   ]
  },
  {
   "cell_type": "code",
   "execution_count": 69,
   "metadata": {
    "slideshow": {
     "slide_type": "subslide"
    }
   },
   "outputs": [
    {
     "name": "stdout",
     "output_type": "stream",
     "text": [
      "y1=6\n",
      "y2=6\n"
     ]
    }
   ],
   "source": [
    "\n",
    "def fun(x: int) -> int:\n",
    "    return x + 2\n",
    "\n",
    "y1 = fun(1) + 3\n",
    "\n",
    "\n",
    "x_out = fun(1)\n",
    "y2 = x_out + 3\n",
    "\n",
    "print(f\"{y1=}\")\n",
    "print(f\"{y2=}\")\n"
   ]
  },
  {
   "cell_type": "markdown",
   "metadata": {
    "slideshow": {
     "slide_type": "subslide"
    }
   },
   "source": [
    "We see that `x` is indeed referentially transparent. Now, look at another example:"
   ]
  },
  {
   "cell_type": "code",
   "execution_count": 68,
   "metadata": {
    "slideshow": {
     "slide_type": "subslide"
    }
   },
   "outputs": [],
   "source": [
    "import random\n",
    "def x2() -> int:\n",
    "    return random.randint(0, 10)\n",
    "\n",
    "# This \"captures\" the expression x() + 3 without computing its value. We get the value by calling y1()\n",
    "y1 = lambda : x2() + 3\n",
    "\n",
    "\n",
    "\n"
   ]
  },
  {
   "cell_type": "code",
   "execution_count": null,
   "metadata": {
    "slideshow": {
     "slide_type": "fragment"
    }
   },
   "outputs": [],
   "source": [
    "print(f\"{y1()=}\")\n",
    "print(f\"{y1()=}\")"
   ]
  },
  {
   "cell_type": "markdown",
   "metadata": {
    "slideshow": {
     "slide_type": "fragment"
    }
   },
   "source": [
    "This is *not*. Every time we call `x2`, we get a different (random) value."
   ]
  },
  {
   "cell_type": "markdown",
   "metadata": {
    "slideshow": {
     "slide_type": "skip"
    }
   },
   "source": [
    "## Writeup\n",
    "\n",
    "## References\n",
    "Here are some additional references to help you in self-learning. Next to each link, we write if this is a video, text or another type of material\n",
    "\n",
    "- The [functools reference](https://docs.python.org/3/library/functools.html) from the python standard library (text)\n",
    "- The [itertools reference](https://docs.python.org/3/library/itertools.html) from the python standard library (text)\n",
    "- [Functional programming howto](https://docs.python.org/3/library/functools.html) from the python documentation\n",
    "- A [good, but old introduction](https://www.youtube.com/watch?v=Ta1bAMOMFOI) of functional programming (video)\n",
    "- A [very high level](https://www.youtube.com/watch?v=Qa8IfEeBJqk) introduction of functional programming (video, advanced). Interesting, but not python-specific as it refers to Haskell\n",
    "- A [general introduction on functional programming](https://www.youtube.com/watch?v=8z_bUIl_uPo). Very worth watching as it uses python for the examples (video)\n",
    "- [Principles of functional programming](https://dev.to/jamesrweb/principles-of-functional-programming-4b7c)\n",
    "\n",
    "\n",
    "\n",
    "## Introduction\n",
    "Functional programming is an approach to programming where programs are built by composing and running functions that perform a series of transformation on data. This is in contrast with the common approach of *imperative programming*, where programs are written as series of statements which modify the *state* of the computation environment. Normally within functional programming, great focus is placed on *composability*, *immutability* and  *purity*. We are going to define these terms in more detail later.\n",
    "## Why Functional Programming\n",
    "Why do we choose functional programming? There are a series of advantages to this approach, namely:\n",
    "- **Debugging** and **testing** are easy: there are no surprises because every function only does one thing and does not affect any other piece of the program.\n",
    "- **Parallelisation** is trivial: because functions are just small boxes that take one input and produce an output and do not depend on other parts of the code in an implicit manner through global variables or other shared pieces of state, it is easy to make several functions run in parallel.\n",
    "## The basic principles of functional programming\n",
    "All modern programming languages have *functions* (or methods, procedures, subroutines, subprograms); these are groups of program statements that perform a certain computation. Functions are defined once for the whole program and can be reused at will throughout the program whenever we need to perform the specific computation they are defined for. Using functions, we can split our code in smaller units that are only responsible for a specific *functionality*; this helps us structuring our code in a clean and understandable form. \n",
    "\n",
    "The main principles we use in functional programming are:\n",
    "- *purity*\n",
    "- *immutability*\n",
    "- *composability*\n",
    "- *functions as values* (*higher order functions*)\n",
    "- *referential transparency*\n",
    "\n",
    "In the next few sections, we are going to briefly explore these concepts with some examples."
   ]
  },
  {
   "cell_type": "code",
   "execution_count": null,
   "metadata": {},
   "outputs": [],
   "source": []
  },
  {
   "cell_type": "code",
   "execution_count": null,
   "metadata": {},
   "outputs": [],
   "source": []
  },
  {
   "cell_type": "markdown",
   "metadata": {},
   "source": [
    "\n",
    "### Pure Functions (Purity)\n",
    "In functional programming, we try to strive for *purity*, that is we want to define and use functions that only depend on their input, always return the same output for the same inputs and do not have any *side effects*, that is they do not indirectly affect any other part of our program. You can think of these functions as mathematical functions. \n",
    "Other examples of side effects are:\n",
    "- printing to the program output\n",
    "- reading or writing files\n",
    "- generating and using random numbers\n",
    "To besser understand this concept, let us look at the function `my_first_pure_function` we defined below:\n"
   ]
  },
  {
   "cell_type": "code",
   "execution_count": 1,
   "metadata": {},
   "outputs": [],
   "source": [
    "def my_first_pure_function(x: int) -> int: \n",
    "    return x + 1"
   ]
  },
  {
   "cell_type": "markdown",
   "metadata": {},
   "source": [
    "&#x1F600\n",
    "Is this a pure function?\n",
    "As you could probably imagine, this function is pure. Any time we run it, we get the same  result and running the function does not affect any other part of our program:"
   ]
  },
  {
   "cell_type": "code",
   "execution_count": 2,
   "metadata": {},
   "outputs": [
    {
     "name": "stdout",
     "output_type": "stream",
     "text": [
      "x is 1\n",
      "The result of calling the function is 2\n",
      "x is 1\n",
      "The result of calling the function is 2\n",
      "x is 1\n"
     ]
    }
   ],
   "source": [
    "x = 1\n",
    "print(f\"x is {x}\")\n",
    "print(f\"The result of calling the function is {my_first_pure_function(1)}\")\n",
    "print(f\"x is {x}\")\n",
    "print(f\"The result of calling the function is {my_first_pure_function(1)}\")\n",
    "print(f\"x is {x}\")"
   ]
  },
  {
   "cell_type": "markdown",
   "metadata": {},
   "source": [
    "As a rule of thumb, any function that does not modify variables outside of its *scope* and only uses mathematical functions is a pure function.\n",
    "Now, consider this function instead:"
   ]
  },
  {
   "cell_type": "code",
   "execution_count": 3,
   "metadata": {},
   "outputs": [],
   "source": [
    "x = [\"short\", \"list\"] \n",
    "def do_something(y: str) -> None:\n",
    "    x.append(y)"
   ]
  },
  {
   "cell_type": "markdown",
   "metadata": {},
   "source": [
    "> &#x1F600 Is this function pure? \n",
    "\n",
    "Let's try and run it. "
   ]
  },
  {
   "cell_type": "code",
   "execution_count": 4,
   "metadata": {},
   "outputs": [
    {
     "name": "stdout",
     "output_type": "stream",
     "text": [
      "['short', 'list']\n",
      "['short', 'list', 'a']\n"
     ]
    }
   ],
   "source": [
    "print(x)\n",
    "do_something(\"a\")\n",
    "print(x)"
   ]
  },
  {
   "cell_type": "markdown",
   "metadata": {},
   "source": [
    "As you see from the output, the function modified the list `x`. Therefore, this function is not pure. This leads us to the next principle, **immutability**.\n",
    "\n",
    "### Immutability\n",
    "When writing programs in functional style, we usually avoid functions like `do_something`. Instead of modifying existing data (*mutation*), you write functions that transform your data and return new objects.\n",
    "In the case of the function above, we would rewrite it as follows:\n"
   ]
  },
  {
   "cell_type": "code",
   "execution_count": 5,
   "metadata": {},
   "outputs": [
    {
     "ename": "TypeError",
     "evalue": "'type' object is not subscriptable",
     "output_type": "error",
     "traceback": [
      "\u001b[0;31m---------------------------------------------------------------------------\u001b[0m",
      "\u001b[0;31mTypeError\u001b[0m                                 Traceback (most recent call last)",
      "Cell \u001b[0;32mIn[5], line 2\u001b[0m\n\u001b[1;32m      1\u001b[0m x \u001b[39m=\u001b[39m [\u001b[39m\"\u001b[39m\u001b[39mshort\u001b[39m\u001b[39m\"\u001b[39m, \u001b[39m\"\u001b[39m\u001b[39mlist\u001b[39m\u001b[39m\"\u001b[39m] \n\u001b[0;32m----> 2\u001b[0m \u001b[39mdef\u001b[39;00m \u001b[39mdo_something_immutable\u001b[39m(x: \u001b[39mlist\u001b[39;49m[\u001b[39mstr\u001b[39;49m], y: \u001b[39mstr\u001b[39m) \u001b[39m-\u001b[39m\u001b[39m>\u001b[39m \u001b[39mlist\u001b[39m[\u001b[39mstr\u001b[39m]:\n\u001b[1;32m      3\u001b[0m     \u001b[39mreturn\u001b[39;00m x \u001b[39m+\u001b[39m [y]\n\u001b[1;32m      5\u001b[0m \u001b[39mprint\u001b[39m(x)\n",
      "\u001b[0;31mTypeError\u001b[0m: 'type' object is not subscriptable"
     ]
    }
   ],
   "source": [
    "x = [\"short\", \"list\"] \n",
    "def do_something_immutable(x: \"list[str]\", y: str) -> \"list[str]\":\n",
    "    return x + [y]\n",
    "\n",
    "print(x)\n",
    "print(do_something_immutable(x, \"a\"))\n",
    "print(x)"
   ]
  },
  {
   "cell_type": "markdown",
   "metadata": {},
   "source": [
    "The output shows that `do_something_immutable` does not change `x`. It also does not reference to `x` outside of the scope but takes it as an argument. Instead of modfying the original `x` list, it returns a new list. When we want to keep immutability, this is the style we work with. If we adopt this style, it is easier to reason about the flow of our program as there are no variable that are being modified *at distance* by other function calls."
   ]
  },
  {
   "cell_type": "markdown",
   "metadata": {},
   "source": [
    "### Composition\n",
    "Another important aspect of functional programming is `composition`. This means that whenever we want to perform multiple operations, we avoid writing intermediate variables in the global state. Instead, we design our functions in such a way that one functions output can be directly fed into the next function.\n"
   ]
  },
  {
   "cell_type": "markdown",
   "metadata": {},
   "source": [
    "### Higher Order Functions / Functions as Values\n",
    "Another important principle of functional programming is that **functions are values**. In programming languages (like python) that support a functional style, we can manipulate functions with the language, we can pass them around in a variable and even use functions as parameters for another function.\n",
    "\n",
    "As an example, consider the function `function_caller`:\n",
    "\n"
   ]
  },
  {
   "cell_type": "code",
   "execution_count": null,
   "metadata": {},
   "outputs": [],
   "source": [
    "from typing import Callable, Any\n",
    "def function_caller(f: Callable[[Any], Any], arg: Any) -> Any:\n",
    "    print(f\"Calling the function {f} with argument {arg}\")\n",
    "    res = f(arg)\n",
    "    print(f\"The result of the call was {res}\")\n",
    "    return res"
   ]
  },
  {
   "cell_type": "markdown",
   "metadata": {},
   "source": [
    "This function takes a function `f` and its argument `args` as input and return the result of calling the function, while additionally printing a message on the standard output of the program. Let's try this out.\n",
    "To do so, we define a new function `add_five`:"
   ]
  },
  {
   "cell_type": "code",
   "execution_count": null,
   "metadata": {},
   "outputs": [],
   "source": [
    "def add_five(x: int) -> int:\n",
    "    return x + 5"
   ]
  },
  {
   "cell_type": "markdown",
   "metadata": {},
   "source": [
    "Now we can call `function_caller` with `add_five` and another number as arguments:"
   ]
  },
  {
   "cell_type": "code",
   "execution_count": null,
   "metadata": {},
   "outputs": [
    {
     "name": "stdout",
     "output_type": "stream",
     "text": [
      "Calling the function <function add_five at 0x7fb68848f1c0> with argument 4\n",
      "The result of the call was 9\n"
     ]
    },
    {
     "data": {
      "text/plain": [
       "9"
      ]
     },
     "execution_count": 13,
     "metadata": {},
     "output_type": "execute_result"
    }
   ],
   "source": [
    "function_caller(add_five, 4)"
   ]
  },
  {
   "cell_type": "markdown",
   "metadata": {},
   "source": [
    "This example was a bit convoluted, but it shows that in python we can use functions as values and even pass them as arguments to other functions.\n",
    "\n",
    "This is actually useful in many cases; a typical example being numerical optimization, where we want to find the parameters to a function that minimize a certain criteria.\n",
    "\n",
    "Other than these specific use cases, there are some common *higher order functions*  (HoF), or functions that take functions as parameters that are common in most programming languages.  We will look at a few in the next section.\n",
    "\n"
   ]
  },
  {
   "cell_type": "markdown",
   "metadata": {},
   "source": [
    "### Referential transparency\n",
    "The last principle we like to discuss is (*referential transparency*)[https://en.wikipedia.org/wiki/Referential_transparency]. This complex-sounding name simply means that we can replace any expression with its value without changing the behavior of the program.\n",
    "Consider this program:"
   ]
  },
  {
   "cell_type": "code",
   "execution_count": 100,
   "metadata": {},
   "outputs": [],
   "source": [
    "def x() -> int:\n",
    "    return 5\n",
    "\n",
    "y1 = x() + 5\n",
    "y2 = x() + 5\n",
    "\n",
    "x() + 5 == y1\n",
    "\n",
    "y1 == y2\n"
   ]
  },
  {
   "cell_type": "markdown",
   "metadata": {},
   "source": [
    "If `x` is referentially transparent, we can replace its value in the expression `y1 = x() + 5` and we obtain the same value. In other words, the value of `y` does not change if we execute it again, as shown in the code above: we have two expressions `y1` and `y2` that use the same code and because `x` is referentially transparent, \n",
    "their value is equal.\n",
    "\n",
    "In this case, this is true because the value of `x()` is simply 5 and is invariant.\n",
    "\n",
    "However, consider this counterexample:\n"
   ]
  },
  {
   "cell_type": "code",
   "execution_count": 101,
   "metadata": {},
   "outputs": [
    {
     "ename": "AssertionError",
     "evalue": "",
     "output_type": "error",
     "traceback": [
      "\u001b[0;31m---------------------------------------------------------------------------\u001b[0m",
      "\u001b[0;31mAssertionError\u001b[0m                            Traceback (most recent call last)",
      "Cell \u001b[0;32mIn[101], line 10\u001b[0m\n\u001b[1;32m      6\u001b[0m y1 \u001b[39m=\u001b[39m x() \u001b[39m+\u001b[39m \u001b[39m5\u001b[39m\n\u001b[1;32m      8\u001b[0m y2 \u001b[39m=\u001b[39m x() \u001b[39m+\u001b[39m \u001b[39m5\u001b[39m\n\u001b[0;32m---> 10\u001b[0m \u001b[39massert\u001b[39;00m y1 \u001b[39m==\u001b[39m y2\n",
      "\u001b[0;31mAssertionError\u001b[0m: "
     ]
    }
   ],
   "source": [
    "import random\n",
    "def x() -> int:\n",
    "    return random.randint(0, 10)\n",
    "\n",
    "\n",
    "y1 = x() + 5\n",
    "\n",
    "y2 = x() + 5\n",
    "\n",
    "y1 == y2"
   ]
  },
  {
   "cell_type": "markdown",
   "metadata": {},
   "source": [
    "in this case, because the function returns a different random number every time we call it, the expression `y1` has a different *value* compared to `y2` even though they both have the same *form*."
   ]
  },
  {
   "cell_type": "markdown",
   "metadata": {},
   "source": [
    "\n",
    "\n",
    "## Mapping / Iteration \n",
    "\n",
    "In this section, we will look at the application of some of the principles stated above in python. An important application of functional programming in python is the manipulation of iterables and lists. \n",
    "\n",
    "### Using map and filter\n",
    "\n",
    "Python offers the `map` function which can be used to apply a given function to all members of an `iterable`. Do not worry too much about what an `iterable` exactly is, just see it as a generalisation of a list, representing all objects that we can `iterate` over, accessing their values one by one. Let's see an example of `map` using the `add_five` function:"
   ]
  },
  {
   "cell_type": "code",
   "execution_count": null,
   "metadata": {},
   "outputs": [
    {
     "data": {
      "text/plain": [
       "<map at 0x7fb6884e60e0>"
      ]
     },
     "execution_count": 14,
     "metadata": {},
     "output_type": "execute_result"
    }
   ],
   "source": [
    "map(add_five, [1,2,3,4])"
   ]
  },
  {
   "cell_type": "markdown",
   "metadata": {},
   "source": [
    "The output is a bit confusing! The reason is that `map` does not return a list but a [map](https://docs.python.org/3/library/functions.html#map) object. This object is `lazy`, that means that the values are only generated when we access them, for example by iterating over the `map` object. \n",
    "Fortunately, we can easily convert this into a list by calling the `list` function:"
   ]
  },
  {
   "cell_type": "code",
   "execution_count": null,
   "metadata": {},
   "outputs": [
    {
     "data": {
      "text/plain": [
       "[6, 7, 8, 9]"
      ]
     },
     "execution_count": 15,
     "metadata": {},
     "output_type": "execute_result"
    }
   ],
   "source": [
    "list(map(add_five, [1,2,3,4]))"
   ]
  },
  {
   "cell_type": "markdown",
   "metadata": {},
   "source": [
    "This is equivalen to using a for loop:\n"
   ]
  },
  {
   "cell_type": "code",
   "execution_count": null,
   "metadata": {},
   "outputs": [
    {
     "name": "stdout",
     "output_type": "stream",
     "text": [
      "[6, 7, 8, 9]\n"
     ]
    }
   ],
   "source": [
    "a = []\n",
    "for i in [1,2,3,4]:\n",
    "    a.append(add_five(i))\n",
    "print(a)"
   ]
  },
  {
   "cell_type": "markdown",
   "metadata": {},
   "source": [
    "However, as you can see this former style is not very functional because we mutate an existing list `a` by appending the results of calling `add_five` to it. We will see later that python offers a syntax called *list compehrension* to express this operation in a more functional style.\n",
    "`map` is very useful when we want to apply the same functions to a list of parameters and we do not want to write a `for` loop. It makes for more coincise code, while sacrificing some readability. "
   ]
  },
  {
   "cell_type": "markdown",
   "metadata": {},
   "source": [
    "#### Filtering\n",
    "Another basic higher order function is `filter`. As the name says, this function is used to filter an `iterable` using a *predicate function*. This is a function that takes a value and return `true` or `false`. With `true`, the current element is kept, with `false` it is discarded.\n",
    "We now try to write a predicate function that only keeps even numbers.\n",
    "\n",
    "<a name=\"filter-example\"></a>"
   ]
  },
  {
   "cell_type": "code",
   "execution_count": null,
   "metadata": {},
   "outputs": [],
   "source": [
    "def is_even(x: int) -> bool:\n",
    "    return x % 2 == 0"
   ]
  },
  {
   "cell_type": "markdown",
   "metadata": {},
   "source": [
    "Now we are ready to try `filter` using `is_even`. Because `filter` returns a `filter` object, we wrap it in `list` to directly see the result as a list:"
   ]
  },
  {
   "cell_type": "code",
   "execution_count": null,
   "metadata": {},
   "outputs": [
    {
     "data": {
      "text/plain": [
       "[2, 4]"
      ]
     },
     "execution_count": 20,
     "metadata": {},
     "output_type": "execute_result"
    }
   ],
   "source": [
    "list(filter(is_even, [1,2,3,4,5]))"
   ]
  },
  {
   "cell_type": "markdown",
   "metadata": {},
   "source": [
    "#### Reducing\n",
    "A third basic HoF is *reduction*. This is a function that takes a function `f(x, y)` of two arguments and an iterable `l` an applies the function  to every element in the iterable *cumulatively* to produce one value. It works in the following way:\n",
    "- The first argument of `f`, `x` is the current value of the accumulation. At first, this corresponds to the first element of `l`\n",
    "- The second argument of `f`. `y` is the current element of the iterable. At first, this corresponds to the second element of `l`\n",
    "\n",
    "Because of this behavior, this function is useful to compute sums or similar aggregation over a list of numbers. In python, this function is available in the `functools` [package](https://docs.python.org/3/library/functools.html) as a part of the python standard library.\n",
    "\n",
    "As an example of using `reduce`, consider the following snippet:\n"
   ]
  },
  {
   "cell_type": "code",
   "execution_count": null,
   "metadata": {},
   "outputs": [
    {
     "name": "stdout",
     "output_type": "stream",
     "text": [
      "x: 1, y: 2\n",
      "x: 2, y: 3\n",
      "x: 6, y: 4\n",
      "x: 24, y: 5\n",
      "120\n"
     ]
    }
   ],
   "source": [
    "import functools\n",
    "\n",
    "\n",
    "def spy(x: int, y: int) -> int:\n",
    "    print(f\"x: {x}, y: {y}\")\n",
    "    return x * y\n",
    "\n",
    "result = functools.reduce(spy, [1, 2, 3, 4, 5])\n",
    "print(result)"
   ]
  },
  {
   "cell_type": "markdown",
   "metadata": {},
   "source": [
    "As you can see, we are computing the cumulative product of `[1, 2, 3, 4, 5]`, that is the *factorial* of 5, or `5!`"
   ]
  },
  {
   "cell_type": "markdown",
   "metadata": {},
   "source": [
    "### List Compehrensions\n",
    "Many of the operations in the previous section can be performed in a different (some would say more *pythonic*) way using [list compehrensions](https://docs.python.org/3/tutorial/datastructures.html#list-comprehensions).\n",
    "These look like mini for-loops inside square brackets and are very useful to write programs in a functional style while keeping code more readable than using higher order functions.  \n",
    "\n",
    "For example, if we want to double all integers between 1 and 10 and store the result in a list,  we can proceed in the classical imperative way:"
   ]
  },
  {
   "cell_type": "code",
   "execution_count": null,
   "metadata": {},
   "outputs": [
    {
     "name": "stdout",
     "output_type": "stream",
     "text": [
      "The doubles are [0, 2, 4, 6, 8, 10, 12, 14, 16, 18]\n"
     ]
    }
   ],
   "source": [
    "doubles = []\n",
    "\n",
    "for i in range(10):\n",
    "    doubles.append(i * 2)\n",
    "\n",
    "print(f\"The doubles are {doubles}\")\n"
   ]
  },
  {
   "cell_type": "markdown",
   "metadata": {},
   "source": [
    "Or we can use `map` like this:"
   ]
  },
  {
   "cell_type": "code",
   "execution_count": null,
   "metadata": {},
   "outputs": [
    {
     "name": "stdout",
     "output_type": "stream",
     "text": [
      "[0, 2, 4, 6, 8, 10, 12, 14, 16, 18]\n"
     ]
    }
   ],
   "source": [
    "doubles = map(lambda x: x * 2, range(10))\n",
    "\n",
    "print(list(doubles))\n"
   ]
  },
  {
   "cell_type": "markdown",
   "metadata": {},
   "source": [
    "Again here we wrapped `doubles` in `list` because `map` is lazy and does not return a list immediately but a `map` object which can be converted into a list using `list`. \n",
    "This solution is more elegant and avoids side effects because we do not modify the previously defined `doubles` list, instead we directly produce a new list with the desired result.\n",
    "\n",
    "Now, we solve the same problem using a list compherension:"
   ]
  },
  {
   "cell_type": "code",
   "execution_count": null,
   "metadata": {},
   "outputs": [
    {
     "name": "stdout",
     "output_type": "stream",
     "text": [
      "[0, 2, 4, 6, 8, 10, 12, 14, 16, 18]\n"
     ]
    }
   ],
   "source": [
    "doubles = [i * 2 for i in range(10)]\n",
    "print(doubles)"
   ]
  },
  {
   "cell_type": "markdown",
   "metadata": {},
   "source": [
    "This looks a lot like the solution above for the for loop, but it is an *expression* instead of a *statement*. [Expressions](https://www.baeldung.com/cs/expression-vs-statement) in programming are pieces of code that return a value and hence can be composed together to form more complex expressions and used anywhere a value is needed. In functional style, we prefer working with expressions instead of statements because we try to keep [*referential transparency*](https://en.wikipedia.org/wiki/Referential_transparency).\n",
    "\n",
    "Compherensions can do more than just iterate over a list. We can use them to filter elements of a list by adding an `if` statement at the end.\n",
    "For example, consider the example of filtering even numbers  from a list [above](#filter-example); we can rewrite this with list compherensions like this:\n"
   ]
  },
  {
   "cell_type": "code",
   "execution_count": null,
   "metadata": {},
   "outputs": [
    {
     "data": {
      "text/plain": [
       "[0, 2, 4]"
      ]
     },
     "execution_count": 21,
     "metadata": {},
     "output_type": "execute_result"
    }
   ],
   "source": [
    "def is_even(x: int) -> bool:\n",
    "    return x % 2 == 0\n",
    "\n",
    "[i for i in range(5) if is_even(i)]"
   ]
  },
  {
   "cell_type": "markdown",
   "metadata": {},
   "source": [
    "We can also combine (*nest*) list compherensions. This is equivalent to a nested for loop. For example consider this expression:"
   ]
  },
  {
   "cell_type": "code",
   "execution_count": 6,
   "metadata": {},
   "outputs": [
    {
     "data": {
      "text/plain": [
       "[(0, 0),\n",
       " (0, 1),\n",
       " (0, 2),\n",
       " (0, 3),\n",
       " (0, 4),\n",
       " (1, 0),\n",
       " (1, 1),\n",
       " (1, 2),\n",
       " (1, 3),\n",
       " (1, 4),\n",
       " (2, 0),\n",
       " (2, 1),\n",
       " (2, 2),\n",
       " (2, 3),\n",
       " (2, 4),\n",
       " (3, 0),\n",
       " (3, 1),\n",
       " (3, 2),\n",
       " (3, 3),\n",
       " (3, 4),\n",
       " (4, 0),\n",
       " (4, 1),\n",
       " (4, 2),\n",
       " (4, 3),\n",
       " (4, 4)]"
      ]
     },
     "execution_count": 6,
     "metadata": {},
     "output_type": "execute_result"
    }
   ],
   "source": [
    "[(i,j) for i in range(5) for j in range(5)]"
   ]
  },
  {
   "cell_type": "markdown",
   "metadata": {},
   "source": [
    "This returns all the combination of numbers between 0 and 4 as a list of pairs. In the first part of the compherension, we can use any expression instead of just referencing the variable. For example we can return a description of the pair `i,j` in text:"
   ]
  },
  {
   "cell_type": "code",
   "execution_count": 9,
   "metadata": {},
   "outputs": [
    {
     "data": {
      "text/plain": [
       "['The current pair is (0, 0)',\n",
       " 'The current pair is (0, 1)',\n",
       " 'The current pair is (0, 2)',\n",
       " 'The current pair is (0, 3)',\n",
       " 'The current pair is (0, 4)',\n",
       " 'The current pair is (1, 0)',\n",
       " 'The current pair is (1, 1)',\n",
       " 'The current pair is (1, 2)',\n",
       " 'The current pair is (1, 3)',\n",
       " 'The current pair is (1, 4)',\n",
       " 'The current pair is (2, 0)',\n",
       " 'The current pair is (2, 1)',\n",
       " 'The current pair is (2, 2)',\n",
       " 'The current pair is (2, 3)',\n",
       " 'The current pair is (2, 4)',\n",
       " 'The current pair is (3, 0)',\n",
       " 'The current pair is (3, 1)',\n",
       " 'The current pair is (3, 2)',\n",
       " 'The current pair is (3, 3)',\n",
       " 'The current pair is (3, 4)',\n",
       " 'The current pair is (4, 0)',\n",
       " 'The current pair is (4, 1)',\n",
       " 'The current pair is (4, 2)',\n",
       " 'The current pair is (4, 3)',\n",
       " 'The current pair is (4, 4)']"
      ]
     },
     "execution_count": 9,
     "metadata": {},
     "output_type": "execute_result"
    }
   ],
   "source": [
    "[f\"The current pair is {(i,j)}\" for i in range(5) for j in range(5)]"
   ]
  },
  {
   "cell_type": "markdown",
   "metadata": {},
   "source": [
    "### Combinining and splitting iterators\n",
    "Sometimes, we need to iterate over multiple lists in a special fashion, for example over two lists in parallel or we want to compute all the combinations of elements of two lists etc.\n",
    "We can solve many ot these problems with the use of list compherensions, but sometimes there are more elegant solutions by using the [`itertools`](https://docs.python.org/3/library/itertools.html) package, a part of the python standard library.\n",
    "\n",
    "Lets see some example of problems we can solve by using these tools.\n",
    "\n",
    "- Iterating over two lists in parallel: \n",
    "    consider the two lists `numbers = [1, 2, 3, 4, 5]` and `words = [\"one\", \"two\", \"three\" , \"four\", \"five\"]`. We want to produce a list of strings consisting of the content of `numbers` and `words`, such that each number in `numbers` corresponds to the right word in `words`. We can do this by using the `zip` buil-in function:\n",
    "`zip` takes a number of `iterables` as an input and returns a list of tuples. The i-th element of this list is a tuple with the i-th element of each iterable, proceeding until the shortes iterable is exhausted. Using `zip`, we solve our problem like this:"
   ]
  },
  {
   "cell_type": "code",
   "execution_count": 11,
   "metadata": {},
   "outputs": [
    {
     "data": {
      "text/plain": [
       "['The number 1 is called one',\n",
       " 'The number 2 is called two',\n",
       " 'The number 3 is called three',\n",
       " 'The number 4 is called four',\n",
       " 'The number 5 is called five']"
      ]
     },
     "execution_count": 11,
     "metadata": {},
     "output_type": "execute_result"
    }
   ],
   "source": [
    "numbers = [1, 2, 3, 4, 5]\n",
    "words = [\"one\", \"two\", \"three\" , \"four\", \"five\"]\n",
    "[f\"The number {i} is called {j}\" for i, j in zip(numbers, words)]"
   ]
  },
  {
   "cell_type": "markdown",
   "metadata": {},
   "source": [
    "-  Producing permutations of elements.\n",
    "    Suppose we have a list containing the letters `[\"A\", \"B\", \"C\", \"D\", \"E\"]` and we want to produce all four letter words from them. We can use   `itertools.permutations`. Once again, we wrap the operation in `list` to obtain a list as output:"
   ]
  },
  {
   "cell_type": "code",
   "execution_count": 13,
   "metadata": {},
   "outputs": [
    {
     "data": {
      "text/plain": [
       "[('A', 'B', 'C', 'D'),\n",
       " ('A', 'B', 'C', 'E'),\n",
       " ('A', 'B', 'D', 'C'),\n",
       " ('A', 'B', 'D', 'E'),\n",
       " ('A', 'B', 'E', 'C'),\n",
       " ('A', 'B', 'E', 'D'),\n",
       " ('A', 'C', 'B', 'D'),\n",
       " ('A', 'C', 'B', 'E'),\n",
       " ('A', 'C', 'D', 'B'),\n",
       " ('A', 'C', 'D', 'E'),\n",
       " ('A', 'C', 'E', 'B'),\n",
       " ('A', 'C', 'E', 'D'),\n",
       " ('A', 'D', 'B', 'C'),\n",
       " ('A', 'D', 'B', 'E'),\n",
       " ('A', 'D', 'C', 'B'),\n",
       " ('A', 'D', 'C', 'E'),\n",
       " ('A', 'D', 'E', 'B'),\n",
       " ('A', 'D', 'E', 'C'),\n",
       " ('A', 'E', 'B', 'C'),\n",
       " ('A', 'E', 'B', 'D'),\n",
       " ('A', 'E', 'C', 'B'),\n",
       " ('A', 'E', 'C', 'D'),\n",
       " ('A', 'E', 'D', 'B'),\n",
       " ('A', 'E', 'D', 'C'),\n",
       " ('B', 'A', 'C', 'D'),\n",
       " ('B', 'A', 'C', 'E'),\n",
       " ('B', 'A', 'D', 'C'),\n",
       " ('B', 'A', 'D', 'E'),\n",
       " ('B', 'A', 'E', 'C'),\n",
       " ('B', 'A', 'E', 'D'),\n",
       " ('B', 'C', 'A', 'D'),\n",
       " ('B', 'C', 'A', 'E'),\n",
       " ('B', 'C', 'D', 'A'),\n",
       " ('B', 'C', 'D', 'E'),\n",
       " ('B', 'C', 'E', 'A'),\n",
       " ('B', 'C', 'E', 'D'),\n",
       " ('B', 'D', 'A', 'C'),\n",
       " ('B', 'D', 'A', 'E'),\n",
       " ('B', 'D', 'C', 'A'),\n",
       " ('B', 'D', 'C', 'E'),\n",
       " ('B', 'D', 'E', 'A'),\n",
       " ('B', 'D', 'E', 'C'),\n",
       " ('B', 'E', 'A', 'C'),\n",
       " ('B', 'E', 'A', 'D'),\n",
       " ('B', 'E', 'C', 'A'),\n",
       " ('B', 'E', 'C', 'D'),\n",
       " ('B', 'E', 'D', 'A'),\n",
       " ('B', 'E', 'D', 'C'),\n",
       " ('C', 'A', 'B', 'D'),\n",
       " ('C', 'A', 'B', 'E'),\n",
       " ('C', 'A', 'D', 'B'),\n",
       " ('C', 'A', 'D', 'E'),\n",
       " ('C', 'A', 'E', 'B'),\n",
       " ('C', 'A', 'E', 'D'),\n",
       " ('C', 'B', 'A', 'D'),\n",
       " ('C', 'B', 'A', 'E'),\n",
       " ('C', 'B', 'D', 'A'),\n",
       " ('C', 'B', 'D', 'E'),\n",
       " ('C', 'B', 'E', 'A'),\n",
       " ('C', 'B', 'E', 'D'),\n",
       " ('C', 'D', 'A', 'B'),\n",
       " ('C', 'D', 'A', 'E'),\n",
       " ('C', 'D', 'B', 'A'),\n",
       " ('C', 'D', 'B', 'E'),\n",
       " ('C', 'D', 'E', 'A'),\n",
       " ('C', 'D', 'E', 'B'),\n",
       " ('C', 'E', 'A', 'B'),\n",
       " ('C', 'E', 'A', 'D'),\n",
       " ('C', 'E', 'B', 'A'),\n",
       " ('C', 'E', 'B', 'D'),\n",
       " ('C', 'E', 'D', 'A'),\n",
       " ('C', 'E', 'D', 'B'),\n",
       " ('D', 'A', 'B', 'C'),\n",
       " ('D', 'A', 'B', 'E'),\n",
       " ('D', 'A', 'C', 'B'),\n",
       " ('D', 'A', 'C', 'E'),\n",
       " ('D', 'A', 'E', 'B'),\n",
       " ('D', 'A', 'E', 'C'),\n",
       " ('D', 'B', 'A', 'C'),\n",
       " ('D', 'B', 'A', 'E'),\n",
       " ('D', 'B', 'C', 'A'),\n",
       " ('D', 'B', 'C', 'E'),\n",
       " ('D', 'B', 'E', 'A'),\n",
       " ('D', 'B', 'E', 'C'),\n",
       " ('D', 'C', 'A', 'B'),\n",
       " ('D', 'C', 'A', 'E'),\n",
       " ('D', 'C', 'B', 'A'),\n",
       " ('D', 'C', 'B', 'E'),\n",
       " ('D', 'C', 'E', 'A'),\n",
       " ('D', 'C', 'E', 'B'),\n",
       " ('D', 'E', 'A', 'B'),\n",
       " ('D', 'E', 'A', 'C'),\n",
       " ('D', 'E', 'B', 'A'),\n",
       " ('D', 'E', 'B', 'C'),\n",
       " ('D', 'E', 'C', 'A'),\n",
       " ('D', 'E', 'C', 'B'),\n",
       " ('E', 'A', 'B', 'C'),\n",
       " ('E', 'A', 'B', 'D'),\n",
       " ('E', 'A', 'C', 'B'),\n",
       " ('E', 'A', 'C', 'D'),\n",
       " ('E', 'A', 'D', 'B'),\n",
       " ('E', 'A', 'D', 'C'),\n",
       " ('E', 'B', 'A', 'C'),\n",
       " ('E', 'B', 'A', 'D'),\n",
       " ('E', 'B', 'C', 'A'),\n",
       " ('E', 'B', 'C', 'D'),\n",
       " ('E', 'B', 'D', 'A'),\n",
       " ('E', 'B', 'D', 'C'),\n",
       " ('E', 'C', 'A', 'B'),\n",
       " ('E', 'C', 'A', 'D'),\n",
       " ('E', 'C', 'B', 'A'),\n",
       " ('E', 'C', 'B', 'D'),\n",
       " ('E', 'C', 'D', 'A'),\n",
       " ('E', 'C', 'D', 'B'),\n",
       " ('E', 'D', 'A', 'B'),\n",
       " ('E', 'D', 'A', 'C'),\n",
       " ('E', 'D', 'B', 'A'),\n",
       " ('E', 'D', 'B', 'C'),\n",
       " ('E', 'D', 'C', 'A'),\n",
       " ('E', 'D', 'C', 'B')]"
      ]
     },
     "execution_count": 13,
     "metadata": {},
     "output_type": "execute_result"
    }
   ],
   "source": [
    "import itertools\n",
    "letters = [\"A\", \"B\", \"C\", \"D\", \"E\"]\n",
    "list(itertools.permutations(letters, 4))"
   ]
  },
  {
   "cell_type": "markdown",
   "metadata": {},
   "source": [
    "Another useful trick to be aware of when working with lists is [`unpacking`](https://docs.python.org/3/tutorial/controlflow.html#tut-unpacking-arguments). In python, we can extract elements from a list using the assignment statement.  For example, if we have a two-element list, we can write"
   ]
  },
  {
   "cell_type": "code",
   "execution_count": 64,
   "metadata": {},
   "outputs": [],
   "source": [
    "a, b = [1, 2]"
   ]
  },
  {
   "cell_type": "markdown",
   "metadata": {},
   "source": [
    "and extract the two elements in the variables `a` and `b`. If you try the same statement with a three-element list you will get an error:"
   ]
  },
  {
   "cell_type": "code",
   "execution_count": 65,
   "metadata": {},
   "outputs": [
    {
     "ename": "ValueError",
     "evalue": "too many values to unpack (expected 2)",
     "output_type": "error",
     "traceback": [
      "\u001b[0;31m---------------------------------------------------------------------------\u001b[0m",
      "\u001b[0;31mValueError\u001b[0m                                Traceback (most recent call last)",
      "Cell \u001b[0;32mIn[65], line 1\u001b[0m\n\u001b[0;32m----> 1\u001b[0m a, b \u001b[39m=\u001b[39m [\u001b[39m1\u001b[39m, \u001b[39m2\u001b[39m, \u001b[39m3\u001b[39m]\n",
      "\u001b[0;31mValueError\u001b[0m: too many values to unpack (expected 2)"
     ]
    }
   ],
   "source": [
    "try:\n",
    "    a, b = [1, 2, 3]\n",
    "except ValueError:\n",
    "    print(\"It does not work\")"
   ]
  },
  {
   "cell_type": "markdown",
   "metadata": {},
   "source": [
    "However, you can extract *all remaining elements* with the star notation:"
   ]
  },
  {
   "cell_type": "code",
   "execution_count": 17,
   "metadata": {},
   "outputs": [],
   "source": [
    "a, *b = [1, 2, 3]"
   ]
  },
  {
   "cell_type": "markdown",
   "metadata": {},
   "source": [
    "If we use `*` before an argument in a function call, this will unpack the argument and pass each component to the function separately, as you can see in this example:"
   ]
  },
  {
   "cell_type": "code",
   "execution_count": 23,
   "metadata": {},
   "outputs": [
    {
     "name": "stdout",
     "output_type": "stream",
     "text": [
      "a is 1, b is 2, c is 3 \n",
      "a is 1, b is 2, c is 3 \n",
      "a is [1, 2, 3], b is [4, 5, 6], c is [5, 6, 7] \n"
     ]
    }
   ],
   "source": [
    "def print_variables(a: any, b: any, c: any):\n",
    "    print(f\"a is {a}, b is {b}, c is {c} \")\n",
    "\n",
    "print_variables(*[1, 2, 3])\n",
    "print_variables(1, 2, 3)\n",
    "print_variables(*[[1, 2, 3], [4, 5, 6], [5, 6, 7]])"
   ]
  },
  {
   "cell_type": "markdown",
   "metadata": {},
   "source": [
    "Be careful, this only works if the list/iterable you unpack is as long as the arguments you want to pass to your function."
   ]
  },
  {
   "cell_type": "markdown",
   "metadata": {},
   "source": [
    "\n",
    "\n",
    "## Exercises\n",
    "\n",
    "\n",
    "### Pure or impure functions? 🌶️\n",
    "\n",
    "For each of the functions below, determine whether they are pure or impure"
   ]
  },
  {
   "cell_type": "code",
   "execution_count": 6,
   "metadata": {},
   "outputs": [],
   "source": [
    "def fun1(a: \"list[str]\") -> None:\n",
    "    a.append(\"b\")\n",
    "\n",
    "\n",
    "def fun2(a: int) -> int:\n",
    "    return a + 2\n",
    "\n",
    "\n",
    "def fun3(a: \"dict[str, str]\"):\n",
    "    a[\"test\"] = \"dest\"\n",
    "\n"
   ]
  },
  {
   "cell_type": "markdown",
   "metadata": {},
   "source": [
    "### Keeping only multiples of n 🌶️\n",
    "\n",
    "Given a list `L` of integers, write a function that only keeps the numbers that are multiples of a given constant `k`.\n",
    "\n",
    "- Example 1: given `nums = [1, 2, 3, 4, 5]`, and `k = 2`, the result must be `[2, 4]`\n",
    "\n",
    "- Example 2: given `nums = [1, 2, 3, 4, 5, 6, 7, 8, 9, 10] ` and `k = 5`, the result is `[5, 10]`\n",
    "\n",
    "Write your function in the cell below inside of the `solution_exercise1` function. The function receives a list `l` as an input and should return another list"
   ]
  },
  {
   "cell_type": "code",
   "execution_count": 89,
   "metadata": {},
   "outputs": [],
   "source": [
    "%reload_ext tutorial.tests.testsuite\n"
   ]
  },
  {
   "cell_type": "code",
   "execution_count": 90,
   "metadata": {},
   "outputs": [
    {
     "data": {
      "text/plain": [
       "<module '__main__'>"
      ]
     },
     "execution_count": 90,
     "metadata": {},
     "output_type": "execute_result"
    },
    {
     "name": "stdout",
     "output_type": "stream",
     "text": [
      "['In', 'Out', '_', '_24', '_26', '_27', '_28', '_29', '_30', '_32', '_45', '_49', '_50', '_51', '_53', '_54', '_56', '_57', '_58', '_62', '_63', '_64', '_66', '_67', '_68', '_69', '_70', '_73', '_74', '_75', '_76', '_77', '_78', '_79', '_81', '_83', '_84', '_85', '_86', '_87', '_88', '_90', '__', '___', '__builtin__', '__builtins__', '__doc__', '__loader__', '__name__', '__package__', '__spec__', '__vsc_ipynb_file__', '_dh', '_i', '_i1', '_i10', '_i11', '_i12', '_i13', '_i14', '_i15', '_i16', '_i17', '_i18', '_i19', '_i2', '_i20', '_i21', '_i22', '_i23', '_i24', '_i25', '_i26', '_i27', '_i28', '_i29', '_i3', '_i30', '_i31', '_i32', '_i33', '_i34', '_i35', '_i36', '_i37', '_i38', '_i39', '_i4', '_i40', '_i41', '_i42', '_i43', '_i44', '_i45', '_i46', '_i47', '_i48', '_i49', '_i5', '_i50', '_i51', '_i52', '_i53', '_i54', '_i55', '_i56', '_i57', '_i58', '_i59', '_i6', '_i60', '_i61', '_i62', '_i63', '_i64', '_i65', '_i66', '_i67', '_i68', '_i69', '_i7', '_i70', '_i71', '_i72', '_i73', '_i74', '_i75', '_i76', '_i77', '_i78', '_i79', '_i8', '_i80', '_i81', '_i82', '_i83', '_i84', '_i85', '_i86', '_i87', '_i88', '_i89', '_i9', '_i90', '_ih', '_ii', '_iii', '_oh', 'exit', 'get_ipython', 'inspect', 'mod', 'open', 'os', 'quit', 'solution_exercise1', 'sys']\n",
      "\n",
      "\u001b[33m\u001b[33mno tests ran\u001b[0m\u001b[33m in 0.00s\u001b[0m\u001b[0m\n",
      "\n"
     ]
    },
    {
     "name": "stderr",
     "output_type": "stream",
     "text": [
      "\u001b[31mERROR: file or directory not found: tutorial/tests/test_<module '__main__'>.py::test_exercise1\n",
      "\u001b[0m\n"
     ]
    },
    {
     "data": {
      "text/html": [
       "<div class=\"alert alert-box alert-danger\"><h4>Tests <strong>FAILED</strong> for the function <code>exercise1</code></h4>&#x1F631 Your solution was not correct!</div>"
      ],
      "text/plain": [
       "<IPython.core.display.HTML object>"
      ]
     },
     "metadata": {},
     "output_type": "display_data"
    }
   ],
   "source": [
    "def solution_exercise1(l: \"list[int]\"):\n",
    "    return [1, 2, 3]"
   ]
  },
  {
   "cell_type": "markdown",
   "metadata": {},
   "source": [
    "### Transposing a Matrix 🌶️🌶️\n",
    "\n",
    "Consider a matrix `M` represented row-wise as a list of lists `[[1, 2, 3], [4, 5, 6], [7, 8, 8]]`.\n",
    "Write a function `transpose` that returns the transpose of `M`, the matrix obtained by exchanging rows and columns\n",
    "\n",
    "- Example 1: given `M=[[1, 0], [0, 1]]`, the result must be `[[1, 0], [0, 1]]`\n",
    "- Example 2: given `M=[[1, 2, 3], [4, 5, 6], [7, 8, 8]]` the result must be `[1, 4, 7], [2, 5, 8], [3, 6, 8]]`"
   ]
  },
  {
   "cell_type": "code",
   "execution_count": 14,
   "metadata": {},
   "outputs": [
    {
     "data": {
      "text/plain": [
       "[(1, 4, 7), (2, 5, 8), (3, 6, 8)]"
      ]
     },
     "execution_count": 14,
     "metadata": {},
     "output_type": "execute_result"
    }
   ],
   "source": [
    "def transpose(m: \"list[list[int]]\") -> \"list[list[int]]\":\n",
    "    return list(zip(*m))\n",
    "\n",
    "M=[[1, 2, 3], [4, 5, 6], [7, 8, 8]]\n",
    "transpose(M)"
   ]
  },
  {
   "cell_type": "markdown",
   "metadata": {},
   "source": [
    "### Flattening list of lists 🌶️🌶️\n",
    "\n",
    "Imagine we receive a list of lists `L` like `[[1, 2], [3, 4]]`. Write a function `flatten` that converts this list into a `flat` list like `[1, 2, 3, 4]`. \n"
   ]
  },
  {
   "cell_type": "code",
   "execution_count": 10,
   "metadata": {},
   "outputs": [
    {
     "name": "stdout",
     "output_type": "stream",
     "text": [
      "[1, 2, 3, 1, 2]\n"
     ]
    }
   ],
   "source": [
    "print(functools.reduce(lambda x,y: x + y, [[1,2,3], [1,2]]))"
   ]
  },
  {
   "cell_type": "markdown",
   "metadata": {},
   "source": [
    "### Counting initials 🌶️🌶️🌶️\n",
    "\n",
    "Given a list `W` of english words, write a function `count_initial_frequency` that counts how many words begin with each letter of the english alphabet and returns the result as a list of tuples (letter, count).\n",
    "\n",
    "You can get a list of words (as a single string separated by newlines `\\n` from [here](https://www.mit.edu/~ecprice/wordlist.10000)). The code below shows how to download this string in a variable called `words`. "
   ]
  },
  {
   "cell_type": "code",
   "execution_count": 53,
   "metadata": {},
   "outputs": [],
   "source": [
    "import requests\n",
    "words = requests.get(\"https://www.mit.edu/~ecprice/wordlist.10000\").text\n",
    "words_list = words.splitlines()\n",
    "\n",
    "\n",
    "\n"
   ]
  },
  {
   "cell_type": "code",
   "execution_count": 57,
   "metadata": {},
   "outputs": [
    {
     "name": "stdout",
     "output_type": "stream",
     "text": [
      "[('a', 720), ('b', 536), ('c', 1015), ('d', 560), ('e', 466), ('f', 432), ('g', 288), ('h', 334), ('i', 386), ('j', 127), ('k', 98), ('l', 372), ('m', 555), ('n', 231), ('o', 226), ('p', 792), ('q', 46), ('r', 581), ('s', 1005), ('t', 549), ('u', 127), ('v', 190), ('w', 288), ('x', 12), ('y', 42), ('z', 22)]\n"
     ]
    }
   ],
   "source": [
    "grouped = [(k, len(list(v))) for k, v in itertools.groupby(sorted(words_list, key = lambda x: x[0]), key = lambda x: x[0])]\n",
    "\n",
    "print(grouped)"
   ]
  },
  {
   "cell_type": "markdown",
   "metadata": {},
   "source": [
    "### Counting initials frequency 🌶️🌶️🌶️\n",
    "If you could solve the previous exercise, you now have a list `I` of the form `[('a', 20), ('b', 30), ...]`\n",
    "\n",
    "Write a function `frequency` that computes the *relative frequency* of each letter in the list. "
   ]
  },
  {
   "cell_type": "code",
   "execution_count": 60,
   "metadata": {},
   "outputs": [
    {
     "data": {
      "text/plain": [
       "[('a', 0.072),\n",
       " ('b', 0.0536),\n",
       " ('c', 0.1015),\n",
       " ('d', 0.056),\n",
       " ('e', 0.0466),\n",
       " ('f', 0.0432),\n",
       " ('g', 0.0288),\n",
       " ('h', 0.0334),\n",
       " ('i', 0.0386),\n",
       " ('j', 0.0127),\n",
       " ('k', 0.0098),\n",
       " ('l', 0.0372),\n",
       " ('m', 0.0555),\n",
       " ('n', 0.0231),\n",
       " ('o', 0.0226),\n",
       " ('p', 0.0792),\n",
       " ('q', 0.0046),\n",
       " ('r', 0.0581),\n",
       " ('s', 0.1005),\n",
       " ('t', 0.0549),\n",
       " ('u', 0.0127),\n",
       " ('v', 0.019),\n",
       " ('w', 0.0288),\n",
       " ('x', 0.0012),\n",
       " ('y', 0.0042),\n",
       " ('z', 0.0022)]"
      ]
     },
     "execution_count": 60,
     "metadata": {},
     "output_type": "execute_result"
    }
   ],
   "source": [
    "def frequency(l: \"list[(str, int)]\") -> \"list[(str, int)]\":\n",
    "    total = sum(map(lambda x: x[1], l))\n",
    "    return [(letter, freq/total) for letter, freq in l]\n",
    "frequency(grouped)"
   ]
  },
  {
   "cell_type": "markdown",
   "metadata": {},
   "source": [
    "### Finding palindromes 🌶️🌶️🌶️\n",
    "Consider again the `words` string, containing all the words separated by `\\n`. Write a function `palindromes` that returns the list of all *palindromes*. A *palindrome* is a word that reads the same left-to-right and right-to-left;\n",
    "for example:\n",
    "- rotator\n",
    "- wow\n",
    "- noon"
   ]
  },
  {
   "cell_type": "code",
   "execution_count": 63,
   "metadata": {},
   "outputs": [
    {
     "data": {
      "text/plain": [
       "['a',\n",
       " 'aa',\n",
       " 'aaa',\n",
       " 'ada',\n",
       " 'aka',\n",
       " 'ala',\n",
       " 'ana',\n",
       " 'anna',\n",
       " 'ata',\n",
       " 'b',\n",
       " 'bb',\n",
       " 'bob',\n",
       " 'boob',\n",
       " 'c',\n",
       " 'cc',\n",
       " 'civic',\n",
       " 'd',\n",
       " 'dad',\n",
       " 'dd',\n",
       " 'did',\n",
       " 'dod',\n",
       " 'dvd',\n",
       " 'e',\n",
       " 'ee',\n",
       " 'eve',\n",
       " 'eye',\n",
       " 'f',\n",
       " 'ff',\n",
       " 'g',\n",
       " 'gg',\n",
       " 'gig',\n",
       " 'h',\n",
       " 'hh',\n",
       " 'i',\n",
       " 'ii',\n",
       " 'iii',\n",
       " 'j',\n",
       " 'jj',\n",
       " 'k',\n",
       " 'l',\n",
       " 'level',\n",
       " 'lil',\n",
       " 'll',\n",
       " 'lol',\n",
       " 'm',\n",
       " 'mem',\n",
       " 'mm',\n",
       " 'mom',\n",
       " 'n',\n",
       " 'nn',\n",
       " 'non',\n",
       " 'noon',\n",
       " 'o',\n",
       " 'oo',\n",
       " 'ooo',\n",
       " 'p',\n",
       " 'pgp',\n",
       " 'php',\n",
       " 'pop',\n",
       " 'pp',\n",
       " 'psp',\n",
       " 'q',\n",
       " 'r',\n",
       " 'radar',\n",
       " 'refer',\n",
       " 'rr',\n",
       " 's',\n",
       " 'sas',\n",
       " 'sees',\n",
       " 'sms',\n",
       " 'ss',\n",
       " 'stats',\n",
       " 'sys',\n",
       " 't',\n",
       " 'tft',\n",
       " 'tit',\n",
       " 'tt',\n",
       " 'u',\n",
       " 'v',\n",
       " 'w',\n",
       " 'wow',\n",
       " 'ww',\n",
       " 'www',\n",
       " 'x',\n",
       " 'xanax',\n",
       " 'xx',\n",
       " 'xxx',\n",
       " 'y',\n",
       " 'z']"
      ]
     },
     "execution_count": 63,
     "metadata": {},
     "output_type": "execute_result"
    }
   ],
   "source": [
    "list(filter(lambda x: x == x[::-1], words_list))"
   ]
  }
 ],
 "metadata": {
  "celltoolbar": "Slideshow",
  "kernelspec": {
   "display_name": "Python 3 (ipykernel)",
   "language": "python",
   "name": "python3"
  },
  "language_info": {
   "codemirror_mode": {
    "name": "ipython",
    "version": 3
   },
   "file_extension": ".py",
   "mimetype": "text/x-python",
   "name": "python",
   "nbconvert_exporter": "python",
   "pygments_lexer": "ipython3",
   "version": "3.11.3"
  },
  "vscode": {
   "interpreter": {
    "hash": "2b2b08c237e7c74caf82ad6490346743fce9bd812859047e307c1031e538ab1c"
   }
  }
 },
 "nbformat": 4,
 "nbformat_minor": 2
}
