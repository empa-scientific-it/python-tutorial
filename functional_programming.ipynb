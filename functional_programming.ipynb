{
 "cells": [
  {
   "cell_type": "code",
   "execution_count": 2,
   "metadata": {
    "slideshow": {
     "slide_type": "skip"
    }
   },
   "outputs": [
    {
     "name": "stdout",
     "output_type": "stream",
     "text": [
      "The tutorial.tests.testsuite extension is already loaded. To reload it, use:\n",
      "  %reload_ext tutorial.tests.testsuite\n"
     ]
    }
   ],
   "source": [
    "%load_ext tutorial.tests.testsuite"
   ]
  },
  {
   "cell_type": "markdown",
   "metadata": {
    "slideshow": {
     "slide_type": "skip"
    }
   },
   "source": [
    "# Functional Programming in Python"
   ]
  },
  {
   "cell_type": "markdown",
   "metadata": {
    "slideshow": {
     "slide_type": "skip"
    }
   },
   "source": [
    "## Presentation slides\n",
    "The following section contains the slides shown during the workshop"
   ]
  },
  {
   "cell_type": "markdown",
   "metadata": {
    "slideshow": {
     "slide_type": "slide"
    }
   },
   "source": [
    "## Functional programming in python\n",
    "Why functional programming?\n",
    "- easy **reasoning*: *there are no surprises*\n",
    "- suitable for **parallel** programming\n",
    "- breaking down a large problem in smaller problems\n"
   ]
  },
  {
   "cell_type": "markdown",
   "metadata": {
    "slideshow": {
     "slide_type": "slide"
    }
   },
   "source": [
    "## The principles of functional programming\n",
    "\n",
    "- *Functions as values*\n",
    "- *Pure functions*\n",
    "- *Immutability of data*\n",
    "- *Composition*\n",
    "- *Referential  transparency*\n",
    "- *Type system*"
   ]
  },
  {
   "cell_type": "markdown",
   "metadata": {
    "slideshow": {
     "slide_type": "slide"
    }
   },
   "source": [
    "## Functions as values\n",
    "\n",
    "Functions are *objects* of the programming language.  They can be assigned and manipulated like other values:\n",
    "\n"
   ]
  },
  {
   "cell_type": "code",
   "execution_count": 2,
   "metadata": {
    "slideshow": {
     "slide_type": "subslide"
    }
   },
   "outputs": [],
   "source": [
    "\n",
    "def x()-> int:\n",
    "    return 3\n",
    "\n",
    "y = x\n",
    "\n",
    "\n"
   ]
  },
  {
   "cell_type": "markdown",
   "metadata": {
    "slideshow": {
     "slide_type": "fragment"
    }
   },
   "source": [
    "This defines a zero-argument function `x` that returns an integer.\n",
    "We then assign the value of `x` to `y` and check whether they are the same function"
   ]
  },
  {
   "cell_type": "code",
   "execution_count": 3,
   "metadata": {
    "slideshow": {
     "slide_type": "fragment"
    }
   },
   "outputs": [
    {
     "name": "stdout",
     "output_type": "stream",
     "text": [
      "True\n"
     ]
    }
   ],
   "source": [
    "print(x() == y())"
   ]
  },
  {
   "cell_type": "markdown",
   "metadata": {
    "slideshow": {
     "slide_type": "subslide"
    }
   },
   "source": [
    "Success! We see that functions are values and can be used as any other value"
   ]
  },
  {
   "cell_type": "markdown",
   "metadata": {
    "slideshow": {
     "slide_type": "slide"
    }
   },
   "source": [
    "## Higher order functions\n",
    "\n",
    "The fact that functions are values leads to the use *higher-order-functions*, which take other functions as parameter. This idiom is useful to abstract over the behavior of programs.\n",
    "\n",
    "\n"
   ]
  },
  {
   "cell_type": "markdown",
   "metadata": {
    "slideshow": {
     "slide_type": "subslide"
    }
   },
   "source": [
    "For example, `map` is used to apply a function to a list of values:"
   ]
  },
  {
   "cell_type": "code",
   "execution_count": 4,
   "metadata": {
    "slideshow": {
     "slide_type": "fragment"
    }
   },
   "outputs": [],
   "source": [
    "from IPython.display import Markdown\n",
    "import inspect\n",
    "def my_fun(a: int)-> int:\n",
    "    return a + 1\n",
    "\n",
    "input_list = list(range(10))\n",
    "result = list(map(my_fun, input_list))\n",
    "\n"
   ]
  },
  {
   "cell_type": "code",
   "execution_count": 5,
   "metadata": {
    "slideshow": {
     "slide_type": "fragment"
    }
   },
   "outputs": [
    {
     "name": "stdout",
     "output_type": "stream",
     "text": [
      "Input: [0, 1, 2, 3, 4, 5, 6, 7, 8, 9], output: [1, 2, 3, 4, 5, 6, 7, 8, 9, 10]\n"
     ]
    }
   ],
   "source": [
    "print(f\"Input: {input_list}, output: {result}\")"
   ]
  },
  {
   "cell_type": "markdown",
   "metadata": {
    "slideshow": {
     "slide_type": "subslide"
    }
   },
   "source": [
    "We can create *anonymous* functions using `lambda`. These are functions that do not have a name like in `def`. We can name them by assigning them to a variable:"
   ]
  },
  {
   "cell_type": "code",
   "execution_count": 6,
   "metadata": {
    "slideshow": {
     "slide_type": "fragment"
    }
   },
   "outputs": [],
   "source": [
    "new_fun = lambda x: x + 1"
   ]
  },
  {
   "cell_type": "code",
   "execution_count": 7,
   "metadata": {
    "slideshow": {
     "slide_type": "fragment"
    }
   },
   "outputs": [
    {
     "data": {
      "text/plain": [
       "6"
      ]
     },
     "execution_count": 7,
     "metadata": {},
     "output_type": "execute_result"
    }
   ],
   "source": [
    "new_fun(5)"
   ]
  },
  {
   "cell_type": "markdown",
   "metadata": {
    "slideshow": {
     "slide_type": "slide"
    }
   },
   "source": [
    "## Pure functions\n",
    "\n",
    "We prefer functions that have no *side-effects*: \n",
    "\n",
    "1. they do not modify the state of the program \n",
    "2. given the same input, they **always** return the same output.\n",
    "\n"
   ]
  },
  {
   "cell_type": "markdown",
   "metadata": {
    "slideshow": {
     "slide_type": "subslide"
    }
   },
   "source": [
    "This following function is not *pure* because it modifies the value of `x` every time it runs:\n"
   ]
  },
  {
   "cell_type": "code",
   "execution_count": 8,
   "metadata": {
    "scrolled": true,
    "slideshow": {
     "slide_type": "fragment"
    }
   },
   "outputs": [],
   "source": [
    "from typing import Any\n",
    "x = [1,2,3]\n",
    "def do_something(val: int) -> list[int]:\n",
    "    return x.append(val)\n",
    "\n",
    "def display_val(x: Any):\n",
    "    print(f\"{x=}, {id(x)=}\")\n"
   ]
  },
  {
   "cell_type": "code",
   "execution_count": 9,
   "metadata": {
    "slideshow": {
     "slide_type": "fragment"
    }
   },
   "outputs": [
    {
     "name": "stdout",
     "output_type": "stream",
     "text": [
      "x=[1, 2, 3], id(x)=140510397969920\n",
      "x=[1, 2, 3, 1], id(x)=140510397969920\n",
      "x=[1, 2, 3, 1, 2], id(x)=140510397969920\n"
     ]
    }
   ],
   "source": [
    "display_val(x)\n",
    "do_something(1)\n",
    "display_val(x)\n",
    "do_something(2)\n",
    "display_val(x)"
   ]
  },
  {
   "cell_type": "markdown",
   "metadata": {
    "slideshow": {
     "slide_type": "subslide"
    }
   },
   "source": [
    "`id(x)` returns the memory address of a variable. If it does not change, it means the variable refers to the same object. This is the case here, therefore we proved that `do_something` is not *pure*."
   ]
  },
  {
   "cell_type": "markdown",
   "metadata": {
    "slideshow": {
     "slide_type": "slide"
    }
   },
   "source": [
    "## Immutable Data\n",
    "\n",
    "Whenever possible, we avoid *mutating* data, as mutation is a type of *side-effect* and leads to unexpected behavior. \n",
    "\n",
    "\n"
   ]
  },
  {
   "cell_type": "markdown",
   "metadata": {
    "slideshow": {
     "slide_type": "fragment"
    }
   },
   "source": [
    "- When a variable is defined, its value **remains constant for the duration of the program execution**.\n",
    "\n",
    "- This makes it easier to reason about the flow of our program. "
   ]
  },
  {
   "cell_type": "markdown",
   "metadata": {
    "slideshow": {
     "slide_type": "subslide"
    }
   },
   "source": [
    "For example, instead of inserting an element in an existing list as we did before, we create a new list by combining the old list with the new element:"
   ]
  },
  {
   "cell_type": "code",
   "execution_count": 10,
   "metadata": {
    "slideshow": {
     "slide_type": "fragment"
    }
   },
   "outputs": [
    {
     "name": "stdout",
     "output_type": "stream",
     "text": [
      "x=[1, 2, 3]\n",
      "Appending\n",
      "x=[1, 2, 3]\n",
      "y=[1, 2, 3, 4]\n"
     ]
    }
   ],
   "source": [
    "x = [1, 2, 3]\n",
    "print(f\"{x=}\")\n",
    "y = x + [4,]\n",
    "print(\"Appending\")\n",
    "print(f\"{x=}\")\n",
    "print(f\"{y=}\")"
   ]
  },
  {
   "cell_type": "markdown",
   "metadata": {
    "slideshow": {
     "slide_type": "fragment"
    }
   },
   "source": [
    "As you can see, the value of `x` does not change when we create `y`. This is in contrast to the previous example."
   ]
  },
  {
   "cell_type": "markdown",
   "metadata": {
    "slideshow": {
     "slide_type": "slide"
    }
   },
   "source": [
    "## List comprehensions\n",
    "Immutability of data in python is frequently expressed using *comprehensions*.\n",
    "These are for-like expressions that operate on iterables and produce *values* instead of modifying existing variables (no side effects).\n",
    "\n"
   ]
  },
  {
   "cell_type": "markdown",
   "metadata": {
    "slideshow": {
     "slide_type": "subslide"
    }
   },
   "source": [
    "To see how this works, let's first look at an example of *mutation*: we want to produce a list of the first 10 squares:"
   ]
  },
  {
   "cell_type": "code",
   "execution_count": 11,
   "metadata": {
    "slideshow": {
     "slide_type": "fragment"
    }
   },
   "outputs": [
    {
     "name": "stdout",
     "output_type": "stream",
     "text": [
      "a=[0], id(a)=140510397970816\n",
      "a=[0, 1], id(a)=140510397970816\n",
      "a=[0, 1, 4], id(a)=140510397970816\n",
      "a=[0, 1, 4, 9], id(a)=140510397970816\n",
      "a=[0, 1, 4, 9, 16], id(a)=140510397970816\n",
      "a=[0, 1, 4, 9, 16, 25], id(a)=140510397970816\n",
      "a=[0, 1, 4, 9, 16, 25, 36], id(a)=140510397970816\n",
      "a=[0, 1, 4, 9, 16, 25, 36, 49], id(a)=140510397970816\n",
      "a=[0, 1, 4, 9, 16, 25, 36, 49, 64], id(a)=140510397970816\n",
      "a=[0, 1, 4, 9, 16, 25, 36, 49, 64, 81], id(a)=140510397970816\n"
     ]
    }
   ],
   "source": [
    "#We define an empty list\n",
    "a = []\n",
    "#range(n) creates an iterable from 0,...,n\n",
    "for i in range(10):\n",
    "    #We append the current square to the existing list\n",
    "    a.append(i**2)\n",
    "    print(f\"{a=}, {id(a)=}\")"
   ]
  },
  {
   "cell_type": "markdown",
   "metadata": {
    "slideshow": {
     "slide_type": "fragment"
    }
   },
   "source": [
    "`id(a)` returns the memory *location* of `a`. As you can see, we modify the contents of `a` over the for loop: a always refers to the same location in the memory and therefore to the same object.\n",
    "\n",
    "Let's rewrite this using a compherension and see what happens:"
   ]
  },
  {
   "cell_type": "code",
   "execution_count": 12,
   "metadata": {
    "slideshow": {
     "slide_type": "subslide"
    }
   },
   "outputs": [
    {
     "name": "stdout",
     "output_type": "stream",
     "text": [
      "a=[0, 1, 2, 3, 4, 5, 6, 7, 8, 9], id(a)=140510395940288\n",
      "b=[0, 1, 4, 9, 16, 25, 36, 49, 64, 81], id(b)=140510395940480\n",
      "a=[0, 1, 2, 3, 4, 5, 6, 7, 8, 9], id(a)=140510395940288\n"
     ]
    }
   ],
   "source": [
    "#range(n) creates an iterable from 0,...,n\n",
    "a = [i for i in range(10)]\n",
    "print(f\"{a=}, {id(a)=}\")\n",
    "b = [i**2 for i in a]\n",
    "print(f\"{b=}, {id(b)=}\")\n",
    "print(f\"{a=}, {id(a)=}\")"
   ]
  },
  {
   "cell_type": "markdown",
   "metadata": {
    "slideshow": {
     "slide_type": "fragment"
    }
   },
   "source": [
    "We see that the second expression produced a *new list* that we assigned  to `b`. The value of `a` remained unchanged."
   ]
  },
  {
   "cell_type": "markdown",
   "metadata": {
    "slideshow": {
     "slide_type": "slide"
    }
   },
   "source": [
    "## Composition\n",
    "We build our programs by *composing* many simple functions togehter.\n",
    "\n",
    "Why:\n"
   ]
  },
  {
   "cell_type": "markdown",
   "metadata": {
    "slideshow": {
     "slide_type": "fragment"
    }
   },
   "source": [
    "- It is easier to fix simple functions\n",
    "- It is easier to optimise the program\n",
    "- Single responbiility: every function only does one job\n",
    "- ...\n",
    "\n",
    "How do we do this?"
   ]
  },
  {
   "cell_type": "code",
   "execution_count": 13,
   "metadata": {
    "slideshow": {
     "slide_type": "subslide"
    }
   },
   "outputs": [],
   "source": [
    "# This is not ideal\n",
    "def stupid_long_function(x: int) -> int:\n",
    "    x1 = x + 2\n",
    "    x2 = x1 - 4\n",
    "    x3 = x2**2\n",
    "    return x3"
   ]
  },
  {
   "cell_type": "markdown",
   "metadata": {
    "slideshow": {
     "slide_type": "subslide"
    }
   },
   "source": [
    "Instead of running all computation in a single long function, we can do better by *composing* many small functions.\n",
    " "
   ]
  },
  {
   "cell_type": "code",
   "execution_count": 14,
   "metadata": {
    "slideshow": {
     "slide_type": "subslide"
    }
   },
   "outputs": [],
   "source": [
    "def f1(x: int) -> int:\n",
    "    return x + 2\n",
    "\n",
    "def f2(x: int) -> int:\n",
    "    return x - 4\n",
    "\n",
    "def f3(x: int) -> int:\n",
    "    return x ** 2\n",
    "\n",
    "# `better_function` is the \"composition\" of f3, f2, f1\n",
    "better_function = lambda x: f3(f2(f1(x)))\n",
    "\n"
   ]
  },
  {
   "cell_type": "code",
   "execution_count": 15,
   "metadata": {
    "slideshow": {
     "slide_type": "fragment"
    }
   },
   "outputs": [
    {
     "data": {
      "text/plain": [
       "True"
      ]
     },
     "execution_count": 15,
     "metadata": {},
     "output_type": "execute_result"
    }
   ],
   "source": [
    "better_function(3) == stupid_long_function(3)"
   ]
  },
  {
   "cell_type": "markdown",
   "metadata": {
    "slideshow": {
     "slide_type": "subslide"
    }
   },
   "source": [
    "Instead of writing a long function, we broke it down into smaller functions and reconstructed it by composing them together. "
   ]
  },
  {
   "cell_type": "markdown",
   "metadata": {
    "slideshow": {
     "slide_type": "slide"
    }
   },
   "source": [
    "## Referential transparency\n",
    "This sounds scary, but it simply means that whenever we see a function call (or any expression), we can subsitute it with the value of the function.\n",
    "\n",
    "This is the essence of functional programming: *there are no surprises*. We can reason about the flow of our program \n",
    "\n",
    "Consider this example:"
   ]
  },
  {
   "cell_type": "code",
   "execution_count": 16,
   "metadata": {
    "slideshow": {
     "slide_type": "subslide"
    }
   },
   "outputs": [
    {
     "name": "stdout",
     "output_type": "stream",
     "text": [
      "y1=6\n",
      "y2=6\n"
     ]
    }
   ],
   "source": [
    "\n",
    "def fun(x: int) -> int:\n",
    "    return x + 2\n",
    "\n",
    "y1 = fun(1) + 3\n",
    "\n",
    "\n",
    "x_out = fun(1)\n",
    "y2 = x_out + 3\n",
    "\n",
    "print(f\"{y1=}\")\n",
    "print(f\"{y2=}\")\n"
   ]
  },
  {
   "cell_type": "markdown",
   "metadata": {
    "slideshow": {
     "slide_type": "subslide"
    }
   },
   "source": [
    "We see that `x` is indeed referentially transparent. Now, look at another example:"
   ]
  },
  {
   "cell_type": "code",
   "execution_count": 17,
   "metadata": {
    "slideshow": {
     "slide_type": "subslide"
    }
   },
   "outputs": [],
   "source": [
    "import random\n",
    "def x2() -> int:\n",
    "    #This generates a random integer between 0 and 10\n",
    "    return random.randint(0, 10)\n",
    "\n",
    "# This \"captures\" the expression x() + 3 without computing its value by defining an \"anonymous function\"\n",
    "# We get the value by calling y1()\n",
    "y1 = lambda : x2() + 3\n",
    "\n",
    "\n",
    "\n"
   ]
  },
  {
   "cell_type": "code",
   "execution_count": 18,
   "metadata": {
    "slideshow": {
     "slide_type": "fragment"
    }
   },
   "outputs": [
    {
     "name": "stdout",
     "output_type": "stream",
     "text": [
      "y1()=13\n",
      "y1()=4\n"
     ]
    }
   ],
   "source": [
    "print(f\"{y1()=}\")\n",
    "print(f\"{y1()=}\")"
   ]
  },
  {
   "cell_type": "markdown",
   "metadata": {
    "slideshow": {
     "slide_type": "fragment"
    }
   },
   "source": [
    "This is *not*. Every time we call `x2`, we get a different (random) value. \n",
    "\n"
   ]
  },
  {
   "cell_type": "markdown",
   "metadata": {
    "slideshow": {
     "slide_type": "subslide"
    }
   },
   "source": [
    "In general, any expression containing a *combination of pure functions* and no side-effect is referentially transparent. We try to write our programs by composing referentially transparent functions as much as possible.\n",
    "\n",
    "Why:\n",
    "- We can reason about the program flow\n",
    "- Compilers and other tools can reason for us and help finding errors\n",
    "- It is easier to optimise our programs"
   ]
  },
  {
   "cell_type": "markdown",
   "metadata": {
    "slideshow": {
     "slide_type": "slide"
    }
   },
   "source": [
    "## Type system\n",
    "\n",
    "A typical trait of (modern) functional programming, is the heavy use of the *type system*.\n",
    "This provides a set of rules to classify expression and values in the language into classes called *types*.\n",
    "You encountered some basic types in the introduction, for example `int`, `str` or `float`.\n"
   ]
  },
  {
   "cell_type": "markdown",
   "metadata": {
    "slideshow": {
     "slide_type": "subslide"
    }
   },
   "source": [
    "We use type systems to enforce constraints and invariants in our program:\n",
    "\n",
    "- *Making illegal states unrepresentable*\n",
    "- Making sure we pass the right input to functions\n",
    "- Checking if we wrote a valid program before it runs\n",
    "\n"
   ]
  },
  {
   "cell_type": "markdown",
   "metadata": {
    "slideshow": {
     "slide_type": "subslide"
    }
   },
   "source": [
    "Modern (3.6+) python allows using *type annotation* to mark the type of values, function parameters and class members.\n",
    "\n",
    "For example:\n",
    "\n",
    "```\n",
    "def fun(a: int) -> str:\n",
    "    return f\"{a}\"\n",
    "```\n",
    "\n",
    "means that `fun` takes integer values and returns strings. Python *does not enforce* this constraint. There are tools however, which can be used to check the conistency of types in a python program."
   ]
  },
  {
   "cell_type": "markdown",
   "metadata": {
    "slideshow": {
     "slide_type": "subslide"
    }
   },
   "source": [
    "For example, instead of doing:"
   ]
  },
  {
   "cell_type": "code",
   "execution_count": 19,
   "metadata": {
    "slideshow": {
     "slide_type": "fragment"
    }
   },
   "outputs": [],
   "source": [
    "\n",
    "def greet(name: str, age: int):\n",
    "    print(f\"Hello {name}, you are {age} years old\")\n",
    "    \n"
   ]
  },
  {
   "cell_type": "code",
   "execution_count": 20,
   "metadata": {
    "slideshow": {
     "slide_type": "fragment"
    }
   },
   "outputs": [
    {
     "name": "stdout",
     "output_type": "stream",
     "text": [
      "Hello Simone, you are 34 years old\n"
     ]
    }
   ],
   "source": [
    "greet(\"Simone\", 34)"
   ]
  },
  {
   "cell_type": "markdown",
   "metadata": {
    "slideshow": {
     "slide_type": "subslide"
    }
   },
   "source": [
    "Because python lacks static type checking, we can do absurd things:"
   ]
  },
  {
   "cell_type": "code",
   "execution_count": 21,
   "metadata": {
    "slideshow": {
     "slide_type": "fragment"
    }
   },
   "outputs": [
    {
     "name": "stdout",
     "output_type": "stream",
     "text": [
      "Hello Simone, you are age years old\n"
     ]
    }
   ],
   "source": [
    "greet(\"Simone\", \"age\")"
   ]
  },
  {
   "cell_type": "markdown",
   "metadata": {
    "slideshow": {
     "slide_type": "fragment"
    }
   },
   "source": [
    "We can do better:"
   ]
  },
  {
   "cell_type": "code",
   "execution_count": 22,
   "metadata": {
    "slideshow": {
     "slide_type": "subslide"
    }
   },
   "outputs": [],
   "source": [
    "\n",
    "#This defines a simple class with some helper methods and validations\n",
    "class Person:\n",
    "    name: str\n",
    "    age: int\n",
    "    def __init__(self, name: str, age: int):\n",
    "        if not isinstance(name, str) or not isinstance(age, int):\n",
    "            raise ValueError(\"Invalid input\")\n",
    "        self.age = age\n",
    "        self.name = name\n",
    "\n",
    "def greet_better(person: Person):\n",
    "    print(f\"Hello {person.name}, you are {person.age} years old\")\n"
   ]
  },
  {
   "cell_type": "code",
   "execution_count": 23,
   "metadata": {
    "slideshow": {
     "slide_type": "fragment"
    }
   },
   "outputs": [
    {
     "name": "stdout",
     "output_type": "stream",
     "text": [
      "Hello Simone, you are 34 years old\n",
      "Ooops, it does not work\n"
     ]
    }
   ],
   "source": [
    "greet(\"Simone\", 34)\n",
    "try:\n",
    "    greet_better(Person(\"Simone\", \"d\"))\n",
    "except:\n",
    "    print(\"Ooops, it does not work\")"
   ]
  },
  {
   "cell_type": "markdown",
   "metadata": {
    "slideshow": {
     "slide_type": "skip"
    }
   },
   "source": [
    "## Writeup\n",
    "\n",
    "## References\n",
    "Here are some additional references to help you in self-learning. Next to each link, we write if this is a video, text or another type of material\n",
    "\n",
    "- The [functools reference](https://docs.python.org/3/library/functools.html) from the python standard library (text)\n",
    "- The [itertools reference](https://docs.python.org/3/library/itertools.html) from the python standard library (text)\n",
    "- [Functional programming howto](https://docs.python.org/3/library/functools.html) from the python documentation\n",
    "- A [good, but old introduction](https://www.youtube.com/watch?v=Ta1bAMOMFOI) of functional programming (video)\n",
    "- A [very high level](https://www.youtube.com/watch?v=Qa8IfEeBJqk) introduction of functional programming (video, advanced). Interesting, but not python-specific as it refers to Haskell\n",
    "- A [general introduction on functional programming](https://www.youtube.com/watch?v=8z_bUIl_uPo). Very worth watching as it uses python for the examples (video)\n",
    "- [Principles of functional programming](https://dev.to/jamesrweb/principles-of-functional-programming-4b7c)\n",
    "\n",
    "\n",
    "\n",
    "## Introduction\n",
    "Functional programming is an approach to programming where programs are built by composing and running functions that perform a series of transformation on data. This is in contrast with the common approach of *imperative programming*, where programs are written as series of statements which modify the *state* of the computation environment. Normally within functional programming, great focus is placed on *composability*, *immutability* and  *purity*. We are going to define these terms in more detail later.\n",
    "## Why Functional Programming\n",
    "Why do we choose functional programming? There are a series of advantages to this approach, namely:\n",
    "- **Debugging** and **testing** are easy: there are no surprises because every function only does one thing and does not affect any other piece of the program.\n",
    "- **Parallelisation** is trivial: because functions are just small boxes that take one input and produce an output and do not depend on other parts of the code in an implicit manner through global variables or other shared pieces of state, it is easy to make several functions run in parallel.\n",
    "## The basic principles of functional programming\n",
    "All modern programming languages have *functions* (or methods, procedures, subroutines, subprograms); these are groups of program statements that perform a certain computation. Functions are defined once for the whole program and can be reused at will throughout the program whenever we need to perform the specific computation they are defined for. Using functions, we can split our code in smaller units that are only responsible for a specific *functionality*; this helps us structuring our code in a clean and understandable form. \n",
    "\n",
    "The main principles we use in functional programming are:\n",
    "- *purity*\n",
    "- *functions as values* (*higher order functions*)\n",
    "- *immutability of data*\n",
    "- *composition*\n",
    "- *referential transparency*\n",
    "\n",
    "In the next few sections, we are going to briefly explore these concepts with some examples."
   ]
  },
  {
   "cell_type": "code",
   "execution_count": null,
   "metadata": {},
   "outputs": [],
   "source": []
  },
  {
   "cell_type": "markdown",
   "metadata": {
    "slideshow": {
     "slide_type": "notes"
    }
   },
   "source": [
    "\n",
    "### Pure Functions (Purity)\n",
    "In functional programming, we try to strive for *purity*, that is we want to define and use functions that only depend on their input, always return the same output for the same inputs and do not have any *side effects*, that is they do not indirectly affect any other part of our program. You can think of these functions as mathematical functions. \n",
    "Other examples of side effects are:\n",
    "- printing to the program output\n",
    "- reading or writing files\n",
    "- generating and using random numbers\n",
    "To better understand this concept, let us look at the function `my_first_pure_function` we defined below:\n"
   ]
  },
  {
   "cell_type": "code",
   "execution_count": null,
   "metadata": {},
   "outputs": [],
   "source": []
  },
  {
   "cell_type": "code",
   "execution_count": 24,
   "metadata": {
    "slideshow": {
     "slide_type": "notes"
    }
   },
   "outputs": [],
   "source": [
    "def my_first_pure_function(x: int) -> int: \n",
    "    return x + 1"
   ]
  },
  {
   "cell_type": "markdown",
   "metadata": {
    "slideshow": {
     "slide_type": "notes"
    }
   },
   "source": [
    "&#x1F600\n",
    "Is this a pure function?\n",
    "As you could probably imagine, this function is pure. Any time we run it, we get the same  result and running the function does not affect any other part of our program:"
   ]
  },
  {
   "cell_type": "code",
   "execution_count": 25,
   "metadata": {
    "slideshow": {
     "slide_type": "notes"
    }
   },
   "outputs": [
    {
     "name": "stdout",
     "output_type": "stream",
     "text": [
      "x is 1\n",
      "The result of calling the function is 2\n",
      "x is 1\n",
      "The result of calling the function is 2\n",
      "x is 1\n"
     ]
    }
   ],
   "source": [
    "x = 1\n",
    "print(f\"x is {x}\")\n",
    "print(f\"The result of calling the function is {my_first_pure_function(1)}\")\n",
    "print(f\"x is {x}\")\n",
    "print(f\"The result of calling the function is {my_first_pure_function(1)}\")\n",
    "print(f\"x is {x}\")"
   ]
  },
  {
   "cell_type": "markdown",
   "metadata": {
    "slideshow": {
     "slide_type": "notes"
    }
   },
   "source": [
    "As a rule of thumb, any function that does not modify variables outside of its *scope* and only uses mathematical functions is a pure function.\n",
    "Now, consider this function instead:"
   ]
  },
  {
   "cell_type": "code",
   "execution_count": 26,
   "metadata": {
    "slideshow": {
     "slide_type": "notes"
    }
   },
   "outputs": [],
   "source": [
    "x = [\"short\", \"list\"] \n",
    "def do_something(y: str) -> None:\n",
    "    x.append(y)"
   ]
  },
  {
   "cell_type": "markdown",
   "metadata": {
    "slideshow": {
     "slide_type": "notes"
    }
   },
   "source": [
    "Is this function pure? \n",
    "\n",
    "Let's try and run it. "
   ]
  },
  {
   "cell_type": "code",
   "execution_count": 27,
   "metadata": {
    "slideshow": {
     "slide_type": "notes"
    }
   },
   "outputs": [
    {
     "name": "stdout",
     "output_type": "stream",
     "text": [
      "['short', 'list']\n",
      "['short', 'list', 'a']\n"
     ]
    }
   ],
   "source": [
    "print(x)\n",
    "do_something(\"a\")\n",
    "print(x)"
   ]
  },
  {
   "cell_type": "markdown",
   "metadata": {
    "slideshow": {
     "slide_type": "notes"
    }
   },
   "source": [
    "As you see from the output, the function modified the list `x`. Therefore, this function is not pure. This leads us to the next principle, **immutability**.\n",
    "\n",
    "### Immutability\n",
    "When writing programs in functional style, we usually avoid functions like `do_something`. Instead of modifying existing data (*mutation*), you write functions that transform your data and return new objects.\n",
    "In the case of the function above, we would rewrite it as follows:\n"
   ]
  },
  {
   "cell_type": "code",
   "execution_count": 28,
   "metadata": {
    "slideshow": {
     "slide_type": "notes"
    }
   },
   "outputs": [
    {
     "name": "stdout",
     "output_type": "stream",
     "text": [
      "['short', 'list']\n",
      "['short', 'list', 'a']\n",
      "['short', 'list']\n"
     ]
    }
   ],
   "source": [
    "x = [\"short\", \"list\"] \n",
    "def do_something_immutable(x: \"list[str]\", y: str) -> \"list[str]\":\n",
    "    return x + [y]\n",
    "\n",
    "print(x)\n",
    "print(do_something_immutable(x, \"a\"))\n",
    "print(x)"
   ]
  },
  {
   "cell_type": "markdown",
   "metadata": {
    "slideshow": {
     "slide_type": "notes"
    }
   },
   "source": [
    "The output shows that `do_something_immutable` does not change `x`. It also does not reference to `x` outside of the scope but takes it as an argument. Instead of modfying the original `x` list, it returns a new list. When we want to keep immutability, this is the style we work with. If we adopt this style, it is easier to reason about the flow of our program as there are no variable that are being modified *at distance* by other function calls."
   ]
  },
  {
   "cell_type": "markdown",
   "metadata": {
    "slideshow": {
     "slide_type": "notes"
    }
   },
   "source": [
    "### Composition\n",
    "Another important aspect of functional programming is `composition`. This means that whenever we want to perform multiple operations, we avoid writing intermediate variables, especially so when these are in the global state of the program.\n",
    "\n",
    "Instead, we design our functions in such a way that one functions output can be directly fed into the next function.\n",
    "\n",
    "Additionally, --but this is not as useful in python-- we use the associative property of function application:\n",
    "\n",
    "```\n",
    "f(g(h)) = f . g (h)\n",
    "```\n",
    "where we use the `.` to express the composition of functions.\n",
    "\n",
    "In python, we can do this using a `lambda` expression:\n",
    "\n"
   ]
  },
  {
   "cell_type": "code",
   "execution_count": 29,
   "metadata": {},
   "outputs": [
    {
     "name": "stdout",
     "output_type": "stream",
     "text": [
      "fg(4)=16, f(g(4))=16\n"
     ]
    }
   ],
   "source": [
    "def f(x: int) -> int:\n",
    "    return x + 4\n",
    "\n",
    "def g(x: int) -> int:\n",
    "    return x * 3\n",
    "\n",
    "fg = lambda x: f(g(x))\n",
    "\n",
    "print(f\"{fg(4)=}, {f(g(4))=}\")"
   ]
  },
  {
   "cell_type": "markdown",
   "metadata": {},
   "source": [
    "In this way, we can break down a complex calculation in a series of simpler calculations. This is useful for many things:\n",
    "\n",
    "- It is easier to find problems in a smaller function\n",
    "- We do our work only once: every time we need the same action, we just call the same function"
   ]
  },
  {
   "cell_type": "markdown",
   "metadata": {
    "slideshow": {
     "slide_type": "notes"
    }
   },
   "source": [
    "### Higher Order Functions / Functions as Values\n",
    "Another important principle of functional programming is that **functions are values**. In programming languages (like python) that support a functional style, we can manipulate functions with the language, we can pass them around in a variable and even use functions as parameters for another function.\n",
    "\n",
    "As an example, consider the function `function_caller`:\n",
    "\n"
   ]
  },
  {
   "cell_type": "code",
   "execution_count": 30,
   "metadata": {
    "slideshow": {
     "slide_type": "notes"
    }
   },
   "outputs": [],
   "source": [
    "from typing import Callable, Any\n",
    "def function_caller(f: Callable[[Any], Any], arg: Any) -> Any:\n",
    "    print(f\"Calling the function {f} with argument {arg}\")\n",
    "    res = f(arg)\n",
    "    print(f\"The result of the call was {res}\")\n",
    "    return res"
   ]
  },
  {
   "cell_type": "markdown",
   "metadata": {
    "slideshow": {
     "slide_type": "notes"
    }
   },
   "source": [
    "This function takes a function `f` and its argument `args` as input and return the result of calling the function, while additionally printing a message on the standard output of the program. Let's try this out.\n",
    "To do so, we define a new function `add_five`:"
   ]
  },
  {
   "cell_type": "code",
   "execution_count": 31,
   "metadata": {
    "slideshow": {
     "slide_type": "notes"
    }
   },
   "outputs": [],
   "source": [
    "def add_five(x: int) -> int:\n",
    "    return x + 5"
   ]
  },
  {
   "cell_type": "markdown",
   "metadata": {
    "slideshow": {
     "slide_type": "notes"
    }
   },
   "source": [
    "Now we can call `function_caller` with `add_five` and another number as arguments:"
   ]
  },
  {
   "cell_type": "code",
   "execution_count": 32,
   "metadata": {
    "slideshow": {
     "slide_type": "notes"
    }
   },
   "outputs": [
    {
     "name": "stdout",
     "output_type": "stream",
     "text": [
      "Calling the function <function add_five at 0x7fcb203d80e0> with argument 4\n",
      "The result of the call was 9\n"
     ]
    },
    {
     "data": {
      "text/plain": [
       "9"
      ]
     },
     "execution_count": 32,
     "metadata": {},
     "output_type": "execute_result"
    }
   ],
   "source": [
    "function_caller(add_five, 4)"
   ]
  },
  {
   "cell_type": "markdown",
   "metadata": {
    "slideshow": {
     "slide_type": "notes"
    }
   },
   "source": [
    "This example was a bit convoluted, but it shows that in python we can use functions as values and even pass them as arguments to other functions.\n",
    "\n",
    "This is actually useful in many cases; a typical example being numerical optimization, where we want to find the parameters to a function that minimize a certain criteria.\n",
    "\n",
    "Other than these specific use cases, there are some common *higher order functions*  (HoF), or functions that take functions as parameters that are common in most programming languages.  We will look at a few in the next section.\n",
    "\n"
   ]
  },
  {
   "cell_type": "markdown",
   "metadata": {
    "slideshow": {
     "slide_type": "notes"
    }
   },
   "source": [
    "### Referential transparency\n",
    "The last principle we like to discuss is (*referential transparency*)[https://en.wikipedia.org/wiki/Referential_transparency]. This complex-sounding name simply means that we can replace any expression with its value without changing the behavior of the program.\n",
    "Consider this program:"
   ]
  },
  {
   "cell_type": "code",
   "execution_count": 33,
   "metadata": {
    "slideshow": {
     "slide_type": "notes"
    }
   },
   "outputs": [
    {
     "data": {
      "text/plain": [
       "True"
      ]
     },
     "execution_count": 33,
     "metadata": {},
     "output_type": "execute_result"
    }
   ],
   "source": [
    "def x() -> int:\n",
    "    return 5\n",
    "\n",
    "y1 = x() + 5\n",
    "y2 = x() + 5\n",
    "\n",
    "x() + 5 == y1\n",
    "\n",
    "y1 == y2\n"
   ]
  },
  {
   "cell_type": "markdown",
   "metadata": {
    "slideshow": {
     "slide_type": "notes"
    }
   },
   "source": [
    "If `x` is referentially transparent, we can replace its value in the expression `y1 = x() + 5` and we obtain the same value. In other words, the value of `y` does not change if we execute it again, as shown in the code above: we have two expressions `y1` and `y2` that use the same code and because `x` is referentially transparent, \n",
    "their value is equal.\n",
    "\n",
    "In this case, this is true because the value of `x()` is simply 5 and is invariant.\n",
    "\n",
    "However, consider this counterexample:\n"
   ]
  },
  {
   "cell_type": "code",
   "execution_count": 34,
   "metadata": {
    "slideshow": {
     "slide_type": "notes"
    }
   },
   "outputs": [
    {
     "data": {
      "text/plain": [
       "False"
      ]
     },
     "execution_count": 34,
     "metadata": {},
     "output_type": "execute_result"
    }
   ],
   "source": [
    "#This is used to generate random number\n",
    "import random\n",
    "def x() -> int:\n",
    "    return random.randint(0, 10)\n",
    "\n",
    "\n",
    "# With lamba we capture the expression x() + 5 in a function,\n",
    "# we get its value when we call it like a function\n",
    "y1 = lambda: x() + 5\n",
    "\n",
    "y2 = lambda: x() + 5\n",
    "\n",
    "y1() == y2()"
   ]
  },
  {
   "cell_type": "markdown",
   "metadata": {
    "slideshow": {
     "slide_type": "notes"
    }
   },
   "source": [
    "in this case, because the function returns a different random number every time we call it, the expression `y1` has a different *value* compared to `y2` even though they both have the same *form*."
   ]
  },
  {
   "cell_type": "markdown",
   "metadata": {
    "slideshow": {
     "slide_type": "notes"
    }
   },
   "source": [
    "\n",
    "\n",
    "## Mapping / Iteration \n",
    "\n",
    "In this section, we will look at the application of some of the principles stated above in python. An important application of functional programming in python is the manipulation of iterables and lists. \n",
    "\n",
    "### Using map and filter\n",
    "\n",
    "Python offers the `map` function which can be used to apply a given function to all members of an `iterable`. Do not worry too much about what an `iterable` exactly is, just see it as a generalisation of a list, representing all objects that we can `iterate` over, accessing their values one by one. Let's see an example of `map` using the `add_five` function:"
   ]
  },
  {
   "cell_type": "code",
   "execution_count": 35,
   "metadata": {
    "slideshow": {
     "slide_type": "notes"
    }
   },
   "outputs": [
    {
     "data": {
      "text/plain": [
       "<map at 0x7fcb203c5ba0>"
      ]
     },
     "execution_count": 35,
     "metadata": {},
     "output_type": "execute_result"
    }
   ],
   "source": [
    "map(add_five, [1,2,3,4])"
   ]
  },
  {
   "cell_type": "markdown",
   "metadata": {
    "slideshow": {
     "slide_type": "notes"
    }
   },
   "source": [
    "The output is a bit confusing! The reason is that `map` does not return a list but a [map](https://docs.python.org/3/library/functions.html#map) object. This object is `lazy`, that means that the values are only generated when we access them, for example by iterating over the `map` object. \n",
    "Fortunately, we can easily convert this into a list by calling the `list` function:"
   ]
  },
  {
   "cell_type": "code",
   "execution_count": 36,
   "metadata": {
    "slideshow": {
     "slide_type": "notes"
    }
   },
   "outputs": [
    {
     "data": {
      "text/plain": [
       "[6, 7, 8, 9]"
      ]
     },
     "execution_count": 36,
     "metadata": {},
     "output_type": "execute_result"
    }
   ],
   "source": [
    "list(map(add_five, [1,2,3,4]))"
   ]
  },
  {
   "cell_type": "markdown",
   "metadata": {
    "slideshow": {
     "slide_type": "notes"
    }
   },
   "source": [
    "This is equivalent to using a for loop:\n"
   ]
  },
  {
   "cell_type": "code",
   "execution_count": 37,
   "metadata": {
    "slideshow": {
     "slide_type": "notes"
    }
   },
   "outputs": [
    {
     "name": "stdout",
     "output_type": "stream",
     "text": [
      "[6, 7, 8, 9]\n"
     ]
    }
   ],
   "source": [
    "a = []\n",
    "for i in [1,2,3,4]:\n",
    "    a.append(add_five(i))\n",
    "print(a)"
   ]
  },
  {
   "cell_type": "markdown",
   "metadata": {
    "slideshow": {
     "slide_type": "notes"
    }
   },
   "source": [
    "However, as you can see this former style is not very functional because we mutate an existing list `a` by appending the results of calling `add_five` to it. We will see later that python offers a syntax called *list comprehension* to express this operation in a more functional style.\n",
    "`map` is very useful when we want to apply the same functions to a list of parameters and we do not want to write a `for` loop. It makes for more coincise code, while sacrificing some readability. "
   ]
  },
  {
   "cell_type": "markdown",
   "metadata": {
    "slideshow": {
     "slide_type": "notes"
    }
   },
   "source": [
    "#### Filtering\n",
    "Another basic higher order function is `filter`. As the name says, this function is used to filter an `iterable` using a *predicate function*. This is a function that takes a value and return `true` or `false`. With `true`, the current element is kept, with `false` it is discarded.\n",
    "We now try to write a predicate function that only keeps even numbers.\n",
    "\n",
    "<a name=\"filter-example\"></a>"
   ]
  },
  {
   "cell_type": "code",
   "execution_count": 38,
   "metadata": {
    "slideshow": {
     "slide_type": "notes"
    }
   },
   "outputs": [],
   "source": [
    "def is_even(x: int) -> bool:\n",
    "    return x % 2 == 0"
   ]
  },
  {
   "cell_type": "markdown",
   "metadata": {
    "slideshow": {
     "slide_type": "notes"
    }
   },
   "source": [
    "Now we are ready to try `filter` using `is_even`. Because `filter` returns a `filter` object, we wrap it in `list` to directly see the result as a list:"
   ]
  },
  {
   "cell_type": "code",
   "execution_count": 39,
   "metadata": {
    "slideshow": {
     "slide_type": "notes"
    }
   },
   "outputs": [
    {
     "data": {
      "text/plain": [
       "[2, 4]"
      ]
     },
     "execution_count": 39,
     "metadata": {},
     "output_type": "execute_result"
    }
   ],
   "source": [
    "list(filter(is_even, [1,2,3,4,5]))"
   ]
  },
  {
   "cell_type": "markdown",
   "metadata": {
    "slideshow": {
     "slide_type": "notes"
    }
   },
   "source": [
    "#### Reducing\n",
    "A third basic HoF is *reduction*. This is a function that takes a function `f(x, y)` of two arguments and an iterable `it` and applies the function  to every element in the iterable *cumulatively* to produce one value. It works in the following way:\n",
    "At the first step:\n",
    "\n",
    "- The first argument of `f`, `x` is the current value of the accumulation. At first, this corresponds to the first element of `it`\n",
    "- The second argument of `f`. `y` is the current element of the iterable. At first, this corresponds to the second element of `it`.\n",
    "\n",
    "Because of this behavior, this function is useful to compute sums or similar aggregations over a list. In python, this function is available in the `functools` [module](https://docs.python.org/3/library/functools.html) as a part of the python standard library.\n",
    "\n",
    "As an example of using `reduce`, consider the following snippet:\n"
   ]
  },
  {
   "cell_type": "code",
   "execution_count": 63,
   "metadata": {
    "slideshow": {
     "slide_type": "notes"
    }
   },
   "outputs": [
    {
     "name": "stdout",
     "output_type": "stream",
     "text": [
      "x: 1, y:2, result: 2\n",
      "x: 2, y:3, result: 6\n",
      "x: 6, y:4, result: 24\n",
      "x: 24, y:5, result: 120\n",
      "120\n"
     ]
    }
   ],
   "source": [
    "import functools\n",
    "\n",
    "\n",
    "def spy(x: int, y: int) -> int:\n",
    "    val = x * y\n",
    "    print(f\"x: {x}, y:{y}, result: {val}\")\n",
    "    return val\n",
    "\n",
    "result = functools.reduce(spy, [1, 2, 3, 4, 5])\n",
    "print(result)"
   ]
  },
  {
   "cell_type": "markdown",
   "metadata": {
    "slideshow": {
     "slide_type": "notes"
    }
   },
   "source": [
    "As you can see, we are computing the cumulative product of `[1, 2, 3, 4, 5]`, that is the *factorial* of 5, or `5!`.\n",
    "The print in `spy` helps us seeing what goes on inside of the function at each step in reduce."
   ]
  },
  {
   "cell_type": "markdown",
   "metadata": {
    "slideshow": {
     "slide_type": "notes"
    }
   },
   "source": [
    "### List comprehensions\n",
    "Many of the operations in the previous section can be performed in a different (some would say more *pythonic*) way using [list comprehensions](https://docs.python.org/3/tutorial/datastructures.html#list-comprehensions).\n",
    "These look like mini for-loops inside square brackets and are very useful to write programs in a functional style while keeping code more readable than using higher order functions.  \n",
    "\n",
    "\n",
    "For example, if we want to double all integers between 1 and 10 and store the result in a list,  we can proceed in the classical imperative way:"
   ]
  },
  {
   "cell_type": "code",
   "execution_count": 41,
   "metadata": {
    "slideshow": {
     "slide_type": "notes"
    }
   },
   "outputs": [
    {
     "name": "stdout",
     "output_type": "stream",
     "text": [
      "The doubles are [0, 2, 4, 6, 8, 10, 12, 14, 16, 18]\n"
     ]
    }
   ],
   "source": [
    "#create an empty list\n",
    "doubles = []\n",
    "#every time the loop runs, we add a number to the list\n",
    "for i in range(10):\n",
    "    doubles.append(i * 2)\n",
    "\n",
    "print(f\"The doubles are {doubles}\")\n"
   ]
  },
  {
   "cell_type": "markdown",
   "metadata": {
    "slideshow": {
     "slide_type": "notes"
    }
   },
   "source": [
    "Or we can use `map` like this:"
   ]
  },
  {
   "cell_type": "code",
   "execution_count": 42,
   "metadata": {
    "slideshow": {
     "slide_type": "notes"
    }
   },
   "outputs": [
    {
     "name": "stdout",
     "output_type": "stream",
     "text": [
      "[0, 2, 4, 6, 8, 10, 12, 14, 16, 18]\n"
     ]
    }
   ],
   "source": [
    "doubles = map(lambda x: x * 2, range(10))\n",
    "\n",
    "print(list(doubles))\n"
   ]
  },
  {
   "cell_type": "markdown",
   "metadata": {
    "slideshow": {
     "slide_type": "notes"
    }
   },
   "source": [
    "Again here we wrapped `doubles` in `list` because `map` is lazy and does not return a list immediately but a `map` object which can be converted into a list using `list`. \n",
    "This solution is more elegant and avoids side effects because we do not modify the previously defined `doubles` list, instead we directly produce a new list with the desired result.\n",
    "\n",
    "Now, we solve the same problem using a list comprehensions:"
   ]
  },
  {
   "cell_type": "code",
   "execution_count": 43,
   "metadata": {
    "slideshow": {
     "slide_type": "notes"
    }
   },
   "outputs": [
    {
     "name": "stdout",
     "output_type": "stream",
     "text": [
      "[0, 2, 4, 6, 8, 10, 12, 14, 16, 18]\n"
     ]
    }
   ],
   "source": [
    "doubles = [i * 2 for i in range(10)]\n",
    "print(doubles)"
   ]
  },
  {
   "cell_type": "markdown",
   "metadata": {
    "slideshow": {
     "slide_type": "notes"
    }
   },
   "source": [
    "This looks a lot like the solution above for the for loop, but it is an *expression* instead of a *statement*. [Expressions](https://www.baeldung.com/cs/expression-vs-statement) in programming are pieces of code that return a value and hence can be composed together to form more complex expressions and used anywhere a value is needed. In functional style, we prefer working with expressions instead of statements because we try to keep [*referential transparency*](https://en.wikipedia.org/wiki/Referential_transparency).\n",
    "\n",
    "Compherensions can do more than just iterate over a list. We can use them to filter elements of a list by adding an `if` statement at the end.\n",
    "For example, consider the example of filtering even numbers  from a list [above](#filter-example); we can rewrite this with list compherensions like this:\n"
   ]
  },
  {
   "cell_type": "code",
   "execution_count": 44,
   "metadata": {
    "slideshow": {
     "slide_type": "notes"
    }
   },
   "outputs": [
    {
     "data": {
      "text/plain": [
       "[0, 2, 4]"
      ]
     },
     "execution_count": 44,
     "metadata": {},
     "output_type": "execute_result"
    }
   ],
   "source": [
    "def is_even(x: int) -> bool:\n",
    "    return x % 2 == 0\n",
    "\n",
    "[i for i in range(5) if is_even(i)]"
   ]
  },
  {
   "cell_type": "markdown",
   "metadata": {
    "slideshow": {
     "slide_type": "notes"
    }
   },
   "source": [
    "We can also combine (*nest*) list compherensions. This is equivalent to a nested for loop. For example consider this expression:"
   ]
  },
  {
   "cell_type": "code",
   "execution_count": 45,
   "metadata": {
    "slideshow": {
     "slide_type": "notes"
    }
   },
   "outputs": [
    {
     "data": {
      "text/plain": [
       "[(0, 0),\n",
       " (0, 1),\n",
       " (0, 2),\n",
       " (0, 3),\n",
       " (0, 4),\n",
       " (1, 0),\n",
       " (1, 1),\n",
       " (1, 2),\n",
       " (1, 3),\n",
       " (1, 4),\n",
       " (2, 0),\n",
       " (2, 1),\n",
       " (2, 2),\n",
       " (2, 3),\n",
       " (2, 4),\n",
       " (3, 0),\n",
       " (3, 1),\n",
       " (3, 2),\n",
       " (3, 3),\n",
       " (3, 4),\n",
       " (4, 0),\n",
       " (4, 1),\n",
       " (4, 2),\n",
       " (4, 3),\n",
       " (4, 4)]"
      ]
     },
     "execution_count": 45,
     "metadata": {},
     "output_type": "execute_result"
    }
   ],
   "source": [
    "[(i,j) for i in range(5) for j in range(5)]"
   ]
  },
  {
   "cell_type": "markdown",
   "metadata": {
    "slideshow": {
     "slide_type": "notes"
    }
   },
   "source": [
    "This returns all the combination of numbers between 0 and 4 as a list of pairs. In the first part of the compherension, we can use any expression instead of just referencing the variable. For example we can return a description of the pair `i,j` in text:"
   ]
  },
  {
   "cell_type": "code",
   "execution_count": 46,
   "metadata": {
    "slideshow": {
     "slide_type": "notes"
    }
   },
   "outputs": [
    {
     "data": {
      "text/plain": [
       "['The current pair is (0, 0)',\n",
       " 'The current pair is (0, 1)',\n",
       " 'The current pair is (0, 2)',\n",
       " 'The current pair is (0, 3)',\n",
       " 'The current pair is (0, 4)',\n",
       " 'The current pair is (1, 0)',\n",
       " 'The current pair is (1, 1)',\n",
       " 'The current pair is (1, 2)',\n",
       " 'The current pair is (1, 3)',\n",
       " 'The current pair is (1, 4)',\n",
       " 'The current pair is (2, 0)',\n",
       " 'The current pair is (2, 1)',\n",
       " 'The current pair is (2, 2)',\n",
       " 'The current pair is (2, 3)',\n",
       " 'The current pair is (2, 4)',\n",
       " 'The current pair is (3, 0)',\n",
       " 'The current pair is (3, 1)',\n",
       " 'The current pair is (3, 2)',\n",
       " 'The current pair is (3, 3)',\n",
       " 'The current pair is (3, 4)',\n",
       " 'The current pair is (4, 0)',\n",
       " 'The current pair is (4, 1)',\n",
       " 'The current pair is (4, 2)',\n",
       " 'The current pair is (4, 3)',\n",
       " 'The current pair is (4, 4)']"
      ]
     },
     "execution_count": 46,
     "metadata": {},
     "output_type": "execute_result"
    }
   ],
   "source": [
    "[f\"The current pair is {(i,j)}\" for i in range(5) for j in range(5)]"
   ]
  },
  {
   "cell_type": "markdown",
   "metadata": {
    "slideshow": {
     "slide_type": "notes"
    }
   },
   "source": [
    "### Combinining and splitting iterators\n",
    "Sometimes, we need to iterate over multiple lists in a special fashion, for example over two lists in parallel or we want to compute all the combinations of elements of two lists etc.\n",
    "We can solve many ot these problems with the use of list compherensions, but sometimes there are more elegant solutions by using the [`itertools`](https://docs.python.org/3/library/itertools.html) module, a part of the python standard library.\n",
    "\n",
    "Lets see some example of problems we can solve by using these tools.\n",
    "\n",
    "- Iterating over two lists in parallel: \n",
    "    consider the two lists `numbers = [1, 2, 3, 4, 5]` and `words = [\"one\", \"two\", \"three\" , \"four\", \"five\"]`. We want to produce a list of strings consisting of the content of `numbers` and `words`, such that each number in `numbers` corresponds to the right word in `words`. We can do this by using the `zip` buil-in function:\n",
    "`zip` takes a number of `iterables` as an input and returns a list of tuples. The i-th element of this list is a tuple with the i-th element of each iterable, proceeding until the shortes iterable is exhausted. Using `zip`, we solve our problem like this:"
   ]
  },
  {
   "cell_type": "code",
   "execution_count": 47,
   "metadata": {
    "slideshow": {
     "slide_type": "notes"
    }
   },
   "outputs": [
    {
     "data": {
      "text/plain": [
       "['The number 1 is called one',\n",
       " 'The number 2 is called two',\n",
       " 'The number 3 is called three',\n",
       " 'The number 4 is called four',\n",
       " 'The number 5 is called five']"
      ]
     },
     "execution_count": 47,
     "metadata": {},
     "output_type": "execute_result"
    }
   ],
   "source": [
    "numbers = [1, 2, 3, 4, 5]\n",
    "words = [\"one\", \"two\", \"three\" , \"four\", \"five\"]\n",
    "[f\"The number {i} is called {j}\" for i, j in zip(numbers, words)]"
   ]
  },
  {
   "cell_type": "markdown",
   "metadata": {
    "slideshow": {
     "slide_type": "notes"
    }
   },
   "source": [
    "-  Producing permutations of elements.\n",
    "    Suppose we have a list containing the letters `[\"A\", \"B\", \"C\", \"D\", \"E\"]` and we want to produce all four letter words from them. We can use   `itertools.permutations`. Once again, we wrap the operation in `list` to obtain a list as output:"
   ]
  },
  {
   "cell_type": "code",
   "execution_count": 67,
   "metadata": {
    "slideshow": {
     "slide_type": "notes"
    }
   },
   "outputs": [
    {
     "data": {
      "text/plain": [
       "[('A', 'B', 'C'),\n",
       " ('A', 'C', 'B'),\n",
       " ('B', 'A', 'C'),\n",
       " ('B', 'C', 'A'),\n",
       " ('C', 'A', 'B'),\n",
       " ('C', 'B', 'A')]"
      ]
     },
     "execution_count": 67,
     "metadata": {},
     "output_type": "execute_result"
    }
   ],
   "source": [
    "import itertools\n",
    "letters = [\"A\", \"B\", \"C\"]\n",
    "list(itertools.permutations(letters, 3))"
   ]
  },
  {
   "cell_type": "markdown",
   "metadata": {
    "slideshow": {
     "slide_type": "notes"
    }
   },
   "source": [
    "Another useful trick to be aware of when working with lists is [`unpacking`](https://docs.python.org/3/tutorial/controlflow.html#tut-unpacking-arguments). In python, we can extract elements from a list using the assignment statement.  For example, if we have a two-element list, we can write"
   ]
  },
  {
   "cell_type": "code",
   "execution_count": 49,
   "metadata": {
    "slideshow": {
     "slide_type": "notes"
    }
   },
   "outputs": [],
   "source": [
    "a, b = [1, 2]"
   ]
  },
  {
   "cell_type": "markdown",
   "metadata": {
    "slideshow": {
     "slide_type": "notes"
    }
   },
   "source": [
    "and extract the two elements in the variables `a` and `b`. If you try the same statement with a three-element list you will get an error:"
   ]
  },
  {
   "cell_type": "code",
   "execution_count": 50,
   "metadata": {
    "slideshow": {
     "slide_type": "notes"
    }
   },
   "outputs": [
    {
     "name": "stdout",
     "output_type": "stream",
     "text": [
      "It does not work\n"
     ]
    }
   ],
   "source": [
    "try:\n",
    "    a, b = [1, 2, 3]\n",
    "except ValueError:\n",
    "    print(\"It does not work\")"
   ]
  },
  {
   "cell_type": "markdown",
   "metadata": {
    "slideshow": {
     "slide_type": "notes"
    }
   },
   "source": [
    "However, you can extract *all remaining elements* with the star notation:"
   ]
  },
  {
   "cell_type": "code",
   "execution_count": 51,
   "metadata": {
    "slideshow": {
     "slide_type": "notes"
    }
   },
   "outputs": [],
   "source": [
    "a, *b = [1, 2, 3]"
   ]
  },
  {
   "cell_type": "markdown",
   "metadata": {
    "slideshow": {
     "slide_type": "notes"
    }
   },
   "source": [
    "If we use `*` before an argument in a function call, this will unpack the argument and pass each component to the function separately, as you can see in this example:"
   ]
  },
  {
   "cell_type": "code",
   "execution_count": 52,
   "metadata": {
    "slideshow": {
     "slide_type": "notes"
    }
   },
   "outputs": [
    {
     "name": "stdout",
     "output_type": "stream",
     "text": [
      "a is 1, b is 2, c is 3 \n",
      "a is 1, b is 2, c is 3 \n",
      "a is [1, 2, 3], b is [4, 5, 6], c is [5, 6, 7] \n"
     ]
    }
   ],
   "source": [
    "def print_variables(a: any, b: any, c: any):\n",
    "    print(f\"a is {a}, b is {b}, c is {c} \")\n",
    "\n",
    "print_variables(*[1, 2, 3])\n",
    "print_variables(1, 2, 3)\n",
    "print_variables(*[[1, 2, 3], [4, 5, 6], [5, 6, 7]])"
   ]
  },
  {
   "cell_type": "markdown",
   "metadata": {
    "slideshow": {
     "slide_type": "notes"
    }
   },
   "source": [
    "Be careful, this only works if the list/iterable you unpack is as long as the arguments you want to pass to your function."
   ]
  },
  {
   "cell_type": "markdown",
   "metadata": {
    "slideshow": {
     "slide_type": "slide"
    }
   },
   "source": [
    "\n",
    "\n",
    "## Exercises\n",
    "\n",
    "\n",
    "### Exercise 1: Pure or impure functions? 🌶️\n",
    "\n",
    "For each of the functions below, determine whether they are pure or impure"
   ]
  },
  {
   "cell_type": "code",
   "execution_count": 53,
   "metadata": {
    "slideshow": {
     "slide_type": "subslide"
    }
   },
   "outputs": [],
   "source": [
    "def fun1(a: \"list[str]\") -> None:\n",
    "    a.append(\"b\")\n",
    "\n",
    "\n",
    "def fun2(a: int) -> int:\n",
    "    return a + 2\n",
    "\n",
    "\n",
    "def fun3(a: \"dict[str, str]\"):\n",
    "    a[\"test\"] = \"dest\"\n",
    "\n"
   ]
  },
  {
   "cell_type": "markdown",
   "metadata": {
    "slideshow": {
     "slide_type": "slide"
    }
   },
   "source": [
    "### Exercise 2: Keeping only multiples of n 🌶️\n",
    "\n",
    "Given a list `L` of integers, write a function that only keeps the numbers that are multiples of a given constant `k`.\n",
    "\n",
    "- Example 1: given `nums = [1, 2, 3, 4, 5]`, and `k = 2`, the result must be `[2, 4]`\n",
    "\n",
    "- Example 2: given `nums = [1, 2, 3, 4, 5, 6, 7, 8, 9, 10] ` and `k = 5`, the result is `[5, 10]`\n",
    "\n",
    "Write your function in the cell below inside of the `solution_exercise1` function. The function receives a list `l` as an input and should return another list"
   ]
  },
  {
   "cell_type": "code",
   "execution_count": 54,
   "metadata": {
    "scrolled": false,
    "slideshow": {
     "slide_type": "subslide"
    }
   },
   "outputs": [
    {
     "name": "stdout",
     "output_type": "stream",
     "text": [
      "\u001b[31mF\u001b[0m\u001b[31mF\u001b[0m\u001b[31m                                                                       [100%]\u001b[0m\n",
      "=================================== FAILURES ===================================\n",
      "\u001b[31m\u001b[1m_____ test_exercise2[solution_exercise2-l0-1-reference_solution_exercise2] _____\u001b[0m\n",
      "\u001b[1m\u001b[31mtutorial/tests/test_functional_programming.py\u001b[0m:27: in test_exercise2\n",
      "    \u001b[94massert\u001b[39;49;00m function_to_test(l, k) == reference_func(l, k)\u001b[90m\u001b[39;49;00m\n",
      "\u001b[1m\u001b[31mE   assert None == [1, 2, 3, 4]\u001b[0m\n",
      "\u001b[1m\u001b[31mE    +  where None = <function solution_exercise2 at 0x7fcb203ff380>([1, 2, 3, 4], 1)\u001b[0m\n",
      "\u001b[1m\u001b[31mE    +  and   [1, 2, 3, 4] = <function reference_solution_exercise2 at 0x7fcb201da200>([1, 2, 3, 4], 1)\u001b[0m\n",
      "\u001b[31m\u001b[1m_____ test_exercise2[solution_exercise2-l1-5-reference_solution_exercise2] _____\u001b[0m\n",
      "\u001b[1m\u001b[31mtutorial/tests/test_functional_programming.py\u001b[0m:27: in test_exercise2\n",
      "    \u001b[94massert\u001b[39;49;00m function_to_test(l, k) == reference_func(l, k)\u001b[90m\u001b[39;49;00m\n",
      "\u001b[1m\u001b[31mE   assert None == [0, 5, 10, 15, 20, 25, ...]\u001b[0m\n",
      "\u001b[1m\u001b[31mE    +  where None = <function solution_exercise2 at 0x7fcb203ff380>([0, 1, 2, 3, 4, 5, ...], 5)\u001b[0m\n",
      "\u001b[1m\u001b[31mE    +  and   [0, 5, 10, 15, 20, 25, ...] = <function reference_solution_exercise2 at 0x7fcb201da200>([0, 1, 2, 3, 4, 5, ...], 5)\u001b[0m\n",
      "\u001b[36m\u001b[1m=========================== short test summary info ============================\u001b[0m\n",
      "\u001b[31mFAILED\u001b[0m tutorial/tests/test_functional_programming.py::\u001b[1mtest_exercise2[solution_exercise2-l0-1-reference_solution_exercise2]\u001b[0m - assert None == [1, 2, 3, 4]\n",
      "\u001b[31mFAILED\u001b[0m tutorial/tests/test_functional_programming.py::\u001b[1mtest_exercise2[solution_exercise2-l1-5-reference_solution_exercise2]\u001b[0m - assert None == [0, 5, 10, 15, 20, 25, ...]\n",
      "\u001b[31m\u001b[31m\u001b[1m2 failed\u001b[0m\u001b[31m in 0.15s\u001b[0m\u001b[0m\n",
      "\n"
     ]
    },
    {
     "data": {
      "text/html": [
       "<div class=\"alert alert-box alert-danger\"><h4>Tests <strong>FAILED</strong> for the function <code>exercise2</code></h4>&#x1F631 Your solution was not correct!</div>"
      ],
      "text/plain": [
       "<IPython.core.display.HTML object>"
      ]
     },
     "metadata": {},
     "output_type": "display_data"
    }
   ],
   "source": [
    "%%ipytest functional_programming\n",
    "def solution_exercise2(l: \"list[int]\", k: int):\n",
    "    \"\"\"\n",
    "    Write your solution here\n",
    "    \"\"\"\n",
    "    pass"
   ]
  },
  {
   "cell_type": "markdown",
   "metadata": {
    "slideshow": {
     "slide_type": "slide"
    }
   },
   "source": [
    "### Exercise 3: Transposing a Matrix 🌶️🌶️\n",
    "\n",
    "Consider a matrix `M` represented row-wise as a list of lists `[[1, 2, 3], [4, 5, 6], [7, 8, 8]]`.\n",
    "Write a function  that returns the transpose of `M`, the matrix obtained by exchanging rows and columns\n",
    "\n",
    "- Example 1: given `M=[[1, 0], [0, 1]]`, the result must be `[[1, 0], [0, 1]]`\n",
    "- Example 2: given `M=[[1, 2, 3], [4, 5, 6], [7, 8, 8]]` the result must be `[1, 4, 7], [2, 5, 8], [3, 6, 8]]`"
   ]
  },
  {
   "cell_type": "code",
   "execution_count": 3,
   "metadata": {
    "slideshow": {
     "slide_type": "subslide"
    }
   },
   "outputs": [
    {
     "name": "stdout",
     "output_type": "stream",
     "text": [
      "\u001b[31mF\u001b[0m\u001b[31mF\u001b[0m\u001b[31m                                                                       [100%]\u001b[0m\n",
      "=================================== FAILURES ===================================\n",
      "\u001b[31m\u001b[1m__________________ test_exercise3[solution_exercise3-input0] ___________________\u001b[0m\n",
      "\u001b[1m\u001b[31mtutorial/tests/test_functional_programming.py\u001b[0m:37: in test_exercise3\n",
      "    \u001b[94massert\u001b[39;49;00m function_to_test(\u001b[96minput\u001b[39;49;00m.tolist()) == \u001b[96minput\u001b[39;49;00m.transpose().tolist()\u001b[90m\u001b[39;49;00m\n",
      "\u001b[1m\u001b[31mE   assert None == [[1.0, 0.0, 0.0], [0.0, 1.0, 0.0], [0.0, 0.0, 1.0]]\u001b[0m\n",
      "\u001b[1m\u001b[31mE    +  where None = <function solution_exercise3 at 0x7f96faef9940>([[1.0, 0.0, 0.0], [0.0, 1.0, 0.0], [0.0, 0.0, 1.0]])\u001b[0m\n",
      "\u001b[1m\u001b[31mE    +    where [[1.0, 0.0, 0.0], [0.0, 1.0, 0.0], [0.0, 0.0, 1.0]] = <built-in method tolist of numpy.ndarray object at 0x7f96bff25170>()\u001b[0m\n",
      "\u001b[1m\u001b[31mE    +      where <built-in method tolist of numpy.ndarray object at 0x7f96bff25170> = array([[1., 0., 0.],\\n       [0., 1., 0.],\\n       [0., 0., 1.]]).tolist\u001b[0m\n",
      "\u001b[1m\u001b[31mE    +  and   [[1.0, 0.0, 0.0], [0.0, 1.0, 0.0], [0.0, 0.0, 1.0]] = <built-in method tolist of numpy.ndarray object at 0x7f96faad4990>()\u001b[0m\n",
      "\u001b[1m\u001b[31mE    +    where <built-in method tolist of numpy.ndarray object at 0x7f96faad4990> = array([[1., 0., 0.],\\n       [0., 1., 0.],\\n       [0., 0., 1.]]).tolist\u001b[0m\n",
      "\u001b[1m\u001b[31mE    +      where array([[1., 0., 0.],\\n       [0., 1., 0.],\\n       [0., 0., 1.]]) = <built-in method transpose of numpy.ndarray object at 0x7f96bff25170>()\u001b[0m\n",
      "\u001b[1m\u001b[31mE    +        where <built-in method transpose of numpy.ndarray object at 0x7f96bff25170> = array([[1., 0., 0.],\\n       [0., 1., 0.],\\n       [0., 0., 1.]]).transpose\u001b[0m\n",
      "\u001b[31m\u001b[1m__________________ test_exercise3[solution_exercise3-input1] ___________________\u001b[0m\n",
      "\u001b[1m\u001b[31mtutorial/tests/test_functional_programming.py\u001b[0m:37: in test_exercise3\n",
      "    \u001b[94massert\u001b[39;49;00m function_to_test(\u001b[96minput\u001b[39;49;00m.tolist()) == \u001b[96minput\u001b[39;49;00m.transpose().tolist()\u001b[90m\u001b[39;49;00m\n",
      "\u001b[1m\u001b[31mE   assert None == [[20, 41, 81, 25], [8, 75, 18, 56], [19, 31, 32, 45], [70, 8, 90, 5]]\u001b[0m\n",
      "\u001b[1m\u001b[31mE    +  where None = <function solution_exercise3 at 0x7f96faef9940>([[20, 8, 19, 70], [41, 75, 31, 8], [81, 18, 32, 90], [25, 56, 45, 5]])\u001b[0m\n",
      "\u001b[1m\u001b[31mE    +    where [[20, 8, 19, 70], [41, 75, 31, 8], [81, 18, 32, 90], [25, 56, 45, 5]] = <built-in method tolist of numpy.ndarray object at 0x7f96bff25230>()\u001b[0m\n",
      "\u001b[1m\u001b[31mE    +      where <built-in method tolist of numpy.ndarray object at 0x7f96bff25230> = array([[20,  8, 19, 70],\\n       [41, 75, 31,  8],\\n       [81, 18, 32, 90],\\n       [25, 56, 45,  5]]).tolist\u001b[0m\n",
      "\u001b[1m\u001b[31mE    +  and   [[20, 41, 81, 25], [8, 75, 18, 56], [19, 31, 32, 45], [70, 8, 90, 5]] = <built-in method tolist of numpy.ndarray object at 0x7f96bff25b30>()\u001b[0m\n",
      "\u001b[1m\u001b[31mE    +    where <built-in method tolist of numpy.ndarray object at 0x7f96bff25b30> = array([[20, 41, 81, 25],\\n       [ 8, 75, 18, 56],\\n       [19, 31, 32, 45],\\n       [70,  8, 90,  5]]).tolist\u001b[0m\n",
      "\u001b[1m\u001b[31mE    +      where array([[20, 41, 81, 25],\\n       [ 8, 75, 18, 56],\\n       [19, 31, 32, 45],\\n       [70,  8, 90,  5]]) = <built-in method transpose of numpy.ndarray object at 0x7f96bff25230>()\u001b[0m\n",
      "\u001b[1m\u001b[31mE    +        where <built-in method transpose of numpy.ndarray object at 0x7f96bff25230> = array([[20,  8, 19, 70],\\n       [41, 75, 31,  8],\\n       [81, 18, 32, 90],\\n       [25, 56, 45,  5]]).transpose\u001b[0m\n",
      "\u001b[36m\u001b[1m=========================== short test summary info ============================\u001b[0m\n",
      "\u001b[31mFAILED\u001b[0m tutorial/tests/test_functional_programming.py::\u001b[1mtest_exercise3[solution_exercise3-input0]\u001b[0m - assert None == [[1.0, 0.0, 0.0], [0.0, 1.0, 0.0], [0.0, 0.0, 1.0]]\n",
      "\u001b[31mFAILED\u001b[0m tutorial/tests/test_functional_programming.py::\u001b[1mtest_exercise3[solution_exercise3-input1]\u001b[0m - assert None == [[20, 41, 81, 25], [8, 75, 18, 56], [19, 31, 32, 45], [70, 8...\n",
      "\u001b[31m\u001b[31m\u001b[1m2 failed\u001b[0m\u001b[31m in 0.15s\u001b[0m\u001b[0m\n",
      "\n"
     ]
    },
    {
     "data": {
      "text/html": [
       "<div class=\"alert alert-box alert-danger\"><h4>Tests <strong>FAILED</strong> for the function <code>exercise3</code></h4>&#x1F631 Your solution was not correct!</div>"
      ],
      "text/plain": [
       "<IPython.core.display.HTML object>"
      ]
     },
     "metadata": {},
     "output_type": "display_data"
    }
   ],
   "source": [
    "%%ipytest functional_programming\n",
    "\n",
    "def solution_exercise3(m: \"list[list[int]]\") -> \"list[list[int]]\":\n",
    "    \"\"\"\n",
    "    Write your solution here\n",
    "    \"\"\"\n",
    "    pass\n"
   ]
  },
  {
   "cell_type": "markdown",
   "metadata": {
    "slideshow": {
     "slide_type": "slide"
    }
   },
   "source": [
    "### Exercise 4: Flattening list of lists 🌶️🌶️\n",
    "\n",
    "Imagine we receive a list of lists `l` like `[[1, 2], [3, 4]]`. Write a function that converts this list into a `flat` list like `[1, 2, 3, 4]`. \n",
    "\n",
    "To write your function, just complete the code in `solution_exercise4`\n"
   ]
  },
  {
   "cell_type": "code",
   "execution_count": 4,
   "metadata": {
    "scrolled": true,
    "slideshow": {
     "slide_type": "subslide"
    }
   },
   "outputs": [
    {
     "name": "stdout",
     "output_type": "stream",
     "text": [
      "\u001b[31mF\u001b[0m\u001b[31mF\u001b[0m\u001b[31m                                                                       [100%]\u001b[0m\n",
      "=================================== FAILURES ===================================\n",
      "\u001b[31m\u001b[1m____ test_exercise4[solution_exercise4-input0-reference_solution_exercise4] ____\u001b[0m\n",
      "\u001b[1m\u001b[31mtutorial/tests/test_functional_programming.py\u001b[0m:56: in test_exercise4\n",
      "    \u001b[94massert\u001b[39;49;00m function_to_test(\u001b[96minput\u001b[39;49;00m) == reference_func(\u001b[96minput\u001b[39;49;00m)\u001b[90m\u001b[39;49;00m\n",
      "\u001b[1m\u001b[31mE   assert None == [1, 2, 3, 4, 4, 5, ...]\u001b[0m\n",
      "\u001b[1m\u001b[31mE    +  where None = <function solution_exercise4 at 0x7f96bff81260>([[1, 2, 3, 4], [4, 5, 5], [4, 5, 6]])\u001b[0m\n",
      "\u001b[1m\u001b[31mE    +  and   [1, 2, 3, 4, 4, 5, ...] = <function reference_solution_exercise4 at 0x7f96f00eb240>([[1, 2, 3, 4], [4, 5, 5], [4, 5, 6]])\u001b[0m\n",
      "\u001b[31m\u001b[1m____ test_exercise4[solution_exercise4-input1-reference_solution_exercise4] ____\u001b[0m\n",
      "\u001b[1m\u001b[31mtutorial/tests/test_functional_programming.py\u001b[0m:56: in test_exercise4\n",
      "    \u001b[94massert\u001b[39;49;00m function_to_test(\u001b[96minput\u001b[39;49;00m) == reference_func(\u001b[96minput\u001b[39;49;00m)\u001b[90m\u001b[39;49;00m\n",
      "\u001b[1m\u001b[31mE   AssertionError: assert None == ['a', 'b', 'c', 'd', 'f', 'e', ...]\u001b[0m\n",
      "\u001b[1m\u001b[31mE    +  where None = <function solution_exercise4 at 0x7f96bff81260>([['a', 'b', 'c'], ['d', 'f', 'e'], ['another']])\u001b[0m\n",
      "\u001b[1m\u001b[31mE    +  and   ['a', 'b', 'c', 'd', 'f', 'e', ...] = <function reference_solution_exercise4 at 0x7f96f00eb240>([['a', 'b', 'c'], ['d', 'f', 'e'], ['another']])\u001b[0m\n",
      "\u001b[36m\u001b[1m=========================== short test summary info ============================\u001b[0m\n",
      "\u001b[31mFAILED\u001b[0m tutorial/tests/test_functional_programming.py::\u001b[1mtest_exercise4[solution_exercise4-input0-reference_solution_exercise4]\u001b[0m - assert None == [1, 2, 3, 4, 4, 5, ...]\n",
      "\u001b[31mFAILED\u001b[0m tutorial/tests/test_functional_programming.py::\u001b[1mtest_exercise4[solution_exercise4-input1-reference_solution_exercise4]\u001b[0m - AssertionError: assert None == ['a', 'b', 'c', 'd', 'f', 'e', ...]\n",
      "\u001b[31m\u001b[31m\u001b[1m2 failed\u001b[0m\u001b[31m in 0.01s\u001b[0m\u001b[0m\n",
      "\n"
     ]
    },
    {
     "data": {
      "text/html": [
       "<div class=\"alert alert-box alert-danger\"><h4>Tests <strong>FAILED</strong> for the function <code>exercise4</code></h4>&#x1F631 Your solution was not correct!</div>"
      ],
      "text/plain": [
       "<IPython.core.display.HTML object>"
      ]
     },
     "metadata": {},
     "output_type": "display_data"
    }
   ],
   "source": [
    "%%ipytest functional_programming\n",
    "\n",
    "def solution_exercise4(l: \"list[list[any]]\") -> \"list[any]\":\n",
    "    \"\"\"\n",
    "    Write your solution here\n",
    "    \"\"\"\n",
    "    pass\n",
    "\n"
   ]
  },
  {
   "cell_type": "markdown",
   "metadata": {
    "slideshow": {
     "slide_type": "slide"
    }
   },
   "source": [
    "### Exercise 5: Counting initials 🌶️🌶️🌶️\n",
    "\n",
    "Given a list `w` of english words, write a function that counts how many words begin with each letter of the english alphabet and returns the result as a **alphabetically sorted** list of tuples `(letter, count)`. \n",
    "\n",
    "Hint: consider the functions `sorted` and `itertools.groupby` from the python standard library.\n",
    "\n",
    "You will receive the list `w` as the input of the solution skeleton below:"
   ]
  },
  {
   "cell_type": "code",
   "execution_count": 7,
   "metadata": {
    "scrolled": true,
    "slideshow": {
     "slide_type": "subslide"
    }
   },
   "outputs": [
    {
     "name": "stdout",
     "output_type": "stream",
     "text": [
      "\u001b[31mF\u001b[0m\u001b[31m                                                                        [100%]\u001b[0m\n",
      "=================================== FAILURES ===================================\n",
      "\u001b[31m\u001b[1m______________________ test_exercise5[solution_exercise5] ______________________\u001b[0m\n",
      "\u001b[1m\u001b[31mtutorial/tests/test_functional_programming.py\u001b[0m:74: in test_exercise5\n",
      "    \u001b[94massert\u001b[39;49;00m function_to_test(data) == reference_solution_exercise5(data)\u001b[90m\u001b[39;49;00m\n",
      "\u001b[1m\u001b[31mE   AssertionError: assert None == [('a', 720), ('b', 536), ('c', 1015), ('d', 560), ('e', 466), ('f', 432), ...]\u001b[0m\n",
      "\u001b[1m\u001b[31mE    +  where None = <function solution_exercise5 at 0x7f96bfe64860>(['a', 'aa', 'aaa', 'aaron', 'ab', 'abandoned', ...])\u001b[0m\n",
      "\u001b[1m\u001b[31mE    +  and   [('a', 720), ('b', 536), ('c', 1015), ('d', 560), ('e', 466), ('f', 432), ...] = reference_solution_exercise5(['a', 'aa', 'aaa', 'aaron', 'ab', 'abandoned', ...])\u001b[0m\n",
      "----------------------------- Captured stdout call -----------------------------\n",
      "This does not work\n",
      "\u001b[36m\u001b[1m=========================== short test summary info ============================\u001b[0m\n",
      "\u001b[31mFAILED\u001b[0m tutorial/tests/test_functional_programming.py::\u001b[1mtest_exercise5[solution_exercise5]\u001b[0m - AssertionError: assert None == [('a', 720), ('b', 536), ('c', 1015), ('d', ...\n",
      "\u001b[31m\u001b[31m\u001b[1m1 failed\u001b[0m\u001b[31m in 0.01s\u001b[0m\u001b[0m\n",
      "\n"
     ]
    },
    {
     "data": {
      "text/html": [
       "<div class=\"alert alert-box alert-danger\"><h4>Tests <strong>FAILED</strong> for the function <code>exercise5</code></h4>&#x1F631 Your solution was not correct!</div>"
      ],
      "text/plain": [
       "<IPython.core.display.HTML object>"
      ]
     },
     "metadata": {},
     "output_type": "display_data"
    }
   ],
   "source": [
    "%%ipytest functional_programming\n",
    "def solution_exercise5(w: list[str]) -> list[(str, int)]:\n",
    "    \"\"\"\n",
    "    Write your solution here\n",
    "    \"\"\"\n",
    "    print(\"This does not work\")\n",
    "    pass\n",
    "\n"
   ]
  },
  {
   "cell_type": "markdown",
   "metadata": {
    "slideshow": {
     "slide_type": "slide"
    }
   },
   "source": [
    "### Exercise 6: Counting initials frequency 🌶️🌶️🌶️\n",
    "If you could solve the previous exercise, you now have a list `l` of the form `[('a', 20), ('b', 30), ...]`.\n",
    "If you cannot, do not worry: you will receive the correct input automatically as `l` inside the function `solution_exercise6`\n",
    "\n",
    "\n",
    "Write a function that computes the *relative frequency* of each letter in the list `l`. "
   ]
  },
  {
   "cell_type": "code",
   "execution_count": 59,
   "metadata": {},
   "outputs": [],
   "source": [
    "%reload_ext tutorial.tests.testsuite\n"
   ]
  },
  {
   "cell_type": "code",
   "execution_count": 60,
   "metadata": {
    "slideshow": {
     "slide_type": "subslide"
    }
   },
   "outputs": [
    {
     "name": "stdout",
     "output_type": "stream",
     "text": [
      "\u001b[31mF\u001b[0m\u001b[31mF\u001b[0m\u001b[31m                                                                       [100%]\u001b[0m\n",
      "=================================== FAILURES ===================================\n",
      "\u001b[31m\u001b[1m_____ test_exercise2[solution_exercise2-l0-1-reference_solution_exercise2] _____\u001b[0m\n",
      "\u001b[1m\u001b[31mtutorial/tests/test_functional_programming.py\u001b[0m:27: in test_exercise2\n",
      "    \u001b[94massert\u001b[39;49;00m function_to_test(l, k) == reference_func(l, k)\u001b[90m\u001b[39;49;00m\n",
      "\u001b[1m\u001b[31mE   assert None == [1, 2, 3, 4]\u001b[0m\n",
      "\u001b[1m\u001b[31mE    +  where None = <function solution_exercise2 at 0x7fcb203ff380>([1, 2, 3, 4], 1)\u001b[0m\n",
      "\u001b[1m\u001b[31mE    +  and   [1, 2, 3, 4] = <function reference_solution_exercise2 at 0x7fcb201da200>([1, 2, 3, 4], 1)\u001b[0m\n",
      "\u001b[31m\u001b[1m_____ test_exercise2[solution_exercise2-l1-5-reference_solution_exercise2] _____\u001b[0m\n",
      "\u001b[1m\u001b[31mtutorial/tests/test_functional_programming.py\u001b[0m:27: in test_exercise2\n",
      "    \u001b[94massert\u001b[39;49;00m function_to_test(l, k) == reference_func(l, k)\u001b[90m\u001b[39;49;00m\n",
      "\u001b[1m\u001b[31mE   assert None == [0, 5, 10, 15, 20, 25, ...]\u001b[0m\n",
      "\u001b[1m\u001b[31mE    +  where None = <function solution_exercise2 at 0x7fcb203ff380>([0, 1, 2, 3, 4, 5, ...], 5)\u001b[0m\n",
      "\u001b[1m\u001b[31mE    +  and   [0, 5, 10, 15, 20, 25, ...] = <function reference_solution_exercise2 at 0x7fcb201da200>([0, 1, 2, 3, 4, 5, ...], 5)\u001b[0m\n",
      "\u001b[36m\u001b[1m=========================== short test summary info ============================\u001b[0m\n",
      "\u001b[31mFAILED\u001b[0m tutorial/tests/test_functional_programming.py::\u001b[1mtest_exercise2[solution_exercise2-l0-1-reference_solution_exercise2]\u001b[0m - assert None == [1, 2, 3, 4]\n",
      "\u001b[31mFAILED\u001b[0m tutorial/tests/test_functional_programming.py::\u001b[1mtest_exercise2[solution_exercise2-l1-5-reference_solution_exercise2]\u001b[0m - assert None == [0, 5, 10, 15, 20, 25, ...]\n",
      "\u001b[31m\u001b[31m\u001b[1m2 failed\u001b[0m\u001b[31m in 0.01s\u001b[0m\u001b[0m\n",
      "\n"
     ]
    },
    {
     "data": {
      "text/html": [
       "<div class=\"alert alert-box alert-danger\"><h4>Tests <strong>FAILED</strong> for the function <code>exercise2</code></h4>&#x1F631 Your solution was not correct!</div>"
      ],
      "text/plain": [
       "<IPython.core.display.HTML object>"
      ]
     },
     "metadata": {},
     "output_type": "display_data"
    },
    {
     "name": "stdout",
     "output_type": "stream",
     "text": [
      "\u001b[31mF\u001b[0m\u001b[31mF\u001b[0m\u001b[31m                                                                       [100%]\u001b[0m\n",
      "=================================== FAILURES ===================================\n",
      "\u001b[31m\u001b[1m__________________ test_exercise3[solution_exercise3-input0] ___________________\u001b[0m\n",
      "\u001b[1m\u001b[31mtutorial/tests/test_functional_programming.py\u001b[0m:37: in test_exercise3\n",
      "    \u001b[94massert\u001b[39;49;00m function_to_test(\u001b[96minput\u001b[39;49;00m.tolist()) == \u001b[96minput\u001b[39;49;00m.transpose().tolist()\u001b[90m\u001b[39;49;00m\n",
      "\u001b[1m\u001b[31mE   assert None == [[1.0, 0.0, 0.0], [0.0, 1.0, 0.0], [0.0, 0.0, 1.0]]\u001b[0m\n",
      "\u001b[1m\u001b[31mE    +  where None = <function solution_exercise3 at 0x7fcac75aab60>([[1.0, 0.0, 0.0], [0.0, 1.0, 0.0], [0.0, 0.0, 1.0]])\u001b[0m\n",
      "\u001b[1m\u001b[31mE    +    where [[1.0, 0.0, 0.0], [0.0, 1.0, 0.0], [0.0, 0.0, 1.0]] = <built-in method tolist of numpy.ndarray object at 0x7fcac7542850>()\u001b[0m\n",
      "\u001b[1m\u001b[31mE    +      where <built-in method tolist of numpy.ndarray object at 0x7fcac7542850> = array([[1., 0., 0.],\\n       [0., 1., 0.],\\n       [0., 0., 1.]]).tolist\u001b[0m\n",
      "\u001b[1m\u001b[31mE    +  and   [[1.0, 0.0, 0.0], [0.0, 1.0, 0.0], [0.0, 0.0, 1.0]] = <built-in method tolist of numpy.ndarray object at 0x7fcac7312310>()\u001b[0m\n",
      "\u001b[1m\u001b[31mE    +    where <built-in method tolist of numpy.ndarray object at 0x7fcac7312310> = array([[1., 0., 0.],\\n       [0., 1., 0.],\\n       [0., 0., 1.]]).tolist\u001b[0m\n",
      "\u001b[1m\u001b[31mE    +      where array([[1., 0., 0.],\\n       [0., 1., 0.],\\n       [0., 0., 1.]]) = <built-in method transpose of numpy.ndarray object at 0x7fcac7542850>()\u001b[0m\n",
      "\u001b[1m\u001b[31mE    +        where <built-in method transpose of numpy.ndarray object at 0x7fcac7542850> = array([[1., 0., 0.],\\n       [0., 1., 0.],\\n       [0., 0., 1.]]).transpose\u001b[0m\n",
      "\u001b[31m\u001b[1m__________________ test_exercise3[solution_exercise3-input1] ___________________\u001b[0m\n",
      "\u001b[1m\u001b[31mtutorial/tests/test_functional_programming.py\u001b[0m:37: in test_exercise3\n",
      "    \u001b[94massert\u001b[39;49;00m function_to_test(\u001b[96minput\u001b[39;49;00m.tolist()) == \u001b[96minput\u001b[39;49;00m.transpose().tolist()\u001b[90m\u001b[39;49;00m\n",
      "\u001b[1m\u001b[31mE   assert None == [[60, 86, 48, 46], [61, 37, 75, 93], [31, 27, 59, 21], [83, 71, 14, 7]]\u001b[0m\n",
      "\u001b[1m\u001b[31mE    +  where None = <function solution_exercise3 at 0x7fcac75aab60>([[60, 61, 31, 83], [86, 37, 27, 71], [48, 75, 59, 14], [46, 93, 21, 7]])\u001b[0m\n",
      "\u001b[1m\u001b[31mE    +    where [[60, 61, 31, 83], [86, 37, 27, 71], [48, 75, 59, 14], [46, 93, 21, 7]] = <built-in method tolist of numpy.ndarray object at 0x7fcac7542910>()\u001b[0m\n",
      "\u001b[1m\u001b[31mE    +      where <built-in method tolist of numpy.ndarray object at 0x7fcac7542910> = array([[60, 61, 31, 83],\\n       [86, 37, 27, 71],\\n       [48, 75, 59, 14],\\n       [46, 93, 21,  7]]).tolist\u001b[0m\n",
      "\u001b[1m\u001b[31mE    +  and   [[60, 86, 48, 46], [61, 37, 75, 93], [31, 27, 59, 21], [83, 71, 14, 7]] = <built-in method tolist of numpy.ndarray object at 0x7fcac7207930>()\u001b[0m\n",
      "\u001b[1m\u001b[31mE    +    where <built-in method tolist of numpy.ndarray object at 0x7fcac7207930> = array([[60, 86, 48, 46],\\n       [61, 37, 75, 93],\\n       [31, 27, 59, 21],\\n       [83, 71, 14,  7]]).tolist\u001b[0m\n",
      "\u001b[1m\u001b[31mE    +      where array([[60, 86, 48, 46],\\n       [61, 37, 75, 93],\\n       [31, 27, 59, 21],\\n       [83, 71, 14,  7]]) = <built-in method transpose of numpy.ndarray object at 0x7fcac7542910>()\u001b[0m\n",
      "\u001b[1m\u001b[31mE    +        where <built-in method transpose of numpy.ndarray object at 0x7fcac7542910> = array([[60, 61, 31, 83],\\n       [86, 37, 27, 71],\\n       [48, 75, 59, 14],\\n       [46, 93, 21,  7]]).transpose\u001b[0m\n",
      "\u001b[36m\u001b[1m=========================== short test summary info ============================\u001b[0m\n",
      "\u001b[31mFAILED\u001b[0m tutorial/tests/test_functional_programming.py::\u001b[1mtest_exercise3[solution_exercise3-input0]\u001b[0m - assert None == [[1.0, 0.0, 0.0], [0.0, 1.0, 0.0], [0.0, 0.0, 1.0]]\n",
      "\u001b[31mFAILED\u001b[0m tutorial/tests/test_functional_programming.py::\u001b[1mtest_exercise3[solution_exercise3-input1]\u001b[0m - assert None == [[60, 86, 48, 46], [61, 37, 75, 93], [31, 27, 59, 21], [83, ...\n",
      "\u001b[31m\u001b[31m\u001b[1m2 failed\u001b[0m\u001b[31m in 0.01s\u001b[0m\u001b[0m\n",
      "\n"
     ]
    },
    {
     "data": {
      "text/html": [
       "<div class=\"alert alert-box alert-danger\"><h4>Tests <strong>FAILED</strong> for the function <code>exercise3</code></h4>&#x1F631 Your solution was not correct!</div>"
      ],
      "text/plain": [
       "<IPython.core.display.HTML object>"
      ]
     },
     "metadata": {},
     "output_type": "display_data"
    },
    {
     "name": "stdout",
     "output_type": "stream",
     "text": [
      "\u001b[31mF\u001b[0m\u001b[31mF\u001b[0m\u001b[31m                                                                       [100%]\u001b[0m\n",
      "=================================== FAILURES ===================================\n",
      "\u001b[31m\u001b[1m____ test_exercise4[solution_exercise4-input0-reference_solution_exercise4] ____\u001b[0m\n",
      "\u001b[1m\u001b[31mtutorial/tests/test_functional_programming.py\u001b[0m:56: in test_exercise4\n",
      "    \u001b[94massert\u001b[39;49;00m function_to_test(\u001b[96minput\u001b[39;49;00m) == reference_func(\u001b[96minput\u001b[39;49;00m)\u001b[90m\u001b[39;49;00m\n",
      "\u001b[1m\u001b[31mE   assert None == [1, 2, 3, 4, 4, 5, ...]\u001b[0m\n",
      "\u001b[1m\u001b[31mE    +  where None = <function solution_exercise4 at 0x7fcac7434f40>([[1, 2, 3, 4], [4, 5, 5], [4, 5, 6]])\u001b[0m\n",
      "\u001b[1m\u001b[31mE    +  and   [1, 2, 3, 4, 4, 5, ...] = <function reference_solution_exercise4 at 0x7fcac750cf40>([[1, 2, 3, 4], [4, 5, 5], [4, 5, 6]])\u001b[0m\n",
      "\u001b[31m\u001b[1m____ test_exercise4[solution_exercise4-input1-reference_solution_exercise4] ____\u001b[0m\n",
      "\u001b[1m\u001b[31mtutorial/tests/test_functional_programming.py\u001b[0m:56: in test_exercise4\n",
      "    \u001b[94massert\u001b[39;49;00m function_to_test(\u001b[96minput\u001b[39;49;00m) == reference_func(\u001b[96minput\u001b[39;49;00m)\u001b[90m\u001b[39;49;00m\n",
      "\u001b[1m\u001b[31mE   AssertionError: assert None == ['a', 'b', 'c', 'd', 'f', 'e', ...]\u001b[0m\n",
      "\u001b[1m\u001b[31mE    +  where None = <function solution_exercise4 at 0x7fcac7434f40>([['a', 'b', 'c'], ['d', 'f', 'e'], ['another']])\u001b[0m\n",
      "\u001b[1m\u001b[31mE    +  and   ['a', 'b', 'c', 'd', 'f', 'e', ...] = <function reference_solution_exercise4 at 0x7fcac750cf40>([['a', 'b', 'c'], ['d', 'f', 'e'], ['another']])\u001b[0m\n",
      "\u001b[36m\u001b[1m=========================== short test summary info ============================\u001b[0m\n",
      "\u001b[31mFAILED\u001b[0m tutorial/tests/test_functional_programming.py::\u001b[1mtest_exercise4[solution_exercise4-input0-reference_solution_exercise4]\u001b[0m - assert None == [1, 2, 3, 4, 4, 5, ...]\n",
      "\u001b[31mFAILED\u001b[0m tutorial/tests/test_functional_programming.py::\u001b[1mtest_exercise4[solution_exercise4-input1-reference_solution_exercise4]\u001b[0m - AssertionError: assert None == ['a', 'b', 'c', 'd', 'f', 'e', ...]\n",
      "\u001b[31m\u001b[31m\u001b[1m2 failed\u001b[0m\u001b[31m in 0.01s\u001b[0m\u001b[0m\n",
      "\n"
     ]
    },
    {
     "data": {
      "text/html": [
       "<div class=\"alert alert-box alert-danger\"><h4>Tests <strong>FAILED</strong> for the function <code>exercise4</code></h4>&#x1F631 Your solution was not correct!</div>"
      ],
      "text/plain": [
       "<IPython.core.display.HTML object>"
      ]
     },
     "metadata": {},
     "output_type": "display_data"
    },
    {
     "name": "stdout",
     "output_type": "stream",
     "text": [
      "\u001b[31mF\u001b[0m\u001b[31m                                                                        [100%]\u001b[0m\n",
      "=================================== FAILURES ===================================\n",
      "\u001b[31m\u001b[1m______________________ test_exercise5[solution_exercise5] ______________________\u001b[0m\n",
      "\u001b[1m\u001b[31mtutorial/tests/test_functional_programming.py\u001b[0m:74: in test_exercise5\n",
      "    \u001b[94massert\u001b[39;49;00m function_to_test(data) == reference_solution_exercise5(data)\u001b[90m\u001b[39;49;00m\n",
      "\u001b[1m\u001b[31mE   AssertionError: assert None == [('a', 720), ('b', 536), ('c', 1015), ('d', 560), ('e', 466), ('f', 432), ...]\u001b[0m\n",
      "\u001b[1m\u001b[31mE    +  where None = <function solution_exercise5 at 0x7fcac7437ec0>(['a', 'aa', 'aaa', 'aaron', 'ab', 'abandoned', ...])\u001b[0m\n",
      "\u001b[1m\u001b[31mE    +  and   [('a', 720), ('b', 536), ('c', 1015), ('d', 560), ('e', 466), ('f', 432), ...] = reference_solution_exercise5(['a', 'aa', 'aaa', 'aaron', 'ab', 'abandoned', ...])\u001b[0m\n",
      "\u001b[36m\u001b[1m=========================== short test summary info ============================\u001b[0m\n",
      "\u001b[31mFAILED\u001b[0m tutorial/tests/test_functional_programming.py::\u001b[1mtest_exercise5[solution_exercise5]\u001b[0m - AssertionError: assert None == [('a', 720), ('b', 536), ('c', 1015), ('d', ...\n",
      "\u001b[31m\u001b[31m\u001b[1m1 failed\u001b[0m\u001b[31m in 0.00s\u001b[0m\u001b[0m\n",
      "\n"
     ]
    },
    {
     "data": {
      "text/html": [
       "<div class=\"alert alert-box alert-danger\"><h4>Tests <strong>FAILED</strong> for the function <code>exercise5</code></h4>&#x1F631 Your solution was not correct!</div>"
      ],
      "text/plain": [
       "<IPython.core.display.HTML object>"
      ]
     },
     "metadata": {},
     "output_type": "display_data"
    },
    {
     "name": "stdout",
     "output_type": "stream",
     "text": [
      "\u001b[31mF\u001b[0m\u001b[31m                                                                        [100%]\u001b[0m\n",
      "=================================== FAILURES ===================================\n",
      "\u001b[31m\u001b[1m______________________ test_exercise6[solution_exercise6] ______________________\u001b[0m\n",
      "\u001b[1m\u001b[31mtutorial/tests/test_functional_programming.py\u001b[0m:84: in test_exercise6\n",
      "    \u001b[94massert\u001b[39;49;00m function_to_test(input_data) == reference_solution_exercise6(input_data)\u001b[90m\u001b[39;49;00m\n",
      "\u001b[1m\u001b[31mE   AssertionError: assert None == [('a', 0.072), ('b', 0.0536), ('c', 0.1015), ('d', 0.056), ('e', 0.0466), ('f', 0.0432), ...]\u001b[0m\n",
      "\u001b[1m\u001b[31mE    +  where None = <function solution_exercise6 at 0x7fcac73767a0>([('a', 720), ('b', 536), ('c', 1015), ('d', 560), ('e', 466), ('f', 432), ...])\u001b[0m\n",
      "\u001b[1m\u001b[31mE    +  and   [('a', 0.072), ('b', 0.0536), ('c', 0.1015), ('d', 0.056), ('e', 0.0466), ('f', 0.0432), ...] = reference_solution_exercise6([('a', 720), ('b', 536), ('c', 1015), ('d', 560), ('e', 466), ('f', 432), ...])\u001b[0m\n",
      "\u001b[36m\u001b[1m=========================== short test summary info ============================\u001b[0m\n",
      "\u001b[31mFAILED\u001b[0m tutorial/tests/test_functional_programming.py::\u001b[1mtest_exercise6[solution_exercise6]\u001b[0m - AssertionError: assert None == [('a', 0.072), ('b', 0.0536), ('c', 0.1015),...\n",
      "\u001b[31m\u001b[31m\u001b[1m1 failed\u001b[0m\u001b[31m in 0.01s\u001b[0m\u001b[0m\n",
      "\n"
     ]
    },
    {
     "data": {
      "text/html": [
       "<div class=\"alert alert-box alert-danger\"><h4>Tests <strong>FAILED</strong> for the function <code>exercise6</code></h4>&#x1F631 Your solution was not correct!</div>"
      ],
      "text/plain": [
       "<IPython.core.display.HTML object>"
      ]
     },
     "metadata": {},
     "output_type": "display_data"
    }
   ],
   "source": [
    "%%ipytest functional_programming\n",
    "def solution_exercise6(l: \"list[(str, int)]\") -> \"list[(str, float)]\":\n",
    "    pass"
   ]
  },
  {
   "cell_type": "markdown",
   "metadata": {
    "slideshow": {
     "slide_type": "slide"
    }
   },
   "source": [
    "### Exercise 7: Finding palindromes 🌶️🌶️🌶️\n",
    "Consider again the `words` list of strings. Write a function  that returns the list of all *palindromes*. A *palindrome* is a word (any string longer than 1) that reads the same left-to-right and right-to-left;\n",
    "for example:\n",
    "- rotator\n",
    "- wow\n",
    "- noon\n",
    "\n",
    "As usual, the words are available as the input `words` to `solution_exercise7`"
   ]
  },
  {
   "cell_type": "code",
   "execution_count": 8,
   "metadata": {
    "slideshow": {
     "slide_type": "subslide"
    }
   },
   "outputs": [
    {
     "name": "stdout",
     "output_type": "stream",
     "text": [
      "\u001b[31mF\u001b[0m\u001b[31m                                                                        [100%]\u001b[0m\n",
      "=================================== FAILURES ===================================\n",
      "\u001b[31m\u001b[1m______________________ test_exercise7[solution_exercise7] ______________________\u001b[0m\n",
      "\u001b[1m\u001b[31mtutorial/tests/test_functional_programming.py\u001b[0m:92: in test_exercise7\n",
      "    \u001b[94massert\u001b[39;49;00m function_to_test(data) == reference_function_exercise7(data)\u001b[90m\u001b[39;49;00m\n",
      "\u001b[1m\u001b[31mE   AssertionError: assert None == ['a', 'aa', 'aaa', 'ada', 'aka', 'ala', ...]\u001b[0m\n",
      "\u001b[1m\u001b[31mE    +  where None = <function solution_exercise7 at 0x7f96bff81080>(['a', 'aa', 'aaa', 'aaron', 'ab', 'abandoned', ...])\u001b[0m\n",
      "\u001b[1m\u001b[31mE    +  and   ['a', 'aa', 'aaa', 'ada', 'aka', 'ala', ...] = reference_function_exercise7(['a', 'aa', 'aaa', 'aaron', 'ab', 'abandoned', ...])\u001b[0m\n",
      "\u001b[36m\u001b[1m=========================== short test summary info ============================\u001b[0m\n",
      "\u001b[31mFAILED\u001b[0m tutorial/tests/test_functional_programming.py::\u001b[1mtest_exercise7[solution_exercise7]\u001b[0m - AssertionError: assert None == ['a', 'aa', 'aaa', 'ada', 'aka', 'ala', ...]\n",
      "\u001b[31m\u001b[31m\u001b[1m1 failed\u001b[0m\u001b[31m in 0.01s\u001b[0m\u001b[0m\n",
      "\n"
     ]
    },
    {
     "data": {
      "text/html": [
       "<div class=\"alert alert-box alert-danger\"><h4>Tests <strong>FAILED</strong> for the function <code>exercise7</code></h4>&#x1F631 Your solution was not correct!</div>"
      ],
      "text/plain": [
       "<IPython.core.display.HTML object>"
      ]
     },
     "metadata": {},
     "output_type": "display_data"
    }
   ],
   "source": [
    "%%ipytest functional_programming\n",
    "def solution_exercise7(words: \"list[str]\") -> \"list[str]\":\n",
    "    pass\n"
   ]
  },
  {
   "cell_type": "code",
   "execution_count": null,
   "metadata": {},
   "outputs": [],
   "source": []
  }
 ],
 "metadata": {
  "celltoolbar": "Slideshow",
  "kernelspec": {
   "display_name": "Python 3 (ipykernel)",
   "language": "python",
   "name": "python3"
  },
  "language_info": {
   "codemirror_mode": {
    "name": "ipython",
    "version": 3
   },
   "file_extension": ".py",
   "mimetype": "text/x-python",
   "name": "python",
   "nbconvert_exporter": "python",
   "pygments_lexer": "ipython3",
   "version": "3.11.3"
  },
  "vscode": {
   "interpreter": {
    "hash": "2b2b08c237e7c74caf82ad6490346743fce9bd812859047e307c1031e538ab1c"
   }
  }
 },
 "nbformat": 4,
 "nbformat_minor": 2
}
