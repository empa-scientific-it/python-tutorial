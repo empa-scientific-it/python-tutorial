{
 "cells": [
  {
   "attachments": {},
   "cell_type": "markdown",
   "metadata": {},
   "source": [
    "# Functional Programming in Python\n",
    "## Introduction\n",
    "Functional programming is an approach to programming where programs are built by composing and running functions that perform a series of transformation on data. This is in contrast with the common approach of *imperative programming*, where programs are written as series of statements which modify the *state* of the computation environment. Normally within functional programming, great focus is placed on *composability*, *immutability* and  *purity*. We are going to define these terms in more detail later.\n",
    "## Why Functional Programming\n",
    "Why do we choose functional programming? There are a series of advantages to this approach, namely:\n",
    "- **Debugging** and **testing** are easy: there are no surprises because every function only does one thing and does not affect any other piece of the program.\n",
    "- **Parallelisation** is trivial: because functions are just small boxes that take one input and produce an output and do not depend implicitely on other parts of the code, it is easy to make several functions run in parallel.\n",
    "## The basic principles of functional programming\n",
    "All modern programming languages have *functions* (or methods, procedures, subroutines, subprograms); these are groups of program statements that perform a certain computation. Functions are defined once for the whole program and can be reused at will throughout the program whenever we need to perform the specific computation they are defined for. Using functions, we can split our code in smaller units that are only responsible for a specific *functionality*; this helps us structuring our code in a clean and understandable form. \n",
    "### Pure Functions\n",
    "In functional programming, we try to strive for *purity*, that is we want to define and use functions that only depend on their input, always return the same output for the same inputs and do not have any *side effects*, that is they do not indirectly affect any other part of our program. You can think of these functions as mathematical functions. \n",
    "Other examples of side effects are:\n",
    "- printing to the program output\n",
    "- reading or writing files\n",
    "- generating and using random numbers\n",
    "To besser understand this concept, let us look at the function `my_first_pure_function` we defined below:\n"
   ]
  },
  {
   "cell_type": "code",
   "execution_count": 1,
   "metadata": {},
   "outputs": [],
   "source": [
    "def my_first_pure_function(x: int) -> int: \n",
    "    return x + 1"
   ]
  },
  {
   "attachments": {},
   "cell_type": "markdown",
   "metadata": {},
   "source": [
    "&#x1F600\n",
    "Is this a pure function?\n",
    "As you could probably imagine, this function is pure. Any time we run it, we get the same  result and running the function does not affect any other part of our program:"
   ]
  },
  {
   "cell_type": "code",
   "execution_count": 2,
   "metadata": {},
   "outputs": [
    {
     "name": "stdout",
     "output_type": "stream",
     "text": [
      "x is 1\n",
      "The result of calling the function is 2\n",
      "x is 1\n",
      "The result of calling the function is 2\n",
      "x is 1\n"
     ]
    }
   ],
   "source": [
    "x = 1\n",
    "print(f\"x is {x}\")\n",
    "print(f\"The result of calling the function is {my_first_pure_function(1)}\")\n",
    "print(f\"x is {x}\")\n",
    "print(f\"The result of calling the function is {my_first_pure_function(1)}\")\n",
    "print(f\"x is {x}\")"
   ]
  },
  {
   "attachments": {},
   "cell_type": "markdown",
   "metadata": {},
   "source": [
    "As a rule of thumb, any function that does not modify variables outside of its *scope* and only uses mathematical functions is a pure function.\n",
    "Now, consider this function instead:"
   ]
  },
  {
   "cell_type": "code",
   "execution_count": 3,
   "metadata": {},
   "outputs": [],
   "source": [
    "x = [\"short\", \"list\"] \n",
    "def do_something(y: str) -> None:\n",
    "    x.append(y)"
   ]
  },
  {
   "attachments": {},
   "cell_type": "markdown",
   "metadata": {},
   "source": [
    "> &#x1F600 Is this function pure? \n",
    "\n",
    "Let's try and run it. "
   ]
  },
  {
   "cell_type": "code",
   "execution_count": 4,
   "metadata": {},
   "outputs": [
    {
     "name": "stdout",
     "output_type": "stream",
     "text": [
      "['short', 'list']\n",
      "['short', 'list', 'a']\n"
     ]
    }
   ],
   "source": [
    "print(x)\n",
    "do_something(\"a\")\n",
    "print(x)"
   ]
  },
  {
   "attachments": {},
   "cell_type": "markdown",
   "metadata": {},
   "source": [
    "As you see from the output, the function modified the list `x`. Therefore, this function is not pure. This leads us to the next principle, **immutability**.\n",
    "\n",
    "### Immutability\n",
    "When writing programs in functional style, we usually avoid functions like `do_something`. Instead of modifying existing data (*mutation*), you write functions that transform your data and return new objects.\n",
    "In the case of the function above, we would rewrite it as follows:\n"
   ]
  },
  {
   "cell_type": "code",
   "execution_count": 5,
   "metadata": {},
   "outputs": [
    {
     "name": "stdout",
     "output_type": "stream",
     "text": [
      "['short', 'list']\n",
      "['short', 'list', 'a']\n",
      "['short', 'list']\n"
     ]
    }
   ],
   "source": [
    "x = [\"short\", \"list\"] \n",
    "def do_something_immutable(x: list[str], y: str) -> list[str]:\n",
    "    return x + [y]\n",
    "\n",
    "print(x)\n",
    "print(do_something_immutable(x, \"a\"))\n",
    "print(x)"
   ]
  },
  {
   "attachments": {},
   "cell_type": "markdown",
   "metadata": {},
   "source": [
    "The output shows that `do_something_immutable` does not change `x`. It also does not reference to `x` outside of the scope but takes it as an argument. Instead of modfying the original `x` list, it returns a new list. When we want to keep immutability, this is the style we work with."
   ]
  },
  {
   "attachments": {},
   "cell_type": "markdown",
   "metadata": {},
   "source": [
    "### Higher Order Functions / Functions as Values\n",
    "Another important principle of functional programming is that **functions are values**. In programming languages (like python) that support a functional style, we can manipulate functions with the language, we can pass them around in a variable and even use functions as parameters for another function.\n",
    "\n",
    "As an example, consider the function `function_caller`:\n",
    "\n"
   ]
  },
  {
   "cell_type": "code",
   "execution_count": 11,
   "metadata": {},
   "outputs": [],
   "source": [
    "from typing import Callable, Any\n",
    "def function_caller(f: Callable[[Any], Any], arg: Any) -> Any:\n",
    "    print(f\"Calling the function {f} with argument {arg}\")\n",
    "    res = f(arg)\n",
    "    print(f\"The result of the call was {res}\")\n",
    "    return res"
   ]
  },
  {
   "attachments": {},
   "cell_type": "markdown",
   "metadata": {},
   "source": [
    "This function takes a function `f` and its argument `args` as input and return the result of calling the function, while additionally printing a message on the standard output of the program. Let's try this out.\n",
    "To do so, we define a new function `add_five`:"
   ]
  },
  {
   "cell_type": "code",
   "execution_count": 7,
   "metadata": {},
   "outputs": [],
   "source": [
    "def add_five(x: int) -> int:\n",
    "    return x + 5"
   ]
  },
  {
   "attachments": {},
   "cell_type": "markdown",
   "metadata": {},
   "source": [
    "Now we can call `function_caller` with `add_five` and another number as arguments:"
   ]
  },
  {
   "cell_type": "code",
   "execution_count": 13,
   "metadata": {},
   "outputs": [
    {
     "name": "stdout",
     "output_type": "stream",
     "text": [
      "Calling the function <function add_five at 0x7fb68848f1c0> with argument 4\n",
      "The result of the call was 9\n"
     ]
    },
    {
     "data": {
      "text/plain": [
       "9"
      ]
     },
     "execution_count": 13,
     "metadata": {},
     "output_type": "execute_result"
    }
   ],
   "source": [
    "function_caller(add_five, 4)"
   ]
  },
  {
   "attachments": {},
   "cell_type": "markdown",
   "metadata": {},
   "source": [
    "This example was a bit convoluted, but it shows that in python we can use functions as values and even pass them as arguments to other functions.\n",
    "\n",
    "This is actually useful in many cases; a typical example being numerical optimisation, where we want to find the parameters to a function that minimise a certain criteria.\n",
    "\n",
    "Other than these specific use cases, there are some common *higher order functions* (functions that take functions as parameters) that are common in most programming languages. Let's look at some of these in the next paragraph:\n",
    "\n",
    "#### Mapping\n",
    "Python offers the `map` function which can be used to apply a given function to all members of an `iterable`. Do not worry too much about what an `iterable` exactly is, just see it as a generalisation of a list, representing all objects that we can `iterate` over, accessing their values one by one. Let's see an example of `map` using the `add_five` function:"
   ]
  },
  {
   "cell_type": "code",
   "execution_count": 14,
   "metadata": {},
   "outputs": [
    {
     "data": {
      "text/plain": [
       "<map at 0x7fb6884e60e0>"
      ]
     },
     "execution_count": 14,
     "metadata": {},
     "output_type": "execute_result"
    }
   ],
   "source": [
    "map(add_five, [1,2,3,4])"
   ]
  },
  {
   "attachments": {},
   "cell_type": "markdown",
   "metadata": {},
   "source": [
    "The output is a bit confusing! The reason is that `map` does not return a list but a [map](https://docs.python.org/3/library/functions.html#map) object. This object is `lazy`, that means that the values are only generated when we access them, for example by iterating over the `map` object. \n",
    "Fortunately, we can easily convert this into a list by calling the `list` function:"
   ]
  },
  {
   "cell_type": "code",
   "execution_count": 15,
   "metadata": {},
   "outputs": [
    {
     "data": {
      "text/plain": [
       "[6, 7, 8, 9]"
      ]
     },
     "execution_count": 15,
     "metadata": {},
     "output_type": "execute_result"
    }
   ],
   "source": [
    "list(map(add_five, [1,2,3,4]))"
   ]
  },
  {
   "attachments": {},
   "cell_type": "markdown",
   "metadata": {},
   "source": [
    "This is equivalen to using a for loop:\n"
   ]
  },
  {
   "cell_type": "code",
   "execution_count": 16,
   "metadata": {},
   "outputs": [
    {
     "name": "stdout",
     "output_type": "stream",
     "text": [
      "[6, 7, 8, 9]\n"
     ]
    }
   ],
   "source": [
    "a = []\n",
    "for i in [1,2,3,4]:\n",
    "    a.append(add_five(i))\n",
    "print(a)"
   ]
  },
  {
   "attachments": {},
   "cell_type": "markdown",
   "metadata": {},
   "source": [
    "However, as you can see this former style is not very functional because we mutate an existing list `a` by appending the results of calling `add_five` to it. We will see later that python offers a syntax called *list compehrension* to express this operation in a more functional style.\n",
    "`map` is very useful when we want to apply the same functions to a list of parameters and we do not want to write a `for` loop. It makes for more coincise code, while sacrificing some readability. "
   ]
  },
  {
   "attachments": {},
   "cell_type": "markdown",
   "metadata": {},
   "source": [
    "#### Filtering\n",
    "Another basic higher order function is `filter`"
   ]
  },
  {
   "cell_type": "markdown",
   "metadata": {},
   "source": [
    "\n",
    "\n",
    "# Exercises\n",
    "\n",
    "\n",
    "For each of the f"
   ]
  },
  {
   "cell_type": "code",
   "execution_count": null,
   "metadata": {},
   "outputs": [],
   "source": []
  }
 ],
 "metadata": {
  "kernelspec": {
   "display_name": ".env",
   "language": "python",
   "name": "python3"
  },
  "language_info": {
   "codemirror_mode": {
    "name": "ipython",
    "version": 3
   },
   "file_extension": ".py",
   "mimetype": "text/x-python",
   "name": "python",
   "nbconvert_exporter": "python",
   "pygments_lexer": "ipython3",
   "version": "3.10.5"
  },
  "orig_nbformat": 4,
  "vscode": {
   "interpreter": {
    "hash": "5b23e288cb339fd27cbf7c6c27fd1bef901438edaa6bc287ee3005bd465f32cf"
   }
  }
 },
 "nbformat": 4,
 "nbformat_minor": 2
}
