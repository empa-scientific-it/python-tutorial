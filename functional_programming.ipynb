{
 "cells": [
  {
   "attachments": {},
   "cell_type": "markdown",
   "metadata": {},
   "source": [
    "# Functional Programming in Python\n",
    "## Introduction\n",
    "Functional programming is an approach to programming where programs are built by composing and running functions that perform a series of transformation on data. This is in contrast with the common approach of *imperative programming*, where programs are written as series of statements which modify the *state* of the computation environment. Normally within functional programming, great focus is placed on *composability*, *immutability* and  *purity*. We are going to define these terms in more detail later.\n",
    "## Why Functional Programming\n",
    "Why do we choose functional programming? There are a series of advantages to this approach, namely:\n",
    "- **Debugging** and **testing** are easy: there are no surprises because every function only does one thing and does not affect any other piece of the program.\n",
    "- **Parallelisation** is trivial: because functions are just small boxes that take one input and produce an output and do not depend implicitely on other parts of the code, it is easy to make several functions run in parallel.\n",
    "## The basic principles of functional programming\n",
    "All modern programming languages have *functions* (or methods, procedures, subroutines, subprograms); these are groups of program statements that perform a certain computation. Functions are defined once for the whole program and can be reused at will throughout the program whenever we need to perform the specific computation they are defined for. Using functions, we can split our code in smaller units that are only responsible for a specific *functionality*; this helps us structuring our code in a clean and understandable form. \n",
    "### Pure Functions\n",
    "In functional programming, we try to strive for *purity*, that is we want to define and use functions that only depend on their input, always return the same output for the same inputs and do not have any *side effects*, that is they do not indirectly affect any other part of our program. You can think of these functions as mathematical functions. \n",
    "Other examples of side effects are:\n",
    "- printing to the program output\n",
    "- reading or writing files\n",
    "- generating and using random numbers\n",
    "To besser understand this concept, let us look at the function `my_first_pure_function` we defined below:\n"
   ]
  },
  {
   "cell_type": "code",
   "execution_count": 2,
   "metadata": {},
   "outputs": [],
   "source": [
    "def my_first_pure_function(x: int) -> int: \n",
    "    return x + 1"
   ]
  },
  {
   "attachments": {},
   "cell_type": "markdown",
   "metadata": {},
   "source": [
    "&#x1F600\n",
    "Is this a pure function?\n",
    "As you could probably imagine, this function is pure. Any time we run it, we get the same  result and running the function does not affect any other part of our program:"
   ]
  },
  {
   "cell_type": "code",
   "execution_count": 3,
   "metadata": {},
   "outputs": [
    {
     "name": "stdout",
     "output_type": "stream",
     "text": [
      "x is 1\n",
      "The result of calling the function is 2\n",
      "x is 1\n",
      "The result of calling the function is 2\n",
      "x is 1\n"
     ]
    }
   ],
   "source": [
    "x = 1\n",
    "print(f\"x is {x}\")\n",
    "print(f\"The result of calling the function is {my_first_pure_function(1)}\")\n",
    "print(f\"x is {x}\")\n",
    "print(f\"The result of calling the function is {my_first_pure_function(1)}\")\n",
    "print(f\"x is {x}\")"
   ]
  },
  {
   "attachments": {},
   "cell_type": "markdown",
   "metadata": {},
   "source": [
    "As a rule of thumb, any function that does not modify variables outside of its *scope* and only uses mathematical functions is a pure function.\n",
    "Now, consider this function instead:"
   ]
  },
  {
   "cell_type": "code",
   "execution_count": 4,
   "metadata": {},
   "outputs": [],
   "source": [
    "x = [\"short\", \"list\"] \n",
    "def do_something(y: str) -> None:\n",
    "    x.append(y)"
   ]
  },
  {
   "attachments": {},
   "cell_type": "markdown",
   "metadata": {},
   "source": [
    "&#x1F600\n",
    "Is this function pure? Let's try and run it. "
   ]
  },
  {
   "cell_type": "code",
   "execution_count": 5,
   "metadata": {},
   "outputs": [
    {
     "name": "stdout",
     "output_type": "stream",
     "text": [
      "['short', 'list']\n",
      "['short', 'list', 'a']\n"
     ]
    }
   ],
   "source": [
    "print(x)\n",
    "do_something(\"a\")\n",
    "print(x)"
   ]
  },
  {
   "attachments": {},
   "cell_type": "markdown",
   "metadata": {},
   "source": [
    "As you see from the output, the function modified the list `x`. Therefore, this function is not pure. This leads us to the next principle, **immutability**.\n",
    "\n",
    "### Immutability\n",
    "When writing programs in functional style, we usually avoid functions like `do_something`. Instead of modifying existing data (*mutation*), you write functions that transform your data and return new objects.\n",
    "In the case of the function above, we would rewrite it as follows:\n"
   ]
  },
  {
   "cell_type": "code",
   "execution_count": 9,
   "metadata": {},
   "outputs": [
    {
     "name": "stdout",
     "output_type": "stream",
     "text": [
      "['short', 'list']\n",
      "['short', 'list', 'a']\n",
      "['short', 'list']\n"
     ]
    }
   ],
   "source": [
    "x = [\"short\", \"list\"] \n",
    "def do_something_immutable(x: list[str], y: str) -> list[str]:\n",
    "    return x + [y]\n",
    "\n",
    "print(x)\n",
    "print(do_something_immutable(x, \"a\"))\n",
    "print(x)"
   ]
  },
  {
   "attachments": {},
   "cell_type": "markdown",
   "metadata": {},
   "source": [
    "The output shows that `do_something_immutable` does not change `x`. It also does not reference to `x` outside of the scope but takes it as an argument. Instead of modfying the original `x` list, it returns a new list. When we want to keep immutability, this is the style we work with."
   ]
  },
  {
   "attachments": {},
   "cell_type": "markdown",
   "metadata": {},
   "source": [
    "### Higher Order Functions\n",
    "Another important principle of functional programming is that **functions are values**. In programming languages (like python) that support a functional style, we can manipulate functions with the language, we can pass them around in a variable and even use functions as parameters for another function.\n",
    "\n",
    "\n",
    "\n",
    "\n",
    "# Exercises\n",
    "\n",
    "\n",
    "For each of the f"
   ]
  }
 ],
 "metadata": {
  "kernelspec": {
   "display_name": ".env",
   "language": "python",
   "name": "python3"
  },
  "language_info": {
   "codemirror_mode": {
    "name": "ipython",
    "version": 3
   },
   "file_extension": ".py",
   "mimetype": "text/x-python",
   "name": "python",
   "nbconvert_exporter": "python",
   "pygments_lexer": "ipython3",
   "version": "3.10.5"
  },
  "orig_nbformat": 4,
  "vscode": {
   "interpreter": {
    "hash": "5b23e288cb339fd27cbf7c6c27fd1bef901438edaa6bc287ee3005bd465f32cf"
   }
  }
 },
 "nbformat": 4,
 "nbformat_minor": 2
}
